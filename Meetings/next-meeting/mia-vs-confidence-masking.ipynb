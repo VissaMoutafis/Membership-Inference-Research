{
  "cells": [
    {
      "cell_type": "markdown",
      "id": "5594afcc",
      "metadata": {
        "id": "5594afcc",
        "papermill": {
          "duration": 0.045591,
          "end_time": "2022-05-07T15:47:39.197082",
          "exception": false,
          "start_time": "2022-05-07T15:47:39.151491",
          "status": "completed"
        },
        "tags": []
      },
      "source": [
        "# MIA vs Overfitting\n",
        "\n",
        "In this notebook we will study the effect of overfitting in MIA's performance, given a CNN model, CIFAR-10 dataset and a MIA framework that will perfrom the attacks for us."
      ]
    },
    {
      "cell_type": "code",
      "execution_count": null,
      "id": "b107766b",
      "metadata": {
        "execution": {
          "iopub.execute_input": "2022-05-07T15:47:39.261240Z",
          "iopub.status.busy": "2022-05-07T15:47:39.260657Z",
          "iopub.status.idle": "2022-05-07T15:48:02.951716Z",
          "shell.execute_reply": "2022-05-07T15:48:02.950178Z"
        },
        "id": "b107766b",
        "outputId": "e7c0ef28-38f6-437a-8cb9-2deee75fddc9",
        "papermill": {
          "duration": 23.723309,
          "end_time": "2022-05-07T15:48:02.954560",
          "exception": false,
          "start_time": "2022-05-07T15:47:39.231251",
          "status": "completed"
        },
        "tags": [],
        "colab": {
          "base_uri": "https://localhost:8080/"
        }
      },
      "outputs": [
        {
          "output_type": "stream",
          "name": "stdout",
          "text": [
            "Requirement already satisfied: hiplot in /usr/local/lib/python3.7/dist-packages (0.1.32)\n",
            "Requirement already satisfied: beautifulsoup4 in /usr/local/lib/python3.7/dist-packages (from hiplot) (4.6.3)\n",
            "Requirement already satisfied: ipython>=7.0.1 in /usr/local/lib/python3.7/dist-packages (from hiplot) (7.33.0)\n",
            "Requirement already satisfied: flask-compress in /usr/local/lib/python3.7/dist-packages (from hiplot) (1.12)\n",
            "Requirement already satisfied: flask in /usr/local/lib/python3.7/dist-packages (from hiplot) (1.1.4)\n",
            "Requirement already satisfied: prompt-toolkit!=3.0.0,!=3.0.1,<3.1.0,>=2.0.0 in /usr/local/lib/python3.7/dist-packages (from ipython>=7.0.1->hiplot) (3.0.29)\n",
            "Requirement already satisfied: pexpect>4.3 in /usr/local/lib/python3.7/dist-packages (from ipython>=7.0.1->hiplot) (4.8.0)\n",
            "Requirement already satisfied: decorator in /usr/local/lib/python3.7/dist-packages (from ipython>=7.0.1->hiplot) (4.4.2)\n",
            "Requirement already satisfied: jedi>=0.16 in /usr/local/lib/python3.7/dist-packages (from ipython>=7.0.1->hiplot) (0.18.1)\n",
            "Requirement already satisfied: pygments in /usr/local/lib/python3.7/dist-packages (from ipython>=7.0.1->hiplot) (2.6.1)\n",
            "Requirement already satisfied: backcall in /usr/local/lib/python3.7/dist-packages (from ipython>=7.0.1->hiplot) (0.2.0)\n",
            "Requirement already satisfied: setuptools>=18.5 in /usr/local/lib/python3.7/dist-packages (from ipython>=7.0.1->hiplot) (57.4.0)\n",
            "Requirement already satisfied: matplotlib-inline in /usr/local/lib/python3.7/dist-packages (from ipython>=7.0.1->hiplot) (0.1.3)\n",
            "Requirement already satisfied: traitlets>=4.2 in /usr/local/lib/python3.7/dist-packages (from ipython>=7.0.1->hiplot) (5.1.1)\n",
            "Requirement already satisfied: pickleshare in /usr/local/lib/python3.7/dist-packages (from ipython>=7.0.1->hiplot) (0.7.5)\n",
            "Requirement already satisfied: parso<0.9.0,>=0.8.0 in /usr/local/lib/python3.7/dist-packages (from jedi>=0.16->ipython>=7.0.1->hiplot) (0.8.3)\n",
            "Requirement already satisfied: ptyprocess>=0.5 in /usr/local/lib/python3.7/dist-packages (from pexpect>4.3->ipython>=7.0.1->hiplot) (0.7.0)\n",
            "Requirement already satisfied: wcwidth in /usr/local/lib/python3.7/dist-packages (from prompt-toolkit!=3.0.0,!=3.0.1,<3.1.0,>=2.0.0->ipython>=7.0.1->hiplot) (0.2.5)\n",
            "Requirement already satisfied: click<8.0,>=5.1 in /usr/local/lib/python3.7/dist-packages (from flask->hiplot) (7.1.2)\n",
            "Requirement already satisfied: Werkzeug<2.0,>=0.15 in /usr/local/lib/python3.7/dist-packages (from flask->hiplot) (1.0.1)\n",
            "Requirement already satisfied: itsdangerous<2.0,>=0.24 in /usr/local/lib/python3.7/dist-packages (from flask->hiplot) (1.1.0)\n",
            "Requirement already satisfied: Jinja2<3.0,>=2.10.1 in /usr/local/lib/python3.7/dist-packages (from flask->hiplot) (2.11.3)\n",
            "Requirement already satisfied: MarkupSafe>=0.23 in /usr/local/lib/python3.7/dist-packages (from Jinja2<3.0,>=2.10.1->flask->hiplot) (2.0.1)\n",
            "Requirement already satisfied: brotli in /usr/local/lib/python3.7/dist-packages (from flask-compress->hiplot) (1.0.9)\n",
            "cp: cannot stat '../input/mia-v2': No such file or directory\n",
            "Num GPUs Available:  1\n"
          ]
        }
      ],
      "source": [
        "!pip install hiplot \n",
        "import numpy as np\n",
        "import matplotlib.pyplot as plt\n",
        "import hiplot as hip\n",
        "from itertools import product \n",
        "\n",
        "import math\n",
        "import tensorflow as tf\n",
        "from tensorflow.keras.callbacks import EarlyStopping\n",
        "from tensorflow.keras import datasets, layers, models\n",
        "from sklearn.model_selection import train_test_split\n",
        "from tensorflow import keras\n",
        "from tensorflow.keras import regularizers\n",
        "\n",
        "# for image interpolation\n",
        "import scipy.ndimage.interpolation as interpolation\n",
        "\n",
        "from sklearn.metrics import roc_auc_score, roc_curve\n",
        "from sklearn.metrics import classification_report\n",
        "\n",
        "!cp ../input/mia-v2 mia_v2 -r\n",
        "from mia_v2.attack_model import *\n",
        "from mia_v2.label_only import *\n",
        "from mia_v2.shadow_models import *\n",
        "from mia_v2.utilities import *\n",
        "from mia_v2.confidence_masking import *\n",
        "from mia_v2.wrappers import ConfidenceVectorAttack, LabelOnlyAttack, TopKConfidenceMaskingAttack\n",
        "from tqdm.notebook import tqdm\n",
        "import sys\n",
        "print(\"Num GPUs Available: \", len(tf.config.list_physical_devices('GPU')))\n"
      ]
    },
    {
      "cell_type": "code",
      "execution_count": null,
      "id": "c2eed88a",
      "metadata": {
        "execution": {
          "iopub.execute_input": "2022-05-07T15:48:03.011076Z",
          "iopub.status.busy": "2022-05-07T15:48:03.010740Z",
          "iopub.status.idle": "2022-05-07T15:48:03.027854Z",
          "shell.execute_reply": "2022-05-07T15:48:03.026645Z"
        },
        "id": "c2eed88a",
        "papermill": {
          "duration": 0.047632,
          "end_time": "2022-05-07T15:48:03.030317",
          "exception": false,
          "start_time": "2022-05-07T15:48:02.982685",
          "status": "completed"
        },
        "tags": []
      },
      "outputs": [],
      "source": [
        "def f_target(X_train, y_train, X_test, y_test, top_k, epochs=100):\n",
        "  \"\"\"\n",
        "  Returns a trained target model, if test data are specified we will evaluate the model and print its accuracy\n",
        "  \"\"\"\n",
        "  model = TopKConfidenceMaskingModel(top_k)\n",
        "  model.add(layers.Conv2D(32, (3, 3), activation='tanh', input_shape=(32, 32, 3)))\n",
        "  model.add(layers.MaxPooling2D((2, 2)))\n",
        "  model.add(layers.Conv2D(64, (3, 3), activation='tanh'))\n",
        "  model.add(layers.MaxPooling2D((2, 2)))\n",
        "\n",
        "\n",
        "  model.add(layers.Flatten())\n",
        "  model.add(layers.Dense(128, activation='relu'))\n",
        "\n",
        "  model.add(layers.Dense(10))\n",
        "  \n",
        "  optimizer = keras.optimizers.Adam()\n",
        "\n",
        "  model.compile(optimizer=optimizer,\n",
        "              loss=tf.keras.losses.SparseCategoricalCrossentropy(from_logits=True),\n",
        "              metrics=['accuracy'])\n",
        "  es = EarlyStopping(monitor='val_loss', mode='min', min_delta=1e-4, patience=5)\n",
        "  history = model.fit(X_train, y_train, \n",
        "                      epochs=epochs, \n",
        "                      validation_set=(X_test, y_test),\n",
        "                      callbacks=[es]\n",
        "                      )\n",
        "  return model, history"
      ]
    },
    {
      "cell_type": "code",
      "execution_count": null,
      "id": "cd3bb782",
      "metadata": {
        "execution": {
          "iopub.execute_input": "2022-05-07T15:48:13.228419Z",
          "iopub.status.busy": "2022-05-07T15:48:13.228087Z",
          "iopub.status.idle": "2022-05-07T15:48:13.236517Z",
          "shell.execute_reply": "2022-05-07T15:48:13.235495Z"
        },
        "id": "cd3bb782",
        "papermill": {
          "duration": 0.078674,
          "end_time": "2022-05-07T15:48:13.239190",
          "exception": false,
          "start_time": "2022-05-07T15:48:13.160516",
          "status": "completed"
        },
        "tags": []
      },
      "outputs": [],
      "source": [
        "def f_shadow(top_k):\n",
        "  model = TopKConfidenceMaskingModel(top_k)\n",
        "  model.add(layers.Conv2D(32, (3, 3), activation='tanh', input_shape=(32, 32, 3)))\n",
        "  model.add(layers.MaxPooling2D((2, 2)))\n",
        "  model.add(layers.Conv2D(64, (3, 3), activation='tanh'))\n",
        "  model.add(layers.MaxPooling2D((2, 2)))\n",
        "\n",
        "\n",
        "  model.add(layers.Flatten())\n",
        "  model.add(layers.Dense(128, activation='relu'))\n",
        "\n",
        "  model.add(layers.Dense(10))\n",
        "  \n",
        "  optimizer = keras.optimizers.Adam()\n",
        "\n",
        "  model.compile(optimizer=optimizer,\n",
        "              loss=tf.keras.losses.SparseCategoricalCrossentropy(from_logits=True),\n",
        "              metrics=['accuracy'])\n",
        "  return model"
      ]
    },
    {
      "cell_type": "code",
      "execution_count": null,
      "id": "741f0bb8",
      "metadata": {
        "execution": {
          "iopub.execute_input": "2022-05-07T15:48:03.083283Z",
          "iopub.status.busy": "2022-05-07T15:48:03.082275Z",
          "iopub.status.idle": "2022-05-07T15:48:12.371301Z",
          "shell.execute_reply": "2022-05-07T15:48:12.370189Z"
        },
        "id": "741f0bb8",
        "papermill": {
          "duration": 9.31949,
          "end_time": "2022-05-07T15:48:12.375178",
          "exception": false,
          "start_time": "2022-05-07T15:48:03.055688",
          "status": "completed"
        },
        "tags": []
      },
      "outputs": [],
      "source": [
        "(train_images, train_labels), (test_images, test_labels) = datasets.cifar10.load_data()\n",
        "train_images = train_images/255\n",
        "test_images = test_images/255"
      ]
    },
    {
      "cell_type": "code",
      "execution_count": null,
      "id": "d74e7bcf",
      "metadata": {
        "execution": {
          "iopub.execute_input": "2022-05-07T15:48:12.613627Z",
          "iopub.status.busy": "2022-05-07T15:48:12.613127Z",
          "iopub.status.idle": "2022-05-07T15:48:12.621245Z",
          "shell.execute_reply": "2022-05-07T15:48:12.619876Z"
        },
        "id": "d74e7bcf",
        "outputId": "fb5eba37-eaea-4f01-8f23-bb2b4034c4be",
        "papermill": {
          "duration": 0.131348,
          "end_time": "2022-05-07T15:48:12.627341",
          "exception": false,
          "start_time": "2022-05-07T15:48:12.495993",
          "status": "completed"
        },
        "tags": [],
        "colab": {
          "base_uri": "https://localhost:8080/"
        }
      },
      "outputs": [
        {
          "output_type": "stream",
          "name": "stdout",
          "text": [
            "We have 50000 train instances and 10000 test instances.\n"
          ]
        }
      ],
      "source": [
        "print(f\"We have {len(train_images)} train instances and {len(test_images)} test instances.\")"
      ]
    },
    {
      "cell_type": "markdown",
      "id": "4529248b",
      "metadata": {
        "id": "4529248b",
        "papermill": {
          "duration": 0.087966,
          "end_time": "2022-05-07T15:48:12.832221",
          "exception": false,
          "start_time": "2022-05-07T15:48:12.744255",
          "status": "completed"
        },
        "tags": []
      },
      "source": [
        "Let us give the attacker 10000 data points and let the rest of them be training-evaluation-testing datapoints for the target model."
      ]
    },
    {
      "cell_type": "code",
      "execution_count": null,
      "id": "e6a7b0e6",
      "metadata": {
        "execution": {
          "iopub.execute_input": "2022-05-07T15:48:13.084977Z",
          "iopub.status.busy": "2022-05-07T15:48:13.084593Z",
          "iopub.status.idle": "2022-05-07T15:48:13.089973Z",
          "shell.execute_reply": "2022-05-07T15:48:13.088807Z"
        },
        "id": "e6a7b0e6",
        "papermill": {
          "duration": 0.134664,
          "end_time": "2022-05-07T15:48:13.092330",
          "exception": false,
          "start_time": "2022-05-07T15:48:12.957666",
          "status": "completed"
        },
        "tags": []
      },
      "outputs": [],
      "source": [
        "attacker_images, attacker_labels = (test_images, test_labels)"
      ]
    },
    {
      "cell_type": "code",
      "source": [
        "N_SHADOWS = [1, 5, 10, 20]\n",
        "D_SHADOW= [2500, 5000, 7500]\n",
        "D_TARGET = [2500, 5000, 7500, 10000]\n",
        "TOP_K = [10, 8, 5, 2, 1]\n",
        "TEST_SET_SIZE = 0.3"
      ],
      "metadata": {
        "id": "06HwfrmfKGfw"
      },
      "id": "06HwfrmfKGfw",
      "execution_count": null,
      "outputs": []
    },
    {
      "cell_type": "code",
      "source": [
        "prec = []\n",
        "rec = []\n",
        "acc = []\n",
        "auc = []\n",
        "model_vuln = []\n",
        "\n",
        "config = {}\n",
        "for top_k in TOP_K:\n",
        "  config['#pred-classes'] = top_k\n",
        "  for d_target in D_TARGET:\n",
        "    config['D_target'] = d_target\n",
        "    d_total = int(d_target//TEST_SET_SIZE + 1)\n",
        "    target_images, target_labels = train_images[:d_total], train_labels[:d_total]\n",
        "    X_train, X_test, y_train, y_test = train_test_split(target_images, target_labels, test_size=TEST_SET_SIZE)\n",
        "    # train target model \n",
        "    target_model, h = f_target(X_train, y_train, X_test, y_test, top_k)\n",
        "\n",
        "    for attack_settings in product(N_SHADOWS, D_SHADOW):\n",
        "      # set up settings\n",
        "      n_shadows, d_shadow_size = attack_settings\n",
        "      d_shadow_total = int(d_shadow_size//TEST_SET_SIZE + 1)\n",
        "      attack = TopKConfidenceMaskingAttack(target_model, (train_images, train_labels), \n",
        "                                (attacker_images, attacker_labels), top_k, \n",
        "                                shadow_creator=f_shadow, shd_crt_args={'top_k':top_k},\n",
        "                                attack_model_creator=cifar_10_f_attack_builder,\n",
        "                                n_shadows=N_SHADOWS, D_shadow_size=D_SHADOW, verbose=False)\n",
        "\n",
        "      es = EarlyStopping(monitor='val_loss', mode='min', min_delta=1e-4, patience=5)\n",
        "      attack.perform_attack(shadow={'epochs':100, 'batch_size':128, 'callbacks':[es]}, attack={'epochs':50, 'batch_size':128})\n",
        "      score_ = attack.evaluate_attack()\n",
        "\n",
        "      \n",
        "      auc.append({**config, 'AUC Score' : score_[1]\n",
        "      })\n",
        "      rec.append({**config, 'Recall' : score_[0]['macro avg']['recall']\n",
        "      })\n",
        "      prec.append({**config, 'Precision' : score_[0]['macro avg']['precision']\n",
        "      })\n",
        "      \n"
      ],
      "metadata": {
        "colab": {
          "base_uri": "https://localhost:8080/",
          "height": 400
        },
        "id": "4lwkANG2LC6k",
        "outputId": "90a4b43c-ecd6-435f-ff87-56f3885d6f3e"
      },
      "id": "4lwkANG2LC6k",
      "execution_count": null,
      "outputs": [
        {
          "output_type": "error",
          "ename": "AttributeError",
          "evalue": "ignored",
          "traceback": [
            "\u001b[0;31m---------------------------------------------------------------------------\u001b[0m",
            "\u001b[0;31mAttributeError\u001b[0m                            Traceback (most recent call last)",
            "\u001b[0;32m<ipython-input-17-88736fbfd06c>\u001b[0m in \u001b[0;36m<module>\u001b[0;34m\u001b[0m\n\u001b[1;32m     14\u001b[0m     \u001b[0mX_train\u001b[0m\u001b[0;34m,\u001b[0m \u001b[0mX_test\u001b[0m\u001b[0;34m,\u001b[0m \u001b[0my_train\u001b[0m\u001b[0;34m,\u001b[0m \u001b[0my_test\u001b[0m \u001b[0;34m=\u001b[0m \u001b[0mtrain_test_split\u001b[0m\u001b[0;34m(\u001b[0m\u001b[0mtarget_images\u001b[0m\u001b[0;34m,\u001b[0m \u001b[0mtarget_labels\u001b[0m\u001b[0;34m,\u001b[0m \u001b[0mtest_size\u001b[0m\u001b[0;34m=\u001b[0m\u001b[0mTEST_SET_SIZE\u001b[0m\u001b[0;34m)\u001b[0m\u001b[0;34m\u001b[0m\u001b[0;34m\u001b[0m\u001b[0m\n\u001b[1;32m     15\u001b[0m     \u001b[0;31m# train target model\u001b[0m\u001b[0;34m\u001b[0m\u001b[0;34m\u001b[0m\u001b[0;34m\u001b[0m\u001b[0m\n\u001b[0;32m---> 16\u001b[0;31m     \u001b[0mtarget_model\u001b[0m\u001b[0;34m,\u001b[0m \u001b[0mh\u001b[0m \u001b[0;34m=\u001b[0m \u001b[0mf_target\u001b[0m\u001b[0;34m(\u001b[0m\u001b[0mX_train\u001b[0m\u001b[0;34m,\u001b[0m \u001b[0my_train\u001b[0m\u001b[0;34m,\u001b[0m \u001b[0mX_test\u001b[0m\u001b[0;34m,\u001b[0m \u001b[0my_test\u001b[0m\u001b[0;34m,\u001b[0m \u001b[0mtop_k\u001b[0m\u001b[0;34m)\u001b[0m\u001b[0;34m\u001b[0m\u001b[0;34m\u001b[0m\u001b[0m\n\u001b[0m\u001b[1;32m     17\u001b[0m \u001b[0;34m\u001b[0m\u001b[0m\n\u001b[1;32m     18\u001b[0m     \u001b[0;32mfor\u001b[0m \u001b[0mattack_settings\u001b[0m \u001b[0;32min\u001b[0m \u001b[0mproduct\u001b[0m\u001b[0;34m(\u001b[0m\u001b[0mN_SHADOWS\u001b[0m\u001b[0;34m,\u001b[0m \u001b[0mD_SHADOW\u001b[0m\u001b[0;34m)\u001b[0m\u001b[0;34m:\u001b[0m\u001b[0;34m\u001b[0m\u001b[0;34m\u001b[0m\u001b[0m\n",
            "\u001b[0;32m<ipython-input-11-5af4d96a0474>\u001b[0m in \u001b[0;36mf_target\u001b[0;34m(X_train, y_train, X_test, y_test, top_k, epochs)\u001b[0m\n\u001b[1;32m      4\u001b[0m   \"\"\"\n\u001b[1;32m      5\u001b[0m   \u001b[0mmodel\u001b[0m \u001b[0;34m=\u001b[0m \u001b[0mTopKConfidenceMaskingModel\u001b[0m\u001b[0;34m(\u001b[0m\u001b[0mtop_k\u001b[0m\u001b[0;34m)\u001b[0m\u001b[0;34m\u001b[0m\u001b[0;34m\u001b[0m\u001b[0m\n\u001b[0;32m----> 6\u001b[0;31m   \u001b[0mmodel\u001b[0m\u001b[0;34m.\u001b[0m\u001b[0madd\u001b[0m\u001b[0;34m(\u001b[0m\u001b[0mlayers\u001b[0m\u001b[0;34m.\u001b[0m\u001b[0mConv2D\u001b[0m\u001b[0;34m(\u001b[0m\u001b[0;36m32\u001b[0m\u001b[0;34m,\u001b[0m \u001b[0;34m(\u001b[0m\u001b[0;36m3\u001b[0m\u001b[0;34m,\u001b[0m \u001b[0;36m3\u001b[0m\u001b[0;34m)\u001b[0m\u001b[0;34m,\u001b[0m \u001b[0mactivation\u001b[0m\u001b[0;34m=\u001b[0m\u001b[0;34m'tanh'\u001b[0m\u001b[0;34m,\u001b[0m \u001b[0minput_shape\u001b[0m\u001b[0;34m=\u001b[0m\u001b[0;34m(\u001b[0m\u001b[0;36m32\u001b[0m\u001b[0;34m,\u001b[0m \u001b[0;36m32\u001b[0m\u001b[0;34m,\u001b[0m \u001b[0;36m3\u001b[0m\u001b[0;34m)\u001b[0m\u001b[0;34m)\u001b[0m\u001b[0;34m)\u001b[0m\u001b[0;34m\u001b[0m\u001b[0;34m\u001b[0m\u001b[0m\n\u001b[0m\u001b[1;32m      7\u001b[0m   \u001b[0mmodel\u001b[0m\u001b[0;34m.\u001b[0m\u001b[0madd\u001b[0m\u001b[0;34m(\u001b[0m\u001b[0mlayers\u001b[0m\u001b[0;34m.\u001b[0m\u001b[0mMaxPooling2D\u001b[0m\u001b[0;34m(\u001b[0m\u001b[0;34m(\u001b[0m\u001b[0;36m2\u001b[0m\u001b[0;34m,\u001b[0m \u001b[0;36m2\u001b[0m\u001b[0;34m)\u001b[0m\u001b[0;34m)\u001b[0m\u001b[0;34m)\u001b[0m\u001b[0;34m\u001b[0m\u001b[0;34m\u001b[0m\u001b[0m\n\u001b[1;32m      8\u001b[0m   \u001b[0mmodel\u001b[0m\u001b[0;34m.\u001b[0m\u001b[0madd\u001b[0m\u001b[0;34m(\u001b[0m\u001b[0mlayers\u001b[0m\u001b[0;34m.\u001b[0m\u001b[0mConv2D\u001b[0m\u001b[0;34m(\u001b[0m\u001b[0;36m64\u001b[0m\u001b[0;34m,\u001b[0m \u001b[0;34m(\u001b[0m\u001b[0;36m3\u001b[0m\u001b[0;34m,\u001b[0m \u001b[0;36m3\u001b[0m\u001b[0;34m)\u001b[0m\u001b[0;34m,\u001b[0m \u001b[0mactivation\u001b[0m\u001b[0;34m=\u001b[0m\u001b[0;34m'tanh'\u001b[0m\u001b[0;34m)\u001b[0m\u001b[0;34m)\u001b[0m\u001b[0;34m\u001b[0m\u001b[0;34m\u001b[0m\u001b[0m\n",
            "\u001b[0;32m/usr/local/lib/python3.7/dist-packages/tensorflow/python/training/tracking/base.py\u001b[0m in \u001b[0;36m_method_wrapper\u001b[0;34m(self, *args, **kwargs)\u001b[0m\n\u001b[1;32m    627\u001b[0m     \u001b[0mself\u001b[0m\u001b[0;34m.\u001b[0m\u001b[0m_self_setattr_tracking\u001b[0m \u001b[0;34m=\u001b[0m \u001b[0;32mFalse\u001b[0m  \u001b[0;31m# pylint: disable=protected-access\u001b[0m\u001b[0;34m\u001b[0m\u001b[0;34m\u001b[0m\u001b[0m\n\u001b[1;32m    628\u001b[0m     \u001b[0;32mtry\u001b[0m\u001b[0;34m:\u001b[0m\u001b[0;34m\u001b[0m\u001b[0;34m\u001b[0m\u001b[0m\n\u001b[0;32m--> 629\u001b[0;31m       \u001b[0mresult\u001b[0m \u001b[0;34m=\u001b[0m \u001b[0mmethod\u001b[0m\u001b[0;34m(\u001b[0m\u001b[0mself\u001b[0m\u001b[0;34m,\u001b[0m \u001b[0;34m*\u001b[0m\u001b[0margs\u001b[0m\u001b[0;34m,\u001b[0m \u001b[0;34m**\u001b[0m\u001b[0mkwargs\u001b[0m\u001b[0;34m)\u001b[0m\u001b[0;34m\u001b[0m\u001b[0;34m\u001b[0m\u001b[0m\n\u001b[0m\u001b[1;32m    630\u001b[0m     \u001b[0;32mfinally\u001b[0m\u001b[0;34m:\u001b[0m\u001b[0;34m\u001b[0m\u001b[0;34m\u001b[0m\u001b[0m\n\u001b[1;32m    631\u001b[0m       \u001b[0mself\u001b[0m\u001b[0;34m.\u001b[0m\u001b[0m_self_setattr_tracking\u001b[0m \u001b[0;34m=\u001b[0m \u001b[0mprevious_value\u001b[0m  \u001b[0;31m# pylint: disable=protected-access\u001b[0m\u001b[0;34m\u001b[0m\u001b[0;34m\u001b[0m\u001b[0m\n",
            "\u001b[0;32m/usr/local/lib/python3.7/dist-packages/keras/utils/traceback_utils.py\u001b[0m in \u001b[0;36merror_handler\u001b[0;34m(*args, **kwargs)\u001b[0m\n\u001b[1;32m     65\u001b[0m     \u001b[0;32mexcept\u001b[0m \u001b[0mException\u001b[0m \u001b[0;32mas\u001b[0m \u001b[0me\u001b[0m\u001b[0;34m:\u001b[0m  \u001b[0;31m# pylint: disable=broad-except\u001b[0m\u001b[0;34m\u001b[0m\u001b[0;34m\u001b[0m\u001b[0m\n\u001b[1;32m     66\u001b[0m       \u001b[0mfiltered_tb\u001b[0m \u001b[0;34m=\u001b[0m \u001b[0m_process_traceback_frames\u001b[0m\u001b[0;34m(\u001b[0m\u001b[0me\u001b[0m\u001b[0;34m.\u001b[0m\u001b[0m__traceback__\u001b[0m\u001b[0;34m)\u001b[0m\u001b[0;34m\u001b[0m\u001b[0;34m\u001b[0m\u001b[0m\n\u001b[0;32m---> 67\u001b[0;31m       \u001b[0;32mraise\u001b[0m \u001b[0me\u001b[0m\u001b[0;34m.\u001b[0m\u001b[0mwith_traceback\u001b[0m\u001b[0;34m(\u001b[0m\u001b[0mfiltered_tb\u001b[0m\u001b[0;34m)\u001b[0m \u001b[0;32mfrom\u001b[0m \u001b[0;32mNone\u001b[0m\u001b[0;34m\u001b[0m\u001b[0;34m\u001b[0m\u001b[0m\n\u001b[0m\u001b[1;32m     68\u001b[0m     \u001b[0;32mfinally\u001b[0m\u001b[0;34m:\u001b[0m\u001b[0;34m\u001b[0m\u001b[0;34m\u001b[0m\u001b[0m\n\u001b[1;32m     69\u001b[0m       \u001b[0;32mdel\u001b[0m \u001b[0mfiltered_tb\u001b[0m\u001b[0;34m\u001b[0m\u001b[0;34m\u001b[0m\u001b[0m\n",
            "\u001b[0;32m/usr/local/lib/python3.7/dist-packages/keras/engine/training.py\u001b[0m in \u001b[0;36m_set_save_spec\u001b[0;34m(self, inputs, args, kwargs)\u001b[0m\n\u001b[1;32m   2846\u001b[0m       \u001b[0mkwargs\u001b[0m\u001b[0;34m:\u001b[0m \u001b[0ma\u001b[0m \u001b[0mdictionary\u001b[0m \u001b[0mof\u001b[0m \u001b[0mkeyword\u001b[0m \u001b[0marguments\u001b[0m \u001b[0mpassed\u001b[0m \u001b[0minto\u001b[0m \u001b[0mcall\u001b[0m\u001b[0;34m.\u001b[0m\u001b[0;34m\u001b[0m\u001b[0;34m\u001b[0m\u001b[0m\n\u001b[1;32m   2847\u001b[0m     \"\"\"\n\u001b[0;32m-> 2848\u001b[0;31m     \u001b[0;32mif\u001b[0m \u001b[0mself\u001b[0m\u001b[0;34m.\u001b[0m\u001b[0m_saved_model_inputs_spec\u001b[0m \u001b[0;32mis\u001b[0m \u001b[0;32mnot\u001b[0m \u001b[0;32mNone\u001b[0m\u001b[0;34m:\u001b[0m\u001b[0;34m\u001b[0m\u001b[0;34m\u001b[0m\u001b[0m\n\u001b[0m\u001b[1;32m   2849\u001b[0m       \u001b[0;32mreturn\u001b[0m  \u001b[0;31m# Already set.\u001b[0m\u001b[0;34m\u001b[0m\u001b[0;34m\u001b[0m\u001b[0m\n\u001b[1;32m   2850\u001b[0m     \u001b[0margs\u001b[0m \u001b[0;34m=\u001b[0m \u001b[0margs\u001b[0m \u001b[0;32mor\u001b[0m \u001b[0;34m[\u001b[0m\u001b[0;34m]\u001b[0m\u001b[0;34m\u001b[0m\u001b[0;34m\u001b[0m\u001b[0m\n",
            "\u001b[0;31mAttributeError\u001b[0m: 'TopKConfidenceMaskingModel' object has no attribute '_saved_model_inputs_spec'"
          ]
        }
      ]
    },
    {
      "cell_type": "code",
      "execution_count": null,
      "id": "aa04df50",
      "metadata": {
        "execution": {
          "iopub.execute_input": "2022-05-07T15:51:01.632746Z",
          "iopub.status.busy": "2022-05-07T15:51:01.631789Z",
          "iopub.status.idle": "2022-05-07T16:06:35.244716Z",
          "shell.execute_reply": "2022-05-07T16:06:35.243704Z"
        },
        "id": "aa04df50",
        "papermill": {
          "duration": 933.69309,
          "end_time": "2022-05-07T16:06:35.248107",
          "exception": false,
          "start_time": "2022-05-07T15:51:01.555017",
          "status": "completed"
        },
        "tags": []
      },
      "outputs": [],
      "source": [
        "\n",
        "\n",
        "for (d_size, dr, reg_l2) in tuning_points:\n",
        "  # train the model\n",
        "  X_train = train_images[:d_size]\n",
        "  y_train = train_labels[:d_size]\n",
        "  target_model, h = f_target(X_train, y_train, dropout=dr, reg_l=reg_l2, epochs=100)  \n",
        "  \n",
        "  # attack the model\n",
        "  attack.target_model = target_model\n",
        "  attack.target_dataset = X_train, y_train\n",
        "  score_ = attack.evaluate_attack()\n",
        "    \n",
        "  auc.append({\n",
        "      'D_target Size': d_size,\n",
        "      'Dropout': dr,\n",
        "      'L2-Regularization': reg_l2,\n",
        "      'AUC Score' : score_[1]\n",
        "  })\n",
        "  rec.append({\n",
        "      'D_target Size': d_size,\n",
        "      'Dropout': dr,\n",
        "      'L2-Regularization': reg_l2,\n",
        "      'Recall' : score_[0]['macro avg']['recall']\n",
        "  })\n",
        "  prec.append({\n",
        "      'D_target Size': d_size,\n",
        "      'Dropout': dr,\n",
        "      'L2-Regularization': reg_l2,\n",
        "      'Precision' : score_[0]['macro avg']['precision']\n",
        "  })\n",
        "  model_vuln.append({\n",
        "      'D_target Size': d_size,\n",
        "      'Dropout': dr,\n",
        "      'L2-Regularization': reg_l2,\n",
        "      'Model Vulnerability' : evaluate_model_vulnerability(target_model, (X_train, y_train), (attacker_images[:d_size], attacker_labels[:d_size]), 'tf', batch_size=256)\n",
        "  })\n"
      ]
    },
    {
      "cell_type": "code",
      "execution_count": null,
      "id": "12e2eb3c",
      "metadata": {
        "execution": {
          "iopub.execute_input": "2022-05-07T16:06:45.251258Z",
          "iopub.status.busy": "2022-05-07T16:06:45.250426Z",
          "iopub.status.idle": "2022-05-07T16:06:45.292845Z",
          "shell.execute_reply": "2022-05-07T16:06:45.292001Z"
        },
        "id": "12e2eb3c",
        "papermill": {
          "duration": 4.844393,
          "end_time": "2022-05-07T16:06:45.323599",
          "exception": false,
          "start_time": "2022-05-07T16:06:40.479206",
          "status": "completed"
        },
        "tags": []
      },
      "outputs": [],
      "source": [
        "exp = hip.Experiment.from_iterable(auc)\n",
        "exp.display_data(hip.Displays.PARALLEL_PLOT).update({'hide': ['uid'],})\n",
        "exp.display()"
      ]
    },
    {
      "cell_type": "code",
      "execution_count": null,
      "id": "8e92fb49",
      "metadata": {
        "execution": {
          "iopub.execute_input": "2022-05-07T16:06:54.525825Z",
          "iopub.status.busy": "2022-05-07T16:06:54.525510Z",
          "iopub.status.idle": "2022-05-07T16:06:54.585556Z",
          "shell.execute_reply": "2022-05-07T16:06:54.584553Z"
        },
        "papermill": {
          "duration": 4.782472,
          "end_time": "2022-05-07T16:06:54.622893",
          "exception": false,
          "start_time": "2022-05-07T16:06:49.840421",
          "status": "completed"
        },
        "tags": [],
        "id": "8e92fb49"
      },
      "outputs": [],
      "source": [
        "exp = hip.Experiment.from_iterable(model_vuln)\n",
        "exp.display_data(hip.Displays.PARALLEL_PLOT).update({'hide': ['uid'],})\n",
        "exp.display()"
      ]
    },
    {
      "cell_type": "code",
      "execution_count": null,
      "id": "8a9975df",
      "metadata": {
        "execution": {
          "iopub.execute_input": "2022-05-07T16:07:04.343626Z",
          "iopub.status.busy": "2022-05-07T16:07:04.343255Z",
          "iopub.status.idle": "2022-05-07T16:07:04.379530Z",
          "shell.execute_reply": "2022-05-07T16:07:04.378767Z"
        },
        "id": "8a9975df",
        "papermill": {
          "duration": 4.614777,
          "end_time": "2022-05-07T16:07:04.411895",
          "exception": false,
          "start_time": "2022-05-07T16:06:59.797118",
          "status": "completed"
        },
        "tags": []
      },
      "outputs": [],
      "source": [
        "exp = hip.Experiment.from_iterable(prec)\n",
        "exp.display_data(hip.Displays.PARALLEL_PLOT).update({'hide': ['uid'],})\n",
        "exp.display()"
      ]
    },
    {
      "cell_type": "code",
      "execution_count": null,
      "id": "afd17715",
      "metadata": {
        "execution": {
          "iopub.execute_input": "2022-05-07T16:07:14.765510Z",
          "iopub.status.busy": "2022-05-07T16:07:14.765181Z",
          "iopub.status.idle": "2022-05-07T16:07:14.802870Z",
          "shell.execute_reply": "2022-05-07T16:07:14.802098Z"
        },
        "id": "afd17715",
        "papermill": {
          "duration": 5.406546,
          "end_time": "2022-05-07T16:07:14.832405",
          "exception": false,
          "start_time": "2022-05-07T16:07:09.425859",
          "status": "completed"
        },
        "tags": []
      },
      "outputs": [],
      "source": [
        "exp = hip.Experiment.from_iterable(rec)\n",
        "exp.display_data(hip.Displays.PARALLEL_PLOT).update({'hide': ['uid'],})\n",
        "exp.display()"
      ]
    }
  ],
  "metadata": {
    "kernelspec": {
      "display_name": "Python 3",
      "language": "python",
      "name": "python3"
    },
    "language_info": {
      "codemirror_mode": {
        "name": "ipython",
        "version": 3
      },
      "file_extension": ".py",
      "mimetype": "text/x-python",
      "name": "python",
      "nbconvert_exporter": "python",
      "pygments_lexer": "ipython3",
      "version": "3.7.12"
    },
    "papermill": {
      "default_parameters": {},
      "duration": 1193.473881,
      "end_time": "2022-05-07T16:07:22.541713",
      "environment_variables": {},
      "exception": null,
      "input_path": "__notebook__.ipynb",
      "output_path": "__notebook__.ipynb",
      "parameters": {},
      "start_time": "2022-05-07T15:47:29.067832",
      "version": "2.3.4"
    },
    "colab": {
      "name": "mia-vs-overfit-dropout-regularization.ipynb",
      "provenance": [],
      "collapsed_sections": []
    },
    "accelerator": "GPU"
  },
  "nbformat": 4,
  "nbformat_minor": 5
}