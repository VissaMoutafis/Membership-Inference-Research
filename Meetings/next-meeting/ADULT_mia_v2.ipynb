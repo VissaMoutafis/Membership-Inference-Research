{
  "cells": [
    {
      "cell_type": "code",
      "execution_count": 85,
      "metadata": {
        "colab": {
          "base_uri": "https://localhost:8080/"
        },
        "id": "tg_WQJ7j5n3B",
        "outputId": "3940986c-92d2-4551-ca8d-8de0d66994fe"
      },
      "outputs": [
        {
          "name": "stdout",
          "output_type": "stream",
          "text": [
            "Num GPUs Available:  0\n"
          ]
        }
      ],
      "source": [
        "import numpy as np\n",
        "import pandas as pd\n",
        "import math\n",
        "import matplotlib.pyplot as plt\n",
        "\n",
        "import tensorflow as tf\n",
        "from tensorflow import keras\n",
        "from tensorflow.keras import datasets, layers, models\n",
        "\n",
        "from sklearn.model_selection import train_test_split\n",
        "from sklearn.linear_model import LogisticRegression, Perceptron\n",
        "from sklearn.tree import DecisionTreeClassifier\n",
        "from sklearn.ensemble import RandomForestClassifier\n",
        "from sklearn.metrics import classification_report, precision_score, recall_score, accuracy_score\n",
        "\n",
        "from mia_v1.shadow_models import *\n",
        "from mia_v1.attack_model import *\n",
        "from mia_v1.utilities import *\n",
        "from mia_v1.wrappers import *\n",
        "\n",
        "from tqdm.notebook import tqdm\n",
        "import sys\n",
        "print(\"Num GPUs Available: \", len(tf.config.list_physical_devices('GPU')))\n"
      ]
    },
    {
      "cell_type": "markdown",
      "metadata": {
        "id": "FWI32aRtFJqm"
      },
      "source": [
        "## Data Preprocessing, D_in & D_out and Target Model Creation\n",
        "\n",
        "OK. Let's first load our dataset and take a peek at the data."
      ]
    },
    {
      "cell_type": "code",
      "execution_count": 86,
      "metadata": {
        "colab": {
          "base_uri": "https://localhost:8080/"
        },
        "id": "JehzAxjYHxAm",
        "outputId": "8a292ac0-5ed3-41fc-fc2c-fe978a7053c5"
      },
      "outputs": [
        {
          "name": "stdout",
          "output_type": "stream",
          "text": [
            "--2022-03-23 16:00:21--  https://archive.ics.uci.edu/ml/machine-learning-databases/adult/adult.data\n",
            "Resolving archive.ics.uci.edu (archive.ics.uci.edu)... 128.195.10.252\n",
            "Connecting to archive.ics.uci.edu (archive.ics.uci.edu)|128.195.10.252|:443... connected.\n",
            "HTTP request sent, awaiting response... 200 OK\n",
            "Length: 3974305 (3,8M) [application/x-httpd-php]\n",
            "Saving to: ‘adult.data.2’\n",
            "\n",
            "adult.data.2        100%[===================>]   3,79M  36,4KB/s    in 1m 43s  \n",
            "\n",
            "2022-03-23 16:02:08 (37,8 KB/s) - ‘adult.data.2’ saved [3974305/3974305]\n",
            "\n"
          ]
        }
      ],
      "source": [
        "!wget \"https://archive.ics.uci.edu/ml/machine-learning-databases/adult/adult.data\"\n",
        "# !wget \"https://archive.ics.uci.edu/ml/machine-learning-databases/adult/adult.test\""
      ]
    },
    {
      "cell_type": "code",
      "execution_count": 87,
      "metadata": {
        "id": "oh1C7fT8FJVA"
      },
      "outputs": [],
      "source": [
        "cols = ['age', \n",
        "        'workclass', \n",
        "        'fnlwgt', \n",
        "        'education',\n",
        "        'education-num',\n",
        "        'marital-status',\n",
        "        'occupation', \n",
        "        'relationship', \n",
        "        'race',\n",
        "        'sex',\n",
        "        'capital-gain',\n",
        "        'capital-loss',\n",
        "        'hours-per-week', \n",
        "        'native-country',\n",
        "        'salary']\n",
        "cat_cols = [\n",
        "  'workclass', \n",
        "  'education',\n",
        "  'marital-status',\n",
        "  'occupation',\n",
        "  'relationship',\n",
        "  'race',\n",
        "  'sex',\n",
        "  'native-country'     \n",
        "]\n",
        "\n",
        "num_cols = list(set(cols) - set(cat_cols) - set({'salary'}))"
      ]
    },
    {
      "cell_type": "code",
      "execution_count": 88,
      "metadata": {
        "id": "p8Z5qWioEwtj"
      },
      "outputs": [],
      "source": [
        "dataset_path = 'adult.data' "
      ]
    },
    {
      "cell_type": "code",
      "execution_count": 89,
      "metadata": {
        "id": "TE3MYfV0FfvT"
      },
      "outputs": [],
      "source": [
        "data_df = pd.read_csv(dataset_path, index_col=False, names=cols)"
      ]
    },
    {
      "cell_type": "code",
      "execution_count": 90,
      "metadata": {
        "id": "RZAfWfc0ZGVR"
      },
      "outputs": [],
      "source": [
        "data_df.loc[data_df['salary'].str.contains('>50K'), 'salary'] = 1\n",
        "data_df.loc[data_df['salary'].str.contains('>50K') == False, 'salary'] = 0"
      ]
    },
    {
      "cell_type": "code",
      "execution_count": 91,
      "metadata": {
        "id": "pJL7rlGyH6Oy"
      },
      "outputs": [],
      "source": [
        "for col in cat_cols:\n",
        "  data_df = data_df[data_df[col].str.contains('\\?') == False]"
      ]
    },
    {
      "cell_type": "code",
      "execution_count": 92,
      "metadata": {
        "id": "gxiT8YB_b7AB"
      },
      "outputs": [],
      "source": [
        "data_df[cat_cols] = data_df[cat_cols].astype('category')\n",
        "for col in cat_cols:\n",
        "  data_df[col] = data_df[col].cat.codes"
      ]
    },
    {
      "cell_type": "code",
      "execution_count": 93,
      "metadata": {
        "id": "FkWFWpHVcL8y"
      },
      "outputs": [],
      "source": [
        "y = data_df.pop('salary').to_numpy(dtype=np.int8)\n",
        "X = data_df.to_numpy(dtype=np.float64) "
      ]
    },
    {
      "cell_type": "code",
      "execution_count": 94,
      "metadata": {
        "id": "9nJHvjvid_mF"
      },
      "outputs": [],
      "source": [
        "# divide to target and attack dataset\n",
        "X_target, X_attacker, y_target, y_attacker = train_test_split(X, y, test_size=0.5, shuffle=True, random_state=0)\n",
        "\n",
        "# train-test split for the target\n",
        "X_train, X_test, y_train, y_test = train_test_split(X_target, y_target, test_size=0.33, shuffle=True, random_state=0)"
      ]
    },
    {
      "cell_type": "code",
      "execution_count": 95,
      "metadata": {
        "id": "C-423fz3dWD4"
      },
      "outputs": [],
      "source": [
        "target_model = DecisionTreeClassifier(random_state=0)"
      ]
    },
    {
      "cell_type": "code",
      "execution_count": 96,
      "metadata": {
        "id": "4JWNUaog_pcM"
      },
      "outputs": [],
      "source": [
        "target_model = target_model.fit(X_train, y_train.reshape(-1))"
      ]
    },
    {
      "cell_type": "code",
      "execution_count": 97,
      "metadata": {
        "colab": {
          "base_uri": "https://localhost:8080/"
        },
        "id": "_APyi1ZqdrLJ",
        "outputId": "ce78f54a-1b14-45b8-b89e-8b724750ff9a"
      },
      "outputs": [
        {
          "name": "stdout",
          "output_type": "stream",
          "text": [
            "Training Test Scores:\n",
            "              precision    recall  f1-score   support\n",
            "\n",
            "           0       1.00      1.00      1.00      7625\n",
            "           1       1.00      1.00      1.00      2479\n",
            "\n",
            "    accuracy                           1.00     10104\n",
            "   macro avg       1.00      1.00      1.00     10104\n",
            "weighted avg       1.00      1.00      1.00     10104\n",
            "\n",
            "Validation Test Scores:\n",
            "              precision    recall  f1-score   support\n",
            "\n",
            "           0       0.87      0.86      0.87      3734\n",
            "           1       0.60      0.62      0.61      1243\n",
            "\n",
            "    accuracy                           0.80      4977\n",
            "   macro avg       0.74      0.74      0.74      4977\n",
            "weighted avg       0.80      0.80      0.80      4977\n",
            "\n"
          ]
        }
      ],
      "source": [
        "print('Training Test Scores:', \n",
        "      classification_report(y_train, target_model.predict(X_train)), \n",
        "      'Validation Test Scores:', \n",
        "      classification_report(y_test, target_model.predict(X_test)), sep='\\n')"
      ]
    },
    {
      "cell_type": "code",
      "execution_count": 98,
      "metadata": {
        "id": "jZPl0p8yPvAo"
      },
      "outputs": [],
      "source": [
        "target_model.predict = target_model.predict_proba"
      ]
    },
    {
      "cell_type": "markdown",
      "metadata": {
        "id": "jcbVJs-ig03r"
      },
      "source": [
        "So we clearly see that Decision tree is overfitted to the data. It is time to run our normal attack on some data that lack of certain features."
      ]
    },
    {
      "cell_type": "markdown",
      "metadata": {
        "id": "M90y3DvEiIA0"
      },
      "source": [
        "## Attacker-Shadows Dataset separation\n",
        "\n",
        "We will divide the attacker dataset to\n",
        "- Attack Evaluation dataset of instances that we know they belong to $D_{out}$\n",
        "- Attack Evaluation dataset of instances that we know they belong to $D_{in}$\n",
        "- Instances from the dataset distribution we will use to train the shadow and attack models. These will also be used as a guide to fill out null values later.\n",
        "\n"
      ]
    },
    {
      "cell_type": "code",
      "execution_count": 99,
      "metadata": {
        "id": "7I_QAYdeimk6"
      },
      "outputs": [],
      "source": [
        "# divide attacker dataset\n",
        "X_attacker_train, X_attacker_test_out, y_attacker_train, y_attacker_test_out = train_test_split(X_attacker, y_attacker, test_size=0.33, shuffle=True, random_state=0)\n",
        "\n",
        "# get a proportion of the D_in dataset for later testing of the model\n",
        "_, X_attacker_test_in, _, y_attacker_test_in = train_test_split(X_train, y_train, test_size=0.33, shuffle=True, random_state=0)\n"
      ]
    },
    {
      "cell_type": "markdown",
      "metadata": {
        "id": "KRJsARcpP4A0"
      },
      "source": [
        "## Standard Attack\n",
        "Perform Standard Attack to get point of reference.\n",
        "\n",
        "The shadow models will be Random Forest Classifiers, as well as the attack model."
      ]
    },
    {
      "cell_type": "code",
      "execution_count": 100,
      "metadata": {
        "id": "5TxieABsaaKV"
      },
      "outputs": [],
      "source": [
        "def f_shadow():\n",
        "  model = RandomForestClassifier(random_state=0) \n",
        "  model.predict = model.predict_proba\n",
        "  return  model"
      ]
    },
    {
      "cell_type": "code",
      "execution_count": 101,
      "metadata": {
        "id": "mNtemr5ab_DI"
      },
      "outputs": [],
      "source": [
        "def f_attack():\n",
        "    model = RandomForestClassifier(random_state=0)\n",
        "    model.predict = model.predict_proba\n",
        "    return model \n"
      ]
    },
    {
      "cell_type": "code",
      "execution_count": 102,
      "metadata": {
        "id": "aSbUCvGOP-VX"
      },
      "outputs": [],
      "source": [
        "ConfidenceVectorAttack.SHADOW_MODEL_TYPE = 'sklearn'\n",
        "ConfidenceVectorAttack.ATTACK_MODEL_TYPE = 'sklearn'\n",
        "default_attack = ConfidenceVectorAttack(\n",
        "    target_model=target_model,\n",
        "    target_dataset=(X_attacker_test_in, y_attacker_test_in),\n",
        "    attacker_dataset=(X_attacker_train, y_attacker_train),\n",
        "    attack_model_creator=f_attack,\n",
        "    shadow_creator=f_shadow,\n",
        "    n_shadows=10,\n",
        "    D_shadow_size=5000, \n",
        "    verbose=True)\n"
      ]
    },
    {
      "cell_type": "code",
      "execution_count": 103,
      "metadata": {
        "colab": {
          "base_uri": "https://localhost:8080/"
        },
        "id": "_LiNZXRPQ-9e",
        "outputId": "a8bd344a-35d1-4c03-b4a2-55bb25cc6d4e"
      },
      "outputs": [
        {
          "name": "stdout",
          "output_type": "stream",
          "text": [
            "Preparing shadow batch of size 3300\n",
            "Done!\n",
            "Preparing shadow batch of size 3300\n",
            "Done!\n",
            "Preparing shadow batch of size 3300\n",
            "Done!\n",
            "Preparing shadow batch of size 3300\n",
            "Done!\n",
            "Preparing shadow batch of size 3300\n",
            "Done!\n",
            "Preparing shadow batch of size 3300\n",
            "Done!\n",
            "Preparing shadow batch of size 3300\n",
            "Done!\n",
            "Preparing shadow batch of size 3300\n",
            "Done!\n",
            "Preparing shadow batch of size 3300\n",
            "Done!\n",
            "Preparing shadow batch of size 3300\n",
            "Done!\n",
            "Warning: Cannot fit with tf-like fit routine..trying sklearn.\n"
          ]
        }
      ],
      "source": [
        "default_attack.perform_attack()"
      ]
    },
    {
      "cell_type": "code",
      "execution_count": 104,
      "metadata": {
        "colab": {
          "base_uri": "https://localhost:8080/",
          "height": 456
        },
        "id": "4tZcBbQMTDc_",
        "outputId": "073c6f6d-55ab-4d3c-9ee7-ee76aa1ea127"
      },
      "outputs": [
        {
          "name": "stdout",
          "output_type": "stream",
          "text": [
            "Warning: AttackModel has no attribute evaluate\n",
            "              precision    recall  f1-score   support\n",
            "\n",
            "         0.0       1.00      0.20      0.33      3335\n",
            "         1.0       0.55      1.00      0.71      3335\n",
            "\n",
            "    accuracy                           0.60      6670\n",
            "   macro avg       0.78      0.60      0.52      6670\n",
            "weighted avg       0.78      0.60      0.52      6670\n",
            "\n",
            "AUC: 0.6184052201785164\n"
          ]
        },
        {
          "data": {
            "image/png": "[encoded data removed]",
            "text/plain": [
              "<Figure size 432x288 with 1 Axes>"
            ]
          },
          "metadata": {
            "needs_background": "light"
          },
          "output_type": "display_data"
        }
      ],
      "source": [
        "D_in = default_attack.attack_model.prepare_batch(target_model, X_attacker_test_in, y_attacker_test_in, True)\n",
        "D_out = default_attack.attack_model.prepare_batch(target_model, X_attacker_test_out[:3335], y_attacker_test_out[:3335], False)\n",
        "D_all = np.concatenate((D_in, D_out))\n",
        "default_attack.attack_model.evaluate(D_all[:, :-1], D_all[:, -1], verbose=1)"
      ]
    },
    {
      "cell_type": "markdown",
      "metadata": {
        "id": "Zv5vtMZMhFMq"
      },
      "source": [
        "## Filling null features from the dataset distribution.\n",
        "\n",
        "For research purposes we will cross out some categorical and numerical datapoints with probability of 10\\% and fill them using the following methods:\n",
        "\n",
        "- for numerical features use the mean of the collumn\n",
        "- for categorical features, find the label, group by it, find the most common value, accross same-labeled instances and assign it to the null case."
      ]
    },
    {
      "cell_type": "code",
      "execution_count": 105,
      "metadata": {
        "id": "44rHSRrohBZ7"
      },
      "outputs": [],
      "source": [
        "\"\"\" \n",
        "    Routine that treats features of all records as null with prob @prob_of_null.\n",
        "    If feature is categorical we will replace it with most used value given the label\n",
        "    If numeric we will replace it with the mean among the dataset of record with the same value\n",
        "\"\"\"\n",
        "def fill_out_missing_values(df, cat_cols, num_cols, y_label, prob_of_null = 0.3):\n",
        "  y_labels = df[y_label].unique().tolist()\n",
        "  \n",
        "  # create a most used values and mean values array based on the class and the column\n",
        "  value_mapper = {}\n",
        "  \n",
        "  for i in y_labels:\n",
        "    values = {}\n",
        "    for col in cat_cols:\n",
        "      values[col] = df.loc[df[y_label] == i, col].mode()[0]\n",
        "      \n",
        "    for col in num_cols:\n",
        "      values[col] = df.loc[df[y_label] == i, col].mean(axis=0)\n",
        "      \n",
        "    value_mapper[i] = values\n",
        "\n",
        "  for i in y_labels:\n",
        "    for col in cat_cols+num_cols:\n",
        "      df.loc[df[y_label] == i, col] = df.loc[df[y_label] == i, col].apply(lambda x: x if np.random.random() - prob_of_null >= 0.0 else value_mapper[i][col])\n",
        "      \n",
        "  return df"
      ]
    },
    {
      "cell_type": "code",
      "execution_count": 106,
      "metadata": {
        "id": "Bh4MTKDoH3ms"
      },
      "outputs": [],
      "source": [
        "def execute_attack(target_model, X_train, y_train, X_test_in, y_test_in, X_test_out, y_test_out):\n",
        "  global N_SHADOWS\n",
        "  global SHADOW_EPOCHS\n",
        "  global SHADOW_DATASET_SIZE\n",
        "  # create shadow models and fit them \n",
        "  shadow_models = ShadowModelBatch(N_SHADOWS, f_shadow, model_type='sklearn')\n",
        "  D_shadows = generate_shadow_dataset(target_model, N_SHADOWS, SHADOW_DATASET_SIZE, 2, attacker_X=X_train, attacker_y=y_train)\n",
        "  shadow_models.fit_all(D_shadows, SHADOW_EPOCHS)\n",
        "  # create the attack model \n",
        "  attack_model = DefaultAttackModel(shadow_models, 2, f_attack)\n",
        "  attack_model.fit(epochs=50)\n",
        "\n",
        "  D_in = attack_model.prepare_batch(target_model, X_test_in, y_test_in, True)\n",
        "  D_out = attack_model.prepare_batch(target_model, X_test_out[:3335], y_test_out[:3335], False)\n",
        "  D_all = np.concatenate((D_in, D_out))\n",
        "\n",
        "  X, y = D_all[:, :-1], D_all[:, -1]\n",
        "  y_pred_proba = attack_model.predict(X)\n",
        "  try:\n",
        "    y_pred = np.argmax(y_pred_proba, axis=1)\n",
        "  except:\n",
        "    y_pred = y_pred_proba > 0.5\n",
        "\n",
        "  return round(precision_score(y, y_pred, average='macro'), 2), round(recall_score(y, y_pred, average='macro'), 2), round(accuracy_score(y, y_pred), 2)\n",
        "  \n",
        "\n",
        "def print_study_results(target_model, df_attack_train, df_attack_test_in, df_attack_test_out, train_missing_percent=[0.0], test_missing_percent=[0.0]):\n",
        "  global cat_cols\n",
        "  global num_cols\n",
        "  prec_scores = []\n",
        "  rec_scores = []\n",
        "  acc_scores = []\n",
        "  for train_p in train_missing_percent:\n",
        "    cur_prec_list = []\n",
        "    cur_rec_list = []\n",
        "    cur_acc_list = []\n",
        "    for test_p in test_missing_percent:\n",
        "      # create the shadow training datasets\n",
        "      df_w_missing = fill_out_missing_values(df_attack_train.copy(), cat_cols, num_cols, 'salary', prob_of_null=train_p)\n",
        "      y_attacker_train = df_w_missing.pop('salary').to_numpy()\n",
        "      X_attacker_train = df_w_missing.to_numpy()\n",
        "      \n",
        "      # create the attack's evaluation dataset\n",
        "      _df_out = fill_out_missing_values(df_attack_test_out.copy(), cat_cols, num_cols, 'salary', prob_of_null=test_p)\n",
        "      y_attacker_test_out = _df_out.pop('salary').to_numpy()\n",
        "      X_attacker_test_out = _df_out.to_numpy()\n",
        "\n",
        "      _df_in = fill_out_missing_values(df_attack_test_in.copy(), cat_cols, num_cols, 'salary', prob_of_null=test_p)\n",
        "      y_attacker_test_in = _df_in.pop('salary').to_numpy()\n",
        "      X_attacker_test_in = _df_in.to_numpy()\n",
        "\n",
        "      # execute attack and get precision, recall and accuracy\n",
        "      pre, rec, acc, = execute_attack(target_model, X_attacker_train, y_attacker_train, X_attacker_test_in, y_attacker_test_in, X_attacker_test_out, y_attacker_test_out)\n",
        "      cur_prec_list.append(pre)\n",
        "      cur_rec_list.append(rec)\n",
        "      cur_acc_list.append(acc)\n",
        "\n",
        "    prec_scores.append(cur_prec_list)\n",
        "    rec_scores.append(cur_rec_list)\n",
        "    acc_scores.append(cur_acc_list)\n",
        "    \n",
        "  plot_rows = len(train_missing_percent)\n",
        "  plot_cols = 3\n",
        "  fig, axes = plt.subplots(plot_rows, plot_cols, figsize=(35, 30))\n",
        "  \n",
        "  print(\"PRECISION TABLE\")\n",
        "  print(f'|Shadow MVP / TestData MVP | {\"|\".join([str(i*100)+\"%\" for i in test_missing_percent])}|')\n",
        "  print('| -- |'*(1+len(test_missing_percent)))\n",
        "  for row_i, train_p in enumerate(train_missing_percent):\n",
        "    print(f'| {str(train_p*100) + \"%\"} | {\"|\".join([str(i) for i in prec_scores[row_i]])} |')\n",
        "\n",
        "  print(\"RECALL TABLE\")\n",
        "  print(f'|Shadow MVP / TestData MVP | {\"|\".join([str(i*100)+\"%\" for i in test_missing_percent])}|')\n",
        "  print('| -- |'*(1+len(test_missing_percent)))\n",
        "  for row_i, train_p in enumerate(train_missing_percent):\n",
        "    print(f'| {str(train_p*100) + \"%\"} | {\"|\".join([str(i) for i in rec_scores[row_i]])} |')\n",
        "\n",
        "  print(\"ACCURACY TABLE\")\n",
        "  print(f'|Shadow MVP / TestData MVP | {\"|\".join([str(i*100)+\"%\" for i in test_missing_percent])}|')\n",
        "  print('| -- |'*(1+len(test_missing_percent)))\n",
        "  for row_i, train_p in enumerate(train_missing_percent):\n",
        "    print(f'| {str(train_p*100) + \"%\"} | {\"|\".join([str(i) for i in acc_scores[row_i]])} |')\n",
        "\n",
        "  \n",
        "  for row_i, train_p in enumerate(train_missing_percent):\n",
        "    for col_i, (s, s_title) in enumerate(zip([prec_scores, rec_scores, acc_scores], ['Precision', 'Recall', 'Accuracy'])):\n",
        "      axes[row_i][col_i].set_title(f'D_shadow MVP {train_p}%')\n",
        "      axes[row_i][col_i].plot(test_missing_percent, s[row_i], 'o-')\n",
        "      axes[row_i][col_i].set_xlabel('MVP')\n",
        "      axes[row_i][col_i].set_ylabel(s_title)\n",
        "\n",
        "  plt.show()\n",
        "    \n"
      ]
    },
    {
      "cell_type": "code",
      "execution_count": 107,
      "metadata": {
        "id": "eKrgVjVSlb1g"
      },
      "outputs": [],
      "source": [
        "df_attack_out = pd.DataFrame(np.concatenate((X_attacker_test_out, y_attacker_test_out.reshape(-1, 1)), axis=1), columns=cols)"
      ]
    },
    {
      "cell_type": "code",
      "execution_count": 108,
      "metadata": {
        "id": "OBaIWQbbPvAu"
      },
      "outputs": [],
      "source": [
        "df_attack_in = pd.DataFrame(np.concatenate((X_attacker_test_in, y_attacker_test_in.reshape(-1, 1)), axis=1), columns=cols)"
      ]
    },
    {
      "cell_type": "markdown",
      "metadata": {
        "id": "UB-aOOx8N8oD"
      },
      "source": [
        "## Shadow models\n",
        "\n",
        "We will use 10 shadow models with 5000 data instances each. \n",
        "\n",
        "The shadow model will be trained with non-Nil datapoints in order to capture the predictive behaviour of the target."
      ]
    },
    {
      "cell_type": "code",
      "execution_count": 109,
      "metadata": {
        "id": "tJq8gyGxPg2d"
      },
      "outputs": [],
      "source": [
        "df_attack_train = pd.DataFrame(np.concatenate((X_attacker_train, y_attacker_train.reshape(-1, 1)), axis=1), columns=cols)"
      ]
    },
    {
      "cell_type": "code",
      "execution_count": 110,
      "metadata": {
        "id": "U00a_MTObTSk"
      },
      "outputs": [],
      "source": [
        "N_SHADOWS= 10\n",
        "SHADOW_EPOCHS=50\n",
        "SHADOW_DATASET_SIZE= 5000\n",
        "ShadowModelBatch.VERBOSE=False\n",
        "DefaultAttackModel.VERBOSE = False"
      ]
    },
    {
      "cell_type": "markdown",
      "metadata": {
        "id": "tDGv9kk7N8oL"
      },
      "source": [
        "## Execute Attack and  Evaluation\n",
        "\n",
        "Evaluate the attack, given a label-balanced evaluation dataset."
      ]
    },
    {
      "cell_type": "code",
      "execution_count": 111,
      "metadata": {
        "colab": {
          "base_uri": "https://localhost:8080/",
          "height": 1000
        },
        "id": "NtcnmIZ-c0sa",
        "outputId": "6afc6521-0d87-4a94-a17e-355b1e246c30"
      },
      "outputs": [
        {
          "name": "stdout",
          "output_type": "stream",
          "text": [
            "Preparing shadow batch of size 3300\n",
            "Done!\n",
            "Preparing shadow batch of size 3300\n",
            "Done!\n",
            "Preparing shadow batch of size 3300\n",
            "Done!\n",
            "Preparing shadow batch of size 3300\n",
            "Done!\n",
            "Preparing shadow batch of size 3300\n",
            "Done!\n",
            "Preparing shadow batch of size 3300\n",
            "Done!\n",
            "Preparing shadow batch of size 3300\n",
            "Done!\n",
            "Preparing shadow batch of size 3300\n",
            "Done!\n",
            "Preparing shadow batch of size 3300\n",
            "Done!\n",
            "Preparing shadow batch of size 3300\n",
            "Done!\n",
            "Warning: Cannot fit with tf-like fit routine..trying sklearn.\n",
            "Preparing shadow batch of size 3300\n",
            "Done!\n",
            "Preparing shadow batch of size 3300\n",
            "Done!\n",
            "Preparing shadow batch of size 3300\n",
            "Done!\n",
            "Preparing shadow batch of size 3300\n",
            "Done!\n",
            "Preparing shadow batch of size 3300\n",
            "Done!\n",
            "Preparing shadow batch of size 3300\n",
            "Done!\n",
            "Preparing shadow batch of size 3300\n",
            "Done!\n",
            "Preparing shadow batch of size 3300\n",
            "Done!\n",
            "Preparing shadow batch of size 3300\n",
            "Done!\n",
            "Preparing shadow batch of size 3300\n",
            "Done!\n",
            "Warning: Cannot fit with tf-like fit routine..trying sklearn.\n",
            "Preparing shadow batch of size 3300\n",
            "Done!\n",
            "Preparing shadow batch of size 3300\n",
            "Done!\n",
            "Preparing shadow batch of size 3300\n",
            "Done!\n",
            "Preparing shadow batch of size 3300\n",
            "Done!\n",
            "Preparing shadow batch of size 3300\n",
            "Done!\n",
            "Preparing shadow batch of size 3300\n",
            "Done!\n",
            "Preparing shadow batch of size 3300\n",
            "Done!\n",
            "Preparing shadow batch of size 3300\n",
            "Done!\n",
            "Preparing shadow batch of size 3300\n",
            "Done!\n",
            "Preparing shadow batch of size 3300\n",
            "Done!\n",
            "Warning: Cannot fit with tf-like fit routine..trying sklearn.\n",
            "Preparing shadow batch of size 3300\n",
            "Done!\n",
            "Preparing shadow batch of size 3300\n",
            "Done!\n",
            "Preparing shadow batch of size 3300\n",
            "Done!\n",
            "Preparing shadow batch of size 3300\n",
            "Done!\n",
            "Preparing shadow batch of size 3300\n",
            "Done!\n",
            "Preparing shadow batch of size 3300\n",
            "Done!\n",
            "Preparing shadow batch of size 3300\n",
            "Done!\n",
            "Preparing shadow batch of size 3300\n",
            "Done!\n",
            "Preparing shadow batch of size 3300\n",
            "Done!\n",
            "Preparing shadow batch of size 3300\n",
            "Done!\n",
            "Warning: Cannot fit with tf-like fit routine..trying sklearn.\n",
            "Preparing shadow batch of size 3300\n",
            "Done!\n",
            "Preparing shadow batch of size 3300\n",
            "Done!\n",
            "Preparing shadow batch of size 3300\n",
            "Done!\n",
            "Preparing shadow batch of size 3300\n",
            "Done!\n",
            "Preparing shadow batch of size 3300\n",
            "Done!\n",
            "Preparing shadow batch of size 3300\n",
            "Done!\n",
            "Preparing shadow batch of size 3300\n",
            "Done!\n",
            "Preparing shadow batch of size 3300\n",
            "Done!\n",
            "Preparing shadow batch of size 3300\n",
            "Done!\n",
            "Preparing shadow batch of size 3300\n",
            "Done!\n",
            "Warning: Cannot fit with tf-like fit routine..trying sklearn.\n",
            "Preparing shadow batch of size 3300\n",
            "Done!\n",
            "Preparing shadow batch of size 3300\n",
            "Done!\n",
            "Preparing shadow batch of size 3300\n",
            "Done!\n",
            "Preparing shadow batch of size 3300\n",
            "Done!\n",
            "Preparing shadow batch of size 3300\n",
            "Done!\n",
            "Preparing shadow batch of size 3300\n",
            "Done!\n",
            "Preparing shadow batch of size 3300\n",
            "Done!\n",
            "Preparing shadow batch of size 3300\n",
            "Done!\n",
            "Preparing shadow batch of size 3300\n",
            "Done!\n",
            "Preparing shadow batch of size 3300\n",
            "Done!\n",
            "Warning: Cannot fit with tf-like fit routine..trying sklearn.\n",
            "Preparing shadow batch of size 3300\n",
            "Done!\n",
            "Preparing shadow batch of size 3300\n",
            "Done!\n",
            "Preparing shadow batch of size 3300\n",
            "Done!\n",
            "Preparing shadow batch of size 3300\n",
            "Done!\n",
            "Preparing shadow batch of size 3300\n",
            "Done!\n",
            "Preparing shadow batch of size 3300\n",
            "Done!\n",
            "Preparing shadow batch of size 3300\n",
            "Done!\n",
            "Preparing shadow batch of size 3300\n",
            "Done!\n",
            "Preparing shadow batch of size 3300\n",
            "Done!\n",
            "Preparing shadow batch of size 3300\n",
            "Done!\n",
            "Warning: Cannot fit with tf-like fit routine..trying sklearn.\n",
            "Preparing shadow batch of size 3300\n",
            "Done!\n",
            "Preparing shadow batch of size 3300\n",
            "Done!\n",
            "Preparing shadow batch of size 3300\n",
            "Done!\n",
            "Preparing shadow batch of size 3300\n",
            "Done!\n",
            "Preparing shadow batch of size 3300\n",
            "Done!\n",
            "Preparing shadow batch of size 3300\n",
            "Done!\n",
            "Preparing shadow batch of size 3300\n",
            "Done!\n",
            "Preparing shadow batch of size 3300\n",
            "Done!\n",
            "Preparing shadow batch of size 3300\n",
            "Done!\n",
            "Preparing shadow batch of size 3300\n",
            "Done!\n",
            "Warning: Cannot fit with tf-like fit routine..trying sklearn.\n",
            "Preparing shadow batch of size 3300\n",
            "Done!\n",
            "Preparing shadow batch of size 3300\n",
            "Done!\n",
            "Preparing shadow batch of size 3300\n",
            "Done!\n",
            "Preparing shadow batch of size 3300\n",
            "Done!\n",
            "Preparing shadow batch of size 3300\n",
            "Done!\n",
            "Preparing shadow batch of size 3300\n",
            "Done!\n",
            "Preparing shadow batch of size 3300\n",
            "Done!\n",
            "Preparing shadow batch of size 3300\n",
            "Done!\n",
            "Preparing shadow batch of size 3300\n",
            "Done!\n",
            "Preparing shadow batch of size 3300\n",
            "Done!\n",
            "Warning: Cannot fit with tf-like fit routine..trying sklearn.\n",
            "Preparing shadow batch of size 3300\n",
            "Done!\n",
            "Preparing shadow batch of size 3300\n",
            "Done!\n",
            "Preparing shadow batch of size 3300\n",
            "Done!\n",
            "Preparing shadow batch of size 3300\n",
            "Done!\n",
            "Preparing shadow batch of size 3300\n",
            "Done!\n",
            "Preparing shadow batch of size 3300\n",
            "Done!\n",
            "Preparing shadow batch of size 3300\n",
            "Done!\n",
            "Preparing shadow batch of size 3300\n",
            "Done!\n",
            "Preparing shadow batch of size 3300\n",
            "Done!\n",
            "Preparing shadow batch of size 3300\n",
            "Done!\n",
            "Warning: Cannot fit with tf-like fit routine..trying sklearn.\n",
            "Preparing shadow batch of size 3300\n",
            "Done!\n",
            "Preparing shadow batch of size 3300\n",
            "Done!\n",
            "Preparing shadow batch of size 3300\n",
            "Done!\n",
            "Preparing shadow batch of size 3300\n",
            "Done!\n",
            "Preparing shadow batch of size 3300\n",
            "Done!\n",
            "Preparing shadow batch of size 3300\n",
            "Done!\n",
            "Preparing shadow batch of size 3300\n",
            "Done!\n",
            "Preparing shadow batch of size 3300\n",
            "Done!\n",
            "Preparing shadow batch of size 3300\n",
            "Done!\n",
            "Preparing shadow batch of size 3300\n",
            "Done!\n",
            "Warning: Cannot fit with tf-like fit routine..trying sklearn.\n",
            "Preparing shadow batch of size 3300\n",
            "Done!\n",
            "Preparing shadow batch of size 3300\n",
            "Done!\n",
            "Preparing shadow batch of size 3300\n",
            "Done!\n",
            "Preparing shadow batch of size 3300\n",
            "Done!\n",
            "Preparing shadow batch of size 3300\n",
            "Done!\n",
            "Preparing shadow batch of size 3300\n",
            "Done!\n",
            "Preparing shadow batch of size 3300\n",
            "Done!\n",
            "Preparing shadow batch of size 3300\n",
            "Done!\n",
            "Preparing shadow batch of size 3300\n",
            "Done!\n",
            "Preparing shadow batch of size 3300\n",
            "Done!\n",
            "Warning: Cannot fit with tf-like fit routine..trying sklearn.\n",
            "Preparing shadow batch of size 3300\n",
            "Done!\n",
            "Preparing shadow batch of size 3300\n",
            "Done!\n",
            "Preparing shadow batch of size 3300\n",
            "Done!\n",
            "Preparing shadow batch of size 3300\n",
            "Done!\n",
            "Preparing shadow batch of size 3300\n",
            "Done!\n",
            "Preparing shadow batch of size 3300\n",
            "Done!\n",
            "Preparing shadow batch of size 3300\n",
            "Done!\n",
            "Preparing shadow batch of size 3300\n",
            "Done!\n",
            "Preparing shadow batch of size 3300\n",
            "Done!\n",
            "Preparing shadow batch of size 3300\n",
            "Done!\n",
            "Warning: Cannot fit with tf-like fit routine..trying sklearn.\n",
            "Preparing shadow batch of size 3300\n",
            "Done!\n",
            "Preparing shadow batch of size 3300\n",
            "Done!\n",
            "Preparing shadow batch of size 3300\n",
            "Done!\n",
            "Preparing shadow batch of size 3300\n",
            "Done!\n",
            "Preparing shadow batch of size 3300\n",
            "Done!\n",
            "Preparing shadow batch of size 3300\n",
            "Done!\n",
            "Preparing shadow batch of size 3300\n",
            "Done!\n",
            "Preparing shadow batch of size 3300\n",
            "Done!\n",
            "Preparing shadow batch of size 3300\n",
            "Done!\n",
            "Preparing shadow batch of size 3300\n",
            "Done!\n",
            "Warning: Cannot fit with tf-like fit routine..trying sklearn.\n",
            "Preparing shadow batch of size 3300\n",
            "Done!\n",
            "Preparing shadow batch of size 3300\n",
            "Done!\n",
            "Preparing shadow batch of size 3300\n",
            "Done!\n",
            "Preparing shadow batch of size 3300\n",
            "Done!\n",
            "Preparing shadow batch of size 3300\n",
            "Done!\n",
            "Preparing shadow batch of size 3300\n",
            "Done!\n",
            "Preparing shadow batch of size 3300\n",
            "Done!\n",
            "Preparing shadow batch of size 3300\n",
            "Done!\n",
            "Preparing shadow batch of size 3300\n",
            "Done!\n",
            "Preparing shadow batch of size 3300\n",
            "Done!\n",
            "Warning: Cannot fit with tf-like fit routine..trying sklearn.\n",
            "Preparing shadow batch of size 3300\n",
            "Done!\n",
            "Preparing shadow batch of size 3300\n",
            "Done!\n",
            "Preparing shadow batch of size 3300\n",
            "Done!\n",
            "Preparing shadow batch of size 3300\n",
            "Done!\n",
            "Preparing shadow batch of size 3300\n",
            "Done!\n",
            "Preparing shadow batch of size 3300\n",
            "Done!\n",
            "Preparing shadow batch of size 3300\n",
            "Done!\n",
            "Preparing shadow batch of size 3300\n",
            "Done!\n",
            "Preparing shadow batch of size 3300\n",
            "Done!\n",
            "Preparing shadow batch of size 3300\n",
            "Done!\n",
            "Warning: Cannot fit with tf-like fit routine..trying sklearn.\n",
            "Preparing shadow batch of size 3300\n",
            "Done!\n",
            "Preparing shadow batch of size 3300\n",
            "Done!\n",
            "Preparing shadow batch of size 3300\n",
            "Done!\n",
            "Preparing shadow batch of size 3300\n",
            "Done!\n",
            "Preparing shadow batch of size 3300\n",
            "Done!\n",
            "Preparing shadow batch of size 3300\n",
            "Done!\n",
            "Preparing shadow batch of size 3300\n",
            "Done!\n",
            "Preparing shadow batch of size 3300\n",
            "Done!\n",
            "Preparing shadow batch of size 3300\n",
            "Done!\n",
            "Preparing shadow batch of size 3300\n",
            "Done!\n",
            "Warning: Cannot fit with tf-like fit routine..trying sklearn.\n",
            "Preparing shadow batch of size 3300\n",
            "Done!\n",
            "Preparing shadow batch of size 3300\n",
            "Done!\n",
            "Preparing shadow batch of size 3300\n",
            "Done!\n",
            "Preparing shadow batch of size 3300\n",
            "Done!\n",
            "Preparing shadow batch of size 3300\n",
            "Done!\n",
            "Preparing shadow batch of size 3300\n",
            "Done!\n",
            "Preparing shadow batch of size 3300\n",
            "Done!\n",
            "Preparing shadow batch of size 3300\n",
            "Done!\n",
            "Preparing shadow batch of size 3300\n",
            "Done!\n",
            "Preparing shadow batch of size 3300\n",
            "Done!\n",
            "Warning: Cannot fit with tf-like fit routine..trying sklearn.\n",
            "Preparing shadow batch of size 3300\n",
            "Done!\n",
            "Preparing shadow batch of size 3300\n",
            "Done!\n",
            "Preparing shadow batch of size 3300\n",
            "Done!\n",
            "Preparing shadow batch of size 3300\n",
            "Done!\n",
            "Preparing shadow batch of size 3300\n",
            "Done!\n",
            "Preparing shadow batch of size 3300\n",
            "Done!\n",
            "Preparing shadow batch of size 3300\n",
            "Done!\n",
            "Preparing shadow batch of size 3300\n",
            "Done!\n",
            "Preparing shadow batch of size 3300\n",
            "Done!\n",
            "Preparing shadow batch of size 3300\n",
            "Done!\n",
            "Warning: Cannot fit with tf-like fit routine..trying sklearn.\n",
            "Preparing shadow batch of size 3300\n",
            "Done!\n",
            "Preparing shadow batch of size 3300\n",
            "Done!\n",
            "Preparing shadow batch of size 3300\n",
            "Done!\n",
            "Preparing shadow batch of size 3300\n",
            "Done!\n",
            "Preparing shadow batch of size 3300\n",
            "Done!\n",
            "Preparing shadow batch of size 3300\n",
            "Done!\n",
            "Preparing shadow batch of size 3300\n",
            "Done!\n",
            "Preparing shadow batch of size 3300\n",
            "Done!\n",
            "Preparing shadow batch of size 3300\n",
            "Done!\n",
            "Preparing shadow batch of size 3300\n",
            "Done!\n",
            "Warning: Cannot fit with tf-like fit routine..trying sklearn.\n",
            "Preparing shadow batch of size 3300\n",
            "Done!\n",
            "Preparing shadow batch of size 3300\n",
            "Done!\n",
            "Preparing shadow batch of size 3300\n",
            "Done!\n",
            "Preparing shadow batch of size 3300\n",
            "Done!\n",
            "Preparing shadow batch of size 3300\n",
            "Done!\n",
            "Preparing shadow batch of size 3300\n",
            "Done!\n",
            "Preparing shadow batch of size 3300\n",
            "Done!\n",
            "Preparing shadow batch of size 3300\n",
            "Done!\n",
            "Preparing shadow batch of size 3300\n",
            "Done!\n",
            "Preparing shadow batch of size 3300\n",
            "Done!\n",
            "Warning: Cannot fit with tf-like fit routine..trying sklearn.\n",
            "Preparing shadow batch of size 3300\n",
            "Done!\n",
            "Preparing shadow batch of size 3300\n",
            "Done!\n",
            "Preparing shadow batch of size 3300\n",
            "Done!\n",
            "Preparing shadow batch of size 3300\n",
            "Done!\n",
            "Preparing shadow batch of size 3300\n",
            "Done!\n",
            "Preparing shadow batch of size 3300\n",
            "Done!\n",
            "Preparing shadow batch of size 3300\n",
            "Done!\n",
            "Preparing shadow batch of size 3300\n",
            "Done!\n",
            "Preparing shadow batch of size 3300\n",
            "Done!\n",
            "Preparing shadow batch of size 3300\n",
            "Done!\n",
            "Warning: Cannot fit with tf-like fit routine..trying sklearn.\n",
            "Preparing shadow batch of size 3300\n",
            "Done!\n",
            "Preparing shadow batch of size 3300\n",
            "Done!\n",
            "Preparing shadow batch of size 3300\n",
            "Done!\n",
            "Preparing shadow batch of size 3300\n",
            "Done!\n",
            "Preparing shadow batch of size 3300\n",
            "Done!\n",
            "Preparing shadow batch of size 3300\n",
            "Done!\n",
            "Preparing shadow batch of size 3300\n",
            "Done!\n",
            "Preparing shadow batch of size 3300\n",
            "Done!\n",
            "Preparing shadow batch of size 3300\n",
            "Done!\n",
            "Preparing shadow batch of size 3300\n",
            "Done!\n",
            "Warning: Cannot fit with tf-like fit routine..trying sklearn.\n",
            "Preparing shadow batch of size 3300\n",
            "Done!\n",
            "Preparing shadow batch of size 3300\n",
            "Done!\n",
            "Preparing shadow batch of size 3300\n",
            "Done!\n",
            "Preparing shadow batch of size 3300\n",
            "Done!\n",
            "Preparing shadow batch of size 3300\n",
            "Done!\n",
            "Preparing shadow batch of size 3300\n",
            "Done!\n",
            "Preparing shadow batch of size 3300\n",
            "Done!\n",
            "Preparing shadow batch of size 3300\n",
            "Done!\n",
            "Preparing shadow batch of size 3300\n",
            "Done!\n",
            "Preparing shadow batch of size 3300\n",
            "Done!\n",
            "Warning: Cannot fit with tf-like fit routine..trying sklearn.\n",
            "Preparing shadow batch of size 3300\n",
            "Done!\n",
            "Preparing shadow batch of size 3300\n",
            "Done!\n",
            "Preparing shadow batch of size 3300\n",
            "Done!\n",
            "Preparing shadow batch of size 3300\n",
            "Done!\n",
            "Preparing shadow batch of size 3300\n",
            "Done!\n",
            "Preparing shadow batch of size 3300\n",
            "Done!\n",
            "Preparing shadow batch of size 3300\n",
            "Done!\n",
            "Preparing shadow batch of size 3300\n",
            "Done!\n",
            "Preparing shadow batch of size 3300\n",
            "Done!\n",
            "Preparing shadow batch of size 3300\n",
            "Done!\n",
            "Warning: Cannot fit with tf-like fit routine..trying sklearn.\n",
            "Preparing shadow batch of size 3300\n",
            "Done!\n",
            "Preparing shadow batch of size 3300\n",
            "Done!\n",
            "Preparing shadow batch of size 3300\n",
            "Done!\n",
            "Preparing shadow batch of size 3300\n",
            "Done!\n",
            "Preparing shadow batch of size 3300\n",
            "Done!\n",
            "Preparing shadow batch of size 3300\n",
            "Done!\n",
            "Preparing shadow batch of size 3300\n",
            "Done!\n",
            "Preparing shadow batch of size 3300\n",
            "Done!\n",
            "Preparing shadow batch of size 3300\n",
            "Done!\n",
            "Preparing shadow batch of size 3300\n",
            "Done!\n",
            "Warning: Cannot fit with tf-like fit routine..trying sklearn.\n",
            "Preparing shadow batch of size 3300\n",
            "Done!\n",
            "Preparing shadow batch of size 3300\n",
            "Done!\n",
            "Preparing shadow batch of size 3300\n",
            "Done!\n",
            "Preparing shadow batch of size 3300\n",
            "Done!\n",
            "Preparing shadow batch of size 3300\n",
            "Done!\n",
            "Preparing shadow batch of size 3300\n",
            "Done!\n",
            "Preparing shadow batch of size 3300\n",
            "Done!\n",
            "Preparing shadow batch of size 3300\n",
            "Done!\n",
            "Preparing shadow batch of size 3300\n",
            "Done!\n",
            "Preparing shadow batch of size 3300\n",
            "Done!\n",
            "Warning: Cannot fit with tf-like fit routine..trying sklearn.\n",
            "Preparing shadow batch of size 3300\n",
            "Done!\n",
            "Preparing shadow batch of size 3300\n",
            "Done!\n",
            "Preparing shadow batch of size 3300\n",
            "Done!\n",
            "Preparing shadow batch of size 3300\n",
            "Done!\n",
            "Preparing shadow batch of size 3300\n",
            "Done!\n",
            "Preparing shadow batch of size 3300\n",
            "Done!\n",
            "Preparing shadow batch of size 3300\n",
            "Done!\n",
            "Preparing shadow batch of size 3300\n",
            "Done!\n",
            "Preparing shadow batch of size 3300\n",
            "Done!\n",
            "Preparing shadow batch of size 3300\n",
            "Done!\n",
            "Warning: Cannot fit with tf-like fit routine..trying sklearn.\n",
            "PRECISION TABLE\n",
            "|Shadow MVP / TestData MVP | 0.0%|5.0%|10.0%|15.0%|20.0%|25.0%|50.0%|\n",
            "| -- || -- || -- || -- || -- || -- || -- || -- |\n",
            "| 0.0% | 0.78|0.72|0.66|0.64|0.63|0.6|0.6 |\n",
            "| 25.0% | 0.78|0.7|0.66|0.63|0.62|0.6|0.6 |\n",
            "| 50.0% | 0.78|0.7|0.65|0.63|0.61|0.6|0.6 |\n",
            "| 75.0% | 0.78|0.7|0.66|0.64|0.62|0.61|0.59 |\n",
            "RECALL TABLE\n",
            "|Shadow MVP / TestData MVP | 0.0%|5.0%|10.0%|15.0%|20.0%|25.0%|50.0%|\n",
            "| -- || -- || -- || -- || -- || -- || -- || -- |\n",
            "| 0.0% | 0.6|0.59|0.57|0.57|0.57|0.56|0.57 |\n",
            "| 25.0% | 0.6|0.59|0.57|0.57|0.56|0.56|0.57 |\n",
            "| 50.0% | 0.6|0.58|0.57|0.57|0.56|0.56|0.56 |\n",
            "| 75.0% | 0.6|0.58|0.57|0.57|0.56|0.56|0.56 |\n",
            "ACCURACY TABLE\n",
            "|Shadow MVP / TestData MVP | 0.0%|5.0%|10.0%|15.0%|20.0%|25.0%|50.0%|\n",
            "| -- || -- || -- || -- || -- || -- || -- || -- |\n",
            "| 0.0% | 0.6|0.59|0.57|0.57|0.57|0.56|0.57 |\n",
            "| 25.0% | 0.6|0.59|0.57|0.57|0.56|0.56|0.57 |\n",
            "| 50.0% | 0.6|0.58|0.57|0.57|0.56|0.56|0.56 |\n",
            "| 75.0% | 0.6|0.58|0.57|0.57|0.56|0.56|0.56 |\n"
          ]
        },
        {
          "data": {
            "image/png": "[encoded data removed]",
            "text/plain": [
              "<Figure size 2520x2160 with 12 Axes>"
            ]
          },
          "metadata": {
            "needs_background": "light"
          },
          "output_type": "display_data"
        }
      ],
      "source": [
        "print_study_results(target_model, df_attack_train, df_attack_in, df_attack_out, [0.0, 0.25, 0.5, 0.75], [0.0, 0.05, 0.1, 0.15, 0.2, 0.25 , 0.5])"
      ]
    },
    {
      "cell_type": "markdown",
      "metadata": {
        "id": "CVG_PE0cPvAz"
      },
      "source": [
        "## Experimental Results\n",
        "\n",
        "### Best hyperparameter tuning \n",
        "\n",
        "After some testing we note that out attack will perform well when we supply it with 5 to 10 shadow models with 5000-10000 training instances, per shadow model.\n",
        "\n",
        "Note that we tried the following tuning settings:\n",
        "- 5 to 20 shadows, 1000 samples, could not achieve over 50\\% accuracy\n",
        "- 10 to 20 shadows, 5000 samples, achieved a max of 54\\% accuracy and best recall and precision  for $x \\in D_{target}$ with precision of 1.0 and recall of 0.70\n",
        "- 5 to 10 shadows, 10000 samples, yielded same results as the runs with 5000\n",
        "\n",
        "\n",
        "### Notes about Attack and shadows architecture\n",
        "Also our attack will perform better if we manage to use and ensemble model, like a random forest, to perform the final attack than a normal classifier. The closer the model behaves to the original target the closer we get to a better attack\n",
        "\n",
        "### Conclusion\n",
        "Trying different values for the percentage of lost/missing values per record we can notice a decrease in attack performance (accuracy and precision fall) that means: \n",
        "We can execute the attack with missing values, but we should consider a larger error margin in our inference predictions. \n",
        "\n",
        "#### Shadows with normal training set\n",
        "Using 10 shadows with 5000 instances for training we yielded the following results, with respect to missing values percentage across the testing dataset and attack performance on this dataset:\n",
        "\n",
        "|Missing Values \\% | F-1 Score | Presicion | Recall | \n",
        "| --- | --- | --- | --- |\n",
        "| 0% | .60 | .78 | .60 |\n",
        "| 1\\% | .59 | .75 | .59 |\n",
        "| 5\\% | .58 | .70 | .58|\n",
        "| 10\\% | .57| .67| .57|\n",
        "| 15\\% | .57| .63| .57|\n",
        "| 20\\% | .56| .62 | .56 |\n",
        "\n",
        "#### Shadows with training set + missing features\n",
        "We will use the same settings and we will set the missing percentage to be the same as in the test-dastaset\n",
        "\n",
        "PRECISION TABLE\n",
        "\n",
        "| Shadow MVP / TestData MVP | 0.0% | 5.0% | 10.0% | 15.0% | 20.0% | 25.0% | 50.0% |\n",
        "| -- | -- | -- | -- | -- | -- | -- | -- |\n",
        "| 0.0% | 0.78|0.72|0.66|0.64|0.63|0.6|0.6 |\n",
        "| 25.0% | 0.78|0.7|0.66|0.63|0.62|0.6|0.6 |\n",
        "| 50.0% | 0.78|0.7|0.65|0.63|0.61|0.6|0.6 |\n",
        "| 75.0% | 0.78|0.7|0.66|0.64|0.62|0.61|0.59 |\n",
        "\n",
        "RECALL TABLE\n",
        "\n",
        "| Shadow MVP / TestData MVP | 0.0% | 5.0% | 10.0% | 15.0% | 20.0% | 25.0% | 50.0% |\n",
        "| -- | -- | -- | -- | -- | -- | -- | -- |\n",
        "| 0.0% | 0.6|0.59|0.57|0.57|0.57|0.56|0.57 |\n",
        "| 25.0% | 0.6|0.59|0.57|0.57|0.56|0.56|0.57 |\n",
        "| 50.0% | 0.6|0.58|0.57|0.57|0.56|0.56|0.56 |\n",
        "| 75.0% | 0.6|0.58|0.57|0.57|0.56|0.56|0.56 |\n",
        "\n",
        "ACCURACY TABLE\n",
        "\n",
        "| Shadow MVP / TestData MVP | 0.0% | 5.0% | 10.0% | 15.0% | 20.0% | 25.0% | 50.0% |\n",
        "| -- | -- | -- | -- | -- | -- | -- | -- |\n",
        "| 0.0% | 0.6|0.59|0.57|0.57|0.57|0.56|0.57 |\n",
        "| 25.0% | 0.6|0.59|0.57|0.57|0.56|0.56|0.57 |\n",
        "| 50.0% | 0.6|0.58|0.57|0.57|0.56|0.56|0.56 |\n",
        "| 75.0% | 0.6|0.58|0.57|0.57|0.56|0.56|0.56 |\n"
      ]
    },
    {
      "cell_type": "markdown",
      "metadata": {},
      "source": []
    }
  ],
  "metadata": {
    "colab": {
      "collapsed_sections": [],
      "name": "ADULT_mia.ipynb",
      "provenance": []
    },
    "kernelspec": {
      "display_name": "Python 3.6.9 64-bit",
      "language": "python",
      "name": "python3"
    },
    "language_info": {
      "codemirror_mode": {
        "name": "ipython",
        "version": 3
      },
      "file_extension": ".py",
      "mimetype": "text/x-python",
      "name": "python",
      "nbconvert_exporter": "python",
      "pygments_lexer": "ipython3",
      "version": "3.6.9"
    },
    "vscode": {
      "interpreter": {
        "hash": "31f2aee4e71d21fbe5cf8b01ff0e069b9275f58929596ceb00d14d90e3e16cd6"
      }
    }
  },
  "nbformat": 4,
  "nbformat_minor": 0
}
