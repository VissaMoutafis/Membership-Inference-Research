{
  "cells": [
    {
      "cell_type": "markdown",
      "metadata": {
        "id": "2vzAuc5Xo3j2"
      },
      "source": [
        "# Comparison Between Confidence-Vector and Label-Only MIAs\n",
        "\n",
        "### Threat Model:\n",
        "\n",
        "- **Black Box** access to an overfitted classifier with no access to actual $D_{target}$\n",
        "- Predict API returns **confidence vectors** (1st case) or **only labels instead of confidence vectors** (2nd case)\n",
        "- We have some insight on the training data distribution, so the attacker will train on $D_{attacker}$ , **but** $D_{target} \\cap D_{attacker} = \\varnothing$\n",
        "- We have zero insight in target's architecture\n",
        "\n",
        "\n",
        "### Attack with confidence vectors: \n",
        "- Use a shadow model to attack local shadow models and extract membership leakage features\n",
        "- Treat shadow models as targets and train on the produced confidence vectors, given the membership knowledge beforehand\n",
        "- Train an attack model based on the prediction vector and target's confidence on predictions.\n",
        "- Try to attack target model and infer-membership of instances\n",
        "\n",
        "### Attack with labels:\n",
        "- Target will return only the predicted label, trying to protect from any membership leakage.\n",
        "- We use data perturbations in order to exploit test/training data approximation relevancies to the classification boundaries.\n",
        "- We know that training data are more robust to perturbations (**check section::Extras**)\n",
        "- We will use the perturbations to build a feature vector $\\forall x \\in D_{attacker}$, that is consisted from the true label, the predicted label and the predicted labels for al perturbations of given $x$.\n",
        "- We will train an attack model on this dataset, given the ground truth our shadow models provide us with. \n",
        "\n",
        "### Evaluation Target\n",
        "- Score over $50\\%$ accuracy in each attack model\n",
        "- Get a high $AUC$ score (prediction sensitivity)\n",
        "- Compare the 2 attacks and prove that ommition of confidence vectors does not patch the models vulnerability.\n",
        "\n",
        "Label-Only attack implemented based on [this paper](https://arxiv.org/abs/2007.14321)."
      ]
    },
    {
      "cell_type": "code",
      "execution_count": null,
      "metadata": {
        "colab": {
          "base_uri": "https://localhost:8080/"
        },
        "id": "tg_WQJ7j5n3B",
        "outputId": "f74af556-ca1e-41b0-c906-c91876c5f7b9"
      },
      "outputs": [
        {
          "name": "stdout",
          "output_type": "stream",
          "text": [
            "Num GPUs Available:  1\n"
          ]
        }
      ],
      "source": [
        "import numpy as np\n",
        "import matplotlib.pyplot as plt\n",
        "\n",
        "import math\n",
        "import tensorflow as tf\n",
        "from tensorflow.keras import datasets, layers, models\n",
        "from sklearn.model_selection import train_test_split\n",
        "from tensorflow import keras\n",
        "from tensorflow.keras import regularizers\n",
        "\n",
        "# for image interpolation\n",
        "import scipy.ndimage.interpolation as interpolation\n",
        "\n",
        "from sklearn.metrics import roc_auc_score, roc_curve\n",
        "from sklearn.metrics import classification_report\n",
        "\n",
        "from mia_v1.attack_model import *\n",
        "from mia_v1.label_only import *\n",
        "from mia_v1.shadow_models import *\n",
        "from mia_v1.utilities import *\n",
        "from mia_v1.wrappers import ConfidenceVectorAttack, LabelOnlyAttack\n",
        "\n",
        "from tqdm import tqdm\n",
        "import sys\n",
        "print(\"Num GPUs Available: \", len(tf.config.list_physical_devices('GPU')))\n"
      ]
    },
    {
      "cell_type": "markdown",
      "metadata": {
        "id": "5Kv7Qon0qRTk"
      },
      "source": [
        "## Target Model\n",
        "\n",
        "Create a simple model that overfits, for exposition reasons."
      ]
    },
    {
      "cell_type": "code",
      "execution_count": null,
      "metadata": {
        "id": "zacp4ArauIET"
      },
      "outputs": [],
      "source": [
        "D_TARGET_SIZE = 2500"
      ]
    },
    {
      "cell_type": "code",
      "execution_count": null,
      "metadata": {
        "id": "1qg7LkXX0zOF"
      },
      "outputs": [],
      "source": [
        "def f_target(X_train, y_train, X_test=None, y_test=None, epochs=100):\n",
        "  \"\"\"\n",
        "  Returns a trained target model, if test data are specified we will evaluate the model and print its accuracy\n",
        "  \"\"\"\n",
        "  model = models.Sequential()\n",
        "  model.add(layers.Conv2D(32, (3, 3), activation='relu', input_shape=X_train.shape[1:]))\n",
        "  model.add(layers.Conv2D(32, (3, 3), activation='relu'))\n",
        "  model.add(layers.MaxPooling2D((2, 2)))\n",
        "  model.add(layers.Conv2D(64, (3, 3), activation='relu'))\n",
        "  model.add(layers.Conv2D(64, (3, 3), activation='relu'))\n",
        "  model.add(layers.MaxPooling2D((2, 2)))\n",
        "  model.add(layers.Conv2D(128, (3, 3), activation='relu'))\n",
        "\n",
        "  model.add(layers.Flatten())\n",
        "  model.add(layers.Dense(128, activation='relu'))\n",
        "  model.add(layers.Dense(256, activation='relu'))\n",
        "  model.add(layers.Dense(512, activation='relu'))\n",
        "\n",
        "  model.add(layers.Dense(10))\n",
        "  \n",
        "  optimizer = keras.optimizers.Adam(learning_rate=0.001)\n",
        "  model.compile(optimizer=optimizer,\n",
        "              loss=tf.keras.losses.SparseCategoricalCrossentropy(from_logits=True),\n",
        "              metrics=['accuracy'])\n",
        "  if X_test is None or y_test is None:\n",
        "    history = model.fit(X_train, y_train, epochs=epochs, \n",
        "                    validation_split=0.2)\n",
        "  else:\n",
        "    history = model.fit(X_train, y_train, epochs=epochs, \n",
        "                    validation_data=(X_test, y_test))\n",
        "  return model"
      ]
    },
    {
      "cell_type": "markdown",
      "metadata": {
        "id": "6RtAKVqlyUlA"
      },
      "source": [
        "Shuffle the dataset and divide it to 2 disjoint sets, $D_{target}$ and $D_{attacker}$."
      ]
    },
    {
      "cell_type": "code",
      "execution_count": null,
      "metadata": {
        "id": "oy2NLipP75sX"
      },
      "outputs": [],
      "source": [
        "(train_images, train_labels), (test_images, test_labels) = datasets.cifar10.load_data()\n",
        "\n",
        "#shuffle the datasets\n",
        "sample_i = np.random.choice(range(train_images.shape[0]), train_images.shape[0], replace=False)\n",
        "train_images = train_images[sample_i]\n",
        "train_labels = train_labels[sample_i]\n",
        "sample_i = np.random.choice(range(test_images.shape[0]), test_images.shape[0], replace=False)\n",
        "test_images = test_images[sample_i]\n",
        "test_labels = test_labels[sample_i] \n",
        "\n",
        "# define the target's training dataset and the attacker's retrieved dataset\n",
        "attacker_labels = np.concatenate((train_labels[D_TARGET_SIZE:], test_labels))\n",
        "attacker_images = np.concatenate((train_images[D_TARGET_SIZE:], test_images))\n",
        "target_images = train_images[:D_TARGET_SIZE]\n",
        "target_labels = train_labels[:D_TARGET_SIZE]"
      ]
    },
    {
      "cell_type": "code",
      "execution_count": null,
      "metadata": {
        "colab": {
          "base_uri": "https://localhost:8080/"
        },
        "id": "Ap02yKRT76RJ",
        "outputId": "f65d4a96-479e-40db-f7ad-92ea3af731b0"
      },
      "outputs": [
        {
          "name": "stdout",
          "output_type": "stream",
          "text": [
            "Epoch 1/25\n",
            "63/63 [==============================] - 5s 33ms/step - loss: 2.4417 - accuracy: 0.1455 - val_loss: 2.0587 - val_accuracy: 0.2280\n",
            "Epoch 2/25\n",
            "63/63 [==============================] - 1s 19ms/step - loss: 1.9701 - accuracy: 0.2530 - val_loss: 2.0294 - val_accuracy: 0.2020\n",
            "Epoch 3/25\n",
            "63/63 [==============================] - 1s 20ms/step - loss: 1.8307 - accuracy: 0.3145 - val_loss: 1.8177 - val_accuracy: 0.3560\n",
            "Epoch 4/25\n",
            "63/63 [==============================] - 1s 18ms/step - loss: 1.6840 - accuracy: 0.3580 - val_loss: 1.7540 - val_accuracy: 0.3680\n",
            "Epoch 5/25\n",
            "63/63 [==============================] - 1s 16ms/step - loss: 1.5604 - accuracy: 0.4120 - val_loss: 1.8259 - val_accuracy: 0.3280\n",
            "Epoch 6/25\n",
            "63/63 [==============================] - 1s 19ms/step - loss: 1.4907 - accuracy: 0.4395 - val_loss: 1.8100 - val_accuracy: 0.3620\n",
            "Epoch 7/25\n",
            "63/63 [==============================] - 1s 19ms/step - loss: 1.3841 - accuracy: 0.4845 - val_loss: 1.8268 - val_accuracy: 0.3300\n",
            "Epoch 8/25\n",
            "63/63 [==============================] - 1s 20ms/step - loss: 1.2364 - accuracy: 0.5455 - val_loss: 1.9191 - val_accuracy: 0.3480\n",
            "Epoch 9/25\n",
            "63/63 [==============================] - 1s 19ms/step - loss: 1.1428 - accuracy: 0.5995 - val_loss: 1.9890 - val_accuracy: 0.3800\n",
            "Epoch 10/25\n",
            "63/63 [==============================] - 1s 19ms/step - loss: 1.0733 - accuracy: 0.6170 - val_loss: 1.9937 - val_accuracy: 0.3280\n",
            "Epoch 11/25\n",
            "63/63 [==============================] - 1s 21ms/step - loss: 0.9210 - accuracy: 0.6735 - val_loss: 2.1267 - val_accuracy: 0.3660\n",
            "Epoch 12/25\n",
            "63/63 [==============================] - 1s 18ms/step - loss: 0.7529 - accuracy: 0.7325 - val_loss: 2.1664 - val_accuracy: 0.3740\n",
            "Epoch 13/25\n",
            "63/63 [==============================] - 1s 19ms/step - loss: 0.6568 - accuracy: 0.7695 - val_loss: 2.4269 - val_accuracy: 0.3820\n",
            "Epoch 14/25\n",
            "63/63 [==============================] - 1s 19ms/step - loss: 0.5702 - accuracy: 0.8055 - val_loss: 2.3516 - val_accuracy: 0.3540\n",
            "Epoch 15/25\n",
            "63/63 [==============================] - 1s 18ms/step - loss: 0.4757 - accuracy: 0.8395 - val_loss: 2.6178 - val_accuracy: 0.3580\n",
            "Epoch 16/25\n",
            "63/63 [==============================] - 1s 19ms/step - loss: 0.4299 - accuracy: 0.8515 - val_loss: 2.9182 - val_accuracy: 0.3480\n",
            "Epoch 17/25\n",
            "63/63 [==============================] - 1s 18ms/step - loss: 0.4070 - accuracy: 0.8575 - val_loss: 2.9391 - val_accuracy: 0.3820\n",
            "Epoch 18/25\n",
            "63/63 [==============================] - 1s 20ms/step - loss: 0.3124 - accuracy: 0.8950 - val_loss: 3.2265 - val_accuracy: 0.3580\n",
            "Epoch 19/25\n",
            "63/63 [==============================] - 1s 17ms/step - loss: 0.4063 - accuracy: 0.8680 - val_loss: 3.0426 - val_accuracy: 0.3700\n",
            "Epoch 20/25\n",
            "63/63 [==============================] - 1s 19ms/step - loss: 0.2343 - accuracy: 0.9265 - val_loss: 3.0605 - val_accuracy: 0.3760\n",
            "Epoch 21/25\n",
            "63/63 [==============================] - 1s 20ms/step - loss: 0.2898 - accuracy: 0.9075 - val_loss: 3.1398 - val_accuracy: 0.4100\n",
            "Epoch 22/25\n",
            "63/63 [==============================] - 1s 19ms/step - loss: 0.2146 - accuracy: 0.9255 - val_loss: 3.6487 - val_accuracy: 0.3800\n",
            "Epoch 23/25\n",
            "63/63 [==============================] - 1s 20ms/step - loss: 0.1421 - accuracy: 0.9540 - val_loss: 4.3085 - val_accuracy: 0.3680\n",
            "Epoch 24/25\n",
            "63/63 [==============================] - 1s 23ms/step - loss: 0.2449 - accuracy: 0.9200 - val_loss: 3.4912 - val_accuracy: 0.3840\n",
            "Epoch 25/25\n",
            "63/63 [==============================] - 1s 19ms/step - loss: 0.2412 - accuracy: 0.9160 - val_loss: 3.9950 - val_accuracy: 0.3960\n"
          ]
        }
      ],
      "source": [
        "train_images, eval_images, train_labels, eval_labels = train_test_split(target_images, target_labels, test_size=0.2, shuffle=True)\n",
        "target_model = f_target(train_images, train_labels, eval_images, eval_labels, epochs=25) "
      ]
    },
    {
      "cell_type": "markdown",
      "metadata": {
        "id": "7iZIZukeygbi"
      },
      "source": [
        "## Shadow Models\n",
        "\n",
        "Set up a batch of shadow models to use in both attacks. We will use 5 shadow models, with 2500 instances assigned to each one of them.\n"
      ]
    },
    {
      "cell_type": "code",
      "execution_count": null,
      "metadata": {
        "id": "2GWyCXmmwIiJ"
      },
      "outputs": [],
      "source": [
        "N_SHADOWS = 5\n",
        "D_SHADOW_SIZE = 2500"
      ]
    },
    {
      "cell_type": "code",
      "execution_count": null,
      "metadata": {
        "id": "2rwhySHfVQjV"
      },
      "outputs": [],
      "source": [
        "def f_shadow():\n",
        "  model = models.Sequential()\n",
        "  model.add(layers.Conv2D(32, (3, 3), activation='relu', input_shape=(32, 32, 3)))\n",
        "  model.add(layers.MaxPooling2D((2, 2)))\n",
        "  model.add(layers.Conv2D(64, (3, 3), activation='relu'))\n",
        "  model.add(layers.MaxPooling2D((2, 2)))\n",
        "  model.add(layers.Conv2D(128, (3, 3), activation='relu'))\n",
        "\n",
        "\n",
        "  model.add(layers.Flatten())\n",
        "  model.add(layers.Dense(512, activation='relu'))\n",
        "\n",
        "  model.add(layers.Dense(10))\n",
        "  \n",
        "  optimizer = keras.optimizers.Adam()\n",
        "  model.compile(optimizer=optimizer,\n",
        "              loss=tf.keras.losses.SparseCategoricalCrossentropy(from_logits=True),\n",
        "              metrics=['accuracy'])\n",
        "  return model"
      ]
    },
    {
      "cell_type": "markdown",
      "metadata": {
        "id": "-LP3LAvKyuPj"
      },
      "source": [
        "## Confidence Vector attack\n",
        "Perform the attack and evaluate the results."
      ]
    },
    {
      "cell_type": "code",
      "execution_count": null,
      "metadata": {
        "colab": {
          "base_uri": "https://localhost:8080/",
          "height": 786
        },
        "id": "229vDaGl1kKq",
        "outputId": "46c2e51e-1627-4b10-c274-78dea86e5c86"
      },
      "outputs": [
        {
          "name": "stdout",
          "output_type": "stream",
          "text": [
            "Preparing shadow batch of size 1650\n",
            "Done!\n",
            "Preparing shadow batch of size 1650\n",
            "Done!\n",
            "Preparing shadow batch of size 1650\n",
            "Done!\n",
            "Preparing shadow batch of size 1650\n",
            "Done!\n",
            "Preparing shadow batch of size 1650\n",
            "Done!\n",
            "class-1 acc: 0.7857142686843872\n",
            "class-2 acc: 0.7555555701255798\n",
            "class-3 acc: 0.8279816508293152\n",
            "class-4 acc: 0.8571428656578064\n",
            "class-5 acc: 0.7531806826591492\n",
            "class-6 acc: 0.8369304537773132\n",
            "class-7 acc: 0.762273907661438\n",
            "class-8 acc: 0.8150851726531982\n",
            "class-9 acc: 0.7622950673103333\n",
            "class-10 acc: 0.800000011920929\n",
            "              precision    recall  f1-score   support\n",
            "\n",
            "         0.0       0.80      0.78      0.79      2000\n",
            "         1.0       0.79      0.81      0.80      2000\n",
            "\n",
            "    accuracy                           0.80      4000\n",
            "   macro avg       0.80      0.80      0.80      4000\n",
            "weighted avg       0.80      0.80      0.80      4000\n",
            "\n",
            "AUC: 0.852005625\n"
          ]
        },
        {
          "data": {
            "image/png": "[encoded data removed]",
            "text/plain": [
              "<Figure size 432x288 with 1 Axes>"
            ]
          },
          "metadata": {
            "needs_background": "light"
          },
          "output_type": "display_data"
        }
      ],
      "source": [
        "attack = ConfidenceVectorAttack(target_model, (train_images, train_labels), (attacker_images, attacker_labels), f_shadow, \n",
        "                                n_shadows=N_SHADOWS, D_shadow_size=D_SHADOW_SIZE)\n",
        "attack.perform_attack()\n",
        "attack.evaluate_attack()"
      ]
    },
    {
      "cell_type": "markdown",
      "metadata": {
        "id": "0iUXBnHBgNQG"
      },
      "source": [
        "# Label Only Attack\n",
        "Perform the attack, evaluate it and compare it with the *condifence vector* MIA."
      ]
    },
    {
      "cell_type": "code",
      "execution_count": null,
      "metadata": {
        "colab": {
          "base_uri": "https://localhost:8080/",
          "height": 786
        },
        "id": "Q5brrMNvgT7l",
        "outputId": "dd570530-220b-4aa5-f985-2a37cee24ca9"
      },
      "outputs": [
        {
          "name": "stdout",
          "output_type": "stream",
          "text": [
            "Preparing shadow batch of size 1650\n",
            "Done!\n",
            "Preparing shadow batch of size 1650\n",
            "Done!\n",
            "Preparing shadow batch of size 1650\n",
            "Done!\n",
            "Preparing shadow batch of size 1650\n",
            "Done!\n",
            "Preparing shadow batch of size 1650\n",
            "Done!\n",
            "class-1 acc: 0.7609755992889404\n",
            "class-2 acc: 0.76902174949646\n",
            "class-3 acc: 0.8549222946166992\n",
            "class-4 acc: 0.8417431116104126\n",
            "class-5 acc: 0.8621553778648376\n",
            "class-6 acc: 0.8254716992378235\n",
            "class-7 acc: 0.7175572514533997\n",
            "class-8 acc: 0.8024096488952637\n",
            "class-9 acc: 0.7422680258750916\n",
            "class-10 acc: 0.7795275449752808\n",
            "              precision    recall  f1-score   support\n",
            "\n",
            "         0.0       0.86      0.71      0.78      2000\n",
            "         1.0       0.75      0.88      0.81      2000\n",
            "\n",
            "    accuracy                           0.80      4000\n",
            "   macro avg       0.81      0.80      0.79      4000\n",
            "weighted avg       0.81      0.80      0.79      4000\n",
            "\n",
            "AUC: 0.819710875\n"
          ]
        },
        {
          "data": {
            "image/png": "[encoded data removed]",
            "text/plain": [
              "<Figure size 432x288 with 1 Axes>"
            ]
          },
          "metadata": {
            "needs_background": "light"
          },
          "output_type": "display_data"
        }
      ],
      "source": [
        "def f_attack():\n",
        "  model = models.Sequential(name='cifar10_label-only_attack-model')\n",
        "  # input dims = 2*r(# of rotates - neutral)  + 4*d(# of translates - neutral) + 2 (y_pred, y_true)\n",
        "  model.add(layers.Dense(10, input_shape=(2*3+4*1+2, )))\n",
        "  model.add(layers.LeakyReLU(0.3))\n",
        "  model.add(layers.Dense(1, activation='sigmoid'))\n",
        "        \n",
        "  model.compile(optimizer='adam',\n",
        "                    loss='binary_crossentropy',\n",
        "                    metrics=['accuracy'])\n",
        "  \n",
        "  print(model.summary())\n",
        "  return model \n",
        "\n",
        "label_only_attack = LabelOnlyAttack(target_model, (train_images, train_labels), (attacker_images, attacker_labels), \n",
        "                                    rotates=3, translates=1, \n",
        "                                    attack_model_creator=f_attack,\n",
        "                                    shadow_creator=f_shadow, \n",
        "                                n_shadows=N_SHADOWS, D_shadow_size=D_SHADOW_SIZE)\n",
        "label_only_attack.perform_attack()\n",
        "label_only_attack.evaluate_attack()"
      ]
    },
    {
      "cell_type": "markdown",
      "metadata": {
        "id": "zjrXo6W9y_gk"
      },
      "source": [
        "## Attack Comparison Results\n",
        "\n"
      ]
    }
  ],
  "metadata": {
    "accelerator": "GPU",
    "colab": {
      "collapsed_sections": [],
      "name": "cifar_10_labels_only_conf_vec_comparison-v1.ipynb",
      "provenance": []
    },
    "kernelspec": {
      "display_name": "Python 3",
      "name": "python3"
    },
    "language_info": {
      "codemirror_mode": {
        "name": "ipython",
        "version": 3
      },
      "file_extension": ".py",
      "mimetype": "text/x-python",
      "name": "python",
      "nbconvert_exporter": "python",
      "pygments_lexer": "ipython3",
      "version": "3.8.10"
    }
  },
  "nbformat": 4,
  "nbformat_minor": 0
}
