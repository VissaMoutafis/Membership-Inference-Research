{
 "cells": [
  {
   "cell_type": "code",
   "execution_count": 1,
   "id": "643faf4a",
   "metadata": {
    "execution": {
     "iopub.execute_input": "2022-03-16T10:47:39.487334Z",
     "iopub.status.busy": "2022-03-16T10:47:39.486188Z",
     "iopub.status.idle": "2022-03-16T10:47:48.019923Z",
     "shell.execute_reply": "2022-03-16T10:47:48.019141Z",
     "shell.execute_reply.started": "2022-03-15T22:48:52.436187Z"
    },
    "id": "tg_WQJ7j5n3B",
    "outputId": "3940986c-92d2-4551-ca8d-8de0d66994fe",
    "papermill": {
     "duration": 8.554391,
     "end_time": "2022-03-16T10:47:48.020092",
     "exception": false,
     "start_time": "2022-03-16T10:47:39.465701",
     "status": "completed"
    },
    "tags": []
   },
   "outputs": [
    {
     "name": "stdout",
     "output_type": "stream",
     "text": [
      "Num GPUs Available:  0\n"
     ]
    }
   ],
   "source": [
    "import numpy as np\n",
    "import pandas as pd\n",
    "import math\n",
    "import matplotlib.pyplot as plt\n",
    "\n",
    "import tensorflow as tf\n",
    "from tensorflow import keras\n",
    "from tensorflow.keras import datasets, layers, models\n",
    "\n",
    "from sklearn.model_selection import train_test_split\n",
    "from sklearn.linear_model import LogisticRegression, Perceptron\n",
    "from sklearn.tree import DecisionTreeClassifier\n",
    "from sklearn.ensemble import RandomForestClassifier\n",
    "from sklearn.metrics import classification_report, precision_score, recall_score, accuracy_score\n",
    "\n",
    "from tqdm import tqdm\n",
    "import sys\n",
    "print(\"Num GPUs Available: \", len(tf.config.list_physical_devices('GPU')))\n",
    "\n",
    "!cp ../input/mia-v2 mia_v2 -r\n",
    "\n",
    "from mia_v2.shadow_models import *\n",
    "from mia_v2.attack_model import *\n",
    "from mia_v2.utilities import *\n",
    "from mia_v2.wrappers import *\n",
    "from mia_v2.categorical_perturbator import augment_categorical_dataset"
   ]
  },
  {
   "cell_type": "code",
   "execution_count": 2,
   "id": "232d5d84",
   "metadata": {
    "execution": {
     "iopub.execute_input": "2022-03-16T10:47:48.059998Z",
     "iopub.status.busy": "2022-03-16T10:47:48.059270Z",
     "iopub.status.idle": "2022-03-16T10:47:48.061727Z",
     "shell.execute_reply": "2022-03-16T10:47:48.061259Z",
     "shell.execute_reply.started": "2022-03-15T22:49:00.5261Z"
    },
    "papermill": {
     "duration": 0.024949,
     "end_time": "2022-03-16T10:47:48.061848",
     "exception": false,
     "start_time": "2022-03-16T10:47:48.036899",
     "status": "completed"
    },
    "tags": []
   },
   "outputs": [],
   "source": [
    "def f_target():\n",
    "    model = models.Sequential([\n",
    "            layers.Dense(128, activation='tanh'),\n",
    "            layers.Dense(N_CLASSES)\n",
    "    ])\n",
    "    optimizer = keras.optimizers.Adam(learning_rate=0.001)\n",
    "    loss = tf.keras.losses.SparseCategoricalCrossentropy(from_logits=True)\n",
    "    model.compile(optimizer=optimizer, loss=loss, metrics=['accuracy'])\n",
    "    return model"
   ]
  },
  {
   "cell_type": "code",
   "execution_count": 3,
   "id": "e78aab65",
   "metadata": {
    "execution": {
     "iopub.execute_input": "2022-03-16T10:47:48.087526Z",
     "iopub.status.busy": "2022-03-16T10:47:48.086809Z",
     "iopub.status.idle": "2022-03-16T10:47:48.090997Z",
     "shell.execute_reply": "2022-03-16T10:47:48.091445Z",
     "shell.execute_reply.started": "2022-03-15T22:49:00.536694Z"
    },
    "papermill": {
     "duration": 0.018808,
     "end_time": "2022-03-16T10:47:48.091589",
     "exception": false,
     "start_time": "2022-03-16T10:47:48.072781",
     "status": "completed"
    },
    "tags": []
   },
   "outputs": [],
   "source": [
    "es = EarlyStopping(monitor='val_accuracy', mode='max', min_delta=1e-3, patience=10)\n",
    "epochs = 200\n",
    "batch_size = 64"
   ]
  },
  {
   "cell_type": "code",
   "execution_count": 4,
   "id": "083d2db2",
   "metadata": {
    "execution": {
     "iopub.execute_input": "2022-03-16T10:47:48.117296Z",
     "iopub.status.busy": "2022-03-16T10:47:48.116649Z",
     "iopub.status.idle": "2022-03-16T10:47:48.120852Z",
     "shell.execute_reply": "2022-03-16T10:47:48.121262Z",
     "shell.execute_reply.started": "2022-03-15T22:49:00.558462Z"
    },
    "papermill": {
     "duration": 0.018723,
     "end_time": "2022-03-16T10:47:48.121428",
     "exception": false,
     "start_time": "2022-03-16T10:47:48.102705",
     "status": "completed"
    },
    "tags": []
   },
   "outputs": [],
   "source": [
    "N_SHADOWS = 5\n",
    "D_SHADOW_SIZE = 17000"
   ]
  },
  {
   "cell_type": "code",
   "execution_count": 5,
   "id": "b15160c4",
   "metadata": {
    "execution": {
     "iopub.execute_input": "2022-03-16T10:47:48.146354Z",
     "iopub.status.busy": "2022-03-16T10:47:48.145695Z",
     "iopub.status.idle": "2022-03-16T10:47:48.150898Z",
     "shell.execute_reply": "2022-03-16T10:47:48.151354Z",
     "shell.execute_reply.started": "2022-03-15T22:49:00.572326Z"
    },
    "papermill": {
     "duration": 0.01905,
     "end_time": "2022-03-16T10:47:48.151507",
     "exception": false,
     "start_time": "2022-03-16T10:47:48.132457",
     "status": "completed"
    },
    "tags": []
   },
   "outputs": [],
   "source": [
    "def f_attack():\n",
    "    model = models.Sequential(\n",
    "        [\n",
    "            layers.Dense(N_CLASSES+1),\n",
    "            layers.LeakyReLU(0.3),\n",
    "            layers.Dense(1, activation='sigmoid')\n",
    "        ]\n",
    "    )\n",
    "    model.compile(optimizer='adam', loss='binary_crossentropy', metrics=['accuracy'])\n",
    "    return model"
   ]
  },
  {
   "cell_type": "code",
   "execution_count": 6,
   "id": "a5319ba8",
   "metadata": {
    "execution": {
     "iopub.execute_input": "2022-03-16T10:47:48.176199Z",
     "iopub.status.busy": "2022-03-16T10:47:48.175565Z",
     "iopub.status.idle": "2022-03-16T10:47:48.188146Z",
     "shell.execute_reply": "2022-03-16T10:47:48.188579Z",
     "shell.execute_reply.started": "2022-03-15T22:50:16.417156Z"
    },
    "papermill": {
     "duration": 0.02635,
     "end_time": "2022-03-16T10:47:48.188708",
     "exception": false,
     "start_time": "2022-03-16T10:47:48.162358",
     "status": "completed"
    },
    "tags": []
   },
   "outputs": [],
   "source": [
    "def attack_purchase_k(k):\n",
    "    global N_CLASSES\n",
    "    N_CLASSES=k\n",
    "    print(f'Attacking on Purchase-{k}')\n",
    "    # get dataset\n",
    "    dataset_path = f'../input/purchase-datasets/purchase-{k}.csv' \n",
    "    data_df = pd.read_csv(dataset_path, index_col=0)\n",
    "    y = data_df.pop('label').to_numpy(dtype=np.int8).reshape(-1)\n",
    "    X = data_df.to_numpy(dtype=np.int8) \n",
    "    \n",
    "    # divide to target and attack dataset\n",
    "    X_target, X_attacker, y_target, y_attacker = train_test_split(X, y, train_size=14926, test_size=3*10**4, shuffle=True, random_state=0)\n",
    "    # train-test split for the target\n",
    "    X_train, X_test, y_train, y_test = train_test_split(X_target, y_target, test_size=0.33, shuffle=True, random_state=0)\n",
    "    print(f'D_train_in size: {X_train.shape[0]}. Ready to train target model...')\n",
    "    \n",
    "    target_model = f_target()\n",
    "    history = target_model.fit(X_train, y_train, epochs=epochs, batch_size=batch_size, validation_data=(X_test, y_test), callbacks=[es])\n",
    "    print(f'Label_only: Attacking with {X_attacker.shape[0]} datapoints...')\n",
    "    attack = LabelOnlyAttack(target_model, \n",
    "                                        (X_train, y_train), \n",
    "                                        (X_attacker, y_attacker), \n",
    "                                        attack_model_creator=f_attack,\n",
    "                                        shadow_creator=f_target, \n",
    "                                        n_shadows=N_SHADOWS, \n",
    "                                        D_shadow_size=D_SHADOW_SIZE, \n",
    "                                        verbose=False)\n",
    "    attack.perform_attack(\n",
    "        augmentation_generator=augment_categorical_dataset, \n",
    "        aug_gen_args={'n_perturbations':20, 'max_dist':2, 'sampling':True}, \n",
    "        shadow={'epochs':epochs, 'batch_size':128, 'callbacks':[es]}, \n",
    "        attack={'epochs':50, 'batch_size':128})\n",
    "    res = attack.evaluate_attack()\n",
    "    \n",
    "    del data_df\n",
    "    return res"
   ]
  },
  {
   "cell_type": "code",
   "execution_count": 7,
   "id": "87a86d1e",
   "metadata": {
    "execution": {
     "iopub.execute_input": "2022-03-16T10:47:48.213351Z",
     "iopub.status.busy": "2022-03-16T10:47:48.212720Z",
     "iopub.status.idle": "2022-03-16T10:47:48.216700Z",
     "shell.execute_reply": "2022-03-16T10:47:48.216298Z",
     "shell.execute_reply.started": "2022-03-15T22:50:20.791546Z"
    },
    "papermill": {
     "duration": 0.017139,
     "end_time": "2022-03-16T10:47:48.216799",
     "exception": false,
     "start_time": "2022-03-16T10:47:48.199660",
     "status": "completed"
    },
    "tags": []
   },
   "outputs": [],
   "source": [
    "N_CLASSES_LIST = [5, 10, 20, 50, 100]"
   ]
  },
  {
   "cell_type": "code",
   "execution_count": 8,
   "id": "5afb19bf",
   "metadata": {
    "execution": {
     "iopub.execute_input": "2022-03-16T10:47:48.241487Z",
     "iopub.status.busy": "2022-03-16T10:47:48.240854Z",
     "iopub.status.idle": "2022-03-16T11:06:28.916547Z",
     "shell.execute_reply": "2022-03-16T11:06:28.917093Z"
    },
    "papermill": {
     "duration": 1120.68971,
     "end_time": "2022-03-16T11:06:28.917413",
     "exception": false,
     "start_time": "2022-03-16T10:47:48.227703",
     "status": "completed"
    },
    "tags": []
   },
   "outputs": [
    {
     "name": "stdout",
     "output_type": "stream",
     "text": [
      "Attacking on Purchase-5\n",
      "D_train_in size: 10000. Ready to train target model...\n"
     ]
    },
    {
     "name": "stderr",
     "output_type": "stream",
     "text": [
      "2022-03-16 10:48:05.115501: I tensorflow/core/common_runtime/process_util.cc:146] Creating new thread pool with default inter op setting: 2. Tune using inter_op_parallelism_threads for best performance.\n",
      "2022-03-16 10:48:05.263580: I tensorflow/compiler/mlir/mlir_graph_optimization_pass.cc:185] None of the MLIR Optimization Passes are enabled (registered 2)\n"
     ]
    },
    {
     "name": "stdout",
     "output_type": "stream",
     "text": [
      "Epoch 1/200\n",
      "157/157 [==============================] - 1s 5ms/step - loss: 0.6525 - accuracy: 0.7489 - val_loss: 0.4477 - val_accuracy: 0.8283\n",
      "Epoch 2/200\n",
      "157/157 [==============================] - 1s 4ms/step - loss: 0.3473 - accuracy: 0.8692 - val_loss: 0.3583 - val_accuracy: 0.8565\n",
      "Epoch 3/200\n",
      "157/157 [==============================] - 1s 4ms/step - loss: 0.2574 - accuracy: 0.9101 - val_loss: 0.3373 - val_accuracy: 0.8542\n",
      "Epoch 4/200\n",
      "157/157 [==============================] - 1s 4ms/step - loss: 0.2090 - accuracy: 0.9275 - val_loss: 0.3004 - val_accuracy: 0.8745\n",
      "Epoch 5/200\n",
      "157/157 [==============================] - 1s 4ms/step - loss: 0.1703 - accuracy: 0.9447 - val_loss: 0.2934 - val_accuracy: 0.8778\n",
      "Epoch 6/200\n",
      "157/157 [==============================] - 1s 4ms/step - loss: 0.1528 - accuracy: 0.9513 - val_loss: 0.3178 - val_accuracy: 0.8691\n",
      "Epoch 7/200\n",
      "157/157 [==============================] - 1s 5ms/step - loss: 0.1253 - accuracy: 0.9624 - val_loss: 0.2956 - val_accuracy: 0.8784\n",
      "Epoch 8/200\n",
      "157/157 [==============================] - 1s 5ms/step - loss: 0.1044 - accuracy: 0.9729 - val_loss: 0.3050 - val_accuracy: 0.8764\n",
      "Epoch 9/200\n",
      "157/157 [==============================] - 1s 5ms/step - loss: 0.0864 - accuracy: 0.9803 - val_loss: 0.2995 - val_accuracy: 0.8794\n",
      "Epoch 10/200\n",
      "157/157 [==============================] - 1s 4ms/step - loss: 0.0740 - accuracy: 0.9857 - val_loss: 0.3244 - val_accuracy: 0.8774\n",
      "Epoch 11/200\n",
      "157/157 [==============================] - 1s 4ms/step - loss: 0.0633 - accuracy: 0.9880 - val_loss: 0.3222 - val_accuracy: 0.8780\n",
      "Epoch 12/200\n",
      "157/157 [==============================] - 1s 4ms/step - loss: 0.0477 - accuracy: 0.9940 - val_loss: 0.3086 - val_accuracy: 0.8816\n",
      "Epoch 13/200\n",
      "157/157 [==============================] - 1s 4ms/step - loss: 0.0389 - accuracy: 0.9975 - val_loss: 0.3347 - val_accuracy: 0.8810\n",
      "Epoch 14/200\n",
      "157/157 [==============================] - 1s 5ms/step - loss: 0.0328 - accuracy: 0.9977 - val_loss: 0.3228 - val_accuracy: 0.8825\n",
      "Epoch 15/200\n",
      "157/157 [==============================] - 1s 7ms/step - loss: 0.0261 - accuracy: 0.9992 - val_loss: 0.3374 - val_accuracy: 0.8821\n",
      "Epoch 16/200\n",
      "157/157 [==============================] - 1s 5ms/step - loss: 0.0213 - accuracy: 0.9998 - val_loss: 0.3473 - val_accuracy: 0.8841\n",
      "Epoch 17/200\n",
      "157/157 [==============================] - 1s 4ms/step - loss: 0.0183 - accuracy: 0.9999 - val_loss: 0.3455 - val_accuracy: 0.8839\n",
      "Epoch 18/200\n",
      "157/157 [==============================] - 1s 4ms/step - loss: 0.0148 - accuracy: 1.0000 - val_loss: 0.3516 - val_accuracy: 0.8843\n",
      "Epoch 19/200\n",
      "157/157 [==============================] - 1s 4ms/step - loss: 0.0116 - accuracy: 1.0000 - val_loss: 0.3634 - val_accuracy: 0.8837\n",
      "Epoch 20/200\n",
      "157/157 [==============================] - 1s 4ms/step - loss: 0.0099 - accuracy: 1.0000 - val_loss: 0.3667 - val_accuracy: 0.8845\n",
      "Epoch 21/200\n",
      "157/157 [==============================] - 1s 4ms/step - loss: 0.0085 - accuracy: 1.0000 - val_loss: 0.3779 - val_accuracy: 0.8825\n",
      "Epoch 22/200\n",
      "157/157 [==============================] - 1s 4ms/step - loss: 0.0074 - accuracy: 1.0000 - val_loss: 0.3783 - val_accuracy: 0.8849\n",
      "Epoch 23/200\n",
      "157/157 [==============================] - 1s 6ms/step - loss: 0.0066 - accuracy: 1.0000 - val_loss: 0.3859 - val_accuracy: 0.8821\n",
      "Epoch 24/200\n",
      "157/157 [==============================] - 1s 4ms/step - loss: 0.0055 - accuracy: 1.0000 - val_loss: 0.3893 - val_accuracy: 0.8849\n",
      "Epoch 25/200\n",
      "157/157 [==============================] - 1s 4ms/step - loss: 0.0048 - accuracy: 1.0000 - val_loss: 0.3942 - val_accuracy: 0.8843\n",
      "Epoch 26/200\n",
      "157/157 [==============================] - 1s 4ms/step - loss: 0.0044 - accuracy: 1.0000 - val_loss: 0.4042 - val_accuracy: 0.8839\n",
      "Label_only: Attacking with 30000 datapoints...\n",
      "Preparing shadow batch of size 11220\n",
      "Initializing perturbator for the first time...\n",
      "Done!\n",
      "Preparing shadow batch of size 11220\n",
      "Done!\n",
      "Preparing shadow batch of size 11220\n",
      "Done!\n",
      "Preparing shadow batch of size 11220\n",
      "Done!\n",
      "Preparing shadow batch of size 11220\n",
      "Done!\n",
      "class-1 acc: 0.5764932632446289\n",
      "class-2 acc: 0.5822810530662537\n",
      "class-3 acc: 0.5670886039733887\n",
      "class-4 acc: 0.5990078449249268\n",
      "class-5 acc: 0.6112759709358215\n",
      "              precision    recall  f1-score   support\n",
      "\n",
      "         Out       1.00      0.18      0.30     10000\n",
      "          In       0.55      1.00      0.71     10000\n",
      "\n",
      "    accuracy                           0.59     20000\n",
      "   macro avg       0.77      0.59      0.50     20000\n",
      "weighted avg       0.77      0.59      0.50     20000\n",
      "\n",
      "AUC: 0.5805278899999999\n",
      "Attacking on Purchase-10\n",
      "D_train_in size: 10000. Ready to train target model...\n",
      "Epoch 1/200\n",
      "157/157 [==============================] - 1s 6ms/step - loss: 1.0878 - accuracy: 0.6102 - val_loss: 0.7457 - val_accuracy: 0.7199\n",
      "Epoch 2/200\n",
      "157/157 [==============================] - 1s 4ms/step - loss: 0.5600 - accuracy: 0.8050 - val_loss: 0.5558 - val_accuracy: 0.7986\n",
      "Epoch 3/200\n",
      "157/157 [==============================] - 1s 4ms/step - loss: 0.4201 - accuracy: 0.8611 - val_loss: 0.5137 - val_accuracy: 0.8000\n",
      "Epoch 4/200\n",
      "157/157 [==============================] - 1s 4ms/step - loss: 0.3360 - accuracy: 0.8968 - val_loss: 0.4982 - val_accuracy: 0.8071\n",
      "Epoch 5/200\n",
      "157/157 [==============================] - 1s 4ms/step - loss: 0.2779 - accuracy: 0.9161 - val_loss: 0.4733 - val_accuracy: 0.8098\n",
      "Epoch 6/200\n",
      "157/157 [==============================] - 1s 4ms/step - loss: 0.2287 - accuracy: 0.9360 - val_loss: 0.4709 - val_accuracy: 0.8067\n",
      "Epoch 7/200\n",
      "157/157 [==============================] - 1s 4ms/step - loss: 0.1904 - accuracy: 0.9530 - val_loss: 0.4682 - val_accuracy: 0.8104\n",
      "Epoch 8/200\n",
      "157/157 [==============================] - 1s 4ms/step - loss: 0.1610 - accuracy: 0.9645 - val_loss: 0.4590 - val_accuracy: 0.8136\n",
      "Epoch 9/200\n",
      "157/157 [==============================] - 1s 4ms/step - loss: 0.1367 - accuracy: 0.9734 - val_loss: 0.4659 - val_accuracy: 0.8167\n",
      "Epoch 10/200\n",
      "157/157 [==============================] - 1s 4ms/step - loss: 0.1111 - accuracy: 0.9836 - val_loss: 0.4862 - val_accuracy: 0.8078\n",
      "Epoch 11/200\n",
      "157/157 [==============================] - 1s 4ms/step - loss: 0.0956 - accuracy: 0.9877 - val_loss: 0.4643 - val_accuracy: 0.8197\n",
      "Epoch 12/200\n",
      "157/157 [==============================] - 1s 4ms/step - loss: 0.0787 - accuracy: 0.9925 - val_loss: 0.4758 - val_accuracy: 0.8187\n",
      "Epoch 13/200\n",
      "157/157 [==============================] - 1s 4ms/step - loss: 0.0637 - accuracy: 0.9972 - val_loss: 0.4829 - val_accuracy: 0.8165\n",
      "Epoch 14/200\n",
      "157/157 [==============================] - 1s 4ms/step - loss: 0.0531 - accuracy: 0.9985 - val_loss: 0.4962 - val_accuracy: 0.8183\n",
      "Epoch 15/200\n",
      "157/157 [==============================] - 1s 4ms/step - loss: 0.0433 - accuracy: 0.9994 - val_loss: 0.5061 - val_accuracy: 0.8155\n",
      "Epoch 16/200\n",
      "157/157 [==============================] - 1s 4ms/step - loss: 0.0362 - accuracy: 0.9997 - val_loss: 0.5096 - val_accuracy: 0.8169\n",
      "Epoch 17/200\n",
      "157/157 [==============================] - 1s 4ms/step - loss: 0.0302 - accuracy: 1.0000 - val_loss: 0.5130 - val_accuracy: 0.8195\n",
      "Epoch 18/200\n",
      "157/157 [==============================] - 1s 4ms/step - loss: 0.0255 - accuracy: 1.0000 - val_loss: 0.5226 - val_accuracy: 0.8189\n",
      "Epoch 19/200\n",
      "157/157 [==============================] - 1s 4ms/step - loss: 0.0221 - accuracy: 1.0000 - val_loss: 0.5378 - val_accuracy: 0.8157\n",
      "Epoch 20/200\n",
      "157/157 [==============================] - 1s 4ms/step - loss: 0.0187 - accuracy: 1.0000 - val_loss: 0.5442 - val_accuracy: 0.8169\n",
      "Epoch 21/200\n",
      "157/157 [==============================] - 1s 4ms/step - loss: 0.0162 - accuracy: 1.0000 - val_loss: 0.5534 - val_accuracy: 0.8149\n",
      "Label_only: Attacking with 30000 datapoints...\n",
      "Preparing shadow batch of size 11220\n",
      "Done!\n",
      "Preparing shadow batch of size 11220\n",
      "Done!\n",
      "Preparing shadow batch of size 11220\n",
      "Done!\n",
      "Preparing shadow batch of size 11220\n",
      "Done!\n",
      "Preparing shadow batch of size 11220\n",
      "Done!\n",
      "class-1 acc: 0.5890132188796997\n",
      "class-2 acc: 0.6358075141906738\n",
      "class-3 acc: 0.6513369083404541\n",
      "class-4 acc: 0.64552241563797\n",
      "class-5 acc: 0.6195165514945984\n",
      "class-6 acc: 0.6283876895904541\n",
      "class-7 acc: 0.6706444025039673\n",
      "class-8 acc: 0.6043805480003357\n",
      "class-9 acc: 0.6858288645744324\n",
      "class-10 acc: 0.6400535106658936\n",
      "              precision    recall  f1-score   support\n",
      "\n",
      "         Out       1.00      0.27      0.43     10000\n",
      "          In       0.58      1.00      0.73     10000\n",
      "\n",
      "    accuracy                           0.64     20000\n",
      "   macro avg       0.79      0.64      0.58     20000\n",
      "weighted avg       0.79      0.64      0.58     20000\n",
      "\n",
      "AUC: 0.642940625\n",
      "Attacking on Purchase-20\n",
      "D_train_in size: 10000. Ready to train target model...\n",
      "Epoch 1/200\n",
      "157/157 [==============================] - 1s 5ms/step - loss: 1.7055 - accuracy: 0.4519 - val_loss: 1.1232 - val_accuracy: 0.6143\n",
      "Epoch 2/200\n",
      "157/157 [==============================] - 1s 5ms/step - loss: 0.8554 - accuracy: 0.7301 - val_loss: 0.8434 - val_accuracy: 0.6965\n",
      "Epoch 3/200\n",
      "157/157 [==============================] - 1s 4ms/step - loss: 0.6200 - accuracy: 0.8126 - val_loss: 0.7464 - val_accuracy: 0.7231\n",
      "Epoch 4/200\n",
      "157/157 [==============================] - 1s 4ms/step - loss: 0.4923 - accuracy: 0.8592 - val_loss: 0.6997 - val_accuracy: 0.7324\n",
      "Epoch 5/200\n",
      "157/157 [==============================] - 1s 4ms/step - loss: 0.3990 - accuracy: 0.8957 - val_loss: 0.6743 - val_accuracy: 0.7359\n",
      "Epoch 6/200\n",
      "157/157 [==============================] - 1s 4ms/step - loss: 0.3257 - accuracy: 0.9260 - val_loss: 0.6582 - val_accuracy: 0.7418\n",
      "Epoch 7/200\n",
      "157/157 [==============================] - 1s 4ms/step - loss: 0.2688 - accuracy: 0.9479 - val_loss: 0.6475 - val_accuracy: 0.7489\n",
      "Epoch 8/200\n",
      "157/157 [==============================] - 1s 4ms/step - loss: 0.2231 - accuracy: 0.9624 - val_loss: 0.6606 - val_accuracy: 0.7438\n",
      "Epoch 9/200\n",
      "157/157 [==============================] - 1s 4ms/step - loss: 0.1854 - accuracy: 0.9763 - val_loss: 0.6541 - val_accuracy: 0.7420\n",
      "Epoch 10/200\n",
      "157/157 [==============================] - 1s 5ms/step - loss: 0.1530 - accuracy: 0.9859 - val_loss: 0.6643 - val_accuracy: 0.7418\n",
      "Epoch 11/200\n",
      "157/157 [==============================] - 1s 4ms/step - loss: 0.1259 - accuracy: 0.9918 - val_loss: 0.6765 - val_accuracy: 0.7318\n",
      "Epoch 12/200\n",
      "157/157 [==============================] - 1s 4ms/step - loss: 0.1062 - accuracy: 0.9946 - val_loss: 0.6745 - val_accuracy: 0.7406\n",
      "Epoch 13/200\n",
      "157/157 [==============================] - 1s 4ms/step - loss: 0.0868 - accuracy: 0.9976 - val_loss: 0.6826 - val_accuracy: 0.7440\n",
      "Epoch 14/200\n",
      "157/157 [==============================] - 1s 4ms/step - loss: 0.0719 - accuracy: 0.9990 - val_loss: 0.6924 - val_accuracy: 0.7444\n",
      "Epoch 15/200\n",
      "157/157 [==============================] - 1s 4ms/step - loss: 0.0604 - accuracy: 0.9993 - val_loss: 0.7020 - val_accuracy: 0.7414\n",
      "Epoch 16/200\n",
      "157/157 [==============================] - 1s 4ms/step - loss: 0.0515 - accuracy: 0.9995 - val_loss: 0.7191 - val_accuracy: 0.7418\n",
      "Epoch 17/200\n",
      "157/157 [==============================] - 1s 5ms/step - loss: 0.0435 - accuracy: 0.9998 - val_loss: 0.7323 - val_accuracy: 0.7389\n",
      "Label_only: Attacking with 30000 datapoints...\n",
      "Preparing shadow batch of size 11220\n",
      "Done!\n",
      "Preparing shadow batch of size 11220\n",
      "Done!\n",
      "Preparing shadow batch of size 11220\n",
      "Done!\n",
      "Preparing shadow batch of size 11220\n",
      "Done!\n",
      "Preparing shadow batch of size 11220\n",
      "Done!\n",
      "class-1 acc: 0.6609294414520264\n",
      "class-2 acc: 0.6642686128616333\n",
      "class-3 acc: 0.6977099180221558\n",
      "class-4 acc: 0.703160285949707\n",
      "class-5 acc: 0.6649269461631775\n",
      "class-6 acc: 0.7008973360061646\n",
      "class-7 acc: 0.7112349271774292\n",
      "class-8 acc: 0.6277602314949036\n",
      "class-9 acc: 0.6938271522521973\n",
      "class-10 acc: 0.7220779061317444\n",
      "class-11 acc: 0.6979423761367798\n",
      "class-12 acc: 0.7225531935691833\n",
      "class-13 acc: 0.7294871807098389\n",
      "class-14 acc: 0.6542635560035706\n",
      "class-15 acc: 0.7165005803108215\n",
      "class-16 acc: 0.6312364339828491\n",
      "class-17 acc: 0.6356736421585083\n",
      "class-18 acc: 0.6940231919288635\n",
      "class-19 acc: 0.6742268204689026\n",
      "class-20 acc: 0.6473429799079895\n",
      "              precision    recall  f1-score   support\n",
      "\n",
      "         Out       1.00      0.37      0.54     10000\n",
      "          In       0.61      1.00      0.76     10000\n",
      "\n",
      "    accuracy                           0.68     20000\n",
      "   macro avg       0.80      0.68      0.65     20000\n",
      "weighted avg       0.80      0.68      0.65     20000\n",
      "\n",
      "AUC: 0.68935539\n",
      "Attacking on Purchase-50\n",
      "D_train_in size: 10000. Ready to train target model...\n",
      "Epoch 1/200\n",
      "157/157 [==============================] - 1s 5ms/step - loss: 2.7941 - accuracy: 0.2671 - val_loss: 1.9410 - val_accuracy: 0.4659\n",
      "Epoch 2/200\n",
      "157/157 [==============================] - 1s 4ms/step - loss: 1.4890 - accuracy: 0.6119 - val_loss: 1.3760 - val_accuracy: 0.5897\n",
      "Epoch 3/200\n",
      "157/157 [==============================] - 1s 5ms/step - loss: 1.0346 - accuracy: 0.7316 - val_loss: 1.1600 - val_accuracy: 0.6202\n",
      "Epoch 4/200\n",
      "157/157 [==============================] - 1s 6ms/step - loss: 0.8006 - accuracy: 0.8025 - val_loss: 1.0461 - val_accuracy: 0.6411\n",
      "Epoch 5/200\n",
      "157/157 [==============================] - 1s 5ms/step - loss: 0.6362 - accuracy: 0.8604 - val_loss: 0.9889 - val_accuracy: 0.6594\n",
      "Epoch 6/200\n",
      "157/157 [==============================] - 1s 4ms/step - loss: 0.5193 - accuracy: 0.8978 - val_loss: 0.9401 - val_accuracy: 0.6667\n",
      "Epoch 7/200\n",
      "157/157 [==============================] - 1s 5ms/step - loss: 0.4237 - accuracy: 0.9347 - val_loss: 0.9295 - val_accuracy: 0.6612\n",
      "Epoch 8/200\n",
      "157/157 [==============================] - 1s 5ms/step - loss: 0.3491 - accuracy: 0.9555 - val_loss: 0.8966 - val_accuracy: 0.6734\n",
      "Epoch 9/200\n",
      "157/157 [==============================] - 1s 5ms/step - loss: 0.2899 - accuracy: 0.9711 - val_loss: 0.8995 - val_accuracy: 0.6687\n",
      "Epoch 10/200\n",
      "157/157 [==============================] - 1s 5ms/step - loss: 0.2378 - accuracy: 0.9826 - val_loss: 0.8959 - val_accuracy: 0.6734\n",
      "Epoch 11/200\n",
      "157/157 [==============================] - 1s 5ms/step - loss: 0.1988 - accuracy: 0.9911 - val_loss: 0.8854 - val_accuracy: 0.6744\n",
      "Epoch 12/200\n",
      "157/157 [==============================] - 1s 4ms/step - loss: 0.1632 - accuracy: 0.9950 - val_loss: 0.9092 - val_accuracy: 0.6640\n",
      "Epoch 13/200\n",
      "157/157 [==============================] - 1s 4ms/step - loss: 0.1383 - accuracy: 0.9975 - val_loss: 0.9010 - val_accuracy: 0.6715\n",
      "Epoch 14/200\n",
      "157/157 [==============================] - 1s 5ms/step - loss: 0.1154 - accuracy: 0.9990 - val_loss: 0.9118 - val_accuracy: 0.6740\n",
      "Epoch 15/200\n",
      "157/157 [==============================] - 1s 4ms/step - loss: 0.0970 - accuracy: 0.9999 - val_loss: 0.9164 - val_accuracy: 0.6663\n",
      "Epoch 16/200\n",
      "157/157 [==============================] - 1s 4ms/step - loss: 0.0827 - accuracy: 1.0000 - val_loss: 0.9222 - val_accuracy: 0.6677\n",
      "Epoch 17/200\n",
      "157/157 [==============================] - 1s 4ms/step - loss: 0.0705 - accuracy: 1.0000 - val_loss: 0.9325 - val_accuracy: 0.6677\n",
      "Epoch 18/200\n",
      "157/157 [==============================] - 1s 4ms/step - loss: 0.0607 - accuracy: 1.0000 - val_loss: 0.9510 - val_accuracy: 0.6638\n",
      "Epoch 19/200\n",
      "157/157 [==============================] - 1s 4ms/step - loss: 0.0528 - accuracy: 1.0000 - val_loss: 0.9501 - val_accuracy: 0.6630\n",
      "Epoch 20/200\n",
      "157/157 [==============================] - 1s 5ms/step - loss: 0.0459 - accuracy: 1.0000 - val_loss: 0.9699 - val_accuracy: 0.6604\n",
      "Epoch 21/200\n",
      "157/157 [==============================] - 1s 5ms/step - loss: 0.0402 - accuracy: 1.0000 - val_loss: 0.9735 - val_accuracy: 0.6606\n",
      "Label_only: Attacking with 30000 datapoints...\n",
      "Preparing shadow batch of size 11220\n",
      "Done!\n",
      "Preparing shadow batch of size 11220\n",
      "Done!\n",
      "Preparing shadow batch of size 11220\n",
      "Done!\n",
      "Preparing shadow batch of size 11220\n",
      "Done!\n",
      "Preparing shadow batch of size 11220\n",
      "Done!\n",
      "class-1 acc: 0.6759907007217407\n",
      "class-2 acc: 0.667870044708252\n",
      "class-3 acc: 0.6253443360328674\n",
      "class-4 acc: 0.6967213153839111\n",
      "class-5 acc: 0.7639594078063965\n",
      "class-6 acc: 0.6792452931404114\n",
      "class-7 acc: 0.7109207510948181\n",
      "class-8 acc: 0.6930946111679077\n",
      "class-9 acc: 0.742397129535675\n",
      "class-10 acc: 0.7923497557640076\n",
      "class-11 acc: 0.7723214030265808\n",
      "class-12 acc: 0.7165604829788208\n",
      "class-13 acc: 0.7750611305236816\n",
      "class-14 acc: 0.7475247383117676\n",
      "class-15 acc: 0.7408450841903687\n",
      "class-16 acc: 0.7408450841903687\n",
      "class-17 acc: 0.7754629850387573\n",
      "class-18 acc: 0.8109890222549438\n",
      "class-19 acc: 0.7058823704719543\n",
      "class-20 acc: 0.7291666865348816\n",
      "class-21 acc: 0.7226277589797974\n",
      "class-22 acc: 0.7599164843559265\n",
      "class-23 acc: 0.7511627674102783\n",
      "class-24 acc: 0.8317972421646118\n",
      "class-25 acc: 0.7522441744804382\n",
      "class-26 acc: 0.75\n",
      "class-27 acc: 0.7162790894508362\n",
      "class-28 acc: 0.7817258834838867\n",
      "class-29 acc: 0.7786885499954224\n",
      "class-30 acc: 0.7343283295631409\n",
      "class-31 acc: 0.7071428298950195\n",
      "class-32 acc: 0.6822659969329834\n",
      "class-33 acc: 0.7794970870018005\n",
      "class-34 acc: 0.7402299046516418\n",
      "class-35 acc: 0.7315789461135864\n",
      "class-36 acc: 0.800000011920929\n",
      "class-37 acc: 0.6551724076271057\n",
      "class-38 acc: 0.695652186870575\n",
      "class-39 acc: 0.6703296899795532\n",
      "class-40 acc: 0.699284017086029\n",
      "class-41 acc: 0.7283582091331482\n",
      "class-42 acc: 0.6475409865379333\n",
      "class-43 acc: 0.7202796936035156\n",
      "class-44 acc: 0.7458100318908691\n",
      "class-45 acc: 0.7407407164573669\n",
      "class-46 acc: 0.71257483959198\n",
      "class-47 acc: 0.7914438247680664\n",
      "class-48 acc: 0.7546816468238831\n",
      "class-49 acc: 0.7664042115211487\n",
      "class-50 acc: 0.6945337653160095\n",
      "              precision    recall  f1-score   support\n",
      "\n",
      "         Out       1.00      0.47      0.64     10000\n",
      "          In       0.65      1.00      0.79     10000\n",
      "\n",
      "    accuracy                           0.73     20000\n",
      "   macro avg       0.83      0.73      0.71     20000\n",
      "weighted avg       0.83      0.73      0.71     20000\n",
      "\n",
      "AUC: 0.7396918450000001\n",
      "Attacking on Purchase-100\n",
      "D_train_in size: 10000. Ready to train target model...\n",
      "Epoch 1/200\n",
      "157/157 [==============================] - 2s 8ms/step - loss: 3.7624 - accuracy: 0.1423 - val_loss: 2.8845 - val_accuracy: 0.2966\n",
      "Epoch 2/200\n",
      "157/157 [==============================] - 1s 5ms/step - loss: 2.2295 - accuracy: 0.4911 - val_loss: 1.9929 - val_accuracy: 0.4947\n",
      "Epoch 3/200\n",
      "157/157 [==============================] - 1s 5ms/step - loss: 1.5287 - accuracy: 0.6596 - val_loss: 1.6248 - val_accuracy: 0.5455\n",
      "Epoch 4/200\n",
      "157/157 [==============================] - 1s 5ms/step - loss: 1.1658 - accuracy: 0.7519 - val_loss: 1.4242 - val_accuracy: 0.5723\n",
      "Epoch 5/200\n",
      "157/157 [==============================] - 1s 5ms/step - loss: 0.9320 - accuracy: 0.8116 - val_loss: 1.3021 - val_accuracy: 0.5938\n",
      "Epoch 6/200\n",
      "157/157 [==============================] - 1s 5ms/step - loss: 0.7605 - accuracy: 0.8638 - val_loss: 1.2458 - val_accuracy: 0.5940\n",
      "Epoch 7/200\n",
      "157/157 [==============================] - 1s 5ms/step - loss: 0.6265 - accuracy: 0.9042 - val_loss: 1.1878 - val_accuracy: 0.6062\n",
      "Epoch 8/200\n",
      "157/157 [==============================] - 1s 5ms/step - loss: 0.5229 - accuracy: 0.9325 - val_loss: 1.1666 - val_accuracy: 0.6023\n",
      "Epoch 9/200\n",
      "157/157 [==============================] - 1s 5ms/step - loss: 0.4349 - accuracy: 0.9541 - val_loss: 1.1448 - val_accuracy: 0.6102\n",
      "Epoch 10/200\n",
      "157/157 [==============================] - 1s 5ms/step - loss: 0.3610 - accuracy: 0.9725 - val_loss: 1.1362 - val_accuracy: 0.6092\n",
      "Epoch 11/200\n",
      "157/157 [==============================] - 1s 5ms/step - loss: 0.3043 - accuracy: 0.9845 - val_loss: 1.1227 - val_accuracy: 0.6082\n",
      "Epoch 12/200\n",
      "157/157 [==============================] - 1s 5ms/step - loss: 0.2548 - accuracy: 0.9920 - val_loss: 1.1280 - val_accuracy: 0.6027\n",
      "Epoch 13/200\n",
      "157/157 [==============================] - 1s 5ms/step - loss: 0.2159 - accuracy: 0.9954 - val_loss: 1.1281 - val_accuracy: 0.5987\n",
      "Epoch 14/200\n",
      "157/157 [==============================] - 1s 5ms/step - loss: 0.1815 - accuracy: 0.9975 - val_loss: 1.1343 - val_accuracy: 0.5987\n",
      "Epoch 15/200\n",
      "157/157 [==============================] - 1s 5ms/step - loss: 0.1536 - accuracy: 0.9988 - val_loss: 1.1370 - val_accuracy: 0.5974\n",
      "Epoch 16/200\n",
      "157/157 [==============================] - 1s 5ms/step - loss: 0.1320 - accuracy: 0.9993 - val_loss: 1.1421 - val_accuracy: 0.5956\n",
      "Epoch 17/200\n",
      "157/157 [==============================] - 1s 5ms/step - loss: 0.1126 - accuracy: 0.9998 - val_loss: 1.1545 - val_accuracy: 0.5944\n",
      "Epoch 18/200\n",
      "157/157 [==============================] - 1s 4ms/step - loss: 0.0978 - accuracy: 0.9997 - val_loss: 1.1552 - val_accuracy: 0.5946\n",
      "Epoch 19/200\n",
      "157/157 [==============================] - 1s 5ms/step - loss: 0.0848 - accuracy: 0.9999 - val_loss: 1.1637 - val_accuracy: 0.5914\n",
      "Label_only: Attacking with 30000 datapoints...\n",
      "Preparing shadow batch of size 11220\n",
      "Done!\n",
      "Preparing shadow batch of size 11220\n",
      "Done!\n",
      "Preparing shadow batch of size 11220\n",
      "Done!\n",
      "Preparing shadow batch of size 11220\n",
      "Done!\n",
      "Preparing shadow batch of size 11220\n",
      "Done!\n",
      "class-1 acc: 0.8486486673355103\n",
      "class-2 acc: 0.7815126180648804\n",
      "class-3 acc: 0.7356321811676025\n",
      "class-4 acc: 0.7696078419685364\n",
      "class-5 acc: 0.7988826632499695\n",
      "class-6 acc: 0.8381742835044861\n",
      "class-7 acc: 0.7247191071510315\n",
      "class-8 acc: 0.7575757503509521\n",
      "class-9 acc: 0.7411764860153198\n",
      "class-10 acc: 0.7810945510864258\n",
      "class-11 acc: 0.75\n",
      "class-12 acc: 0.7802197933197021\n",
      "class-13 acc: 0.7037037014961243\n",
      "class-14 acc: 0.7180616855621338\n",
      "class-15 acc: 0.7224669456481934\n",
      "class-16 acc: 0.7977207899093628\n",
      "class-17 acc: 0.8143460154533386\n",
      "class-18 acc: 0.7487179636955261\n",
      "class-19 acc: 0.7911111116409302\n",
      "class-20 acc: 0.7511961460113525\n",
      "class-21 acc: 0.7606382966041565\n",
      "class-22 acc: 0.7897436022758484\n",
      "class-23 acc: 0.699999988079071\n",
      "class-24 acc: 0.8387096524238586\n",
      "class-25 acc: 0.8114285469055176\n",
      "class-26 acc: 0.7769230604171753\n",
      "class-27 acc: 0.8176795840263367\n",
      "class-28 acc: 0.757446825504303\n",
      "class-29 acc: 0.7189189195632935\n",
      "class-30 acc: 0.7142857313156128\n",
      "class-31 acc: 0.6666666865348816\n",
      "class-32 acc: 0.7191011309623718\n",
      "class-33 acc: 0.795918345451355\n",
      "class-34 acc: 0.7681159377098083\n",
      "class-35 acc: 0.8961039185523987\n",
      "class-36 acc: 0.7178217768669128\n",
      "class-37 acc: 0.7412280440330505\n",
      "class-38 acc: 0.8009049892425537\n",
      "class-39 acc: 0.7685589790344238\n",
      "class-40 acc: 0.7707316875457764\n",
      "class-41 acc: 0.8390804529190063\n",
      "class-42 acc: 0.8022598624229431\n",
      "class-43 acc: 0.7591623067855835\n",
      "class-44 acc: 0.7295918464660645\n",
      "class-45 acc: 0.7695473432540894\n",
      "class-46 acc: 0.7218934893608093\n",
      "class-47 acc: 0.8524590134620667\n",
      "class-48 acc: 0.7669903039932251\n",
      "class-49 acc: 0.7157894968986511\n",
      "class-50 acc: 0.8009708523750305\n",
      "class-51 acc: 0.7725118398666382\n",
      "class-52 acc: 0.8410256505012512\n",
      "class-53 acc: 0.66847825050354\n",
      "class-54 acc: 0.75\n",
      "class-55 acc: 0.7695852518081665\n",
      "class-56 acc: 0.7744361162185669\n",
      "class-57 acc: 0.7017543911933899\n",
      "class-58 acc: 0.7727272510528564\n",
      "class-59 acc: 0.7322404384613037\n",
      "class-60 acc: 0.7721518874168396\n",
      "class-61 acc: 0.7046979665756226\n",
      "class-62 acc: 0.699386477470398\n",
      "class-63 acc: 0.7687074542045593\n",
      "class-64 acc: 0.7545454502105713\n",
      "class-65 acc: 0.7692307829856873\n",
      "class-66 acc: 0.7540983557701111\n",
      "class-67 acc: 0.7850000262260437\n",
      "class-68 acc: 0.6803653240203857\n",
      "class-69 acc: 0.7405405640602112\n",
      "class-70 acc: 0.7642857432365417\n",
      "class-71 acc: 0.8306878209114075\n",
      "class-72 acc: 0.7586206793785095\n",
      "class-73 acc: 0.7293233275413513\n",
      "class-74 acc: 0.8023715615272522\n",
      "class-75 acc: 0.7922534942626953\n",
      "class-76 acc: 0.7349397540092468\n",
      "class-77 acc: 0.8303030133247375\n",
      "class-78 acc: 0.8013244867324829\n",
      "class-79 acc: 0.719298243522644\n",
      "class-80 acc: 0.7759197354316711\n",
      "class-81 acc: 0.7420381903648376\n",
      "class-82 acc: 0.7888888716697693\n",
      "class-83 acc: 0.6746031641960144\n",
      "class-84 acc: 0.7487684488296509\n",
      "class-85 acc: 0.650924026966095\n",
      "class-86 acc: 0.8038277626037598\n",
      "class-87 acc: 0.7860465049743652\n",
      "class-88 acc: 0.7911111116409302\n",
      "class-89 acc: 0.8011049628257751\n",
      "class-90 acc: 0.7314049601554871\n",
      "class-91 acc: 0.717391312122345\n",
      "class-92 acc: 0.7450980544090271\n",
      "class-93 acc: 0.8260869383811951\n",
      "class-94 acc: 0.7848101258277893\n",
      "class-95 acc: 0.7832512259483337\n",
      "class-96 acc: 0.8381742835044861\n",
      "class-97 acc: 0.8520408272743225\n",
      "class-98 acc: 0.8165680766105652\n",
      "class-99 acc: 0.7295597195625305\n",
      "class-100 acc: 0.7771428823471069\n",
      "              precision    recall  f1-score   support\n",
      "\n",
      "         Out       1.00      0.53      0.69     10000\n",
      "          In       0.68      1.00      0.81     10000\n",
      "\n",
      "    accuracy                           0.76     20000\n",
      "   macro avg       0.84      0.76      0.75     20000\n",
      "weighted avg       0.84      0.76      0.75     20000\n",
      "\n",
      "AUC: 0.770587125\n"
     ]
    },
    {
     "data": {
      "text/plain": [
       "<matplotlib.legend.Legend at 0x7f1853d83f10>"
      ]
     },
     "execution_count": 8,
     "metadata": {},
     "output_type": "execute_result"
    },
    {
     "data": {
      "image/png": "[encoded data removed]",
      "text/plain": [
       "<Figure size 432x288 with 1 Axes>"
      ]
     },
     "metadata": {
      "needs_background": "light"
     },
     "output_type": "display_data"
    }
   ],
   "source": [
    "pre, rec, acc, auc = [], [], [], [] \n",
    "for k in N_CLASSES_LIST:\n",
    "    _res, _auc, _fpr, _tpr = attack_purchase_k(k)\n",
    "    pre.append(_res['macro avg']['precision'])\n",
    "    rec.append(_res['macro avg']['recall'])\n",
    "    acc.append(_res['accuracy'])\n",
    "    auc.append(_auc)\n",
    "plt.legend([f'Purchase-{k}' for k in N_CLASSES_LIST])"
   ]
  },
  {
   "cell_type": "code",
   "execution_count": 9,
   "id": "e1041fc6",
   "metadata": {
    "execution": {
     "iopub.execute_input": "2022-03-16T11:06:29.932010Z",
     "iopub.status.busy": "2022-03-16T11:06:29.931249Z",
     "iopub.status.idle": "2022-03-16T11:06:30.073150Z",
     "shell.execute_reply": "2022-03-16T11:06:30.072292Z",
     "shell.execute_reply.started": "2022-03-15T22:50:09.806761Z"
    },
    "papermill": {
     "duration": 0.575744,
     "end_time": "2022-03-16T11:06:30.073273",
     "exception": false,
     "start_time": "2022-03-16T11:06:29.497529",
     "status": "completed"
    },
    "tags": []
   },
   "outputs": [
    {
     "data": {
      "text/plain": [
       "([<matplotlib.axis.XTick at 0x7f18acfdf490>,\n",
       "  <matplotlib.axis.XTick at 0x7f18acfdf7d0>,\n",
       "  <matplotlib.axis.XTick at 0x7f1853970ed0>,\n",
       "  <matplotlib.axis.XTick at 0x7f18a07c6950>,\n",
       "  <matplotlib.axis.XTick at 0x7f18a07c6190>],\n",
       " [Text(0, 0, ''),\n",
       "  Text(0, 0, ''),\n",
       "  Text(0, 0, ''),\n",
       "  Text(0, 0, ''),\n",
       "  Text(0, 0, '')])"
      ]
     },
     "execution_count": 9,
     "metadata": {},
     "output_type": "execute_result"
    },
    {
     "data": {
      "image/png": "[encoded data removed]",
      "text/plain": [
       "<Figure size 432x288 with 1 Axes>"
      ]
     },
     "metadata": {
      "needs_background": "light"
     },
     "output_type": "display_data"
    }
   ],
   "source": [
    "plt.plot(N_CLASSES_LIST, pre)\n",
    "plt.xlabel('#Classes')\n",
    "plt.ylabel('Precision Score')\n",
    "plt.xticks(N_CLASSES_LIST)"
   ]
  },
  {
   "cell_type": "code",
   "execution_count": 10,
   "id": "c353db22",
   "metadata": {
    "execution": {
     "iopub.execute_input": "2022-03-16T11:06:31.148443Z",
     "iopub.status.busy": "2022-03-16T11:06:31.127605Z",
     "iopub.status.idle": "2022-03-16T11:06:31.290074Z",
     "shell.execute_reply": "2022-03-16T11:06:31.290468Z",
     "shell.execute_reply.started": "2022-03-15T22:50:09.80905Z"
    },
    "papermill": {
     "duration": 0.796281,
     "end_time": "2022-03-16T11:06:31.290618",
     "exception": false,
     "start_time": "2022-03-16T11:06:30.494337",
     "status": "completed"
    },
    "tags": []
   },
   "outputs": [
    {
     "data": {
      "text/plain": [
       "([<matplotlib.axis.XTick at 0x7f18539758d0>,\n",
       "  <matplotlib.axis.XTick at 0x7f1853975a90>,\n",
       "  <matplotlib.axis.XTick at 0x7f1853975890>,\n",
       "  <matplotlib.axis.XTick at 0x7f18acf7a750>,\n",
       "  <matplotlib.axis.XTick at 0x7f18acf7aa50>],\n",
       " [Text(0, 0, ''),\n",
       "  Text(0, 0, ''),\n",
       "  Text(0, 0, ''),\n",
       "  Text(0, 0, ''),\n",
       "  Text(0, 0, '')])"
      ]
     },
     "execution_count": 10,
     "metadata": {},
     "output_type": "execute_result"
    },
    {
     "data": {
      "image/png": "[encoded data removed]",
      "text/plain": [
       "<Figure size 432x288 with 1 Axes>"
      ]
     },
     "metadata": {
      "needs_background": "light"
     },
     "output_type": "display_data"
    }
   ],
   "source": [
    "plt.plot(N_CLASSES_LIST, rec)\n",
    "plt.xlabel('#Classes')\n",
    "plt.ylabel('Recall Score')\n",
    "plt.xticks(N_CLASSES_LIST)"
   ]
  },
  {
   "cell_type": "code",
   "execution_count": 11,
   "id": "0918ee6f",
   "metadata": {
    "execution": {
     "iopub.execute_input": "2022-03-16T11:06:32.337528Z",
     "iopub.status.busy": "2022-03-16T11:06:32.327207Z",
     "iopub.status.idle": "2022-03-16T11:06:32.478138Z",
     "shell.execute_reply": "2022-03-16T11:06:32.477303Z",
     "shell.execute_reply.started": "2022-03-15T22:50:09.811441Z"
    },
    "papermill": {
     "duration": 0.783944,
     "end_time": "2022-03-16T11:06:32.478253",
     "exception": false,
     "start_time": "2022-03-16T11:06:31.694309",
     "status": "completed"
    },
    "tags": []
   },
   "outputs": [
    {
     "data": {
      "text/plain": [
       "([<matplotlib.axis.XTick at 0x7f18d022bed0>,\n",
       "  <matplotlib.axis.XTick at 0x7f1853bde290>,\n",
       "  <matplotlib.axis.XTick at 0x7f18a04f2910>,\n",
       "  <matplotlib.axis.XTick at 0x7f18d0250150>,\n",
       "  <matplotlib.axis.XTick at 0x7f18d02505d0>],\n",
       " [Text(0, 0, ''),\n",
       "  Text(0, 0, ''),\n",
       "  Text(0, 0, ''),\n",
       "  Text(0, 0, ''),\n",
       "  Text(0, 0, '')])"
      ]
     },
     "execution_count": 11,
     "metadata": {},
     "output_type": "execute_result"
    },
    {
     "data": {
      "image/png": "[encoded data removed]",
      "text/plain": [
       "<Figure size 432x288 with 1 Axes>"
      ]
     },
     "metadata": {
      "needs_background": "light"
     },
     "output_type": "display_data"
    }
   ],
   "source": [
    "plt.plot(N_CLASSES_LIST, acc)\n",
    "plt.xlabel('#Classes')\n",
    "plt.ylabel('Accuracy Score')\n",
    "plt.xticks(N_CLASSES_LIST)"
   ]
  },
  {
   "cell_type": "code",
   "execution_count": 12,
   "id": "f3d04c71",
   "metadata": {
    "execution": {
     "iopub.execute_input": "2022-03-16T11:06:33.308956Z",
     "iopub.status.busy": "2022-03-16T11:06:33.308458Z",
     "iopub.status.idle": "2022-03-16T11:06:33.468542Z",
     "shell.execute_reply": "2022-03-16T11:06:33.468950Z",
     "shell.execute_reply.started": "2022-03-15T22:50:09.814288Z"
    },
    "papermill": {
     "duration": 0.580365,
     "end_time": "2022-03-16T11:06:33.469111",
     "exception": false,
     "start_time": "2022-03-16T11:06:32.888746",
     "status": "completed"
    },
    "tags": []
   },
   "outputs": [
    {
     "data": {
      "text/plain": [
       "([<matplotlib.axis.XTick at 0x7f1853365cd0>,\n",
       "  <matplotlib.axis.XTick at 0x7f1853365d90>,\n",
       "  <matplotlib.axis.XTick at 0x7f185019e150>,\n",
       "  <matplotlib.axis.XTick at 0x7f18a388b490>,\n",
       "  <matplotlib.axis.XTick at 0x7f18a388b910>],\n",
       " [Text(0, 0, ''),\n",
       "  Text(0, 0, ''),\n",
       "  Text(0, 0, ''),\n",
       "  Text(0, 0, ''),\n",
       "  Text(0, 0, '')])"
      ]
     },
     "execution_count": 12,
     "metadata": {},
     "output_type": "execute_result"
    },
    {
     "data": {
      "image/png": "[encoded data removed]",
      "text/plain": [
       "<Figure size 432x288 with 1 Axes>"
      ]
     },
     "metadata": {
      "needs_background": "light"
     },
     "output_type": "display_data"
    }
   ],
   "source": [
    "plt.plot(N_CLASSES_LIST, auc)\n",
    "plt.xlabel('#Classes')\n",
    "plt.ylabel('AUC Score')\n",
    "plt.xticks(N_CLASSES_LIST)"
   ]
  }
 ],
 "metadata": {
  "kernelspec": {
   "display_name": "Python 3",
   "language": "python",
   "name": "python3"
  },
  "language_info": {
   "codemirror_mode": {
    "name": "ipython",
    "version": 3
   },
   "file_extension": ".py",
   "mimetype": "text/x-python",
   "name": "python",
   "nbconvert_exporter": "python",
   "pygments_lexer": "ipython3",
   "version": "3.7.12"
  },
  "papermill": {
   "default_parameters": {},
   "duration": 1149.462493,
   "end_time": "2022-03-16T11:06:37.539838",
   "environment_variables": {},
   "exception": null,
   "input_path": "__notebook__.ipynb",
   "output_path": "__notebook__.ipynb",
   "parameters": {},
   "start_time": "2022-03-16T10:47:28.077345",
   "version": "2.3.3"
  }
 },
 "nbformat": 4,
 "nbformat_minor": 5
}
