{
 "cells": [
  {
   "cell_type": "code",
   "execution_count": 1,
   "id": "fd019072",
   "metadata": {
    "execution": {
     "iopub.execute_input": "2022-03-15T22:48:44.089275Z",
     "iopub.status.busy": "2022-03-15T22:48:44.087970Z",
     "iopub.status.idle": "2022-03-15T22:48:52.547991Z",
     "shell.execute_reply": "2022-03-15T22:48:52.548508Z",
     "shell.execute_reply.started": "2022-03-15T12:41:29.908217Z"
    },
    "id": "tg_WQJ7j5n3B",
    "outputId": "3940986c-92d2-4551-ca8d-8de0d66994fe",
    "papermill": {
     "duration": 8.479049,
     "end_time": "2022-03-15T22:48:52.548843",
     "exception": false,
     "start_time": "2022-03-15T22:48:44.069794",
     "status": "completed"
    },
    "tags": []
   },
   "outputs": [
    {
     "name": "stdout",
     "output_type": "stream",
     "text": [
      "Num GPUs Available:  0\n"
     ]
    }
   ],
   "source": [
    "import numpy as np\n",
    "import pandas as pd\n",
    "import math\n",
    "import matplotlib.pyplot as plt\n",
    "\n",
    "import tensorflow as tf\n",
    "from tensorflow import keras\n",
    "from tensorflow.keras import datasets, layers, models\n",
    "\n",
    "from sklearn.model_selection import train_test_split\n",
    "from sklearn.linear_model import LogisticRegression, Perceptron\n",
    "from sklearn.tree import DecisionTreeClassifier\n",
    "from sklearn.ensemble import RandomForestClassifier\n",
    "from sklearn.metrics import classification_report, precision_score, recall_score, accuracy_score\n",
    "\n",
    "from tqdm.notebook import tqdm\n",
    "import sys\n",
    "print(\"Num GPUs Available: \", len(tf.config.list_physical_devices('GPU')))\n",
    "\n",
    "!cp ../input/mia-v2 mia_v2 -r\n",
    "\n",
    "from mia_v2.shadow_models import *\n",
    "from mia_v2.attack_model import *\n",
    "from mia_v2.utilities import *\n",
    "from mia_v2.wrappers import *"
   ]
  },
  {
   "cell_type": "code",
   "execution_count": 2,
   "id": "e6506943",
   "metadata": {
    "execution": {
     "iopub.execute_input": "2022-03-15T22:48:52.581701Z",
     "iopub.status.busy": "2022-03-15T22:48:52.581028Z",
     "iopub.status.idle": "2022-03-15T22:48:52.587433Z",
     "shell.execute_reply": "2022-03-15T22:48:52.588003Z",
     "shell.execute_reply.started": "2022-03-15T12:41:30.794727Z"
    },
    "papermill": {
     "duration": 0.02495,
     "end_time": "2022-03-15T22:48:52.588179",
     "exception": false,
     "start_time": "2022-03-15T22:48:52.563229",
     "status": "completed"
    },
    "tags": []
   },
   "outputs": [],
   "source": [
    "def f_target():\n",
    "    model = models.Sequential([\n",
    "            layers.Dense(128, activation='tanh'),\n",
    "            layers.Dense(N_CLASSES)\n",
    "    ])\n",
    "    optimizer = keras.optimizers.Adam(learning_rate=0.001)\n",
    "    loss = tf.keras.losses.SparseCategoricalCrossentropy(from_logits=True)\n",
    "    model.compile(optimizer=optimizer, loss=loss, metrics=['accuracy'])\n",
    "    return model"
   ]
  },
  {
   "cell_type": "code",
   "execution_count": 3,
   "id": "99a89402",
   "metadata": {
    "execution": {
     "iopub.execute_input": "2022-03-15T22:48:52.619949Z",
     "iopub.status.busy": "2022-03-15T22:48:52.619221Z",
     "iopub.status.idle": "2022-03-15T22:48:52.623272Z",
     "shell.execute_reply": "2022-03-15T22:48:52.623804Z",
     "shell.execute_reply.started": "2022-03-15T12:41:30.80365Z"
    },
    "papermill": {
     "duration": 0.021208,
     "end_time": "2022-03-15T22:48:52.623977",
     "exception": false,
     "start_time": "2022-03-15T22:48:52.602769",
     "status": "completed"
    },
    "tags": []
   },
   "outputs": [],
   "source": [
    "es = EarlyStopping(monitor='val_accuracy', mode='max', min_delta=1e-3, patience=10)\n",
    "epochs = 200\n",
    "batch_size = 64"
   ]
  },
  {
   "cell_type": "code",
   "execution_count": 4,
   "id": "e48b8ec5",
   "metadata": {
    "execution": {
     "iopub.execute_input": "2022-03-15T22:48:52.654475Z",
     "iopub.status.busy": "2022-03-15T22:48:52.653783Z",
     "iopub.status.idle": "2022-03-15T22:48:52.657028Z",
     "shell.execute_reply": "2022-03-15T22:48:52.657570Z",
     "shell.execute_reply.started": "2022-03-15T12:41:30.81924Z"
    },
    "papermill": {
     "duration": 0.01995,
     "end_time": "2022-03-15T22:48:52.657735",
     "exception": false,
     "start_time": "2022-03-15T22:48:52.637785",
     "status": "completed"
    },
    "tags": []
   },
   "outputs": [],
   "source": [
    "N_SHADOWS = 5\n",
    "D_SHADOW_SIZE = 17000"
   ]
  },
  {
   "cell_type": "code",
   "execution_count": 5,
   "id": "66ff75b2",
   "metadata": {
    "execution": {
     "iopub.execute_input": "2022-03-15T22:48:52.692851Z",
     "iopub.status.busy": "2022-03-15T22:48:52.692109Z",
     "iopub.status.idle": "2022-03-15T22:48:52.693769Z",
     "shell.execute_reply": "2022-03-15T22:48:52.694310Z",
     "shell.execute_reply.started": "2022-03-15T12:41:30.832128Z"
    },
    "papermill": {
     "duration": 0.022367,
     "end_time": "2022-03-15T22:48:52.694493",
     "exception": false,
     "start_time": "2022-03-15T22:48:52.672126",
     "status": "completed"
    },
    "tags": []
   },
   "outputs": [],
   "source": [
    "def f_attack():\n",
    "    model = models.Sequential(\n",
    "        [\n",
    "            layers.Dense(N_CLASSES+1, input_shape=(N_CLASSES+1,)),\n",
    "            layers.LeakyReLU(0.3),\n",
    "            layers.Dense(1, activation='sigmoid')\n",
    "        ]\n",
    "    )\n",
    "    model.compile(optimizer='adam', loss='binary_crossentropy', metrics=['accuracy'])\n",
    "    return model"
   ]
  },
  {
   "cell_type": "code",
   "execution_count": 6,
   "id": "fa6556a1",
   "metadata": {
    "execution": {
     "iopub.execute_input": "2022-03-15T22:48:52.725592Z",
     "iopub.status.busy": "2022-03-15T22:48:52.724885Z",
     "iopub.status.idle": "2022-03-15T22:48:52.735643Z",
     "shell.execute_reply": "2022-03-15T22:48:52.736177Z",
     "shell.execute_reply.started": "2022-03-15T12:41:30.845301Z"
    },
    "papermill": {
     "duration": 0.027985,
     "end_time": "2022-03-15T22:48:52.736351",
     "exception": false,
     "start_time": "2022-03-15T22:48:52.708366",
     "status": "completed"
    },
    "tags": []
   },
   "outputs": [],
   "source": [
    "def attack_purchase_k(k):\n",
    "    global N_CLASSES\n",
    "    N_CLASSES=k\n",
    "    print(f'Attacking on Purchase-{k}')\n",
    "    # get dataset\n",
    "    dataset_path = f'../input/purchase-datasets/purchase-{k}.csv' \n",
    "    data_df = pd.read_csv(dataset_path, index_col=0)\n",
    "    y = data_df.pop('label').to_numpy(dtype=np.int8).reshape(-1)\n",
    "    X = data_df.to_numpy(dtype=np.int8) \n",
    "    \n",
    "    # divide to target and attack dataset\n",
    "    X_target, X_attacker, y_target, y_attacker = train_test_split(X, y, train_size=14926, test_size=3*10**4, shuffle=True, random_state=0)\n",
    "    # train-test split for the target\n",
    "    X_train, X_test, y_train, y_test = train_test_split(X_target, y_target, test_size=0.33, shuffle=True, random_state=0)\n",
    "    print(f'D_train_in size: {X_train.shape[0]}. Ready to train target model...')\n",
    "    \n",
    "    target_model = f_target()\n",
    "    history = target_model.fit(X_train, y_train, epochs=epochs, batch_size=batch_size, validation_data=(X_test, y_test), callbacks=[es])\n",
    "    print(f'Attacking with {X_attacker.shape[0]} datapoints...')\n",
    "    attack = ConfidenceVectorAttack(target_model, \n",
    "                                    (X_train, y_train), \n",
    "                                    (X_attacker, y_attacker), \n",
    "                                    attack_model_creator=f_attack,\n",
    "                                    shadow_creator=f_target, \n",
    "                                    n_shadows=N_SHADOWS, \n",
    "                                    D_shadow_size=D_SHADOW_SIZE, \n",
    "                                    verbose=False)\n",
    "    attack.perform_attack(shadow={'epochs':epochs, 'batch_size':32, 'callbacks':[es]})\n",
    "    res = attack.evaluate_attack()\n",
    "    del data_df\n",
    "    return res"
   ]
  },
  {
   "cell_type": "code",
   "execution_count": 7,
   "id": "4b07a628",
   "metadata": {
    "execution": {
     "iopub.execute_input": "2022-03-15T22:48:52.767444Z",
     "iopub.status.busy": "2022-03-15T22:48:52.766815Z",
     "iopub.status.idle": "2022-03-15T22:48:52.770519Z",
     "shell.execute_reply": "2022-03-15T22:48:52.771052Z"
    },
    "papermill": {
     "duration": 0.02099,
     "end_time": "2022-03-15T22:48:52.771228",
     "exception": false,
     "start_time": "2022-03-15T22:48:52.750238",
     "status": "completed"
    },
    "tags": []
   },
   "outputs": [],
   "source": [
    "N_CLASSES_LIST = [5, 10, 20, 50, 100]"
   ]
  },
  {
   "cell_type": "code",
   "execution_count": 8,
   "id": "4f2d1baa",
   "metadata": {
    "execution": {
     "iopub.execute_input": "2022-03-15T22:48:52.803802Z",
     "iopub.status.busy": "2022-03-15T22:48:52.802248Z",
     "iopub.status.idle": "2022-03-15T23:05:45.966752Z",
     "shell.execute_reply": "2022-03-15T23:05:45.965784Z",
     "shell.execute_reply.started": "2022-03-15T12:41:30.859493Z"
    },
    "papermill": {
     "duration": 1013.181566,
     "end_time": "2022-03-15T23:05:45.967201",
     "exception": false,
     "start_time": "2022-03-15T22:48:52.785635",
     "status": "completed"
    },
    "tags": []
   },
   "outputs": [
    {
     "name": "stdout",
     "output_type": "stream",
     "text": [
      "Attacking on Purchase-5\n",
      "D_train_in size: 10000. Ready to train target model...\n"
     ]
    },
    {
     "name": "stderr",
     "output_type": "stream",
     "text": [
      "2022-03-15 22:49:14.564236: I tensorflow/core/common_runtime/process_util.cc:146] Creating new thread pool with default inter op setting: 2. Tune using inter_op_parallelism_threads for best performance.\n",
      "2022-03-15 22:49:14.706263: I tensorflow/compiler/mlir/mlir_graph_optimization_pass.cc:185] None of the MLIR Optimization Passes are enabled (registered 2)\n"
     ]
    },
    {
     "name": "stdout",
     "output_type": "stream",
     "text": [
      "Epoch 1/200\n",
      "157/157 [==============================] - 1s 4ms/step - loss: 0.6012 - accuracy: 0.7630 - val_loss: 0.4235 - val_accuracy: 0.8352\n",
      "Epoch 2/200\n",
      "157/157 [==============================] - 0s 3ms/step - loss: 0.3252 - accuracy: 0.8788 - val_loss: 0.3465 - val_accuracy: 0.8599\n",
      "Epoch 3/200\n",
      "157/157 [==============================] - 0s 3ms/step - loss: 0.2463 - accuracy: 0.9129 - val_loss: 0.3196 - val_accuracy: 0.8626\n",
      "Epoch 4/200\n",
      "157/157 [==============================] - 1s 3ms/step - loss: 0.2018 - accuracy: 0.9291 - val_loss: 0.3117 - val_accuracy: 0.8654\n",
      "Epoch 5/200\n",
      "157/157 [==============================] - 1s 3ms/step - loss: 0.1702 - accuracy: 0.9418 - val_loss: 0.3174 - val_accuracy: 0.8693\n",
      "Epoch 6/200\n",
      "157/157 [==============================] - 1s 3ms/step - loss: 0.1377 - accuracy: 0.9590 - val_loss: 0.2869 - val_accuracy: 0.8808\n",
      "Epoch 7/200\n",
      "157/157 [==============================] - 1s 3ms/step - loss: 0.1208 - accuracy: 0.9649 - val_loss: 0.3186 - val_accuracy: 0.8672\n",
      "Epoch 8/200\n",
      "157/157 [==============================] - 1s 4ms/step - loss: 0.1022 - accuracy: 0.9717 - val_loss: 0.2860 - val_accuracy: 0.8831\n",
      "Epoch 9/200\n",
      "157/157 [==============================] - 1s 3ms/step - loss: 0.0812 - accuracy: 0.9817 - val_loss: 0.2873 - val_accuracy: 0.8812\n",
      "Epoch 10/200\n",
      "157/157 [==============================] - 0s 3ms/step - loss: 0.0661 - accuracy: 0.9889 - val_loss: 0.3032 - val_accuracy: 0.8837\n",
      "Epoch 11/200\n",
      "157/157 [==============================] - 0s 3ms/step - loss: 0.0585 - accuracy: 0.9911 - val_loss: 0.3015 - val_accuracy: 0.8827\n",
      "Epoch 12/200\n",
      "157/157 [==============================] - 1s 3ms/step - loss: 0.0466 - accuracy: 0.9944 - val_loss: 0.3137 - val_accuracy: 0.8816\n",
      "Epoch 13/200\n",
      "157/157 [==============================] - 1s 3ms/step - loss: 0.0372 - accuracy: 0.9971 - val_loss: 0.3174 - val_accuracy: 0.8819\n",
      "Epoch 14/200\n",
      "157/157 [==============================] - 1s 3ms/step - loss: 0.0311 - accuracy: 0.9986 - val_loss: 0.3250 - val_accuracy: 0.8802\n",
      "Epoch 15/200\n",
      "157/157 [==============================] - 1s 3ms/step - loss: 0.0253 - accuracy: 0.9995 - val_loss: 0.3472 - val_accuracy: 0.8823\n",
      "Epoch 16/200\n",
      "157/157 [==============================] - 1s 3ms/step - loss: 0.0202 - accuracy: 0.9997 - val_loss: 0.3414 - val_accuracy: 0.8796\n",
      "Epoch 17/200\n",
      "157/157 [==============================] - 1s 4ms/step - loss: 0.0166 - accuracy: 0.9999 - val_loss: 0.3431 - val_accuracy: 0.8819\n",
      "Epoch 18/200\n",
      "157/157 [==============================] - 1s 4ms/step - loss: 0.0135 - accuracy: 1.0000 - val_loss: 0.3504 - val_accuracy: 0.8806\n",
      "Attacking with 30000 datapoints...\n",
      "Preparing shadow batch of size 11220\n",
      "Done!\n",
      "Preparing shadow batch of size 11220\n",
      "Done!\n",
      "Preparing shadow batch of size 11220\n",
      "Done!\n",
      "Preparing shadow batch of size 11220\n",
      "Done!\n",
      "Preparing shadow batch of size 11220\n",
      "Done!\n",
      "class-1 acc: 0.5510597229003906\n",
      "class-2 acc: 0.6048879623413086\n",
      "class-3 acc: 0.5875949263572693\n",
      "class-4 acc: 0.6045886874198914\n",
      "class-5 acc: 0.5837604403495789\n",
      "              precision    recall  f1-score   support\n",
      "\n",
      "         Out       0.74      0.28      0.40     10000\n",
      "          In       0.56      0.90      0.69     10000\n",
      "\n",
      "    accuracy                           0.59     20000\n",
      "   macro avg       0.65      0.59      0.55     20000\n",
      "weighted avg       0.65      0.59      0.55     20000\n",
      "\n",
      "AUC: 0.58575004\n",
      "Attacking on Purchase-10\n",
      "D_train_in size: 10000. Ready to train target model...\n",
      "Epoch 1/200\n",
      "157/157 [==============================] - 1s 4ms/step - loss: 1.0961 - accuracy: 0.5994 - val_loss: 0.7184 - val_accuracy: 0.7467\n",
      "Epoch 2/200\n",
      "157/157 [==============================] - 1s 3ms/step - loss: 0.5687 - accuracy: 0.8028 - val_loss: 0.5659 - val_accuracy: 0.7907\n",
      "Epoch 3/200\n",
      "157/157 [==============================] - 1s 3ms/step - loss: 0.4230 - accuracy: 0.8573 - val_loss: 0.5161 - val_accuracy: 0.8035\n",
      "Epoch 4/200\n",
      "157/157 [==============================] - 1s 4ms/step - loss: 0.3391 - accuracy: 0.8938 - val_loss: 0.4805 - val_accuracy: 0.8120\n",
      "Epoch 5/200\n",
      "157/157 [==============================] - 1s 4ms/step - loss: 0.2780 - accuracy: 0.9176 - val_loss: 0.4644 - val_accuracy: 0.8153\n",
      "Epoch 6/200\n",
      "157/157 [==============================] - 1s 3ms/step - loss: 0.2324 - accuracy: 0.9354 - val_loss: 0.4755 - val_accuracy: 0.8076\n",
      "Epoch 7/200\n",
      "157/157 [==============================] - 1s 3ms/step - loss: 0.1920 - accuracy: 0.9515 - val_loss: 0.4628 - val_accuracy: 0.8128\n",
      "Epoch 8/200\n",
      "157/157 [==============================] - 0s 3ms/step - loss: 0.1567 - accuracy: 0.9666 - val_loss: 0.4547 - val_accuracy: 0.8173\n",
      "Epoch 9/200\n",
      "157/157 [==============================] - 1s 4ms/step - loss: 0.1321 - accuracy: 0.9762 - val_loss: 0.4768 - val_accuracy: 0.8126\n",
      "Epoch 10/200\n",
      "157/157 [==============================] - 1s 3ms/step - loss: 0.1118 - accuracy: 0.9826 - val_loss: 0.4669 - val_accuracy: 0.8155\n",
      "Epoch 11/200\n",
      "157/157 [==============================] - 1s 3ms/step - loss: 0.0916 - accuracy: 0.9916 - val_loss: 0.4790 - val_accuracy: 0.8177\n",
      "Epoch 12/200\n",
      "157/157 [==============================] - 1s 3ms/step - loss: 0.0746 - accuracy: 0.9957 - val_loss: 0.4814 - val_accuracy: 0.8124\n",
      "Epoch 13/200\n",
      "157/157 [==============================] - 1s 3ms/step - loss: 0.0626 - accuracy: 0.9969 - val_loss: 0.4947 - val_accuracy: 0.8134\n",
      "Epoch 14/200\n",
      "157/157 [==============================] - 1s 3ms/step - loss: 0.0505 - accuracy: 0.9991 - val_loss: 0.4980 - val_accuracy: 0.8169\n",
      "Epoch 15/200\n",
      "157/157 [==============================] - 0s 3ms/step - loss: 0.0425 - accuracy: 0.9996 - val_loss: 0.5121 - val_accuracy: 0.8145\n",
      "Epoch 16/200\n",
      "157/157 [==============================] - 0s 3ms/step - loss: 0.0374 - accuracy: 0.9996 - val_loss: 0.5274 - val_accuracy: 0.8159\n",
      "Epoch 17/200\n",
      "157/157 [==============================] - 1s 4ms/step - loss: 0.0299 - accuracy: 0.9999 - val_loss: 0.5311 - val_accuracy: 0.8169\n",
      "Epoch 18/200\n",
      "157/157 [==============================] - 1s 4ms/step - loss: 0.0248 - accuracy: 1.0000 - val_loss: 0.5456 - val_accuracy: 0.8136\n",
      "Attacking with 30000 datapoints...\n",
      "Preparing shadow batch of size 11220\n",
      "Done!\n",
      "Preparing shadow batch of size 11220\n",
      "Done!\n",
      "Preparing shadow batch of size 11220\n",
      "Done!\n",
      "Preparing shadow batch of size 11220\n",
      "Done!\n",
      "Preparing shadow batch of size 11220\n",
      "Done!\n",
      "class-1 acc: 0.5768057107925415\n",
      "class-2 acc: 0.6092985272407532\n",
      "class-3 acc: 0.6477718353271484\n",
      "class-4 acc: 0.6399253606796265\n",
      "class-5 acc: 0.6208594441413879\n",
      "class-6 acc: 0.6357372403144836\n",
      "class-7 acc: 0.6653937697410583\n",
      "class-8 acc: 0.558521568775177\n",
      "class-9 acc: 0.7139037251472473\n",
      "class-10 acc: 0.6404995322227478\n",
      "              precision    recall  f1-score   support\n",
      "\n",
      "         Out       0.73      0.41      0.53     10000\n",
      "          In       0.59      0.85      0.70     10000\n",
      "\n",
      "    accuracy                           0.63     20000\n",
      "   macro avg       0.66      0.63      0.61     20000\n",
      "weighted avg       0.66      0.63      0.61     20000\n",
      "\n",
      "AUC: 0.6513694350000001\n",
      "Attacking on Purchase-20\n",
      "D_train_in size: 10000. Ready to train target model...\n",
      "Epoch 1/200\n",
      "157/157 [==============================] - 1s 6ms/step - loss: 1.7106 - accuracy: 0.4665 - val_loss: 1.1356 - val_accuracy: 0.6251\n",
      "Epoch 2/200\n",
      "157/157 [==============================] - 1s 4ms/step - loss: 0.8554 - accuracy: 0.7379 - val_loss: 0.8452 - val_accuracy: 0.7081\n",
      "Epoch 3/200\n",
      "157/157 [==============================] - 1s 4ms/step - loss: 0.6261 - accuracy: 0.8082 - val_loss: 0.7509 - val_accuracy: 0.7229\n",
      "Epoch 4/200\n",
      "157/157 [==============================] - 1s 5ms/step - loss: 0.4937 - accuracy: 0.8589 - val_loss: 0.7048 - val_accuracy: 0.7337\n",
      "Epoch 5/200\n",
      "157/157 [==============================] - 1s 4ms/step - loss: 0.3977 - accuracy: 0.8972 - val_loss: 0.6615 - val_accuracy: 0.7448\n",
      "Epoch 6/200\n",
      "157/157 [==============================] - 1s 4ms/step - loss: 0.3286 - accuracy: 0.9221 - val_loss: 0.6835 - val_accuracy: 0.7357\n",
      "Epoch 7/200\n",
      "157/157 [==============================] - 1s 4ms/step - loss: 0.2717 - accuracy: 0.9445 - val_loss: 0.6454 - val_accuracy: 0.7497\n",
      "Epoch 8/200\n",
      "157/157 [==============================] - 1s 5ms/step - loss: 0.2219 - accuracy: 0.9639 - val_loss: 0.6511 - val_accuracy: 0.7428\n",
      "Epoch 9/200\n",
      "157/157 [==============================] - 1s 5ms/step - loss: 0.1831 - accuracy: 0.9765 - val_loss: 0.6670 - val_accuracy: 0.7424\n",
      "Epoch 10/200\n",
      "157/157 [==============================] - 1s 4ms/step - loss: 0.1535 - accuracy: 0.9859 - val_loss: 0.6684 - val_accuracy: 0.7377\n",
      "Epoch 11/200\n",
      "157/157 [==============================] - 1s 5ms/step - loss: 0.1263 - accuracy: 0.9918 - val_loss: 0.6739 - val_accuracy: 0.7404\n",
      "Epoch 12/200\n",
      "157/157 [==============================] - 1s 4ms/step - loss: 0.1056 - accuracy: 0.9955 - val_loss: 0.6780 - val_accuracy: 0.7343\n",
      "Epoch 13/200\n",
      "157/157 [==============================] - 1s 5ms/step - loss: 0.0867 - accuracy: 0.9976 - val_loss: 0.6954 - val_accuracy: 0.7367\n",
      "Epoch 14/200\n",
      "157/157 [==============================] - 1s 5ms/step - loss: 0.0719 - accuracy: 0.9992 - val_loss: 0.7095 - val_accuracy: 0.7381\n",
      "Epoch 15/200\n",
      "157/157 [==============================] - 1s 5ms/step - loss: 0.0612 - accuracy: 0.9995 - val_loss: 0.7088 - val_accuracy: 0.7379\n",
      "Epoch 16/200\n",
      "157/157 [==============================] - 1s 6ms/step - loss: 0.0510 - accuracy: 0.9995 - val_loss: 0.7226 - val_accuracy: 0.7343\n",
      "Epoch 17/200\n",
      "157/157 [==============================] - 1s 5ms/step - loss: 0.0439 - accuracy: 0.9997 - val_loss: 0.7330 - val_accuracy: 0.7349\n",
      "Attacking with 30000 datapoints...\n",
      "Preparing shadow batch of size 11220\n",
      "Done!\n",
      "Preparing shadow batch of size 11220\n",
      "Done!\n",
      "Preparing shadow batch of size 11220\n",
      "Done!\n",
      "Preparing shadow batch of size 11220\n",
      "Done!\n",
      "Preparing shadow batch of size 11220\n",
      "Done!\n",
      "class-1 acc: 0.7228915691375732\n",
      "class-2 acc: 0.6538769006729126\n",
      "class-3 acc: 0.6900763511657715\n",
      "class-4 acc: 0.7539503574371338\n",
      "class-5 acc: 0.6951983571052551\n",
      "class-6 acc: 0.7168494462966919\n",
      "class-7 acc: 0.688950777053833\n",
      "class-8 acc: 0.5762355327606201\n",
      "class-9 acc: 0.6847736835479736\n",
      "class-10 acc: 0.7419913411140442\n",
      "class-11 acc: 0.7185184955596924\n",
      "class-12 acc: 0.7642553448677063\n",
      "class-13 acc: 0.6705127954483032\n",
      "class-14 acc: 0.6139534711837769\n",
      "class-15 acc: 0.7718715667724609\n",
      "class-16 acc: 0.6626898050308228\n",
      "class-17 acc: 0.6271347403526306\n",
      "class-18 acc: 0.6636931300163269\n",
      "class-19 acc: 0.6896907091140747\n",
      "class-20 acc: 0.6292270421981812\n",
      "              precision    recall  f1-score   support\n",
      "\n",
      "         Out       0.77      0.54      0.64     10000\n",
      "          In       0.65      0.83      0.73     10000\n",
      "\n",
      "    accuracy                           0.69     20000\n",
      "   macro avg       0.71      0.69      0.68     20000\n",
      "weighted avg       0.71      0.69      0.68     20000\n",
      "\n",
      "AUC: 0.721261635\n",
      "Attacking on Purchase-50\n",
      "D_train_in size: 10000. Ready to train target model...\n",
      "Epoch 1/200\n",
      "157/157 [==============================] - 1s 5ms/step - loss: 2.8289 - accuracy: 0.2671 - val_loss: 1.9552 - val_accuracy: 0.4614\n",
      "Epoch 2/200\n",
      "157/157 [==============================] - 1s 5ms/step - loss: 1.4780 - accuracy: 0.6227 - val_loss: 1.3776 - val_accuracy: 0.5853\n",
      "Epoch 3/200\n",
      "157/157 [==============================] - 1s 4ms/step - loss: 1.0253 - accuracy: 0.7381 - val_loss: 1.1501 - val_accuracy: 0.6301\n",
      "Epoch 4/200\n",
      "157/157 [==============================] - 1s 4ms/step - loss: 0.7892 - accuracy: 0.8045 - val_loss: 1.0522 - val_accuracy: 0.6504\n",
      "Epoch 5/200\n",
      "157/157 [==============================] - 1s 4ms/step - loss: 0.6263 - accuracy: 0.8634 - val_loss: 1.0062 - val_accuracy: 0.6478\n",
      "Epoch 6/200\n",
      "157/157 [==============================] - 1s 4ms/step - loss: 0.5129 - accuracy: 0.9005 - val_loss: 0.9498 - val_accuracy: 0.6620\n",
      "Epoch 7/200\n",
      "157/157 [==============================] - 1s 4ms/step - loss: 0.4196 - accuracy: 0.9326 - val_loss: 0.9226 - val_accuracy: 0.6646\n",
      "Epoch 8/200\n",
      "157/157 [==============================] - 1s 4ms/step - loss: 0.3479 - accuracy: 0.9544 - val_loss: 0.9190 - val_accuracy: 0.6569\n",
      "Epoch 9/200\n",
      "157/157 [==============================] - 1s 4ms/step - loss: 0.2843 - accuracy: 0.9723 - val_loss: 0.9223 - val_accuracy: 0.6555\n",
      "Epoch 10/200\n",
      "157/157 [==============================] - 1s 5ms/step - loss: 0.2376 - accuracy: 0.9839 - val_loss: 0.9151 - val_accuracy: 0.6640\n",
      "Epoch 11/200\n",
      "157/157 [==============================] - 1s 5ms/step - loss: 0.1967 - accuracy: 0.9916 - val_loss: 0.9155 - val_accuracy: 0.6616\n",
      "Epoch 12/200\n",
      "157/157 [==============================] - 1s 4ms/step - loss: 0.1634 - accuracy: 0.9959 - val_loss: 0.9267 - val_accuracy: 0.6533\n",
      "Epoch 13/200\n",
      "157/157 [==============================] - 1s 4ms/step - loss: 0.1368 - accuracy: 0.9971 - val_loss: 0.9317 - val_accuracy: 0.6541\n",
      "Epoch 14/200\n",
      "157/157 [==============================] - 1s 4ms/step - loss: 0.1151 - accuracy: 0.9990 - val_loss: 0.9365 - val_accuracy: 0.6545\n",
      "Epoch 15/200\n",
      "157/157 [==============================] - 1s 4ms/step - loss: 0.0982 - accuracy: 0.9995 - val_loss: 0.9491 - val_accuracy: 0.6518\n",
      "Epoch 16/200\n",
      "157/157 [==============================] - 1s 4ms/step - loss: 0.0827 - accuracy: 0.9999 - val_loss: 0.9578 - val_accuracy: 0.6553\n",
      "Epoch 17/200\n",
      "157/157 [==============================] - 1s 4ms/step - loss: 0.0715 - accuracy: 1.0000 - val_loss: 0.9748 - val_accuracy: 0.6472\n",
      "Attacking with 30000 datapoints...\n",
      "Preparing shadow batch of size 11220\n",
      "Done!\n",
      "Preparing shadow batch of size 11220\n",
      "Done!\n",
      "Preparing shadow batch of size 11220\n",
      "Done!\n",
      "Preparing shadow batch of size 11220\n",
      "Done!\n",
      "Preparing shadow batch of size 11220\n",
      "Done!\n",
      "class-1 acc: 0.7296037077903748\n",
      "class-2 acc: 0.743682324886322\n",
      "class-3 acc: 0.6129476428031921\n",
      "class-4 acc: 0.7049180269241333\n",
      "class-5 acc: 0.7868020534515381\n",
      "class-6 acc: 0.694968581199646\n",
      "class-7 acc: 0.7644539475440979\n",
      "class-8 acc: 0.695652186870575\n",
      "class-9 acc: 0.8014311194419861\n",
      "class-10 acc: 0.7950819730758667\n",
      "class-11 acc: 0.8191964030265808\n",
      "class-12 acc: 0.7738853693008423\n",
      "class-13 acc: 0.7970660328865051\n",
      "class-14 acc: 0.7475247383117676\n",
      "class-15 acc: 0.8225352168083191\n",
      "class-16 acc: 0.800000011920929\n",
      "class-17 acc: 0.8055555820465088\n",
      "class-18 acc: 0.8065934181213379\n",
      "class-19 acc: 0.7037037014961243\n",
      "class-20 acc: 0.7986111044883728\n",
      "class-21 acc: 0.7846715450286865\n",
      "class-22 acc: 0.7891440391540527\n",
      "class-23 acc: 0.8023256063461304\n",
      "class-24 acc: 0.8064516186714172\n",
      "class-25 acc: 0.7630161643028259\n",
      "class-26 acc: 0.779411792755127\n",
      "class-27 acc: 0.7906976938247681\n",
      "class-28 acc: 0.8096446990966797\n",
      "class-29 acc: 0.8169398903846741\n",
      "class-30 acc: 0.7761194109916687\n",
      "class-31 acc: 0.711904764175415\n",
      "class-32 acc: 0.7364531755447388\n",
      "class-33 acc: 0.7814313173294067\n",
      "class-34 acc: 0.7793103456497192\n",
      "class-35 acc: 0.7842105031013489\n",
      "class-36 acc: 0.8518518805503845\n",
      "class-37 acc: 0.6896551847457886\n",
      "class-38 acc: 0.7543478012084961\n",
      "class-39 acc: 0.7527472376823425\n",
      "class-40 acc: 0.7517899870872498\n",
      "class-41 acc: 0.7880597114562988\n",
      "class-42 acc: 0.6475409865379333\n",
      "class-43 acc: 0.6293706297874451\n",
      "class-44 acc: 0.8100558519363403\n",
      "class-45 acc: 0.812636137008667\n",
      "class-46 acc: 0.7664670944213867\n",
      "class-47 acc: 0.8582887649536133\n",
      "class-48 acc: 0.7565543055534363\n",
      "class-49 acc: 0.808398962020874\n",
      "class-50 acc: 0.7781350612640381\n",
      "              precision    recall  f1-score   support\n",
      "\n",
      "         Out       0.83      0.67      0.74     10000\n",
      "          In       0.73      0.86      0.79     10000\n",
      "\n",
      "    accuracy                           0.77     20000\n",
      "   macro avg       0.78      0.77      0.77     20000\n",
      "weighted avg       0.78      0.77      0.77     20000\n",
      "\n",
      "AUC: 0.8112206750000001\n",
      "Attacking on Purchase-100\n",
      "D_train_in size: 10000. Ready to train target model...\n",
      "Epoch 1/200\n",
      "157/157 [==============================] - 1s 5ms/step - loss: 3.8036 - accuracy: 0.1412 - val_loss: 2.9174 - val_accuracy: 0.2761\n",
      "Epoch 2/200\n",
      "157/157 [==============================] - 1s 4ms/step - loss: 2.2435 - accuracy: 0.4816 - val_loss: 1.9977 - val_accuracy: 0.4779\n",
      "Epoch 3/200\n",
      "157/157 [==============================] - 1s 5ms/step - loss: 1.5374 - accuracy: 0.6630 - val_loss: 1.6405 - val_accuracy: 0.5473\n",
      "Epoch 4/200\n",
      "157/157 [==============================] - 1s 6ms/step - loss: 1.1669 - accuracy: 0.7514 - val_loss: 1.4413 - val_accuracy: 0.5680\n",
      "Epoch 5/200\n",
      "157/157 [==============================] - 1s 5ms/step - loss: 0.9290 - accuracy: 0.8162 - val_loss: 1.3221 - val_accuracy: 0.5871\n",
      "Epoch 6/200\n",
      "157/157 [==============================] - 1s 6ms/step - loss: 0.7560 - accuracy: 0.8683 - val_loss: 1.2518 - val_accuracy: 0.6009\n",
      "Epoch 7/200\n",
      "157/157 [==============================] - 1s 5ms/step - loss: 0.6226 - accuracy: 0.9046 - val_loss: 1.2098 - val_accuracy: 0.6021\n",
      "Epoch 8/200\n",
      "157/157 [==============================] - 1s 4ms/step - loss: 0.5172 - accuracy: 0.9307 - val_loss: 1.1766 - val_accuracy: 0.6041\n",
      "Epoch 9/200\n",
      "157/157 [==============================] - 1s 4ms/step - loss: 0.4292 - accuracy: 0.9562 - val_loss: 1.1612 - val_accuracy: 0.5958\n",
      "Epoch 10/200\n",
      "157/157 [==============================] - 1s 4ms/step - loss: 0.3575 - accuracy: 0.9734 - val_loss: 1.1450 - val_accuracy: 0.6003\n",
      "Epoch 11/200\n",
      "157/157 [==============================] - 1s 4ms/step - loss: 0.2987 - accuracy: 0.9849 - val_loss: 1.1378 - val_accuracy: 0.6043\n",
      "Epoch 12/200\n",
      "157/157 [==============================] - 1s 4ms/step - loss: 0.2513 - accuracy: 0.9916 - val_loss: 1.1416 - val_accuracy: 0.5978\n",
      "Epoch 13/200\n",
      "157/157 [==============================] - 1s 4ms/step - loss: 0.2103 - accuracy: 0.9962 - val_loss: 1.1447 - val_accuracy: 0.5952\n",
      "Epoch 14/200\n",
      "157/157 [==============================] - 1s 4ms/step - loss: 0.1781 - accuracy: 0.9981 - val_loss: 1.1504 - val_accuracy: 0.5887\n",
      "Epoch 15/200\n",
      "157/157 [==============================] - 1s 4ms/step - loss: 0.1513 - accuracy: 0.9993 - val_loss: 1.1477 - val_accuracy: 0.5924\n",
      "Epoch 16/200\n",
      "157/157 [==============================] - 1s 4ms/step - loss: 0.1293 - accuracy: 0.9996 - val_loss: 1.1525 - val_accuracy: 0.5934\n",
      "Epoch 17/200\n",
      "157/157 [==============================] - 1s 4ms/step - loss: 0.1107 - accuracy: 0.9999 - val_loss: 1.1667 - val_accuracy: 0.5895\n",
      "Epoch 18/200\n",
      "157/157 [==============================] - 1s 3ms/step - loss: 0.0955 - accuracy: 0.9999 - val_loss: 1.1809 - val_accuracy: 0.5820\n",
      "Attacking with 30000 datapoints...\n",
      "Preparing shadow batch of size 11220\n",
      "Done!\n",
      "Preparing shadow batch of size 11220\n",
      "Done!\n",
      "Preparing shadow batch of size 11220\n",
      "Done!\n",
      "Preparing shadow batch of size 11220\n",
      "Done!\n",
      "Preparing shadow batch of size 11220\n",
      "Done!\n",
      "class-1 acc: 0.8756756782531738\n",
      "class-2 acc: 0.924369752407074\n",
      "class-3 acc: 0.6609195470809937\n",
      "class-4 acc: 0.7990196347236633\n",
      "class-5 acc: 0.74301677942276\n",
      "class-6 acc: 0.7883817553520203\n",
      "class-7 acc: 0.7528089880943298\n",
      "class-8 acc: 0.7777777910232544\n",
      "class-9 acc: 0.8352941274642944\n",
      "class-10 acc: 0.8308457732200623\n",
      "class-11 acc: 0.9034090638160706\n",
      "class-12 acc: 0.8736263513565063\n",
      "class-13 acc: 0.6296296119689941\n",
      "class-14 acc: 0.8634361028671265\n",
      "class-15 acc: 0.784140944480896\n",
      "class-16 acc: 0.7806267738342285\n",
      "class-17 acc: 0.8691983222961426\n",
      "class-18 acc: 0.8461538553237915\n",
      "class-19 acc: 0.8444444537162781\n",
      "class-20 acc: 0.7655502557754517\n",
      "class-21 acc: 0.9042553305625916\n",
      "class-22 acc: 0.892307698726654\n",
      "class-23 acc: 0.8500000238418579\n",
      "class-24 acc: 0.9032257795333862\n",
      "class-25 acc: 0.8742856979370117\n",
      "class-26 acc: 0.8230769038200378\n",
      "class-27 acc: 0.8784530162811279\n",
      "class-28 acc: 0.8595744967460632\n",
      "class-29 acc: 0.7351351380348206\n",
      "class-30 acc: 0.8761904835700989\n",
      "class-31 acc: 0.800000011920929\n",
      "class-32 acc: 0.8314606547355652\n",
      "class-33 acc: 0.9306122660636902\n",
      "class-34 acc: 0.8985507488250732\n",
      "class-35 acc: 0.8917748928070068\n",
      "class-36 acc: 0.8910890817642212\n",
      "class-37 acc: 0.8815789222717285\n",
      "class-38 acc: 0.877828061580658\n",
      "class-39 acc: 0.8427947759628296\n",
      "class-40 acc: 0.8731707334518433\n",
      "class-41 acc: 0.8965517282485962\n",
      "class-42 acc: 0.909604549407959\n",
      "class-43 acc: 0.8691099286079407\n",
      "class-44 acc: 0.8214285969734192\n",
      "class-45 acc: 0.9053497910499573\n",
      "class-46 acc: 0.8047337532043457\n",
      "class-47 acc: 0.8907103538513184\n",
      "class-48 acc: 0.8737863898277283\n",
      "class-49 acc: 0.8421052694320679\n",
      "class-50 acc: 0.8592233061790466\n",
      "class-51 acc: 0.8625592589378357\n",
      "class-52 acc: 0.8871794939041138\n",
      "class-53 acc: 0.7880434989929199\n",
      "class-54 acc: 0.8421052694320679\n",
      "class-55 acc: 0.8156682252883911\n",
      "class-56 acc: 0.8195488452911377\n",
      "class-57 acc: 0.8070175647735596\n",
      "class-58 acc: 0.8939393758773804\n",
      "class-59 acc: 0.8032786846160889\n",
      "class-60 acc: 0.797468364238739\n",
      "class-61 acc: 0.8255033493041992\n",
      "class-62 acc: 0.8282208442687988\n",
      "class-63 acc: 0.918367326259613\n",
      "class-64 acc: 0.800000011920929\n",
      "class-65 acc: 0.7948718070983887\n",
      "class-66 acc: 0.6762295365333557\n",
      "class-67 acc: 0.8299999833106995\n",
      "class-68 acc: 0.8630136847496033\n",
      "class-69 acc: 0.8702702522277832\n",
      "class-70 acc: 0.8571428656578064\n",
      "class-71 acc: 0.8571428656578064\n",
      "class-72 acc: 0.9064039587974548\n",
      "class-73 acc: 0.8421052694320679\n",
      "class-74 acc: 0.8142292499542236\n",
      "class-75 acc: 0.8591549396514893\n",
      "class-76 acc: 0.6265060305595398\n",
      "class-77 acc: 0.8787878751754761\n",
      "class-78 acc: 0.860927164554596\n",
      "class-79 acc: 0.7426900863647461\n",
      "class-80 acc: 0.8060200810432434\n",
      "class-81 acc: 0.7834395170211792\n",
      "class-82 acc: 0.8166666626930237\n",
      "class-83 acc: 0.658730149269104\n",
      "class-84 acc: 0.807881772518158\n",
      "class-85 acc: 0.6221765875816345\n",
      "class-86 acc: 0.7846890091896057\n",
      "class-87 acc: 0.8604651093482971\n",
      "class-88 acc: 0.8666666746139526\n",
      "class-89 acc: 0.8674033284187317\n",
      "class-90 acc: 0.7355371713638306\n",
      "class-91 acc: 0.8369565010070801\n",
      "class-92 acc: 0.8235294222831726\n",
      "class-93 acc: 0.8695651888847351\n",
      "class-94 acc: 0.8354430198669434\n",
      "class-95 acc: 0.7980295419692993\n",
      "class-96 acc: 0.8506224155426025\n",
      "class-97 acc: 0.8775510191917419\n",
      "class-98 acc: 0.8934911489486694\n",
      "class-99 acc: 0.8742138147354126\n",
      "class-100 acc: 0.8285714387893677\n",
      "              precision    recall  f1-score   support\n",
      "\n",
      "         Out       0.92      0.72      0.81     10000\n",
      "          In       0.77      0.93      0.84     10000\n",
      "\n",
      "    accuracy                           0.83     20000\n",
      "   macro avg       0.84      0.83      0.82     20000\n",
      "weighted avg       0.84      0.83      0.82     20000\n",
      "\n",
      "AUC: 0.8696883999999999\n"
     ]
    },
    {
     "data": {
      "text/plain": [
       "<matplotlib.legend.Legend at 0x7f87082b22d0>"
      ]
     },
     "execution_count": 8,
     "metadata": {},
     "output_type": "execute_result"
    },
    {
     "data": {
      "image/png": "[encoded data removed]",
      "text/plain": [
       "<Figure size 432x288 with 1 Axes>"
      ]
     },
     "metadata": {
      "needs_background": "light"
     },
     "output_type": "display_data"
    }
   ],
   "source": [
    "pre, rec, acc, auc = [], [], [], [] \n",
    "for k in N_CLASSES_LIST:\n",
    "    _res, _auc, _fpr, _tpr = attack_purchase_k(k)\n",
    "    pre.append(_res['macro avg']['precision'])\n",
    "    rec.append(_res['macro avg']['recall'])\n",
    "    acc.append(_res['accuracy'])\n",
    "    auc.append(_auc)\n",
    "plt.legend([f'Purchase-{k}' for k in N_CLASSES_LIST])"
   ]
  },
  {
   "cell_type": "code",
   "execution_count": 9,
   "id": "92479b14",
   "metadata": {
    "execution": {
     "iopub.execute_input": "2022-03-15T23:05:46.782698Z",
     "iopub.status.busy": "2022-03-15T23:05:46.770172Z",
     "iopub.status.idle": "2022-03-15T23:05:46.971773Z",
     "shell.execute_reply": "2022-03-15T23:05:46.971153Z",
     "shell.execute_reply.started": "2022-03-15T12:46:31.857299Z"
    },
    "papermill": {
     "duration": 0.615912,
     "end_time": "2022-03-15T23:05:46.971934",
     "exception": false,
     "start_time": "2022-03-15T23:05:46.356022",
     "status": "completed"
    },
    "tags": []
   },
   "outputs": [
    {
     "data": {
      "text/plain": [
       "([<matplotlib.axis.XTick at 0x7f87bfd2b590>,\n",
       "  <matplotlib.axis.XTick at 0x7f871f25be50>,\n",
       "  <matplotlib.axis.XTick at 0x7f871f25e6d0>,\n",
       "  <matplotlib.axis.XTick at 0x7f8778038750>,\n",
       "  <matplotlib.axis.XTick at 0x7f87782954d0>],\n",
       " [Text(0, 0, ''),\n",
       "  Text(0, 0, ''),\n",
       "  Text(0, 0, ''),\n",
       "  Text(0, 0, ''),\n",
       "  Text(0, 0, '')])"
      ]
     },
     "execution_count": 9,
     "metadata": {},
     "output_type": "execute_result"
    },
    {
     "data": {
      "image/png": "[encoded data removed]",
      "text/plain": [
       "<Figure size 432x288 with 1 Axes>"
      ]
     },
     "metadata": {
      "needs_background": "light"
     },
     "output_type": "display_data"
    }
   ],
   "source": [
    "plt.plot(N_CLASSES_LIST, pre)\n",
    "plt.xlabel('#Classes')\n",
    "plt.ylabel('Precision Score')\n",
    "plt.xticks(N_CLASSES_LIST)"
   ]
  },
  {
   "cell_type": "code",
   "execution_count": 10,
   "id": "885e457d",
   "metadata": {
    "execution": {
     "iopub.execute_input": "2022-03-15T23:05:47.757605Z",
     "iopub.status.busy": "2022-03-15T23:05:47.756914Z",
     "iopub.status.idle": "2022-03-15T23:05:47.945177Z",
     "shell.execute_reply": "2022-03-15T23:05:47.944651Z",
     "shell.execute_reply.started": "2022-03-15T12:46:32.043012Z"
    },
    "papermill": {
     "duration": 0.575349,
     "end_time": "2022-03-15T23:05:47.945321",
     "exception": false,
     "start_time": "2022-03-15T23:05:47.369972",
     "status": "completed"
    },
    "tags": []
   },
   "outputs": [
    {
     "data": {
      "text/plain": [
       "([<matplotlib.axis.XTick at 0x7f877812e910>,\n",
       "  <matplotlib.axis.XTick at 0x7f877a893390>,\n",
       "  <matplotlib.axis.XTick at 0x7f871f32bc50>,\n",
       "  <matplotlib.axis.XTick at 0x7f871da60f90>,\n",
       "  <matplotlib.axis.XTick at 0x7f8778935cd0>],\n",
       " [Text(0, 0, ''),\n",
       "  Text(0, 0, ''),\n",
       "  Text(0, 0, ''),\n",
       "  Text(0, 0, ''),\n",
       "  Text(0, 0, '')])"
      ]
     },
     "execution_count": 10,
     "metadata": {},
     "output_type": "execute_result"
    },
    {
     "data": {
      "image/png": "[encoded data removed]",
      "text/plain": [
       "<Figure size 432x288 with 1 Axes>"
      ]
     },
     "metadata": {
      "needs_background": "light"
     },
     "output_type": "display_data"
    }
   ],
   "source": [
    "plt.plot(N_CLASSES_LIST, rec)\n",
    "plt.xlabel('#Classes')\n",
    "plt.ylabel('Recall Score')\n",
    "plt.xticks(N_CLASSES_LIST)"
   ]
  },
  {
   "cell_type": "code",
   "execution_count": 11,
   "id": "a277b59a",
   "metadata": {
    "execution": {
     "iopub.execute_input": "2022-03-15T23:05:48.737428Z",
     "iopub.status.busy": "2022-03-15T23:05:48.736763Z",
     "iopub.status.idle": "2022-03-15T23:05:48.913680Z",
     "shell.execute_reply": "2022-03-15T23:05:48.912959Z",
     "shell.execute_reply.started": "2022-03-15T12:46:32.22258Z"
    },
    "papermill": {
     "duration": 0.579094,
     "end_time": "2022-03-15T23:05:48.913831",
     "exception": false,
     "start_time": "2022-03-15T23:05:48.334737",
     "status": "completed"
    },
    "tags": []
   },
   "outputs": [
    {
     "data": {
      "text/plain": [
       "([<matplotlib.axis.XTick at 0x7f871da50150>,\n",
       "  <matplotlib.axis.XTick at 0x7f871da50550>,\n",
       "  <matplotlib.axis.XTick at 0x7f877870ab90>,\n",
       "  <matplotlib.axis.XTick at 0x7f875825a550>,\n",
       "  <matplotlib.axis.XTick at 0x7f871f1ea150>],\n",
       " [Text(0, 0, ''),\n",
       "  Text(0, 0, ''),\n",
       "  Text(0, 0, ''),\n",
       "  Text(0, 0, ''),\n",
       "  Text(0, 0, '')])"
      ]
     },
     "execution_count": 11,
     "metadata": {},
     "output_type": "execute_result"
    },
    {
     "data": {
      "image/png": "[encoded data removed]",
      "text/plain": [
       "<Figure size 432x288 with 1 Axes>"
      ]
     },
     "metadata": {
      "needs_background": "light"
     },
     "output_type": "display_data"
    }
   ],
   "source": [
    "plt.plot(N_CLASSES_LIST, acc)\n",
    "plt.xlabel('#Classes')\n",
    "plt.ylabel('Accuracy Score')\n",
    "plt.xticks(N_CLASSES_LIST)"
   ]
  },
  {
   "cell_type": "code",
   "execution_count": 12,
   "id": "3cfea994",
   "metadata": {
    "execution": {
     "iopub.execute_input": "2022-03-15T23:05:49.702479Z",
     "iopub.status.busy": "2022-03-15T23:05:49.701869Z",
     "iopub.status.idle": "2022-03-15T23:05:49.892123Z",
     "shell.execute_reply": "2022-03-15T23:05:49.891508Z",
     "shell.execute_reply.started": "2022-03-15T12:46:32.401854Z"
    },
    "papermill": {
     "duration": 0.582029,
     "end_time": "2022-03-15T23:05:49.892278",
     "exception": false,
     "start_time": "2022-03-15T23:05:49.310249",
     "status": "completed"
    },
    "tags": []
   },
   "outputs": [
    {
     "data": {
      "text/plain": [
       "([<matplotlib.axis.XTick at 0x7f871f780550>,\n",
       "  <matplotlib.axis.XTick at 0x7f8778717d10>,\n",
       "  <matplotlib.axis.XTick at 0x7f8778717ad0>,\n",
       "  <matplotlib.axis.XTick at 0x7f871f37e990>,\n",
       "  <matplotlib.axis.XTick at 0x7f871f37e6d0>],\n",
       " [Text(0, 0, ''),\n",
       "  Text(0, 0, ''),\n",
       "  Text(0, 0, ''),\n",
       "  Text(0, 0, ''),\n",
       "  Text(0, 0, '')])"
      ]
     },
     "execution_count": 12,
     "metadata": {},
     "output_type": "execute_result"
    },
    {
     "data": {
      "image/png": "[encoded data removed]",
      "text/plain": [
       "<Figure size 432x288 with 1 Axes>"
      ]
     },
     "metadata": {
      "needs_background": "light"
     },
     "output_type": "display_data"
    }
   ],
   "source": [
    "plt.plot(N_CLASSES_LIST, auc)\n",
    "plt.xlabel('#Classes')\n",
    "plt.ylabel('AUC Score')\n",
    "plt.xticks(N_CLASSES_LIST)"
   ]
  }
 ],
 "metadata": {
  "kernelspec": {
   "display_name": "Python 3.8.10 64-bit",
   "language": "python",
   "name": "python3"
  },
  "language_info": {
   "codemirror_mode": {
    "name": "ipython",
    "version": 3
   },
   "file_extension": ".py",
   "mimetype": "text/x-python",
   "name": "python",
   "nbconvert_exporter": "python",
   "pygments_lexer": "ipython3",
   "version": "3.6.9"
  },
  "papermill": {
   "default_parameters": {},
   "duration": 1040.302377,
   "end_time": "2022-03-15T23:05:53.572953",
   "environment_variables": {},
   "exception": null,
   "input_path": "__notebook__.ipynb",
   "output_path": "__notebook__.ipynb",
   "parameters": {},
   "start_time": "2022-03-15T22:48:33.270576",
   "version": "2.3.3"
  },
  "vscode": {
   "interpreter": {
    "hash": "31f2aee4e71d21fbe5cf8b01ff0e069b9275f58929596ceb00d14d90e3e16cd6"
   }
  }
 },
 "nbformat": 4,
 "nbformat_minor": 5
}
