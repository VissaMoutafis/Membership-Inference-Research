{
  "cells": [
    {
      "cell_type": "markdown",
      "metadata": {
        "id": "2vzAuc5Xo3j2"
      },
      "source": [
        "# Label Only Membership Inference (Revisited on points)\n",
        "\n",
        "### Threat Model:\n",
        "\n",
        "- **Black Box** access to an overfitted classifier with no access to actual $D_{train}$\n",
        "- Predict API returns **only labels instead of confidence vectors**\n",
        "- We have some insight on the training data distribution, $D_{out}$ , **but** $D_{train} \\cap D_{out} = \\varnothing$\n",
        "\n",
        "\n",
        "### Attack Target: \n",
        "- Use a shadow model to attack local shadow models and extract membership leakage features\n",
        "- Use data perturbations in order to exploit test/training data approximation relevancies to the classification boundaries.\n",
        "- Perfom the boundary-based attack on the actual model\n",
        "\n",
        "### Evaluation Target\n",
        "- Score over $50\\%$ accuracy\n",
        "- Train attack model based on this assumption and compare with conf-vector attack\n",
        "\n",
        "Implemented based on [this paper](https://arxiv.org/abs/2007.14321)."
      ]
    },
    {
      "cell_type": "code",
      "execution_count": 1,
      "metadata": {
        "colab": {
          "base_uri": "https://localhost:8080/"
        },
        "id": "tg_WQJ7j5n3B",
        "outputId": "01f7f8f3-6f4a-4551-cc79-379d2853b465"
      },
      "outputs": [
        {
          "output_type": "stream",
          "name": "stdout",
          "text": [
            "Num GPUs Available:  1\n"
          ]
        }
      ],
      "source": [
        "import numpy as np\n",
        "import matplotlib.pyplot as plt\n",
        "\n",
        "import math\n",
        "import tensorflow as tf\n",
        "from tensorflow.keras import datasets, layers, models\n",
        "from sklearn.model_selection import train_test_split\n",
        "from tensorflow import keras\n",
        "from tensorflow.keras import regularizers\n",
        "\n",
        "# for image interpolation\n",
        "import scipy.ndimage.interpolation as interpolation\n",
        "\n",
        "from sklearn.metrics import roc_auc_score, roc_curve\n",
        "from sklearn.metrics import classification_report\n",
        "\n",
        "from mia.attack_model import *\n",
        "from mia.label_only import *\n",
        "from mia.shadow_models import *\n",
        "from mia.utilities import *\n",
        "from mia.wrappers import ConfidenceVectorAttack\n",
        "\n",
        "from tqdm import tqdm\n",
        "import sys\n",
        "print(\"Num GPUs Available: \", len(tf.config.list_physical_devices('GPU')))\n"
      ]
    },
    {
      "cell_type": "markdown",
      "metadata": {
        "id": "5Kv7Qon0qRTk"
      },
      "source": [
        "## Target Model\n",
        "\n",
        "### Model Architecture\n",
        "- 2 layers of 32 $3\\times 3$ Conv2D filters with Max Pooling\n",
        "- 2 layers of 64 $3\\times 3$ Conv2D filters with MaxPooling\n",
        "- Dense Layer of 512 neurons\n",
        "- Dense Output layer of 10 neurons\n",
        "- Each layer has ReLU activation\n"
      ]
    },
    {
      "cell_type": "code",
      "execution_count": 2,
      "metadata": {
        "id": "zacp4ArauIET"
      },
      "outputs": [],
      "source": [
        "D_TARGET_SIZE = 2500"
      ]
    },
    {
      "cell_type": "code",
      "execution_count": 3,
      "metadata": {
        "id": "1qg7LkXX0zOF"
      },
      "outputs": [],
      "source": [
        "def f_target(X_train, y_train, X_test=None, y_test=None, epochs=100):\n",
        "  \"\"\"\n",
        "  Returns a trained target model, if test data are specified we will evaluate the model and print its accuracy\n",
        "  \"\"\"\n",
        "  model = models.Sequential()\n",
        "  model.add(layers.Conv2D(32, (3, 3), activation='relu', input_shape=X_train.shape[1:]))\n",
        "  model.add(layers.MaxPooling2D((2, 2)))\n",
        "  model.add(layers.Conv2D(64, (3, 3), activation='relu'))\n",
        "\n",
        "  model.add(layers.Flatten())\n",
        "  model.add(layers.Dense(32, activation='relu'))\n",
        "\n",
        "  model.add(layers.Dense(10))\n",
        "  \n",
        "  optimizer = keras.optimizers.Adam(learning_rate=0.001)\n",
        "  model.compile(optimizer=optimizer,\n",
        "              loss=tf.keras.losses.SparseCategoricalCrossentropy(from_logits=True),\n",
        "              metrics=['accuracy'])\n",
        "  if X_test is None or y_test is None:\n",
        "    history = model.fit(X_train, y_train, epochs=epochs, \n",
        "                    validation_split=0.2)\n",
        "  else:\n",
        "    history = model.fit(X_train, y_train, epochs=epochs, \n",
        "                    validation_data=(X_test, y_test))\n",
        "  return model"
      ]
    },
    {
      "cell_type": "code",
      "execution_count": 4,
      "metadata": {
        "id": "oy2NLipP75sX"
      },
      "outputs": [],
      "source": [
        "(train_images, train_labels), (test_images, test_labels) = datasets.mnist.load_data()\n",
        "train_images = train_images.reshape((-1, 28, 28, 1))\n",
        "test_images=test_images.reshape((-1, 28, 28, 1))\n",
        "\n",
        "#shuffle the datasets\n",
        "sample_i = np.random.choice(range(train_images.shape[0]), train_images.shape[0], replace=False)\n",
        "train_images = train_images[sample_i]\n",
        "train_labels = train_labels[sample_i]\n",
        "sample_i = np.random.choice(range(test_images.shape[0]), test_images.shape[0], replace=False)\n",
        "test_images = test_images[sample_i]\n",
        "test_labels = test_labels[sample_i] \n",
        "\n",
        "# define the target's training dataset and the attacker's retrieved dataset\n",
        "attacker_labels = np.concatenate((train_labels[D_TARGET_SIZE:], test_labels))\n",
        "attacker_images = np.concatenate((train_images[D_TARGET_SIZE:], test_images))\n",
        "target_images = train_images[:D_TARGET_SIZE]\n",
        "target_labels = train_labels[:D_TARGET_SIZE]"
      ]
    },
    {
      "cell_type": "code",
      "execution_count": 5,
      "metadata": {
        "colab": {
          "base_uri": "https://localhost:8080/"
        },
        "id": "Ap02yKRT76RJ",
        "outputId": "193e0b03-008d-4053-d8ad-77d1ed10a427"
      },
      "outputs": [
        {
          "output_type": "stream",
          "name": "stdout",
          "text": [
            "Epoch 1/25\n",
            "63/63 [==============================] - 3s 18ms/step - loss: 3.6304 - accuracy: 0.3550 - val_loss: 1.2286 - val_accuracy: 0.5420\n",
            "Epoch 2/25\n",
            "63/63 [==============================] - 1s 11ms/step - loss: 1.1157 - accuracy: 0.6240 - val_loss: 0.8881 - val_accuracy: 0.7200\n",
            "Epoch 3/25\n",
            "63/63 [==============================] - 1s 12ms/step - loss: 0.6742 - accuracy: 0.7800 - val_loss: 0.6676 - val_accuracy: 0.7680\n",
            "Epoch 4/25\n",
            "63/63 [==============================] - 1s 11ms/step - loss: 0.4118 - accuracy: 0.8680 - val_loss: 0.4747 - val_accuracy: 0.8740\n",
            "Epoch 5/25\n",
            "63/63 [==============================] - 1s 11ms/step - loss: 0.2195 - accuracy: 0.9355 - val_loss: 0.5100 - val_accuracy: 0.8620\n",
            "Epoch 6/25\n",
            "63/63 [==============================] - 1s 10ms/step - loss: 0.1477 - accuracy: 0.9565 - val_loss: 0.3643 - val_accuracy: 0.9100\n",
            "Epoch 7/25\n",
            "63/63 [==============================] - 1s 12ms/step - loss: 0.0948 - accuracy: 0.9700 - val_loss: 0.3596 - val_accuracy: 0.9220\n",
            "Epoch 8/25\n",
            "63/63 [==============================] - 1s 11ms/step - loss: 0.0607 - accuracy: 0.9805 - val_loss: 0.3677 - val_accuracy: 0.9240\n",
            "Epoch 9/25\n",
            "63/63 [==============================] - 1s 10ms/step - loss: 0.0505 - accuracy: 0.9875 - val_loss: 0.3519 - val_accuracy: 0.9260\n",
            "Epoch 10/25\n",
            "63/63 [==============================] - 1s 10ms/step - loss: 0.0408 - accuracy: 0.9900 - val_loss: 0.3477 - val_accuracy: 0.9320\n",
            "Epoch 11/25\n",
            "63/63 [==============================] - 1s 11ms/step - loss: 0.0388 - accuracy: 0.9920 - val_loss: 0.3683 - val_accuracy: 0.9300\n",
            "Epoch 12/25\n",
            "63/63 [==============================] - 1s 10ms/step - loss: 0.0262 - accuracy: 0.9930 - val_loss: 0.3458 - val_accuracy: 0.9320\n",
            "Epoch 13/25\n",
            "63/63 [==============================] - 1s 12ms/step - loss: 0.0246 - accuracy: 0.9930 - val_loss: 0.3402 - val_accuracy: 0.9380\n",
            "Epoch 14/25\n",
            "63/63 [==============================] - 1s 9ms/step - loss: 0.0231 - accuracy: 0.9930 - val_loss: 0.3524 - val_accuracy: 0.9340\n",
            "Epoch 15/25\n",
            "63/63 [==============================] - 1s 9ms/step - loss: 0.0234 - accuracy: 0.9935 - val_loss: 0.3752 - val_accuracy: 0.9260\n",
            "Epoch 16/25\n",
            "63/63 [==============================] - 1s 10ms/step - loss: 0.0614 - accuracy: 0.9850 - val_loss: 0.5909 - val_accuracy: 0.8940\n",
            "Epoch 17/25\n",
            "63/63 [==============================] - 1s 11ms/step - loss: 0.1062 - accuracy: 0.9720 - val_loss: 0.4738 - val_accuracy: 0.9080\n",
            "Epoch 18/25\n",
            "63/63 [==============================] - 1s 12ms/step - loss: 0.0736 - accuracy: 0.9795 - val_loss: 0.4914 - val_accuracy: 0.9200\n",
            "Epoch 19/25\n",
            "63/63 [==============================] - 1s 12ms/step - loss: 0.0401 - accuracy: 0.9880 - val_loss: 0.3954 - val_accuracy: 0.9200\n",
            "Epoch 20/25\n",
            "63/63 [==============================] - 1s 10ms/step - loss: 0.0348 - accuracy: 0.9910 - val_loss: 0.3555 - val_accuracy: 0.9380\n",
            "Epoch 21/25\n",
            "63/63 [==============================] - 1s 9ms/step - loss: 0.0269 - accuracy: 0.9915 - val_loss: 0.3761 - val_accuracy: 0.9380\n",
            "Epoch 22/25\n",
            "63/63 [==============================] - 1s 10ms/step - loss: 0.0225 - accuracy: 0.9925 - val_loss: 0.4439 - val_accuracy: 0.9320\n",
            "Epoch 23/25\n",
            "63/63 [==============================] - 1s 11ms/step - loss: 0.0216 - accuracy: 0.9930 - val_loss: 0.4454 - val_accuracy: 0.9300\n",
            "Epoch 24/25\n",
            "63/63 [==============================] - 1s 13ms/step - loss: 0.0285 - accuracy: 0.9925 - val_loss: 0.4332 - val_accuracy: 0.9240\n",
            "Epoch 25/25\n",
            "63/63 [==============================] - 1s 10ms/step - loss: 0.0204 - accuracy: 0.9940 - val_loss: 0.4099 - val_accuracy: 0.9300\n"
          ]
        }
      ],
      "source": [
        "train_images, eval_images, train_labels, eval_labels = train_test_split(target_images, target_labels, test_size=0.2, shuffle=True)\n",
        "target_model = f_target(train_images, train_labels, eval_images, eval_labels, epochs=25) "
      ]
    },
    {
      "cell_type": "code",
      "execution_count": 12,
      "metadata": {
        "id": "2GWyCXmmwIiJ"
      },
      "outputs": [],
      "source": [
        "N_SHADOWS = 5\n",
        "D_SHADOW_SIZE = 1000"
      ]
    },
    {
      "cell_type": "code",
      "execution_count": 13,
      "metadata": {
        "id": "2rwhySHfVQjV"
      },
      "outputs": [],
      "source": [
        "def f_shadow():\n",
        "  model = models.Sequential()\n",
        "  model.add(layers.Conv2D(32, (3, 3), activation='tanh', input_shape=(28, 28, 1)))\n",
        "  model.add(layers.MaxPooling2D((2, 2)))\n",
        "  \n",
        "  model.add(layers.Flatten())\n",
        "  model.add(layers.Dense(64, activation='tanh'))\n",
        "\n",
        "  model.add(layers.Dense(10))\n",
        "  \n",
        "  optimizer = keras.optimizers.Adam()\n",
        "  model.compile(optimizer=optimizer,\n",
        "              loss=tf.keras.losses.SparseCategoricalCrossentropy(from_logits=True),\n",
        "              metrics=['accuracy'])\n",
        "  return model"
      ]
    },
    {
      "cell_type": "code",
      "source": [
        "attack = ConfidenceVectorAttack(target_model, (train_images, train_labels), (attacker_images, attacker_labels), f_shadow, \n",
        "                                n_shadows=N_SHADOWS, D_shadow_size=D_SHADOW_SIZE)\n",
        "attack.perform_attack()\n",
        "attack.evaluate_attack()"
      ],
      "metadata": {
        "id": "229vDaGl1kKq",
        "colab": {
          "base_uri": "https://localhost:8080/",
          "height": 1000
        },
        "outputId": "0763e5c3-43c7-4289-f460-ec8bd3a82076"
      },
      "execution_count": 14,
      "outputs": [
        {
          "output_type": "stream",
          "name": "stdout",
          "text": [
            "Epoch 1/25\n",
            "21/21 [==============================] - 1s 15ms/step - loss: 1.2791 - accuracy: 0.5955 - val_loss: 0.6485 - val_accuracy: 0.8152\n",
            "Epoch 2/25\n",
            "21/21 [==============================] - 0s 7ms/step - loss: 0.3765 - accuracy: 0.9045 - val_loss: 0.4533 - val_accuracy: 0.8424\n",
            "Epoch 3/25\n",
            "21/21 [==============================] - 0s 9ms/step - loss: 0.1933 - accuracy: 0.9657 - val_loss: 0.3908 - val_accuracy: 0.8818\n",
            "Epoch 4/25\n",
            "21/21 [==============================] - 0s 9ms/step - loss: 0.1087 - accuracy: 0.9896 - val_loss: 0.3606 - val_accuracy: 0.8879\n",
            "Epoch 5/25\n",
            "21/21 [==============================] - 0s 8ms/step - loss: 0.0660 - accuracy: 0.9955 - val_loss: 0.3447 - val_accuracy: 0.8848\n",
            "Epoch 6/25\n",
            "21/21 [==============================] - 0s 7ms/step - loss: 0.0438 - accuracy: 1.0000 - val_loss: 0.3456 - val_accuracy: 0.9000\n",
            "Epoch 7/25\n",
            "21/21 [==============================] - 0s 7ms/step - loss: 0.0325 - accuracy: 1.0000 - val_loss: 0.3341 - val_accuracy: 0.8909\n",
            "Epoch 8/25\n",
            "21/21 [==============================] - 0s 7ms/step - loss: 0.0257 - accuracy: 1.0000 - val_loss: 0.3263 - val_accuracy: 0.9000\n",
            "Epoch 9/25\n",
            "21/21 [==============================] - 0s 9ms/step - loss: 0.0210 - accuracy: 1.0000 - val_loss: 0.3241 - val_accuracy: 0.8970\n",
            "Epoch 10/25\n",
            "21/21 [==============================] - 0s 7ms/step - loss: 0.0179 - accuracy: 1.0000 - val_loss: 0.3196 - val_accuracy: 0.9030\n",
            "Epoch 11/25\n",
            "21/21 [==============================] - 0s 9ms/step - loss: 0.0152 - accuracy: 1.0000 - val_loss: 0.3215 - val_accuracy: 0.9030\n",
            "Epoch 12/25\n",
            "21/21 [==============================] - 0s 7ms/step - loss: 0.0133 - accuracy: 1.0000 - val_loss: 0.3207 - val_accuracy: 0.9000\n",
            "Epoch 13/25\n",
            "21/21 [==============================] - 0s 7ms/step - loss: 0.0116 - accuracy: 1.0000 - val_loss: 0.3194 - val_accuracy: 0.8970\n",
            "Epoch 14/25\n",
            "21/21 [==============================] - 0s 7ms/step - loss: 0.0102 - accuracy: 1.0000 - val_loss: 0.3188 - val_accuracy: 0.8970\n",
            "Epoch 15/25\n",
            "21/21 [==============================] - 0s 9ms/step - loss: 0.0091 - accuracy: 1.0000 - val_loss: 0.3197 - val_accuracy: 0.9030\n",
            "Epoch 16/25\n",
            "21/21 [==============================] - 0s 9ms/step - loss: 0.0082 - accuracy: 1.0000 - val_loss: 0.3207 - val_accuracy: 0.8970\n",
            "Epoch 17/25\n",
            "21/21 [==============================] - 0s 8ms/step - loss: 0.0074 - accuracy: 1.0000 - val_loss: 0.3205 - val_accuracy: 0.9030\n",
            "Epoch 18/25\n",
            "21/21 [==============================] - 0s 7ms/step - loss: 0.0066 - accuracy: 1.0000 - val_loss: 0.3192 - val_accuracy: 0.9030\n",
            "Epoch 19/25\n",
            "21/21 [==============================] - 0s 7ms/step - loss: 0.0061 - accuracy: 1.0000 - val_loss: 0.3202 - val_accuracy: 0.9000\n",
            "Epoch 20/25\n",
            "21/21 [==============================] - 0s 9ms/step - loss: 0.0056 - accuracy: 1.0000 - val_loss: 0.3207 - val_accuracy: 0.9030\n",
            "Epoch 21/25\n",
            "21/21 [==============================] - 0s 7ms/step - loss: 0.0051 - accuracy: 1.0000 - val_loss: 0.3188 - val_accuracy: 0.9000\n",
            "Epoch 22/25\n",
            "21/21 [==============================] - 0s 9ms/step - loss: 0.0048 - accuracy: 1.0000 - val_loss: 0.3211 - val_accuracy: 0.9030\n",
            "Epoch 23/25\n",
            "21/21 [==============================] - 0s 7ms/step - loss: 0.0044 - accuracy: 1.0000 - val_loss: 0.3213 - val_accuracy: 0.9030\n",
            "Epoch 24/25\n",
            "21/21 [==============================] - 0s 9ms/step - loss: 0.0042 - accuracy: 1.0000 - val_loss: 0.3212 - val_accuracy: 0.9030\n",
            "Epoch 25/25\n",
            "21/21 [==============================] - 0s 7ms/step - loss: 0.0039 - accuracy: 1.0000 - val_loss: 0.3218 - val_accuracy: 0.9030\n",
            "Epoch 1/25\n",
            "21/21 [==============================] - 1s 15ms/step - loss: 1.0606 - accuracy: 0.6522 - val_loss: 0.6221 - val_accuracy: 0.8091\n",
            "Epoch 2/25\n",
            "21/21 [==============================] - 0s 8ms/step - loss: 0.2447 - accuracy: 0.9433 - val_loss: 0.4698 - val_accuracy: 0.8848\n",
            "Epoch 3/25\n",
            "21/21 [==============================] - 0s 8ms/step - loss: 0.1016 - accuracy: 0.9910 - val_loss: 0.4078 - val_accuracy: 0.8970\n",
            "Epoch 4/25\n",
            "21/21 [==============================] - 0s 7ms/step - loss: 0.0547 - accuracy: 1.0000 - val_loss: 0.3833 - val_accuracy: 0.8939\n",
            "Epoch 5/25\n",
            "21/21 [==============================] - 0s 9ms/step - loss: 0.0330 - accuracy: 1.0000 - val_loss: 0.3766 - val_accuracy: 0.9030\n",
            "Epoch 6/25\n",
            "21/21 [==============================] - 0s 7ms/step - loss: 0.0239 - accuracy: 1.0000 - val_loss: 0.3756 - val_accuracy: 0.9061\n",
            "Epoch 7/25\n",
            "21/21 [==============================] - 0s 9ms/step - loss: 0.0191 - accuracy: 1.0000 - val_loss: 0.3697 - val_accuracy: 0.9091\n",
            "Epoch 8/25\n",
            "21/21 [==============================] - 0s 7ms/step - loss: 0.0157 - accuracy: 1.0000 - val_loss: 0.3730 - val_accuracy: 0.9091\n",
            "Epoch 9/25\n",
            "21/21 [==============================] - 0s 9ms/step - loss: 0.0132 - accuracy: 1.0000 - val_loss: 0.3738 - val_accuracy: 0.9121\n",
            "Epoch 10/25\n",
            "21/21 [==============================] - 0s 9ms/step - loss: 0.0114 - accuracy: 1.0000 - val_loss: 0.3712 - val_accuracy: 0.9121\n",
            "Epoch 11/25\n",
            "21/21 [==============================] - 0s 9ms/step - loss: 0.0100 - accuracy: 1.0000 - val_loss: 0.3731 - val_accuracy: 0.9091\n",
            "Epoch 12/25\n",
            "21/21 [==============================] - 0s 7ms/step - loss: 0.0088 - accuracy: 1.0000 - val_loss: 0.3748 - val_accuracy: 0.9121\n",
            "Epoch 13/25\n",
            "21/21 [==============================] - 0s 8ms/step - loss: 0.0079 - accuracy: 1.0000 - val_loss: 0.3758 - val_accuracy: 0.9091\n",
            "Epoch 14/25\n",
            "21/21 [==============================] - 0s 7ms/step - loss: 0.0071 - accuracy: 1.0000 - val_loss: 0.3747 - val_accuracy: 0.9121\n",
            "Epoch 15/25\n",
            "21/21 [==============================] - 0s 8ms/step - loss: 0.0065 - accuracy: 1.0000 - val_loss: 0.3776 - val_accuracy: 0.9091\n",
            "Epoch 16/25\n",
            "21/21 [==============================] - 0s 7ms/step - loss: 0.0059 - accuracy: 1.0000 - val_loss: 0.3769 - val_accuracy: 0.9091\n",
            "Epoch 17/25\n",
            "21/21 [==============================] - 0s 7ms/step - loss: 0.0055 - accuracy: 1.0000 - val_loss: 0.3797 - val_accuracy: 0.9091\n",
            "Epoch 18/25\n",
            "21/21 [==============================] - 0s 7ms/step - loss: 0.0051 - accuracy: 1.0000 - val_loss: 0.3788 - val_accuracy: 0.9091\n",
            "Epoch 19/25\n",
            "21/21 [==============================] - 0s 10ms/step - loss: 0.0047 - accuracy: 1.0000 - val_loss: 0.3797 - val_accuracy: 0.9121\n",
            "Epoch 20/25\n",
            "21/21 [==============================] - 0s 8ms/step - loss: 0.0044 - accuracy: 1.0000 - val_loss: 0.3798 - val_accuracy: 0.9121\n",
            "Epoch 21/25\n",
            "21/21 [==============================] - 0s 9ms/step - loss: 0.0041 - accuracy: 1.0000 - val_loss: 0.3808 - val_accuracy: 0.9121\n",
            "Epoch 22/25\n",
            "21/21 [==============================] - 0s 7ms/step - loss: 0.0038 - accuracy: 1.0000 - val_loss: 0.3838 - val_accuracy: 0.9121\n",
            "Epoch 23/25\n",
            "21/21 [==============================] - 0s 7ms/step - loss: 0.0036 - accuracy: 1.0000 - val_loss: 0.3810 - val_accuracy: 0.9152\n",
            "Epoch 24/25\n",
            "21/21 [==============================] - 0s 7ms/step - loss: 0.0034 - accuracy: 1.0000 - val_loss: 0.3821 - val_accuracy: 0.9152\n",
            "Epoch 25/25\n",
            "21/21 [==============================] - 0s 9ms/step - loss: 0.0032 - accuracy: 1.0000 - val_loss: 0.3847 - val_accuracy: 0.9152\n",
            "Epoch 1/25\n",
            "21/21 [==============================] - 1s 17ms/step - loss: 1.3960 - accuracy: 0.5955 - val_loss: 0.7714 - val_accuracy: 0.7788\n",
            "Epoch 2/25\n",
            "21/21 [==============================] - 0s 9ms/step - loss: 0.3909 - accuracy: 0.9090 - val_loss: 0.6136 - val_accuracy: 0.8242\n",
            "Epoch 3/25\n",
            "21/21 [==============================] - 0s 7ms/step - loss: 0.2054 - accuracy: 0.9672 - val_loss: 0.5921 - val_accuracy: 0.8364\n",
            "Epoch 4/25\n",
            "21/21 [==============================] - 0s 7ms/step - loss: 0.1124 - accuracy: 0.9836 - val_loss: 0.5561 - val_accuracy: 0.8364\n",
            "Epoch 5/25\n",
            "21/21 [==============================] - 0s 7ms/step - loss: 0.0682 - accuracy: 0.9955 - val_loss: 0.5207 - val_accuracy: 0.8545\n",
            "Epoch 6/25\n",
            "21/21 [==============================] - 0s 7ms/step - loss: 0.0462 - accuracy: 1.0000 - val_loss: 0.5329 - val_accuracy: 0.8424\n",
            "Epoch 7/25\n",
            "21/21 [==============================] - 0s 9ms/step - loss: 0.0333 - accuracy: 1.0000 - val_loss: 0.5213 - val_accuracy: 0.8303\n",
            "Epoch 8/25\n",
            "21/21 [==============================] - 0s 9ms/step - loss: 0.0271 - accuracy: 1.0000 - val_loss: 0.5183 - val_accuracy: 0.8364\n",
            "Epoch 9/25\n",
            "21/21 [==============================] - 0s 7ms/step - loss: 0.0228 - accuracy: 1.0000 - val_loss: 0.5204 - val_accuracy: 0.8364\n",
            "Epoch 10/25\n",
            "21/21 [==============================] - 0s 8ms/step - loss: 0.0197 - accuracy: 1.0000 - val_loss: 0.5174 - val_accuracy: 0.8273\n",
            "Epoch 11/25\n",
            "21/21 [==============================] - 0s 7ms/step - loss: 0.0172 - accuracy: 1.0000 - val_loss: 0.5162 - val_accuracy: 0.8333\n",
            "Epoch 12/25\n",
            "21/21 [==============================] - 0s 7ms/step - loss: 0.0153 - accuracy: 1.0000 - val_loss: 0.5119 - val_accuracy: 0.8364\n",
            "Epoch 13/25\n",
            "21/21 [==============================] - 0s 7ms/step - loss: 0.0136 - accuracy: 1.0000 - val_loss: 0.5154 - val_accuracy: 0.8333\n",
            "Epoch 14/25\n",
            "21/21 [==============================] - 0s 9ms/step - loss: 0.0122 - accuracy: 1.0000 - val_loss: 0.5111 - val_accuracy: 0.8364\n",
            "Epoch 15/25\n",
            "21/21 [==============================] - 0s 7ms/step - loss: 0.0111 - accuracy: 1.0000 - val_loss: 0.5136 - val_accuracy: 0.8364\n",
            "Epoch 16/25\n",
            "21/21 [==============================] - 0s 7ms/step - loss: 0.0102 - accuracy: 1.0000 - val_loss: 0.5107 - val_accuracy: 0.8424\n",
            "Epoch 17/25\n",
            "21/21 [==============================] - 0s 8ms/step - loss: 0.0093 - accuracy: 1.0000 - val_loss: 0.5128 - val_accuracy: 0.8333\n",
            "Epoch 18/25\n",
            "21/21 [==============================] - 0s 7ms/step - loss: 0.0085 - accuracy: 1.0000 - val_loss: 0.5094 - val_accuracy: 0.8455\n",
            "Epoch 19/25\n",
            "21/21 [==============================] - 0s 8ms/step - loss: 0.0079 - accuracy: 1.0000 - val_loss: 0.5093 - val_accuracy: 0.8424\n",
            "Epoch 20/25\n",
            "21/21 [==============================] - 0s 9ms/step - loss: 0.0074 - accuracy: 1.0000 - val_loss: 0.5101 - val_accuracy: 0.8485\n",
            "Epoch 21/25\n",
            "21/21 [==============================] - 0s 7ms/step - loss: 0.0068 - accuracy: 1.0000 - val_loss: 0.5100 - val_accuracy: 0.8455\n",
            "Epoch 22/25\n",
            "21/21 [==============================] - 0s 8ms/step - loss: 0.0064 - accuracy: 1.0000 - val_loss: 0.5139 - val_accuracy: 0.8424\n",
            "Epoch 23/25\n",
            "21/21 [==============================] - 0s 8ms/step - loss: 0.0060 - accuracy: 1.0000 - val_loss: 0.5095 - val_accuracy: 0.8424\n",
            "Epoch 24/25\n",
            "21/21 [==============================] - 0s 9ms/step - loss: 0.0056 - accuracy: 1.0000 - val_loss: 0.5128 - val_accuracy: 0.8455\n",
            "Epoch 25/25\n",
            "21/21 [==============================] - 0s 9ms/step - loss: 0.0053 - accuracy: 1.0000 - val_loss: 0.5098 - val_accuracy: 0.8424\n",
            "Epoch 1/25\n",
            "21/21 [==============================] - 1s 15ms/step - loss: 1.1767 - accuracy: 0.6239 - val_loss: 0.6341 - val_accuracy: 0.8212\n",
            "Epoch 2/25\n",
            "21/21 [==============================] - 0s 7ms/step - loss: 0.3310 - accuracy: 0.9149 - val_loss: 0.4979 - val_accuracy: 0.8576\n",
            "Epoch 3/25\n",
            "21/21 [==============================] - 0s 8ms/step - loss: 0.1521 - accuracy: 0.9761 - val_loss: 0.4113 - val_accuracy: 0.8848\n",
            "Epoch 4/25\n",
            "21/21 [==============================] - 0s 7ms/step - loss: 0.0851 - accuracy: 0.9955 - val_loss: 0.3791 - val_accuracy: 0.8818\n",
            "Epoch 5/25\n",
            "21/21 [==============================] - 0s 8ms/step - loss: 0.0531 - accuracy: 1.0000 - val_loss: 0.3729 - val_accuracy: 0.8939\n",
            "Epoch 6/25\n",
            "21/21 [==============================] - 0s 7ms/step - loss: 0.0366 - accuracy: 1.0000 - val_loss: 0.3603 - val_accuracy: 0.8939\n",
            "Epoch 7/25\n",
            "21/21 [==============================] - 0s 7ms/step - loss: 0.0281 - accuracy: 1.0000 - val_loss: 0.3574 - val_accuracy: 0.8939\n",
            "Epoch 8/25\n",
            "21/21 [==============================] - 0s 8ms/step - loss: 0.0229 - accuracy: 1.0000 - val_loss: 0.3550 - val_accuracy: 0.9000\n",
            "Epoch 9/25\n",
            "21/21 [==============================] - 0s 9ms/step - loss: 0.0190 - accuracy: 1.0000 - val_loss: 0.3506 - val_accuracy: 0.9000\n",
            "Epoch 10/25\n",
            "21/21 [==============================] - 0s 9ms/step - loss: 0.0162 - accuracy: 1.0000 - val_loss: 0.3509 - val_accuracy: 0.9000\n",
            "Epoch 11/25\n",
            "21/21 [==============================] - 0s 8ms/step - loss: 0.0139 - accuracy: 1.0000 - val_loss: 0.3502 - val_accuracy: 0.9000\n",
            "Epoch 12/25\n",
            "21/21 [==============================] - 0s 8ms/step - loss: 0.0121 - accuracy: 1.0000 - val_loss: 0.3481 - val_accuracy: 0.9030\n",
            "Epoch 13/25\n",
            "21/21 [==============================] - 0s 9ms/step - loss: 0.0108 - accuracy: 1.0000 - val_loss: 0.3482 - val_accuracy: 0.9030\n",
            "Epoch 14/25\n",
            "21/21 [==============================] - 0s 9ms/step - loss: 0.0096 - accuracy: 1.0000 - val_loss: 0.3477 - val_accuracy: 0.9000\n",
            "Epoch 15/25\n",
            "21/21 [==============================] - 0s 8ms/step - loss: 0.0086 - accuracy: 1.0000 - val_loss: 0.3474 - val_accuracy: 0.9030\n",
            "Epoch 16/25\n",
            "21/21 [==============================] - 0s 9ms/step - loss: 0.0077 - accuracy: 1.0000 - val_loss: 0.3485 - val_accuracy: 0.9091\n",
            "Epoch 17/25\n",
            "21/21 [==============================] - 0s 8ms/step - loss: 0.0069 - accuracy: 1.0000 - val_loss: 0.3557 - val_accuracy: 0.9000\n",
            "Epoch 18/25\n",
            "21/21 [==============================] - 0s 9ms/step - loss: 0.0063 - accuracy: 1.0000 - val_loss: 0.3518 - val_accuracy: 0.9061\n",
            "Epoch 19/25\n",
            "21/21 [==============================] - 0s 9ms/step - loss: 0.0058 - accuracy: 1.0000 - val_loss: 0.3538 - val_accuracy: 0.9061\n",
            "Epoch 20/25\n",
            "21/21 [==============================] - 0s 7ms/step - loss: 0.0053 - accuracy: 1.0000 - val_loss: 0.3559 - val_accuracy: 0.9091\n",
            "Epoch 21/25\n",
            "21/21 [==============================] - 0s 9ms/step - loss: 0.0050 - accuracy: 1.0000 - val_loss: 0.3539 - val_accuracy: 0.9061\n",
            "Epoch 22/25\n",
            "21/21 [==============================] - 0s 8ms/step - loss: 0.0046 - accuracy: 1.0000 - val_loss: 0.3580 - val_accuracy: 0.9030\n",
            "Epoch 23/25\n",
            "21/21 [==============================] - 0s 7ms/step - loss: 0.0043 - accuracy: 1.0000 - val_loss: 0.3570 - val_accuracy: 0.9091\n",
            "Epoch 24/25\n",
            "21/21 [==============================] - 0s 9ms/step - loss: 0.0041 - accuracy: 1.0000 - val_loss: 0.3577 - val_accuracy: 0.9061\n",
            "Epoch 25/25\n",
            "21/21 [==============================] - 0s 8ms/step - loss: 0.0038 - accuracy: 1.0000 - val_loss: 0.3573 - val_accuracy: 0.9061\n",
            "Epoch 1/25\n",
            "21/21 [==============================] - 1s 16ms/step - loss: 1.0401 - accuracy: 0.6627 - val_loss: 0.5745 - val_accuracy: 0.8000\n",
            "Epoch 2/25\n",
            "21/21 [==============================] - 0s 8ms/step - loss: 0.2729 - accuracy: 0.9403 - val_loss: 0.4485 - val_accuracy: 0.8606\n",
            "Epoch 3/25\n",
            "21/21 [==============================] - 0s 9ms/step - loss: 0.1149 - accuracy: 0.9866 - val_loss: 0.3741 - val_accuracy: 0.8697\n",
            "Epoch 4/25\n",
            "21/21 [==============================] - 0s 8ms/step - loss: 0.0581 - accuracy: 0.9955 - val_loss: 0.3562 - val_accuracy: 0.8879\n",
            "Epoch 5/25\n",
            "21/21 [==============================] - 0s 8ms/step - loss: 0.0339 - accuracy: 0.9985 - val_loss: 0.3535 - val_accuracy: 0.8970\n",
            "Epoch 6/25\n",
            "21/21 [==============================] - 0s 7ms/step - loss: 0.0252 - accuracy: 1.0000 - val_loss: 0.3514 - val_accuracy: 0.8939\n",
            "Epoch 7/25\n",
            "21/21 [==============================] - 0s 9ms/step - loss: 0.0203 - accuracy: 1.0000 - val_loss: 0.3450 - val_accuracy: 0.9061\n",
            "Epoch 8/25\n",
            "21/21 [==============================] - 0s 9ms/step - loss: 0.0167 - accuracy: 1.0000 - val_loss: 0.3453 - val_accuracy: 0.9030\n",
            "Epoch 9/25\n",
            "21/21 [==============================] - 0s 9ms/step - loss: 0.0141 - accuracy: 1.0000 - val_loss: 0.3448 - val_accuracy: 0.9091\n",
            "Epoch 10/25\n",
            "21/21 [==============================] - 0s 7ms/step - loss: 0.0120 - accuracy: 1.0000 - val_loss: 0.3423 - val_accuracy: 0.9061\n",
            "Epoch 11/25\n",
            "21/21 [==============================] - 0s 9ms/step - loss: 0.0105 - accuracy: 1.0000 - val_loss: 0.3433 - val_accuracy: 0.9091\n",
            "Epoch 12/25\n",
            "21/21 [==============================] - 0s 9ms/step - loss: 0.0093 - accuracy: 1.0000 - val_loss: 0.3403 - val_accuracy: 0.9061\n",
            "Epoch 13/25\n",
            "21/21 [==============================] - 0s 7ms/step - loss: 0.0084 - accuracy: 1.0000 - val_loss: 0.3412 - val_accuracy: 0.9091\n",
            "Epoch 14/25\n",
            "21/21 [==============================] - 0s 9ms/step - loss: 0.0076 - accuracy: 1.0000 - val_loss: 0.3403 - val_accuracy: 0.9061\n",
            "Epoch 15/25\n",
            "21/21 [==============================] - 0s 7ms/step - loss: 0.0068 - accuracy: 1.0000 - val_loss: 0.3392 - val_accuracy: 0.9091\n",
            "Epoch 16/25\n",
            "21/21 [==============================] - 0s 9ms/step - loss: 0.0063 - accuracy: 1.0000 - val_loss: 0.3400 - val_accuracy: 0.9091\n",
            "Epoch 17/25\n",
            "21/21 [==============================] - 0s 7ms/step - loss: 0.0058 - accuracy: 1.0000 - val_loss: 0.3378 - val_accuracy: 0.9091\n",
            "Epoch 18/25\n",
            "21/21 [==============================] - 0s 9ms/step - loss: 0.0053 - accuracy: 1.0000 - val_loss: 0.3382 - val_accuracy: 0.9091\n",
            "Epoch 19/25\n",
            "21/21 [==============================] - 0s 9ms/step - loss: 0.0049 - accuracy: 1.0000 - val_loss: 0.3373 - val_accuracy: 0.9121\n",
            "Epoch 20/25\n",
            "21/21 [==============================] - 0s 8ms/step - loss: 0.0046 - accuracy: 1.0000 - val_loss: 0.3380 - val_accuracy: 0.9121\n",
            "Epoch 21/25\n",
            "21/21 [==============================] - 0s 7ms/step - loss: 0.0043 - accuracy: 1.0000 - val_loss: 0.3378 - val_accuracy: 0.9091\n",
            "Epoch 22/25\n",
            "21/21 [==============================] - 0s 7ms/step - loss: 0.0040 - accuracy: 1.0000 - val_loss: 0.3374 - val_accuracy: 0.9091\n",
            "Epoch 23/25\n",
            "21/21 [==============================] - 0s 7ms/step - loss: 0.0037 - accuracy: 1.0000 - val_loss: 0.3370 - val_accuracy: 0.9091\n",
            "Epoch 24/25\n",
            "21/21 [==============================] - 0s 7ms/step - loss: 0.0035 - accuracy: 1.0000 - val_loss: 0.3375 - val_accuracy: 0.9121\n",
            "Epoch 25/25\n",
            "21/21 [==============================] - 0s 8ms/step - loss: 0.0033 - accuracy: 1.0000 - val_loss: 0.3367 - val_accuracy: 0.9091\n",
            "Preparing shadow batch of size 660\n",
            "Done!\n",
            "Preparing shadow batch of size 660\n",
            "Done!\n",
            "Preparing shadow batch of size 660\n",
            "Done!\n",
            "Preparing shadow batch of size 660\n",
            "Done!\n",
            "Preparing shadow batch of size 660\n",
            "Done!\n",
            "Epoch 1/100\n",
            "73/73 [==============================] - 1s 8ms/step - loss: 0.7127 - accuracy: 0.4848 - val_loss: 0.6966 - val_accuracy: 0.4980\n",
            "Epoch 2/100\n",
            "73/73 [==============================] - 0s 6ms/step - loss: 0.6998 - accuracy: 0.4974 - val_loss: 0.6955 - val_accuracy: 0.5131\n",
            "Epoch 3/100\n",
            "73/73 [==============================] - 0s 5ms/step - loss: 0.6971 - accuracy: 0.4970 - val_loss: 0.6929 - val_accuracy: 0.5131\n",
            "Epoch 4/100\n",
            "73/73 [==============================] - 0s 5ms/step - loss: 0.6963 - accuracy: 0.5000 - val_loss: 0.6922 - val_accuracy: 0.5121\n",
            "Epoch 5/100\n",
            "73/73 [==============================] - 0s 5ms/step - loss: 0.6949 - accuracy: 0.5048 - val_loss: 0.6922 - val_accuracy: 0.5354\n",
            "Epoch 6/100\n",
            "73/73 [==============================] - 0s 5ms/step - loss: 0.6943 - accuracy: 0.5173 - val_loss: 0.6916 - val_accuracy: 0.5101\n",
            "Epoch 7/100\n",
            "73/73 [==============================] - 0s 5ms/step - loss: 0.6942 - accuracy: 0.5082 - val_loss: 0.6916 - val_accuracy: 0.5465\n",
            "Epoch 8/100\n",
            "73/73 [==============================] - 0s 5ms/step - loss: 0.6938 - accuracy: 0.5195 - val_loss: 0.6916 - val_accuracy: 0.5495\n",
            "Epoch 9/100\n",
            "73/73 [==============================] - 0s 5ms/step - loss: 0.6930 - accuracy: 0.5216 - val_loss: 0.6917 - val_accuracy: 0.5394\n",
            "Epoch 10/100\n",
            "73/73 [==============================] - 0s 6ms/step - loss: 0.6928 - accuracy: 0.5121 - val_loss: 0.6916 - val_accuracy: 0.5495\n",
            "Epoch 11/100\n",
            "73/73 [==============================] - 0s 5ms/step - loss: 0.6928 - accuracy: 0.5056 - val_loss: 0.6916 - val_accuracy: 0.5424\n",
            "Epoch 12/100\n",
            "73/73 [==============================] - 0s 5ms/step - loss: 0.6921 - accuracy: 0.5303 - val_loss: 0.6917 - val_accuracy: 0.5444\n",
            "Epoch 13/100\n",
            "73/73 [==============================] - 0s 6ms/step - loss: 0.6930 - accuracy: 0.5286 - val_loss: 0.6914 - val_accuracy: 0.5404\n",
            "Epoch 14/100\n",
            "73/73 [==============================] - 0s 5ms/step - loss: 0.6924 - accuracy: 0.5221 - val_loss: 0.6920 - val_accuracy: 0.5343\n",
            "Epoch 15/100\n",
            "73/73 [==============================] - 0s 5ms/step - loss: 0.6916 - accuracy: 0.5333 - val_loss: 0.6916 - val_accuracy: 0.5444\n",
            "Epoch 16/100\n",
            "73/73 [==============================] - 0s 6ms/step - loss: 0.6920 - accuracy: 0.5255 - val_loss: 0.6924 - val_accuracy: 0.5111\n",
            "Epoch 17/100\n",
            "73/73 [==============================] - 0s 5ms/step - loss: 0.6916 - accuracy: 0.5078 - val_loss: 0.6920 - val_accuracy: 0.5131\n",
            "Epoch 18/100\n",
            "73/73 [==============================] - 0s 5ms/step - loss: 0.6912 - accuracy: 0.5091 - val_loss: 0.6916 - val_accuracy: 0.5384\n",
            "Epoch 19/100\n",
            "73/73 [==============================] - 0s 5ms/step - loss: 0.6917 - accuracy: 0.5225 - val_loss: 0.6915 - val_accuracy: 0.5394\n",
            "Epoch 20/100\n",
            "73/73 [==============================] - 0s 5ms/step - loss: 0.6915 - accuracy: 0.5165 - val_loss: 0.6918 - val_accuracy: 0.5242\n",
            "Epoch 21/100\n",
            "73/73 [==============================] - 0s 5ms/step - loss: 0.6914 - accuracy: 0.5091 - val_loss: 0.6927 - val_accuracy: 0.5081\n",
            "Epoch 22/100\n",
            "73/73 [==============================] - 0s 5ms/step - loss: 0.6915 - accuracy: 0.5199 - val_loss: 0.6921 - val_accuracy: 0.5152\n",
            "Epoch 23/100\n",
            "73/73 [==============================] - 0s 6ms/step - loss: 0.6914 - accuracy: 0.5212 - val_loss: 0.6916 - val_accuracy: 0.5364\n",
            "Epoch 24/100\n",
            "73/73 [==============================] - 0s 6ms/step - loss: 0.6912 - accuracy: 0.5251 - val_loss: 0.6920 - val_accuracy: 0.5182\n",
            "Epoch 25/100\n",
            "73/73 [==============================] - 0s 6ms/step - loss: 0.6914 - accuracy: 0.5234 - val_loss: 0.6916 - val_accuracy: 0.5303\n",
            "Epoch 26/100\n",
            "73/73 [==============================] - 0s 6ms/step - loss: 0.6913 - accuracy: 0.5247 - val_loss: 0.6916 - val_accuracy: 0.5404\n",
            "Epoch 27/100\n",
            "73/73 [==============================] - 0s 5ms/step - loss: 0.6915 - accuracy: 0.5290 - val_loss: 0.6916 - val_accuracy: 0.5455\n",
            "Epoch 28/100\n",
            "73/73 [==============================] - 0s 6ms/step - loss: 0.6912 - accuracy: 0.5208 - val_loss: 0.6914 - val_accuracy: 0.5343\n",
            "Epoch 29/100\n",
            "73/73 [==============================] - 0s 5ms/step - loss: 0.6917 - accuracy: 0.5268 - val_loss: 0.6915 - val_accuracy: 0.5394\n",
            "Epoch 30/100\n",
            "73/73 [==============================] - 0s 5ms/step - loss: 0.6913 - accuracy: 0.5329 - val_loss: 0.6917 - val_accuracy: 0.5333\n",
            "Epoch 31/100\n",
            "73/73 [==============================] - 0s 6ms/step - loss: 0.6915 - accuracy: 0.5139 - val_loss: 0.6919 - val_accuracy: 0.5242\n",
            "Epoch 32/100\n",
            "73/73 [==============================] - 0s 6ms/step - loss: 0.6908 - accuracy: 0.5342 - val_loss: 0.6924 - val_accuracy: 0.5121\n",
            "Epoch 33/100\n",
            "73/73 [==============================] - 0s 6ms/step - loss: 0.6910 - accuracy: 0.5212 - val_loss: 0.6925 - val_accuracy: 0.5152\n",
            "Epoch 34/100\n",
            "73/73 [==============================] - 0s 5ms/step - loss: 0.6914 - accuracy: 0.5437 - val_loss: 0.6945 - val_accuracy: 0.5010\n",
            "Epoch 35/100\n",
            "73/73 [==============================] - 0s 5ms/step - loss: 0.6914 - accuracy: 0.5333 - val_loss: 0.6928 - val_accuracy: 0.5111\n",
            "Epoch 36/100\n",
            "73/73 [==============================] - 0s 5ms/step - loss: 0.6912 - accuracy: 0.5117 - val_loss: 0.6916 - val_accuracy: 0.5283\n",
            "Epoch 37/100\n",
            "73/73 [==============================] - 0s 5ms/step - loss: 0.6907 - accuracy: 0.5247 - val_loss: 0.6915 - val_accuracy: 0.5515\n",
            "Epoch 38/100\n",
            "73/73 [==============================] - 0s 5ms/step - loss: 0.6909 - accuracy: 0.5316 - val_loss: 0.6940 - val_accuracy: 0.4980\n",
            "Epoch 39/100\n",
            "73/73 [==============================] - 0s 6ms/step - loss: 0.6910 - accuracy: 0.5281 - val_loss: 0.6916 - val_accuracy: 0.5293\n",
            "Epoch 40/100\n",
            "73/73 [==============================] - 0s 5ms/step - loss: 0.6909 - accuracy: 0.5303 - val_loss: 0.6930 - val_accuracy: 0.5051\n",
            "Epoch 41/100\n",
            "73/73 [==============================] - 0s 6ms/step - loss: 0.6905 - accuracy: 0.5420 - val_loss: 0.6916 - val_accuracy: 0.5273\n",
            "Epoch 42/100\n",
            "73/73 [==============================] - 0s 6ms/step - loss: 0.6908 - accuracy: 0.5420 - val_loss: 0.6913 - val_accuracy: 0.5374\n",
            "Epoch 43/100\n",
            "73/73 [==============================] - 0s 5ms/step - loss: 0.6912 - accuracy: 0.5255 - val_loss: 0.6913 - val_accuracy: 0.5485\n",
            "Epoch 44/100\n",
            "73/73 [==============================] - 0s 5ms/step - loss: 0.6908 - accuracy: 0.5221 - val_loss: 0.6913 - val_accuracy: 0.5313\n",
            "Epoch 45/100\n",
            "73/73 [==============================] - 0s 5ms/step - loss: 0.6907 - accuracy: 0.5234 - val_loss: 0.6915 - val_accuracy: 0.5354\n",
            "Epoch 46/100\n",
            "73/73 [==============================] - 0s 6ms/step - loss: 0.6905 - accuracy: 0.5312 - val_loss: 0.6925 - val_accuracy: 0.5081\n",
            "Epoch 47/100\n",
            "73/73 [==============================] - 0s 6ms/step - loss: 0.6912 - accuracy: 0.5329 - val_loss: 0.6941 - val_accuracy: 0.5010\n",
            "Epoch 48/100\n",
            "73/73 [==============================] - 0s 5ms/step - loss: 0.6908 - accuracy: 0.5290 - val_loss: 0.6920 - val_accuracy: 0.5141\n",
            "Epoch 49/100\n",
            "73/73 [==============================] - 0s 5ms/step - loss: 0.6904 - accuracy: 0.5329 - val_loss: 0.6914 - val_accuracy: 0.5323\n",
            "Epoch 50/100\n",
            "73/73 [==============================] - 0s 6ms/step - loss: 0.6905 - accuracy: 0.5338 - val_loss: 0.6929 - val_accuracy: 0.5020\n",
            "Epoch 51/100\n",
            "73/73 [==============================] - 0s 5ms/step - loss: 0.6904 - accuracy: 0.5247 - val_loss: 0.6930 - val_accuracy: 0.5051\n",
            "Epoch 52/100\n",
            "73/73 [==============================] - 0s 6ms/step - loss: 0.6904 - accuracy: 0.5320 - val_loss: 0.6909 - val_accuracy: 0.5333\n",
            "Epoch 53/100\n",
            "73/73 [==============================] - 0s 5ms/step - loss: 0.6902 - accuracy: 0.5381 - val_loss: 0.6912 - val_accuracy: 0.5273\n",
            "Epoch 54/100\n",
            "73/73 [==============================] - 0s 5ms/step - loss: 0.6905 - accuracy: 0.5264 - val_loss: 0.6915 - val_accuracy: 0.5293\n",
            "Epoch 55/100\n",
            "73/73 [==============================] - 0s 5ms/step - loss: 0.6903 - accuracy: 0.5255 - val_loss: 0.6913 - val_accuracy: 0.5283\n",
            "Epoch 56/100\n",
            "73/73 [==============================] - 0s 6ms/step - loss: 0.6901 - accuracy: 0.5312 - val_loss: 0.6910 - val_accuracy: 0.5566\n",
            "Epoch 57/100\n",
            "73/73 [==============================] - 0s 5ms/step - loss: 0.6901 - accuracy: 0.5407 - val_loss: 0.6913 - val_accuracy: 0.5253\n",
            "Epoch 58/100\n",
            "73/73 [==============================] - 0s 6ms/step - loss: 0.6904 - accuracy: 0.5312 - val_loss: 0.6910 - val_accuracy: 0.5424\n",
            "Epoch 59/100\n",
            "73/73 [==============================] - 0s 6ms/step - loss: 0.6901 - accuracy: 0.5316 - val_loss: 0.6913 - val_accuracy: 0.5182\n",
            "Epoch 60/100\n",
            "73/73 [==============================] - 0s 6ms/step - loss: 0.6901 - accuracy: 0.5247 - val_loss: 0.6906 - val_accuracy: 0.5374\n",
            "Epoch 61/100\n",
            "73/73 [==============================] - 0s 5ms/step - loss: 0.6900 - accuracy: 0.5368 - val_loss: 0.6907 - val_accuracy: 0.5374\n",
            "Epoch 62/100\n",
            "73/73 [==============================] - 0s 5ms/step - loss: 0.6901 - accuracy: 0.5268 - val_loss: 0.6905 - val_accuracy: 0.5354\n",
            "Epoch 63/100\n",
            "73/73 [==============================] - 0s 5ms/step - loss: 0.6899 - accuracy: 0.5411 - val_loss: 0.6945 - val_accuracy: 0.4970\n",
            "Epoch 64/100\n",
            "73/73 [==============================] - 0s 6ms/step - loss: 0.6902 - accuracy: 0.5338 - val_loss: 0.6908 - val_accuracy: 0.5343\n",
            "Epoch 65/100\n",
            "73/73 [==============================] - 0s 5ms/step - loss: 0.6896 - accuracy: 0.5511 - val_loss: 0.6909 - val_accuracy: 0.5313\n",
            "Epoch 66/100\n",
            "73/73 [==============================] - 0s 5ms/step - loss: 0.6907 - accuracy: 0.5364 - val_loss: 0.6908 - val_accuracy: 0.5323\n",
            "Epoch 67/100\n",
            "73/73 [==============================] - 0s 5ms/step - loss: 0.6901 - accuracy: 0.5381 - val_loss: 0.6913 - val_accuracy: 0.5172\n",
            "Epoch 68/100\n",
            "73/73 [==============================] - 0s 5ms/step - loss: 0.6896 - accuracy: 0.5368 - val_loss: 0.6902 - val_accuracy: 0.5333\n",
            "Epoch 69/100\n",
            "73/73 [==============================] - 0s 5ms/step - loss: 0.6902 - accuracy: 0.5320 - val_loss: 0.6899 - val_accuracy: 0.5323\n",
            "Epoch 70/100\n",
            "73/73 [==============================] - 0s 5ms/step - loss: 0.6903 - accuracy: 0.5377 - val_loss: 0.6914 - val_accuracy: 0.5111\n",
            "Epoch 71/100\n",
            "73/73 [==============================] - 0s 5ms/step - loss: 0.6895 - accuracy: 0.5424 - val_loss: 0.6901 - val_accuracy: 0.5434\n",
            "Epoch 72/100\n",
            "73/73 [==============================] - 0s 5ms/step - loss: 0.6898 - accuracy: 0.5394 - val_loss: 0.6899 - val_accuracy: 0.5384\n",
            "Epoch 73/100\n",
            "73/73 [==============================] - 0s 5ms/step - loss: 0.6895 - accuracy: 0.5351 - val_loss: 0.6904 - val_accuracy: 0.5343\n",
            "Epoch 74/100\n",
            "73/73 [==============================] - 0s 5ms/step - loss: 0.6897 - accuracy: 0.5299 - val_loss: 0.6902 - val_accuracy: 0.5434\n",
            "Epoch 75/100\n",
            "73/73 [==============================] - 0s 5ms/step - loss: 0.6895 - accuracy: 0.5368 - val_loss: 0.6922 - val_accuracy: 0.5061\n",
            "Epoch 76/100\n",
            "73/73 [==============================] - 0s 5ms/step - loss: 0.6905 - accuracy: 0.5351 - val_loss: 0.6905 - val_accuracy: 0.5323\n",
            "Epoch 77/100\n",
            "73/73 [==============================] - 0s 5ms/step - loss: 0.6895 - accuracy: 0.5472 - val_loss: 0.6906 - val_accuracy: 0.5283\n",
            "Epoch 78/100\n",
            "73/73 [==============================] - 0s 5ms/step - loss: 0.6899 - accuracy: 0.5264 - val_loss: 0.6934 - val_accuracy: 0.4970\n",
            "Epoch 79/100\n",
            "73/73 [==============================] - 0s 6ms/step - loss: 0.6897 - accuracy: 0.5411 - val_loss: 0.6897 - val_accuracy: 0.5394\n",
            "Epoch 80/100\n",
            "73/73 [==============================] - 0s 6ms/step - loss: 0.6896 - accuracy: 0.5325 - val_loss: 0.6909 - val_accuracy: 0.5141\n",
            "Epoch 81/100\n",
            "73/73 [==============================] - 0s 5ms/step - loss: 0.6899 - accuracy: 0.5355 - val_loss: 0.6897 - val_accuracy: 0.5455\n",
            "Epoch 82/100\n",
            "73/73 [==============================] - 0s 5ms/step - loss: 0.6898 - accuracy: 0.5325 - val_loss: 0.6908 - val_accuracy: 0.5182\n",
            "Epoch 83/100\n",
            "73/73 [==============================] - 0s 5ms/step - loss: 0.6894 - accuracy: 0.5481 - val_loss: 0.6908 - val_accuracy: 0.5212\n",
            "Epoch 84/100\n",
            "73/73 [==============================] - 0s 5ms/step - loss: 0.6893 - accuracy: 0.5346 - val_loss: 0.6906 - val_accuracy: 0.5253\n",
            "Epoch 85/100\n",
            "73/73 [==============================] - 0s 6ms/step - loss: 0.6894 - accuracy: 0.5416 - val_loss: 0.6904 - val_accuracy: 0.5343\n",
            "Epoch 86/100\n",
            "73/73 [==============================] - 0s 5ms/step - loss: 0.6892 - accuracy: 0.5355 - val_loss: 0.6896 - val_accuracy: 0.5273\n",
            "Epoch 87/100\n",
            "73/73 [==============================] - 0s 5ms/step - loss: 0.6898 - accuracy: 0.5238 - val_loss: 0.6896 - val_accuracy: 0.5404\n",
            "Epoch 88/100\n",
            "73/73 [==============================] - 0s 5ms/step - loss: 0.6897 - accuracy: 0.5325 - val_loss: 0.6898 - val_accuracy: 0.5364\n",
            "Epoch 89/100\n",
            "73/73 [==============================] - 0s 6ms/step - loss: 0.6888 - accuracy: 0.5359 - val_loss: 0.6892 - val_accuracy: 0.5293\n",
            "Epoch 90/100\n",
            "73/73 [==============================] - 0s 5ms/step - loss: 0.6895 - accuracy: 0.5299 - val_loss: 0.6899 - val_accuracy: 0.5263\n",
            "Epoch 91/100\n",
            "73/73 [==============================] - 0s 5ms/step - loss: 0.6890 - accuracy: 0.5411 - val_loss: 0.6894 - val_accuracy: 0.5384\n",
            "Epoch 92/100\n",
            "73/73 [==============================] - 0s 5ms/step - loss: 0.6889 - accuracy: 0.5381 - val_loss: 0.6892 - val_accuracy: 0.5455\n",
            "Epoch 93/100\n",
            "73/73 [==============================] - 0s 5ms/step - loss: 0.6896 - accuracy: 0.5351 - val_loss: 0.6891 - val_accuracy: 0.5333\n",
            "Epoch 94/100\n",
            "73/73 [==============================] - 1s 10ms/step - loss: 0.6890 - accuracy: 0.5394 - val_loss: 0.6908 - val_accuracy: 0.5192\n",
            "Epoch 95/100\n",
            "73/73 [==============================] - 0s 5ms/step - loss: 0.6887 - accuracy: 0.5446 - val_loss: 0.6890 - val_accuracy: 0.5263\n",
            "Epoch 96/100\n",
            "73/73 [==============================] - 0s 5ms/step - loss: 0.6895 - accuracy: 0.5342 - val_loss: 0.6893 - val_accuracy: 0.5505\n",
            "Epoch 97/100\n",
            "73/73 [==============================] - 0s 5ms/step - loss: 0.6890 - accuracy: 0.5368 - val_loss: 0.6920 - val_accuracy: 0.5131\n",
            "Epoch 98/100\n",
            "73/73 [==============================] - 0s 6ms/step - loss: 0.6891 - accuracy: 0.5242 - val_loss: 0.6896 - val_accuracy: 0.5313\n",
            "Epoch 99/100\n",
            "73/73 [==============================] - 0s 6ms/step - loss: 0.6885 - accuracy: 0.5498 - val_loss: 0.6892 - val_accuracy: 0.5465\n",
            "Epoch 100/100\n",
            "73/73 [==============================] - 0s 5ms/step - loss: 0.6889 - accuracy: 0.5346 - val_loss: 0.6894 - val_accuracy: 0.5263\n",
            "class-1 acc: 0.47668394446372986\n",
            "class-2 acc: 0.5083932876586914\n",
            "class-3 acc: 0.48711341619491577\n",
            "class-4 acc: 0.5166240334510803\n",
            "class-5 acc: 0.512135922908783\n",
            "class-6 acc: 0.49435028433799744\n",
            "class-7 acc: 0.5366430282592773\n",
            "class-8 acc: 0.4944320619106293\n",
            "class-9 acc: 0.572890043258667\n",
            "class-10 acc: 0.4884318709373474\n",
            "              precision    recall  f1-score   support\n",
            "\n",
            "         0.0       0.51      0.41      0.45      2000\n",
            "         1.0       0.51      0.61      0.56      2000\n",
            "\n",
            "    accuracy                           0.51      4000\n",
            "   macro avg       0.51      0.51      0.50      4000\n",
            "weighted avg       0.51      0.51      0.50      4000\n",
            "\n",
            "AUC: 0.517097125\n"
          ]
        },
        {
          "output_type": "display_data",
          "data": {
            "image/png": "[encoded data removed]",
            "text/plain": [
              "<Figure size 432x288 with 1 Axes>"
            ]
          },
          "metadata": {
            "needs_background": "light"
          }
        }
      ]
    },
    {
      "cell_type": "markdown",
      "metadata": {
        "id": "8grjprA4PmE7"
      },
      "source": [
        "# Extras"
      ]
    },
    {
      "cell_type": "markdown",
      "metadata": {
        "id": "w9g2jus3rP1j"
      },
      "source": [
        "## Check target model's behaviour in perturbed images"
      ]
    },
    {
      "cell_type": "code",
      "execution_count": 9,
      "metadata": {
        "id": "sD5YbfusfCob"
      },
      "outputs": [],
      "source": [
        "def study_perturbations(model, X, y, rs, ts):\n",
        "  diffs = []\n",
        "  y_pred = target_predict(model, X)    \n",
        "  for c in range(10):\n",
        "    #  given class acquire the changes in perturbed input instances given the model\n",
        "    idx = y_pred[:, 0] == c\n",
        "    X_c = X[idx]\n",
        "    y_pred_c = y_pred[idx]\n",
        "    perturbed_labels = augmented_queries(model, X_c, y_pred_c, rs, ts)\n",
        "    # Now we have to count how many labels diverge from the predicted label\n",
        "    diff = len(perturbed_labels.reshape(-1)) - sum(perturbed_labels.reshape(-1)) # the labels are binary where 1 == y_pred = y_perturbed, otherwise 0\n",
        "    diffs.append(int(100 * diff/len(perturbed_labels.reshape(-1)))) # append the percentage of changes in the class sample\n",
        "    \n",
        "  return diffs "
      ]
    },
    {
      "cell_type": "code",
      "execution_count": 10,
      "metadata": {
        "id": "w-0sJVhfbfQ3"
      },
      "outputs": [],
      "source": [
        "N_SAMPLES = 100\n",
        "train_idx = np.random.choice(range(train_images.shape[0]), N_SAMPLES, replace=False)\n",
        "test_idx = np.random.choice(range(attacker_images.shape[0]), N_SAMPLES, replace=False)"
      ]
    },
    {
      "cell_type": "code",
      "execution_count": 11,
      "metadata": {
        "id": "dpYCPdS0EA-p",
        "colab": {
          "base_uri": "https://localhost:8080/",
          "height": 544
        },
        "outputId": "3ab9aa30-31d0-43c8-9b13-c71e5d7ad8d0"
      },
      "outputs": [
        {
          "output_type": "error",
          "ename": "NameError",
          "evalue": "ignored",
          "traceback": [
            "\u001b[0;31m---------------------------------------------------------------------------\u001b[0m",
            "\u001b[0;31mNameError\u001b[0m                                 Traceback (most recent call last)",
            "\u001b[0;32m<ipython-input-11-6a4b0dea59dc>\u001b[0m in \u001b[0;36m<module>\u001b[0;34m()\u001b[0m\n\u001b[1;32m      2\u001b[0m \u001b[0;34m\u001b[0m\u001b[0m\n\u001b[1;32m      3\u001b[0m \u001b[0;31m# tests in D_in\u001b[0m\u001b[0;34m\u001b[0m\u001b[0;34m\u001b[0m\u001b[0;34m\u001b[0m\u001b[0m\n\u001b[0;32m----> 4\u001b[0;31m \u001b[0mdiffs_per_class_D_in\u001b[0m \u001b[0;34m=\u001b[0m \u001b[0mstudy_perturbations\u001b[0m\u001b[0;34m(\u001b[0m\u001b[0mtarget_model\u001b[0m\u001b[0;34m,\u001b[0m \u001b[0mtrain_images\u001b[0m\u001b[0;34m[\u001b[0m\u001b[0mtrain_idx\u001b[0m\u001b[0;34m]\u001b[0m\u001b[0;34m,\u001b[0m \u001b[0mtrain_labels\u001b[0m\u001b[0;34m[\u001b[0m\u001b[0mtrain_idx\u001b[0m\u001b[0;34m]\u001b[0m\u001b[0;34m,\u001b[0m \u001b[0mr\u001b[0m\u001b[0;34m,\u001b[0m \u001b[0md\u001b[0m\u001b[0;34m)\u001b[0m\u001b[0;34m\u001b[0m\u001b[0;34m\u001b[0m\u001b[0m\n\u001b[0m\u001b[1;32m      5\u001b[0m \u001b[0mtotal_diffs_in\u001b[0m \u001b[0;34m=\u001b[0m \u001b[0msum\u001b[0m\u001b[0;34m(\u001b[0m\u001b[0mdiffs_per_class_D_in\u001b[0m\u001b[0;34m)\u001b[0m\u001b[0;34m/\u001b[0m\u001b[0;36m10\u001b[0m\u001b[0;34m\u001b[0m\u001b[0;34m\u001b[0m\u001b[0m\n\u001b[1;32m      6\u001b[0m \u001b[0maxes\u001b[0m\u001b[0;34m[\u001b[0m\u001b[0;36m0\u001b[0m\u001b[0;34m]\u001b[0m\u001b[0;34m.\u001b[0m\u001b[0mset_title\u001b[0m\u001b[0;34m(\u001b[0m\u001b[0;34m'D_in predicted label divergence'\u001b[0m\u001b[0;34m)\u001b[0m\u001b[0;34m;\u001b[0m\u001b[0;34m\u001b[0m\u001b[0;34m\u001b[0m\u001b[0m\n",
            "\u001b[0;31mNameError\u001b[0m: name 'r' is not defined"
          ]
        },
        {
          "output_type": "display_data",
          "data": {
            "image/png": "[encoded data removed]",
            "text/plain": [
              "<Figure size 1080x360 with 3 Axes>"
            ]
          },
          "metadata": {
            "needs_background": "light"
          }
        }
      ],
      "source": [
        "fig, axes = plt.subplots(1, 3, figsize=(15, 5))\n",
        "\n",
        "# tests in D_in\n",
        "diffs_per_class_D_in = study_perturbations(target_model, train_images[train_idx], train_labels[train_idx], r, d) \n",
        "total_diffs_in = sum(diffs_per_class_D_in)/10\n",
        "axes[0].set_title('D_in predicted label divergence');\n",
        "axes[0].barh(list(range(10)), diffs_per_class_D_in, tick_label=[f'Class-{i}' for i in range(10)])\n",
        "\n",
        "# tests in D_out  \n",
        "diffs_per_class_D_out= study_perturbations(target_model,attacker_images[test_idx],attacker_labels[test_idx], r, d)\n",
        "total_diffs_out = sum(diffs_per_class_D_out)/10\n",
        "axes[1].set_title('D_out predicted label divergence');\n",
        "axes[1].barh(list(range(10)), diffs_per_class_D_out, tick_label=[f'Class-{i}' for i in range(10)])\n",
        "\n",
        "axes[2].set_title('Total predicted label divergence percentage');\n",
        "axes[2].barh([1, 0], [total_diffs_in, total_diffs_out], tick_label=['In', 'Out'])\n",
        "\n",
        "plt.setp(axes, xticks=range(0, 101, 10), xticklabels=[f'{i}%' for i in range(0, 101, 10)])"
      ]
    },
    {
      "cell_type": "markdown",
      "source": [
        "We can conclude that $x \\in D_{target}$ are more robust to perturbations, than any other instance not in target's training dataset. Nevertheless, whether the model is overfitted or not plays an important role to this training feature, meaning that the more overfit the model is the easier it gets to infer membership of tested instances. "
      ],
      "metadata": {
        "id": "nfA8cQ8mAioZ"
      }
    },
    {
      "cell_type": "markdown",
      "metadata": {
        "id": "WZOpEdcmCMXX"
      },
      "source": [
        "## Attack a perturbation trained model\n",
        "\n",
        "- We will apply augmentations to the dataset and re-train the target model.\n",
        "- The attacker **does not** know our augmentation settings, so he will train with a normal dataset of zero augmentations\n",
        "- We want to measure the quality of the attack when the target tries to defend MIAs by adding perturbed images of data samples "
      ]
    },
    {
      "cell_type": "code",
      "execution_count": null,
      "metadata": {
        "id": "4Cl0sR-1I_sG"
      },
      "outputs": [],
      "source": [
        "# We will defend against the same rotations and translations that the attack models uses (worst case for the attacker)\n",
        "rotates = create_rotates(r)\n",
        "translates = create_translates(d)\n",
        "\n",
        "X_train_aug = train_images\n",
        "X_eval_aug = eval_images\n",
        "y_train_aug = np.concatenate(tuple([train_labels] + [train_labels for rot in rotates] + [train_labels for tra in translates]))\n",
        "y_eval_aug = np.concatenate(tuple([eval_labels] + [eval_labels for rot in rotates] + [eval_labels for tra in translates]))\n",
        "\n",
        "\n",
        "\n",
        "for rot in rotates:\n",
        "  aug_x = apply_augment(train_images, rot, 'r')\n",
        "  X_train_aug = np.concatenate((X_train_aug,aug_x))\n",
        "  aug_x = apply_augment(eval_images, rot, 'r')\n",
        "  X_eval_aug = np.concatenate((X_eval_aug,aug_x))\n",
        "\n",
        "for tra in translates:\n",
        "  aug_x = apply_augment(train_images, tra, 'd')\n",
        "  X_train_aug = np.concatenate((X_train_aug,aug_x))\n",
        "  aug_x = apply_augment(eval_images, tra, 'd')\n",
        "  X_eval_aug = np.concatenate((X_eval_aug ,aug_x))\n"
      ]
    },
    {
      "cell_type": "code",
      "execution_count": null,
      "metadata": {
        "id": "JaNvyxztuwED"
      },
      "outputs": [],
      "source": [
        "\n",
        "with tf.device('/gpu:0'):\n",
        "  X_train_aug = tf.convert_to_tensor(X_train_aug)\n",
        "  y_train_aug = tf.convert_to_tensor(y_train_aug)\n",
        "  X_eval_aug = tf.convert_to_tensor(X_eval_aug)\n",
        "  y_eval_aug = tf.convert_to_tensor(y_eval_aug)\n",
        "  target_model = f_target(X_train_aug, y_train_aug, X_eval_aug, y_eval_aug, epochs=10) "
      ]
    },
    {
      "cell_type": "markdown",
      "metadata": {
        "id": "bsRYuPrCUBWl"
      },
      "source": [
        "The model is quite overfitted so now all that is left is to evaluate the attack model we created before on the newly trained and \"defended\" target model with perturbations in the train dataset."
      ]
    },
    {
      "cell_type": "code",
      "execution_count": null,
      "metadata": {
        "id": "zyt1sD06SBFa"
      },
      "outputs": [],
      "source": [
        "D_in = attack_model.prepare_batch(target_model, train_images[:1000], train_labels[:1000], True)\n",
        "\n",
        "D_out = attack_model.prepare_batch(target_model, attacker_images[:1000], attacker_labels[:1000], False)\n",
        "\n",
        "attack_model.evaluate(np.concatenate((D_out[:, :-1], D_in[:, :-1])),  np.concatenate((D_out[:, -1], D_in[:, -1])), 10)"
      ]
    },
    {
      "cell_type": "markdown",
      "metadata": {
        "id": "fW_JINmBUgd_"
      },
      "source": [
        "### Conclusion\n",
        "\n",
        "To conclude if the model is more vulnerable, we must meassure the label divergence percentage in the adjusted-to-augmentations model."
      ]
    },
    {
      "cell_type": "code",
      "execution_count": null,
      "metadata": {
        "id": "OWDU6N1uSCnA"
      },
      "outputs": [],
      "source": [
        "# test it onthe same data as we tested the non-adjusted to augmentation model\n",
        "fig, axes = plt.subplots(1, 3, figsize=(15, 5))\n",
        "\n",
        "# tests in D_in\n",
        "diffs_per_class_D_in = study_perturbations(target_model, train_images[train_idx], train_labels[train_idx], r, d) \n",
        "total_diffs_in = sum(diffs_per_class_D_in)/10\n",
        "axes[0].set_title('D_in predicted label divergence');\n",
        "axes[0].barh(list(range(10)), diffs_per_class_D_in, tick_label=[f'Class-{i}' for i in range(10)])\n",
        "\n",
        "# tests in D_out  \n",
        "diffs_per_class_D_out= study_perturbations(target_model,attacker_images[test_idx],attacker_labels[test_idx], r, d)\n",
        "total_diffs_out = sum(diffs_per_class_D_out)/10\n",
        "axes[1].set_title('D_out predicted label divergence');\n",
        "axes[1].barh(list(range(10)), diffs_per_class_D_out, tick_label=[f'Class-{i}' for i in range(10)])\n",
        "\n",
        "axes[2].set_title('Total predicted label divergence percentage');\n",
        "axes[2].barh([1, 0], [total_diffs_in, total_diffs_out], tick_label=['In', 'Out'])\n",
        "\n",
        "plt.setp(axes, xticks=range(0, 101, 10), xticklabels=[f'{i}%' for i in range(0, 101, 10)])"
      ]
    },
    {
      "cell_type": "markdown",
      "metadata": {
        "id": "VVyVo6yukPGH"
      },
      "source": [
        "We can see that the general percentage of predicted label divergence has fallen, **but** the confidence of the ML algorithm in predicting the label of perturbed instances of instances in $D_{target}$ is better that before and that is realized by the increase of the AUC value (~0.52 when before ~0.51). This means that the adjusted model is even more vulnerable and our attack predicts membership with high sensitivity to the predicted label changes. Next step is to run all with some defences on."
      ]
    },
    {
      "cell_type": "code",
      "source": [
        ""
      ],
      "metadata": {
        "id": "dCUaNVSgL1X9"
      },
      "execution_count": null,
      "outputs": []
    },
    {
      "cell_type": "code",
      "source": [
        ""
      ],
      "metadata": {
        "id": "xO89rNuPMca4"
      },
      "execution_count": null,
      "outputs": []
    }
  ],
  "metadata": {
    "accelerator": "GPU",
    "colab": {
      "collapsed_sections": [],
      "name": "cifar_10_labels_only_conf-vec-comparison-v1.ipynb",
      "provenance": []
    },
    "kernelspec": {
      "display_name": "Python 3",
      "name": "python3"
    },
    "language_info": {
      "codemirror_mode": {
        "name": "ipython",
        "version": 3
      },
      "file_extension": ".py",
      "mimetype": "text/x-python",
      "name": "python",
      "nbconvert_exporter": "python",
      "pygments_lexer": "ipython3",
      "version": "3.8.10"
    }
  },
  "nbformat": 4,
  "nbformat_minor": 0
}