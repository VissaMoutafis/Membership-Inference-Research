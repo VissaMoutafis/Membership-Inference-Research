{
  "cells": [
    {
      "cell_type": "markdown",
      "metadata": {
        "id": "2vzAuc5Xo3j2"
      },
      "source": [
        "# Label Only Membership Inference (Revisited on points)\n",
        "\n",
        "### Threat Model:\n",
        "\n",
        "- **Black Box** access to an overfitted classifier with no access to actual $D_{train}$\n",
        "- Predict API returns **only labels instead of confidence vectors**\n",
        "- We have some insight on the training data distribution, $D_{out}$ , **but** $D_{train} \\cap D_{out} = \\varnothing$\n",
        "\n",
        "\n",
        "### Attack Target: \n",
        "- Use a shadow model to attack local shadow models and extract membership leakage features\n",
        "- Use data perturbations in order to exploit test/training data approximation relevancies to the classification boundaries.\n",
        "- Perfom the boundary-based attack on the actual model\n",
        "\n",
        "### Evaluation Target\n",
        "- Score over $50\\%$ accuracy\n",
        "- Train attack model based on this assumption and compare with conf-vector attack\n",
        "\n",
        "Implemented based on [this paper](https://arxiv.org/abs/2007.14321)."
      ]
    },
    {
      "cell_type": "code",
      "execution_count": 2,
      "metadata": {
        "colab": {
          "base_uri": "https://localhost:8080/"
        },
        "id": "tg_WQJ7j5n3B",
        "outputId": "1b861a50-0055-489e-ce10-4e89742e87ae"
      },
      "outputs": [
        {
          "name": "stdout",
          "output_type": "stream",
          "text": [
            "Num GPUs Available:  0\n"
          ]
        },
        {
          "name": "stderr",
          "output_type": "stream",
          "text": [
            "2021-12-26 19:54:31.480414: I tensorflow/stream_executor/platform/default/dso_loader.cc:53] Successfully opened dynamic library libcuda.so.1\n",
            "2021-12-26 19:54:31.786516: E tensorflow/stream_executor/cuda/cuda_driver.cc:328] failed call to cuInit: CUDA_ERROR_NO_DEVICE: no CUDA-capable device is detected\n",
            "2021-12-26 19:54:31.786591: I tensorflow/stream_executor/cuda/cuda_diagnostics.cc:156] kernel driver does not appear to be running on this host (vissam-HP-Laptop-15-da0xxx): /proc/driver/nvidia/version does not exist\n"
          ]
        }
      ],
      "source": [
        "import numpy as np\n",
        "import matplotlib.pyplot as plt\n",
        "\n",
        "import math\n",
        "import tensorflow as tf\n",
        "from tensorflow.keras import datasets, layers, models\n",
        "from sklearn.model_selection import train_test_split\n",
        "from tensorflow import keras\n",
        "from tensorflow.keras import regularizers\n",
        "\n",
        "# for image interpolation\n",
        "import scipy.ndimage.interpolation as interpolation\n",
        "\n",
        "from sklearn.metrics import roc_auc_score, roc_curve\n",
        "from sklearn.metrics import classification_report\n",
        "\n",
        "\n",
        "from tqdm import tqdm\n",
        "import sys\n",
        "print(\"Num GPUs Available: \", len(tf.config.list_physical_devices('GPU')))\n"
      ]
    },
    {
      "cell_type": "markdown",
      "metadata": {
        "id": "5Kv7Qon0qRTk"
      },
      "source": [
        "## Target Model\n",
        "\n",
        "### Model Architecture\n",
        "- 2 layers of 32 $3\\times 3$ Conv2D filters with Max Pooling\n",
        "- 2 layers of 64 $3\\times 3$ Conv2D filters with MaxPooling\n",
        "- Dense Layer of 512 neurons\n",
        "- Dense Output layer of 10 neurons\n",
        "- Each layer has ReLU activation\n"
      ]
    },
    {
      "cell_type": "code",
      "execution_count": 3,
      "metadata": {
        "id": "zacp4ArauIET"
      },
      "outputs": [],
      "source": [
        "D_TARGET_SIZE = 10000"
      ]
    },
    {
      "cell_type": "code",
      "execution_count": 4,
      "metadata": {
        "id": "1qg7LkXX0zOF"
      },
      "outputs": [],
      "source": [
        "def f_target(X_train, y_train, X_test=None, y_test=None, epochs=100):\n",
        "  \"\"\"\n",
        "  Returns a trained target model, if test data are specified we will evaluate the model and print its accuracy\n",
        "  \"\"\"\n",
        "  model = models.Sequential()\n",
        "  model.add(layers.Conv2D(32, (3, 3), activation='relu', input_shape=(32, 32, 3)))\n",
        "  model.add(layers.Conv2D(32, (3, 3), activation='relu', input_shape=(32, 32, 3)))\n",
        "  model.add(layers.MaxPooling2D((2, 2)))\n",
        "  model.add(layers.Conv2D(64, (3, 3), activation='relu'))\n",
        "  model.add(layers.Conv2D(64, (3, 3), activation='relu'))\n",
        "  model.add(layers.MaxPooling2D((2, 2)))\n",
        "\n",
        "  model.add(layers.Flatten())\n",
        "  model.add(layers.Dense(512, activation='relu'))\n",
        "\n",
        "  model.add(layers.Dense(10))\n",
        "  \n",
        "  optimizer = keras.optimizers.Adam(learning_rate=0.001)\n",
        "  model.compile(optimizer=optimizer,\n",
        "              loss=tf.keras.losses.SparseCategoricalCrossentropy(from_logits=True),\n",
        "              metrics=['accuracy'])\n",
        "  if X_test is None or y_test is None:\n",
        "    history = model.fit(X_train, y_train, epochs=epochs, \n",
        "                    validation_split=0.2)\n",
        "  else:\n",
        "    history = model.fit(X_train, y_train, epochs=epochs, \n",
        "                    validation_data=(X_test, y_test))\n",
        "  return model"
      ]
    },
    {
      "cell_type": "code",
      "execution_count": 5,
      "metadata": {
        "id": "oy2NLipP75sX"
      },
      "outputs": [
        {
          "name": "stdout",
          "output_type": "stream",
          "text": [
            "Downloading data from https://www.cs.toronto.edu/~kriz/cifar-10-python.tar.gz\n",
            "  3694592/170498071 [..............................] - ETA: 14:24"
          ]
        }
      ],
      "source": [
        "(train_images, train_labels), (test_images, test_labels) = datasets.cifar10.load_data()\n",
        "# use the rest as testing - 'out' records\n",
        "attacker_labels = np.concatenate((train_labels[D_TARGET_SIZE:], test_labels))\n",
        "attacker_images = np.concatenate((train_images[D_TARGET_SIZE:], test_images))\n",
        "target_images = train_images[:D_TARGET_SIZE]\n",
        "target_labels = train_labels[:D_TARGET_SIZE]\n"
      ]
    },
    {
      "cell_type": "code",
      "execution_count": 9,
      "metadata": {
        "colab": {
          "base_uri": "https://localhost:8080/"
        },
        "id": "Ap02yKRT76RJ",
        "outputId": "14bb60f8-fb8f-4cd0-f2ac-454229a481f8"
      },
      "outputs": [
        {
          "name": "stdout",
          "output_type": "stream",
          "text": [
            "Epoch 1/50\n",
            "250/250 [==============================] - 5s 16ms/step - loss: 2.3764 - accuracy: 0.2890 - val_loss: 1.8053 - val_accuracy: 0.3315\n",
            "Epoch 2/50\n",
            "250/250 [==============================] - 3s 13ms/step - loss: 1.5868 - accuracy: 0.4184 - val_loss: 1.5981 - val_accuracy: 0.4130\n",
            "Epoch 3/50\n",
            "250/250 [==============================] - 3s 13ms/step - loss: 1.3697 - accuracy: 0.5049 - val_loss: 1.5021 - val_accuracy: 0.4625\n",
            "Epoch 4/50\n",
            "250/250 [==============================] - 3s 13ms/step - loss: 1.1688 - accuracy: 0.5819 - val_loss: 1.4752 - val_accuracy: 0.4810\n",
            "Epoch 5/50\n",
            "250/250 [==============================] - 3s 13ms/step - loss: 0.9723 - accuracy: 0.6463 - val_loss: 1.6728 - val_accuracy: 0.4645\n",
            "Epoch 6/50\n",
            "250/250 [==============================] - 3s 12ms/step - loss: 0.7416 - accuracy: 0.7371 - val_loss: 1.6600 - val_accuracy: 0.5015\n",
            "Epoch 7/50\n",
            "250/250 [==============================] - 3s 12ms/step - loss: 0.5305 - accuracy: 0.8183 - val_loss: 1.9249 - val_accuracy: 0.4855\n",
            "Epoch 8/50\n",
            "250/250 [==============================] - 3s 12ms/step - loss: 0.3814 - accuracy: 0.8691 - val_loss: 2.3684 - val_accuracy: 0.4680\n",
            "Epoch 9/50\n",
            "250/250 [==============================] - 3s 12ms/step - loss: 0.3311 - accuracy: 0.8915 - val_loss: 2.8415 - val_accuracy: 0.4565\n",
            "Epoch 10/50\n",
            "250/250 [==============================] - 3s 12ms/step - loss: 0.2468 - accuracy: 0.9175 - val_loss: 3.0826 - val_accuracy: 0.4690\n",
            "Epoch 11/50\n",
            "250/250 [==============================] - 3s 13ms/step - loss: 0.2185 - accuracy: 0.9266 - val_loss: 2.7702 - val_accuracy: 0.4875\n",
            "Epoch 12/50\n",
            "250/250 [==============================] - 4s 17ms/step - loss: 0.1688 - accuracy: 0.9466 - val_loss: 3.1945 - val_accuracy: 0.4790\n",
            "Epoch 13/50\n",
            "250/250 [==============================] - 3s 14ms/step - loss: 0.1781 - accuracy: 0.9436 - val_loss: 3.8065 - val_accuracy: 0.4605\n",
            "Epoch 14/50\n",
            "250/250 [==============================] - 4s 14ms/step - loss: 0.1768 - accuracy: 0.9451 - val_loss: 3.4248 - val_accuracy: 0.4760\n",
            "Epoch 15/50\n",
            "250/250 [==============================] - 3s 13ms/step - loss: 0.1414 - accuracy: 0.9516 - val_loss: 4.0397 - val_accuracy: 0.4575\n",
            "Epoch 16/50\n",
            "250/250 [==============================] - 3s 12ms/step - loss: 0.1449 - accuracy: 0.9545 - val_loss: 3.3839 - val_accuracy: 0.4905\n",
            "Epoch 17/50\n",
            "250/250 [==============================] - 3s 12ms/step - loss: 0.2054 - accuracy: 0.9346 - val_loss: 3.3224 - val_accuracy: 0.4835\n",
            "Epoch 18/50\n",
            "250/250 [==============================] - 3s 12ms/step - loss: 0.1326 - accuracy: 0.9601 - val_loss: 3.5494 - val_accuracy: 0.4965\n",
            "Epoch 19/50\n",
            "250/250 [==============================] - 3s 13ms/step - loss: 0.1311 - accuracy: 0.9605 - val_loss: 4.6039 - val_accuracy: 0.4605\n",
            "Epoch 20/50\n",
            "250/250 [==============================] - 4s 15ms/step - loss: 0.1055 - accuracy: 0.9665 - val_loss: 4.8665 - val_accuracy: 0.4645\n",
            "Epoch 21/50\n",
            "250/250 [==============================] - 3s 12ms/step - loss: 0.1424 - accuracy: 0.9620 - val_loss: 4.5169 - val_accuracy: 0.4720\n",
            "Epoch 22/50\n",
            "250/250 [==============================] - 3s 12ms/step - loss: 0.0993 - accuracy: 0.9696 - val_loss: 4.6273 - val_accuracy: 0.4690\n",
            "Epoch 23/50\n",
            "250/250 [==============================] - 3s 14ms/step - loss: 0.1233 - accuracy: 0.9632 - val_loss: 4.5245 - val_accuracy: 0.4680\n",
            "Epoch 24/50\n",
            "250/250 [==============================] - 3s 12ms/step - loss: 0.1300 - accuracy: 0.9607 - val_loss: 4.7981 - val_accuracy: 0.4615\n",
            "Epoch 25/50\n",
            "250/250 [==============================] - 3s 12ms/step - loss: 0.1240 - accuracy: 0.9649 - val_loss: 4.7088 - val_accuracy: 0.4665\n",
            "Epoch 26/50\n",
            "250/250 [==============================] - 3s 12ms/step - loss: 0.1249 - accuracy: 0.9646 - val_loss: 5.0257 - val_accuracy: 0.4575\n",
            "Epoch 27/50\n",
            "250/250 [==============================] - 3s 12ms/step - loss: 0.1198 - accuracy: 0.9655 - val_loss: 5.2207 - val_accuracy: 0.4430\n",
            "Epoch 28/50\n",
            "250/250 [==============================] - 3s 12ms/step - loss: 0.1542 - accuracy: 0.9601 - val_loss: 4.9880 - val_accuracy: 0.4640\n",
            "Epoch 29/50\n",
            "250/250 [==============================] - 3s 12ms/step - loss: 0.1607 - accuracy: 0.9571 - val_loss: 4.5912 - val_accuracy: 0.4600\n",
            "Epoch 30/50\n",
            "250/250 [==============================] - 3s 12ms/step - loss: 0.0554 - accuracy: 0.9811 - val_loss: 5.2557 - val_accuracy: 0.4635\n",
            "Epoch 31/50\n",
            "250/250 [==============================] - 3s 12ms/step - loss: 0.0791 - accuracy: 0.9768 - val_loss: 5.5245 - val_accuracy: 0.4620\n",
            "Epoch 32/50\n",
            "250/250 [==============================] - 3s 12ms/step - loss: 0.0658 - accuracy: 0.9819 - val_loss: 5.1764 - val_accuracy: 0.4735\n",
            "Epoch 33/50\n",
            "250/250 [==============================] - 3s 12ms/step - loss: 0.1301 - accuracy: 0.9649 - val_loss: 4.9899 - val_accuracy: 0.4885\n",
            "Epoch 34/50\n",
            "250/250 [==============================] - 3s 12ms/step - loss: 0.1251 - accuracy: 0.9653 - val_loss: 5.5844 - val_accuracy: 0.4620\n",
            "Epoch 35/50\n",
            "250/250 [==============================] - 3s 12ms/step - loss: 0.0562 - accuracy: 0.9855 - val_loss: 5.5091 - val_accuracy: 0.4455\n",
            "Epoch 36/50\n",
            "250/250 [==============================] - 3s 12ms/step - loss: 0.1071 - accuracy: 0.9705 - val_loss: 5.4104 - val_accuracy: 0.4715\n",
            "Epoch 37/50\n",
            "250/250 [==============================] - 3s 12ms/step - loss: 0.1222 - accuracy: 0.9688 - val_loss: 6.1929 - val_accuracy: 0.4465\n",
            "Epoch 38/50\n",
            "250/250 [==============================] - 3s 12ms/step - loss: 0.0808 - accuracy: 0.9764 - val_loss: 6.3093 - val_accuracy: 0.4625\n",
            "Epoch 39/50\n",
            "250/250 [==============================] - 3s 12ms/step - loss: 0.0966 - accuracy: 0.9743 - val_loss: 5.5130 - val_accuracy: 0.4670\n",
            "Epoch 40/50\n",
            "250/250 [==============================] - 3s 12ms/step - loss: 0.1140 - accuracy: 0.9700 - val_loss: 5.4776 - val_accuracy: 0.4605\n",
            "Epoch 41/50\n",
            "250/250 [==============================] - 3s 12ms/step - loss: 0.1041 - accuracy: 0.9724 - val_loss: 5.7391 - val_accuracy: 0.4880\n",
            "Epoch 42/50\n",
            "250/250 [==============================] - 3s 12ms/step - loss: 0.0858 - accuracy: 0.9754 - val_loss: 5.6957 - val_accuracy: 0.4845\n",
            "Epoch 43/50\n",
            "250/250 [==============================] - 3s 12ms/step - loss: 0.1020 - accuracy: 0.9750 - val_loss: 5.4524 - val_accuracy: 0.4580\n",
            "Epoch 44/50\n",
            "250/250 [==============================] - 3s 12ms/step - loss: 0.1149 - accuracy: 0.9686 - val_loss: 5.3280 - val_accuracy: 0.4940\n",
            "Epoch 45/50\n",
            "250/250 [==============================] - 3s 12ms/step - loss: 0.0582 - accuracy: 0.9845 - val_loss: 6.1105 - val_accuracy: 0.4700\n",
            "Epoch 46/50\n",
            "250/250 [==============================] - 3s 12ms/step - loss: 0.0413 - accuracy: 0.9891 - val_loss: 6.7522 - val_accuracy: 0.4430\n",
            "Epoch 47/50\n",
            "250/250 [==============================] - 4s 14ms/step - loss: 0.0997 - accuracy: 0.9749 - val_loss: 6.1287 - val_accuracy: 0.4495\n",
            "Epoch 48/50\n",
            "250/250 [==============================] - 3s 12ms/step - loss: 0.1423 - accuracy: 0.9631 - val_loss: 6.8426 - val_accuracy: 0.4620\n",
            "Epoch 49/50\n",
            "250/250 [==============================] - 3s 12ms/step - loss: 0.1918 - accuracy: 0.9524 - val_loss: 6.2556 - val_accuracy: 0.4665\n",
            "Epoch 50/50\n",
            "250/250 [==============================] - 3s 12ms/step - loss: 0.0994 - accuracy: 0.9755 - val_loss: 6.4931 - val_accuracy: 0.4715\n"
          ]
        }
      ],
      "source": [
        "train_images, eval_images, train_labels, eval_labels = train_test_split(target_images, target_labels, test_size=0.2, shuffle=True)\n",
        "target_model = f_target(train_images, train_labels, eval_images, eval_labels, epochs=50) "
      ]
    },
    {
      "cell_type": "markdown",
      "metadata": {
        "id": "Cw9I5lKSrSsU"
      },
      "source": [
        "### Target Model prediction API\n",
        "Provide the users with a prediction API call that returns only the predicted label/"
      ]
    },
    {
      "cell_type": "code",
      "execution_count": 10,
      "metadata": {
        "id": "xvocFuQeVLsM"
      },
      "outputs": [],
      "source": [
        "# API of model to get predictions : returns labels only\n",
        "def target_predict(model, X):\n",
        "  prob = layers.Softmax()\n",
        "  ret = prob(model.predict(X)).numpy()\n",
        "  return np.apply_along_axis(np.argmax, 1, ret).reshape((-1, 1))"
      ]
    },
    {
      "cell_type": "markdown",
      "metadata": {
        "id": "l--0MCg-elRq"
      },
      "source": [
        "### Perturbed Instance Behaviour\n",
        "\n",
        "Following we will apply some perturbations to data instances from in and out of $D_{target}$ and we will count how the predicted label change in respect to this perturbations, according to each class."
      ]
    },
    {
      "cell_type": "markdown",
      "metadata": {
        "id": "-H0PYHLFrWJ1"
      },
      "source": [
        "\n",
        "\n",
        "## Shadow Models\n",
        "Following we define our own shadow models\n",
        "\n",
        "### Shadow Model Architecture\n",
        "- 3 CNN layers of $32, 64, 128$ filters of size $3 \\times 3$ with MaxPooling and ReLU activation\n",
        "- Dense Layer of 128 nodes\n",
        "- Dense Layer of 10 nodes as Output layer\n",
        "\n",
        "All output logits pass through Softmax Unit as in the target model to acquire probability vectors\n",
        "\n",
        "\n",
        "\n",
        "### Shadow Dataset Composition\n",
        "\n",
        "We just divide the CIFAR-10 dataset to $D_{out}$ and $D_{train}$ such as $D_{train} \\cap D_{out} = \\varnothing$ and use $D_{out}$ in order to train/test shadow models and attack model."
      ]
    },
    {
      "cell_type": "code",
      "execution_count": 11,
      "metadata": {
        "id": "2GWyCXmmwIiJ"
      },
      "outputs": [],
      "source": [
        "N_SHADOWS = 1\n",
        "D_SHADOW_SIZE = 10000"
      ]
    },
    {
      "cell_type": "code",
      "execution_count": 12,
      "metadata": {
        "id": "2rwhySHfVQjV"
      },
      "outputs": [],
      "source": [
        "def f_shadow(X_train, y_train, X_test=None, y_test=None, epochs=25):\n",
        "  model = models.Sequential()\n",
        "  model.add(layers.Conv2D(32, (3, 3), activation='relu', input_shape=(32, 32, 3)))\n",
        "  model.add(layers.MaxPooling2D((2, 2)))\n",
        "  model.add(layers.Conv2D(64, (3, 3), activation='relu'))\n",
        "  model.add(layers.MaxPooling2D((2, 2)))\n",
        "  model.add(layers.Conv2D(128, (3, 3), activation='relu'))\n",
        "  model.add(layers.MaxPooling2D((2, 2)))\n",
        "  \n",
        "  \n",
        "  model.add(layers.Flatten())\n",
        "  model.add(layers.Dense(128, activation='relu'))\n",
        "\n",
        "  model.add(layers.Dense(10)   )\n",
        "  \n",
        "  optimizer = keras.optimizers.Adam()\n",
        "  model.compile(optimizer=optimizer,\n",
        "              loss=tf.keras.losses.SparseCategoricalCrossentropy(from_logits=True),\n",
        "              metrics=['accuracy'])\n",
        "  if X_test is None or y_test is None:\n",
        "    history = model.fit(X_train, y_train, epochs=epochs, \n",
        "                    validation_split=0.2)\n",
        "  else:\n",
        "    history = model.fit(X_train, y_train, epochs=epochs, \n",
        "                    validation_data=(X_test, y_test))\n",
        "  return model"
      ]
    },
    {
      "cell_type": "code",
      "execution_count": 13,
      "metadata": {
        "id": "sliyw7xO2PTg"
      },
      "outputs": [],
      "source": [
        "\n",
        "def divide_dataset(n_shadows, shadow_dataset_size, X, y):\n",
        "  D_shadows = []\n",
        "  for i in range(n_shadows):\n",
        "    sample_i = np.random.choice(range(X.shape[0]), shadow_dataset_size, replace=False)\n",
        "    assert np.unique(sample_i).shape[0] == shadow_dataset_size # sanity check\n",
        "    D_shadows.append((X[sample_i, :], y[sample_i, :]))\n",
        "  return D_shadows\n",
        "\n",
        "# returns a list of 'n_shadows' datasets\n",
        "def generate_shadow_dataset(target_model, n_shadows, shadow_dataset_size, n_classes, attacker_X=None, attacker_y=None):\n",
        "  # param target model is not used yet\n",
        "\n",
        "\n",
        "  # in case we give test data we will just divide those to train the shadow models\n",
        "  if attacker_X is not None and attacker_y is not None:\n",
        "    return divide_dataset(n_shadows, shadow_dataset_size, attacker_X, attacker_y)\n",
        "  else:\n",
        "    raise ValueError(\"X and y provided are None.\")\n",
        "\n",
        "# returns list of (trained shadow_model, D_shadow)\n",
        "def create_shadows(D_shadows):\n",
        "  shadow_models = [] # shadow model list\n",
        "\n",
        "  for D_shadow in D_shadows:\n",
        "    # sample data to feed/evaluate the model\n",
        "    X_shadow, y_shadow = D_shadow\n",
        "    shadow_X_train, shadow_X_test, shadow_y_train, shadow_y_test = train_test_split(X_shadow, y_shadow, shuffle=True, test_size=0.33)\n",
        "\n",
        "    # generate the shadow model\n",
        "    shadow_model = f_shadow(shadow_X_train, shadow_y_train, shadow_X_test, shadow_y_test)\n",
        "\n",
        "    D_shadow = (shadow_X_train, shadow_y_train), (shadow_X_test, shadow_y_test)\n",
        "    shadow_models.append((shadow_model, D_shadow))\n",
        "\n",
        "  return shadow_models # return a list where every item is (model, acc), train-data, test-data"
      ]
    },
    {
      "cell_type": "code",
      "execution_count": 14,
      "metadata": {
        "id": "q3ziH9LP3CY5"
      },
      "outputs": [],
      "source": [
        "# generate shadow datasets\n",
        "D_shadows = generate_shadow_dataset(target_model, N_SHADOWS, D_SHADOW_SIZE, 10, attacker_images, attacker_labels)"
      ]
    },
    {
      "cell_type": "code",
      "execution_count": 15,
      "metadata": {
        "colab": {
          "base_uri": "https://localhost:8080/"
        },
        "id": "8dc8morl-NRP",
        "outputId": "2aa16b9e-0bc3-4875-af7a-bc0e251d366c"
      },
      "outputs": [
        {
          "name": "stdout",
          "output_type": "stream",
          "text": [
            "Epoch 1/25\n",
            "210/210 [==============================] - 3s 12ms/step - loss: 3.6046 - accuracy: 0.2458 - val_loss: 1.7847 - val_accuracy: 0.3676\n",
            "Epoch 2/25\n",
            "210/210 [==============================] - 3s 13ms/step - loss: 1.6999 - accuracy: 0.3842 - val_loss: 1.6579 - val_accuracy: 0.4033\n",
            "Epoch 3/25\n",
            "210/210 [==============================] - 2s 12ms/step - loss: 1.5558 - accuracy: 0.4467 - val_loss: 1.5917 - val_accuracy: 0.4133\n",
            "Epoch 4/25\n",
            "210/210 [==============================] - 3s 12ms/step - loss: 1.3873 - accuracy: 0.5031 - val_loss: 1.5090 - val_accuracy: 0.4433\n",
            "Epoch 5/25\n",
            "210/210 [==============================] - 2s 12ms/step - loss: 1.3071 - accuracy: 0.5355 - val_loss: 1.6344 - val_accuracy: 0.4448\n",
            "Epoch 6/25\n",
            "210/210 [==============================] - 3s 12ms/step - loss: 1.1662 - accuracy: 0.5878 - val_loss: 1.5977 - val_accuracy: 0.4606\n",
            "Epoch 7/25\n",
            "210/210 [==============================] - 2s 12ms/step - loss: 1.0643 - accuracy: 0.6258 - val_loss: 1.5484 - val_accuracy: 0.4806\n",
            "Epoch 8/25\n",
            "210/210 [==============================] - 3s 14ms/step - loss: 0.9475 - accuracy: 0.6660 - val_loss: 1.7196 - val_accuracy: 0.4748\n",
            "Epoch 9/25\n",
            "210/210 [==============================] - 2s 12ms/step - loss: 0.8340 - accuracy: 0.7040 - val_loss: 1.7755 - val_accuracy: 0.4694\n",
            "Epoch 10/25\n",
            "210/210 [==============================] - 2s 10ms/step - loss: 0.7588 - accuracy: 0.7357 - val_loss: 1.7317 - val_accuracy: 0.4879\n",
            "Epoch 11/25\n",
            "210/210 [==============================] - 2s 9ms/step - loss: 0.6361 - accuracy: 0.7716 - val_loss: 1.8464 - val_accuracy: 0.4888\n",
            "Epoch 12/25\n",
            "210/210 [==============================] - 2s 9ms/step - loss: 0.6173 - accuracy: 0.7843 - val_loss: 1.9191 - val_accuracy: 0.4952\n",
            "Epoch 13/25\n",
            "210/210 [==============================] - 2s 9ms/step - loss: 0.5373 - accuracy: 0.8143 - val_loss: 2.0449 - val_accuracy: 0.4767\n",
            "Epoch 14/25\n",
            "210/210 [==============================] - 2s 11ms/step - loss: 0.4129 - accuracy: 0.8566 - val_loss: 2.3088 - val_accuracy: 0.4864\n",
            "Epoch 15/25\n",
            "210/210 [==============================] - 2s 9ms/step - loss: 0.4330 - accuracy: 0.8500 - val_loss: 2.5554 - val_accuracy: 0.4597\n",
            "Epoch 16/25\n",
            "210/210 [==============================] - 2s 10ms/step - loss: 0.3984 - accuracy: 0.8628 - val_loss: 2.5063 - val_accuracy: 0.4712\n",
            "Epoch 17/25\n",
            "210/210 [==============================] - 2s 9ms/step - loss: 0.3436 - accuracy: 0.8827 - val_loss: 2.7809 - val_accuracy: 0.4561\n",
            "Epoch 18/25\n",
            "210/210 [==============================] - 2s 10ms/step - loss: 0.3456 - accuracy: 0.8872 - val_loss: 2.8384 - val_accuracy: 0.4748\n",
            "Epoch 19/25\n",
            "210/210 [==============================] - 2s 10ms/step - loss: 0.2923 - accuracy: 0.8975 - val_loss: 2.8639 - val_accuracy: 0.4836\n",
            "Epoch 20/25\n",
            "210/210 [==============================] - 2s 11ms/step - loss: 0.2919 - accuracy: 0.8981 - val_loss: 3.0141 - val_accuracy: 0.4748\n",
            "Epoch 21/25\n",
            "210/210 [==============================] - 2s 9ms/step - loss: 0.2873 - accuracy: 0.9042 - val_loss: 3.0473 - val_accuracy: 0.4782\n",
            "Epoch 22/25\n",
            "210/210 [==============================] - 2s 9ms/step - loss: 0.2658 - accuracy: 0.9104 - val_loss: 3.2204 - val_accuracy: 0.4709\n",
            "Epoch 23/25\n",
            "210/210 [==============================] - 2s 11ms/step - loss: 0.2928 - accuracy: 0.9045 - val_loss: 3.2661 - val_accuracy: 0.4800\n",
            "Epoch 24/25\n",
            "210/210 [==============================] - 2s 9ms/step - loss: 0.2448 - accuracy: 0.9143 - val_loss: 3.4526 - val_accuracy: 0.4900\n",
            "Epoch 25/25\n",
            "210/210 [==============================] - 2s 9ms/step - loss: 0.2180 - accuracy: 0.9281 - val_loss: 3.5932 - val_accuracy: 0.4670\n"
          ]
        }
      ],
      "source": [
        "# train the shadow models\n",
        "shadow_models = create_shadows(D_shadows)"
      ]
    },
    {
      "cell_type": "markdown",
      "metadata": {
        "id": "RJQxvjrfrfnW"
      },
      "source": [
        "## Attack Model\n",
        "\n",
        "### Attack Model Architecture\n",
        "The attack model is consisted of 1 swallow layer of 10 neurons just as proposed in Shokri et al. and in the relative label only attack paper.\n",
        "\n",
        "\n",
        "### Attack Dataset\n",
        "The attack dataset will be consisted of vectors $x_i$, s.t. $x_i$ contains:\n",
        "- real label\n",
        "- predicted label\n",
        "- bitstring of length $n'$, where $x_{ij+2}, \\; j \\in \\{1, ..., n'\\} $ will be 1 if perturbed label is same as predicted, otherwise it'll be zero.\n",
        "\n",
        "\n",
        "### Perturbed Queries for feature extraction and Attack Dataset\n",
        "\n",
        "In order to construct the actual attack dataset we have 2 perturbation functions:\n",
        "- Translate\n",
        "- Rotate\n",
        "\n",
        "that can apply the necessary augmentations in order to acquire the feature vector for a query.\n",
        "\n",
        "This works by applying all augmentations to the input X and querying the target model in order to return a binary vector $x_{attack}$ where $$x_{attack_p} = 1 \\; if \\;y_p == y_{true} \\; else \\; 0, \\forall p \\in Perturbations(X)$$\n",
        "\n",
        "where $y_p$ is the label for pertubation $p$ of input $X$."
      ]
    },
    {
      "cell_type": "code",
      "execution_count": 16,
      "metadata": {
        "id": "SrhUttNV1jR6"
      },
      "outputs": [],
      "source": [
        "r = 2 # rotate range => creating 2*r+1 rotations \n",
        "d = 1 # translate range =? creating 4*d + 1 translates"
      ]
    },
    {
      "cell_type": "code",
      "execution_count": 17,
      "metadata": {
        "id": "DYRgNm8sqkY7"
      },
      "outputs": [],
      "source": [
        "# create all relative rotates for interpolation (returns 2*r + 1 translates)\n",
        "def create_rotates(r):\n",
        "  if r is None:\n",
        "    return None\n",
        "  if r == 1:\n",
        "    return [0.0]\n",
        "  rotates = np.linspace(-r, r, (r * 2 + 1))\n",
        "  return rotates\n",
        "\n",
        "# create all possible translates (returns 4*d+1 translates)\n",
        "def create_translates(d):\n",
        "  if d is None:\n",
        "    return None\n",
        "\n",
        "  def all_shifts(mshift):\n",
        "    if mshift == 0:\n",
        "      return [(0, 0, 0, 0)]\n",
        "    \n",
        "    all_pairs = []\n",
        "    start = (0, mshift, 0, 0)\n",
        "    end = (0, mshift, 0, 0)\n",
        "    vdir = -1\n",
        "    hdir = -1\n",
        "    first_time = True\n",
        "    while (start[1] != end[1] or start[2] != end[2]) or first_time:\n",
        "      all_pairs.append(start)\n",
        "      start = (0, start[1] + vdir, start[2] + hdir, 0)\n",
        "      if abs(start[1]) == mshift:\n",
        "        vdir *= -1\n",
        "      if abs(start[2]) == mshift:\n",
        "        hdir *= -1\n",
        "      first_time = False\n",
        "    all_pairs = [(0, 0, 0, 0)] + all_pairs  # add no shift\n",
        "    return all_pairs\n",
        "\n",
        "  translates = all_shifts(d)\n",
        "  return translates\n",
        "\n",
        "\n",
        "def apply_augment(d, augment, type_):\n",
        "  if type_ == 'd':\n",
        "    d = interpolation.shift(d, augment, mode='constant')\n",
        "  elif type_ == 'r':\n",
        "    d = interpolation.rotate(d, augment, (1, 2), reshape=False)\n",
        "  else:\n",
        "    raise ValueError(f'Augmentation Type: \\'{type_}\\' doesn\\'t exist. Try \\'r\\' or \\'d\\'')\n",
        "  return d\n",
        "\n",
        "# param model the model to query\n",
        "# param X the input to perurb\n",
        "# param y_pred is the predictions of the model for given input\n",
        "def augmented_queries(model, X, y_pred, r=3, d=1):\n",
        "  #create perturbations\n",
        "  rotates = create_rotates(r)\n",
        "  translates = create_translates(d)\n",
        "\n",
        "  X_attack = None\n",
        "  for rot in rotates:\n",
        "    #  create perturbed image\n",
        "    X_perturbed = apply_augment(X, rot, 'r')\n",
        "    # return query line\n",
        "    y_perturbed = target_predict(model, X_perturbed)\n",
        "    X_attack_col = y_perturbed #(y_pred == y_perturbed).astype(int) # transform the prediction column into a binary collumn where x_i = 1 when y_true == y_pred else 0\n",
        "    \n",
        "    if X_attack is None:\n",
        "      X_attack = X_attack_col\n",
        "    else:\n",
        "      X_attack = np.concatenate((X_attack, X_attack_col), axis=1)\n",
        "\n",
        "  for tra in translates:\n",
        "    X_perturbed = apply_augment(X, tra, 'd')\n",
        "    # return query line\n",
        "    y_perturbed = target_predict(model, X_perturbed)\n",
        "    X_attack_col = y_perturbed #(y_pred == y_perturbed).astype(int) # transform the prediction column into a binary collumn where x_i = 1 when y_true == y_pred else 0\n",
        "    # concate the col to the rest of x_attack feature vector\n",
        "    if X_attack is None:\n",
        "      X_attack = X_attack_col\n",
        "    else:\n",
        "      X_attack = np.concatenate((X_attack, X_attack_col), axis=1)\n",
        "  return X_attack"
      ]
    },
    {
      "cell_type": "code",
      "execution_count": 18,
      "metadata": {
        "id": "A6lVDDuD2DA5"
      },
      "outputs": [],
      "source": [
        "# helper function to prepare each shadow dataset batch\n",
        "def prepare_batch(model, X, y, in_D):\n",
        "  #decide membership\n",
        "  y_member = np.ones(shape=(y.shape[0], 1)) if in_D else np.zeros(shape=(y.shape[0], 1))\n",
        "\n",
        "  # get the y_pred \n",
        "  prob = layers.Softmax()\n",
        "  ret = prob(model.predict(X)).numpy()\n",
        "  y_pred = np.apply_along_axis(np.argmax, 1, ret).reshape((-1, 1))\n",
        "  perturbed_queries_res = augmented_queries(model, X, y_pred, r, d)\n",
        "  \n",
        "  # return an instance <actual class, predicted class, perturbed_queries_res from shadow models, 'in'/'out' D_target membership> \n",
        "  return np.concatenate((y.reshape(-1, 1), y_pred, perturbed_queries_res, y_member), axis=1)\n",
        "\n",
        "def generate_attack_dataset(shadow_models, n_classes):\n",
        "  # input is a list where items are model, (X_train, y_train), (X_test, y_test)\n",
        "\n",
        "  D_attack = None\n",
        "  # D_attack_i format = <class, prob_vec, membership label (1 or 0)> \n",
        "  for shadow_model, ((X_train, y_train), (X_test, y_test)) in shadow_models:\n",
        "    s = min(X_train.shape[0], X_test.shape[0])\n",
        "    print(f\"Preparing shadow batch of size {2*s}\")\n",
        "    batch = np.concatenate((\n",
        "        prepare_batch(shadow_model, X_train[:s], y_train[:s], True), # members of shadow dataset \n",
        "        prepare_batch(shadow_model, X_test[:s], y_test[:s], False)   # non members of shadow dataset\n",
        "    ))   \n",
        "\n",
        "    D_attack = np.concatenate((D_attack, batch)) if D_attack is not None else batch  \n",
        "    print(\"Done!\")\n",
        "  return D_attack "
      ]
    },
    {
      "cell_type": "code",
      "execution_count": 19,
      "metadata": {
        "id": "yh5MsDOgVT4V"
      },
      "outputs": [],
      "source": [
        "def __f_attack(X_train, y_train, X_test, y_test, epochs=100):\n",
        "  print(X_train.shape, X_test.shape)\n",
        "  model = models.Sequential()\n",
        "  model.add(layers.Dense(10, input_shape=(X_train.shape[1],)))\n",
        "  model.add(layers.LeakyReLU())\n",
        "  model.add(layers.Dense(1, activation='sigmoid'))\n",
        "  \n",
        "  model.compile(optimizer='adam',\n",
        "              loss='binary_crossentropy',\n",
        "              metrics=['accuracy'])\n",
        "  history = model.fit(X_train, y_train, epochs=epochs,\n",
        "                    validation_data=(X_test, y_test), verbose=True)\n",
        "  \n",
        "  return model\n",
        "\n",
        "def f_attack(X, y):\n",
        "  # X_i = (class, probability vector, )\n",
        "  classes = np.unique(train_labels) # all class labels\n",
        "  with tf.device('/gpu:0'):\n",
        "  # split to train and test datasets\n",
        "    X_train, X_test, y_train, y_test = train_test_split(X, y, shuffle=True, test_size=0.3)\n",
        "    attack_model = __f_attack(X_train, y_train, X_test, y_test)\n",
        "\n",
        "  return attack_model"
      ]
    },
    {
      "cell_type": "code",
      "execution_count": 20,
      "metadata": {
        "colab": {
          "base_uri": "https://localhost:8080/"
        },
        "id": "S_yfm1hK-Sg7",
        "outputId": "9c15fcd9-ea13-4996-e38e-0384cb45bce7"
      },
      "outputs": [
        {
          "name": "stdout",
          "output_type": "stream",
          "text": [
            "Preparing shadow batch of size 6600\n",
            "Done!\n"
          ]
        }
      ],
      "source": [
        "D_attack = generate_attack_dataset(shadow_models, 10)\n"
      ]
    },
    {
      "cell_type": "code",
      "execution_count": 21,
      "metadata": {
        "colab": {
          "base_uri": "https://localhost:8080/"
        },
        "id": "gnhE29HBBYGy",
        "outputId": "bf86bbe8-3694-401b-da7c-537400ef9f6f"
      },
      "outputs": [
        {
          "name": "stdout",
          "output_type": "stream",
          "text": [
            "(4620, 12) (1980, 12)\n",
            "Epoch 1/100\n",
            "145/145 [==============================] - 2s 8ms/step - loss: 1.0268 - accuracy: 0.5340 - val_loss: 0.7501 - val_accuracy: 0.5364\n",
            "Epoch 2/100\n",
            "145/145 [==============================] - 1s 5ms/step - loss: 0.7316 - accuracy: 0.5602 - val_loss: 0.7196 - val_accuracy: 0.5389\n",
            "Epoch 3/100\n",
            "145/145 [==============================] - 1s 5ms/step - loss: 0.7105 - accuracy: 0.5732 - val_loss: 0.6984 - val_accuracy: 0.5510\n",
            "Epoch 4/100\n",
            "145/145 [==============================] - 1s 5ms/step - loss: 0.6935 - accuracy: 0.5784 - val_loss: 0.6885 - val_accuracy: 0.5848\n",
            "Epoch 5/100\n",
            "145/145 [==============================] - 1s 5ms/step - loss: 0.6839 - accuracy: 0.6052 - val_loss: 0.6823 - val_accuracy: 0.5919\n",
            "Epoch 6/100\n",
            "145/145 [==============================] - 1s 5ms/step - loss: 0.6769 - accuracy: 0.6043 - val_loss: 0.6808 - val_accuracy: 0.5934\n",
            "Epoch 7/100\n",
            "145/145 [==============================] - 1s 5ms/step - loss: 0.6704 - accuracy: 0.6253 - val_loss: 0.6710 - val_accuracy: 0.6197\n",
            "Epoch 8/100\n",
            "145/145 [==============================] - 1s 5ms/step - loss: 0.6645 - accuracy: 0.6251 - val_loss: 0.6620 - val_accuracy: 0.6389\n",
            "Epoch 9/100\n",
            "145/145 [==============================] - 1s 5ms/step - loss: 0.6584 - accuracy: 0.6396 - val_loss: 0.6606 - val_accuracy: 0.6263\n",
            "Epoch 10/100\n",
            "145/145 [==============================] - 1s 5ms/step - loss: 0.6520 - accuracy: 0.6487 - val_loss: 0.6510 - val_accuracy: 0.6540\n",
            "Epoch 11/100\n",
            "145/145 [==============================] - 1s 5ms/step - loss: 0.6456 - accuracy: 0.6619 - val_loss: 0.6524 - val_accuracy: 0.6343\n",
            "Epoch 12/100\n",
            "145/145 [==============================] - 1s 5ms/step - loss: 0.6412 - accuracy: 0.6626 - val_loss: 0.6462 - val_accuracy: 0.6470\n",
            "Epoch 13/100\n",
            "145/145 [==============================] - 1s 5ms/step - loss: 0.6365 - accuracy: 0.6656 - val_loss: 0.6415 - val_accuracy: 0.6495\n",
            "Epoch 14/100\n",
            "145/145 [==============================] - 1s 5ms/step - loss: 0.6328 - accuracy: 0.6693 - val_loss: 0.6389 - val_accuracy: 0.6495\n",
            "Epoch 15/100\n",
            "145/145 [==============================] - 1s 5ms/step - loss: 0.6280 - accuracy: 0.6714 - val_loss: 0.6342 - val_accuracy: 0.6551\n",
            "Epoch 16/100\n",
            "145/145 [==============================] - 1s 5ms/step - loss: 0.6242 - accuracy: 0.6777 - val_loss: 0.6368 - val_accuracy: 0.6520\n",
            "Epoch 17/100\n",
            "145/145 [==============================] - 1s 5ms/step - loss: 0.6200 - accuracy: 0.6846 - val_loss: 0.6338 - val_accuracy: 0.6606\n",
            "Epoch 18/100\n",
            "145/145 [==============================] - 1s 5ms/step - loss: 0.6164 - accuracy: 0.6838 - val_loss: 0.6454 - val_accuracy: 0.6475\n",
            "Epoch 19/100\n",
            "145/145 [==============================] - 1s 5ms/step - loss: 0.6147 - accuracy: 0.6827 - val_loss: 0.6263 - val_accuracy: 0.6697\n",
            "Epoch 20/100\n",
            "145/145 [==============================] - 1s 5ms/step - loss: 0.6117 - accuracy: 0.6926 - val_loss: 0.6358 - val_accuracy: 0.6596\n",
            "Epoch 21/100\n",
            "145/145 [==============================] - 1s 5ms/step - loss: 0.6106 - accuracy: 0.6918 - val_loss: 0.6264 - val_accuracy: 0.6722\n",
            "Epoch 22/100\n",
            "145/145 [==============================] - 1s 5ms/step - loss: 0.6076 - accuracy: 0.6968 - val_loss: 0.6240 - val_accuracy: 0.6732\n",
            "Epoch 23/100\n",
            "145/145 [==============================] - 1s 5ms/step - loss: 0.6056 - accuracy: 0.6965 - val_loss: 0.6228 - val_accuracy: 0.6737\n",
            "Epoch 24/100\n",
            "145/145 [==============================] - 1s 5ms/step - loss: 0.6039 - accuracy: 0.6989 - val_loss: 0.6217 - val_accuracy: 0.6742\n",
            "Epoch 25/100\n",
            "145/145 [==============================] - 1s 5ms/step - loss: 0.6014 - accuracy: 0.7017 - val_loss: 0.6229 - val_accuracy: 0.6747\n",
            "Epoch 26/100\n",
            "145/145 [==============================] - 1s 5ms/step - loss: 0.6002 - accuracy: 0.6996 - val_loss: 0.6189 - val_accuracy: 0.6717\n",
            "Epoch 27/100\n",
            "145/145 [==============================] - 1s 6ms/step - loss: 0.6006 - accuracy: 0.7032 - val_loss: 0.6189 - val_accuracy: 0.6763\n",
            "Epoch 28/100\n",
            "145/145 [==============================] - 1s 5ms/step - loss: 0.5970 - accuracy: 0.7017 - val_loss: 0.6189 - val_accuracy: 0.6758\n",
            "Epoch 29/100\n",
            "145/145 [==============================] - 1s 5ms/step - loss: 0.5949 - accuracy: 0.7069 - val_loss: 0.6243 - val_accuracy: 0.6753\n",
            "Epoch 30/100\n",
            "145/145 [==============================] - 1s 5ms/step - loss: 0.5947 - accuracy: 0.7115 - val_loss: 0.6292 - val_accuracy: 0.6717\n",
            "Epoch 31/100\n",
            "145/145 [==============================] - 1s 5ms/step - loss: 0.5928 - accuracy: 0.7106 - val_loss: 0.6359 - val_accuracy: 0.6672\n",
            "Epoch 32/100\n",
            "145/145 [==============================] - 1s 5ms/step - loss: 0.5945 - accuracy: 0.7104 - val_loss: 0.6220 - val_accuracy: 0.6833\n",
            "Epoch 33/100\n",
            "145/145 [==============================] - 1s 5ms/step - loss: 0.5919 - accuracy: 0.7158 - val_loss: 0.6266 - val_accuracy: 0.6788\n",
            "Epoch 34/100\n",
            "145/145 [==============================] - 1s 5ms/step - loss: 0.5927 - accuracy: 0.7110 - val_loss: 0.6170 - val_accuracy: 0.6874\n",
            "Epoch 35/100\n",
            "145/145 [==============================] - 1s 5ms/step - loss: 0.5891 - accuracy: 0.7126 - val_loss: 0.6314 - val_accuracy: 0.6429\n",
            "Epoch 36/100\n",
            "145/145 [==============================] - 1s 5ms/step - loss: 0.5928 - accuracy: 0.7154 - val_loss: 0.6247 - val_accuracy: 0.6838\n",
            "Epoch 37/100\n",
            "145/145 [==============================] - 1s 5ms/step - loss: 0.5877 - accuracy: 0.7180 - val_loss: 0.6167 - val_accuracy: 0.6894\n",
            "Epoch 38/100\n",
            "145/145 [==============================] - 1s 5ms/step - loss: 0.5905 - accuracy: 0.7182 - val_loss: 0.6173 - val_accuracy: 0.6879\n",
            "Epoch 39/100\n",
            "145/145 [==============================] - 1s 5ms/step - loss: 0.5879 - accuracy: 0.7219 - val_loss: 0.6253 - val_accuracy: 0.6823\n",
            "Epoch 40/100\n",
            "145/145 [==============================] - 1s 5ms/step - loss: 0.5861 - accuracy: 0.7229 - val_loss: 0.6253 - val_accuracy: 0.6813\n",
            "Epoch 41/100\n",
            "145/145 [==============================] - 1s 5ms/step - loss: 0.5856 - accuracy: 0.7199 - val_loss: 0.6454 - val_accuracy: 0.6641\n",
            "Epoch 42/100\n",
            "145/145 [==============================] - 1s 5ms/step - loss: 0.5854 - accuracy: 0.7210 - val_loss: 0.6195 - val_accuracy: 0.6838\n",
            "Epoch 43/100\n",
            "145/145 [==============================] - 1s 5ms/step - loss: 0.5858 - accuracy: 0.7249 - val_loss: 0.6173 - val_accuracy: 0.6894\n",
            "Epoch 44/100\n",
            "145/145 [==============================] - 1s 5ms/step - loss: 0.5864 - accuracy: 0.7193 - val_loss: 0.6172 - val_accuracy: 0.6874\n",
            "Epoch 45/100\n",
            "145/145 [==============================] - 1s 5ms/step - loss: 0.5835 - accuracy: 0.7262 - val_loss: 0.6252 - val_accuracy: 0.6803\n",
            "Epoch 46/100\n",
            "145/145 [==============================] - 1s 5ms/step - loss: 0.5850 - accuracy: 0.7240 - val_loss: 0.6162 - val_accuracy: 0.6939\n",
            "Epoch 47/100\n",
            "145/145 [==============================] - 1s 5ms/step - loss: 0.5838 - accuracy: 0.7247 - val_loss: 0.6194 - val_accuracy: 0.6823\n",
            "Epoch 48/100\n",
            "145/145 [==============================] - 1s 5ms/step - loss: 0.5842 - accuracy: 0.7225 - val_loss: 0.6475 - val_accuracy: 0.6652\n",
            "Epoch 49/100\n",
            "145/145 [==============================] - 1s 5ms/step - loss: 0.5843 - accuracy: 0.7249 - val_loss: 0.6177 - val_accuracy: 0.6879\n",
            "Epoch 50/100\n",
            "145/145 [==============================] - 1s 5ms/step - loss: 0.5826 - accuracy: 0.7251 - val_loss: 0.6299 - val_accuracy: 0.6758\n",
            "Epoch 51/100\n",
            "145/145 [==============================] - 1s 5ms/step - loss: 0.5835 - accuracy: 0.7190 - val_loss: 0.6201 - val_accuracy: 0.6859\n",
            "Epoch 52/100\n",
            "145/145 [==============================] - 1s 5ms/step - loss: 0.5811 - accuracy: 0.7240 - val_loss: 0.6166 - val_accuracy: 0.6914\n",
            "Epoch 53/100\n",
            "145/145 [==============================] - 1s 5ms/step - loss: 0.5804 - accuracy: 0.7281 - val_loss: 0.6179 - val_accuracy: 0.6879\n",
            "Epoch 54/100\n",
            "145/145 [==============================] - 1s 5ms/step - loss: 0.5812 - accuracy: 0.7253 - val_loss: 0.6238 - val_accuracy: 0.6813\n",
            "Epoch 55/100\n",
            "145/145 [==============================] - 1s 5ms/step - loss: 0.5796 - accuracy: 0.7242 - val_loss: 0.6246 - val_accuracy: 0.6798\n",
            "Epoch 56/100\n",
            "145/145 [==============================] - 1s 5ms/step - loss: 0.5808 - accuracy: 0.7242 - val_loss: 0.6220 - val_accuracy: 0.6843\n",
            "Epoch 57/100\n",
            "145/145 [==============================] - 1s 5ms/step - loss: 0.5813 - accuracy: 0.7255 - val_loss: 0.6177 - val_accuracy: 0.6919\n",
            "Epoch 58/100\n",
            "145/145 [==============================] - 1s 5ms/step - loss: 0.5805 - accuracy: 0.7277 - val_loss: 0.6187 - val_accuracy: 0.6843\n",
            "Epoch 59/100\n",
            "145/145 [==============================] - 1s 5ms/step - loss: 0.5794 - accuracy: 0.7286 - val_loss: 0.6164 - val_accuracy: 0.6924\n",
            "Epoch 60/100\n",
            "145/145 [==============================] - 1s 5ms/step - loss: 0.5791 - accuracy: 0.7262 - val_loss: 0.6189 - val_accuracy: 0.6859\n",
            "Epoch 61/100\n",
            "145/145 [==============================] - 1s 5ms/step - loss: 0.5819 - accuracy: 0.7281 - val_loss: 0.6193 - val_accuracy: 0.6869\n",
            "Epoch 62/100\n",
            "145/145 [==============================] - 1s 5ms/step - loss: 0.5790 - accuracy: 0.7281 - val_loss: 0.6167 - val_accuracy: 0.6914\n",
            "Epoch 63/100\n",
            "145/145 [==============================] - 1s 5ms/step - loss: 0.5787 - accuracy: 0.7275 - val_loss: 0.6243 - val_accuracy: 0.6813\n",
            "Epoch 64/100\n",
            "145/145 [==============================] - 1s 5ms/step - loss: 0.5808 - accuracy: 0.7281 - val_loss: 0.6196 - val_accuracy: 0.6848\n",
            "Epoch 65/100\n",
            "145/145 [==============================] - 1s 5ms/step - loss: 0.5770 - accuracy: 0.7299 - val_loss: 0.6166 - val_accuracy: 0.6879\n",
            "Epoch 66/100\n",
            "145/145 [==============================] - 1s 5ms/step - loss: 0.5790 - accuracy: 0.7262 - val_loss: 0.6223 - val_accuracy: 0.6848\n",
            "Epoch 67/100\n",
            "145/145 [==============================] - 1s 5ms/step - loss: 0.5773 - accuracy: 0.7292 - val_loss: 0.6187 - val_accuracy: 0.6889\n",
            "Epoch 68/100\n",
            "145/145 [==============================] - 1s 5ms/step - loss: 0.5769 - accuracy: 0.7299 - val_loss: 0.6187 - val_accuracy: 0.6869\n",
            "Epoch 69/100\n",
            "145/145 [==============================] - 1s 5ms/step - loss: 0.5772 - accuracy: 0.7279 - val_loss: 0.6333 - val_accuracy: 0.6742\n",
            "Epoch 70/100\n",
            "145/145 [==============================] - 1s 5ms/step - loss: 0.5786 - accuracy: 0.7271 - val_loss: 0.6173 - val_accuracy: 0.6904\n",
            "Epoch 71/100\n",
            "145/145 [==============================] - 1s 5ms/step - loss: 0.5784 - accuracy: 0.7286 - val_loss: 0.6211 - val_accuracy: 0.6838\n",
            "Epoch 72/100\n",
            "145/145 [==============================] - 1s 5ms/step - loss: 0.5756 - accuracy: 0.7323 - val_loss: 0.6149 - val_accuracy: 0.6965\n",
            "Epoch 73/100\n",
            "145/145 [==============================] - 1s 5ms/step - loss: 0.5761 - accuracy: 0.7325 - val_loss: 0.6181 - val_accuracy: 0.6899\n",
            "Epoch 74/100\n",
            "145/145 [==============================] - 1s 5ms/step - loss: 0.5764 - accuracy: 0.7327 - val_loss: 0.6149 - val_accuracy: 0.6914\n",
            "Epoch 75/100\n",
            "145/145 [==============================] - 1s 5ms/step - loss: 0.5751 - accuracy: 0.7299 - val_loss: 0.6247 - val_accuracy: 0.6768\n",
            "Epoch 76/100\n",
            "145/145 [==============================] - 1s 5ms/step - loss: 0.5772 - accuracy: 0.7268 - val_loss: 0.6210 - val_accuracy: 0.6833\n",
            "Epoch 77/100\n",
            "145/145 [==============================] - 1s 5ms/step - loss: 0.5770 - accuracy: 0.7262 - val_loss: 0.6293 - val_accuracy: 0.6753\n",
            "Epoch 78/100\n",
            "145/145 [==============================] - 1s 5ms/step - loss: 0.5763 - accuracy: 0.7320 - val_loss: 0.6154 - val_accuracy: 0.6919\n",
            "Epoch 79/100\n",
            "145/145 [==============================] - 1s 5ms/step - loss: 0.5770 - accuracy: 0.7271 - val_loss: 0.6165 - val_accuracy: 0.6919\n",
            "Epoch 80/100\n",
            "145/145 [==============================] - 1s 6ms/step - loss: 0.5745 - accuracy: 0.7323 - val_loss: 0.6145 - val_accuracy: 0.6944\n",
            "Epoch 81/100\n",
            "145/145 [==============================] - 1s 5ms/step - loss: 0.5728 - accuracy: 0.7320 - val_loss: 0.6158 - val_accuracy: 0.6924\n",
            "Epoch 82/100\n",
            "145/145 [==============================] - 1s 5ms/step - loss: 0.5735 - accuracy: 0.7320 - val_loss: 0.6137 - val_accuracy: 0.6949\n",
            "Epoch 83/100\n",
            "145/145 [==============================] - 1s 5ms/step - loss: 0.5739 - accuracy: 0.7314 - val_loss: 0.6214 - val_accuracy: 0.6818\n",
            "Epoch 84/100\n",
            "145/145 [==============================] - 1s 6ms/step - loss: 0.5736 - accuracy: 0.7314 - val_loss: 0.6136 - val_accuracy: 0.6944\n",
            "Epoch 85/100\n",
            "145/145 [==============================] - 1s 5ms/step - loss: 0.5729 - accuracy: 0.7344 - val_loss: 0.6131 - val_accuracy: 0.6970\n",
            "Epoch 86/100\n",
            "145/145 [==============================] - 1s 5ms/step - loss: 0.5711 - accuracy: 0.7325 - val_loss: 0.6157 - val_accuracy: 0.6939\n",
            "Epoch 87/100\n",
            "145/145 [==============================] - 1s 5ms/step - loss: 0.5725 - accuracy: 0.7331 - val_loss: 0.6163 - val_accuracy: 0.6909\n",
            "Epoch 88/100\n",
            "145/145 [==============================] - 1s 5ms/step - loss: 0.5733 - accuracy: 0.7312 - val_loss: 0.6131 - val_accuracy: 0.7000\n",
            "Epoch 89/100\n",
            "145/145 [==============================] - 1s 5ms/step - loss: 0.5726 - accuracy: 0.7294 - val_loss: 0.6148 - val_accuracy: 0.6975\n",
            "Epoch 90/100\n",
            "145/145 [==============================] - 1s 5ms/step - loss: 0.5729 - accuracy: 0.7355 - val_loss: 0.6127 - val_accuracy: 0.6934\n",
            "Epoch 91/100\n",
            "145/145 [==============================] - 1s 5ms/step - loss: 0.5734 - accuracy: 0.7292 - val_loss: 0.6141 - val_accuracy: 0.6965\n",
            "Epoch 92/100\n",
            "145/145 [==============================] - 1s 5ms/step - loss: 0.5719 - accuracy: 0.7333 - val_loss: 0.6308 - val_accuracy: 0.6742\n",
            "Epoch 93/100\n",
            "145/145 [==============================] - 1s 5ms/step - loss: 0.5731 - accuracy: 0.7301 - val_loss: 0.6183 - val_accuracy: 0.6909\n",
            "Epoch 94/100\n",
            "145/145 [==============================] - 1s 5ms/step - loss: 0.5724 - accuracy: 0.7340 - val_loss: 0.6127 - val_accuracy: 0.6944\n",
            "Epoch 95/100\n",
            "145/145 [==============================] - 1s 5ms/step - loss: 0.5698 - accuracy: 0.7364 - val_loss: 0.6144 - val_accuracy: 0.6924\n",
            "Epoch 96/100\n",
            "145/145 [==============================] - 1s 5ms/step - loss: 0.5711 - accuracy: 0.7327 - val_loss: 0.6129 - val_accuracy: 0.6934\n",
            "Epoch 97/100\n",
            "145/145 [==============================] - 1s 5ms/step - loss: 0.5714 - accuracy: 0.7335 - val_loss: 0.6161 - val_accuracy: 0.6914\n",
            "Epoch 98/100\n",
            "145/145 [==============================] - 1s 5ms/step - loss: 0.5702 - accuracy: 0.7338 - val_loss: 0.6147 - val_accuracy: 0.7015\n",
            "Epoch 99/100\n",
            "145/145 [==============================] - 1s 5ms/step - loss: 0.5689 - accuracy: 0.7323 - val_loss: 0.6120 - val_accuracy: 0.6970\n",
            "Epoch 100/100\n",
            "145/145 [==============================] - 1s 5ms/step - loss: 0.5725 - accuracy: 0.7346 - val_loss: 0.6111 - val_accuracy: 0.7005\n"
          ]
        }
      ],
      "source": [
        "attack_model_bundle = f_attack(D_attack[:, :-1], D_attack[:, -1])"
      ]
    },
    {
      "cell_type": "markdown",
      "metadata": {
        "id": "pTAveNFNrvrX"
      },
      "source": [
        "## Attack Evaluation"
      ]
    },
    {
      "cell_type": "code",
      "execution_count": 22,
      "metadata": {
        "id": "g9GxZE5Yntpw"
      },
      "outputs": [],
      "source": [
        "def evaluate_attack(attack_model, X_attack, y_attack, n_classes):\n",
        "  acc_per_class = []\n",
        "  for c in range(n_classes):\n",
        "    class_instances = X_attack[:, 0] == c # get same class samples\n",
        "    test_loss, test_acc = attack_model.evaluate(X_attack[class_instances, :], y_attack[class_instances], verbose=0)\n",
        "    acc_per_class.append(test_acc)\n",
        "    print(f\"class-{c+1}: {test_acc}\")\n",
        "  return acc_per_class"
      ]
    },
    {
      "cell_type": "code",
      "execution_count": 23,
      "metadata": {
        "colab": {
          "base_uri": "https://localhost:8080/"
        },
        "id": "iiQyYdB7SABg",
        "outputId": "b4e35c78-93c4-4c6b-e371-9be48b623478"
      },
      "outputs": [
        {
          "name": "stdout",
          "output_type": "stream",
          "text": [
            "Testing with 'in' data only:\n",
            "class-1: 0.987500011920929\n",
            "class-2: 0.9655172228813171\n",
            "class-3: 0.9487179517745972\n",
            "class-4: 0.9677419066429138\n",
            "class-5: 0.9636363387107849\n",
            "class-6: 0.989130437374115\n",
            "class-7: 0.9830508232116699\n",
            "class-8: 0.9793814420700073\n",
            "class-9: 0.9239130616188049\n",
            "class-10: 0.929411768913269\n",
            "\n",
            "Testing with 'out' data only:\n",
            "class-1: 0.529411792755127\n",
            "class-2: 0.4848484992980957\n",
            "class-3: 0.6582278609275818\n",
            "class-4: 0.7551020383834839\n",
            "class-5: 0.6363636255264282\n",
            "class-6: 0.5957446694374084\n",
            "class-7: 0.36082473397254944\n",
            "class-8: 0.6101694703102112\n",
            "class-9: 0.44736841320991516\n",
            "class-10: 0.516853928565979\n",
            "\n",
            "Testing with all prev data: \n",
            "class-1: 0.7307692170143127\n",
            "class-2: 0.7441860437393188\n",
            "class-3: 0.831632673740387\n",
            "class-4: 0.8586387634277344\n",
            "class-5: 0.800000011920929\n",
            "class-6: 0.7903226017951965\n",
            "class-7: 0.7023255825042725\n",
            "class-8: 0.7767441868782043\n",
            "class-9: 0.6601941585540771\n",
            "class-10: 0.7183908224105835\n",
            "\n",
            "Total attack accuracy: 0.7613204061985016\n"
          ]
        }
      ],
      "source": [
        "# create a test dataset \n",
        "\n",
        "D_in = prepare_batch(target_model, train_images[:1000], train_labels[:1000], True)\n",
        "print(\"Testing with 'in' data only:\")\n",
        "res_in = evaluate_attack(attack_model_bundle, D_in[:, :-1], D_in[:, -1], 10)\n",
        "\n",
        "D_out = prepare_batch(target_model, attacker_images[:1000], attacker_labels[:1000], False)\n",
        "print(\"\\nTesting with 'out' data only:\")\n",
        "res_out = evaluate_attack(attack_model_bundle, D_out[:, :-1], D_out[:, -1], 10)\n",
        "\n",
        "print(\"\\nTesting with all prev data: \")\n",
        "res_all = evaluate_attack(attack_model_bundle, np.concatenate((D_out[:, :-1], D_in[:, :-1])), np.concatenate((D_out[:, -1], D_in[:, -1])), 10)\n",
        "\n",
        "print(f\"\\nTotal attack accuracy: {np.mean(res_all)}\")"
      ]
    },
    {
      "cell_type": "code",
      "execution_count": 24,
      "metadata": {
        "colab": {
          "base_uri": "https://localhost:8080/"
        },
        "id": "8wDNdLqnnyVp",
        "outputId": "c08b1292-a9f9-4205-bcd8-15fdfff3e371"
      },
      "outputs": [
        {
          "name": "stdout",
          "output_type": "stream",
          "text": [
            "              precision    recall  f1-score   support\n",
            "\n",
            "         0.0       0.94      0.56      0.70      1000\n",
            "         1.0       0.69      0.96      0.80      1000\n",
            "\n",
            "    accuracy                           0.76      2000\n",
            "   macro avg       0.81      0.76      0.75      2000\n",
            "weighted avg       0.81      0.76      0.75      2000\n",
            "\n"
          ]
        }
      ],
      "source": [
        "y_pred = (attack_model_bundle.predict(np.concatenate((D_out[:, :-1], D_in[:, :-1]))) > 0.5).astype(np.int8)\n",
        "y_true = np.concatenate((D_out[:, -1], D_in[:, -1]))\n",
        "print(classification_report(y_true.reshape(-1), y_pred.reshape(-1)))"
      ]
    },
    {
      "cell_type": "code",
      "execution_count": 25,
      "metadata": {
        "colab": {
          "base_uri": "https://localhost:8080/",
          "height": 282
        },
        "id": "G8aQH6Nqp3Ah",
        "outputId": "138fbe30-7c9b-4e5f-9e4e-7eaf18c48247"
      },
      "outputs": [
        {
          "name": "stdout",
          "output_type": "stream",
          "text": [
            "AUC = 0.7618734999999999\n"
          ]
        },
        {
          "data": {
            "image/png": "[encoded data removed]",
            "text/plain": [
              "<Figure size 432x288 with 1 Axes>"
            ]
          },
          "metadata": {
            "needs_background": "light"
          },
          "output_type": "display_data"
        }
      ],
      "source": [
        "\n",
        "y_pred = attack_model_bundle.predict(np.concatenate((D_out[:, :-1], D_in[:, :-1])))\n",
        "y_true = np.concatenate((D_out[:, -1], D_in[:, -1]))\n",
        "\n",
        "fpr, tpr, _ = roc_curve(y_true, y_pred)\n",
        "\n",
        "plt.plot(fpr, tpr)\n",
        "\n",
        "print(f\"AUC = {roc_auc_score(y_true, y_pred)}\")"
      ]
    },
    {
      "cell_type": "markdown",
      "metadata": {
        "id": "8grjprA4PmE7"
      },
      "source": [
        "# Extras"
      ]
    },
    {
      "cell_type": "markdown",
      "metadata": {
        "id": "w9g2jus3rP1j"
      },
      "source": [
        "## Check target model's behaviour in perturbed images"
      ]
    },
    {
      "cell_type": "code",
      "execution_count": 26,
      "metadata": {
        "id": "sD5YbfusfCob"
      },
      "outputs": [],
      "source": [
        "def study_perturbations(model, X, y, rs, ts):\n",
        "  diffs = []\n",
        "  y_pred = target_predict(model, X)    \n",
        "  for c in range(10):\n",
        "    #  given class acquire the changes in perturbed input instances given the model\n",
        "    idx = y_pred[:, 0] == c\n",
        "    X_c = X[idx]\n",
        "    y_pred_c = y_pred[idx]\n",
        "    perturbed_labels = (augmented_queries(model, X_c, y_pred_c, rs, ts) == y_pred_c).astype(np.int8)\n",
        "    # Now we have to count how many labels diverge from the predicted label\n",
        "    diff = len(perturbed_labels.reshape(-1)) - sum(perturbed_labels.reshape(-1)) # the labels are binary where 1 == y_pred = y_perturbed, otherwise 0\n",
        "    diffs.append(int(100 * diff/len(perturbed_labels.reshape(-1)))) # append the percentage of changes in the class sample\n",
        "    \n",
        "  return diffs "
      ]
    },
    {
      "cell_type": "code",
      "execution_count": 27,
      "metadata": {
        "id": "w-0sJVhfbfQ3"
      },
      "outputs": [],
      "source": [
        "N_SAMPLES = 100\n",
        "train_idx = np.random.choice(range(train_images.shape[0]), N_SAMPLES, replace=False)\n",
        "test_idx = np.random.choice(range(attacker_images.shape[0]), N_SAMPLES, replace=False)"
      ]
    },
    {
      "cell_type": "code",
      "execution_count": 28,
      "metadata": {
        "colab": {
          "base_uri": "https://localhost:8080/",
          "height": 1000
        },
        "id": "dpYCPdS0EA-p",
        "outputId": "3e9f8278-ef1c-4ae3-928d-549c439d84f9"
      },
      "outputs": [
        {
          "data": {
            "text/plain": [
              "[<matplotlib.axis.XTick at 0x7f43ffa1fed0>,\n",
              " <matplotlib.axis.XTick at 0x7f43ffa1f890>,\n",
              " <matplotlib.axis.XTick at 0x7f43fa8fd790>,\n",
              " <matplotlib.axis.XTick at 0x7f43fa1a9250>,\n",
              " <matplotlib.axis.XTick at 0x7f43fa35f750>,\n",
              " <matplotlib.axis.XTick at 0x7f43f8ebeb90>,\n",
              " <matplotlib.axis.XTick at 0x7f43f8ebe350>,\n",
              " <matplotlib.axis.XTick at 0x7f43f9124450>,\n",
              " <matplotlib.axis.XTick at 0x7f43fa374f50>,\n",
              " <matplotlib.axis.XTick at 0x7f43f8f885d0>,\n",
              " <matplotlib.axis.XTick at 0x7f43fa2093d0>,\n",
              " Text(0, 0, '0%'),\n",
              " Text(0, 0, '10%'),\n",
              " Text(0, 0, '20%'),\n",
              " Text(0, 0, '30%'),\n",
              " Text(0, 0, '40%'),\n",
              " Text(0, 0, '50%'),\n",
              " Text(0, 0, '60%'),\n",
              " Text(0, 0, '70%'),\n",
              " Text(0, 0, '80%'),\n",
              " Text(0, 0, '90%'),\n",
              " Text(0, 0, '100%'),\n",
              " <matplotlib.axis.XTick at 0x7f43ffae6f50>,\n",
              " <matplotlib.axis.XTick at 0x7f43ffae6fd0>,\n",
              " <matplotlib.axis.XTick at 0x7f43ffae6790>,\n",
              " <matplotlib.axis.XTick at 0x7f43f9089610>,\n",
              " <matplotlib.axis.XTick at 0x7f43f9089910>,\n",
              " <matplotlib.axis.XTick at 0x7f43f9089150>,\n",
              " <matplotlib.axis.XTick at 0x7f43f913a2d0>,\n",
              " <matplotlib.axis.XTick at 0x7f43f913add0>,\n",
              " <matplotlib.axis.XTick at 0x7f43fa209850>,\n",
              " <matplotlib.axis.XTick at 0x7f43f8f9f090>,\n",
              " <matplotlib.axis.XTick at 0x7f43f9089250>,\n",
              " Text(0, 0, '0%'),\n",
              " Text(0, 0, '10%'),\n",
              " Text(0, 0, '20%'),\n",
              " Text(0, 0, '30%'),\n",
              " Text(0, 0, '40%'),\n",
              " Text(0, 0, '50%'),\n",
              " Text(0, 0, '60%'),\n",
              " Text(0, 0, '70%'),\n",
              " Text(0, 0, '80%'),\n",
              " Text(0, 0, '90%'),\n",
              " Text(0, 0, '100%'),\n",
              " <matplotlib.axis.XTick at 0x7f43ffa09110>,\n",
              " <matplotlib.axis.XTick at 0x7f43ffa09e90>,\n",
              " <matplotlib.axis.XTick at 0x7f43ffa09350>,\n",
              " <matplotlib.axis.XTick at 0x7f43f8e73d90>,\n",
              " <matplotlib.axis.XTick at 0x7f43f8fa5f90>,\n",
              " <matplotlib.axis.XTick at 0x7f43f901a710>,\n",
              " <matplotlib.axis.XTick at 0x7f43f901a210>,\n",
              " <matplotlib.axis.XTick at 0x7f43fa342e50>,\n",
              " <matplotlib.axis.XTick at 0x7f43f901ad90>,\n",
              " <matplotlib.axis.XTick at 0x7f43fa209310>,\n",
              " <matplotlib.axis.XTick at 0x7f43fa342b10>,\n",
              " Text(0, 0, '0%'),\n",
              " Text(0, 0, '10%'),\n",
              " Text(0, 0, '20%'),\n",
              " Text(0, 0, '30%'),\n",
              " Text(0, 0, '40%'),\n",
              " Text(0, 0, '50%'),\n",
              " Text(0, 0, '60%'),\n",
              " Text(0, 0, '70%'),\n",
              " Text(0, 0, '80%'),\n",
              " Text(0, 0, '90%'),\n",
              " Text(0, 0, '100%')]"
            ]
          },
          "execution_count": 28,
          "metadata": {},
          "output_type": "execute_result"
        },
        {
          "data": {
            "image/png": "[encoded data removed]",
            "text/plain": [
              "<Figure size 1080x360 with 3 Axes>"
            ]
          },
          "metadata": {
            "needs_background": "light"
          },
          "output_type": "display_data"
        }
      ],
      "source": [
        "fig, axes = plt.subplots(1, 3, figsize=(15, 5))\n",
        "\n",
        "# tests in D_in\n",
        "diffs_per_class_D_in = study_perturbations(target_model, train_images[train_idx], train_labels[train_idx], r, d) \n",
        "total_diffs_in = sum(diffs_per_class_D_in)/10\n",
        "axes[0].set_title('D_in predicted label divergence');\n",
        "axes[0].barh(list(range(10)), diffs_per_class_D_in, tick_label=[f'Class-{i}' for i in range(10)])\n",
        "\n",
        "# tests in D_out  \n",
        "diffs_per_class_D_out= study_perturbations(target_model,attacker_images[test_idx],attacker_labels[test_idx], r, d)\n",
        "total_diffs_out = sum(diffs_per_class_D_out)/10\n",
        "axes[1].set_title('D_out predicted label divergence');\n",
        "axes[1].barh(list(range(10)), diffs_per_class_D_out, tick_label=[f'Class-{i}' for i in range(10)])\n",
        "\n",
        "axes[2].set_title('Total predicted label divergence percentage');\n",
        "axes[2].barh([1, 0], [total_diffs_in, total_diffs_out], tick_label=['In', 'Out'])\n",
        "\n",
        "plt.setp(axes, xticks=range(0, 101, 10), xticklabels=[f'{i}%' for i in range(0, 101, 10)])"
      ]
    },
    {
      "cell_type": "markdown",
      "metadata": {
        "id": "WZOpEdcmCMXX"
      },
      "source": [
        "## Attack a perturbation trained model\n",
        "\n",
        "- We will apply augmentations to the dataset and re-train the target model.\n",
        "- The attacker **does not** know our augmentation settings, so he will train with a normal dataset of zero augmentations\n",
        "- We want to measure the quality of the attack when the target tries to defend MIAs by adding perturbed images of data samples "
      ]
    },
    {
      "cell_type": "code",
      "execution_count": 29,
      "metadata": {
        "id": "4Cl0sR-1I_sG"
      },
      "outputs": [],
      "source": [
        "# We will defend against the same rotations and translations that the attack models uses (worst case for the attacker)\n",
        "rotates = create_rotates(r)\n",
        "translates = create_translates(d)\n",
        "\n",
        "X_train_aug = train_images\n",
        "X_eval_aug = eval_images\n",
        "y_train_aug = np.concatenate(tuple([train_labels] + [train_labels for rot in rotates] + [train_labels for tra in translates]))\n",
        "y_eval_aug = np.concatenate(tuple([eval_labels] + [eval_labels for rot in rotates] + [eval_labels for tra in translates]))\n",
        "\n",
        "\n",
        "\n",
        "for rot in rotates:\n",
        "  aug_x = apply_augment(train_images, rot, 'r')\n",
        "  X_train_aug = np.concatenate((X_train_aug,aug_x))\n",
        "  aug_x = apply_augment(eval_images, rot, 'r')\n",
        "  X_eval_aug = np.concatenate((X_eval_aug,aug_x))\n",
        "\n",
        "for tra in translates:\n",
        "  aug_x = apply_augment(train_images, tra, 'd')\n",
        "  X_train_aug = np.concatenate((X_train_aug,aug_x))\n",
        "  aug_x = apply_augment(eval_images, tra, 'd')\n",
        "  X_eval_aug = np.concatenate((X_eval_aug ,aug_x))\n"
      ]
    },
    {
      "cell_type": "code",
      "execution_count": 30,
      "metadata": {
        "colab": {
          "base_uri": "https://localhost:8080/"
        },
        "id": "JaNvyxztuwED",
        "outputId": "4d0291aa-721e-46e2-f13d-bf65207b07e2"
      },
      "outputs": [
        {
          "name": "stdout",
          "output_type": "stream",
          "text": [
            "Epoch 1/10\n",
            "2750/2750 [==============================] - 32s 12ms/step - loss: 0.9559 - accuracy: 0.6728 - val_loss: 2.1167 - val_accuracy: 0.5041\n",
            "Epoch 2/10\n",
            "2750/2750 [==============================] - 32s 12ms/step - loss: 0.2370 - accuracy: 0.9256 - val_loss: 3.0169 - val_accuracy: 0.5290\n",
            "Epoch 3/10\n",
            "2750/2750 [==============================] - 31s 11ms/step - loss: 0.1612 - accuracy: 0.9522 - val_loss: 3.8059 - val_accuracy: 0.5216\n",
            "Epoch 4/10\n",
            "2750/2750 [==============================] - 34s 12ms/step - loss: 0.1366 - accuracy: 0.9618 - val_loss: 3.6493 - val_accuracy: 0.5168\n",
            "Epoch 5/10\n",
            "2750/2750 [==============================] - 31s 11ms/step - loss: 0.1161 - accuracy: 0.9687 - val_loss: 4.0856 - val_accuracy: 0.5143\n",
            "Epoch 6/10\n",
            "2750/2750 [==============================] - 35s 13ms/step - loss: 0.1151 - accuracy: 0.9698 - val_loss: 4.9101 - val_accuracy: 0.5225\n",
            "Epoch 7/10\n",
            "2750/2750 [==============================] - 35s 13ms/step - loss: 0.1116 - accuracy: 0.9724 - val_loss: 5.0081 - val_accuracy: 0.5160\n",
            "Epoch 8/10\n",
            "2750/2750 [==============================] - 36s 13ms/step - loss: 0.1123 - accuracy: 0.9733 - val_loss: 5.5280 - val_accuracy: 0.5055\n",
            "Epoch 9/10\n",
            "2750/2750 [==============================] - 34s 13ms/step - loss: 0.1068 - accuracy: 0.9766 - val_loss: 5.7763 - val_accuracy: 0.5006\n",
            "Epoch 10/10\n",
            "2750/2750 [==============================] - 35s 13ms/step - loss: 0.0957 - accuracy: 0.9787 - val_loss: 6.5052 - val_accuracy: 0.5153\n"
          ]
        }
      ],
      "source": [
        "\n",
        "with tf.device('/gpu:0'):\n",
        "  X_train_aug = tf.convert_to_tensor(X_train_aug)\n",
        "  y_train_aug = tf.convert_to_tensor(y_train_aug)\n",
        "  X_eval_aug = tf.convert_to_tensor(X_eval_aug)\n",
        "  y_eval_aug = tf.convert_to_tensor(y_eval_aug)\n",
        "  target_model = f_target(X_train_aug, y_train_aug, X_eval_aug, y_eval_aug, epochs=10) "
      ]
    },
    {
      "cell_type": "markdown",
      "metadata": {
        "id": "bsRYuPrCUBWl"
      },
      "source": [
        "The model is quite overfitted so now all that is left is to evaluate the attack model we created before on the newly trained and \"defended\" target model with perturbations in the train dataset."
      ]
    },
    {
      "cell_type": "code",
      "execution_count": 31,
      "metadata": {
        "colab": {
          "base_uri": "https://localhost:8080/"
        },
        "id": "zyt1sD06SBFa",
        "outputId": "f6e1d45c-baec-40ea-c677-5277a94e6fd2"
      },
      "outputs": [
        {
          "name": "stdout",
          "output_type": "stream",
          "text": [
            "Testing with 'in' data only:\n",
            "class-1: 0.9375\n",
            "class-2: 0.982758641242981\n",
            "class-3: 0.9572649598121643\n",
            "class-4: 0.9784946441650391\n",
            "class-5: 0.9818181991577148\n",
            "class-6: 1.0\n",
            "class-7: 0.991525411605835\n",
            "class-8: 1.0\n",
            "class-9: 0.967391312122345\n",
            "class-10: 0.9882352948188782\n",
            "\n",
            "Testing with 'out' data only:\n",
            "class-1: 0.529411792755127\n",
            "class-2: 0.3737373650074005\n",
            "class-3: 0.6455696225166321\n",
            "class-4: 0.7755101919174194\n",
            "class-5: 0.5636363625526428\n",
            "class-6: 0.457446813583374\n",
            "class-7: 0.4020618498325348\n",
            "class-8: 0.39830508828163147\n",
            "class-9: 0.3333333432674408\n",
            "class-10: 0.4157303273677826\n",
            "\n",
            "Testing with all prev data: \n",
            "class-1: 0.708791196346283\n",
            "class-2: 0.7023255825042725\n",
            "class-3: 0.831632673740387\n",
            "class-4: 0.8743455410003662\n",
            "class-5: 0.7727272510528564\n",
            "class-6: 0.725806474685669\n",
            "class-7: 0.7255814075469971\n",
            "class-8: 0.669767439365387\n",
            "class-9: 0.6165048480033875\n",
            "class-10: 0.6954023241996765\n",
            "\n",
            "Total attack accuracy: 0.7322884738445282\n"
          ]
        }
      ],
      "source": [
        "D_in = prepare_batch(target_model, train_images[:1000], train_labels[:1000], True)\n",
        "print(\"Testing with 'in' data only:\")\n",
        "res_in = evaluate_attack(attack_model_bundle, D_in[:, :-1], D_in[:, -1], 10)\n",
        "\n",
        "D_out = prepare_batch(target_model, attacker_images[:1000], attacker_labels[:1000], False)\n",
        "print(\"\\nTesting with 'out' data only:\")\n",
        "res_out = evaluate_attack(attack_model_bundle, D_out[:, :-1], D_out[:, -1], 10)\n",
        "\n",
        "print(\"\\nTesting with all prev data: \")\n",
        "res_all = evaluate_attack(attack_model_bundle, np.concatenate((D_out[:, :-1], D_in[:, :-1])), np.concatenate((D_out[:, -1], D_in[:, -1])), 10)\n",
        "\n",
        "print(f\"\\nTotal attack accuracy: {np.mean(res_all)}\")"
      ]
    },
    {
      "cell_type": "markdown",
      "metadata": {
        "id": "fW_JINmBUgd_"
      },
      "source": [
        "### Conclusion\n",
        "\n",
        "To conclude if the model is more vulnerable, we must meassure the label divergence percentage in the adjusted-to-augmentations model."
      ]
    },
    {
      "cell_type": "code",
      "execution_count": 32,
      "metadata": {
        "colab": {
          "base_uri": "https://localhost:8080/",
          "height": 1000
        },
        "id": "OWDU6N1uSCnA",
        "outputId": "b02c5fbc-eb7e-4911-dec4-7d02cf29b946"
      },
      "outputs": [
        {
          "data": {
            "text/plain": [
              "[<matplotlib.axis.XTick at 0x7f43fa8e00d0>,\n",
              " <matplotlib.axis.XTick at 0x7f43fa8e0310>,\n",
              " <matplotlib.axis.XTick at 0x7f43ff178fd0>,\n",
              " <matplotlib.axis.XTick at 0x7f43f8c6e090>,\n",
              " <matplotlib.axis.XTick at 0x7f43fa1b77d0>,\n",
              " <matplotlib.axis.XTick at 0x7f43f8c79250>,\n",
              " <matplotlib.axis.XTick at 0x7f43ff176710>,\n",
              " <matplotlib.axis.XTick at 0x7f43f8ac9190>,\n",
              " <matplotlib.axis.XTick at 0x7f440007c490>,\n",
              " <matplotlib.axis.XTick at 0x7f43ff176dd0>,\n",
              " <matplotlib.axis.XTick at 0x7f43f8e28350>,\n",
              " Text(0, 0, '0%'),\n",
              " Text(0, 0, '10%'),\n",
              " Text(0, 0, '20%'),\n",
              " Text(0, 0, '30%'),\n",
              " Text(0, 0, '40%'),\n",
              " Text(0, 0, '50%'),\n",
              " Text(0, 0, '60%'),\n",
              " Text(0, 0, '70%'),\n",
              " Text(0, 0, '80%'),\n",
              " Text(0, 0, '90%'),\n",
              " Text(0, 0, '100%'),\n",
              " <matplotlib.axis.XTick at 0x7f43f8baca10>,\n",
              " <matplotlib.axis.XTick at 0x7f43fa30a050>,\n",
              " <matplotlib.axis.XTick at 0x7f43f8cfef90>,\n",
              " <matplotlib.axis.XTick at 0x7f43f8ea6090>,\n",
              " <matplotlib.axis.XTick at 0x7f43f8b13e10>,\n",
              " <matplotlib.axis.XTick at 0x7f43fa9275d0>,\n",
              " <matplotlib.axis.XTick at 0x7f43ffb482d0>,\n",
              " <matplotlib.axis.XTick at 0x7f43f8fbce10>,\n",
              " <matplotlib.axis.XTick at 0x7f43f8f225d0>,\n",
              " <matplotlib.axis.XTick at 0x7f43f8f22790>,\n",
              " <matplotlib.axis.XTick at 0x7f43fa9276d0>,\n",
              " Text(0, 0, '0%'),\n",
              " Text(0, 0, '10%'),\n",
              " Text(0, 0, '20%'),\n",
              " Text(0, 0, '30%'),\n",
              " Text(0, 0, '40%'),\n",
              " Text(0, 0, '50%'),\n",
              " Text(0, 0, '60%'),\n",
              " Text(0, 0, '70%'),\n",
              " Text(0, 0, '80%'),\n",
              " Text(0, 0, '90%'),\n",
              " Text(0, 0, '100%'),\n",
              " <matplotlib.axis.XTick at 0x7f43f8accd10>,\n",
              " <matplotlib.axis.XTick at 0x7f43f8acc710>,\n",
              " <matplotlib.axis.XTick at 0x7f43f8accf50>,\n",
              " <matplotlib.axis.XTick at 0x7f43ffbdbf10>,\n",
              " <matplotlib.axis.XTick at 0x7f43ffbdbc90>,\n",
              " <matplotlib.axis.XTick at 0x7f43ffbdb910>,\n",
              " <matplotlib.axis.XTick at 0x7f43f8bae690>,\n",
              " <matplotlib.axis.XTick at 0x7f43ffa0ced0>,\n",
              " <matplotlib.axis.XTick at 0x7f43fa271890>,\n",
              " <matplotlib.axis.XTick at 0x7f4400071f10>,\n",
              " <matplotlib.axis.XTick at 0x7f4400071150>,\n",
              " Text(0, 0, '0%'),\n",
              " Text(0, 0, '10%'),\n",
              " Text(0, 0, '20%'),\n",
              " Text(0, 0, '30%'),\n",
              " Text(0, 0, '40%'),\n",
              " Text(0, 0, '50%'),\n",
              " Text(0, 0, '60%'),\n",
              " Text(0, 0, '70%'),\n",
              " Text(0, 0, '80%'),\n",
              " Text(0, 0, '90%'),\n",
              " Text(0, 0, '100%')]"
            ]
          },
          "execution_count": 32,
          "metadata": {},
          "output_type": "execute_result"
        },
        {
          "data": {
            "image/png": "[encoded data removed]",
            "text/plain": [
              "<Figure size 1080x360 with 3 Axes>"
            ]
          },
          "metadata": {
            "needs_background": "light"
          },
          "output_type": "display_data"
        }
      ],
      "source": [
        "# test it onthe same data as we tested the non-adjusted to augmentation model\n",
        "fig, axes = plt.subplots(1, 3, figsize=(15, 5))\n",
        "\n",
        "# tests in D_in\n",
        "diffs_per_class_D_in = study_perturbations(target_model, train_images[train_idx], train_labels[train_idx], r, d) \n",
        "total_diffs_in = sum(diffs_per_class_D_in)/10\n",
        "axes[0].set_title('D_in predicted label divergence');\n",
        "axes[0].barh(list(range(10)), diffs_per_class_D_in, tick_label=[f'Class-{i}' for i in range(10)])\n",
        "\n",
        "# tests in D_out  \n",
        "diffs_per_class_D_out= study_perturbations(target_model,attacker_images[test_idx],attacker_labels[test_idx], r, d)\n",
        "total_diffs_out = sum(diffs_per_class_D_out)/10\n",
        "axes[1].set_title('D_out predicted label divergence');\n",
        "axes[1].barh(list(range(10)), diffs_per_class_D_out, tick_label=[f'Class-{i}' for i in range(10)])\n",
        "\n",
        "axes[2].set_title('Total predicted label divergence percentage');\n",
        "axes[2].barh([1, 0], [total_diffs_in, total_diffs_out], tick_label=['In', 'Out'])\n",
        "\n",
        "plt.setp(axes, xticks=range(0, 101, 10), xticklabels=[f'{i}%' for i in range(0, 101, 10)])"
      ]
    },
    {
      "cell_type": "markdown",
      "metadata": {
        "id": "VVyVo6yukPGH"
      },
      "source": [
        "We can see that the general percentage of predicted label divergence has fallen, **but** the confidence of the ML algorithm in predicting the label of perturbed instances of instances in $D_{in}$ is even higher that before. This means that the adjusted model is even more vulnerable. Next step is to run all that with a well-generalized model and tune the attack model to get max accuracy."
      ]
    },
    {
      "cell_type": "code",
      "execution_count": null,
      "metadata": {
        "id": "AXk2DEHBc9i9"
      },
      "outputs": [],
      "source": []
    }
  ],
  "metadata": {
    "accelerator": "GPU",
    "colab": {
      "collapsed_sections": [],
      "name": "cifar_10_labels_only_mia.ipynb",
      "provenance": [],
      "toc_visible": true
    },
    "kernelspec": {
      "display_name": "Python 3",
      "name": "python3"
    },
    "language_info": {
      "codemirror_mode": {
        "name": "ipython",
        "version": 3
      },
      "file_extension": ".py",
      "mimetype": "text/x-python",
      "name": "python",
      "nbconvert_exporter": "python",
      "pygments_lexer": "ipython3",
      "version": "3.8.10"
    }
  },
  "nbformat": 4,
  "nbformat_minor": 0
}
