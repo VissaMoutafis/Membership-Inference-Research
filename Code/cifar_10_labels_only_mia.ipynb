{
  "nbformat": 4,
  "nbformat_minor": 0,
  "metadata": {
    "accelerator": "GPU",
    "colab": {
      "name": "cifar_10_labels_only_mia.ipynb",
      "provenance": [],
      "collapsed_sections": [],
      "toc_visible": true
    },
    "kernelspec": {
      "display_name": "Python 3",
      "name": "python3"
    },
    "language_info": {
      "name": "python"
    }
  },
  "cells": [
    {
      "cell_type": "markdown",
      "metadata": {
        "id": "2vzAuc5Xo3j2"
      },
      "source": [
        "# Label Only Membership Inference (Revisited on points)\n",
        "\n",
        "### Threat Model:\n",
        "\n",
        "- **Black Box** access to an overfitted classifier with no access to actual $D_{train}$\n",
        "- Predict API returns **only labels instead of confidence vectors**\n",
        "- We have some insight on the training data distribution, $D_{out}$ , **but** $D_{train} \\cap D_{out} = \\varnothing$\n",
        "\n",
        "\n",
        "### Attack Target: \n",
        "- Use a shadow model to attack local shadow models and extract membership leakage features\n",
        "- Use data perturbations in order to exploit test/training data approximation relevancies to the classification boundaries.\n",
        "- Perfom the boundary-based attack on the actual model\n",
        "\n",
        "### Evaluation Target\n",
        "- Score over $50\\%$ accuracy\n",
        "- Train attack model based on this assumption and compare with conf-vector attack\n",
        "\n",
        "Implemented based on [this paper](https://arxiv.org/abs/2007.14321)."
      ]
    },
    {
      "cell_type": "code",
      "metadata": {
        "colab": {
          "base_uri": "https://localhost:8080/"
        },
        "id": "tg_WQJ7j5n3B",
        "outputId": "e3d7b3a3-9875-4164-a3b7-b0e26df471b1"
      },
      "source": [
        "import numpy as np\n",
        "import matplotlib.pyplot as plt\n",
        "\n",
        "import math\n",
        "import tensorflow as tf\n",
        "from tensorflow.keras import datasets, layers, models\n",
        "from sklearn.model_selection import train_test_split\n",
        "from tensorflow import keras\n",
        "from tensorflow.keras import regularizers\n",
        "\n",
        "# for image interpolation\n",
        "import scipy.ndimage.interpolation as interpolation\n",
        "\n",
        "from sklearn.metrics import roc_auc_score, roc_curve\n",
        "from sklearn.metrics import classification_report\n",
        "\n",
        "\n",
        "from tqdm import tqdm\n",
        "import sys\n",
        "print(\"Num GPUs Available: \", len(tf.config.list_physical_devices('GPU')))\n"
      ],
      "execution_count": 143,
      "outputs": [
        {
          "output_type": "stream",
          "name": "stdout",
          "text": [
            "Num GPUs Available:  1\n"
          ]
        }
      ]
    },
    {
      "cell_type": "markdown",
      "metadata": {
        "id": "5Kv7Qon0qRTk"
      },
      "source": [
        "## Target Model\n",
        "\n",
        "### Model Architecture\n",
        "- 2 layers of 32 $3\\times 3$ Conv2D filters with Max Pooling\n",
        "- 2 layers of 64 $3\\times 3$ Conv2D filters with MaxPooling\n",
        "- Dense Layer of 512 neurons\n",
        "- Dense Output layer of 10 neurons\n",
        "- Each layer has ReLU activation\n"
      ]
    },
    {
      "cell_type": "code",
      "metadata": {
        "id": "zacp4ArauIET"
      },
      "source": [
        "D_TARGET_SIZE = 2500"
      ],
      "execution_count": 144,
      "outputs": []
    },
    {
      "cell_type": "code",
      "metadata": {
        "id": "1qg7LkXX0zOF"
      },
      "source": [
        "def f_target(X_train, y_train, X_test=None, y_test=None, epochs=100):\n",
        "  \"\"\"\n",
        "  Returns a trained target model, if test data are specified we will evaluate the model and print its accuracy\n",
        "  \"\"\"\n",
        "  model = models.Sequential()\n",
        "  model.add(layers.Conv2D(32, (3, 3), activation='relu', input_shape=(32, 32, 3)))\n",
        "  model.add(layers.Conv2D(32, (3, 3), activation='relu', input_shape=(32, 32, 3)))\n",
        "  model.add(layers.MaxPooling2D((2, 2)))\n",
        "  model.add(layers.Conv2D(64, (3, 3), activation='relu'))\n",
        "  model.add(layers.Conv2D(64, (3, 3), activation='relu'))\n",
        "  model.add(layers.MaxPooling2D((2, 2)))\n",
        "\n",
        "  model.add(layers.Flatten())\n",
        "  model.add(layers.Dense(512, activation='relu'))\n",
        "\n",
        "  model.add(layers.Dense(10))\n",
        "  \n",
        "  optimizer = keras.optimizers.Adam(learning_rate=0.001)\n",
        "  model.compile(optimizer=optimizer,\n",
        "              loss=tf.keras.losses.SparseCategoricalCrossentropy(from_logits=True),\n",
        "              metrics=['accuracy'])\n",
        "  if X_test is None or y_test is None:\n",
        "    history = model.fit(X_train, y_train, epochs=epochs, \n",
        "                    validation_split=0.2)\n",
        "  else:\n",
        "    history = model.fit(X_train, y_train, epochs=epochs, \n",
        "                    validation_data=(X_test, y_test))\n",
        "  return model"
      ],
      "execution_count": 145,
      "outputs": []
    },
    {
      "cell_type": "code",
      "metadata": {
        "id": "oy2NLipP75sX"
      },
      "source": [
        "with tf.device('/gpu:0'):\n",
        "  (train_images, train_labels), (test_images, test_labels) = datasets.cifar10.load_data()\n",
        "  # use the rest as testing - 'out' records\n",
        "  attacker_labels = np.concatenate((train_labels[D_TARGET_SIZE:], test_labels))\n",
        "  attacker_images = np.concatenate((train_images[D_TARGET_SIZE:], test_images))\n",
        "\n",
        "  target_images = train_images[:D_TARGET_SIZE]\n",
        "  target_labels = train_labels[:D_TARGET_SIZE]\n"
      ],
      "execution_count": 146,
      "outputs": []
    },
    {
      "cell_type": "code",
      "metadata": {
        "colab": {
          "base_uri": "https://localhost:8080/"
        },
        "id": "Ap02yKRT76RJ",
        "outputId": "48a53ec8-eda1-444e-d167-18f4ba4426f0"
      },
      "source": [
        "with tf.device('/gpu:0'):\n",
        "  train_images, eval_images, train_labels, eval_labels = train_test_split(target_images, target_labels, test_size=0.2, shuffle=True)\n",
        "  target_model = f_target(train_images, train_labels, eval_images, eval_labels, epochs=50) "
      ],
      "execution_count": 173,
      "outputs": [
        {
          "output_type": "stream",
          "name": "stdout",
          "text": [
            "Epoch 1/50\n",
            "63/63 [==============================] - 2s 17ms/step - loss: 4.7242 - accuracy: 0.1270 - val_loss: 2.2428 - val_accuracy: 0.1520\n",
            "Epoch 2/50\n",
            "63/63 [==============================] - 1s 13ms/step - loss: 2.0672 - accuracy: 0.2605 - val_loss: 2.0127 - val_accuracy: 0.2740\n",
            "Epoch 3/50\n",
            "63/63 [==============================] - 1s 14ms/step - loss: 1.7277 - accuracy: 0.3950 - val_loss: 1.9360 - val_accuracy: 0.3400\n",
            "Epoch 4/50\n",
            "63/63 [==============================] - 1s 14ms/step - loss: 1.3751 - accuracy: 0.5205 - val_loss: 1.8412 - val_accuracy: 0.3500\n",
            "Epoch 5/50\n",
            "63/63 [==============================] - 1s 13ms/step - loss: 1.0473 - accuracy: 0.6400 - val_loss: 1.9409 - val_accuracy: 0.3500\n",
            "Epoch 6/50\n",
            "63/63 [==============================] - 1s 14ms/step - loss: 0.7166 - accuracy: 0.7660 - val_loss: 2.1337 - val_accuracy: 0.3580\n",
            "Epoch 7/50\n",
            "63/63 [==============================] - 1s 13ms/step - loss: 0.4423 - accuracy: 0.8535 - val_loss: 2.4419 - val_accuracy: 0.3840\n",
            "Epoch 8/50\n",
            "63/63 [==============================] - 1s 14ms/step - loss: 0.2509 - accuracy: 0.9220 - val_loss: 3.0021 - val_accuracy: 0.3320\n",
            "Epoch 9/50\n",
            "63/63 [==============================] - 1s 13ms/step - loss: 0.1790 - accuracy: 0.9515 - val_loss: 3.7982 - val_accuracy: 0.3480\n",
            "Epoch 10/50\n",
            "63/63 [==============================] - 1s 14ms/step - loss: 0.1997 - accuracy: 0.9415 - val_loss: 3.4723 - val_accuracy: 0.3380\n",
            "Epoch 11/50\n",
            "63/63 [==============================] - 1s 13ms/step - loss: 0.1630 - accuracy: 0.9520 - val_loss: 3.8186 - val_accuracy: 0.3160\n",
            "Epoch 12/50\n",
            "63/63 [==============================] - 1s 12ms/step - loss: 0.0843 - accuracy: 0.9765 - val_loss: 3.9345 - val_accuracy: 0.3820\n",
            "Epoch 13/50\n",
            "63/63 [==============================] - 1s 12ms/step - loss: 0.0602 - accuracy: 0.9790 - val_loss: 4.4399 - val_accuracy: 0.3520\n",
            "Epoch 14/50\n",
            "63/63 [==============================] - 1s 14ms/step - loss: 0.0741 - accuracy: 0.9810 - val_loss: 4.1935 - val_accuracy: 0.3520\n",
            "Epoch 15/50\n",
            "63/63 [==============================] - 1s 13ms/step - loss: 0.0105 - accuracy: 0.9995 - val_loss: 4.2889 - val_accuracy: 0.4000\n",
            "Epoch 16/50\n",
            "63/63 [==============================] - 1s 14ms/step - loss: 0.0027 - accuracy: 1.0000 - val_loss: 4.5030 - val_accuracy: 0.3900\n",
            "Epoch 17/50\n",
            "63/63 [==============================] - 1s 13ms/step - loss: 0.0010 - accuracy: 1.0000 - val_loss: 4.6042 - val_accuracy: 0.3840\n",
            "Epoch 18/50\n",
            "63/63 [==============================] - 1s 13ms/step - loss: 5.7120e-04 - accuracy: 1.0000 - val_loss: 4.7011 - val_accuracy: 0.3900\n",
            "Epoch 19/50\n",
            "63/63 [==============================] - 1s 13ms/step - loss: 4.3946e-04 - accuracy: 1.0000 - val_loss: 4.8026 - val_accuracy: 0.3880\n",
            "Epoch 20/50\n",
            "63/63 [==============================] - 1s 13ms/step - loss: 3.4896e-04 - accuracy: 1.0000 - val_loss: 4.8728 - val_accuracy: 0.3880\n",
            "Epoch 21/50\n",
            "63/63 [==============================] - 1s 14ms/step - loss: 2.9834e-04 - accuracy: 1.0000 - val_loss: 4.9408 - val_accuracy: 0.3920\n",
            "Epoch 22/50\n",
            "63/63 [==============================] - 1s 13ms/step - loss: 2.5624e-04 - accuracy: 1.0000 - val_loss: 4.9994 - val_accuracy: 0.3900\n",
            "Epoch 23/50\n",
            "63/63 [==============================] - 1s 15ms/step - loss: 2.2242e-04 - accuracy: 1.0000 - val_loss: 5.0568 - val_accuracy: 0.3900\n",
            "Epoch 24/50\n",
            "63/63 [==============================] - 1s 17ms/step - loss: 1.9761e-04 - accuracy: 1.0000 - val_loss: 5.1067 - val_accuracy: 0.3880\n",
            "Epoch 25/50\n",
            "63/63 [==============================] - 1s 16ms/step - loss: 1.7587e-04 - accuracy: 1.0000 - val_loss: 5.1580 - val_accuracy: 0.3900\n",
            "Epoch 26/50\n",
            "63/63 [==============================] - 1s 15ms/step - loss: 1.5806e-04 - accuracy: 1.0000 - val_loss: 5.2043 - val_accuracy: 0.3900\n",
            "Epoch 27/50\n",
            "63/63 [==============================] - 1s 17ms/step - loss: 1.4315e-04 - accuracy: 1.0000 - val_loss: 5.2434 - val_accuracy: 0.3900\n",
            "Epoch 28/50\n",
            "63/63 [==============================] - 1s 22ms/step - loss: 1.2969e-04 - accuracy: 1.0000 - val_loss: 5.2867 - val_accuracy: 0.3900\n",
            "Epoch 29/50\n",
            "63/63 [==============================] - 1s 19ms/step - loss: 1.1881e-04 - accuracy: 1.0000 - val_loss: 5.3238 - val_accuracy: 0.3900\n",
            "Epoch 30/50\n",
            "63/63 [==============================] - 1s 20ms/step - loss: 1.0834e-04 - accuracy: 1.0000 - val_loss: 5.3614 - val_accuracy: 0.3920\n",
            "Epoch 31/50\n",
            "63/63 [==============================] - 1s 20ms/step - loss: 1.0009e-04 - accuracy: 1.0000 - val_loss: 5.3955 - val_accuracy: 0.3920\n",
            "Epoch 32/50\n",
            "63/63 [==============================] - 1s 21ms/step - loss: 9.2173e-05 - accuracy: 1.0000 - val_loss: 5.4336 - val_accuracy: 0.3920\n",
            "Epoch 33/50\n",
            "63/63 [==============================] - 1s 22ms/step - loss: 8.5060e-05 - accuracy: 1.0000 - val_loss: 5.4698 - val_accuracy: 0.3920\n",
            "Epoch 34/50\n",
            "63/63 [==============================] - 1s 23ms/step - loss: 7.8765e-05 - accuracy: 1.0000 - val_loss: 5.5013 - val_accuracy: 0.3940\n",
            "Epoch 35/50\n",
            "63/63 [==============================] - 1s 20ms/step - loss: 7.4267e-05 - accuracy: 1.0000 - val_loss: 5.5319 - val_accuracy: 0.3940\n",
            "Epoch 36/50\n",
            "63/63 [==============================] - 1s 20ms/step - loss: 6.8255e-05 - accuracy: 1.0000 - val_loss: 5.5670 - val_accuracy: 0.3940\n",
            "Epoch 37/50\n",
            "63/63 [==============================] - 1s 19ms/step - loss: 6.3812e-05 - accuracy: 1.0000 - val_loss: 5.5974 - val_accuracy: 0.3920\n",
            "Epoch 38/50\n",
            "63/63 [==============================] - 1s 20ms/step - loss: 5.9429e-05 - accuracy: 1.0000 - val_loss: 5.6206 - val_accuracy: 0.3960\n",
            "Epoch 39/50\n",
            "63/63 [==============================] - 2s 24ms/step - loss: 5.5895e-05 - accuracy: 1.0000 - val_loss: 5.6491 - val_accuracy: 0.3940\n",
            "Epoch 40/50\n",
            "63/63 [==============================] - 1s 20ms/step - loss: 5.2310e-05 - accuracy: 1.0000 - val_loss: 5.6813 - val_accuracy: 0.3920\n",
            "Epoch 41/50\n",
            "63/63 [==============================] - 1s 16ms/step - loss: 4.9078e-05 - accuracy: 1.0000 - val_loss: 5.7075 - val_accuracy: 0.3920\n",
            "Epoch 42/50\n",
            "63/63 [==============================] - 1s 17ms/step - loss: 4.6056e-05 - accuracy: 1.0000 - val_loss: 5.7361 - val_accuracy: 0.3920\n",
            "Epoch 43/50\n",
            "63/63 [==============================] - 1s 19ms/step - loss: 4.3587e-05 - accuracy: 1.0000 - val_loss: 5.7627 - val_accuracy: 0.3900\n",
            "Epoch 44/50\n",
            "63/63 [==============================] - 1s 17ms/step - loss: 4.1107e-05 - accuracy: 1.0000 - val_loss: 5.7923 - val_accuracy: 0.3920\n",
            "Epoch 45/50\n",
            "63/63 [==============================] - 1s 18ms/step - loss: 3.8733e-05 - accuracy: 1.0000 - val_loss: 5.8146 - val_accuracy: 0.3900\n",
            "Epoch 46/50\n",
            "63/63 [==============================] - 1s 16ms/step - loss: 3.6564e-05 - accuracy: 1.0000 - val_loss: 5.8412 - val_accuracy: 0.3900\n",
            "Epoch 47/50\n",
            "63/63 [==============================] - 1s 16ms/step - loss: 3.4843e-05 - accuracy: 1.0000 - val_loss: 5.8594 - val_accuracy: 0.3900\n",
            "Epoch 48/50\n",
            "63/63 [==============================] - 1s 18ms/step - loss: 3.2797e-05 - accuracy: 1.0000 - val_loss: 5.8857 - val_accuracy: 0.3900\n",
            "Epoch 49/50\n",
            "63/63 [==============================] - 1s 16ms/step - loss: 3.1167e-05 - accuracy: 1.0000 - val_loss: 5.9149 - val_accuracy: 0.3880\n",
            "Epoch 50/50\n",
            "63/63 [==============================] - 1s 18ms/step - loss: 2.9498e-05 - accuracy: 1.0000 - val_loss: 5.9365 - val_accuracy: 0.3880\n"
          ]
        }
      ]
    },
    {
      "cell_type": "markdown",
      "metadata": {
        "id": "Cw9I5lKSrSsU"
      },
      "source": [
        "### Target Model prediction API\n",
        "Provide the users with a prediction API call that returns only the predicted label/"
      ]
    },
    {
      "cell_type": "code",
      "metadata": {
        "id": "xvocFuQeVLsM"
      },
      "source": [
        "# API of model to get predictions : returns labels only\n",
        "def target_predict(model, X):\n",
        "  prob = layers.Softmax()\n",
        "  ret = prob(model.predict(X)).numpy()\n",
        "  return np.apply_along_axis(np.argmax, 1, ret).reshape((-1, 1))"
      ],
      "execution_count": 148,
      "outputs": []
    },
    {
      "cell_type": "markdown",
      "source": [
        "### Perturbed Instance Behaviour\n",
        "\n",
        "Following we will apply some perturbations to data instances from in and out of $D_{target}$ and we will count how the predicted label change in respect to this perturbations, according to each class."
      ],
      "metadata": {
        "id": "l--0MCg-elRq"
      }
    },
    {
      "cell_type": "markdown",
      "source": [
        "### Conclusion\n",
        "\n",
        "So we can see that the data outside of training set are quite sensitive to perturbations, while the targets training data instances are a little more robust."
      ],
      "metadata": {
        "id": "WMTHfKgHwEVe"
      }
    },
    {
      "cell_type": "markdown",
      "metadata": {
        "id": "-H0PYHLFrWJ1"
      },
      "source": [
        "\n",
        "\n",
        "## Shadow Models\n",
        "Following we define our own shadow models\n",
        "\n",
        "### Shadow Model Architecture\n",
        "- 3 CNN layers of $32, 64, 128$ filters of size $3 \\times 3$ with MaxPooling and ReLU activation\n",
        "- Dense Layer of 128 nodes\n",
        "- Dense Layer of 10 nodes as Output layer\n",
        "\n",
        "All output logits pass through Softmax Unit as in the target model to acquire probability vectors\n",
        "\n",
        "\n",
        "\n",
        "### Shadow Dataset Composition\n",
        "\n",
        "We just divide the CIFAR-10 dataset to $D_{out}$ and $D_{train}$ such as $D_{train} \\cap D_{out} = \\varnothing$ and use $D_{out}$ in order to train/test shadow models and attack model."
      ]
    },
    {
      "cell_type": "code",
      "metadata": {
        "id": "2GWyCXmmwIiJ"
      },
      "source": [
        "N_SHADOWS = 5\n",
        "D_SHADOW_SIZE = 1000"
      ],
      "execution_count": 149,
      "outputs": []
    },
    {
      "cell_type": "code",
      "metadata": {
        "id": "2rwhySHfVQjV"
      },
      "source": [
        "def f_shadow(X_train, y_train, X_test=None, y_test=None, epochs=25):\n",
        "  model = models.Sequential()\n",
        "  model.add(layers.Conv2D(32, (3, 3), activation='relu', input_shape=(32, 32, 3)))\n",
        "  model.add(layers.MaxPooling2D((2, 2)))\n",
        "  model.add(layers.Conv2D(64, (3, 3), activation='relu'))\n",
        "  model.add(layers.MaxPooling2D((2, 2)))\n",
        "  model.add(layers.Conv2D(128, (3, 3), activation='relu'))\n",
        "  model.add(layers.MaxPooling2D((2, 2)))\n",
        "  \n",
        "  \n",
        "  model.add(layers.Flatten())\n",
        "  model.add(layers.Dense(128, activation='relu'))\n",
        "\n",
        "  model.add(layers.Dense(10)   )\n",
        "  \n",
        "  optimizer = keras.optimizers.Adam()\n",
        "  model.compile(optimizer=optimizer,\n",
        "              loss=tf.keras.losses.SparseCategoricalCrossentropy(from_logits=True),\n",
        "              metrics=['accuracy'])\n",
        "  if X_test is None or y_test is None:\n",
        "    history = model.fit(X_train, y_train, epochs=epochs, \n",
        "                    validation_split=0.2)\n",
        "  else:\n",
        "    history = model.fit(X_train, y_train, epochs=epochs, \n",
        "                    validation_data=(X_test, y_test))\n",
        "  return model"
      ],
      "execution_count": 150,
      "outputs": []
    },
    {
      "cell_type": "code",
      "metadata": {
        "id": "sliyw7xO2PTg"
      },
      "source": [
        "\n",
        "def divide_dataset(n_shadows, shadow_dataset_size, X, y):\n",
        "  D_shadows = []\n",
        "  for i in range(n_shadows):\n",
        "    sample_i = np.random.choice(range(X.shape[0]), shadow_dataset_size, replace=False)\n",
        "    assert np.unique(sample_i).shape[0] == shadow_dataset_size # sanity check\n",
        "    D_shadows.append((X[sample_i, :], y[sample_i, :]))\n",
        "  return D_shadows\n",
        "\n",
        "# returns a list of 'n_shadows' datasets\n",
        "def generate_shadow_dataset(target_model, n_shadows, shadow_dataset_size, n_classes, attacker_X=None, attacker_y=None):\n",
        "  # param target model is not used yet\n",
        "\n",
        "\n",
        "  # in case we give test data we will just divide those to train the shadow models\n",
        "  if attacker_X is not None and attacker_y is not None:\n",
        "    return divide_dataset(n_shadows, shadow_dataset_size, attacker_X, attacker_y)\n",
        "  else:\n",
        "    raise ValueError(\"X and y provided are None.\")\n",
        "\n",
        "# returns list of (trained shadow_model, D_shadow)\n",
        "def create_shadows(D_shadows):\n",
        "  shadow_models = [] # shadow model list\n",
        "\n",
        "  for D_shadow in D_shadows:\n",
        "    # sample data to feed/evaluate the model\n",
        "    X_shadow, y_shadow = D_shadow\n",
        "    shadow_X_train, shadow_X_test, shadow_y_train, shadow_y_test = train_test_split(X_shadow, y_shadow, shuffle=True, test_size=0.33)\n",
        "\n",
        "    # generate the shadow model\n",
        "    shadow_model = f_shadow(shadow_X_train, shadow_y_train, shadow_X_test, shadow_y_test)\n",
        "\n",
        "    D_shadow = (shadow_X_train, shadow_y_train), (shadow_X_test, shadow_y_test)\n",
        "    shadow_models.append((shadow_model, D_shadow))\n",
        "\n",
        "  return shadow_models # return a list where every item is (model, acc), train-data, test-data"
      ],
      "execution_count": 151,
      "outputs": []
    },
    {
      "cell_type": "code",
      "metadata": {
        "id": "q3ziH9LP3CY5"
      },
      "source": [
        "# generate shadow datasets\n",
        "D_shadows = generate_shadow_dataset(target_model, N_SHADOWS, D_SHADOW_SIZE, 10, attacker_images, attacker_labels)"
      ],
      "execution_count": 152,
      "outputs": []
    },
    {
      "cell_type": "code",
      "metadata": {
        "id": "8dc8morl-NRP",
        "colab": {
          "base_uri": "https://localhost:8080/"
        },
        "outputId": "1f6c3e00-0ef0-4ebe-9f58-5fca7b30dc3c"
      },
      "source": [
        "# train the shadow models\n",
        "shadow_models = create_shadows(D_shadows)"
      ],
      "execution_count": 154,
      "outputs": [
        {
          "output_type": "stream",
          "name": "stdout",
          "text": [
            "Epoch 1/25\n",
            "21/21 [==============================] - 1s 22ms/step - loss: 19.5092 - accuracy: 0.1239 - val_loss: 3.3918 - val_accuracy: 0.1636\n",
            "Epoch 2/25\n",
            "21/21 [==============================] - 0s 12ms/step - loss: 2.6511 - accuracy: 0.1716 - val_loss: 2.2598 - val_accuracy: 0.2152\n",
            "Epoch 3/25\n",
            "21/21 [==============================] - 0s 12ms/step - loss: 2.1177 - accuracy: 0.2567 - val_loss: 2.1191 - val_accuracy: 0.2424\n",
            "Epoch 4/25\n",
            "21/21 [==============================] - 0s 13ms/step - loss: 1.8631 - accuracy: 0.3343 - val_loss: 1.9302 - val_accuracy: 0.3030\n",
            "Epoch 5/25\n",
            "21/21 [==============================] - 0s 12ms/step - loss: 1.6715 - accuracy: 0.4164 - val_loss: 1.9043 - val_accuracy: 0.3364\n",
            "Epoch 6/25\n",
            "21/21 [==============================] - 0s 12ms/step - loss: 1.4118 - accuracy: 0.5209 - val_loss: 1.9164 - val_accuracy: 0.3061\n",
            "Epoch 7/25\n",
            "21/21 [==============================] - 0s 11ms/step - loss: 1.2205 - accuracy: 0.5791 - val_loss: 1.8404 - val_accuracy: 0.3606\n",
            "Epoch 8/25\n",
            "21/21 [==============================] - 0s 12ms/step - loss: 0.9768 - accuracy: 0.6701 - val_loss: 1.9311 - val_accuracy: 0.3485\n",
            "Epoch 9/25\n",
            "21/21 [==============================] - 0s 12ms/step - loss: 0.8088 - accuracy: 0.7478 - val_loss: 1.9259 - val_accuracy: 0.3606\n",
            "Epoch 10/25\n",
            "21/21 [==============================] - 0s 11ms/step - loss: 0.6357 - accuracy: 0.8239 - val_loss: 2.0861 - val_accuracy: 0.3727\n",
            "Epoch 11/25\n",
            "21/21 [==============================] - 0s 11ms/step - loss: 0.4794 - accuracy: 0.8761 - val_loss: 2.1050 - val_accuracy: 0.3545\n",
            "Epoch 12/25\n",
            "21/21 [==============================] - 0s 13ms/step - loss: 0.3287 - accuracy: 0.9373 - val_loss: 2.1752 - val_accuracy: 0.4121\n",
            "Epoch 13/25\n",
            "21/21 [==============================] - 0s 13ms/step - loss: 0.2277 - accuracy: 0.9597 - val_loss: 2.4019 - val_accuracy: 0.3788\n",
            "Epoch 14/25\n",
            "21/21 [==============================] - 0s 13ms/step - loss: 0.1704 - accuracy: 0.9761 - val_loss: 2.2702 - val_accuracy: 0.3788\n",
            "Epoch 15/25\n",
            "21/21 [==============================] - 0s 19ms/step - loss: 0.1115 - accuracy: 0.9881 - val_loss: 2.3472 - val_accuracy: 0.4000\n",
            "Epoch 16/25\n",
            "21/21 [==============================] - 0s 12ms/step - loss: 0.1093 - accuracy: 0.9821 - val_loss: 2.7227 - val_accuracy: 0.3636\n",
            "Epoch 17/25\n",
            "21/21 [==============================] - 0s 12ms/step - loss: 0.0927 - accuracy: 0.9955 - val_loss: 2.7186 - val_accuracy: 0.3788\n",
            "Epoch 18/25\n",
            "21/21 [==============================] - 0s 11ms/step - loss: 0.0807 - accuracy: 0.9881 - val_loss: 2.5895 - val_accuracy: 0.3970\n",
            "Epoch 19/25\n",
            "21/21 [==============================] - 0s 12ms/step - loss: 0.0656 - accuracy: 0.9985 - val_loss: 2.5691 - val_accuracy: 0.4242\n",
            "Epoch 20/25\n",
            "21/21 [==============================] - 0s 12ms/step - loss: 0.0543 - accuracy: 0.9970 - val_loss: 2.9685 - val_accuracy: 0.3909\n",
            "Epoch 21/25\n",
            "21/21 [==============================] - 0s 20ms/step - loss: 0.0761 - accuracy: 0.9851 - val_loss: 2.9071 - val_accuracy: 0.3636\n",
            "Epoch 22/25\n",
            "21/21 [==============================] - 0s 20ms/step - loss: 0.1106 - accuracy: 0.9761 - val_loss: 3.0970 - val_accuracy: 0.3758\n",
            "Epoch 23/25\n",
            "21/21 [==============================] - 0s 16ms/step - loss: 0.1678 - accuracy: 0.9582 - val_loss: 2.8981 - val_accuracy: 0.3758\n",
            "Epoch 24/25\n",
            "21/21 [==============================] - 0s 12ms/step - loss: 0.1348 - accuracy: 0.9672 - val_loss: 3.0920 - val_accuracy: 0.3606\n",
            "Epoch 25/25\n",
            "21/21 [==============================] - 0s 12ms/step - loss: 0.0801 - accuracy: 0.9821 - val_loss: 3.0346 - val_accuracy: 0.4091\n",
            "Epoch 1/25\n",
            "21/21 [==============================] - 1s 20ms/step - loss: 8.9948 - accuracy: 0.1343 - val_loss: 2.5753 - val_accuracy: 0.1212\n",
            "Epoch 2/25\n",
            "21/21 [==============================] - 0s 11ms/step - loss: 2.3886 - accuracy: 0.1627 - val_loss: 2.2233 - val_accuracy: 0.1939\n",
            "Epoch 3/25\n",
            "21/21 [==============================] - 0s 11ms/step - loss: 2.0697 - accuracy: 0.2537 - val_loss: 2.0828 - val_accuracy: 0.2697\n",
            "Epoch 4/25\n",
            "21/21 [==============================] - 0s 10ms/step - loss: 1.8401 - accuracy: 0.3358 - val_loss: 2.0130 - val_accuracy: 0.2727\n",
            "Epoch 5/25\n",
            "21/21 [==============================] - 0s 12ms/step - loss: 1.6273 - accuracy: 0.4254 - val_loss: 1.9013 - val_accuracy: 0.3242\n",
            "Epoch 6/25\n",
            "21/21 [==============================] - 0s 10ms/step - loss: 1.3714 - accuracy: 0.5328 - val_loss: 2.1458 - val_accuracy: 0.2970\n",
            "Epoch 7/25\n",
            "21/21 [==============================] - 0s 11ms/step - loss: 1.2479 - accuracy: 0.5642 - val_loss: 1.9885 - val_accuracy: 0.3394\n",
            "Epoch 8/25\n",
            "21/21 [==============================] - 0s 12ms/step - loss: 1.0125 - accuracy: 0.6851 - val_loss: 2.1103 - val_accuracy: 0.3121\n",
            "Epoch 9/25\n",
            "21/21 [==============================] - 0s 12ms/step - loss: 0.8603 - accuracy: 0.7194 - val_loss: 2.1323 - val_accuracy: 0.3121\n",
            "Epoch 10/25\n",
            "21/21 [==============================] - 0s 11ms/step - loss: 0.7413 - accuracy: 0.7806 - val_loss: 2.2088 - val_accuracy: 0.3333\n",
            "Epoch 11/25\n",
            "21/21 [==============================] - 0s 11ms/step - loss: 0.6077 - accuracy: 0.8209 - val_loss: 2.3023 - val_accuracy: 0.3576\n",
            "Epoch 12/25\n",
            "21/21 [==============================] - 0s 12ms/step - loss: 0.4366 - accuracy: 0.8761 - val_loss: 2.3011 - val_accuracy: 0.3455\n",
            "Epoch 13/25\n",
            "21/21 [==============================] - 0s 12ms/step - loss: 0.3165 - accuracy: 0.9254 - val_loss: 2.5554 - val_accuracy: 0.3606\n",
            "Epoch 14/25\n",
            "21/21 [==============================] - 0s 11ms/step - loss: 0.2413 - accuracy: 0.9433 - val_loss: 2.6402 - val_accuracy: 0.3424\n",
            "Epoch 15/25\n",
            "21/21 [==============================] - 0s 11ms/step - loss: 0.1756 - accuracy: 0.9687 - val_loss: 2.7898 - val_accuracy: 0.3727\n",
            "Epoch 16/25\n",
            "21/21 [==============================] - 0s 12ms/step - loss: 0.1248 - accuracy: 0.9791 - val_loss: 2.9722 - val_accuracy: 0.3636\n",
            "Epoch 17/25\n",
            "21/21 [==============================] - 0s 12ms/step - loss: 0.1012 - accuracy: 0.9866 - val_loss: 3.2722 - val_accuracy: 0.3515\n",
            "Epoch 18/25\n",
            "21/21 [==============================] - 0s 11ms/step - loss: 0.0856 - accuracy: 0.9896 - val_loss: 3.5489 - val_accuracy: 0.3242\n",
            "Epoch 19/25\n",
            "21/21 [==============================] - 0s 10ms/step - loss: 0.0667 - accuracy: 0.9925 - val_loss: 3.6101 - val_accuracy: 0.3273\n",
            "Epoch 20/25\n",
            "21/21 [==============================] - 0s 12ms/step - loss: 0.0503 - accuracy: 0.9970 - val_loss: 3.5555 - val_accuracy: 0.3667\n",
            "Epoch 21/25\n",
            "21/21 [==============================] - 0s 12ms/step - loss: 0.0270 - accuracy: 1.0000 - val_loss: 3.7488 - val_accuracy: 0.3636\n",
            "Epoch 22/25\n",
            "21/21 [==============================] - 0s 13ms/step - loss: 0.0179 - accuracy: 0.9985 - val_loss: 3.8851 - val_accuracy: 0.3606\n",
            "Epoch 23/25\n",
            "21/21 [==============================] - 0s 12ms/step - loss: 0.0140 - accuracy: 1.0000 - val_loss: 3.9184 - val_accuracy: 0.3515\n",
            "Epoch 24/25\n",
            "21/21 [==============================] - 0s 12ms/step - loss: 0.0091 - accuracy: 1.0000 - val_loss: 3.9956 - val_accuracy: 0.3485\n",
            "Epoch 25/25\n",
            "21/21 [==============================] - 0s 11ms/step - loss: 0.0063 - accuracy: 1.0000 - val_loss: 4.1126 - val_accuracy: 0.3485\n",
            "Epoch 1/25\n",
            "21/21 [==============================] - 1s 22ms/step - loss: 8.2352 - accuracy: 0.1388 - val_loss: 2.4058 - val_accuracy: 0.1848\n",
            "Epoch 2/25\n",
            "21/21 [==============================] - 0s 12ms/step - loss: 2.1336 - accuracy: 0.2239 - val_loss: 2.1001 - val_accuracy: 0.2697\n",
            "Epoch 3/25\n",
            "21/21 [==============================] - 0s 12ms/step - loss: 1.7675 - accuracy: 0.3597 - val_loss: 2.0155 - val_accuracy: 0.2879\n",
            "Epoch 4/25\n",
            "21/21 [==============================] - 0s 13ms/step - loss: 1.5878 - accuracy: 0.4478 - val_loss: 2.0342 - val_accuracy: 0.3394\n",
            "Epoch 5/25\n",
            "21/21 [==============================] - 0s 11ms/step - loss: 1.3015 - accuracy: 0.5657 - val_loss: 2.0189 - val_accuracy: 0.3485\n",
            "Epoch 6/25\n",
            "21/21 [==============================] - 0s 12ms/step - loss: 1.0625 - accuracy: 0.6552 - val_loss: 2.1303 - val_accuracy: 0.2909\n",
            "Epoch 7/25\n",
            "21/21 [==============================] - 0s 13ms/step - loss: 0.8930 - accuracy: 0.7299 - val_loss: 2.0934 - val_accuracy: 0.3485\n",
            "Epoch 8/25\n",
            "21/21 [==============================] - 0s 12ms/step - loss: 0.7011 - accuracy: 0.7940 - val_loss: 2.2341 - val_accuracy: 0.3515\n",
            "Epoch 9/25\n",
            "21/21 [==============================] - 0s 12ms/step - loss: 0.5860 - accuracy: 0.8149 - val_loss: 2.1814 - val_accuracy: 0.3667\n",
            "Epoch 10/25\n",
            "21/21 [==============================] - 0s 11ms/step - loss: 0.4524 - accuracy: 0.8716 - val_loss: 2.4555 - val_accuracy: 0.3485\n",
            "Epoch 11/25\n",
            "21/21 [==============================] - 0s 12ms/step - loss: 0.3193 - accuracy: 0.9358 - val_loss: 2.3909 - val_accuracy: 0.3606\n",
            "Epoch 12/25\n",
            "21/21 [==============================] - 0s 13ms/step - loss: 0.2065 - accuracy: 0.9612 - val_loss: 2.6555 - val_accuracy: 0.3576\n",
            "Epoch 13/25\n",
            "21/21 [==============================] - 0s 11ms/step - loss: 0.1419 - accuracy: 0.9701 - val_loss: 2.8819 - val_accuracy: 0.3879\n",
            "Epoch 14/25\n",
            "21/21 [==============================] - 0s 12ms/step - loss: 0.1234 - accuracy: 0.9806 - val_loss: 3.0135 - val_accuracy: 0.3697\n",
            "Epoch 15/25\n",
            "21/21 [==============================] - 0s 11ms/step - loss: 0.0836 - accuracy: 0.9896 - val_loss: 3.0848 - val_accuracy: 0.3667\n",
            "Epoch 16/25\n",
            "21/21 [==============================] - 0s 12ms/step - loss: 0.0517 - accuracy: 0.9940 - val_loss: 3.2023 - val_accuracy: 0.3515\n",
            "Epoch 17/25\n",
            "21/21 [==============================] - 0s 12ms/step - loss: 0.0379 - accuracy: 0.9985 - val_loss: 3.3587 - val_accuracy: 0.3909\n",
            "Epoch 18/25\n",
            "21/21 [==============================] - 0s 13ms/step - loss: 0.0231 - accuracy: 1.0000 - val_loss: 3.4322 - val_accuracy: 0.3697\n",
            "Epoch 19/25\n",
            "21/21 [==============================] - 0s 12ms/step - loss: 0.0151 - accuracy: 1.0000 - val_loss: 3.6877 - val_accuracy: 0.3909\n",
            "Epoch 20/25\n",
            "21/21 [==============================] - 0s 11ms/step - loss: 0.0106 - accuracy: 1.0000 - val_loss: 3.7540 - val_accuracy: 0.3697\n",
            "Epoch 21/25\n",
            "21/21 [==============================] - 0s 12ms/step - loss: 0.0078 - accuracy: 1.0000 - val_loss: 3.8087 - val_accuracy: 0.4000\n",
            "Epoch 22/25\n",
            "21/21 [==============================] - 0s 12ms/step - loss: 0.0057 - accuracy: 1.0000 - val_loss: 3.9161 - val_accuracy: 0.3758\n",
            "Epoch 23/25\n",
            "21/21 [==============================] - 0s 12ms/step - loss: 0.0049 - accuracy: 1.0000 - val_loss: 3.8864 - val_accuracy: 0.3788\n",
            "Epoch 24/25\n",
            "21/21 [==============================] - 0s 11ms/step - loss: 0.0041 - accuracy: 1.0000 - val_loss: 3.9793 - val_accuracy: 0.3879\n",
            "Epoch 25/25\n",
            "21/21 [==============================] - 0s 12ms/step - loss: 0.0036 - accuracy: 1.0000 - val_loss: 4.0243 - val_accuracy: 0.3788\n",
            "Epoch 1/25\n",
            "21/21 [==============================] - 1s 22ms/step - loss: 19.4694 - accuracy: 0.1179 - val_loss: 2.7607 - val_accuracy: 0.1242\n",
            "Epoch 2/25\n",
            "21/21 [==============================] - 0s 13ms/step - loss: 2.3948 - accuracy: 0.1821 - val_loss: 2.3143 - val_accuracy: 0.1879\n",
            "Epoch 3/25\n",
            "21/21 [==============================] - 0s 12ms/step - loss: 1.9871 - accuracy: 0.2716 - val_loss: 2.2769 - val_accuracy: 0.2242\n",
            "Epoch 4/25\n",
            "21/21 [==============================] - 0s 12ms/step - loss: 1.7772 - accuracy: 0.3791 - val_loss: 2.2640 - val_accuracy: 0.1939\n",
            "Epoch 5/25\n",
            "21/21 [==============================] - 0s 13ms/step - loss: 1.5505 - accuracy: 0.4582 - val_loss: 2.2265 - val_accuracy: 0.2697\n",
            "Epoch 6/25\n",
            "21/21 [==============================] - 0s 13ms/step - loss: 1.2899 - accuracy: 0.5716 - val_loss: 2.1221 - val_accuracy: 0.3212\n",
            "Epoch 7/25\n",
            "21/21 [==============================] - 0s 11ms/step - loss: 1.1120 - accuracy: 0.6045 - val_loss: 2.1670 - val_accuracy: 0.3273\n",
            "Epoch 8/25\n",
            "21/21 [==============================] - 0s 13ms/step - loss: 0.9129 - accuracy: 0.7045 - val_loss: 2.2128 - val_accuracy: 0.2909\n",
            "Epoch 9/25\n",
            "21/21 [==============================] - 0s 11ms/step - loss: 0.7677 - accuracy: 0.7582 - val_loss: 2.2337 - val_accuracy: 0.3273\n",
            "Epoch 10/25\n",
            "21/21 [==============================] - 0s 12ms/step - loss: 0.6786 - accuracy: 0.7866 - val_loss: 2.4365 - val_accuracy: 0.3182\n",
            "Epoch 11/25\n",
            "21/21 [==============================] - 0s 11ms/step - loss: 0.5595 - accuracy: 0.8328 - val_loss: 2.5075 - val_accuracy: 0.3061\n",
            "Epoch 12/25\n",
            "21/21 [==============================] - 0s 12ms/step - loss: 0.4670 - accuracy: 0.8716 - val_loss: 2.5120 - val_accuracy: 0.3455\n",
            "Epoch 13/25\n",
            "21/21 [==============================] - 0s 12ms/step - loss: 0.3355 - accuracy: 0.9045 - val_loss: 2.7566 - val_accuracy: 0.3424\n",
            "Epoch 14/25\n",
            "21/21 [==============================] - 0s 12ms/step - loss: 0.2341 - accuracy: 0.9493 - val_loss: 2.7797 - val_accuracy: 0.3152\n",
            "Epoch 15/25\n",
            "21/21 [==============================] - 0s 13ms/step - loss: 0.1724 - accuracy: 0.9657 - val_loss: 3.0098 - val_accuracy: 0.3364\n",
            "Epoch 16/25\n",
            "21/21 [==============================] - 0s 12ms/step - loss: 0.1145 - accuracy: 0.9791 - val_loss: 3.0258 - val_accuracy: 0.3303\n",
            "Epoch 17/25\n",
            "21/21 [==============================] - 0s 13ms/step - loss: 0.0914 - accuracy: 0.9836 - val_loss: 3.5689 - val_accuracy: 0.3182\n",
            "Epoch 18/25\n",
            "21/21 [==============================] - 0s 14ms/step - loss: 0.0877 - accuracy: 0.9866 - val_loss: 3.1519 - val_accuracy: 0.3515\n",
            "Epoch 19/25\n",
            "21/21 [==============================] - 0s 13ms/step - loss: 0.0680 - accuracy: 0.9925 - val_loss: 3.3852 - val_accuracy: 0.3485\n",
            "Epoch 20/25\n",
            "21/21 [==============================] - 0s 12ms/step - loss: 0.0327 - accuracy: 0.9985 - val_loss: 3.4782 - val_accuracy: 0.3394\n",
            "Epoch 21/25\n",
            "21/21 [==============================] - 0s 13ms/step - loss: 0.0211 - accuracy: 0.9985 - val_loss: 3.6217 - val_accuracy: 0.3485\n",
            "Epoch 22/25\n",
            "21/21 [==============================] - 0s 13ms/step - loss: 0.0153 - accuracy: 1.0000 - val_loss: 3.7188 - val_accuracy: 0.3545\n",
            "Epoch 23/25\n",
            "21/21 [==============================] - 0s 12ms/step - loss: 0.0119 - accuracy: 1.0000 - val_loss: 3.7658 - val_accuracy: 0.3424\n",
            "Epoch 24/25\n",
            "21/21 [==============================] - 0s 13ms/step - loss: 0.0097 - accuracy: 1.0000 - val_loss: 3.8078 - val_accuracy: 0.3485\n",
            "Epoch 25/25\n",
            "21/21 [==============================] - 0s 11ms/step - loss: 0.0085 - accuracy: 1.0000 - val_loss: 3.9176 - val_accuracy: 0.3636\n",
            "Epoch 1/25\n",
            "21/21 [==============================] - 1s 20ms/step - loss: 15.3942 - accuracy: 0.1328 - val_loss: 2.9766 - val_accuracy: 0.1000\n",
            "Epoch 2/25\n",
            "21/21 [==============================] - 0s 11ms/step - loss: 2.3147 - accuracy: 0.2045 - val_loss: 2.2556 - val_accuracy: 0.1636\n",
            "Epoch 3/25\n",
            "21/21 [==============================] - 0s 13ms/step - loss: 1.9901 - accuracy: 0.2866 - val_loss: 2.3235 - val_accuracy: 0.1848\n",
            "Epoch 4/25\n",
            "21/21 [==============================] - 0s 11ms/step - loss: 1.7686 - accuracy: 0.3761 - val_loss: 2.1967 - val_accuracy: 0.2091\n",
            "Epoch 5/25\n",
            "21/21 [==============================] - 0s 11ms/step - loss: 1.5732 - accuracy: 0.4493 - val_loss: 2.1345 - val_accuracy: 0.2273\n",
            "Epoch 6/25\n",
            "21/21 [==============================] - 0s 11ms/step - loss: 1.4563 - accuracy: 0.5119 - val_loss: 2.3360 - val_accuracy: 0.2091\n",
            "Epoch 7/25\n",
            "21/21 [==============================] - 0s 12ms/step - loss: 1.2230 - accuracy: 0.5866 - val_loss: 2.1897 - val_accuracy: 0.2788\n",
            "Epoch 8/25\n",
            "21/21 [==============================] - 0s 11ms/step - loss: 1.0244 - accuracy: 0.6657 - val_loss: 2.3853 - val_accuracy: 0.2606\n",
            "Epoch 9/25\n",
            "21/21 [==============================] - 0s 11ms/step - loss: 0.8389 - accuracy: 0.7403 - val_loss: 2.5522 - val_accuracy: 0.2545\n",
            "Epoch 10/25\n",
            "21/21 [==============================] - 0s 10ms/step - loss: 0.6876 - accuracy: 0.7791 - val_loss: 2.3360 - val_accuracy: 0.3000\n",
            "Epoch 11/25\n",
            "21/21 [==============================] - 0s 11ms/step - loss: 0.5007 - accuracy: 0.8627 - val_loss: 2.4026 - val_accuracy: 0.2939\n",
            "Epoch 12/25\n",
            "21/21 [==============================] - 0s 11ms/step - loss: 0.4125 - accuracy: 0.8866 - val_loss: 2.5556 - val_accuracy: 0.3242\n",
            "Epoch 13/25\n",
            "21/21 [==============================] - 0s 11ms/step - loss: 0.3088 - accuracy: 0.9254 - val_loss: 3.0574 - val_accuracy: 0.3061\n",
            "Epoch 14/25\n",
            "21/21 [==============================] - 0s 11ms/step - loss: 0.2788 - accuracy: 0.9284 - val_loss: 3.1245 - val_accuracy: 0.3242\n",
            "Epoch 15/25\n",
            "21/21 [==============================] - 0s 12ms/step - loss: 0.2433 - accuracy: 0.9403 - val_loss: 2.9230 - val_accuracy: 0.3455\n",
            "Epoch 16/25\n",
            "21/21 [==============================] - 0s 12ms/step - loss: 0.2215 - accuracy: 0.9522 - val_loss: 2.8518 - val_accuracy: 0.3939\n",
            "Epoch 17/25\n",
            "21/21 [==============================] - 0s 12ms/step - loss: 0.1508 - accuracy: 0.9716 - val_loss: 3.4792 - val_accuracy: 0.3364\n",
            "Epoch 18/25\n",
            "21/21 [==============================] - 0s 12ms/step - loss: 0.1034 - accuracy: 0.9821 - val_loss: 3.1011 - val_accuracy: 0.3515\n",
            "Epoch 19/25\n",
            "21/21 [==============================] - 0s 11ms/step - loss: 0.0863 - accuracy: 0.9851 - val_loss: 3.2737 - val_accuracy: 0.3455\n",
            "Epoch 20/25\n",
            "21/21 [==============================] - 0s 12ms/step - loss: 0.0506 - accuracy: 0.9940 - val_loss: 3.6684 - val_accuracy: 0.3152\n",
            "Epoch 21/25\n",
            "21/21 [==============================] - 0s 13ms/step - loss: 0.0306 - accuracy: 0.9985 - val_loss: 3.5314 - val_accuracy: 0.3333\n",
            "Epoch 22/25\n",
            "21/21 [==============================] - 0s 12ms/step - loss: 0.0204 - accuracy: 1.0000 - val_loss: 3.6942 - val_accuracy: 0.3545\n",
            "Epoch 23/25\n",
            "21/21 [==============================] - 0s 13ms/step - loss: 0.0136 - accuracy: 1.0000 - val_loss: 3.7773 - val_accuracy: 0.3758\n",
            "Epoch 24/25\n",
            "21/21 [==============================] - 0s 13ms/step - loss: 0.0095 - accuracy: 1.0000 - val_loss: 3.8898 - val_accuracy: 0.3758\n",
            "Epoch 25/25\n",
            "21/21 [==============================] - 0s 12ms/step - loss: 0.0074 - accuracy: 1.0000 - val_loss: 3.9105 - val_accuracy: 0.3606\n"
          ]
        }
      ]
    },
    {
      "cell_type": "markdown",
      "metadata": {
        "id": "RJQxvjrfrfnW"
      },
      "source": [
        "## Attack Model\n",
        "\n",
        "### Attack Model Architecture\n",
        "The attack model is consisted of 1 swallow layer of 10 neurons just as proposed in Shokri et al. and in the relative label only attack paper.\n",
        "\n",
        "\n",
        "### Attack Dataset\n",
        "The attack dataset will be consisted of vectors $x_i$, s.t. $x_i$ contains:\n",
        "- real label\n",
        "- predicted label\n",
        "- bitstring of length $n'$, where $x_{ij+2}, \\; j \\in \\{1, ..., n'\\} $ will be 1 if perturbed label is same as predicted, otherwise it'll be zero.\n",
        "\n",
        "\n",
        "### Perturbed Queries for feature extraction and Attack Dataset\n",
        "\n",
        "In order to construct the actual attack dataset we have 2 perturbation functions:\n",
        "- Translate\n",
        "- Rotate\n",
        "\n",
        "that can apply the necessary augmentations in order to acquire the feature vector for a query.\n",
        "\n",
        "This works by applying all augmentations to the input X and querying the target model in order to return a binary vector $x_{attack}$ where $$x_{attack_p} = 1 \\; if \\;y_p == y_{true} \\; else \\; 0, \\forall p \\in Perturbations(X)$$\n",
        "\n",
        "where $y_p$ is the label for pertubation $p$ of input $X$."
      ]
    },
    {
      "cell_type": "code",
      "metadata": {
        "id": "SrhUttNV1jR6"
      },
      "source": [
        "r = 2 # rotate range => creating 2*r+1 rotations \n",
        "d = 1 # translate range =? creating 4*d + 1 translates"
      ],
      "execution_count": 155,
      "outputs": []
    },
    {
      "cell_type": "code",
      "metadata": {
        "id": "DYRgNm8sqkY7"
      },
      "source": [
        "# create all relative rotates for interpolation (returns 2*r + 1 translates)\n",
        "def create_rotates(r):\n",
        "  if r is None:\n",
        "    return None\n",
        "  if r == 1:\n",
        "    return [0.0]\n",
        "  rotates = np.linspace(-r, r, (r * 2 + 1))\n",
        "  return rotates\n",
        "\n",
        "# create all possible translates (returns 4*d+1 translates)\n",
        "def create_translates(d):\n",
        "  if d is None:\n",
        "    return None\n",
        "\n",
        "  def all_shifts(mshift):\n",
        "    if mshift == 0:\n",
        "      return [(0, 0, 0, 0)]\n",
        "    \n",
        "    all_pairs = []\n",
        "    start = (0, mshift, 0, 0)\n",
        "    end = (0, mshift, 0, 0)\n",
        "    vdir = -1\n",
        "    hdir = -1\n",
        "    first_time = True\n",
        "    while (start[1] != end[1] or start[2] != end[2]) or first_time:\n",
        "      all_pairs.append(start)\n",
        "      start = (0, start[1] + vdir, start[2] + hdir, 0)\n",
        "      if abs(start[1]) == mshift:\n",
        "        vdir *= -1\n",
        "      if abs(start[2]) == mshift:\n",
        "        hdir *= -1\n",
        "      first_time = False\n",
        "    all_pairs = [(0, 0, 0, 0)] + all_pairs  # add no shift\n",
        "    return all_pairs\n",
        "\n",
        "  translates = all_shifts(d)\n",
        "  return translates\n",
        "\n",
        "\n",
        "def apply_augment(d, augment, type_):\n",
        "  if type_ == 'd':\n",
        "    d = interpolation.shift(d, augment, mode='constant')\n",
        "  elif type_ == 'r':\n",
        "    d = interpolation.rotate(d, augment, (1, 2), reshape=False)\n",
        "  else:\n",
        "    raise ValueError(f'Augmentation Type: \\'{type_}\\' doesn\\'t exist. Try \\'r\\' or \\'d\\'')\n",
        "  return d\n",
        "\n",
        "# param model the model to query\n",
        "# param X the input to perurb\n",
        "# param y_pred is the predictions of the model for given input\n",
        "def augmented_queries(model, X, y_pred, r=3, d=1):\n",
        "  #create perturbations\n",
        "  rotates = create_rotates(r)\n",
        "  translates = create_translates(d)\n",
        "\n",
        "  X_attack = None\n",
        "  for rot in rotates:\n",
        "    #  create perturbed image\n",
        "    X_perturbed = apply_augment(X, rot, 'r')\n",
        "    # return query line\n",
        "    y_perturbed = target_predict(model, X_perturbed)\n",
        "    X_attack_col = y_perturbed #(y_pred == y_perturbed).astype(int) # transform the prediction column into a binary collumn where x_i = 1 when y_true == y_pred else 0\n",
        "    \n",
        "    if X_attack is None:\n",
        "      X_attack = X_attack_col\n",
        "    else:\n",
        "      X_attack = np.concatenate((X_attack, X_attack_col), axis=1)\n",
        "\n",
        "  for tra in translates:\n",
        "    X_perturbed = apply_augment(X, tra, 'd')\n",
        "    # return query line\n",
        "    y_perturbed = target_predict(model, X_perturbed)\n",
        "    X_attack_col = y_perturbed #(y_pred == y_perturbed).astype(int) # transform the prediction column into a binary collumn where x_i = 1 when y_true == y_pred else 0\n",
        "    # concate the col to the rest of x_attack feature vector\n",
        "    if X_attack is None:\n",
        "      X_attack = X_attack_col\n",
        "    else:\n",
        "      X_attack = np.concatenate((X_attack, X_attack_col), axis=1)\n",
        "  return X_attack"
      ],
      "execution_count": 156,
      "outputs": []
    },
    {
      "cell_type": "code",
      "metadata": {
        "id": "A6lVDDuD2DA5"
      },
      "source": [
        "# helper function to prepare each shadow dataset batch\n",
        "def prepare_batch(model, X, y, in_D):\n",
        "  #decide membership\n",
        "  y_member = np.ones(shape=(y.shape[0], 1)) if in_D else np.zeros(shape=(y.shape[0], 1))\n",
        "\n",
        "  # get the y_pred \n",
        "  prob = layers.Softmax()\n",
        "  ret = prob(model.predict(X)).numpy()\n",
        "  y_pred = np.apply_along_axis(np.argmax, 1, ret).reshape((-1, 1))\n",
        "  perturbed_queries_res = augmented_queries(model, X, y_pred, r, d)\n",
        "  \n",
        "  # return an instance <actual class, predicted class, perturbed_queries_res from shadow models, 'in'/'out' D_target membership> \n",
        "  return np.concatenate((y.reshape(-1, 1), y_pred, perturbed_queries_res, y_member), axis=1)\n",
        "\n",
        "def generate_attack_dataset(shadow_models, n_classes):\n",
        "  # input is a list where items are model, (X_train, y_train), (X_test, y_test)\n",
        "\n",
        "  D_attack = None\n",
        "  # D_attack_i format = <class, prob_vec, membership label (1 or 0)> \n",
        "  for shadow_model, ((X_train, y_train), (X_test, y_test)) in shadow_models:\n",
        "    s = min(X_train.shape[0], X_test.shape[0])\n",
        "    print(f\"Preparing shadow batch of size {2*s}\")\n",
        "    batch = np.concatenate((\n",
        "        prepare_batch(shadow_model, X_train[:s], y_train[:s], True), # members of shadow dataset \n",
        "        prepare_batch(shadow_model, X_test[:s], y_test[:s], False)   # non members of shadow dataset\n",
        "    ))   \n",
        "\n",
        "    D_attack = np.concatenate((D_attack, batch)) if D_attack is not None else batch  \n",
        "    print(\"Done!\")\n",
        "  return D_attack "
      ],
      "execution_count": 157,
      "outputs": []
    },
    {
      "cell_type": "code",
      "metadata": {
        "id": "yh5MsDOgVT4V"
      },
      "source": [
        "def __f_attack(X_train, y_train, X_test, y_test, epochs=100):\n",
        "  print(X_train.shape, X_test.shape)\n",
        "  model = models.Sequential()\n",
        "  model.add(layers.Dense(10, input_shape=(X_train.shape[1],)))\n",
        "  model.add(layers.LeakyReLU())\n",
        "  model.add(layers.Dense(1, activation='sigmoid'))\n",
        "  \n",
        "  model.compile(optimizer='adam',\n",
        "              loss='binary_crossentropy',\n",
        "              metrics=['accuracy'])\n",
        "  history = model.fit(X_train, y_train, epochs=epochs,\n",
        "                    validation_data=(X_test, y_test), verbose=True)\n",
        "  \n",
        "  return model\n",
        "\n",
        "def f_attack(X, y):\n",
        "  # X_i = (class, probability vector, )\n",
        "  classes = np.unique(train_labels) # all class labels\n",
        "  with tf.device('/gpu:0'):\n",
        "  # split to train and test datasets\n",
        "    X_train, X_test, y_train, y_test = train_test_split(X, y, shuffle=True, test_size=0.3)\n",
        "    attack_model = __f_attack(X_train, y_train, X_test, y_test)\n",
        "\n",
        "  return attack_model"
      ],
      "execution_count": 158,
      "outputs": []
    },
    {
      "cell_type": "code",
      "metadata": {
        "id": "S_yfm1hK-Sg7",
        "colab": {
          "base_uri": "https://localhost:8080/"
        },
        "outputId": "b55a4ab1-610b-4b9a-a402-d7c12092a617"
      },
      "source": [
        "D_attack = generate_attack_dataset(shadow_models, 10)\n"
      ],
      "execution_count": 159,
      "outputs": [
        {
          "output_type": "stream",
          "name": "stdout",
          "text": [
            "Preparing shadow batch of size 660\n",
            "Done!\n",
            "Preparing shadow batch of size 660\n",
            "Done!\n",
            "Preparing shadow batch of size 660\n",
            "Done!\n",
            "Preparing shadow batch of size 660\n",
            "Done!\n",
            "Preparing shadow batch of size 660\n",
            "Done!\n"
          ]
        }
      ]
    },
    {
      "cell_type": "code",
      "metadata": {
        "id": "gnhE29HBBYGy",
        "colab": {
          "base_uri": "https://localhost:8080/"
        },
        "outputId": "0f81096c-7204-4ced-f465-459f8a36fd7f"
      },
      "source": [
        "attack_model_bundle = f_attack(D_attack[:, :-1], D_attack[:, -1])"
      ],
      "execution_count": 160,
      "outputs": [
        {
          "output_type": "stream",
          "name": "stdout",
          "text": [
            "(2310, 12) (990, 12)\n",
            "Epoch 1/100\n",
            "73/73 [==============================] - 1s 9ms/step - loss: 3.1017 - accuracy: 0.4978 - val_loss: 0.9205 - val_accuracy: 0.5535\n",
            "Epoch 2/100\n",
            "73/73 [==============================] - 0s 5ms/step - loss: 0.7945 - accuracy: 0.4745 - val_loss: 0.7539 - val_accuracy: 0.4929\n",
            "Epoch 3/100\n",
            "73/73 [==============================] - 0s 7ms/step - loss: 0.7586 - accuracy: 0.5355 - val_loss: 0.7372 - val_accuracy: 0.5323\n",
            "Epoch 4/100\n",
            "73/73 [==============================] - 0s 6ms/step - loss: 0.7387 - accuracy: 0.5268 - val_loss: 0.7232 - val_accuracy: 0.5414\n",
            "Epoch 5/100\n",
            "73/73 [==============================] - 0s 6ms/step - loss: 0.7244 - accuracy: 0.5303 - val_loss: 0.7124 - val_accuracy: 0.5364\n",
            "Epoch 6/100\n",
            "73/73 [==============================] - 0s 6ms/step - loss: 0.7127 - accuracy: 0.5403 - val_loss: 0.7003 - val_accuracy: 0.5081\n",
            "Epoch 7/100\n",
            "73/73 [==============================] - 0s 7ms/step - loss: 0.6980 - accuracy: 0.5407 - val_loss: 0.6901 - val_accuracy: 0.4980\n",
            "Epoch 8/100\n",
            "73/73 [==============================] - 0s 6ms/step - loss: 0.6883 - accuracy: 0.5316 - val_loss: 0.6883 - val_accuracy: 0.5939\n",
            "Epoch 9/100\n",
            "73/73 [==============================] - 0s 6ms/step - loss: 0.6768 - accuracy: 0.5788 - val_loss: 0.6712 - val_accuracy: 0.5525\n",
            "Epoch 10/100\n",
            "73/73 [==============================] - 0s 6ms/step - loss: 0.6656 - accuracy: 0.5684 - val_loss: 0.6638 - val_accuracy: 0.5616\n",
            "Epoch 11/100\n",
            "73/73 [==============================] - 0s 7ms/step - loss: 0.6573 - accuracy: 0.6000 - val_loss: 0.6596 - val_accuracy: 0.6010\n",
            "Epoch 12/100\n",
            "73/73 [==============================] - 0s 7ms/step - loss: 0.6495 - accuracy: 0.6017 - val_loss: 0.6481 - val_accuracy: 0.6394\n",
            "Epoch 13/100\n",
            "73/73 [==============================] - 0s 6ms/step - loss: 0.6407 - accuracy: 0.6255 - val_loss: 0.6410 - val_accuracy: 0.6434\n",
            "Epoch 14/100\n",
            "73/73 [==============================] - 0s 7ms/step - loss: 0.6334 - accuracy: 0.6506 - val_loss: 0.6349 - val_accuracy: 0.6495\n",
            "Epoch 15/100\n",
            "73/73 [==============================] - 0s 5ms/step - loss: 0.6270 - accuracy: 0.6628 - val_loss: 0.6357 - val_accuracy: 0.6414\n",
            "Epoch 16/100\n",
            "73/73 [==============================] - 0s 6ms/step - loss: 0.6193 - accuracy: 0.6697 - val_loss: 0.6279 - val_accuracy: 0.6616\n",
            "Epoch 17/100\n",
            "73/73 [==============================] - 0s 7ms/step - loss: 0.6103 - accuracy: 0.7147 - val_loss: 0.6142 - val_accuracy: 0.7030\n",
            "Epoch 18/100\n",
            "73/73 [==============================] - 0s 5ms/step - loss: 0.6021 - accuracy: 0.7329 - val_loss: 0.6103 - val_accuracy: 0.7121\n",
            "Epoch 19/100\n",
            "73/73 [==============================] - 0s 7ms/step - loss: 0.5946 - accuracy: 0.7338 - val_loss: 0.6024 - val_accuracy: 0.7162\n",
            "Epoch 20/100\n",
            "73/73 [==============================] - 0s 6ms/step - loss: 0.5887 - accuracy: 0.7420 - val_loss: 0.6004 - val_accuracy: 0.7535\n",
            "Epoch 21/100\n",
            "73/73 [==============================] - 0s 7ms/step - loss: 0.5812 - accuracy: 0.7398 - val_loss: 0.5872 - val_accuracy: 0.7444\n",
            "Epoch 22/100\n",
            "73/73 [==============================] - 0s 7ms/step - loss: 0.5759 - accuracy: 0.7472 - val_loss: 0.5815 - val_accuracy: 0.7545\n",
            "Epoch 23/100\n",
            "73/73 [==============================] - 0s 6ms/step - loss: 0.5681 - accuracy: 0.7671 - val_loss: 0.5760 - val_accuracy: 0.7444\n",
            "Epoch 24/100\n",
            "73/73 [==============================] - 0s 6ms/step - loss: 0.5622 - accuracy: 0.7636 - val_loss: 0.5700 - val_accuracy: 0.7566\n",
            "Epoch 25/100\n",
            "73/73 [==============================] - 0s 6ms/step - loss: 0.5564 - accuracy: 0.7701 - val_loss: 0.5621 - val_accuracy: 0.7586\n",
            "Epoch 26/100\n",
            "73/73 [==============================] - 0s 5ms/step - loss: 0.5500 - accuracy: 0.7762 - val_loss: 0.5602 - val_accuracy: 0.7596\n",
            "Epoch 27/100\n",
            "73/73 [==============================] - 0s 6ms/step - loss: 0.5451 - accuracy: 0.7740 - val_loss: 0.5525 - val_accuracy: 0.7758\n",
            "Epoch 28/100\n",
            "73/73 [==============================] - 0s 7ms/step - loss: 0.5389 - accuracy: 0.7810 - val_loss: 0.5447 - val_accuracy: 0.7697\n",
            "Epoch 29/100\n",
            "73/73 [==============================] - 0s 6ms/step - loss: 0.5350 - accuracy: 0.7831 - val_loss: 0.5412 - val_accuracy: 0.7727\n",
            "Epoch 30/100\n",
            "73/73 [==============================] - 0s 6ms/step - loss: 0.5296 - accuracy: 0.7797 - val_loss: 0.5559 - val_accuracy: 0.7414\n",
            "Epoch 31/100\n",
            "73/73 [==============================] - 1s 7ms/step - loss: 0.5243 - accuracy: 0.7840 - val_loss: 0.5314 - val_accuracy: 0.7899\n",
            "Epoch 32/100\n",
            "73/73 [==============================] - 1s 7ms/step - loss: 0.5189 - accuracy: 0.7935 - val_loss: 0.5251 - val_accuracy: 0.7818\n",
            "Epoch 33/100\n",
            "73/73 [==============================] - 0s 7ms/step - loss: 0.5140 - accuracy: 0.7926 - val_loss: 0.5229 - val_accuracy: 0.7859\n",
            "Epoch 34/100\n",
            "73/73 [==============================] - 0s 7ms/step - loss: 0.5081 - accuracy: 0.7957 - val_loss: 0.5157 - val_accuracy: 0.7869\n",
            "Epoch 35/100\n",
            "73/73 [==============================] - 0s 6ms/step - loss: 0.5033 - accuracy: 0.7931 - val_loss: 0.5124 - val_accuracy: 0.7869\n",
            "Epoch 36/100\n",
            "73/73 [==============================] - 0s 7ms/step - loss: 0.4996 - accuracy: 0.7996 - val_loss: 0.5072 - val_accuracy: 0.7889\n",
            "Epoch 37/100\n",
            "73/73 [==============================] - 0s 5ms/step - loss: 0.4973 - accuracy: 0.7991 - val_loss: 0.5052 - val_accuracy: 0.7949\n",
            "Epoch 38/100\n",
            "73/73 [==============================] - 0s 6ms/step - loss: 0.4911 - accuracy: 0.8009 - val_loss: 0.4981 - val_accuracy: 0.8091\n",
            "Epoch 39/100\n",
            "73/73 [==============================] - 1s 7ms/step - loss: 0.4912 - accuracy: 0.8030 - val_loss: 0.4973 - val_accuracy: 0.7949\n",
            "Epoch 40/100\n",
            "73/73 [==============================] - 0s 6ms/step - loss: 0.4852 - accuracy: 0.8074 - val_loss: 0.4901 - val_accuracy: 0.8101\n",
            "Epoch 41/100\n",
            "73/73 [==============================] - 0s 5ms/step - loss: 0.4817 - accuracy: 0.8078 - val_loss: 0.5096 - val_accuracy: 0.7707\n",
            "Epoch 42/100\n",
            "73/73 [==============================] - 0s 7ms/step - loss: 0.4789 - accuracy: 0.8061 - val_loss: 0.4821 - val_accuracy: 0.8141\n",
            "Epoch 43/100\n",
            "73/73 [==============================] - 1s 7ms/step - loss: 0.4741 - accuracy: 0.8095 - val_loss: 0.4802 - val_accuracy: 0.8182\n",
            "Epoch 44/100\n",
            "73/73 [==============================] - 0s 6ms/step - loss: 0.4740 - accuracy: 0.8108 - val_loss: 0.4770 - val_accuracy: 0.8071\n",
            "Epoch 45/100\n",
            "73/73 [==============================] - 0s 7ms/step - loss: 0.4693 - accuracy: 0.8087 - val_loss: 0.4754 - val_accuracy: 0.8202\n",
            "Epoch 46/100\n",
            "73/73 [==============================] - 0s 6ms/step - loss: 0.4670 - accuracy: 0.8177 - val_loss: 0.4691 - val_accuracy: 0.8172\n",
            "Epoch 47/100\n",
            "73/73 [==============================] - 0s 7ms/step - loss: 0.4638 - accuracy: 0.8095 - val_loss: 0.4725 - val_accuracy: 0.8283\n",
            "Epoch 48/100\n",
            "73/73 [==============================] - 0s 5ms/step - loss: 0.4629 - accuracy: 0.8143 - val_loss: 0.4736 - val_accuracy: 0.7990\n",
            "Epoch 49/100\n",
            "73/73 [==============================] - 0s 6ms/step - loss: 0.4606 - accuracy: 0.8035 - val_loss: 0.4676 - val_accuracy: 0.8303\n",
            "Epoch 50/100\n",
            "73/73 [==============================] - 0s 6ms/step - loss: 0.4563 - accuracy: 0.8165 - val_loss: 0.4614 - val_accuracy: 0.8131\n",
            "Epoch 51/100\n",
            "73/73 [==============================] - 0s 6ms/step - loss: 0.4521 - accuracy: 0.8216 - val_loss: 0.4593 - val_accuracy: 0.8283\n",
            "Epoch 52/100\n",
            "73/73 [==============================] - 0s 6ms/step - loss: 0.4520 - accuracy: 0.8165 - val_loss: 0.4535 - val_accuracy: 0.8202\n",
            "Epoch 53/100\n",
            "73/73 [==============================] - 0s 6ms/step - loss: 0.4478 - accuracy: 0.8212 - val_loss: 0.4547 - val_accuracy: 0.8273\n",
            "Epoch 54/100\n",
            "73/73 [==============================] - 0s 5ms/step - loss: 0.4460 - accuracy: 0.8273 - val_loss: 0.4585 - val_accuracy: 0.8030\n",
            "Epoch 55/100\n",
            "73/73 [==============================] - 0s 6ms/step - loss: 0.4519 - accuracy: 0.8152 - val_loss: 0.4487 - val_accuracy: 0.8182\n",
            "Epoch 56/100\n",
            "73/73 [==============================] - 0s 6ms/step - loss: 0.4416 - accuracy: 0.8229 - val_loss: 0.4541 - val_accuracy: 0.8354\n",
            "Epoch 57/100\n",
            "73/73 [==============================] - 0s 7ms/step - loss: 0.4429 - accuracy: 0.8268 - val_loss: 0.4496 - val_accuracy: 0.8141\n",
            "Epoch 58/100\n",
            "73/73 [==============================] - 0s 6ms/step - loss: 0.4382 - accuracy: 0.8264 - val_loss: 0.4414 - val_accuracy: 0.8222\n",
            "Epoch 59/100\n",
            "73/73 [==============================] - 0s 7ms/step - loss: 0.4360 - accuracy: 0.8251 - val_loss: 0.4404 - val_accuracy: 0.8222\n",
            "Epoch 60/100\n",
            "73/73 [==============================] - 0s 6ms/step - loss: 0.4352 - accuracy: 0.8290 - val_loss: 0.4436 - val_accuracy: 0.8172\n",
            "Epoch 61/100\n",
            "73/73 [==============================] - 1s 7ms/step - loss: 0.4339 - accuracy: 0.8342 - val_loss: 0.4697 - val_accuracy: 0.7909\n",
            "Epoch 62/100\n",
            "73/73 [==============================] - 0s 6ms/step - loss: 0.4327 - accuracy: 0.8277 - val_loss: 0.4393 - val_accuracy: 0.8384\n",
            "Epoch 63/100\n",
            "73/73 [==============================] - 0s 7ms/step - loss: 0.4285 - accuracy: 0.8312 - val_loss: 0.4407 - val_accuracy: 0.8162\n",
            "Epoch 64/100\n",
            "73/73 [==============================] - 0s 6ms/step - loss: 0.4293 - accuracy: 0.8286 - val_loss: 0.4331 - val_accuracy: 0.8343\n",
            "Epoch 65/100\n",
            "73/73 [==============================] - 1s 7ms/step - loss: 0.4260 - accuracy: 0.8290 - val_loss: 0.4355 - val_accuracy: 0.8202\n",
            "Epoch 66/100\n",
            "73/73 [==============================] - 0s 6ms/step - loss: 0.4288 - accuracy: 0.8290 - val_loss: 0.4333 - val_accuracy: 0.8364\n",
            "Epoch 67/100\n",
            "73/73 [==============================] - 0s 7ms/step - loss: 0.4320 - accuracy: 0.8156 - val_loss: 0.4504 - val_accuracy: 0.7990\n",
            "Epoch 68/100\n",
            "73/73 [==============================] - 0s 7ms/step - loss: 0.4317 - accuracy: 0.8238 - val_loss: 0.4253 - val_accuracy: 0.8354\n",
            "Epoch 69/100\n",
            "73/73 [==============================] - 0s 7ms/step - loss: 0.4208 - accuracy: 0.8342 - val_loss: 0.4253 - val_accuracy: 0.8333\n",
            "Epoch 70/100\n",
            "73/73 [==============================] - 0s 6ms/step - loss: 0.4200 - accuracy: 0.8368 - val_loss: 0.4481 - val_accuracy: 0.8040\n",
            "Epoch 71/100\n",
            "73/73 [==============================] - 0s 6ms/step - loss: 0.4214 - accuracy: 0.8320 - val_loss: 0.4226 - val_accuracy: 0.8283\n",
            "Epoch 72/100\n",
            "73/73 [==============================] - 0s 6ms/step - loss: 0.4198 - accuracy: 0.8329 - val_loss: 0.4218 - val_accuracy: 0.8303\n",
            "Epoch 73/100\n",
            "73/73 [==============================] - 0s 6ms/step - loss: 0.4179 - accuracy: 0.8342 - val_loss: 0.4327 - val_accuracy: 0.8374\n",
            "Epoch 74/100\n",
            "73/73 [==============================] - 0s 6ms/step - loss: 0.4193 - accuracy: 0.8359 - val_loss: 0.4285 - val_accuracy: 0.8222\n",
            "Epoch 75/100\n",
            "73/73 [==============================] - 0s 6ms/step - loss: 0.4183 - accuracy: 0.8307 - val_loss: 0.4202 - val_accuracy: 0.8253\n",
            "Epoch 76/100\n",
            "73/73 [==============================] - 0s 7ms/step - loss: 0.4159 - accuracy: 0.8338 - val_loss: 0.4176 - val_accuracy: 0.8293\n",
            "Epoch 77/100\n",
            "73/73 [==============================] - 0s 6ms/step - loss: 0.4182 - accuracy: 0.8312 - val_loss: 0.4213 - val_accuracy: 0.8263\n",
            "Epoch 78/100\n",
            "73/73 [==============================] - 0s 7ms/step - loss: 0.4155 - accuracy: 0.8307 - val_loss: 0.4174 - val_accuracy: 0.8293\n",
            "Epoch 79/100\n",
            "73/73 [==============================] - 0s 7ms/step - loss: 0.4167 - accuracy: 0.8364 - val_loss: 0.4230 - val_accuracy: 0.8212\n",
            "Epoch 80/100\n",
            "73/73 [==============================] - 0s 6ms/step - loss: 0.4170 - accuracy: 0.8346 - val_loss: 0.4167 - val_accuracy: 0.8364\n",
            "Epoch 81/100\n",
            "73/73 [==============================] - 0s 6ms/step - loss: 0.4098 - accuracy: 0.8338 - val_loss: 0.4128 - val_accuracy: 0.8374\n",
            "Epoch 82/100\n",
            "73/73 [==============================] - 0s 7ms/step - loss: 0.4100 - accuracy: 0.8377 - val_loss: 0.4216 - val_accuracy: 0.8242\n",
            "Epoch 83/100\n",
            "73/73 [==============================] - 1s 7ms/step - loss: 0.4094 - accuracy: 0.8338 - val_loss: 0.4132 - val_accuracy: 0.8364\n",
            "Epoch 84/100\n",
            "73/73 [==============================] - 0s 6ms/step - loss: 0.4105 - accuracy: 0.8346 - val_loss: 0.4137 - val_accuracy: 0.8303\n",
            "Epoch 85/100\n",
            "73/73 [==============================] - 0s 6ms/step - loss: 0.4113 - accuracy: 0.8333 - val_loss: 0.4127 - val_accuracy: 0.8333\n",
            "Epoch 86/100\n",
            "73/73 [==============================] - 0s 6ms/step - loss: 0.4036 - accuracy: 0.8364 - val_loss: 0.4093 - val_accuracy: 0.8313\n",
            "Epoch 87/100\n",
            "73/73 [==============================] - 1s 7ms/step - loss: 0.4074 - accuracy: 0.8355 - val_loss: 0.4138 - val_accuracy: 0.8394\n",
            "Epoch 88/100\n",
            "73/73 [==============================] - 0s 6ms/step - loss: 0.4077 - accuracy: 0.8320 - val_loss: 0.4154 - val_accuracy: 0.8414\n",
            "Epoch 89/100\n",
            "73/73 [==============================] - 0s 6ms/step - loss: 0.4046 - accuracy: 0.8351 - val_loss: 0.4050 - val_accuracy: 0.8374\n",
            "Epoch 90/100\n",
            "73/73 [==============================] - 0s 5ms/step - loss: 0.4003 - accuracy: 0.8377 - val_loss: 0.4120 - val_accuracy: 0.8293\n",
            "Epoch 91/100\n",
            "73/73 [==============================] - 0s 5ms/step - loss: 0.4026 - accuracy: 0.8329 - val_loss: 0.4098 - val_accuracy: 0.8283\n",
            "Epoch 92/100\n",
            "73/73 [==============================] - 0s 6ms/step - loss: 0.4032 - accuracy: 0.8368 - val_loss: 0.4072 - val_accuracy: 0.8333\n",
            "Epoch 93/100\n",
            "73/73 [==============================] - 0s 6ms/step - loss: 0.3998 - accuracy: 0.8368 - val_loss: 0.4053 - val_accuracy: 0.8394\n",
            "Epoch 94/100\n",
            "73/73 [==============================] - 0s 6ms/step - loss: 0.4009 - accuracy: 0.8385 - val_loss: 0.4068 - val_accuracy: 0.8333\n",
            "Epoch 95/100\n",
            "73/73 [==============================] - 0s 5ms/step - loss: 0.3987 - accuracy: 0.8381 - val_loss: 0.4051 - val_accuracy: 0.8333\n",
            "Epoch 96/100\n",
            "73/73 [==============================] - 0s 5ms/step - loss: 0.4000 - accuracy: 0.8364 - val_loss: 0.4083 - val_accuracy: 0.8444\n",
            "Epoch 97/100\n",
            "73/73 [==============================] - 0s 6ms/step - loss: 0.3989 - accuracy: 0.8364 - val_loss: 0.4027 - val_accuracy: 0.8414\n",
            "Epoch 98/100\n",
            "73/73 [==============================] - 0s 6ms/step - loss: 0.3982 - accuracy: 0.8381 - val_loss: 0.4015 - val_accuracy: 0.8414\n",
            "Epoch 99/100\n",
            "73/73 [==============================] - 0s 6ms/step - loss: 0.3993 - accuracy: 0.8377 - val_loss: 0.4000 - val_accuracy: 0.8414\n",
            "Epoch 100/100\n",
            "73/73 [==============================] - 0s 6ms/step - loss: 0.3987 - accuracy: 0.8359 - val_loss: 0.4092 - val_accuracy: 0.8263\n"
          ]
        }
      ]
    },
    {
      "cell_type": "markdown",
      "metadata": {
        "id": "pTAveNFNrvrX"
      },
      "source": [
        "## Attack Evaluation"
      ]
    },
    {
      "cell_type": "code",
      "metadata": {
        "id": "g9GxZE5Yntpw"
      },
      "source": [
        "def evaluate_attack(attack_model, X_attack, y_attack, n_classes):\n",
        "  acc_per_class = []\n",
        "  for c in range(n_classes):\n",
        "    class_instances = X_attack[:, 0] == c # get same class samples\n",
        "    test_loss, test_acc = attack_model.evaluate(X_attack[class_instances, :], y_attack[class_instances], verbose=0)\n",
        "    acc_per_class.append(test_acc)\n",
        "    print(f\"class-{c+1}: {test_acc}\")\n",
        "  return acc_per_class"
      ],
      "execution_count": 161,
      "outputs": []
    },
    {
      "cell_type": "code",
      "metadata": {
        "id": "iiQyYdB7SABg",
        "colab": {
          "base_uri": "https://localhost:8080/"
        },
        "outputId": "415aa318-4592-4a84-a771-cf847e4eca4c"
      },
      "source": [
        "# create a test dataset \n",
        "\n",
        "D_in = prepare_batch(target_model, train_images[:1000], train_labels[:1000], True)\n",
        "print(\"Testing with 'in' data only:\")\n",
        "res_in = evaluate_attack(attack_model_bundle, D_in[:, :-1], D_in[:, -1], 10)\n",
        "\n",
        "D_out = prepare_batch(target_model, attacker_images[:1000], attacker_labels[:1000], False)\n",
        "print(\"\\nTesting with 'out' data only:\")\n",
        "res_out = evaluate_attack(attack_model_bundle, D_out[:, :-1], D_out[:, -1], 10)\n",
        "\n",
        "print(\"\\nTesting with all prev data: \")\n",
        "res_all = evaluate_attack(attack_model_bundle, np.concatenate((D_out[:, :-1], D_in[:, :-1])), np.concatenate((D_out[:, -1], D_in[:, -1])), 10)\n",
        "\n",
        "print(f\"\\nTotal attack accuracy: {np.mean(res_all)}\")"
      ],
      "execution_count": 162,
      "outputs": [
        {
          "output_type": "stream",
          "name": "stdout",
          "text": [
            "Testing with 'in' data only:\n",
            "class-1: 1.0\n",
            "class-2: 1.0\n",
            "class-3: 1.0\n",
            "class-4: 1.0\n",
            "class-5: 1.0\n",
            "class-6: 1.0\n",
            "class-7: 1.0\n",
            "class-8: 1.0\n",
            "class-9: 1.0\n",
            "class-10: 1.0\n",
            "\n",
            "Testing with 'out' data only:\n",
            "class-1: 0.5684210658073425\n",
            "class-2: 0.488095223903656\n",
            "class-3: 0.7886179089546204\n",
            "class-4: 0.7849462628364563\n",
            "class-5: 0.6875\n",
            "class-6: 0.6126126050949097\n",
            "class-7: 0.4423076808452606\n",
            "class-8: 0.5113636255264282\n",
            "class-9: 0.6132075190544128\n",
            "class-10: 0.5299999713897705\n",
            "\n",
            "Testing with all prev data: \n",
            "class-1: 0.7929292917251587\n",
            "class-2: 0.7724867463111877\n",
            "class-3: 0.8818181753158569\n",
            "class-4: 0.88165682554245\n",
            "class-5: 0.8598130941390991\n",
            "class-6: 0.7971698045730591\n",
            "class-7: 0.7170731425285339\n",
            "class-8: 0.7724867463111877\n",
            "class-9: 0.800000011920929\n",
            "class-10: 0.7638190984725952\n",
            "\n",
            "Total attack accuracy: 0.8039252936840058\n"
          ]
        }
      ]
    },
    {
      "cell_type": "code",
      "source": [
        "y_pred = (attack_model_bundle.predict(np.concatenate((D_out[:, :-1], D_in[:, :-1]))) > 0.5).astype(np.int8)\n",
        "y_true = np.concatenate((D_out[:, -1], D_in[:, -1]))\n",
        "print(classification_report(y_true.reshape(-1), y_pred.reshape(-1)))"
      ],
      "metadata": {
        "colab": {
          "base_uri": "https://localhost:8080/"
        },
        "id": "8wDNdLqnnyVp",
        "outputId": "cf4e137f-ebf5-4872-87bc-c9d894fbda44"
      },
      "execution_count": 163,
      "outputs": [
        {
          "output_type": "stream",
          "name": "stdout",
          "text": [
            "              precision    recall  f1-score   support\n",
            "\n",
            "         0.0       1.00      0.61      0.76      1000\n",
            "         1.0       0.72      1.00      0.84      1000\n",
            "\n",
            "    accuracy                           0.80      2000\n",
            "   macro avg       0.86      0.80      0.80      2000\n",
            "weighted avg       0.86      0.80      0.80      2000\n",
            "\n"
          ]
        }
      ]
    },
    {
      "cell_type": "code",
      "source": [
        "\n",
        "y_pred = attack_model_bundle.predict(np.concatenate((D_out[:, :-1], D_in[:, :-1])))\n",
        "y_true = np.concatenate((D_out[:, -1], D_in[:, -1]))\n",
        "\n",
        "fpr, tpr, _ = roc_curve(y_true, y_pred)\n",
        "\n",
        "plt.plot(fpr, tpr)\n",
        "\n",
        "print(f\"AUC = {roc_auc_score(y_true, y_pred)}\")"
      ],
      "metadata": {
        "colab": {
          "base_uri": "https://localhost:8080/",
          "height": 282
        },
        "id": "G8aQH6Nqp3Ah",
        "outputId": "28a0c9f6-5328-40ad-81aa-587fa019a9e7"
      },
      "execution_count": 164,
      "outputs": [
        {
          "output_type": "stream",
          "name": "stdout",
          "text": [
            "AUC = 0.8110490000000001\n"
          ]
        },
        {
          "output_type": "display_data",
          "data": {
            "image/png": "[encoded data removed]",
            "text/plain": [
              "<Figure size 432x288 with 1 Axes>"
            ]
          },
          "metadata": {
            "needs_background": "light"
          }
        }
      ]
    },
    {
      "cell_type": "markdown",
      "metadata": {
        "id": "8grjprA4PmE7"
      },
      "source": [
        "# Extras"
      ]
    },
    {
      "cell_type": "markdown",
      "source": [
        "## Check target model's behaviour in perturbed images"
      ],
      "metadata": {
        "id": "w9g2jus3rP1j"
      }
    },
    {
      "cell_type": "code",
      "source": [
        "def study_perturbations(model, X, y, rs, ts):\n",
        "  diffs = []\n",
        "  y_pred = target_predict(model, X)    \n",
        "  for c in range(10):\n",
        "    #  given class acquire the changes in perturbed input instances given the model\n",
        "    idx = y_pred[:, 0] == c\n",
        "    X_c = X[idx]\n",
        "    y_pred_c = y_pred[idx]\n",
        "    perturbed_labels = (augmented_queries(model, X_c, y_pred_c, rs, ts) == y_pred_c).astype(np.int8)\n",
        "    # Now we have to count how many labels diverge from the predicted label\n",
        "    diff = len(perturbed_labels.reshape(-1)) - sum(perturbed_labels.reshape(-1)) # the labels are binary where 1 == y_pred = y_perturbed, otherwise 0\n",
        "    diffs.append(int(100 * diff/len(perturbed_labels.reshape(-1)))) # append the percentage of changes in the class sample\n",
        "    \n",
        "  return diffs "
      ],
      "metadata": {
        "id": "sD5YbfusfCob"
      },
      "execution_count": 174,
      "outputs": []
    },
    {
      "cell_type": "code",
      "source": [
        "N_SAMPLES = 100\n",
        "train_idx = np.random.choice(range(train_images.shape[0]), N_SAMPLES, replace=False)\n",
        "test_idx = np.random.choice(range(attacker_images.shape[0]), N_SAMPLES, replace=False)"
      ],
      "metadata": {
        "id": "w-0sJVhfbfQ3"
      },
      "execution_count": 175,
      "outputs": []
    },
    {
      "cell_type": "code",
      "source": [
        "fig, axes = plt.subplots(1, 3, figsize=(15, 5))\n",
        "\n",
        "# tests in D_in\n",
        "diffs_per_class_D_in = study_perturbations(target_model, train_images[train_idx], train_labels[train_idx], r, d) \n",
        "total_diffs_in = sum(diffs_per_class_D_in)/10\n",
        "axes[0].set_title('D_in predicted label divergence');\n",
        "axes[0].barh(list(range(10)), diffs_per_class_D_in, tick_label=[f'Class-{i}' for i in range(10)])\n",
        "\n",
        "# tests in D_out  \n",
        "diffs_per_class_D_out= study_perturbations(target_model,attacker_images[test_idx],attacker_labels[test_idx], r, d)\n",
        "total_diffs_out = sum(diffs_per_class_D_out)/10\n",
        "axes[1].set_title('D_out predicted label divergence');\n",
        "axes[1].barh(list(range(10)), diffs_per_class_D_out, tick_label=[f'Class-{i}' for i in range(10)])\n",
        "\n",
        "axes[2].set_title('Total predicted label divergence percentage');\n",
        "axes[2].barh([1, 0], [total_diffs_in, total_diffs_out], tick_label=['In', 'Out'])\n",
        "\n",
        "plt.setp(axes, xticks=range(0, 101, 10), xticklabels=[f'{i}%' for i in range(0, 101, 10)])"
      ],
      "metadata": {
        "colab": {
          "base_uri": "https://localhost:8080/",
          "height": 1000
        },
        "id": "dpYCPdS0EA-p",
        "outputId": "7f267118-5d81-4ba3-b03f-b34a28589c87"
      },
      "execution_count": 176,
      "outputs": [
        {
          "output_type": "execute_result",
          "data": {
            "text/plain": [
              "[<matplotlib.axis.XTick at 0x7f81dd74fa10>,\n",
              " <matplotlib.axis.XTick at 0x7f81dd74f250>,\n",
              " <matplotlib.axis.XTick at 0x7f81dd74f150>,\n",
              " <matplotlib.axis.XTick at 0x7f8353ee4390>,\n",
              " <matplotlib.axis.XTick at 0x7f81ea7bb050>,\n",
              " <matplotlib.axis.XTick at 0x7f81ea70b490>,\n",
              " <matplotlib.axis.XTick at 0x7f81dda50590>,\n",
              " <matplotlib.axis.XTick at 0x7f825dfd4790>,\n",
              " <matplotlib.axis.XTick at 0x7f825e106d50>,\n",
              " <matplotlib.axis.XTick at 0x7f81e305be90>,\n",
              " <matplotlib.axis.XTick at 0x7f81df430490>,\n",
              " Text(0, 0, '0%'),\n",
              " Text(0, 0, '10%'),\n",
              " Text(0, 0, '20%'),\n",
              " Text(0, 0, '30%'),\n",
              " Text(0, 0, '40%'),\n",
              " Text(0, 0, '50%'),\n",
              " Text(0, 0, '60%'),\n",
              " Text(0, 0, '70%'),\n",
              " Text(0, 0, '80%'),\n",
              " Text(0, 0, '90%'),\n",
              " Text(0, 0, '100%'),\n",
              " <matplotlib.axis.XTick at 0x7f81dd83c2d0>,\n",
              " <matplotlib.axis.XTick at 0x7f81dd83c390>,\n",
              " <matplotlib.axis.XTick at 0x7f81dd81cbd0>,\n",
              " <matplotlib.axis.XTick at 0x7f81dd65b4d0>,\n",
              " <matplotlib.axis.XTick at 0x7f81e3381a90>,\n",
              " <matplotlib.axis.XTick at 0x7f81e33816d0>,\n",
              " <matplotlib.axis.XTick at 0x7f81eaa692d0>,\n",
              " <matplotlib.axis.XTick at 0x7f81ea7bb390>,\n",
              " <matplotlib.axis.XTick at 0x7f81da3accd0>,\n",
              " <matplotlib.axis.XTick at 0x7f8260eca050>,\n",
              " <matplotlib.axis.XTick at 0x7f81ddccfad0>,\n",
              " Text(0, 0, '0%'),\n",
              " Text(0, 0, '10%'),\n",
              " Text(0, 0, '20%'),\n",
              " Text(0, 0, '30%'),\n",
              " Text(0, 0, '40%'),\n",
              " Text(0, 0, '50%'),\n",
              " Text(0, 0, '60%'),\n",
              " Text(0, 0, '70%'),\n",
              " Text(0, 0, '80%'),\n",
              " Text(0, 0, '90%'),\n",
              " Text(0, 0, '100%'),\n",
              " <matplotlib.axis.XTick at 0x7f81dd61bbd0>,\n",
              " <matplotlib.axis.XTick at 0x7f81dd61bb90>,\n",
              " <matplotlib.axis.XTick at 0x7f81dd61b910>,\n",
              " <matplotlib.axis.XTick at 0x7f8353c7a0d0>,\n",
              " <matplotlib.axis.XTick at 0x7f81dd5f5250>,\n",
              " <matplotlib.axis.XTick at 0x7f81dea8a650>,\n",
              " <matplotlib.axis.XTick at 0x7f81dd83c650>,\n",
              " <matplotlib.axis.XTick at 0x7f8353c94c50>,\n",
              " <matplotlib.axis.XTick at 0x7f81da3acfd0>,\n",
              " <matplotlib.axis.XTick at 0x7f81e765b350>,\n",
              " <matplotlib.axis.XTick at 0x7f83541dd810>,\n",
              " Text(0, 0, '0%'),\n",
              " Text(0, 0, '10%'),\n",
              " Text(0, 0, '20%'),\n",
              " Text(0, 0, '30%'),\n",
              " Text(0, 0, '40%'),\n",
              " Text(0, 0, '50%'),\n",
              " Text(0, 0, '60%'),\n",
              " Text(0, 0, '70%'),\n",
              " Text(0, 0, '80%'),\n",
              " Text(0, 0, '90%'),\n",
              " Text(0, 0, '100%')]"
            ]
          },
          "metadata": {},
          "execution_count": 176
        },
        {
          "output_type": "display_data",
          "data": {
            "image/png": "[encoded data removed]",
            "text/plain": [
              "<Figure size 1080x360 with 3 Axes>"
            ]
          },
          "metadata": {
            "needs_background": "light"
          }
        }
      ]
    },
    {
      "cell_type": "markdown",
      "source": [
        "## Attack a perturbation trained model\n",
        "\n",
        "- We will apply augmentations to the dataset and re-train the target model.\n",
        "- The attacker **does not** know our augmentation settings, so he will train with a normal dataset of zero augmentations\n",
        "- We want to measure the quality of the attack when the target tries to defend MIAs by adding perturbed images of data samples "
      ],
      "metadata": {
        "id": "WZOpEdcmCMXX"
      }
    },
    {
      "cell_type": "code",
      "source": [
        "# We will defend against the same rotations and translations that the attack models uses (worst case for the attacker)\n",
        "rotates = create_rotates(r)\n",
        "translates = create_translates(d)\n",
        "\n",
        "X_train_aug = train_images\n",
        "X_eval_aug = eval_images\n",
        "y_train_aug = np.concatenate(tuple([train_labels] + [train_labels for rot in rotates] + [train_labels for tra in translates]))\n",
        "y_eval_aug = np.concatenate(tuple([eval_labels] + [eval_labels for rot in rotates] + [eval_labels for tra in translates]))\n",
        "\n",
        "\n",
        "\n",
        "for rot in rotates:\n",
        "  aug_x = apply_augment(train_images, rot, 'r')\n",
        "  X_train_aug = np.concatenate((X_train_aug,aug_x))\n",
        "  aug_x = apply_augment(eval_images, rot, 'r')\n",
        "  X_eval_aug = np.concatenate((X_eval_aug,aug_x))\n",
        "\n",
        "for tra in translates:\n",
        "  aug_x = apply_augment(train_images, tra, 'd')\n",
        "  X_train_aug = np.concatenate((X_train_aug,aug_x))\n",
        "  aug_x = apply_augment(eval_images, tra, 'd')\n",
        "  X_eval_aug = np.concatenate((X_eval_aug ,aug_x))\n"
      ],
      "metadata": {
        "id": "4Cl0sR-1I_sG"
      },
      "execution_count": 177,
      "outputs": []
    },
    {
      "cell_type": "code",
      "source": [
        "\n",
        "with tf.device('/gpu:0'):\n",
        "  X_train_aug = tf.convert_to_tensor(X_train_aug)\n",
        "  y_train_aug = tf.convert_to_tensor(y_train_aug)\n",
        "  X_eval_aug = tf.convert_to_tensor(X_eval_aug)\n",
        "  y_eval_aug = tf.convert_to_tensor(y_eval_aug)\n",
        "  target_model = f_target(X_train_aug, y_train_aug, X_eval_aug, y_eval_aug, epochs=10) "
      ],
      "metadata": {
        "id": "JaNvyxztuwED",
        "colab": {
          "base_uri": "https://localhost:8080/"
        },
        "outputId": "1023d70c-6b5e-4463-8e6c-1db9f5d98d48"
      },
      "execution_count": 178,
      "outputs": [
        {
          "output_type": "stream",
          "name": "stdout",
          "text": [
            "Epoch 1/10\n",
            "688/688 [==============================] - 10s 14ms/step - loss: 1.1850 - accuracy: 0.6403 - val_loss: 3.0155 - val_accuracy: 0.3853\n",
            "Epoch 2/10\n",
            "688/688 [==============================] - 9s 13ms/step - loss: 0.1942 - accuracy: 0.9388 - val_loss: 3.5806 - val_accuracy: 0.3740\n",
            "Epoch 3/10\n",
            "688/688 [==============================] - 9s 13ms/step - loss: 0.1092 - accuracy: 0.9673 - val_loss: 4.3989 - val_accuracy: 0.3804\n",
            "Epoch 4/10\n",
            "688/688 [==============================] - 9s 13ms/step - loss: 0.0985 - accuracy: 0.9710 - val_loss: 4.5038 - val_accuracy: 0.4078\n",
            "Epoch 5/10\n",
            "688/688 [==============================] - 8s 12ms/step - loss: 0.0822 - accuracy: 0.9762 - val_loss: 5.0450 - val_accuracy: 0.3900\n",
            "Epoch 6/10\n",
            "688/688 [==============================] - 9s 13ms/step - loss: 0.0758 - accuracy: 0.9785 - val_loss: 5.1546 - val_accuracy: 0.3704\n",
            "Epoch 7/10\n",
            "688/688 [==============================] - 8s 12ms/step - loss: 0.0684 - accuracy: 0.9805 - val_loss: 6.0791 - val_accuracy: 0.3742\n",
            "Epoch 8/10\n",
            "688/688 [==============================] - 8s 12ms/step - loss: 0.0693 - accuracy: 0.9824 - val_loss: 5.9424 - val_accuracy: 0.3529\n",
            "Epoch 9/10\n",
            "688/688 [==============================] - 8s 12ms/step - loss: 0.0568 - accuracy: 0.9840 - val_loss: 6.0120 - val_accuracy: 0.3525\n",
            "Epoch 10/10\n",
            "688/688 [==============================] - 8s 12ms/step - loss: 0.0680 - accuracy: 0.9819 - val_loss: 7.3687 - val_accuracy: 0.3271\n"
          ]
        }
      ]
    },
    {
      "cell_type": "markdown",
      "source": [
        "The model is quite overfitted so now all that is left is to evaluate the attack model we created before on the newly trained and \"defended\" target model with perturbations in the train dataset."
      ],
      "metadata": {
        "id": "bsRYuPrCUBWl"
      }
    },
    {
      "cell_type": "code",
      "source": [
        "D_in = prepare_batch(target_model, train_images[:1000], train_labels[:1000], True)\n",
        "print(\"Testing with 'in' data only:\")\n",
        "res_in = evaluate_attack(attack_model_bundle, D_in[:, :-1], D_in[:, -1], 10)\n",
        "\n",
        "D_out = prepare_batch(target_model, attacker_images[:1000], attacker_labels[:1000], False)\n",
        "print(\"\\nTesting with 'out' data only:\")\n",
        "res_out = evaluate_attack(attack_model_bundle, D_out[:, :-1], D_out[:, -1], 10)\n",
        "\n",
        "print(\"\\nTesting with all prev data: \")\n",
        "res_all = evaluate_attack(attack_model_bundle, np.concatenate((D_out[:, :-1], D_in[:, :-1])), np.concatenate((D_out[:, -1], D_in[:, -1])), 10)\n",
        "\n",
        "print(f\"\\nTotal attack accuracy: {np.mean(res_all)}\")"
      ],
      "metadata": {
        "colab": {
          "base_uri": "https://localhost:8080/"
        },
        "id": "zyt1sD06SBFa",
        "outputId": "a855f51a-95aa-49ce-ceb6-103057a59419"
      },
      "execution_count": 179,
      "outputs": [
        {
          "output_type": "stream",
          "name": "stdout",
          "text": [
            "Testing with 'in' data only:\n",
            "class-1: 0.978723406791687\n",
            "class-2: 0.9807692170143127\n",
            "class-3: 0.9797979593276978\n",
            "class-4: 0.969072163105011\n",
            "class-5: 1.0\n",
            "class-6: 0.9894737005233765\n",
            "class-7: 0.9677419066429138\n",
            "class-8: 0.9900000095367432\n",
            "class-9: 0.8585858345031738\n",
            "class-10: 1.0\n",
            "\n",
            "Testing with 'out' data only:\n",
            "class-1: 0.6842105388641357\n",
            "class-2: 0.488095223903656\n",
            "class-3: 0.7804877758026123\n",
            "class-4: 0.8064516186714172\n",
            "class-5: 0.5416666865348816\n",
            "class-6: 0.6486486196517944\n",
            "class-7: 0.5961538553237915\n",
            "class-8: 0.6136363744735718\n",
            "class-9: 0.7452830076217651\n",
            "class-10: 0.7799999713897705\n",
            "\n",
            "Testing with all prev data: \n",
            "class-1: 0.8306878209114075\n",
            "class-2: 0.7606382966041565\n",
            "class-3: 0.869369387626648\n",
            "class-4: 0.8894736766815186\n",
            "class-5: 0.7962962985038757\n",
            "class-6: 0.8058252334594727\n",
            "class-7: 0.7715736031532288\n",
            "class-8: 0.813829779624939\n",
            "class-9: 0.800000011920929\n",
            "class-10: 0.8894472122192383\n",
            "\n",
            "Total attack accuracy: 0.8227141320705413\n"
          ]
        }
      ]
    },
    {
      "cell_type": "markdown",
      "source": [
        "### Conclusion\n",
        "\n",
        "To conclude if the model is more vulnerable, we must check what are the label divergence percentage in the newly trained model."
      ],
      "metadata": {
        "id": "fW_JINmBUgd_"
      }
    },
    {
      "cell_type": "code",
      "source": [
        "# test it onthe same data as we tested the non-adjusted to augmentation model\n",
        "fig, axes = plt.subplots(1, 3, figsize=(15, 5))\n",
        "\n",
        "# tests in D_in\n",
        "diffs_per_class_D_in = study_perturbations(target_model, train_images[train_idx], train_labels[train_idx], r, d) \n",
        "total_diffs_in = sum(diffs_per_class_D_in)/10\n",
        "axes[0].set_title('D_in predicted label divergence');\n",
        "axes[0].barh(list(range(10)), diffs_per_class_D_in, tick_label=[f'Class-{i}' for i in range(10)])\n",
        "\n",
        "# tests in D_out  \n",
        "diffs_per_class_D_out= study_perturbations(target_model,attacker_images[test_idx],attacker_labels[test_idx], r, d)\n",
        "total_diffs_out = sum(diffs_per_class_D_out)/10\n",
        "axes[1].set_title('D_out predicted label divergence');\n",
        "axes[1].barh(list(range(10)), diffs_per_class_D_out, tick_label=[f'Class-{i}' for i in range(10)])\n",
        "\n",
        "axes[2].set_title('Total predicted label divergence percentage');\n",
        "axes[2].barh([1, 0], [total_diffs_in, total_diffs_out], tick_label=['In', 'Out'])\n",
        "\n",
        "plt.setp(axes, xticks=range(0, 101, 10), xticklabels=[f'{i}%' for i in range(0, 101, 10)])"
      ],
      "metadata": {
        "colab": {
          "base_uri": "https://localhost:8080/",
          "height": 1000
        },
        "id": "OWDU6N1uSCnA",
        "outputId": "efe35e72-6794-46c5-8043-4f242b271384"
      },
      "execution_count": 181,
      "outputs": [
        {
          "output_type": "execute_result",
          "data": {
            "text/plain": [
              "[<matplotlib.axis.XTick at 0x7f81de618410>,\n",
              " <matplotlib.axis.XTick at 0x7f81e3426e50>,\n",
              " <matplotlib.axis.XTick at 0x7f81e3426ed0>,\n",
              " <matplotlib.axis.XTick at 0x7f825e350f10>,\n",
              " <matplotlib.axis.XTick at 0x7f81de92bb50>,\n",
              " <matplotlib.axis.XTick at 0x7f825e05e710>,\n",
              " <matplotlib.axis.XTick at 0x7f825e22db90>,\n",
              " <matplotlib.axis.XTick at 0x7f825de01610>,\n",
              " <matplotlib.axis.XTick at 0x7f81ea693590>,\n",
              " <matplotlib.axis.XTick at 0x7f82609d8590>,\n",
              " <matplotlib.axis.XTick at 0x7f825e05eb50>,\n",
              " Text(0, 0, '0%'),\n",
              " Text(0, 0, '10%'),\n",
              " Text(0, 0, '20%'),\n",
              " Text(0, 0, '30%'),\n",
              " Text(0, 0, '40%'),\n",
              " Text(0, 0, '50%'),\n",
              " Text(0, 0, '60%'),\n",
              " Text(0, 0, '70%'),\n",
              " Text(0, 0, '80%'),\n",
              " Text(0, 0, '90%'),\n",
              " Text(0, 0, '100%'),\n",
              " <matplotlib.axis.XTick at 0x7f81ea7fc590>,\n",
              " <matplotlib.axis.XTick at 0x7f81ea7fccd0>,\n",
              " <matplotlib.axis.XTick at 0x7f825e08f450>,\n",
              " <matplotlib.axis.XTick at 0x7f825e08fa90>,\n",
              " <matplotlib.axis.XTick at 0x7f82608d4b90>,\n",
              " <matplotlib.axis.XTick at 0x7f825e351950>,\n",
              " <matplotlib.axis.XTick at 0x7f81dbd8e190>,\n",
              " <matplotlib.axis.XTick at 0x7f81dbd8e410>,\n",
              " <matplotlib.axis.XTick at 0x7f82605f7e50>,\n",
              " <matplotlib.axis.XTick at 0x7f825e351cd0>,\n",
              " <matplotlib.axis.XTick at 0x7f825e08fc90>,\n",
              " Text(0, 0, '0%'),\n",
              " Text(0, 0, '10%'),\n",
              " Text(0, 0, '20%'),\n",
              " Text(0, 0, '30%'),\n",
              " Text(0, 0, '40%'),\n",
              " Text(0, 0, '50%'),\n",
              " Text(0, 0, '60%'),\n",
              " Text(0, 0, '70%'),\n",
              " Text(0, 0, '80%'),\n",
              " Text(0, 0, '90%'),\n",
              " Text(0, 0, '100%'),\n",
              " <matplotlib.axis.XTick at 0x7f825e2cd510>,\n",
              " <matplotlib.axis.XTick at 0x7f8260c97f90>,\n",
              " <matplotlib.axis.XTick at 0x7f82605f7b10>,\n",
              " <matplotlib.axis.XTick at 0x7f81de744c10>,\n",
              " <matplotlib.axis.XTick at 0x7f81de744fd0>,\n",
              " <matplotlib.axis.XTick at 0x7f81eaa18dd0>,\n",
              " <matplotlib.axis.XTick at 0x7f825e363690>,\n",
              " <matplotlib.axis.XTick at 0x7f825e3632d0>,\n",
              " <matplotlib.axis.XTick at 0x7f825e3639d0>,\n",
              " <matplotlib.axis.XTick at 0x7f8260c5ac90>,\n",
              " <matplotlib.axis.XTick at 0x7f825e363950>,\n",
              " Text(0, 0, '0%'),\n",
              " Text(0, 0, '10%'),\n",
              " Text(0, 0, '20%'),\n",
              " Text(0, 0, '30%'),\n",
              " Text(0, 0, '40%'),\n",
              " Text(0, 0, '50%'),\n",
              " Text(0, 0, '60%'),\n",
              " Text(0, 0, '70%'),\n",
              " Text(0, 0, '80%'),\n",
              " Text(0, 0, '90%'),\n",
              " Text(0, 0, '100%')]"
            ]
          },
          "metadata": {},
          "execution_count": 181
        },
        {
          "output_type": "display_data",
          "data": {
            "image/png": "[encoded data removed]",
            "text/plain": [
              "<Figure size 1080x360 with 3 Axes>"
            ]
          },
          "metadata": {
            "needs_background": "light"
          }
        }
      ]
    },
    {
      "cell_type": "markdown",
      "source": [
        "We can see that the general percentage of predicted label divergence has fallen, **but** the confidence of the ML algorithm in predicting the label of perturbed instances of instances in $D_{in}$ is even higher that before. This means that the adjusted model is even more vulnerable. Next step is to run all that with a well-generalized model and tune the attack model to get max accuracy."
      ],
      "metadata": {
        "id": "VVyVo6yukPGH"
      }
    }
  ]
}