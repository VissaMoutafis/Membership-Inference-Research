{
  "cells": [
    {
      "cell_type": "markdown",
      "metadata": {
        "id": "2vzAuc5Xo3j2"
      },
      "source": [
        "# Comparison Between Confidence-Vector and Label-Only MIAs\n",
        "\n",
        "### Threat Model:\n",
        "\n",
        "- **Black Box** access to an overfitted classifier with no access to actual $D_{target}$\n",
        "- Predict API returns **confidence vectors** (1st case) or **only labels instead of confidence vectors** (2nd case)\n",
        "- We have some insight on the training data distribution, so the attacker will train on $D_{attacker}$ , **but** $D_{target} \\cap D_{attacker} = \\varnothing$\n",
        "- We have zero insight in target's architecture\n",
        "\n",
        "\n",
        "### Attack with confidence vectors: \n",
        "- Use a shadow model to attack local shadow models and extract membership leakage features\n",
        "- Treat shadow models as targets and train on the produced confidence vectors, given the membership knowledge beforehand\n",
        "- Train an attack model based on the prediction vector and target's confidence on predictions.\n",
        "- Try to attack target model and infer-membership of instances\n",
        "\n",
        "### Attack with labels:\n",
        "- Target will return only the predicted label, trying to protect from any membership leakage.\n",
        "- We use data perturbations in order to exploit test/training data approximation relevancies to the classification boundaries.\n",
        "- We know that training data are more robust to perturbations (**check section::Extras**)\n",
        "- We will use the perturbations to build a feature vector $\\forall x \\in D_{attacker}$, that is consisted from the true label, the predicted label and the predicted labels for al perturbations of given $x$.\n",
        "- We will train an attack model on this dataset, given the ground truth our shadow models provide us with. \n",
        "\n",
        "### Evaluation Target\n",
        "- Score over $50\\%$ accuracy in each attack model\n",
        "- Get a high $AUC$ score (prediction sensitivity)\n",
        "- Compare the 2 attacks and prove that ommition of confidence vectors does not patch the models vulnerability.\n",
        "\n",
        "Label-Only attack implemented based on [this paper](https://arxiv.org/abs/2007.14321)."
      ]
    },
    {
      "cell_type": "code",
      "execution_count": 1,
      "metadata": {
        "colab": {
          "base_uri": "https://localhost:8080/"
        },
        "id": "tg_WQJ7j5n3B",
        "outputId": "55d45fc8-4669-4c86-b8ca-fe5fdee13c4a"
      },
      "outputs": [
        {
          "output_type": "stream",
          "name": "stdout",
          "text": [
            "Num GPUs Available:  1\n"
          ]
        }
      ],
      "source": [
        "import numpy as np\n",
        "import matplotlib.pyplot as plt\n",
        "\n",
        "import math\n",
        "import tensorflow as tf\n",
        "from tensorflow.keras import datasets, layers, models\n",
        "from sklearn.model_selection import train_test_split\n",
        "from tensorflow import keras\n",
        "from tensorflow.keras import regularizers\n",
        "\n",
        "# for image interpolation\n",
        "import scipy.ndimage.interpolation as interpolation\n",
        "\n",
        "from sklearn.metrics import roc_auc_score, roc_curve\n",
        "from sklearn.metrics import classification_report\n",
        "\n",
        "from mia.attack_model import *\n",
        "from mia.label_only import *\n",
        "from mia.shadow_models import *\n",
        "from mia.utilities import *\n",
        "from mia.wrappers import ConfidenceVectorAttack, LabelOnlyAttack\n",
        "\n",
        "from tqdm import tqdm\n",
        "import sys\n",
        "print(\"Num GPUs Available: \", len(tf.config.list_physical_devices('GPU')))\n"
      ]
    },
    {
      "cell_type": "markdown",
      "metadata": {
        "id": "5Kv7Qon0qRTk"
      },
      "source": [
        "## Target Model\n",
        "\n",
        "Create a simple model that overfits, for exposition reasons."
      ]
    },
    {
      "cell_type": "code",
      "execution_count": 2,
      "metadata": {
        "id": "zacp4ArauIET"
      },
      "outputs": [],
      "source": [
        "D_TARGET_SIZE = 1000"
      ]
    },
    {
      "cell_type": "code",
      "execution_count": 3,
      "metadata": {
        "id": "1qg7LkXX0zOF"
      },
      "outputs": [],
      "source": [
        "def f_target(X_train, y_train, X_test=None, y_test=None, epochs=100):\n",
        "  \"\"\"\n",
        "  Returns a trained target model, if test data are specified we will evaluate the model and print its accuracy\n",
        "  \"\"\"\n",
        "  model = models.Sequential()\n",
        "  model.add(layers.Conv2D(32, (3, 3), activation='relu', input_shape=X_train.shape[1:]))\n",
        "  model.add(layers.Conv2D(32, (3, 3), activation='relu'))\n",
        "  model.add(layers.MaxPooling2D((2, 2)))\n",
        "  model.add(layers.Conv2D(64, (3, 3), activation='relu'))\n",
        "  model.add(layers.Conv2D(64, (3, 3), activation='relu'))\n",
        "  model.add(layers.MaxPooling2D((2, 2)))\n",
        "  model.add(layers.Conv2D(128, (3, 3), activation='relu'))\n",
        "\n",
        "  model.add(layers.Flatten())\n",
        "  model.add(layers.Dense(128, activation='relu'))\n",
        "  model.add(layers.Dense(256, activation='relu'))\n",
        "\n",
        "  model.add(layers.Dense(10))\n",
        "  \n",
        "  optimizer = keras.optimizers.Adam(learning_rate=0.001)\n",
        "  model.compile(optimizer=optimizer,\n",
        "              loss=tf.keras.losses.SparseCategoricalCrossentropy(from_logits=True),\n",
        "              metrics=['accuracy'])\n",
        "  if X_test is None or y_test is None:\n",
        "    history = model.fit(X_train, y_train, epochs=epochs, \n",
        "                    validation_split=0.2)\n",
        "  else:\n",
        "    history = model.fit(X_train, y_train, epochs=epochs, \n",
        "                    validation_data=(X_test, y_test))\n",
        "  return model"
      ]
    },
    {
      "cell_type": "markdown",
      "source": [
        "Shuffle the dataset and divide it to 2 disjoint sets, $D_{target}$ and $D_{attacker}$."
      ],
      "metadata": {
        "id": "6RtAKVqlyUlA"
      }
    },
    {
      "cell_type": "code",
      "execution_count": 4,
      "metadata": {
        "id": "oy2NLipP75sX",
        "colab": {
          "base_uri": "https://localhost:8080/"
        },
        "outputId": "6a9287f6-1da7-4d05-d9be-d1821a4669e9"
      },
      "outputs": [
        {
          "output_type": "stream",
          "name": "stdout",
          "text": [
            "Downloading data from https://storage.googleapis.com/tensorflow/tf-keras-datasets/mnist.npz\n",
            "11493376/11490434 [==============================] - 0s 0us/step\n",
            "11501568/11490434 [==============================] - 0s 0us/step\n"
          ]
        }
      ],
      "source": [
        "(train_images, train_labels), (test_images, test_labels) = datasets.mnist.load_data()\n",
        "train_images = train_images.reshape(-1, 28, 28, 1)\n",
        "test_images = test_images.reshape(-1, 28, 28, 1)\n",
        "\n",
        "#shuffle the datasets\n",
        "sample_i = np.random.choice(range(train_images.shape[0]), train_images.shape[0], replace=False)\n",
        "train_images = train_images[sample_i]\n",
        "train_labels = train_labels[sample_i]\n",
        "sample_i = np.random.choice(range(test_images.shape[0]), test_images.shape[0], replace=False)\n",
        "test_images = test_images[sample_i]\n",
        "test_labels = test_labels[sample_i] \n",
        "\n",
        "# define the target's training dataset and the attacker's retrieved dataset\n",
        "attacker_labels = np.concatenate((train_labels[D_TARGET_SIZE:], test_labels))\n",
        "attacker_images = np.concatenate((train_images[D_TARGET_SIZE:], test_images))\n",
        "target_images = train_images[:D_TARGET_SIZE]\n",
        "target_labels = train_labels[:D_TARGET_SIZE]"
      ]
    },
    {
      "cell_type": "code",
      "execution_count": 5,
      "metadata": {
        "colab": {
          "base_uri": "https://localhost:8080/"
        },
        "id": "Ap02yKRT76RJ",
        "outputId": "f2f6c8d4-21dd-4868-f3d6-3dcfe33f1664"
      },
      "outputs": [
        {
          "output_type": "stream",
          "name": "stdout",
          "text": [
            "Epoch 1/25\n",
            "25/25 [==============================] - 14s 27ms/step - loss: 1.9883 - accuracy: 0.4950 - val_loss: 0.6431 - val_accuracy: 0.7750\n",
            "Epoch 2/25\n",
            "25/25 [==============================] - 0s 16ms/step - loss: 0.4957 - accuracy: 0.8537 - val_loss: 0.3450 - val_accuracy: 0.8950\n",
            "Epoch 3/25\n",
            "25/25 [==============================] - 0s 15ms/step - loss: 0.2477 - accuracy: 0.9175 - val_loss: 0.2521 - val_accuracy: 0.9350\n",
            "Epoch 4/25\n",
            "25/25 [==============================] - 0s 14ms/step - loss: 0.1387 - accuracy: 0.9600 - val_loss: 0.3548 - val_accuracy: 0.9050\n",
            "Epoch 5/25\n",
            "25/25 [==============================] - 0s 15ms/step - loss: 0.0790 - accuracy: 0.9750 - val_loss: 0.2414 - val_accuracy: 0.9250\n",
            "Epoch 6/25\n",
            "25/25 [==============================] - 0s 17ms/step - loss: 0.0288 - accuracy: 0.9925 - val_loss: 0.2731 - val_accuracy: 0.9300\n",
            "Epoch 7/25\n",
            "25/25 [==============================] - 0s 16ms/step - loss: 0.0214 - accuracy: 0.9912 - val_loss: 0.2995 - val_accuracy: 0.9350\n",
            "Epoch 8/25\n",
            "25/25 [==============================] - 0s 14ms/step - loss: 0.0398 - accuracy: 0.9887 - val_loss: 0.2464 - val_accuracy: 0.9250\n",
            "Epoch 9/25\n",
            "25/25 [==============================] - 0s 16ms/step - loss: 0.0378 - accuracy: 0.9912 - val_loss: 0.2559 - val_accuracy: 0.9400\n",
            "Epoch 10/25\n",
            "25/25 [==============================] - 0s 15ms/step - loss: 0.0400 - accuracy: 0.9887 - val_loss: 0.3281 - val_accuracy: 0.9150\n",
            "Epoch 11/25\n",
            "25/25 [==============================] - 0s 15ms/step - loss: 0.0548 - accuracy: 0.9800 - val_loss: 0.2904 - val_accuracy: 0.9200\n",
            "Epoch 12/25\n",
            "25/25 [==============================] - 0s 19ms/step - loss: 0.0456 - accuracy: 0.9850 - val_loss: 0.2440 - val_accuracy: 0.9350\n",
            "Epoch 13/25\n",
            "25/25 [==============================] - 1s 27ms/step - loss: 0.0578 - accuracy: 0.9825 - val_loss: 0.2657 - val_accuracy: 0.9200\n",
            "Epoch 14/25\n",
            "25/25 [==============================] - 0s 19ms/step - loss: 0.1143 - accuracy: 0.9600 - val_loss: 0.3045 - val_accuracy: 0.9400\n",
            "Epoch 15/25\n",
            "25/25 [==============================] - 0s 17ms/step - loss: 0.0161 - accuracy: 0.9950 - val_loss: 0.2739 - val_accuracy: 0.9550\n",
            "Epoch 16/25\n",
            "25/25 [==============================] - 0s 14ms/step - loss: 0.0396 - accuracy: 0.9887 - val_loss: 0.3465 - val_accuracy: 0.9150\n",
            "Epoch 17/25\n",
            "25/25 [==============================] - 0s 15ms/step - loss: 0.0385 - accuracy: 0.9887 - val_loss: 0.3346 - val_accuracy: 0.9450\n",
            "Epoch 18/25\n",
            "25/25 [==============================] - 0s 15ms/step - loss: 0.0349 - accuracy: 0.9900 - val_loss: 0.2756 - val_accuracy: 0.9400\n",
            "Epoch 19/25\n",
            "25/25 [==============================] - 0s 16ms/step - loss: 0.0226 - accuracy: 0.9925 - val_loss: 0.2472 - val_accuracy: 0.9350\n",
            "Epoch 20/25\n",
            "25/25 [==============================] - 0s 16ms/step - loss: 0.0184 - accuracy: 0.9925 - val_loss: 0.2434 - val_accuracy: 0.9400\n",
            "Epoch 21/25\n",
            "25/25 [==============================] - 0s 15ms/step - loss: 0.0144 - accuracy: 0.9950 - val_loss: 0.2422 - val_accuracy: 0.9350\n",
            "Epoch 22/25\n",
            "25/25 [==============================] - 0s 15ms/step - loss: 0.0012 - accuracy: 1.0000 - val_loss: 0.2536 - val_accuracy: 0.9300\n",
            "Epoch 23/25\n",
            "25/25 [==============================] - 0s 15ms/step - loss: 2.1845e-04 - accuracy: 1.0000 - val_loss: 0.2562 - val_accuracy: 0.9300\n",
            "Epoch 24/25\n",
            "25/25 [==============================] - 0s 15ms/step - loss: 1.3248e-04 - accuracy: 1.0000 - val_loss: 0.2556 - val_accuracy: 0.9300\n",
            "Epoch 25/25\n",
            "25/25 [==============================] - 0s 16ms/step - loss: 1.0105e-04 - accuracy: 1.0000 - val_loss: 0.2557 - val_accuracy: 0.9300\n"
          ]
        }
      ],
      "source": [
        "train_images, eval_images, train_labels, eval_labels = train_test_split(target_images, target_labels, test_size=0.2, shuffle=True)\n",
        "target_model = f_target(train_images, train_labels, eval_images, eval_labels, epochs=25) "
      ]
    },
    {
      "cell_type": "markdown",
      "source": [
        "## Shadow Models\n",
        "\n",
        "Set up a batch of shadow models to use in both attacks. We will use 5 shadow models, with 2500 instances assigned to each one of them.\n"
      ],
      "metadata": {
        "id": "7iZIZukeygbi"
      }
    },
    {
      "cell_type": "code",
      "execution_count": 10,
      "metadata": {
        "id": "2GWyCXmmwIiJ"
      },
      "outputs": [],
      "source": [
        "N_SHADOWS = 5\n",
        "D_SHADOW_SIZE = 1500"
      ]
    },
    {
      "cell_type": "code",
      "execution_count": 11,
      "metadata": {
        "id": "2rwhySHfVQjV"
      },
      "outputs": [],
      "source": [
        "def f_shadow():\n",
        "  model = models.Sequential()\n",
        "  model.add(layers.Conv2D(32, (3, 3), activation='relu', input_shape=(28, 28, 1)))\n",
        "  model.add(layers.MaxPooling2D((2, 2)))\n",
        "  model.add(layers.Conv2D(64, (3, 3), activation='relu'))\n",
        "  model.add(layers.MaxPooling2D((2, 2)))\n",
        "  model.add(layers.Conv2D(128, (3, 3), activation='relu'))\n",
        "\n",
        "\n",
        "  model.add(layers.Flatten())\n",
        "  model.add(layers.Dense(512, activation='relu'))\n",
        "\n",
        "  model.add(layers.Dense(10))\n",
        "  \n",
        "  optimizer = keras.optimizers.Adam()\n",
        "  model.compile(optimizer=optimizer,\n",
        "              loss=tf.keras.losses.SparseCategoricalCrossentropy(from_logits=True),\n",
        "              metrics=['accuracy'])\n",
        "  return model"
      ]
    },
    {
      "cell_type": "markdown",
      "source": [
        "## Confidence Vector attack\n",
        "Perform the attack and evaluate the results."
      ],
      "metadata": {
        "id": "-LP3LAvKyuPj"
      }
    },
    {
      "cell_type": "code",
      "source": [
        "attack = ConfidenceVectorAttack(target_model, (train_images, train_labels), (attacker_images, attacker_labels), f_shadow, \n",
        "                                n_shadows=N_SHADOWS, D_shadow_size=D_SHADOW_SIZE)\n",
        "attack.perform_attack()\n",
        "attack.evaluate_attack()"
      ],
      "metadata": {
        "id": "229vDaGl1kKq",
        "colab": {
          "base_uri": "https://localhost:8080/",
          "height": 786
        },
        "outputId": "4b950ac2-ba06-42bc-c6e1-fb8f7715a083"
      },
      "execution_count": 17,
      "outputs": [
        {
          "output_type": "stream",
          "name": "stdout",
          "text": [
            "Preparing shadow batch of size 990\n",
            "Done!\n",
            "Preparing shadow batch of size 990\n",
            "Done!\n",
            "Preparing shadow batch of size 990\n",
            "Done!\n",
            "Preparing shadow batch of size 990\n",
            "Done!\n",
            "Preparing shadow batch of size 990\n",
            "Done!\n",
            "class-1 acc: 0.46715328097343445\n",
            "class-2 acc: 0.5197740197181702\n",
            "class-3 acc: 0.4895104765892029\n",
            "class-4 acc: 0.4787878692150116\n",
            "class-5 acc: 0.4615384638309479\n",
            "class-6 acc: 0.5633803009986877\n",
            "class-7 acc: 0.5103448033332825\n",
            "class-8 acc: 0.5\n",
            "class-9 acc: 0.5403726696968079\n",
            "class-10 acc: 0.5730336904525757\n",
            "              precision    recall  f1-score   support\n",
            "\n",
            "         0.0       0.52      0.30      0.38       800\n",
            "         1.0       0.51      0.72      0.60       800\n",
            "\n",
            "    accuracy                           0.51      1600\n",
            "   macro avg       0.51      0.51      0.49      1600\n",
            "weighted avg       0.51      0.51      0.49      1600\n",
            "\n",
            "AUC: 0.5087\n"
          ]
        },
        {
          "output_type": "display_data",
          "data": {
            "image/png": "[encoded data removed]",
            "text/plain": [
              "<Figure size 432x288 with 1 Axes>"
            ]
          },
          "metadata": {
            "needs_background": "light"
          }
        }
      ]
    },
    {
      "cell_type": "markdown",
      "source": [
        "# Label Only Attack\n",
        "Perform the attack, evaluate it and compare it with the *condifence vector* MIA."
      ],
      "metadata": {
        "id": "0iUXBnHBgNQG"
      }
    },
    {
      "cell_type": "code",
      "source": [
        "label_only_attack = LabelOnlyAttack(target_model, (train_images, train_labels), (attacker_images, attacker_labels), \n",
        "                                    rotates=3, translates=1, shadow_creator=f_shadow, \n",
        "                                n_shadows=N_SHADOWS, D_shadow_size=D_SHADOW_SIZE)\n",
        "label_only_attack.perform_attack()\n",
        "label_only_attack.evaluate_attack()"
      ],
      "metadata": {
        "colab": {
          "base_uri": "https://localhost:8080/",
          "height": 786
        },
        "id": "Q5brrMNvgT7l",
        "outputId": "ba22f815-cd1d-45ca-f8f1-badb81233d57"
      },
      "execution_count": 13,
      "outputs": [
        {
          "output_type": "stream",
          "name": "stdout",
          "text": [
            "Preparing shadow batch of size 990\n",
            "Done!\n",
            "Preparing shadow batch of size 990\n",
            "Done!\n",
            "Preparing shadow batch of size 990\n",
            "Done!\n",
            "Preparing shadow batch of size 990\n",
            "Done!\n",
            "Preparing shadow batch of size 990\n",
            "Done!\n",
            "class-1 acc: 0.5620437860488892\n",
            "class-2 acc: 0.5141242742538452\n",
            "class-3 acc: 0.559440553188324\n",
            "class-4 acc: 0.4727272689342499\n",
            "class-5 acc: 0.557692289352417\n",
            "class-6 acc: 0.5845070481300354\n",
            "class-7 acc: 0.5379310250282288\n",
            "class-8 acc: 0.5102040767669678\n",
            "class-9 acc: 0.5155279636383057\n",
            "class-10 acc: 0.584269642829895\n",
            "              precision    recall  f1-score   support\n",
            "\n",
            "         0.0       0.68      0.14      0.24       800\n",
            "         1.0       0.52      0.93      0.67       800\n",
            "\n",
            "    accuracy                           0.54      1600\n",
            "   macro avg       0.60      0.54      0.45      1600\n",
            "weighted avg       0.60      0.54      0.45      1600\n",
            "\n",
            "AUC: 0.5459328125\n"
          ]
        },
        {
          "output_type": "display_data",
          "data": {
            "image/png": "[encoded data removed]",
            "text/plain": [
              "<Figure size 432x288 with 1 Axes>"
            ]
          },
          "metadata": {
            "needs_background": "light"
          }
        }
      ]
    },
    {
      "cell_type": "markdown",
      "source": [
        "## Attack Comparison Results\n",
        "\n",
        "//TODO:"
      ],
      "metadata": {
        "id": "zjrXo6W9y_gk"
      }
    },
    {
      "cell_type": "markdown",
      "metadata": {
        "id": "8grjprA4PmE7"
      },
      "source": [
        "# Extras\n",
        "Following we will add some appendices to prove assumptions of the attacks and test some new stuff"
      ]
    },
    {
      "cell_type": "markdown",
      "metadata": {
        "id": "w9g2jus3rP1j"
      },
      "source": [
        "\n",
        "## Check target model's behaviour in perturbed images"
      ]
    },
    {
      "cell_type": "code",
      "execution_count": 18,
      "metadata": {
        "id": "sD5YbfusfCob"
      },
      "outputs": [],
      "source": [
        "def study_perturbations(model, X, y, rs, ts):\n",
        "  diffs = []\n",
        "  y_pred = target_predict(model, X)    \n",
        "  for c in range(10):\n",
        "    #  given class acquire the changes in perturbed input instances given the model\n",
        "    idx = y_pred[:, 0] == c\n",
        "    X_c = X[idx]\n",
        "    y_pred_c = y_pred[idx]\n",
        "    perturbed_labels = augmented_queries(model, X_c, y_pred_c, rs, ts)\n",
        "    # Now we have to count how many labels diverge from the predicted label\n",
        "    diff = len(perturbed_labels.reshape(-1)) - sum(perturbed_labels.reshape(-1)) # the labels are binary where 1 == y_pred = y_perturbed, otherwise 0\n",
        "    diffs.append(int(100 * diff/len(perturbed_labels.reshape(-1)))) # append the percentage of changes in the class sample\n",
        "    \n",
        "  return diffs "
      ]
    },
    {
      "cell_type": "code",
      "execution_count": 19,
      "metadata": {
        "id": "w-0sJVhfbfQ3"
      },
      "outputs": [],
      "source": [
        "N_SAMPLES = 100\n",
        "r = 3\n",
        "d = 1\n",
        "train_idx = np.random.choice(range(train_images.shape[0]), N_SAMPLES, replace=False)\n",
        "test_idx = np.random.choice(range(attacker_images.shape[0]), N_SAMPLES, replace=False)"
      ]
    },
    {
      "cell_type": "code",
      "execution_count": 20,
      "metadata": {
        "id": "dpYCPdS0EA-p",
        "colab": {
          "base_uri": "https://localhost:8080/",
          "height": 1000
        },
        "outputId": "dcc43429-52aa-46fe-9339-c479c65fb4c5"
      },
      "outputs": [
        {
          "output_type": "execute_result",
          "data": {
            "text/plain": [
              "[<matplotlib.axis.XTick at 0x7f8a97aa9690>,\n",
              " <matplotlib.axis.XTick at 0x7f8a97aa9610>,\n",
              " <matplotlib.axis.XTick at 0x7f8a97aa9f90>,\n",
              " <matplotlib.axis.XTick at 0x7f8a97e57050>,\n",
              " <matplotlib.axis.XTick at 0x7f8b0f6c9050>,\n",
              " <matplotlib.axis.XTick at 0x7f8a97ce1850>,\n",
              " <matplotlib.axis.XTick at 0x7f8a99e27790>,\n",
              " <matplotlib.axis.XTick at 0x7f8a90ccc5d0>,\n",
              " <matplotlib.axis.XTick at 0x7f8a97a895d0>,\n",
              " <matplotlib.axis.XTick at 0x7f8a97a89d10>,\n",
              " <matplotlib.axis.XTick at 0x7f8a91881f50>,\n",
              " Text(0, 0, '0%'),\n",
              " Text(0, 0, '10%'),\n",
              " Text(0, 0, '20%'),\n",
              " Text(0, 0, '30%'),\n",
              " Text(0, 0, '40%'),\n",
              " Text(0, 0, '50%'),\n",
              " Text(0, 0, '60%'),\n",
              " Text(0, 0, '70%'),\n",
              " Text(0, 0, '80%'),\n",
              " Text(0, 0, '90%'),\n",
              " Text(0, 0, '100%'),\n",
              " <matplotlib.axis.XTick at 0x7f8a97c5f950>,\n",
              " <matplotlib.axis.XTick at 0x7f8a97c5f310>,\n",
              " <matplotlib.axis.XTick at 0x7f8a97c5f890>,\n",
              " <matplotlib.axis.XTick at 0x7f8b0f697050>,\n",
              " <matplotlib.axis.XTick at 0x7f8b0f65a290>,\n",
              " <matplotlib.axis.XTick at 0x7f8b0f7317d0>,\n",
              " <matplotlib.axis.XTick at 0x7f8b0f697450>,\n",
              " <matplotlib.axis.XTick at 0x7f8a97a89dd0>,\n",
              " <matplotlib.axis.XTick at 0x7f8a97e57150>,\n",
              " <matplotlib.axis.XTick at 0x7f8a917f27d0>,\n",
              " <matplotlib.axis.XTick at 0x7f8a917f2610>,\n",
              " Text(0, 0, '0%'),\n",
              " Text(0, 0, '10%'),\n",
              " Text(0, 0, '20%'),\n",
              " Text(0, 0, '30%'),\n",
              " Text(0, 0, '40%'),\n",
              " Text(0, 0, '50%'),\n",
              " Text(0, 0, '60%'),\n",
              " Text(0, 0, '70%'),\n",
              " Text(0, 0, '80%'),\n",
              " Text(0, 0, '90%'),\n",
              " Text(0, 0, '100%'),\n",
              " <matplotlib.axis.XTick at 0x7f8a90d96550>,\n",
              " <matplotlib.axis.XTick at 0x7f8a90d96110>,\n",
              " <matplotlib.axis.XTick at 0x7f8a90d96d50>,\n",
              " <matplotlib.axis.XTick at 0x7f8a917f2d10>,\n",
              " <matplotlib.axis.XTick at 0x7f8a97c701d0>,\n",
              " <matplotlib.axis.XTick at 0x7f8a99e60f90>,\n",
              " <matplotlib.axis.XTick at 0x7f8a99e60ad0>,\n",
              " <matplotlib.axis.XTick at 0x7f8a97c706d0>,\n",
              " <matplotlib.axis.XTick at 0x7f8a917f2590>,\n",
              " <matplotlib.axis.XTick at 0x7f8b0f697110>,\n",
              " <matplotlib.axis.XTick at 0x7f8b0f8d5e90>,\n",
              " Text(0, 0, '0%'),\n",
              " Text(0, 0, '10%'),\n",
              " Text(0, 0, '20%'),\n",
              " Text(0, 0, '30%'),\n",
              " Text(0, 0, '40%'),\n",
              " Text(0, 0, '50%'),\n",
              " Text(0, 0, '60%'),\n",
              " Text(0, 0, '70%'),\n",
              " Text(0, 0, '80%'),\n",
              " Text(0, 0, '90%'),\n",
              " Text(0, 0, '100%')]"
            ]
          },
          "metadata": {},
          "execution_count": 20
        },
        {
          "output_type": "display_data",
          "data": {
            "image/png": "[encoded data removed]",
            "text/plain": [
              "<Figure size 1080x360 with 3 Axes>"
            ]
          },
          "metadata": {
            "needs_background": "light"
          }
        }
      ],
      "source": [
        "fig, axes = plt.subplots(1, 3, figsize=(15, 5))\n",
        "\n",
        "# tests in D_in\n",
        "diffs_per_class_D_in = study_perturbations(target_model, train_images[train_idx], train_labels[train_idx], r, d) \n",
        "total_diffs_in = sum(diffs_per_class_D_in)/10\n",
        "axes[0].set_title('D_in predicted label divergence');\n",
        "axes[0].barh(list(range(10)), diffs_per_class_D_in, tick_label=[f'Class-{i}' for i in range(10)])\n",
        "\n",
        "# tests in D_out  \n",
        "diffs_per_class_D_out= study_perturbations(target_model,attacker_images[test_idx],attacker_labels[test_idx], r, d)\n",
        "total_diffs_out = sum(diffs_per_class_D_out)/10\n",
        "axes[1].set_title('D_out predicted label divergence');\n",
        "axes[1].barh(list(range(10)), diffs_per_class_D_out, tick_label=[f'Class-{i}' for i in range(10)])\n",
        "\n",
        "axes[2].set_title('Total predicted label divergence percentage');\n",
        "axes[2].barh([1, 0], [total_diffs_in, total_diffs_out], tick_label=['In', 'Out'])\n",
        "\n",
        "plt.setp(axes, xticks=range(0, 101, 10), xticklabels=[f'{i}%' for i in range(0, 101, 10)])"
      ]
    },
    {
      "cell_type": "markdown",
      "source": [
        "We can conclude that $x \\in D_{target}$ are more robust to perturbations, than any other instance not in target's training dataset. Nevertheless, whether the model is overfitted or not plays an important role to this training feature, meaning that the more overfit the model is the easier it gets to infer membership of tested instances. "
      ],
      "metadata": {
        "id": "nfA8cQ8mAioZ"
      }
    },
    {
      "cell_type": "markdown",
      "metadata": {
        "id": "WZOpEdcmCMXX"
      },
      "source": [
        "## Attack a perturbation trained model\n",
        "\n",
        "- We will apply augmentations to the dataset and re-train the target model.\n",
        "- The attacker **does not** know our augmentation settings, so he will train with a normal dataset of zero augmentations\n",
        "- We want to measure the quality of the attack when the target tries to defend MIAs by adding perturbed images of data samples "
      ]
    },
    {
      "cell_type": "code",
      "execution_count": 21,
      "metadata": {
        "id": "4Cl0sR-1I_sG"
      },
      "outputs": [],
      "source": [
        "# We will defend against the same rotations and translations that the attack models uses (worst case for the attacker)\n",
        "rotates = create_rotates(r)\n",
        "translates = create_translates(d)\n",
        "\n",
        "X_train_aug = train_images\n",
        "X_eval_aug = eval_images\n",
        "y_train_aug = np.concatenate(tuple([train_labels] + [train_labels for rot in rotates] + [train_labels for tra in translates]))\n",
        "y_eval_aug = np.concatenate(tuple([eval_labels] + [eval_labels for rot in rotates] + [eval_labels for tra in translates]))\n",
        "\n",
        "\n",
        "\n",
        "for rot in rotates:\n",
        "  aug_x = apply_augment(train_images, rot, 'r')\n",
        "  X_train_aug = np.concatenate((X_train_aug,aug_x))\n",
        "  aug_x = apply_augment(eval_images, rot, 'r')\n",
        "  X_eval_aug = np.concatenate((X_eval_aug,aug_x))\n",
        "\n",
        "for tra in translates:\n",
        "  aug_x = apply_augment(train_images, tra, 'd')\n",
        "  X_train_aug = np.concatenate((X_train_aug,aug_x))\n",
        "  aug_x = apply_augment(eval_images, tra, 'd')\n",
        "  X_eval_aug = np.concatenate((X_eval_aug ,aug_x))\n"
      ]
    },
    {
      "cell_type": "code",
      "execution_count": 22,
      "metadata": {
        "id": "JaNvyxztuwED",
        "colab": {
          "base_uri": "https://localhost:8080/"
        },
        "outputId": "0a277749-4c72-4ad8-9151-7c50525270bb"
      },
      "outputs": [
        {
          "output_type": "stream",
          "name": "stdout",
          "text": [
            "Epoch 1/10\n",
            "325/325 [==============================] - 5s 14ms/step - loss: 0.2759 - accuracy: 0.9107 - val_loss: 0.1472 - val_accuracy: 0.9531\n",
            "Epoch 2/10\n",
            "325/325 [==============================] - 4s 14ms/step - loss: 0.0438 - accuracy: 0.9862 - val_loss: 0.2615 - val_accuracy: 0.9219\n",
            "Epoch 3/10\n",
            "325/325 [==============================] - 5s 15ms/step - loss: 0.0352 - accuracy: 0.9889 - val_loss: 0.2048 - val_accuracy: 0.9623\n",
            "Epoch 4/10\n",
            "325/325 [==============================] - 5s 15ms/step - loss: 0.0292 - accuracy: 0.9917 - val_loss: 0.1154 - val_accuracy: 0.9746\n",
            "Epoch 5/10\n",
            "325/325 [==============================] - 5s 15ms/step - loss: 0.0034 - accuracy: 0.9985 - val_loss: 0.3506 - val_accuracy: 0.9435\n",
            "Epoch 6/10\n",
            "325/325 [==============================] - 4s 14ms/step - loss: 0.0321 - accuracy: 0.9913 - val_loss: 0.1645 - val_accuracy: 0.9677\n",
            "Epoch 7/10\n",
            "325/325 [==============================] - 5s 15ms/step - loss: 0.0267 - accuracy: 0.9928 - val_loss: 0.0838 - val_accuracy: 0.9785\n",
            "Epoch 8/10\n",
            "325/325 [==============================] - 5s 14ms/step - loss: 0.0082 - accuracy: 0.9977 - val_loss: 0.2171 - val_accuracy: 0.9550\n",
            "Epoch 9/10\n",
            "325/325 [==============================] - 5s 14ms/step - loss: 0.0200 - accuracy: 0.9950 - val_loss: 0.1881 - val_accuracy: 0.9612\n",
            "Epoch 10/10\n",
            "325/325 [==============================] - 5s 15ms/step - loss: 0.0201 - accuracy: 0.9951 - val_loss: 0.3468 - val_accuracy: 0.9500\n"
          ]
        }
      ],
      "source": [
        "\n",
        "with tf.device('/gpu:0'):\n",
        "  X_train_aug = tf.convert_to_tensor(X_train_aug)\n",
        "  y_train_aug = tf.convert_to_tensor(y_train_aug)\n",
        "  X_eval_aug = tf.convert_to_tensor(X_eval_aug)\n",
        "  y_eval_aug = tf.convert_to_tensor(y_eval_aug)\n",
        "  target_model = f_target(X_train_aug, y_train_aug, X_eval_aug, y_eval_aug, epochs=10) "
      ]
    },
    {
      "cell_type": "markdown",
      "metadata": {
        "id": "bsRYuPrCUBWl"
      },
      "source": [
        "The model is quite overfitted so now all that is left is to evaluate the attack model we created before on the newly trained and \"defended\" target model with perturbations in the train dataset."
      ]
    },
    {
      "cell_type": "code",
      "execution_count": 25,
      "metadata": {
        "id": "zyt1sD06SBFa",
        "colab": {
          "base_uri": "https://localhost:8080/",
          "height": 786
        },
        "outputId": "8c8064f3-d037-4a22-e9d6-6a48c2ce3237"
      },
      "outputs": [
        {
          "output_type": "stream",
          "name": "stdout",
          "text": [
            "Preparing shadow batch of size 990\n",
            "Done!\n",
            "Preparing shadow batch of size 990\n",
            "Done!\n",
            "Preparing shadow batch of size 990\n",
            "Done!\n",
            "Preparing shadow batch of size 990\n",
            "Done!\n",
            "Preparing shadow batch of size 990\n",
            "Done!\n",
            "class-1 acc: 0.49643945693969727\n",
            "class-2 acc: 0.5342293381690979\n",
            "class-3 acc: 0.5283911824226379\n",
            "class-4 acc: 0.509661853313446\n",
            "class-5 acc: 0.5482434630393982\n",
            "class-6 acc: 0.5550435185432434\n",
            "class-7 acc: 0.4785462021827698\n",
            "class-8 acc: 0.5597109794616699\n",
            "class-9 acc: 0.5289255976676941\n",
            "class-10 acc: 0.5748770833015442\n",
            "              precision    recall  f1-score   support\n",
            "\n",
            "         0.0       0.74      0.10      0.17     10400\n",
            "         1.0       0.52      0.97      0.67     10400\n",
            "\n",
            "    accuracy                           0.53     20800\n",
            "   macro avg       0.63      0.53      0.42     20800\n",
            "weighted avg       0.63      0.53      0.42     20800\n",
            "\n",
            "AUC: 0.5480921782544379\n"
          ]
        },
        {
          "output_type": "display_data",
          "data": {
            "image/png": "[encoded data removed]",
            "text/plain": [
              "<Figure size 432x288 with 1 Axes>"
            ]
          },
          "metadata": {
            "needs_background": "light"
          }
        }
      ],
      "source": [
        "label_only_attack = LabelOnlyAttack(target_model, (X_train_aug.numpy(), y_train_aug.numpy()), (attacker_images, attacker_labels), \n",
        "                                    rotates=3, translates=1, shadow_creator=f_shadow, \n",
        "                                n_shadows=N_SHADOWS, D_shadow_size=D_SHADOW_SIZE)\n",
        "label_only_attack.perform_attack()\n",
        "label_only_attack.evaluate_attack()"
      ]
    },
    {
      "cell_type": "markdown",
      "metadata": {
        "id": "fW_JINmBUgd_"
      },
      "source": [
        "### Conclusion\n",
        "\n",
        "To conclude if the model is more vulnerable, we must meassure the label divergence percentage in the adjusted-to-augmentations model."
      ]
    },
    {
      "cell_type": "code",
      "execution_count": 26,
      "metadata": {
        "id": "OWDU6N1uSCnA",
        "colab": {
          "base_uri": "https://localhost:8080/",
          "height": 1000
        },
        "outputId": "03c6c7f6-e2cc-4242-8791-62a67837fc90"
      },
      "outputs": [
        {
          "output_type": "execute_result",
          "data": {
            "text/plain": [
              "[<matplotlib.axis.XTick at 0x7f8a8ce72dd0>,\n",
              " <matplotlib.axis.XTick at 0x7f8a8ce72a90>,\n",
              " <matplotlib.axis.XTick at 0x7f8a8ce72c90>,\n",
              " <matplotlib.axis.XTick at 0x7f8a8c80cd50>,\n",
              " <matplotlib.axis.XTick at 0x7f8a8c973210>,\n",
              " <matplotlib.axis.XTick at 0x7f8a8cc790d0>,\n",
              " <matplotlib.axis.XTick at 0x7f8a8c8135d0>,\n",
              " <matplotlib.axis.XTick at 0x7f8a8c813b10>,\n",
              " <matplotlib.axis.XTick at 0x7f8a8c813d50>,\n",
              " <matplotlib.axis.XTick at 0x7f8a8c79c5d0>,\n",
              " <matplotlib.axis.XTick at 0x7f8a8c79cad0>,\n",
              " Text(0, 0, '0%'),\n",
              " Text(0, 0, '10%'),\n",
              " Text(0, 0, '20%'),\n",
              " Text(0, 0, '30%'),\n",
              " Text(0, 0, '40%'),\n",
              " Text(0, 0, '50%'),\n",
              " Text(0, 0, '60%'),\n",
              " Text(0, 0, '70%'),\n",
              " Text(0, 0, '80%'),\n",
              " Text(0, 0, '90%'),\n",
              " Text(0, 0, '100%'),\n",
              " <matplotlib.axis.XTick at 0x7f8a97c900d0>,\n",
              " <matplotlib.axis.XTick at 0x7f8a97c909d0>,\n",
              " <matplotlib.axis.XTick at 0x7f8a97c906d0>,\n",
              " <matplotlib.axis.XTick at 0x7f8a8c7a4650>,\n",
              " <matplotlib.axis.XTick at 0x7f8a8c79cf50>,\n",
              " <matplotlib.axis.XTick at 0x7f8a8c813490>,\n",
              " <matplotlib.axis.XTick at 0x7f8a8ccdfe50>,\n",
              " <matplotlib.axis.XTick at 0x7f8a8c81f990>,\n",
              " <matplotlib.axis.XTick at 0x7f8a8c948590>,\n",
              " <matplotlib.axis.XTick at 0x7f8a8c948790>,\n",
              " <matplotlib.axis.XTick at 0x7f8a8cc77bd0>,\n",
              " Text(0, 0, '0%'),\n",
              " Text(0, 0, '10%'),\n",
              " Text(0, 0, '20%'),\n",
              " Text(0, 0, '30%'),\n",
              " Text(0, 0, '40%'),\n",
              " Text(0, 0, '50%'),\n",
              " Text(0, 0, '60%'),\n",
              " Text(0, 0, '70%'),\n",
              " Text(0, 0, '80%'),\n",
              " Text(0, 0, '90%'),\n",
              " Text(0, 0, '100%'),\n",
              " <matplotlib.axis.XTick at 0x7f8a90b94910>,\n",
              " <matplotlib.axis.XTick at 0x7f8a90b941d0>,\n",
              " <matplotlib.axis.XTick at 0x7f8a90b94750>,\n",
              " <matplotlib.axis.XTick at 0x7f8a8c918f50>,\n",
              " <matplotlib.axis.XTick at 0x7f8a8c918a50>,\n",
              " <matplotlib.axis.XTick at 0x7f8a8c918990>,\n",
              " <matplotlib.axis.XTick at 0x7f8a8c9180d0>,\n",
              " <matplotlib.axis.XTick at 0x7f8a8c948a50>,\n",
              " <matplotlib.axis.XTick at 0x7f8a8c813c10>,\n",
              " <matplotlib.axis.XTick at 0x7f8a8ca6d0d0>,\n",
              " <matplotlib.axis.XTick at 0x7f8a8ca6da90>,\n",
              " Text(0, 0, '0%'),\n",
              " Text(0, 0, '10%'),\n",
              " Text(0, 0, '20%'),\n",
              " Text(0, 0, '30%'),\n",
              " Text(0, 0, '40%'),\n",
              " Text(0, 0, '50%'),\n",
              " Text(0, 0, '60%'),\n",
              " Text(0, 0, '70%'),\n",
              " Text(0, 0, '80%'),\n",
              " Text(0, 0, '90%'),\n",
              " Text(0, 0, '100%')]"
            ]
          },
          "metadata": {},
          "execution_count": 26
        },
        {
          "output_type": "display_data",
          "data": {
            "image/png": "[encoded data removed]",
            "text/plain": [
              "<Figure size 1080x360 with 3 Axes>"
            ]
          },
          "metadata": {
            "needs_background": "light"
          }
        }
      ],
      "source": [
        "# test it onthe same data as we tested the non-adjusted to augmentation model\n",
        "fig, axes = plt.subplots(1, 3, figsize=(15, 5))\n",
        "\n",
        "# tests in D_in\n",
        "diffs_per_class_D_in = study_perturbations(target_model, train_images[train_idx], train_labels[train_idx], r, d) \n",
        "total_diffs_in = sum(diffs_per_class_D_in)/10\n",
        "axes[0].set_title('D_in predicted label divergence');\n",
        "axes[0].barh(list(range(10)), diffs_per_class_D_in, tick_label=[f'Class-{i}' for i in range(10)])\n",
        "\n",
        "# tests in D_out  \n",
        "diffs_per_class_D_out= study_perturbations(target_model,attacker_images[test_idx],attacker_labels[test_idx], r, d)\n",
        "total_diffs_out = sum(diffs_per_class_D_out)/10\n",
        "axes[1].set_title('D_out predicted label divergence');\n",
        "axes[1].barh(list(range(10)), diffs_per_class_D_out, tick_label=[f'Class-{i}' for i in range(10)])\n",
        "\n",
        "axes[2].set_title('Total predicted label divergence percentage');\n",
        "axes[2].barh([1, 0], [total_diffs_in, total_diffs_out], tick_label=['In', 'Out'])\n",
        "\n",
        "plt.setp(axes, xticks=range(0, 101, 10), xticklabels=[f'{i}%' for i in range(0, 101, 10)])"
      ]
    },
    {
      "cell_type": "code",
      "source": [
        ""
      ],
      "metadata": {
        "id": "lBMu6CgG74lc"
      },
      "execution_count": null,
      "outputs": []
    }
  ],
  "metadata": {
    "accelerator": "GPU",
    "colab": {
      "collapsed_sections": [],
      "name": "MNIST_labels_only_conf_vec_comparison-v1.ipynb",
      "provenance": []
    },
    "kernelspec": {
      "display_name": "Python 3",
      "name": "python3"
    },
    "language_info": {
      "codemirror_mode": {
        "name": "ipython",
        "version": 3
      },
      "file_extension": ".py",
      "mimetype": "text/x-python",
      "name": "python",
      "nbconvert_exporter": "python",
      "pygments_lexer": "ipython3",
      "version": "3.8.10"
    }
  },
  "nbformat": 4,
  "nbformat_minor": 0
}