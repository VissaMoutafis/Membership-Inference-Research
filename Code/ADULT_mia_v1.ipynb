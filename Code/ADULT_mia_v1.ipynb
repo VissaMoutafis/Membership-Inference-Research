{
  "cells": [
    {
      "cell_type": "code",
      "execution_count": 212,
      "metadata": {
        "colab": {
          "base_uri": "https://localhost:8080/"
        },
        "id": "tg_WQJ7j5n3B",
        "outputId": "5a1a9303-74ee-4c02-9498-439490348531"
      },
      "outputs": [
        {
          "output_type": "stream",
          "name": "stdout",
          "text": [
            "Num GPUs Available:  0\n"
          ]
        }
      ],
      "source": [
        "import numpy as np\n",
        "import pandas as pd\n",
        "import math\n",
        "import matplotlib.pyplot as plt\n",
        "\n",
        "import tensorflow as tf\n",
        "from tensorflow import keras\n",
        "from tensorflow.keras import datasets, layers, models\n",
        "\n",
        "from sklearn.model_selection import train_test_split\n",
        "from sklearn.linear_model import LogisticRegression\n",
        "from sklearn.tree import DecisionTreeClassifier\n",
        "from sklearn.ensemble import RandomForestClassifier\n",
        "from sklearn.metrics import classification_report\n",
        "\n",
        "from mia.shadow_models import *\n",
        "from mia.attack_model import *\n",
        "from mia.utilities import *\n",
        "from mia.wrappers import *\n",
        "\n",
        "from tqdm import tqdm\n",
        "import sys\n",
        "print(\"Num GPUs Available: \", len(tf.config.list_physical_devices('GPU')))\n"
      ]
    },
    {
      "cell_type": "markdown",
      "metadata": {
        "id": "FWI32aRtFJqm"
      },
      "source": [
        "## Data Preprocessing, D_in & D_out and Target Model Creation\n",
        "\n",
        "OK. Let's first load our dataset and take a peek at the data."
      ]
    },
    {
      "cell_type": "code",
      "execution_count": 213,
      "metadata": {
        "colab": {
          "base_uri": "https://localhost:8080/"
        },
        "id": "JehzAxjYHxAm",
        "outputId": "91189b36-9c6f-4da7-8dbd-61d65c808570"
      },
      "outputs": [
        {
          "output_type": "stream",
          "name": "stdout",
          "text": [
            "--2022-01-15 11:25:13--  https://archive.ics.uci.edu/ml/machine-learning-databases/adult/adult.data\n",
            "Resolving archive.ics.uci.edu (archive.ics.uci.edu)... 128.195.10.252\n",
            "Connecting to archive.ics.uci.edu (archive.ics.uci.edu)|128.195.10.252|:443... connected.\n",
            "HTTP request sent, awaiting response... 200 OK\n",
            "Length: 3974305 (3.8M) [application/x-httpd-php]\n",
            "Saving to: ‘adult.data.1’\n",
            "\n",
            "adult.data.1        100%[===================>]   3.79M  7.37MB/s    in 0.5s    \n",
            "\n",
            "2022-01-15 11:25:14 (7.37 MB/s) - ‘adult.data.1’ saved [3974305/3974305]\n",
            "\n"
          ]
        }
      ],
      "source": [
        "!wget \"https://archive.ics.uci.edu/ml/machine-learning-databases/adult/adult.data\"\n",
        "# !wget \"https://archive.ics.uci.edu/ml/machine-learning-databases/adult/adult.test\""
      ]
    },
    {
      "cell_type": "code",
      "execution_count": 214,
      "metadata": {
        "id": "oh1C7fT8FJVA"
      },
      "outputs": [],
      "source": [
        "cols = ['age', \n",
        "        'workclass', \n",
        "        'fnlwgt', \n",
        "        'education',\n",
        "        'education-num',\n",
        "        'marital-status',\n",
        "        'occupation', \n",
        "        'relationship', \n",
        "        'race',\n",
        "        'sex',\n",
        "        'capital-gain',\n",
        "        'capital-loss',\n",
        "        'hours-per-week', \n",
        "        'native-country',\n",
        "        'salary']\n",
        "cat_cols = [\n",
        "  'workclass', \n",
        "  'education',\n",
        "  'marital-status',\n",
        "  'occupation',\n",
        "  'relationship',\n",
        "  'race',\n",
        "  'sex',\n",
        "  'native-country'     \n",
        "]\n",
        "\n",
        "num_cols = list(set(cols) - set(cat_cols) - set({'salary'}))"
      ]
    },
    {
      "cell_type": "code",
      "execution_count": 215,
      "metadata": {
        "id": "p8Z5qWioEwtj"
      },
      "outputs": [],
      "source": [
        "dataset_path = 'adult.data' "
      ]
    },
    {
      "cell_type": "code",
      "execution_count": 216,
      "metadata": {
        "id": "TE3MYfV0FfvT"
      },
      "outputs": [],
      "source": [
        "data_df = pd.read_csv(dataset_path, index_col=False, names=cols)"
      ]
    },
    {
      "cell_type": "code",
      "execution_count": 217,
      "metadata": {
        "id": "RZAfWfc0ZGVR"
      },
      "outputs": [],
      "source": [
        "data_df.loc[data_df['salary'].str.contains('>50K'), 'salary'] = 1\n",
        "data_df.loc[data_df['salary'].str.contains('>50K') == False, 'salary'] = 0"
      ]
    },
    {
      "cell_type": "code",
      "execution_count": 218,
      "metadata": {
        "id": "pJL7rlGyH6Oy"
      },
      "outputs": [],
      "source": [
        "for col in cat_cols:\n",
        "  data_df = data_df[data_df[col].str.contains('\\?') == False]"
      ]
    },
    {
      "cell_type": "code",
      "execution_count": 219,
      "metadata": {
        "id": "gxiT8YB_b7AB"
      },
      "outputs": [],
      "source": [
        "data_df[cat_cols] = data_df[cat_cols].astype('category')\n",
        "for col in cat_cols:\n",
        "  data_df[col] = data_df[col].cat.codes"
      ]
    },
    {
      "cell_type": "code",
      "execution_count": 220,
      "metadata": {
        "id": "FkWFWpHVcL8y"
      },
      "outputs": [],
      "source": [
        "y = data_df.pop('salary').to_numpy(dtype=np.int8)\n",
        "X = data_df.to_numpy(dtype=np.float64) "
      ]
    },
    {
      "cell_type": "code",
      "execution_count": 221,
      "metadata": {
        "id": "9nJHvjvid_mF"
      },
      "outputs": [],
      "source": [
        "# divide to target and attack dataset\n",
        "X_target, X_attacker, y_target, y_attacker = train_test_split(X, y, test_size=0.5, shuffle=True, random_state=0)\n",
        "\n",
        "# train-test split for the target\n",
        "X_train, X_test, y_train, y_test = train_test_split(X_target, y_target, test_size=0.33, shuffle=True, random_state=0)"
      ]
    },
    {
      "cell_type": "code",
      "execution_count": 222,
      "metadata": {
        "id": "C-423fz3dWD4"
      },
      "outputs": [],
      "source": [
        "target_model = DecisionTreeClassifier(random_state=0).fit(X_train, y_train.reshape(-1))"
      ]
    },
    {
      "cell_type": "code",
      "execution_count": 223,
      "metadata": {
        "colab": {
          "base_uri": "https://localhost:8080/"
        },
        "id": "_APyi1ZqdrLJ",
        "outputId": "d9458bbb-d151-47e3-9ead-8ccf3a2e7bd8"
      },
      "outputs": [
        {
          "output_type": "stream",
          "name": "stdout",
          "text": [
            "Training Test Scores:\n",
            "              precision    recall  f1-score   support\n",
            "\n",
            "           0       1.00      1.00      1.00      7625\n",
            "           1       1.00      1.00      1.00      2479\n",
            "\n",
            "    accuracy                           1.00     10104\n",
            "   macro avg       1.00      1.00      1.00     10104\n",
            "weighted avg       1.00      1.00      1.00     10104\n",
            "\n",
            "Validation Test Scores:\n",
            "              precision    recall  f1-score   support\n",
            "\n",
            "           0       0.87      0.86      0.87      3734\n",
            "           1       0.60      0.62      0.61      1243\n",
            "\n",
            "    accuracy                           0.80      4977\n",
            "   macro avg       0.74      0.74      0.74      4977\n",
            "weighted avg       0.80      0.80      0.80      4977\n",
            "\n"
          ]
        }
      ],
      "source": [
        "print('Training Test Scores:', \n",
        "      classification_report(y_train, target_model.predict(X_train)), \n",
        "      'Validation Test Scores:', \n",
        "      classification_report(y_test, target_model.predict(X_test)), sep='\\n')"
      ]
    },
    {
      "cell_type": "code",
      "execution_count": 224,
      "metadata": {
        "id": "jZPl0p8yPvAo"
      },
      "outputs": [],
      "source": [
        "target_model.predict = target_model.predict_proba"
      ]
    },
    {
      "cell_type": "markdown",
      "metadata": {
        "id": "jcbVJs-ig03r"
      },
      "source": [
        "So we clearly see that Decision tree is overfitted to the data. It is time to run our normal attack on some data that lack of certain features."
      ]
    },
    {
      "cell_type": "markdown",
      "metadata": {
        "id": "M90y3DvEiIA0"
      },
      "source": [
        "## Attacker-Shadows Dataset separation\n",
        "\n",
        "We will divide the attacker dataset to\n",
        "- Attack Evaluation dataset of instances that we know they belong to $D_{out}$\n",
        "- Attack Evaluation dataset of instances that we know they belong to $D_{in}$\n",
        "- Instances from the dataset distribution we will use to train the shadow and attack models. These will also be used as a guide to fill out null values later.\n",
        "\n"
      ]
    },
    {
      "cell_type": "code",
      "execution_count": 225,
      "metadata": {
        "id": "7I_QAYdeimk6"
      },
      "outputs": [],
      "source": [
        "# divide attacker dataset\n",
        "X_attacker_train, X_attacker_test_out, y_attacker_train, y_attacker_test_out = train_test_split(X_attacker, y_attacker, test_size=0.33, shuffle=True, random_state=0)\n",
        "\n",
        "# get a proportion of the D_in dataset for later testing of the model\n",
        "_, X_attacker_test_in, _, y_attacker_test_in = train_test_split(X_train, y_train, test_size=0.33, shuffle=True, random_state=0)\n"
      ]
    },
    {
      "cell_type": "markdown",
      "source": [
        "## Standard Attack\n",
        "Perform Standard Attack to get point of reference."
      ],
      "metadata": {
        "id": "KRJsARcpP4A0"
      }
    },
    {
      "cell_type": "code",
      "execution_count": 226,
      "metadata": {
        "id": "5TxieABsaaKV"
      },
      "outputs": [],
      "source": [
        "def f_shadow():\n",
        "  model = RandomForestClassifier(random_state=0) \n",
        "  model.predict = model.predict_proba\n",
        "  return  model"
      ]
    },
    {
      "cell_type": "code",
      "execution_count": 227,
      "metadata": {
        "id": "mNtemr5ab_DI"
      },
      "outputs": [],
      "source": [
        "def f_attack():\n",
        "    model = RandomForestClassifier(random_state=0)\n",
        "    model.predict = model.predict_proba\n",
        "    return model \n"
      ]
    },
    {
      "cell_type": "code",
      "source": [
        "ConfidenceVectorAttack.SHADOW_MODEL_TYPE = 'sklearn'\n",
        "ConfidenceVectorAttack.ATTACK_MODEL_TYPE = 'sklearn'\n",
        "default_attack = ConfidenceVectorAttack(\n",
        "    target_model=target_model,\n",
        "    target_dataset=(X_attacker_test_in, y_attacker_test_in),\n",
        "    attacker_dataset=(X_attacker_train, y_attacker_train),\n",
        "    attack_model_creator=f_attack,\n",
        "    shadow_creator=f_shadow,\n",
        "    n_shadows=10,\n",
        "    D_shadow_size=5000, \n",
        "    verbose=True)\n"
      ],
      "metadata": {
        "id": "aSbUCvGOP-VX"
      },
      "execution_count": 228,
      "outputs": []
    },
    {
      "cell_type": "code",
      "source": [
        "default_attack.perform_attack()"
      ],
      "metadata": {
        "colab": {
          "base_uri": "https://localhost:8080/"
        },
        "id": "_LiNZXRPQ-9e",
        "outputId": "7ce3dc4e-330f-400f-9526-bfd7348475a9"
      },
      "execution_count": 229,
      "outputs": [
        {
          "output_type": "stream",
          "name": "stdout",
          "text": [
            "Preparing shadow batch of size 3300\n",
            "Done!\n",
            "Preparing shadow batch of size 3300\n",
            "Done!\n",
            "Preparing shadow batch of size 3300\n",
            "Done!\n",
            "Preparing shadow batch of size 3300\n",
            "Done!\n",
            "Preparing shadow batch of size 3300\n",
            "Done!\n",
            "Preparing shadow batch of size 3300\n",
            "Done!\n",
            "Preparing shadow batch of size 3300\n",
            "Done!\n",
            "Preparing shadow batch of size 3300\n",
            "Done!\n",
            "Preparing shadow batch of size 3300\n",
            "Done!\n",
            "Preparing shadow batch of size 3300\n",
            "Done!\n",
            "Warning: Cannot fit with tf-like fit routine..trying sklearn.\n"
          ]
        }
      ]
    },
    {
      "cell_type": "code",
      "source": [
        "D_in = attack_model.prepare_batch(target_model, X_attacker_test_in, y_attacker_test_in, True)\n",
        "D_out = attack_model.prepare_batch(target_model, X_attacker_test_out[:3335], y_attacker_test_out[:3335], False)\n",
        "D_all = np.concatenate((D_in, D_out))\n",
        "default_attack.attack_model.evaluate(D_all[:, :-1], D_all[:, -1], verbose=1)"
      ],
      "metadata": {
        "colab": {
          "base_uri": "https://localhost:8080/",
          "height": 456
        },
        "id": "4tZcBbQMTDc_",
        "outputId": "c7ec9459-05e4-430b-bdda-da7dcf4e5462"
      },
      "execution_count": 230,
      "outputs": [
        {
          "output_type": "stream",
          "name": "stdout",
          "text": [
            "Warning: AttackModel has no attribute evaluate\n",
            "              precision    recall  f1-score   support\n",
            "\n",
            "         0.0       1.00      0.20      0.33      3335\n",
            "         1.0       0.55      1.00      0.71      3335\n",
            "\n",
            "    accuracy                           0.60      6670\n",
            "   macro avg       0.78      0.60      0.52      6670\n",
            "weighted avg       0.78      0.60      0.52      6670\n",
            "\n",
            "AUC: 0.6184052201785164\n"
          ]
        },
        {
          "output_type": "display_data",
          "data": {
            "image/png": "[encoded data removed]",
            "text/plain": [
              "<Figure size 432x288 with 1 Axes>"
            ]
          },
          "metadata": {
            "needs_background": "light"
          }
        }
      ]
    },
    {
      "cell_type": "markdown",
      "metadata": {
        "id": "Zv5vtMZMhFMq"
      },
      "source": [
        "## Filling null features from the dataset distribution.\n",
        "\n",
        "For research purposes we will cross out some categorical and numerical datapoints with probability of 10\\%$ and fill them using the following methods:\n",
        "\n",
        "- for numerical features use the mean of the collumn\n",
        "- for categorical features, find the label, group by it, find the most common value, accross same-labeled instances and assign it to the null case."
      ]
    },
    {
      "cell_type": "code",
      "execution_count": 231,
      "metadata": {
        "id": "44rHSRrohBZ7"
      },
      "outputs": [],
      "source": [
        "\"\"\" \n",
        "    Routine that treats features of all records as null with prob @prob_of_null.\n",
        "    If feature is categorical we will replace it with most used value given the label\n",
        "    If numeric we will replace it with the mean among the dataset of record with the same value\n",
        "\"\"\"\n",
        "def fill_out_missing_values(df, cat_cols, num_cols, y_label, prob_of_null = 0.15):\n",
        "  y_labels = df[y_label].unique().tolist()\n",
        "  \n",
        "  # create a most used values and mean values array based on the class and the column\n",
        "  value_mapper = {}\n",
        "  \n",
        "  for i in y_labels:\n",
        "    values = {}\n",
        "    for col in cat_cols:\n",
        "      values[col] = df.loc[df[y_label] == i, col].mode()[0]\n",
        "      \n",
        "    for col in num_cols:\n",
        "      values[col] = df.loc[df[y_label] == i, col].mean(axis=0)\n",
        "      \n",
        "    value_mapper[i] = values\n",
        "\n",
        "  for i in y_labels:\n",
        "    for col in cat_cols+num_cols:\n",
        "      df.loc[df[y_label] == i, col] = df.loc[df[y_label] == i, col].apply(lambda x: x if np.random.random() - prob_of_null >= 0.0 else value_mapper[i][col])\n",
        "      \n",
        "  return df"
      ]
    },
    {
      "cell_type": "code",
      "execution_count": 232,
      "metadata": {
        "id": "eKrgVjVSlb1g"
      },
      "outputs": [],
      "source": [
        "df = pd.DataFrame(np.concatenate((X_attacker_test_out, y_attacker_test_out.reshape(-1, 1)), axis=1), columns=cols)"
      ]
    },
    {
      "cell_type": "code",
      "execution_count": 233,
      "metadata": {
        "id": "jk-Xfnc-lhq9"
      },
      "outputs": [],
      "source": [
        "df_out = fill_out_missing_values(df, cat_cols, num_cols, 'salary')\n",
        "y_attacker_test_out = df_out.pop('salary').to_numpy()\n",
        "X_attacker_test_out = df_out.to_numpy()"
      ]
    },
    {
      "cell_type": "code",
      "execution_count": 234,
      "metadata": {
        "id": "OBaIWQbbPvAu"
      },
      "outputs": [],
      "source": [
        "df = pd.DataFrame(np.concatenate((X_attacker_test_in, y_attacker_test_in.reshape(-1, 1)), axis=1), columns=cols)"
      ]
    },
    {
      "cell_type": "code",
      "execution_count": 235,
      "metadata": {
        "id": "eeYmkPAXPvAu"
      },
      "outputs": [],
      "source": [
        "df_in = fill_out_missing_values(df, cat_cols, num_cols, 'salary')\n",
        "y_attacker_test_in = df_in.pop('salary').to_numpy()\n",
        "X_attacker_test_in = df_in.to_numpy()"
      ]
    },
    {
      "cell_type": "code",
      "execution_count": 236,
      "metadata": {
        "id": "U00a_MTObTSk"
      },
      "outputs": [],
      "source": [
        "N_SHADOWS= 10\n",
        "SHADOW_EPOCHS=50\n",
        "SHADOW_DATASET_SIZE= 5000\n"
      ]
    },
    {
      "cell_type": "code",
      "execution_count": 237,
      "metadata": {
        "id": "_auZzR-omVDy"
      },
      "outputs": [],
      "source": [
        "shadow_models = ShadowModelBatch(N_SHADOWS, f_shadow, model_type='sklearn')"
      ]
    },
    {
      "cell_type": "code",
      "execution_count": 238,
      "metadata": {
        "id": "Z0P48OqXbuLY"
      },
      "outputs": [],
      "source": [
        "D_shadows = generate_shadow_dataset(target_model, N_SHADOWS, SHADOW_DATASET_SIZE, 2, attacker_X=X_attacker_train, attacker_y=y_attacker_train)"
      ]
    },
    {
      "cell_type": "code",
      "execution_count": 239,
      "metadata": {
        "id": "JbX6IX4bbRZp"
      },
      "outputs": [],
      "source": [
        "ShadowModelBatch.VERBOSE=True\n",
        "shadow_models.fit_all(D_shadows, SHADOW_EPOCHS)"
      ]
    },
    {
      "cell_type": "code",
      "source": [
        "attack_model = DefaultAttackModel(shadow_models, 2, f_attack)"
      ],
      "metadata": {
        "id": "Doxa1kNsQ7Ui"
      },
      "execution_count": 240,
      "outputs": []
    },
    {
      "cell_type": "code",
      "execution_count": 241,
      "metadata": {
        "id": "Wwym01becsw_",
        "colab": {
          "base_uri": "https://localhost:8080/"
        },
        "outputId": "25f6af45-aff5-4471-ee58-fe233b71cdfe"
      },
      "outputs": [
        {
          "output_type": "stream",
          "name": "stdout",
          "text": [
            "Preparing shadow batch of size 3300\n",
            "Done!\n",
            "Preparing shadow batch of size 3300\n",
            "Done!\n",
            "Preparing shadow batch of size 3300\n",
            "Done!\n",
            "Preparing shadow batch of size 3300\n",
            "Done!\n",
            "Preparing shadow batch of size 3300\n",
            "Done!\n",
            "Preparing shadow batch of size 3300\n",
            "Done!\n",
            "Preparing shadow batch of size 3300\n",
            "Done!\n",
            "Preparing shadow batch of size 3300\n",
            "Done!\n",
            "Preparing shadow batch of size 3300\n",
            "Done!\n",
            "Preparing shadow batch of size 3300\n",
            "Done!\n",
            "Warning: Cannot fit with tf-like fit routine..trying sklearn.\n"
          ]
        }
      ],
      "source": [
        "DefaultAttackModel.VERBOSE = True\n",
        "attack_model.fit(epochs=50)"
      ]
    },
    {
      "cell_type": "code",
      "execution_count": 242,
      "metadata": {
        "id": "NtcnmIZ-c0sa",
        "colab": {
          "base_uri": "https://localhost:8080/",
          "height": 456
        },
        "outputId": "37a21853-2bef-4ed5-a812-6e351cc72984"
      },
      "outputs": [
        {
          "output_type": "stream",
          "name": "stdout",
          "text": [
            "Warning: AttackModel has no attribute evaluate\n",
            "              precision    recall  f1-score   support\n",
            "\n",
            "         0.0       0.73      0.22      0.34      3335\n",
            "         1.0       0.54      0.92      0.68      3335\n",
            "\n",
            "    accuracy                           0.57      6670\n",
            "   macro avg       0.63      0.57      0.51      6670\n",
            "weighted avg       0.63      0.57      0.51      6670\n",
            "\n",
            "AUC: 0.5745963150358853\n"
          ]
        },
        {
          "output_type": "display_data",
          "data": {
            "image/png": "[encoded data removed]",
            "text/plain": [
              "<Figure size 432x288 with 1 Axes>"
            ]
          },
          "metadata": {
            "needs_background": "light"
          }
        }
      ],
      "source": [
        "D_in = attack_model.prepare_batch(target_model, X_attacker_test_in, y_attacker_test_in, True)\n",
        "D_out = attack_model.prepare_batch(target_model, X_attacker_test_out[:3335], y_attacker_test_out[:3335], False)\n",
        "D_all = np.concatenate((D_in, D_out))\n",
        "attack_model.evaluate(D_all[:, :-1], D_all[:, -1], verbose=1)"
      ]
    },
    {
      "cell_type": "markdown",
      "metadata": {
        "id": "CVG_PE0cPvAz"
      },
      "source": [
        "## Experimental Results\n",
        "\n",
        "### Best hyperparameter tuning \n",
        "\n",
        "After some testing we note that out attack will perform well when we supply it with 5 to 10 shadow models with 5000-10000 training instances, per shadow model.\n",
        "\n",
        "Note that we tried the following tuning settings:\n",
        "- 5 to 20 shadows, 1000 samples, could not achieve over 50\\% accuracy\n",
        "- 10 to 20 shadows, 5000 samples, achieved a max of 54\\% accuracy and best recall and precision  for $x \\in D_{target}$ with precision of 1.0 and recall of 0.70\n",
        "- 5 to 10 shadows, 10000 samples, yielded same results as the runs with 5000\n",
        "\n",
        "\n",
        "### Notes about Attack and shadows architecture\n",
        "Also our attack will perform better if we manage to use and ensemble model, like a random forest, to perform the final attack than a normal classifier. The closer the model behaves to the original target the closer we get to a better attack\n",
        "\n",
        "### Conclusion\n",
        "Trying different values for the percentage of lost/missing values per record we can notice a decrease in attack performance (accuracy and precision fall) that means: \n",
        "We can execute the attack with missing values, but we should consider a larger error margin in our inference predictions. \n",
        "\n",
        "Using 10 shadows with 5000 instances for training we yielded the following results, with respect to missing values percentage across the testing dataset and attack performance on this dataset:\n",
        "\n",
        "|Missing Values \\% | F-1 Score | Presicion | Recall | \n",
        "| --- | --- | --- | --- |\n",
        "| 0% | .60 | .78 | .60 |\n",
        "| 1\\% | .59 | .75 | .59 |\n",
        "| 5\\% | .58 | .70 | .58|\n",
        "| 10\\% | .57| .67| .57|\n",
        "| 15\\% | .57| .63| .57|\n",
        "| 20\\% | .56| .62 | .56 |\n"
      ]
    },
    {
      "cell_type": "code",
      "source": [
        ""
      ],
      "metadata": {
        "id": "io8G8NExed8B"
      },
      "execution_count": 242,
      "outputs": []
    }
  ],
  "metadata": {
    "colab": {
      "collapsed_sections": [],
      "name": "ADULT_mia_v1.ipynb",
      "provenance": []
    },
    "kernelspec": {
      "display_name": "Python 3",
      "name": "python3"
    },
    "language_info": {
      "codemirror_mode": {
        "name": "ipython",
        "version": 3
      },
      "file_extension": ".py",
      "mimetype": "text/x-python",
      "name": "python",
      "nbconvert_exporter": "python",
      "pygments_lexer": "ipython3",
      "version": "3.8.10"
    }
  },
  "nbformat": 4,
  "nbformat_minor": 0
}