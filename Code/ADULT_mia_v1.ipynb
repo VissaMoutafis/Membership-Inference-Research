{
  "cells": [
    {
      "cell_type": "code",
      "execution_count": 1,
      "metadata": {
        "colab": {
          "base_uri": "https://localhost:8080/"
        },
        "id": "tg_WQJ7j5n3B",
        "outputId": "a98bafdd-e7e8-47af-9eb7-3e4272835f36"
      },
      "outputs": [
        {
          "name": "stderr",
          "output_type": "stream",
          "text": [
            "2022-01-11 15:01:51.850886: W tensorflow/stream_executor/platform/default/dso_loader.cc:64] Could not load dynamic library 'libcudart.so.11.0'; dlerror: libcudart.so.11.0: cannot open shared object file: No such file or directory\n",
            "2022-01-11 15:01:51.850938: I tensorflow/stream_executor/cuda/cudart_stub.cc:29] Ignore above cudart dlerror if you do not have a GPU set up on your machine.\n"
          ]
        },
        {
          "name": "stdout",
          "output_type": "stream",
          "text": [
            "Num GPUs Available:  0\n"
          ]
        },
        {
          "name": "stderr",
          "output_type": "stream",
          "text": [
            "2022-01-11 15:01:55.811017: I tensorflow/stream_executor/platform/default/dso_loader.cc:53] Successfully opened dynamic library libcuda.so.1\n",
            "2022-01-11 15:01:55.864579: I tensorflow/stream_executor/cuda/cuda_gpu_executor.cc:937] successful NUMA node read from SysFS had negative value (-1), but there must be at least one NUMA node, so returning NUMA node zero\n",
            "2022-01-11 15:01:55.865226: I tensorflow/core/common_runtime/gpu/gpu_device.cc:1733] Found device 0 with properties: \n",
            "pciBusID: 0000:01:00.0 name: NVIDIA GeForce MX130 computeCapability: 5.0\n",
            "coreClock: 1.189GHz coreCount: 3 deviceMemorySize: 1.96GiB deviceMemoryBandwidth: 37.33GiB/s\n",
            "2022-01-11 15:01:55.865386: W tensorflow/stream_executor/platform/default/dso_loader.cc:64] Could not load dynamic library 'libcudart.so.11.0'; dlerror: libcudart.so.11.0: cannot open shared object file: No such file or directory\n",
            "2022-01-11 15:01:55.865624: W tensorflow/stream_executor/platform/default/dso_loader.cc:64] Could not load dynamic library 'libcublas.so.11'; dlerror: libcublas.so.11: cannot open shared object file: No such file or directory\n",
            "2022-01-11 15:01:55.865705: W tensorflow/stream_executor/platform/default/dso_loader.cc:64] Could not load dynamic library 'libcublasLt.so.11'; dlerror: libcublasLt.so.11: cannot open shared object file: No such file or directory\n",
            "2022-01-11 15:01:55.874085: I tensorflow/stream_executor/platform/default/dso_loader.cc:53] Successfully opened dynamic library libcufft.so.10\n",
            "2022-01-11 15:01:55.878617: I tensorflow/stream_executor/platform/default/dso_loader.cc:53] Successfully opened dynamic library libcurand.so.10\n",
            "2022-01-11 15:01:55.878871: W tensorflow/stream_executor/platform/default/dso_loader.cc:64] Could not load dynamic library 'libcusolver.so.11'; dlerror: libcusolver.so.11: cannot open shared object file: No such file or directory\n",
            "2022-01-11 15:01:55.879214: W tensorflow/stream_executor/platform/default/dso_loader.cc:64] Could not load dynamic library 'libcusparse.so.11'; dlerror: libcusparse.so.11: cannot open shared object file: No such file or directory\n",
            "2022-01-11 15:01:55.879359: W tensorflow/stream_executor/platform/default/dso_loader.cc:64] Could not load dynamic library 'libcudnn.so.8'; dlerror: libcudnn.so.8: cannot open shared object file: No such file or directory\n",
            "2022-01-11 15:01:55.879378: W tensorflow/core/common_runtime/gpu/gpu_device.cc:1766] Cannot dlopen some GPU libraries. Please make sure the missing libraries mentioned above are installed properly if you would like to use GPU. Follow the guide at https://www.tensorflow.org/install/gpu for how to download and setup the required libraries for your platform.\n",
            "Skipping registering GPU devices...\n"
          ]
        }
      ],
      "source": [
        "import numpy as np\n",
        "import pandas as pd\n",
        "import math\n",
        "import matplotlib.pyplot as plt\n",
        "\n",
        "import tensorflow as tf\n",
        "from tensorflow import keras\n",
        "from tensorflow.keras import datasets, layers, models\n",
        "\n",
        "from sklearn.model_selection import train_test_split\n",
        "from sklearn.linear_model import LogisticRegression\n",
        "from sklearn.tree import DecisionTreeClassifier\n",
        "from sklearn.ensemble import RandomForestClassifier\n",
        "from sklearn.metrics import classification_report\n",
        "\n",
        "from mia.shadow_models import *\n",
        "from mia.attack_model import *\n",
        "from mia.utilities import *\n",
        "from mia.wrappers import *\n",
        "\n",
        "from tqdm import tqdm\n",
        "import sys\n",
        "print(\"Num GPUs Available: \", len(tf.config.list_physical_devices('GPU')))\n"
      ]
    },
    {
      "cell_type": "markdown",
      "metadata": {
        "id": "FWI32aRtFJqm"
      },
      "source": [
        "## Data Preprocessing, D_in & D_out and Target Model Creation\n",
        "\n",
        "OK. Let's first load our dataset and take a peek at the data."
      ]
    },
    {
      "cell_type": "code",
      "execution_count": 2,
      "metadata": {
        "colab": {
          "base_uri": "https://localhost:8080/"
        },
        "id": "JehzAxjYHxAm",
        "outputId": "acfd2205-7fb2-401f-a89c-3449dc9b4a7b"
      },
      "outputs": [
        {
          "name": "stdout",
          "output_type": "stream",
          "text": [
            "--2022-01-11 15:01:55--  https://archive.ics.uci.edu/ml/machine-learning-databases/adult/adult.data\n",
            "Resolving archive.ics.uci.edu (archive.ics.uci.edu)... 128.195.10.252\n",
            "Connecting to archive.ics.uci.edu (archive.ics.uci.edu)|128.195.10.252|:443... connected.\n",
            "HTTP request sent, awaiting response... 200 OK\n",
            "Length: 3974305 (3,8M) [application/x-httpd-php]\n",
            "Saving to: ‘adult.data.3’\n",
            "\n",
            "adult.data.3        100%[===================>]   3,79M  1,95MB/s    in 1,9s    \n",
            "\n",
            "2022-01-11 15:01:58 (1,95 MB/s) - ‘adult.data.3’ saved [3974305/3974305]\n",
            "\n"
          ]
        }
      ],
      "source": [
        "!wget \"https://archive.ics.uci.edu/ml/machine-learning-databases/adult/adult.data\"\n",
        "# !wget \"https://archive.ics.uci.edu/ml/machine-learning-databases/adult/adult.test\""
      ]
    },
    {
      "cell_type": "code",
      "execution_count": 3,
      "metadata": {
        "id": "oh1C7fT8FJVA"
      },
      "outputs": [],
      "source": [
        "cols = ['age', \n",
        "        'workclass', \n",
        "        'fnlwgt', \n",
        "        'education',\n",
        "        'education-num',\n",
        "        'marital-status',\n",
        "        'occupation', \n",
        "        'relationship', \n",
        "        'race',\n",
        "        'sex',\n",
        "        'capital-gain',\n",
        "        'capital-loss',\n",
        "        'hours-per-week', \n",
        "        'native-country',\n",
        "        'salary']\n",
        "cat_cols = [\n",
        "  'workclass', \n",
        "  'education',\n",
        "  'marital-status',\n",
        "  'occupation',\n",
        "  'relationship',\n",
        "  'race',\n",
        "  'sex',\n",
        "  'native-country'     \n",
        "]\n",
        "\n",
        "num_cols = list(set(cols) - set(cat_cols) - set({'salary'}))"
      ]
    },
    {
      "cell_type": "code",
      "execution_count": 4,
      "metadata": {
        "id": "p8Z5qWioEwtj"
      },
      "outputs": [],
      "source": [
        "dataset_path = 'adult.data' "
      ]
    },
    {
      "cell_type": "code",
      "execution_count": 5,
      "metadata": {
        "id": "TE3MYfV0FfvT"
      },
      "outputs": [],
      "source": [
        "data_df = pd.read_csv(dataset_path, index_col=False, names=cols)"
      ]
    },
    {
      "cell_type": "code",
      "execution_count": 6,
      "metadata": {
        "id": "RZAfWfc0ZGVR"
      },
      "outputs": [],
      "source": [
        "data_df.loc[data_df['salary'].str.contains('>50K'), 'salary'] = 1\n",
        "data_df.loc[data_df['salary'].str.contains('>50K') == False, 'salary'] = 0"
      ]
    },
    {
      "cell_type": "code",
      "execution_count": 7,
      "metadata": {
        "id": "pJL7rlGyH6Oy"
      },
      "outputs": [],
      "source": [
        "for col in cat_cols:\n",
        "  data_df = data_df[data_df[col].str.contains('\\?') == False]"
      ]
    },
    {
      "cell_type": "code",
      "execution_count": 8,
      "metadata": {
        "id": "gxiT8YB_b7AB"
      },
      "outputs": [],
      "source": [
        "data_df[cat_cols] = data_df[cat_cols].astype('category')\n",
        "for col in cat_cols:\n",
        "  data_df[col] = data_df[col].cat.codes"
      ]
    },
    {
      "cell_type": "code",
      "execution_count": 9,
      "metadata": {
        "id": "FkWFWpHVcL8y"
      },
      "outputs": [],
      "source": [
        "y = data_df.pop('salary').to_numpy(dtype=np.int8)\n",
        "X = data_df.to_numpy(dtype=np.float64) "
      ]
    },
    {
      "cell_type": "code",
      "execution_count": 10,
      "metadata": {
        "id": "9nJHvjvid_mF"
      },
      "outputs": [],
      "source": [
        "# divide to target and attack dataset\n",
        "X_target, X_attacker, y_target, y_attacker = train_test_split(X, y, test_size=0.5, shuffle=True, random_state=0)\n",
        "\n",
        "# train-test split for the target\n",
        "X_train, X_test, y_train, y_test = train_test_split(X_target, y_target, test_size=0.33, shuffle=True, random_state=0)"
      ]
    },
    {
      "cell_type": "code",
      "execution_count": 11,
      "metadata": {
        "id": "C-423fz3dWD4"
      },
      "outputs": [],
      "source": [
        "target_model = DecisionTreeClassifier(random_state=0).fit(X_train, y_train.reshape(-1))"
      ]
    },
    {
      "cell_type": "code",
      "execution_count": 12,
      "metadata": {
        "colab": {
          "base_uri": "https://localhost:8080/"
        },
        "id": "_APyi1ZqdrLJ",
        "outputId": "8f7ad9e9-cd51-40c5-e71b-cec326ddf0d3"
      },
      "outputs": [
        {
          "name": "stdout",
          "output_type": "stream",
          "text": [
            "Training Test Scores:\n",
            "              precision    recall  f1-score   support\n",
            "\n",
            "           0       1.00      1.00      1.00      7625\n",
            "           1       1.00      1.00      1.00      2479\n",
            "\n",
            "    accuracy                           1.00     10104\n",
            "   macro avg       1.00      1.00      1.00     10104\n",
            "weighted avg       1.00      1.00      1.00     10104\n",
            "\n",
            "Validation Test Scores:\n",
            "              precision    recall  f1-score   support\n",
            "\n",
            "           0       0.87      0.86      0.87      3734\n",
            "           1       0.60      0.62      0.61      1243\n",
            "\n",
            "    accuracy                           0.80      4977\n",
            "   macro avg       0.74      0.74      0.74      4977\n",
            "weighted avg       0.80      0.80      0.80      4977\n",
            "\n"
          ]
        }
      ],
      "source": [
        "print('Training Test Scores:', \n",
        "      classification_report(y_train, target_model.predict(X_train)), \n",
        "      'Validation Test Scores:', \n",
        "      classification_report(y_test, target_model.predict(X_test)), sep='\\n')"
      ]
    },
    {
      "cell_type": "code",
      "execution_count": 13,
      "metadata": {},
      "outputs": [],
      "source": [
        "target_model.predict = target_model.predict_proba"
      ]
    },
    {
      "cell_type": "markdown",
      "metadata": {
        "id": "jcbVJs-ig03r"
      },
      "source": [
        "So we clearly see that Decision tree is overfitted to the data. It is time to run our normal attack on some data that lack of certain features."
      ]
    },
    {
      "cell_type": "markdown",
      "metadata": {
        "id": "M90y3DvEiIA0"
      },
      "source": [
        "## Attacker-Shadows Dataset separation\n",
        "\n",
        "We will divide the attacker dataset to\n",
        "- Attack Evaluation dataset of instances that we know they belong to $D_{out}$\n",
        "- Attack Evaluation dataset of instances that we know they belong to $D_{in}$\n",
        "- Instances from the dataset distribution we will use to train the shadow and attack models. These will also be used as a guide to fill out null values later.\n",
        "\n"
      ]
    },
    {
      "cell_type": "code",
      "execution_count": 14,
      "metadata": {
        "id": "7I_QAYdeimk6"
      },
      "outputs": [],
      "source": [
        "# divide attacker dataset\n",
        "X_attacker_train, X_attacker_test_out, y_attacker_train, y_attacker_test_out = train_test_split(X_attacker, y_attacker, test_size=0.33, shuffle=True, random_state=0)\n",
        "\n",
        "# get a proportion of the D_in dataset for later testing of the model\n",
        "_, X_attacker_test_in, _, y_attacker_test_in = train_test_split(X_train, y_train, test_size=0.33, shuffle=True, random_state=0)\n"
      ]
    },
    {
      "cell_type": "markdown",
      "metadata": {
        "id": "Zv5vtMZMhFMq"
      },
      "source": [
        "## Filling null features from the dataset distribution.\n",
        "\n",
        "For research purposes we will cross out some categorical and numerical datapoints with probability of 10\\%$ and fill them using the following methods:\n",
        "\n",
        "- for numerical features use the mean of the collumn\n",
        "- for categorical features, find the label, group by it, find the most common value, accross same-labeled instances and assign it to the null case."
      ]
    },
    {
      "cell_type": "code",
      "execution_count": 15,
      "metadata": {
        "id": "44rHSRrohBZ7"
      },
      "outputs": [],
      "source": [
        "\"\"\" \n",
        "    Routine that treats features of all records as null with prob @prob_of_null.\n",
        "    If feature is categorical we will replace it with most used value given the label\n",
        "    If numeric we will replace it with the mean among the dataset of record with the same value\n",
        "\"\"\"\n",
        "def fill_out_missing_values(df, cat_cols, num_cols, y_label, prob_of_null = 0.1):\n",
        "  y_labels = df[y_label].unique().tolist()\n",
        "  \n",
        "  # create a most used values and mean values array based on the class and the column\n",
        "  value_mapper = {}\n",
        "  \n",
        "  for i in y_labels:\n",
        "    values = {}\n",
        "    for col in cat_cols:\n",
        "      values[col] = df.loc[df[y_label] == i, col].mode()[0]\n",
        "      \n",
        "    for col in num_cols:\n",
        "      values[col] = df.loc[df[y_label] == i, col].mean(axis=0)\n",
        "      \n",
        "    value_mapper[i] = values\n",
        "\n",
        "  for i in y_labels:\n",
        "    for col in cat_cols+num_cols:\n",
        "      df.loc[df[y_label] == i, col] = df.loc[df[y_label] == i, col].apply(lambda x: x if np.random.random() - prob_of_null >= 0.0 else value_mapper[i][col])\n",
        "      \n",
        "  return df"
      ]
    },
    {
      "cell_type": "code",
      "execution_count": 16,
      "metadata": {
        "id": "eKrgVjVSlb1g"
      },
      "outputs": [],
      "source": [
        "df = pd.DataFrame(np.concatenate((X_attacker_test_out, y_attacker_test_out.reshape(-1, 1)), axis=1), columns=cols)"
      ]
    },
    {
      "cell_type": "code",
      "execution_count": 17,
      "metadata": {
        "colab": {
          "base_uri": "https://localhost:8080/"
        },
        "id": "jk-Xfnc-lhq9",
        "outputId": "760cf590-68d4-4287-8b47-c5ec361e90d4"
      },
      "outputs": [],
      "source": [
        "df_out = fill_out_missing_values(df, cat_cols, num_cols, 'salary')\n",
        "y_attacker_test_out = df_out.pop('salary').to_numpy()\n",
        "X_attacker_test_out = df_out.to_numpy()"
      ]
    },
    {
      "cell_type": "code",
      "execution_count": 18,
      "metadata": {},
      "outputs": [],
      "source": [
        "df = pd.DataFrame(np.concatenate((X_attacker_test_in, y_attacker_test_in.reshape(-1, 1)), axis=1), columns=cols)"
      ]
    },
    {
      "cell_type": "code",
      "execution_count": 19,
      "metadata": {},
      "outputs": [],
      "source": [
        "df_in = fill_out_missing_values(df, cat_cols, num_cols, 'salary')\n",
        "y_attacker_test_in = df_in.pop('salary').to_numpy()\n",
        "X_attacker_test_in = df_in.to_numpy()"
      ]
    },
    {
      "cell_type": "code",
      "execution_count": 39,
      "metadata": {
        "id": "U00a_MTObTSk"
      },
      "outputs": [],
      "source": [
        "N_SHADOWS= 5\n",
        "SHADOW_EPOCHS=50\n",
        "SHADOW_DATASET_SIZE= 1000\n"
      ]
    },
    {
      "cell_type": "code",
      "execution_count": 40,
      "metadata": {
        "id": "5TxieABsaaKV"
      },
      "outputs": [],
      "source": [
        "def f_shadow():\n",
        "  model = RandomForestClassifier(random_state=0) \n",
        "  model.predict = model.predict_proba\n",
        "  return  model"
      ]
    },
    {
      "cell_type": "code",
      "execution_count": 41,
      "metadata": {
        "id": "_auZzR-omVDy"
      },
      "outputs": [],
      "source": [
        "shadow_models = ShadowModelBatch(N_SHADOWS, f_shadow, model_type='sklearn')"
      ]
    },
    {
      "cell_type": "code",
      "execution_count": 42,
      "metadata": {
        "id": "Z0P48OqXbuLY"
      },
      "outputs": [],
      "source": [
        "D_shadows = generate_shadow_dataset(target_model, N_SHADOWS, SHADOW_DATASET_SIZE, 2, attacker_X=X_attacker_train, attacker_y=y_attacker_train)"
      ]
    },
    {
      "cell_type": "code",
      "execution_count": 43,
      "metadata": {
        "colab": {
          "base_uri": "https://localhost:8080/"
        },
        "id": "JbX6IX4bbRZp",
        "outputId": "c501c442-27e6-4419-ab08-2595d808ac1e"
      },
      "outputs": [],
      "source": [
        "ShadowModelBatch.VERBOSE=True\n",
        "shadow_models.fit_all(D_shadows, SHADOW_EPOCHS)"
      ]
    },
    {
      "cell_type": "code",
      "execution_count": 44,
      "metadata": {
        "id": "mNtemr5ab_DI"
      },
      "outputs": [],
      "source": [
        "def f_attack():\n",
        "    model = RandomForestClassifier(random_state=0)\n",
        "    model.predict = model.predict_proba\n",
        "    return model \n",
        "\n",
        "attack_model = DefaultAttackModel(shadow_models, 2, f_attack)"
      ]
    },
    {
      "cell_type": "code",
      "execution_count": 45,
      "metadata": {
        "id": "Wwym01becsw_"
      },
      "outputs": [
        {
          "name": "stdout",
          "output_type": "stream",
          "text": [
            "Preparing shadow batch of size 660\n",
            "Done!\n",
            "Preparing shadow batch of size 660\n",
            "Done!\n",
            "Preparing shadow batch of size 660\n",
            "Done!\n",
            "Preparing shadow batch of size 660\n",
            "Done!\n",
            "Preparing shadow batch of size 660\n",
            "Done!\n"
          ]
        }
      ],
      "source": [
        "DefaultAttackModel.VERBOSE = True\n",
        "attack_model.fit(epochs=50)"
      ]
    },
    {
      "cell_type": "code",
      "execution_count": 46,
      "metadata": {
        "id": "NtcnmIZ-c0sa"
      },
      "outputs": [
        {
          "name": "stdout",
          "output_type": "stream",
          "text": [
            "Warning: AttackModel has no attribute evaluate\n",
            "              precision    recall  f1-score   support\n",
            "\n",
            "         0.0       0.83      0.22      0.35      4977\n",
            "         1.0       0.45      0.93      0.60      3335\n",
            "\n",
            "    accuracy                           0.51      8312\n",
            "   macro avg       0.64      0.58      0.48      8312\n",
            "weighted avg       0.68      0.51      0.45      8312\n",
            "\n",
            "AUC: 0.464533947613294\n"
          ]
        },
        {
          "data": {
            "image/png": "[encoded data removed]",
            "text/plain": [
              "<Figure size 432x288 with 1 Axes>"
            ]
          },
          "metadata": {
            "needs_background": "light"
          },
          "output_type": "display_data"
        }
      ],
      "source": [
        "D_in = attack_model.prepare_batch(target_model, X_attacker_test_in, y_attacker_test_in, True)\n",
        "D_out = attack_model.prepare_batch(target_model, X_attacker_test_out, y_attacker_test_out, False)\n",
        "D_all = np.concatenate((D_in, D_out))\n",
        "attack_model.evaluate(D_all[:, :-1], D_all[:, -1], verbose=1)"
      ]
    },
    {
      "cell_type": "markdown",
      "metadata": {},
      "source": [
        "## Experimental Results\n",
        "\n",
        "### Best hyperparameter tuning \n",
        "\n",
        "After some testing we note that out attack will perform its best when we supply it with 5 to 10 shadow models with 1000 training instances, per shadow model.\n",
        "\n",
        "Note that we tried the following tuning settings:\n",
        "- \n",
        "\n",
        "### Notes about Attack and shadows architecture\n",
        "Also our attack will perform better if we manage to use and ensemble model, like a random forest, to perform the final attack than a normal classifier"
      ]
    }
  ],
  "metadata": {
    "colab": {
      "collapsed_sections": [],
      "name": "ADULT_mia_v1.ipynb",
      "provenance": []
    },
    "kernelspec": {
      "display_name": "Python 3",
      "name": "python3"
    },
    "language_info": {
      "codemirror_mode": {
        "name": "ipython",
        "version": 3
      },
      "file_extension": ".py",
      "mimetype": "text/x-python",
      "name": "python",
      "nbconvert_exporter": "python",
      "pygments_lexer": "ipython3",
      "version": "3.8.10"
    }
  },
  "nbformat": 4,
  "nbformat_minor": 0
}
