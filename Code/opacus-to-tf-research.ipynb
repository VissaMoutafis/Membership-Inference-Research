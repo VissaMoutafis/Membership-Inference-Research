{
  "metadata": {
    "kernelspec": {
      "language": "python",
      "display_name": "Python 3",
      "name": "python3"
    },
    "language_info": {
      "name": "python",
      "version": "3.7.12",
      "mimetype": "text/x-python",
      "codemirror_mode": {
        "name": "ipython",
        "version": 3
      },
      "pygments_lexer": "ipython3",
      "nbconvert_exporter": "python",
      "file_extension": ".py"
    },
    "colab": {
      "name": "opacus-to-tf-research.ipynb",
      "provenance": [],
      "collapsed_sections": []
    },
    "accelerator": "GPU",
    "widgets": {
      "application/vnd.jupyter.widget-state+json": {
        "6fea14df3868403f8654ab020e99cb7b": {
          "model_module": "@jupyter-widgets/controls",
          "model_name": "HBoxModel",
          "model_module_version": "1.5.0",
          "state": {
            "_dom_classes": [],
            "_model_module": "@jupyter-widgets/controls",
            "_model_module_version": "1.5.0",
            "_model_name": "HBoxModel",
            "_view_count": null,
            "_view_module": "@jupyter-widgets/controls",
            "_view_module_version": "1.5.0",
            "_view_name": "HBoxView",
            "box_style": "",
            "children": [
              "IPY_MODEL_2e721b35447d43238ff87b2eb9c457c8",
              "IPY_MODEL_ec1bd4f64bf84cd6ac21ea905fdbd795",
              "IPY_MODEL_c66e7786083f4db8a81f4f50d721e694"
            ],
            "layout": "IPY_MODEL_cd05ed9a73c3457f8454772ca5f0c1fe"
          }
        },
        "2e721b35447d43238ff87b2eb9c457c8": {
          "model_module": "@jupyter-widgets/controls",
          "model_name": "HTMLModel",
          "model_module_version": "1.5.0",
          "state": {
            "_dom_classes": [],
            "_model_module": "@jupyter-widgets/controls",
            "_model_module_version": "1.5.0",
            "_model_name": "HTMLModel",
            "_view_count": null,
            "_view_module": "@jupyter-widgets/controls",
            "_view_module_version": "1.5.0",
            "_view_name": "HTMLView",
            "description": "",
            "description_tooltip": null,
            "layout": "IPY_MODEL_dbbc1465c872403d85f9a53273fe0e79",
            "placeholder": "​",
            "style": "IPY_MODEL_d5ae331e564c47a3b6385dea288546f2",
            "value": "Epoch 20: train loss: 0.5087539222593395, train acc: 0.8158623417721519, test_loss: 3.6077942869599613, test acc: 0.3331876456876457:  21%"
          }
        },
        "ec1bd4f64bf84cd6ac21ea905fdbd795": {
          "model_module": "@jupyter-widgets/controls",
          "model_name": "FloatProgressModel",
          "model_module_version": "1.5.0",
          "state": {
            "_dom_classes": [],
            "_model_module": "@jupyter-widgets/controls",
            "_model_module_version": "1.5.0",
            "_model_name": "FloatProgressModel",
            "_view_count": null,
            "_view_module": "@jupyter-widgets/controls",
            "_view_module_version": "1.5.0",
            "_view_name": "ProgressView",
            "bar_style": "danger",
            "description": "",
            "description_tooltip": null,
            "layout": "IPY_MODEL_1dc88bf05607480db6591ccc727ddcdb",
            "max": 100,
            "min": 0,
            "orientation": "horizontal",
            "style": "IPY_MODEL_a1f331d6de284a839150c413dd95a842",
            "value": 21
          }
        },
        "c66e7786083f4db8a81f4f50d721e694": {
          "model_module": "@jupyter-widgets/controls",
          "model_name": "HTMLModel",
          "model_module_version": "1.5.0",
          "state": {
            "_dom_classes": [],
            "_model_module": "@jupyter-widgets/controls",
            "_model_module_version": "1.5.0",
            "_model_name": "HTMLModel",
            "_view_count": null,
            "_view_module": "@jupyter-widgets/controls",
            "_view_module_version": "1.5.0",
            "_view_name": "HTMLView",
            "description": "",
            "description_tooltip": null,
            "layout": "IPY_MODEL_34d02f059cf94596a463f2dc24f650a0",
            "placeholder": "​",
            "style": "IPY_MODEL_71ef372ea6cf4cb5b588d41ac274c3cd",
            "value": " 21/100 [00:47&lt;02:51,  2.17s/it]"
          }
        },
        "cd05ed9a73c3457f8454772ca5f0c1fe": {
          "model_module": "@jupyter-widgets/base",
          "model_name": "LayoutModel",
          "model_module_version": "1.2.0",
          "state": {
            "_model_module": "@jupyter-widgets/base",
            "_model_module_version": "1.2.0",
            "_model_name": "LayoutModel",
            "_view_count": null,
            "_view_module": "@jupyter-widgets/base",
            "_view_module_version": "1.2.0",
            "_view_name": "LayoutView",
            "align_content": null,
            "align_items": null,
            "align_self": null,
            "border": null,
            "bottom": null,
            "display": null,
            "flex": null,
            "flex_flow": null,
            "grid_area": null,
            "grid_auto_columns": null,
            "grid_auto_flow": null,
            "grid_auto_rows": null,
            "grid_column": null,
            "grid_gap": null,
            "grid_row": null,
            "grid_template_areas": null,
            "grid_template_columns": null,
            "grid_template_rows": null,
            "height": null,
            "justify_content": null,
            "justify_items": null,
            "left": null,
            "margin": null,
            "max_height": null,
            "max_width": null,
            "min_height": null,
            "min_width": null,
            "object_fit": null,
            "object_position": null,
            "order": null,
            "overflow": null,
            "overflow_x": null,
            "overflow_y": null,
            "padding": null,
            "right": null,
            "top": null,
            "visibility": null,
            "width": null
          }
        },
        "dbbc1465c872403d85f9a53273fe0e79": {
          "model_module": "@jupyter-widgets/base",
          "model_name": "LayoutModel",
          "model_module_version": "1.2.0",
          "state": {
            "_model_module": "@jupyter-widgets/base",
            "_model_module_version": "1.2.0",
            "_model_name": "LayoutModel",
            "_view_count": null,
            "_view_module": "@jupyter-widgets/base",
            "_view_module_version": "1.2.0",
            "_view_name": "LayoutView",
            "align_content": null,
            "align_items": null,
            "align_self": null,
            "border": null,
            "bottom": null,
            "display": null,
            "flex": null,
            "flex_flow": null,
            "grid_area": null,
            "grid_auto_columns": null,
            "grid_auto_flow": null,
            "grid_auto_rows": null,
            "grid_column": null,
            "grid_gap": null,
            "grid_row": null,
            "grid_template_areas": null,
            "grid_template_columns": null,
            "grid_template_rows": null,
            "height": null,
            "justify_content": null,
            "justify_items": null,
            "left": null,
            "margin": null,
            "max_height": null,
            "max_width": null,
            "min_height": null,
            "min_width": null,
            "object_fit": null,
            "object_position": null,
            "order": null,
            "overflow": null,
            "overflow_x": null,
            "overflow_y": null,
            "padding": null,
            "right": null,
            "top": null,
            "visibility": null,
            "width": null
          }
        },
        "d5ae331e564c47a3b6385dea288546f2": {
          "model_module": "@jupyter-widgets/controls",
          "model_name": "DescriptionStyleModel",
          "model_module_version": "1.5.0",
          "state": {
            "_model_module": "@jupyter-widgets/controls",
            "_model_module_version": "1.5.0",
            "_model_name": "DescriptionStyleModel",
            "_view_count": null,
            "_view_module": "@jupyter-widgets/base",
            "_view_module_version": "1.2.0",
            "_view_name": "StyleView",
            "description_width": ""
          }
        },
        "1dc88bf05607480db6591ccc727ddcdb": {
          "model_module": "@jupyter-widgets/base",
          "model_name": "LayoutModel",
          "model_module_version": "1.2.0",
          "state": {
            "_model_module": "@jupyter-widgets/base",
            "_model_module_version": "1.2.0",
            "_model_name": "LayoutModel",
            "_view_count": null,
            "_view_module": "@jupyter-widgets/base",
            "_view_module_version": "1.2.0",
            "_view_name": "LayoutView",
            "align_content": null,
            "align_items": null,
            "align_self": null,
            "border": null,
            "bottom": null,
            "display": null,
            "flex": null,
            "flex_flow": null,
            "grid_area": null,
            "grid_auto_columns": null,
            "grid_auto_flow": null,
            "grid_auto_rows": null,
            "grid_column": null,
            "grid_gap": null,
            "grid_row": null,
            "grid_template_areas": null,
            "grid_template_columns": null,
            "grid_template_rows": null,
            "height": null,
            "justify_content": null,
            "justify_items": null,
            "left": null,
            "margin": null,
            "max_height": null,
            "max_width": null,
            "min_height": null,
            "min_width": null,
            "object_fit": null,
            "object_position": null,
            "order": null,
            "overflow": null,
            "overflow_x": null,
            "overflow_y": null,
            "padding": null,
            "right": null,
            "top": null,
            "visibility": null,
            "width": null
          }
        },
        "a1f331d6de284a839150c413dd95a842": {
          "model_module": "@jupyter-widgets/controls",
          "model_name": "ProgressStyleModel",
          "model_module_version": "1.5.0",
          "state": {
            "_model_module": "@jupyter-widgets/controls",
            "_model_module_version": "1.5.0",
            "_model_name": "ProgressStyleModel",
            "_view_count": null,
            "_view_module": "@jupyter-widgets/base",
            "_view_module_version": "1.2.0",
            "_view_name": "StyleView",
            "bar_color": null,
            "description_width": ""
          }
        },
        "34d02f059cf94596a463f2dc24f650a0": {
          "model_module": "@jupyter-widgets/base",
          "model_name": "LayoutModel",
          "model_module_version": "1.2.0",
          "state": {
            "_model_module": "@jupyter-widgets/base",
            "_model_module_version": "1.2.0",
            "_model_name": "LayoutModel",
            "_view_count": null,
            "_view_module": "@jupyter-widgets/base",
            "_view_module_version": "1.2.0",
            "_view_name": "LayoutView",
            "align_content": null,
            "align_items": null,
            "align_self": null,
            "border": null,
            "bottom": null,
            "display": null,
            "flex": null,
            "flex_flow": null,
            "grid_area": null,
            "grid_auto_columns": null,
            "grid_auto_flow": null,
            "grid_auto_rows": null,
            "grid_column": null,
            "grid_gap": null,
            "grid_row": null,
            "grid_template_areas": null,
            "grid_template_columns": null,
            "grid_template_rows": null,
            "height": null,
            "justify_content": null,
            "justify_items": null,
            "left": null,
            "margin": null,
            "max_height": null,
            "max_width": null,
            "min_height": null,
            "min_width": null,
            "object_fit": null,
            "object_position": null,
            "order": null,
            "overflow": null,
            "overflow_x": null,
            "overflow_y": null,
            "padding": null,
            "right": null,
            "top": null,
            "visibility": null,
            "width": null
          }
        },
        "71ef372ea6cf4cb5b588d41ac274c3cd": {
          "model_module": "@jupyter-widgets/controls",
          "model_name": "DescriptionStyleModel",
          "model_module_version": "1.5.0",
          "state": {
            "_model_module": "@jupyter-widgets/controls",
            "_model_module_version": "1.5.0",
            "_model_name": "DescriptionStyleModel",
            "_view_count": null,
            "_view_module": "@jupyter-widgets/base",
            "_view_module_version": "1.2.0",
            "_view_name": "StyleView",
            "description_width": ""
          }
        },
        "44bdc06477b043068c0a6025e20842d5": {
          "model_module": "@jupyter-widgets/controls",
          "model_name": "HBoxModel",
          "model_module_version": "1.5.0",
          "state": {
            "_dom_classes": [],
            "_model_module": "@jupyter-widgets/controls",
            "_model_module_version": "1.5.0",
            "_model_name": "HBoxModel",
            "_view_count": null,
            "_view_module": "@jupyter-widgets/controls",
            "_view_module_version": "1.5.0",
            "_view_name": "HBoxView",
            "box_style": "",
            "children": [
              "IPY_MODEL_34a4c9b5fedd4b7785a33e26f7221adb",
              "IPY_MODEL_a21a786047994b038cbc5727b1faed57",
              "IPY_MODEL_354c6db6e9b8498e9626c2558ca40346"
            ],
            "layout": "IPY_MODEL_0986c64ddf15438c8517d2872e63a602"
          }
        },
        "34a4c9b5fedd4b7785a33e26f7221adb": {
          "model_module": "@jupyter-widgets/controls",
          "model_name": "HTMLModel",
          "model_module_version": "1.5.0",
          "state": {
            "_dom_classes": [],
            "_model_module": "@jupyter-widgets/controls",
            "_model_module_version": "1.5.0",
            "_model_name": "HTMLModel",
            "_view_count": null,
            "_view_module": "@jupyter-widgets/controls",
            "_view_module_version": "1.5.0",
            "_view_name": "HTMLView",
            "description": "",
            "description_tooltip": null,
            "layout": "IPY_MODEL_9bb355dea56048bd8acd44ac020bb85f",
            "placeholder": "​",
            "style": "IPY_MODEL_2d1f357ceafd438e85bd5e3903967a89",
            "value": "Epoch 15: train loss: 0.6928686697139884, train acc: 0.756839802130898, test_loss: 2.0444746942526346, test acc: 0.42122257607926394:  16%"
          }
        },
        "a21a786047994b038cbc5727b1faed57": {
          "model_module": "@jupyter-widgets/controls",
          "model_name": "FloatProgressModel",
          "model_module_version": "1.5.0",
          "state": {
            "_dom_classes": [],
            "_model_module": "@jupyter-widgets/controls",
            "_model_module_version": "1.5.0",
            "_model_name": "FloatProgressModel",
            "_view_count": null,
            "_view_module": "@jupyter-widgets/controls",
            "_view_module_version": "1.5.0",
            "_view_name": "ProgressView",
            "bar_style": "danger",
            "description": "",
            "description_tooltip": null,
            "layout": "IPY_MODEL_8e35ab5474ff4bb8aa8f470daee15fad",
            "max": 100,
            "min": 0,
            "orientation": "horizontal",
            "style": "IPY_MODEL_745490861d674dca979e1a9b7e4025a7",
            "value": 16
          }
        },
        "354c6db6e9b8498e9626c2558ca40346": {
          "model_module": "@jupyter-widgets/controls",
          "model_name": "HTMLModel",
          "model_module_version": "1.5.0",
          "state": {
            "_dom_classes": [],
            "_model_module": "@jupyter-widgets/controls",
            "_model_module_version": "1.5.0",
            "_model_name": "HTMLModel",
            "_view_count": null,
            "_view_module": "@jupyter-widgets/controls",
            "_view_module_version": "1.5.0",
            "_view_name": "HTMLView",
            "description": "",
            "description_tooltip": null,
            "layout": "IPY_MODEL_08f4047df9af4f09a12a7021f8a80752",
            "placeholder": "​",
            "style": "IPY_MODEL_f459479166484046b21384befc3b8c9d",
            "value": " 16/100 [01:23&lt;06:52,  4.91s/it]"
          }
        },
        "0986c64ddf15438c8517d2872e63a602": {
          "model_module": "@jupyter-widgets/base",
          "model_name": "LayoutModel",
          "model_module_version": "1.2.0",
          "state": {
            "_model_module": "@jupyter-widgets/base",
            "_model_module_version": "1.2.0",
            "_model_name": "LayoutModel",
            "_view_count": null,
            "_view_module": "@jupyter-widgets/base",
            "_view_module_version": "1.2.0",
            "_view_name": "LayoutView",
            "align_content": null,
            "align_items": null,
            "align_self": null,
            "border": null,
            "bottom": null,
            "display": null,
            "flex": null,
            "flex_flow": null,
            "grid_area": null,
            "grid_auto_columns": null,
            "grid_auto_flow": null,
            "grid_auto_rows": null,
            "grid_column": null,
            "grid_gap": null,
            "grid_row": null,
            "grid_template_areas": null,
            "grid_template_columns": null,
            "grid_template_rows": null,
            "height": null,
            "justify_content": null,
            "justify_items": null,
            "left": null,
            "margin": null,
            "max_height": null,
            "max_width": null,
            "min_height": null,
            "min_width": null,
            "object_fit": null,
            "object_position": null,
            "order": null,
            "overflow": null,
            "overflow_x": null,
            "overflow_y": null,
            "padding": null,
            "right": null,
            "top": null,
            "visibility": null,
            "width": null
          }
        },
        "9bb355dea56048bd8acd44ac020bb85f": {
          "model_module": "@jupyter-widgets/base",
          "model_name": "LayoutModel",
          "model_module_version": "1.2.0",
          "state": {
            "_model_module": "@jupyter-widgets/base",
            "_model_module_version": "1.2.0",
            "_model_name": "LayoutModel",
            "_view_count": null,
            "_view_module": "@jupyter-widgets/base",
            "_view_module_version": "1.2.0",
            "_view_name": "LayoutView",
            "align_content": null,
            "align_items": null,
            "align_self": null,
            "border": null,
            "bottom": null,
            "display": null,
            "flex": null,
            "flex_flow": null,
            "grid_area": null,
            "grid_auto_columns": null,
            "grid_auto_flow": null,
            "grid_auto_rows": null,
            "grid_column": null,
            "grid_gap": null,
            "grid_row": null,
            "grid_template_areas": null,
            "grid_template_columns": null,
            "grid_template_rows": null,
            "height": null,
            "justify_content": null,
            "justify_items": null,
            "left": null,
            "margin": null,
            "max_height": null,
            "max_width": null,
            "min_height": null,
            "min_width": null,
            "object_fit": null,
            "object_position": null,
            "order": null,
            "overflow": null,
            "overflow_x": null,
            "overflow_y": null,
            "padding": null,
            "right": null,
            "top": null,
            "visibility": null,
            "width": null
          }
        },
        "2d1f357ceafd438e85bd5e3903967a89": {
          "model_module": "@jupyter-widgets/controls",
          "model_name": "DescriptionStyleModel",
          "model_module_version": "1.5.0",
          "state": {
            "_model_module": "@jupyter-widgets/controls",
            "_model_module_version": "1.5.0",
            "_model_name": "DescriptionStyleModel",
            "_view_count": null,
            "_view_module": "@jupyter-widgets/base",
            "_view_module_version": "1.2.0",
            "_view_name": "StyleView",
            "description_width": ""
          }
        },
        "8e35ab5474ff4bb8aa8f470daee15fad": {
          "model_module": "@jupyter-widgets/base",
          "model_name": "LayoutModel",
          "model_module_version": "1.2.0",
          "state": {
            "_model_module": "@jupyter-widgets/base",
            "_model_module_version": "1.2.0",
            "_model_name": "LayoutModel",
            "_view_count": null,
            "_view_module": "@jupyter-widgets/base",
            "_view_module_version": "1.2.0",
            "_view_name": "LayoutView",
            "align_content": null,
            "align_items": null,
            "align_self": null,
            "border": null,
            "bottom": null,
            "display": null,
            "flex": null,
            "flex_flow": null,
            "grid_area": null,
            "grid_auto_columns": null,
            "grid_auto_flow": null,
            "grid_auto_rows": null,
            "grid_column": null,
            "grid_gap": null,
            "grid_row": null,
            "grid_template_areas": null,
            "grid_template_columns": null,
            "grid_template_rows": null,
            "height": null,
            "justify_content": null,
            "justify_items": null,
            "left": null,
            "margin": null,
            "max_height": null,
            "max_width": null,
            "min_height": null,
            "min_width": null,
            "object_fit": null,
            "object_position": null,
            "order": null,
            "overflow": null,
            "overflow_x": null,
            "overflow_y": null,
            "padding": null,
            "right": null,
            "top": null,
            "visibility": null,
            "width": null
          }
        },
        "745490861d674dca979e1a9b7e4025a7": {
          "model_module": "@jupyter-widgets/controls",
          "model_name": "ProgressStyleModel",
          "model_module_version": "1.5.0",
          "state": {
            "_model_module": "@jupyter-widgets/controls",
            "_model_module_version": "1.5.0",
            "_model_name": "ProgressStyleModel",
            "_view_count": null,
            "_view_module": "@jupyter-widgets/base",
            "_view_module_version": "1.2.0",
            "_view_name": "StyleView",
            "bar_color": null,
            "description_width": ""
          }
        },
        "08f4047df9af4f09a12a7021f8a80752": {
          "model_module": "@jupyter-widgets/base",
          "model_name": "LayoutModel",
          "model_module_version": "1.2.0",
          "state": {
            "_model_module": "@jupyter-widgets/base",
            "_model_module_version": "1.2.0",
            "_model_name": "LayoutModel",
            "_view_count": null,
            "_view_module": "@jupyter-widgets/base",
            "_view_module_version": "1.2.0",
            "_view_name": "LayoutView",
            "align_content": null,
            "align_items": null,
            "align_self": null,
            "border": null,
            "bottom": null,
            "display": null,
            "flex": null,
            "flex_flow": null,
            "grid_area": null,
            "grid_auto_columns": null,
            "grid_auto_flow": null,
            "grid_auto_rows": null,
            "grid_column": null,
            "grid_gap": null,
            "grid_row": null,
            "grid_template_areas": null,
            "grid_template_columns": null,
            "grid_template_rows": null,
            "height": null,
            "justify_content": null,
            "justify_items": null,
            "left": null,
            "margin": null,
            "max_height": null,
            "max_width": null,
            "min_height": null,
            "min_width": null,
            "object_fit": null,
            "object_position": null,
            "order": null,
            "overflow": null,
            "overflow_x": null,
            "overflow_y": null,
            "padding": null,
            "right": null,
            "top": null,
            "visibility": null,
            "width": null
          }
        },
        "f459479166484046b21384befc3b8c9d": {
          "model_module": "@jupyter-widgets/controls",
          "model_name": "DescriptionStyleModel",
          "model_module_version": "1.5.0",
          "state": {
            "_model_module": "@jupyter-widgets/controls",
            "_model_module_version": "1.5.0",
            "_model_name": "DescriptionStyleModel",
            "_view_count": null,
            "_view_module": "@jupyter-widgets/base",
            "_view_module_version": "1.2.0",
            "_view_name": "StyleView",
            "description_width": ""
          }
        }
      }
    }
  },
  "nbformat_minor": 0,
  "nbformat": 4,
  "cells": [
    {
      "cell_type": "code",
      "source": [
        "!python -m pip install git+https://github.com/VissaMoutafis/opacus.git@35b88529db696444a87d166ca429232d46495658"
      ],
      "metadata": {
        "id": "D_MMqE3xfYG9",
        "outputId": "abb0a6c9-91a8-4f41-eac2-8f4e2fdc768e",
        "execution": {
          "iopub.status.busy": "2022-05-15T14:59:45.867933Z",
          "iopub.execute_input": "2022-05-15T14:59:45.868255Z",
          "iopub.status.idle": "2022-05-15T15:00:02.987745Z",
          "shell.execute_reply.started": "2022-05-15T14:59:45.868174Z",
          "shell.execute_reply": "2022-05-15T15:00:02.986827Z"
        },
        "trusted": true,
        "colab": {
          "base_uri": "https://localhost:8080/"
        }
      },
      "execution_count": 1,
      "outputs": [
        {
          "output_type": "stream",
          "name": "stdout",
          "text": [
            "Collecting git+https://github.com/VissaMoutafis/opacus.git@35b88529db696444a87d166ca429232d46495658\n",
            "  Cloning https://github.com/VissaMoutafis/opacus.git (to revision 35b88529db696444a87d166ca429232d46495658) to /tmp/pip-req-build-dbqlglkx\n",
            "  Running command git clone -q https://github.com/VissaMoutafis/opacus.git /tmp/pip-req-build-dbqlglkx\n",
            "  Running command git rev-parse -q --verify 'sha^35b88529db696444a87d166ca429232d46495658'\n",
            "  Running command git fetch -q https://github.com/VissaMoutafis/opacus.git 35b88529db696444a87d166ca429232d46495658\n",
            "Requirement already satisfied: numpy>=1.15 in /usr/local/lib/python3.7/dist-packages (from opacus==1.1.1) (1.21.6)\n",
            "Requirement already satisfied: torch>=1.8 in /usr/local/lib/python3.7/dist-packages (from opacus==1.1.1) (1.11.0+cu113)\n",
            "Requirement already satisfied: scipy>=1.2 in /usr/local/lib/python3.7/dist-packages (from opacus==1.1.1) (1.4.1)\n",
            "Requirement already satisfied: typing-extensions in /usr/local/lib/python3.7/dist-packages (from torch>=1.8->opacus==1.1.1) (4.2.0)\n"
          ]
        }
      ]
    },
    {
      "cell_type": "code",
      "source": [
        "!pip install hiplot "
      ],
      "metadata": {
        "id": "FRiPSm2iG0-1",
        "execution": {
          "iopub.status.busy": "2022-05-15T15:00:02.991335Z",
          "iopub.execute_input": "2022-05-15T15:00:02.991570Z",
          "iopub.status.idle": "2022-05-15T15:00:14.546987Z",
          "shell.execute_reply.started": "2022-05-15T15:00:02.991543Z",
          "shell.execute_reply": "2022-05-15T15:00:14.546079Z"
        },
        "trusted": true,
        "colab": {
          "base_uri": "https://localhost:8080/"
        },
        "outputId": "79f8eb6c-38e8-4323-fa13-a47a8a617fcb"
      },
      "execution_count": 2,
      "outputs": [
        {
          "output_type": "stream",
          "name": "stdout",
          "text": [
            "Requirement already satisfied: hiplot in /usr/local/lib/python3.7/dist-packages (0.1.32)\n",
            "Requirement already satisfied: ipython>=7.0.1 in /usr/local/lib/python3.7/dist-packages (from hiplot) (7.33.0)\n",
            "Requirement already satisfied: flask-compress in /usr/local/lib/python3.7/dist-packages (from hiplot) (1.12)\n",
            "Requirement already satisfied: beautifulsoup4 in /usr/local/lib/python3.7/dist-packages (from hiplot) (4.6.3)\n",
            "Requirement already satisfied: flask in /usr/local/lib/python3.7/dist-packages (from hiplot) (1.1.4)\n",
            "Requirement already satisfied: setuptools>=18.5 in /usr/local/lib/python3.7/dist-packages (from ipython>=7.0.1->hiplot) (57.4.0)\n",
            "Requirement already satisfied: traitlets>=4.2 in /usr/local/lib/python3.7/dist-packages (from ipython>=7.0.1->hiplot) (5.1.1)\n",
            "Requirement already satisfied: decorator in /usr/local/lib/python3.7/dist-packages (from ipython>=7.0.1->hiplot) (4.4.2)\n",
            "Requirement already satisfied: prompt-toolkit!=3.0.0,!=3.0.1,<3.1.0,>=2.0.0 in /usr/local/lib/python3.7/dist-packages (from ipython>=7.0.1->hiplot) (3.0.29)\n",
            "Requirement already satisfied: matplotlib-inline in /usr/local/lib/python3.7/dist-packages (from ipython>=7.0.1->hiplot) (0.1.3)\n",
            "Requirement already satisfied: pickleshare in /usr/local/lib/python3.7/dist-packages (from ipython>=7.0.1->hiplot) (0.7.5)\n",
            "Requirement already satisfied: backcall in /usr/local/lib/python3.7/dist-packages (from ipython>=7.0.1->hiplot) (0.2.0)\n",
            "Requirement already satisfied: pexpect>4.3 in /usr/local/lib/python3.7/dist-packages (from ipython>=7.0.1->hiplot) (4.8.0)\n",
            "Requirement already satisfied: pygments in /usr/local/lib/python3.7/dist-packages (from ipython>=7.0.1->hiplot) (2.6.1)\n",
            "Requirement already satisfied: jedi>=0.16 in /usr/local/lib/python3.7/dist-packages (from ipython>=7.0.1->hiplot) (0.18.1)\n",
            "Requirement already satisfied: parso<0.9.0,>=0.8.0 in /usr/local/lib/python3.7/dist-packages (from jedi>=0.16->ipython>=7.0.1->hiplot) (0.8.3)\n",
            "Requirement already satisfied: ptyprocess>=0.5 in /usr/local/lib/python3.7/dist-packages (from pexpect>4.3->ipython>=7.0.1->hiplot) (0.7.0)\n",
            "Requirement already satisfied: wcwidth in /usr/local/lib/python3.7/dist-packages (from prompt-toolkit!=3.0.0,!=3.0.1,<3.1.0,>=2.0.0->ipython>=7.0.1->hiplot) (0.2.5)\n",
            "Requirement already satisfied: Jinja2<3.0,>=2.10.1 in /usr/local/lib/python3.7/dist-packages (from flask->hiplot) (2.11.3)\n",
            "Requirement already satisfied: click<8.0,>=5.1 in /usr/local/lib/python3.7/dist-packages (from flask->hiplot) (7.1.2)\n",
            "Requirement already satisfied: Werkzeug<2.0,>=0.15 in /usr/local/lib/python3.7/dist-packages (from flask->hiplot) (1.0.1)\n",
            "Requirement already satisfied: itsdangerous<2.0,>=0.24 in /usr/local/lib/python3.7/dist-packages (from flask->hiplot) (1.1.0)\n",
            "Requirement already satisfied: MarkupSafe>=0.23 in /usr/local/lib/python3.7/dist-packages (from Jinja2<3.0,>=2.10.1->flask->hiplot) (2.0.1)\n",
            "Requirement already satisfied: brotli in /usr/local/lib/python3.7/dist-packages (from flask-compress->hiplot) (1.0.9)\n"
          ]
        }
      ]
    },
    {
      "cell_type": "code",
      "source": [
        "import numpy as np\n",
        "import pandas as pd\n",
        "import matplotlib.pyplot as plt\n",
        "\n",
        "from sklearn.model_selection import train_test_split\n",
        "from sklearn.metrics import accuracy_score\n",
        "import torch\n",
        "from torch import nn\n",
        "import torch.nn.functional as F\n",
        "import torch.optim as optim\n",
        "\n",
        "import tensorflow as tf\n",
        "from tensorflow import keras\n",
        "from tensorflow.keras import layers, models, datasets\n",
        "from tqdm.notebook import tqdm\n",
        "\n",
        "!cp ../input/mia-v2 mia_v2 -r\n",
        "from mia_v2.torch2tf import *\n",
        "from mia_v2.attack_model import *\n",
        "from mia_v2.label_only import *\n",
        "from mia_v2.shadow_models import *\n",
        "from mia_v2.utilities import *\n",
        "from mia_v2.wrappers import ConfidenceVectorAttack, LabelOnlyAttack\n",
        "\n",
        "from opacus import PrivacyEngine\n",
        "\n",
        "from math import log, inf\n",
        "\n",
        "device = torch.device(\"cuda:0\" if torch.cuda.is_available() else \"cpu\")\n",
        "print(device)\n",
        "\n",
        "import warnings\n",
        "warnings.simplefilter(\"ignore\")"
      ],
      "metadata": {
        "_uuid": "8f2839f25d086af736a60e9eeb907d3b93b6e0e5",
        "_cell_guid": "b1076dfc-b9ad-4769-8c92-a6c4dae69d19",
        "id": "hw4J5xfDfYHC",
        "outputId": "16e15971-98a7-40aa-b235-8a9539368132",
        "execution": {
          "iopub.status.busy": "2022-05-15T15:00:30.028850Z",
          "iopub.execute_input": "2022-05-15T15:00:30.029111Z",
          "iopub.status.idle": "2022-05-15T15:00:37.158085Z",
          "shell.execute_reply.started": "2022-05-15T15:00:30.029083Z",
          "shell.execute_reply": "2022-05-15T15:00:37.157120Z"
        },
        "trusted": true,
        "colab": {
          "base_uri": "https://localhost:8080/"
        }
      },
      "execution_count": 3,
      "outputs": [
        {
          "output_type": "stream",
          "name": "stdout",
          "text": [
            "cp: cannot stat '../input/mia-v2': No such file or directory\n",
            "cuda:0\n"
          ]
        }
      ]
    },
    {
      "cell_type": "code",
      "source": [
        "ATTACKER_DATASET_SIZES = [10000, 20000]\n",
        "SHADOW_MODELS = [1, 10, 20]\n",
        "SHADOW_DATASET_SIZE = 7500\n",
        "TARGET_DATASET_SIZES = [5000, 7500, 10000]\n",
        "EPSILON_PER_STEP = [log(20), log(15), log(10), log(5)]\n",
        "MAX_GRAD_NORMS = [1, 1.2, 2, 5.3, 8.5]\n",
        "EPOCHS = 100\n",
        "SAMPLE_TRAINS = 10\n",
        "TEST_SET_SIZE = 0.3\n",
        "\n",
        "prec = []\n",
        "rec = []\n",
        "auc = []\n",
        "model_vuln = [] # model vulnerability metric\n",
        "model_acc = [] # accuracy gap between undefended and defended model "
      ],
      "metadata": {
        "id": "3Ljdcrb2kb_l",
        "execution": {
          "iopub.status.busy": "2022-05-15T15:00:37.160219Z",
          "iopub.execute_input": "2022-05-15T15:00:37.160442Z",
          "iopub.status.idle": "2022-05-15T15:00:37.171507Z",
          "shell.execute_reply.started": "2022-05-15T15:00:37.160407Z",
          "shell.execute_reply": "2022-05-15T15:00:37.170106Z"
        },
        "trusted": true
      },
      "execution_count": 4,
      "outputs": []
    },
    {
      "cell_type": "code",
      "source": [
        "class TargetModel(nn.Module):\n",
        "    def __init__(self):\n",
        "      super().__init__()\n",
        "      self.conv1 = nn.Conv2d(3, 32, 3)\n",
        "      self.pool = nn.MaxPool2d(2, 2)\n",
        "      self.conv2 = nn.Conv2d(32, 64, 3)\n",
        "      self.fc1 = nn.Linear(2304, 256)\n",
        "      self.fc2 = nn.Linear(256, 10)\n",
        "      self.double()\n",
        "      self.to(device)\n",
        "\n",
        "\n",
        "    def forward(self, x):\n",
        "      x = self.pool(F.relu(self.conv1(x)))\n",
        "      x = self.pool(F.relu(self.conv2(x)))\n",
        "      x = torch.flatten(x, 1) # flatten all dimensions except batch\n",
        "      x = F.relu(self.fc1(x))\n",
        "      x = self.fc2(x)\n",
        "      return x"
      ],
      "metadata": {
        "id": "eziJ3TA1fYHP",
        "execution": {
          "iopub.status.busy": "2022-05-15T15:04:44.693626Z",
          "iopub.execute_input": "2022-05-15T15:04:44.693896Z",
          "iopub.status.idle": "2022-05-15T15:04:44.700378Z",
          "shell.execute_reply.started": "2022-05-15T15:04:44.693866Z",
          "shell.execute_reply": "2022-05-15T15:04:44.699729Z"
        },
        "trusted": true
      },
      "execution_count": 5,
      "outputs": []
    },
    {
      "cell_type": "code",
      "source": [
        "def f_shadow():\n",
        "  return TfIgniter((3, 32, 32), (32, 32, 3), TargetModel(), device)"
      ],
      "metadata": {
        "id": "8eAAfj9HwUmC",
        "execution": {
          "iopub.status.busy": "2022-05-15T15:04:44.701897Z",
          "iopub.execute_input": "2022-05-15T15:04:44.702551Z",
          "iopub.status.idle": "2022-05-15T15:04:44.716253Z",
          "shell.execute_reply.started": "2022-05-15T15:04:44.702513Z",
          "shell.execute_reply": "2022-05-15T15:04:44.715633Z"
        },
        "trusted": true
      },
      "execution_count": 6,
      "outputs": []
    },
    {
      "cell_type": "code",
      "source": [
        "def create_target_model(train_images, train_labels, test_images, test_labels, epochs, privacy=None):\n",
        "    target_model = TargetModel()\n",
        "    criterion = nn.CrossEntropyLoss\n",
        "    optimizer = {'builder':optim.Adam, 'args':{'lr':0.001}}\n",
        "    igniter = TfIgniter((3, 32, 32), (32, 32, 3), target_model, device)\n",
        "    if privacy is not None:\n",
        "      igniter.fit(train_images, \n",
        "                  train_labels, \n",
        "                  validation_data=(test_images, test_labels), \n",
        "                  verbose=True, \n",
        "                  privacy=privacy, \n",
        "                  epochs=epochs, \n",
        "                  batch_size =32, \n",
        "                  es=CustomEarlyStopping(patience=10, min_delta=2e-5), optimizer=optimizer, criterion=criterion)\n",
        "    else:\n",
        "      igniter.fit(train_images, \n",
        "                  train_labels, \n",
        "                  validation_data=(test_images, test_labels), \n",
        "                  verbose=True, \n",
        "                  epochs=epochs, \n",
        "                  batch_size =32, \n",
        "                  es=CustomEarlyStopping(patience=10, min_delta=2e-5), optimizer=optimizer, criterion=criterion)\n",
        "    return igniter"
      ],
      "metadata": {
        "execution": {
          "iopub.status.busy": "2022-05-15T15:00:37.173060Z",
          "iopub.execute_input": "2022-05-15T15:00:37.173640Z",
          "iopub.status.idle": "2022-05-15T15:00:37.188649Z",
          "shell.execute_reply.started": "2022-05-15T15:00:37.173602Z",
          "shell.execute_reply": "2022-05-15T15:00:37.187903Z"
        },
        "trusted": true,
        "id": "24mSil4MQcsK"
      },
      "execution_count": 12,
      "outputs": []
    },
    {
      "cell_type": "code",
      "source": [
        "def perform_attack(attack, target_model, train_images, train_labels, test_images, test_labels, configs):\n",
        "    attack.target_model = target_model\n",
        "    attack.target_dataset = (train_images, train_labels)\n",
        "    score_ = attack.evaluate_attack()\n",
        "    auc.append({**configs, 'AUC Score' : score_[1]\n",
        "      })\n",
        "    rec.append({**configs, 'Recall' : score_[0]['macro avg']['recall']\n",
        "      })\n",
        "    prec.append({**configs, 'Precision' : score_[0]['macro avg']['precision']\n",
        "      })\n",
        "    model_vuln.append({**configs, 'Model Vulnerability' : evaluate_model_vulnerability(target_model, (train_images, train_labels), (test_images, test_images), 'tf', batch_size=256)\n",
        "      })\n",
        "    \n",
        "    y_pred = np.argmax(target_model.predict(test_images), axis=1)\n",
        "    acc = accuracy_score(test_labels, y_pred)\n",
        "    model_acc.append({**config, 'Classification Accuracy': acc})    \n",
        "    "
      ],
      "metadata": {
        "execution": {
          "iopub.status.busy": "2022-05-15T15:04:41.991109Z",
          "iopub.execute_input": "2022-05-15T15:04:41.991370Z",
          "iopub.status.idle": "2022-05-15T15:04:41.998891Z",
          "shell.execute_reply.started": "2022-05-15T15:04:41.991341Z",
          "shell.execute_reply": "2022-05-15T15:04:41.998203Z"
        },
        "trusted": true,
        "id": "5eFxlrP0QcsN"
      },
      "execution_count": 18,
      "outputs": []
    },
    {
      "cell_type": "code",
      "source": [
        "def dp_study(images, labels): \n",
        "    config = {}\n",
        "    for d_attacker_size in ATTACKER_DATASET_SIZES:\n",
        "        config['D_attacker'] = d_attacker_size\n",
        "        attacker_images, attacker_labels = images[:d_attacker_size], labels[:d_attacker_size]\n",
        "        for n_shadow_models in SHADOW_MODELS:\n",
        "            config['N_Shadows'] = n_shadow_models\n",
        "            attacker_dataset = (attacker_images.reshape(-1, 32, 32, 3), attacker_labels)\n",
        "            attack = ConfidenceVectorAttack(None, attacker_dataset, attacker_dataset, \n",
        "                                            shadow_creator=f_shadow, \n",
        "                                            attack_model_creator=cifar_10_f_attack_builder,\n",
        "                                            n_shadows=n_shadow_models, \n",
        "                                            D_shadow_size=SHADOW_DATASET_SIZE, \n",
        "                                            verbose=False)\n",
        "            es = CustomEarlyStopping(patience=15, min_delta=2e-5)\n",
        "            criterion = nn.CrossEntropyLoss\n",
        "            optimizer = {'builder':optim.Adam, 'args':{'lr':0.003}}\n",
        "            attack.perform_attack(shadow={'epochs':100, 'batch_size':32, 'es':es, 'optimizer':optimizer, 'criterion':criterion})\n",
        "            \n",
        "            for d_target_size in TARGET_DATASET_SIZES:\n",
        "                config['D_target'] = d_target_size\n",
        "                config['eps'] = None\n",
        "                config['max_grad_norm'] = None\n",
        "                # add the test set in the total dataset size\n",
        "                d_size = int(d_target_size//(TEST_SET_SIZE)+1)\n",
        "                assert d_size+d_attacker_size <= len(images) # sanity check \n",
        "                # make sure that attacker and target dataset are disjoint\n",
        "                train_images, train_labels = images[d_attacker_size:d_attacker_size+d_size], labels[d_attacker_size:d_attacker_size+d_size]\n",
        "                \n",
        "                # TRAIN & ATTACK UNDEFENDED MODEL\n",
        "                train_images, test_images, train_labels, test_labels = train_test_split(train_images, train_labels, test_size=TEST_SET_SIZE, shuffle=True, random_state=0)\n",
        "                target_model = create_target_model(train_images, train_labels, test_images, test_labels, EPOCHS)\n",
        "                \n",
        "                perform_attack(attack, target_model, train_images, train_labels, attacker_images, attacker_labels, config)\n",
        "                # TRAIN & ATTACK DEFENDED MODELS\n",
        "                for eps in EPSILON_PER_STEP:\n",
        "                    config['eps'] = eps\n",
        "                    for max_grad_norm in MAX_GRAD_NORMS:\n",
        "                        config['max_grad_norm'] = max_grad_norm\n",
        "                        # set up privacy details\n",
        "                        total_epsilon = EPOCHS*eps\n",
        "                        delta = 1/d_target_size\n",
        "                        privacy = {\n",
        "                            'engine':PrivacyEngine(),\n",
        "                            'args':{\n",
        "                                'epochs': EPOCHS,\n",
        "                                'target_epsilon':total_epsilon,\n",
        "                                'target_delta': delta,\n",
        "                                'max_grad_norm':max_grad_norm\n",
        "                            }\n",
        "                        }\n",
        "                        for sample_train_id in range(SAMPLE_TRAINS):\n",
        "                            target_model = create_target_model(train_images, train_labels, EPOCHS, privacy)\n",
        "                            perform_attack(attack, target_model, train_images, train_labels, attacker_images, attacker_labels, config)\n",
        "                            \n"
      ],
      "metadata": {
        "execution": {
          "iopub.status.busy": "2022-05-15T15:04:42.187621Z",
          "iopub.execute_input": "2022-05-15T15:04:42.187936Z",
          "iopub.status.idle": "2022-05-15T15:04:42.201006Z",
          "shell.execute_reply.started": "2022-05-15T15:04:42.187906Z",
          "shell.execute_reply": "2022-05-15T15:04:42.200345Z"
        },
        "trusted": true,
        "id": "vKDOaVdfQcsS"
      },
      "execution_count": 17,
      "outputs": []
    },
    {
      "cell_type": "code",
      "source": [
        "(train_images, train_labels), (test_images, test_labels) = datasets.cifar10.load_data()\n",
        "images = np.concatenate((train_images, test_images))\n",
        "labels = np.concatenate((train_labels, test_labels)).reshape(-1).astype(np.int64)\n",
        "images = (images / 255).reshape((-1, 3, 32, 32))"
      ],
      "metadata": {
        "id": "8TsefpUKfYHH",
        "execution": {
          "iopub.status.busy": "2022-05-15T15:04:42.726070Z",
          "iopub.execute_input": "2022-05-15T15:04:42.726719Z",
          "iopub.status.idle": "2022-05-15T15:04:44.691915Z",
          "shell.execute_reply.started": "2022-05-15T15:04:42.726677Z",
          "shell.execute_reply": "2022-05-15T15:04:44.691110Z"
        },
        "trusted": true
      },
      "execution_count": 15,
      "outputs": []
    },
    {
      "cell_type": "code",
      "source": [
        "dp_study(images, labels)"
      ],
      "metadata": {
        "id": "FgtL0p3sfYHS",
        "execution": {
          "iopub.status.busy": "2022-05-15T15:04:44.718227Z",
          "iopub.execute_input": "2022-05-15T15:04:44.718703Z",
          "iopub.status.idle": "2022-05-15T15:04:55.378011Z",
          "shell.execute_reply.started": "2022-05-15T15:04:44.718667Z",
          "shell.execute_reply": "2022-05-15T15:04:55.376913Z"
        },
        "trusted": true,
        "colab": {
          "base_uri": "https://localhost:8080/",
          "height": 1000,
          "referenced_widgets": [
            "6fea14df3868403f8654ab020e99cb7b",
            "2e721b35447d43238ff87b2eb9c457c8",
            "ec1bd4f64bf84cd6ac21ea905fdbd795",
            "c66e7786083f4db8a81f4f50d721e694",
            "cd05ed9a73c3457f8454772ca5f0c1fe",
            "dbbc1465c872403d85f9a53273fe0e79",
            "d5ae331e564c47a3b6385dea288546f2",
            "1dc88bf05607480db6591ccc727ddcdb",
            "a1f331d6de284a839150c413dd95a842",
            "34d02f059cf94596a463f2dc24f650a0",
            "71ef372ea6cf4cb5b588d41ac274c3cd",
            "44bdc06477b043068c0a6025e20842d5",
            "34a4c9b5fedd4b7785a33e26f7221adb",
            "a21a786047994b038cbc5727b1faed57",
            "354c6db6e9b8498e9626c2558ca40346",
            "0986c64ddf15438c8517d2872e63a602",
            "9bb355dea56048bd8acd44ac020bb85f",
            "2d1f357ceafd438e85bd5e3903967a89",
            "8e35ab5474ff4bb8aa8f470daee15fad",
            "745490861d674dca979e1a9b7e4025a7",
            "08f4047df9af4f09a12a7021f8a80752",
            "f459479166484046b21384befc3b8c9d"
          ]
        },
        "outputId": "90f90f1d-023e-4a9b-c1c4-18f40eb00115"
      },
      "execution_count": 19,
      "outputs": [
        {
          "output_type": "display_data",
          "data": {
            "text/plain": [
              "  0%|          | 0/100 [00:00<?, ?it/s]"
            ],
            "application/vnd.jupyter.widget-view+json": {
              "version_major": 2,
              "version_minor": 0,
              "model_id": "6fea14df3868403f8654ab020e99cb7b"
            }
          },
          "metadata": {}
        },
        {
          "output_type": "stream",
          "name": "stdout",
          "text": [
            "Preparing shadow batch of size 4950\n",
            "Done!\n"
          ]
        },
        {
          "output_type": "display_data",
          "data": {
            "text/plain": [
              "  0%|          | 0/100 [00:00<?, ?it/s]"
            ],
            "application/vnd.jupyter.widget-view+json": {
              "version_major": 2,
              "version_minor": 0,
              "model_id": "44bdc06477b043068c0a6025e20842d5"
            }
          },
          "metadata": {}
        },
        {
          "output_type": "stream",
          "name": "stdout",
          "text": [
            "class-1 acc: 0.6488625407218933\n",
            "class-2 acc: 0.6934598088264465\n",
            "class-3 acc: 0.7043090462684631\n",
            "class-4 acc: 0.5628091096878052\n",
            "class-5 acc: 0.6336734890937805\n",
            "class-6 acc: 0.363209992647171\n",
            "class-7 acc: 0.6086528897285461\n",
            "class-8 acc: 0.6292585134506226\n",
            "class-9 acc: 0.6555282473564148\n",
            "class-10 acc: 0.5723618268966675\n",
            "              precision    recall  f1-score   support\n",
            "\n",
            "         Out       0.62      0.57      0.59     10000\n",
            "          In       0.60      0.64      0.62     10000\n",
            "\n",
            "    accuracy                           0.61     20000\n",
            "   macro avg       0.61      0.61      0.61     20000\n",
            "weighted avg       0.61      0.61      0.61     20000\n",
            "\n",
            "AUC: 0.6560535000000001\n"
          ]
        },
        {
          "output_type": "error",
          "ename": "AttributeError",
          "evalue": "ignored",
          "traceback": [
            "\u001b[0;31m---------------------------------------------------------------------------\u001b[0m",
            "\u001b[0;31mAttributeError\u001b[0m                            Traceback (most recent call last)",
            "\u001b[0;32m<ipython-input-19-0008d19aa9e8>\u001b[0m in \u001b[0;36m<module>\u001b[0;34m\u001b[0m\n\u001b[0;32m----> 1\u001b[0;31m \u001b[0mdp_study\u001b[0m\u001b[0;34m(\u001b[0m\u001b[0mimages\u001b[0m\u001b[0;34m,\u001b[0m \u001b[0mlabels\u001b[0m\u001b[0;34m)\u001b[0m\u001b[0;34m\u001b[0m\u001b[0;34m\u001b[0m\u001b[0m\n\u001b[0m",
            "\u001b[0;32m<ipython-input-17-3a6c161f1b21>\u001b[0m in \u001b[0;36mdp_study\u001b[0;34m(images, labels)\u001b[0m\n\u001b[1;32m     32\u001b[0m                 \u001b[0mtarget_model\u001b[0m \u001b[0;34m=\u001b[0m \u001b[0mcreate_target_model\u001b[0m\u001b[0;34m(\u001b[0m\u001b[0mtrain_images\u001b[0m\u001b[0;34m,\u001b[0m \u001b[0mtrain_labels\u001b[0m\u001b[0;34m,\u001b[0m \u001b[0mtest_images\u001b[0m\u001b[0;34m,\u001b[0m \u001b[0mtest_labels\u001b[0m\u001b[0;34m,\u001b[0m \u001b[0mEPOCHS\u001b[0m\u001b[0;34m)\u001b[0m\u001b[0;34m\u001b[0m\u001b[0;34m\u001b[0m\u001b[0m\n\u001b[1;32m     33\u001b[0m \u001b[0;34m\u001b[0m\u001b[0m\n\u001b[0;32m---> 34\u001b[0;31m                 \u001b[0mperform_attack\u001b[0m\u001b[0;34m(\u001b[0m\u001b[0mattack\u001b[0m\u001b[0;34m,\u001b[0m \u001b[0mtarget_model\u001b[0m\u001b[0;34m,\u001b[0m \u001b[0mtrain_images\u001b[0m\u001b[0;34m,\u001b[0m \u001b[0mtrain_labels\u001b[0m\u001b[0;34m,\u001b[0m \u001b[0mattacker_images\u001b[0m\u001b[0;34m,\u001b[0m \u001b[0mattacker_labels\u001b[0m\u001b[0;34m,\u001b[0m \u001b[0mconfig\u001b[0m\u001b[0;34m)\u001b[0m\u001b[0;34m\u001b[0m\u001b[0;34m\u001b[0m\u001b[0m\n\u001b[0m\u001b[1;32m     35\u001b[0m                 \u001b[0;31m# TRAIN & ATTACK DEFENDED MODELS\u001b[0m\u001b[0;34m\u001b[0m\u001b[0;34m\u001b[0m\u001b[0;34m\u001b[0m\u001b[0m\n\u001b[1;32m     36\u001b[0m                 \u001b[0;32mfor\u001b[0m \u001b[0meps\u001b[0m \u001b[0;32min\u001b[0m \u001b[0mEPSILON_PER_STEP\u001b[0m\u001b[0;34m:\u001b[0m\u001b[0;34m\u001b[0m\u001b[0;34m\u001b[0m\u001b[0m\n",
            "\u001b[0;32m<ipython-input-18-f412c4bd35d7>\u001b[0m in \u001b[0;36mperform_attack\u001b[0;34m(attack, target_model, train_images, train_labels, test_images, test_labels, configs)\u001b[0m\n\u001b[1;32m      9\u001b[0m     prec.append({**configs, 'Precision' : score_[0]['macro avg']['precision']\n\u001b[1;32m     10\u001b[0m       })\n\u001b[0;32m---> 11\u001b[0;31m     model_vuln.append({**configs, 'Model Vulnerability' : evaluate_model_vulnerability(target_model, (train_images, train_labels), (test_images, test_images), 'tf', batch_size=256)\n\u001b[0m\u001b[1;32m     12\u001b[0m       })\n\u001b[1;32m     13\u001b[0m \u001b[0;34m\u001b[0m\u001b[0m\n",
            "\u001b[0;32m/content/mia_v2/utilities.py\u001b[0m in \u001b[0;36mevaluate_model_vulnerability\u001b[0;34m(model, D_target, D_attacker, model_type, **evaluate_args)\u001b[0m\n\u001b[1;32m    137\u001b[0m     \u001b[0;32mif\u001b[0m \u001b[0mmodel_type\u001b[0m \u001b[0;34m==\u001b[0m \u001b[0;34m'tf'\u001b[0m\u001b[0;34m:\u001b[0m\u001b[0;34m\u001b[0m\u001b[0;34m\u001b[0m\u001b[0m\n\u001b[1;32m    138\u001b[0m         \u001b[0;31m# get the models loss and accuracy on target and attacker data\u001b[0m\u001b[0;34m\u001b[0m\u001b[0;34m\u001b[0m\u001b[0;34m\u001b[0m\u001b[0m\n\u001b[0;32m--> 139\u001b[0;31m         \u001b[0mloss_target\u001b[0m\u001b[0;34m,\u001b[0m \u001b[0macc_target\u001b[0m \u001b[0;34m=\u001b[0m \u001b[0mmodel\u001b[0m\u001b[0;34m.\u001b[0m\u001b[0mevaluate\u001b[0m\u001b[0;34m(\u001b[0m\u001b[0mD_target\u001b[0m\u001b[0;34m[\u001b[0m\u001b[0;36m0\u001b[0m\u001b[0;34m]\u001b[0m\u001b[0;34m,\u001b[0m \u001b[0mD_target\u001b[0m\u001b[0;34m[\u001b[0m\u001b[0;36m1\u001b[0m\u001b[0;34m]\u001b[0m\u001b[0;34m,\u001b[0m \u001b[0;34m**\u001b[0m\u001b[0mevaluate_args\u001b[0m\u001b[0;34m)\u001b[0m\u001b[0;34m\u001b[0m\u001b[0;34m\u001b[0m\u001b[0m\n\u001b[0m\u001b[1;32m    140\u001b[0m         \u001b[0mloss_attacker\u001b[0m\u001b[0;34m,\u001b[0m \u001b[0macc_attacker\u001b[0m \u001b[0;34m=\u001b[0m \u001b[0mmodel\u001b[0m\u001b[0;34m.\u001b[0m\u001b[0mevaluate\u001b[0m\u001b[0;34m(\u001b[0m\u001b[0mD_attacker\u001b[0m\u001b[0;34m[\u001b[0m\u001b[0;36m0\u001b[0m\u001b[0;34m]\u001b[0m\u001b[0;34m,\u001b[0m \u001b[0mD_attacker\u001b[0m\u001b[0;34m[\u001b[0m\u001b[0;36m1\u001b[0m\u001b[0;34m]\u001b[0m\u001b[0;34m,\u001b[0m \u001b[0;34m**\u001b[0m\u001b[0mevaluate_args\u001b[0m\u001b[0;34m)\u001b[0m\u001b[0;34m\u001b[0m\u001b[0;34m\u001b[0m\u001b[0m\n\u001b[1;32m    141\u001b[0m     \u001b[0;32melif\u001b[0m \u001b[0mmodel_type\u001b[0m \u001b[0;34m==\u001b[0m \u001b[0;34m'sklearn'\u001b[0m\u001b[0;34m:\u001b[0m\u001b[0;34m\u001b[0m\u001b[0;34m\u001b[0m\u001b[0m\n",
            "\u001b[0;31mAttributeError\u001b[0m: 'TfIgniter' object has no attribute 'evaluate'"
          ]
        },
        {
          "output_type": "display_data",
          "data": {
            "text/plain": [
              "<Figure size 432x288 with 1 Axes>"
            ],
            "image/png": "[encoded data removed]"
          },
          "metadata": {
            "needs_background": "light"
          }
        }
      ]
    },
    {
      "cell_type": "code",
      "source": [
        ""
      ],
      "metadata": {
        "id": "bfAnyy0gR9qC"
      },
      "execution_count": null,
      "outputs": []
    },
    {
      "cell_type": "code",
      "source": [
        ""
      ],
      "metadata": {
        "execution": {
          "iopub.status.busy": "2022-04-26T19:12:31.729309Z",
          "iopub.execute_input": "2022-04-26T19:12:31.729558Z",
          "iopub.status.idle": "2022-04-26T19:15:53.141017Z",
          "shell.execute_reply.started": "2022-04-26T19:12:31.729529Z",
          "shell.execute_reply": "2022-04-26T19:15:53.139825Z"
        },
        "id": "hyNRXlI0fYHU",
        "trusted": true
      },
      "execution_count": null,
      "outputs": []
    },
    {
      "cell_type": "code",
      "source": [
        ""
      ],
      "metadata": {
        "id": "Cf3kITr1X9ng"
      },
      "execution_count": null,
      "outputs": []
    },
    {
      "cell_type": "code",
      "source": [
        ""
      ],
      "metadata": {
        "id": "ssokRl278A1X"
      },
      "execution_count": null,
      "outputs": []
    },
    {
      "cell_type": "code",
      "source": [
        "attack.target_model = igniter\n",
        "_score = attack.evaluate_attack()"
      ],
      "metadata": {
        "id": "VmFwYEXIFHwB"
      },
      "execution_count": null,
      "outputs": []
    },
    {
      "cell_type": "code",
      "source": [
        ""
      ],
      "metadata": {
        "id": "9mMsZ9E1VFNY"
      },
      "execution_count": null,
      "outputs": []
    },
    {
      "cell_type": "code",
      "source": [
        ""
      ],
      "metadata": {
        "id": "AHNZJ95WZUKT"
      },
      "execution_count": null,
      "outputs": []
    }
  ]
}