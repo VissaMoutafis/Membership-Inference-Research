{
  "cells": [
    {
      "cell_type": "markdown",
      "metadata": {
        "id": "2vzAuc5Xo3j2"
      },
      "source": [
        "# Label Only Membership Inference (Revisited on points)\n",
        "\n",
        "### Threat Model:\n",
        "\n",
        "- **Black Box** access to an overfitted classifier with no access to actual $D_{train}$\n",
        "- Predict API returns **only labels instead of confidence vectors**\n",
        "- We have some insight on the training data distribution, $D_{out}$ , **but** $D_{train} \\cap D_{out} = \\varnothing$\n",
        "\n",
        "\n",
        "### Attack Target: \n",
        "- Use a shadow model to attack local shadow models and extract membership leakage features\n",
        "- Use data perturbations in order to exploit test/training data approximation relevancies to the classification boundaries.\n",
        "- Perfom the boundary-based attack on the actual model\n",
        "\n",
        "### Evaluation Target\n",
        "- Score over $50\\%$ accuracy\n",
        "- Train attack model based on this assumption and compare with conf-vector attack\n",
        "\n",
        "Implemented based on [this paper](https://arxiv.org/abs/2007.14321)."
      ]
    },
    {
      "cell_type": "code",
      "execution_count": null,
      "metadata": {
        "colab": {
          "base_uri": "https://localhost:8080/"
        },
        "id": "tg_WQJ7j5n3B",
        "outputId": "3dfc3a9e-0590-4a68-dad5-42cb42eb2636"
      },
      "outputs": [
        {
          "name": "stdout",
          "output_type": "stream",
          "text": [
            "Num GPUs Available:  1\n"
          ]
        }
      ],
      "source": [
        "import numpy as np\n",
        "import matplotlib.pyplot as plt\n",
        "\n",
        "import math\n",
        "import tensorflow as tf\n",
        "from tensorflow.keras import datasets, layers, models\n",
        "from sklearn.model_selection import train_test_split\n",
        "from tensorflow import keras\n",
        "from tensorflow.keras import regularizers\n",
        "\n",
        "# for image interpolation\n",
        "import scipy.ndimage.interpolation as interpolation\n",
        "\n",
        "from sklearn.metrics import roc_auc_score, roc_curve\n",
        "from sklearn.metrics import classification_report\n",
        "\n",
        "from mia_v1.attack_model import *\n",
        "from mia_v1.label_only import *\n",
        "from mia_v1.shadow_models import *\n",
        "from mia_v1.utilities import *\n",
        "\n",
        "\n",
        "from tqdm import tqdm\n",
        "import sys\n",
        "print(\"Num GPUs Available: \", len(tf.config.list_physical_devices('GPU')))\n"
      ]
    },
    {
      "cell_type": "markdown",
      "metadata": {
        "id": "5Kv7Qon0qRTk"
      },
      "source": [
        "## Target Model\n"
      ]
    },
    {
      "cell_type": "code",
      "execution_count": null,
      "metadata": {
        "id": "zacp4ArauIET"
      },
      "outputs": [],
      "source": [
        "D_TARGET_SIZE = 5000"
      ]
    },
    {
      "cell_type": "code",
      "execution_count": null,
      "metadata": {
        "id": "1qg7LkXX0zOF"
      },
      "outputs": [],
      "source": [
        "def f_target(X_train, y_train, X_test=None, y_test=None, epochs=100):\n",
        "  \"\"\"\n",
        "  Returns a trained target model, if test data are specified we will evaluate the model and print its accuracy\n",
        "  \"\"\"\n",
        "  model = models.Sequential()\n",
        "  model.add(layers.Conv2D(32, (3, 3), activation='relu', input_shape=X_train.shape[1:]))\n",
        "  model.add(layers.MaxPooling2D((2, 2)))\n",
        "  model.add(layers.Conv2D(64, (3, 3), activation='relu'))\n",
        "  model.add(layers.Conv2D(64, (3, 3), activation='relu'))\n",
        "  model.add(layers.MaxPooling2D((2, 2)))\n",
        "  model.add(layers.Conv2D(128, (3, 3), activation='relu'))\n",
        "\n",
        "  model.add(layers.Flatten())\n",
        "  model.add(layers.Dense(128, activation='relu'))\n",
        "  model.add(layers.Dense(256, activation='relu'))\n",
        "  model.add(layers.Dense(512, activation='relu'))\n",
        "\n",
        "  model.add(layers.Dense(10))\n",
        "  \n",
        "  optimizer = keras.optimizers.Adam(learning_rate=0.001)\n",
        "  model.compile(optimizer=optimizer,\n",
        "              loss=tf.keras.losses.SparseCategoricalCrossentropy(from_logits=True),\n",
        "              metrics=['accuracy'])\n",
        "  if X_test is None or y_test is None:\n",
        "    history = model.fit(X_train, y_train, epochs=epochs, \n",
        "                    validation_split=0.2)\n",
        "  else:\n",
        "    history = model.fit(X_train, y_train, epochs=epochs, \n",
        "                    validation_data=(X_test, y_test))\n",
        "  return model"
      ]
    },
    {
      "cell_type": "code",
      "execution_count": null,
      "metadata": {
        "colab": {
          "base_uri": "https://localhost:8080/"
        },
        "id": "oy2NLipP75sX",
        "outputId": "ebd06c33-64d8-4060-92f0-be82fecdde5a"
      },
      "outputs": [
        {
          "name": "stdout",
          "output_type": "stream",
          "text": [
            "Downloading data from https://www.cs.toronto.edu/~kriz/cifar-10-python.tar.gz\n",
            "170500096/170498071 [==============================] - 11s 0us/step\n",
            "170508288/170498071 [==============================] - 11s 0us/step\n"
          ]
        }
      ],
      "source": [
        "(train_images, train_labels), (test_images, test_labels) = datasets.cifar10.load_data()\n",
        "#shuffle the datasets\n",
        "sample_i = np.random.choice(range(train_images.shape[0]), train_images.shape[0], replace=False)\n",
        "train_images = train_images[sample_i]\n",
        "train_labels = train_labels[sample_i]\n",
        "sample_i = np.random.choice(range(test_images.shape[0]), test_images.shape[0], replace=False)\n",
        "test_images = test_images[sample_i]\n",
        "test_labels = test_labels[sample_i] \n",
        "\n",
        "# use the rest as testing - 'out' records\n",
        "attacker_labels = np.concatenate((train_labels[D_TARGET_SIZE:], test_labels))\n",
        "attacker_images = np.concatenate((train_images[D_TARGET_SIZE:], test_images))\n",
        "target_images = train_images[:D_TARGET_SIZE]\n",
        "target_labels = train_labels[:D_TARGET_SIZE]"
      ]
    },
    {
      "cell_type": "code",
      "execution_count": null,
      "metadata": {
        "colab": {
          "base_uri": "https://localhost:8080/"
        },
        "id": "Ap02yKRT76RJ",
        "outputId": "dd1e57e7-174f-4d22-db06-b4d8f5cf54de"
      },
      "outputs": [
        {
          "name": "stdout",
          "output_type": "stream",
          "text": [
            "Epoch 1/25\n",
            "125/125 [==============================] - 3s 13ms/step - loss: 2.4335 - accuracy: 0.1800 - val_loss: 1.9295 - val_accuracy: 0.2840\n",
            "Epoch 2/25\n",
            "125/125 [==============================] - 1s 11ms/step - loss: 1.8829 - accuracy: 0.3142 - val_loss: 2.3912 - val_accuracy: 0.1900\n",
            "Epoch 3/25\n",
            "125/125 [==============================] - 1s 11ms/step - loss: 1.8078 - accuracy: 0.3228 - val_loss: 1.7220 - val_accuracy: 0.3620\n",
            "Epoch 4/25\n",
            "125/125 [==============================] - 1s 11ms/step - loss: 1.6355 - accuracy: 0.3935 - val_loss: 1.7445 - val_accuracy: 0.3780\n",
            "Epoch 5/25\n",
            "125/125 [==============================] - 1s 12ms/step - loss: 1.5424 - accuracy: 0.4345 - val_loss: 1.6306 - val_accuracy: 0.3880\n",
            "Epoch 6/25\n",
            "125/125 [==============================] - 1s 12ms/step - loss: 1.4416 - accuracy: 0.4660 - val_loss: 1.6614 - val_accuracy: 0.3740\n",
            "Epoch 7/25\n",
            "125/125 [==============================] - 2s 12ms/step - loss: 1.3042 - accuracy: 0.5160 - val_loss: 1.7449 - val_accuracy: 0.3650\n",
            "Epoch 8/25\n",
            "125/125 [==============================] - 2s 12ms/step - loss: 1.1501 - accuracy: 0.5765 - val_loss: 1.6543 - val_accuracy: 0.4250\n",
            "Epoch 9/25\n",
            "125/125 [==============================] - 2s 12ms/step - loss: 1.0085 - accuracy: 0.6332 - val_loss: 1.9584 - val_accuracy: 0.3730\n",
            "Epoch 10/25\n",
            "125/125 [==============================] - 2s 12ms/step - loss: 0.8780 - accuracy: 0.6787 - val_loss: 1.9440 - val_accuracy: 0.4290\n",
            "Epoch 11/25\n",
            "125/125 [==============================] - 2s 13ms/step - loss: 0.7255 - accuracy: 0.7445 - val_loss: 2.1508 - val_accuracy: 0.4430\n",
            "Epoch 12/25\n",
            "125/125 [==============================] - 2s 12ms/step - loss: 0.6233 - accuracy: 0.7793 - val_loss: 2.1634 - val_accuracy: 0.4170\n",
            "Epoch 13/25\n",
            "125/125 [==============================] - 2s 12ms/step - loss: 0.5232 - accuracy: 0.8148 - val_loss: 2.4997 - val_accuracy: 0.3930\n",
            "Epoch 14/25\n",
            "125/125 [==============================] - 2s 13ms/step - loss: 0.4741 - accuracy: 0.8345 - val_loss: 2.3332 - val_accuracy: 0.4270\n",
            "Epoch 15/25\n",
            "125/125 [==============================] - 2s 14ms/step - loss: 0.3755 - accuracy: 0.8712 - val_loss: 2.7361 - val_accuracy: 0.4370\n",
            "Epoch 16/25\n",
            "125/125 [==============================] - 2s 12ms/step - loss: 0.3598 - accuracy: 0.8820 - val_loss: 2.9176 - val_accuracy: 0.4270\n",
            "Epoch 17/25\n",
            "125/125 [==============================] - 2s 13ms/step - loss: 0.2993 - accuracy: 0.8978 - val_loss: 2.6465 - val_accuracy: 0.4280\n",
            "Epoch 18/25\n",
            "125/125 [==============================] - 2s 12ms/step - loss: 0.2734 - accuracy: 0.9100 - val_loss: 3.0769 - val_accuracy: 0.4190\n",
            "Epoch 19/25\n",
            "125/125 [==============================] - 2s 12ms/step - loss: 0.1996 - accuracy: 0.9337 - val_loss: 3.8518 - val_accuracy: 0.3800\n",
            "Epoch 20/25\n",
            "125/125 [==============================] - 2s 12ms/step - loss: 0.3527 - accuracy: 0.8892 - val_loss: 3.0474 - val_accuracy: 0.4210\n",
            "Epoch 21/25\n",
            "125/125 [==============================] - 2s 12ms/step - loss: 0.1749 - accuracy: 0.9450 - val_loss: 3.5331 - val_accuracy: 0.4090\n",
            "Epoch 22/25\n",
            "125/125 [==============================] - 2s 12ms/step - loss: 0.2207 - accuracy: 0.9325 - val_loss: 3.2247 - val_accuracy: 0.4370\n",
            "Epoch 23/25\n",
            "125/125 [==============================] - 2s 12ms/step - loss: 0.1917 - accuracy: 0.9373 - val_loss: 3.4264 - val_accuracy: 0.4060\n",
            "Epoch 24/25\n",
            "125/125 [==============================] - 2s 12ms/step - loss: 0.1773 - accuracy: 0.9485 - val_loss: 3.3423 - val_accuracy: 0.4430\n",
            "Epoch 25/25\n",
            "125/125 [==============================] - 2s 12ms/step - loss: 0.0914 - accuracy: 0.9718 - val_loss: 3.7038 - val_accuracy: 0.4420\n"
          ]
        }
      ],
      "source": [
        "train_images, eval_images, train_labels, eval_labels = train_test_split(target_images, target_labels, test_size=0.2, shuffle=True)\n",
        "target_model = f_target(train_images, train_labels, eval_images, eval_labels, epochs=25) "
      ]
    },
    {
      "cell_type": "markdown",
      "metadata": {
        "id": "l--0MCg-elRq"
      },
      "source": [
        "### Perturbed Instance Behaviour\n",
        "\n",
        "Following we will apply some perturbations to data instances from in and out of $D_{target}$ and we will count how the predicted label change in respect to this perturbations, according to each class."
      ]
    },
    {
      "cell_type": "markdown",
      "metadata": {
        "id": "-H0PYHLFrWJ1"
      },
      "source": [
        "\n",
        "\n",
        "## Shadow Models\n",
        "Following we define our own shadow models\n",
        "\n",
        "### Shadow Model Architecture\n",
        "- 3 CNN layers of $32, 64, 128$ filters of size $3 \\times 3$ with MaxPooling and ReLU activation\n",
        "- Dense Layer of 512 nodes\n",
        "- Dense Layer of 10 nodes as Output layer\n",
        "\n",
        "All output logits pass through Softmax Unit as in the target model to acquire probability vectors\n",
        "\n",
        "\n",
        "\n",
        "### Shadow Dataset Composition\n",
        "\n",
        "We just divide the CIFAR-10 dataset to $D_{out}$ and $D_{train}$ such as $D_{train} \\cap D_{out} = \\varnothing$ and use $D_{out}$ in order to train/test shadow models and attack model."
      ]
    },
    {
      "cell_type": "code",
      "execution_count": null,
      "metadata": {
        "id": "2GWyCXmmwIiJ"
      },
      "outputs": [],
      "source": [
        "N_SHADOWS = 5\n",
        "D_SHADOW_SIZE = 2500"
      ]
    },
    {
      "cell_type": "code",
      "execution_count": null,
      "metadata": {
        "id": "2rwhySHfVQjV"
      },
      "outputs": [],
      "source": [
        "def f_shadow():\n",
        "  model = models.Sequential()\n",
        "  model.add(layers.Conv2D(32, (3, 3), activation='tanh', input_shape=(32, 32, 3)))\n",
        "  model.add(layers.MaxPooling2D((2, 2)))\n",
        "  model.add(layers.Conv2D(64, (3, 3), activation='tanh'))\n",
        "  model.add(layers.MaxPooling2D((2, 2)))\n",
        "  model.add(layers.Conv2D(128, (3, 3), activation='tanh'))\n",
        "  model.add(layers.MaxPooling2D((2, 2)))\n",
        "  \n",
        "  \n",
        "  model.add(layers.Flatten())\n",
        "  model.add(layers.Dense(512, activation='tanh'))\n",
        "\n",
        "  model.add(layers.Dense(10))\n",
        "  \n",
        "  optimizer = keras.optimizers.Adam()\n",
        "  model.compile(optimizer=optimizer,\n",
        "              loss=tf.keras.losses.SparseCategoricalCrossentropy(from_logits=True),\n",
        "              metrics=['accuracy'])\n",
        "  return model"
      ]
    },
    {
      "cell_type": "code",
      "execution_count": null,
      "metadata": {
        "id": "sliyw7xO2PTg"
      },
      "outputs": [],
      "source": [
        "# returns list of (trained shadow_model, D_shadow)\n",
        "def create_shadows(D_shadows):\n",
        "  shadow_models_bundle = ShadowModelBatch(len(D_shadows), f_shadow) # shadow model list\n",
        "  shadow_models_bundle.fit_all(D_shadows, epochs=25)\n",
        "  return shadow_models_bundle # return a list where every item is (model, acc), train-data, test-data"
      ]
    },
    {
      "cell_type": "code",
      "execution_count": null,
      "metadata": {
        "id": "q3ziH9LP3CY5"
      },
      "outputs": [],
      "source": [
        "# generate shadow datasets\n",
        "D_shadows = generate_shadow_dataset(target_model, N_SHADOWS, D_SHADOW_SIZE, 10, attacker_images, attacker_labels)"
      ]
    },
    {
      "cell_type": "code",
      "execution_count": null,
      "metadata": {
        "colab": {
          "base_uri": "https://localhost:8080/"
        },
        "id": "8dc8morl-NRP",
        "outputId": "5b350459-58ae-4a0a-c580-7a6b04531cb9"
      },
      "outputs": [
        {
          "name": "stdout",
          "output_type": "stream",
          "text": [
            "Epoch 1/25\n",
            "53/53 [==============================] - 2s 16ms/step - loss: 2.1427 - accuracy: 0.2501 - val_loss: 1.8442 - val_accuracy: 0.3345\n",
            "Epoch 2/25\n",
            "53/53 [==============================] - 1s 11ms/step - loss: 1.6387 - accuracy: 0.4018 - val_loss: 1.8400 - val_accuracy: 0.3333\n",
            "Epoch 3/25\n",
            "53/53 [==============================] - 1s 10ms/step - loss: 1.4746 - accuracy: 0.4693 - val_loss: 1.8617 - val_accuracy: 0.3636\n",
            "Epoch 4/25\n",
            "53/53 [==============================] - 1s 11ms/step - loss: 1.2911 - accuracy: 0.5361 - val_loss: 1.7726 - val_accuracy: 0.4048\n",
            "Epoch 5/25\n",
            "53/53 [==============================] - 1s 10ms/step - loss: 1.0336 - accuracy: 0.6388 - val_loss: 1.8089 - val_accuracy: 0.3842\n",
            "Epoch 6/25\n",
            "53/53 [==============================] - 1s 10ms/step - loss: 0.8334 - accuracy: 0.7164 - val_loss: 1.9800 - val_accuracy: 0.3733\n",
            "Epoch 7/25\n",
            "53/53 [==============================] - 1s 11ms/step - loss: 0.6415 - accuracy: 0.7869 - val_loss: 1.9277 - val_accuracy: 0.4109\n",
            "Epoch 8/25\n",
            "53/53 [==============================] - 1s 10ms/step - loss: 0.5073 - accuracy: 0.8454 - val_loss: 2.0249 - val_accuracy: 0.3964\n",
            "Epoch 9/25\n",
            "53/53 [==============================] - 1s 10ms/step - loss: 0.2934 - accuracy: 0.9176 - val_loss: 2.0304 - val_accuracy: 0.4279\n",
            "Epoch 10/25\n",
            "53/53 [==============================] - 1s 12ms/step - loss: 0.1469 - accuracy: 0.9737 - val_loss: 2.1356 - val_accuracy: 0.4473\n",
            "Epoch 11/25\n",
            "53/53 [==============================] - 1s 11ms/step - loss: 0.0840 - accuracy: 0.9869 - val_loss: 2.2191 - val_accuracy: 0.4315\n",
            "Epoch 12/25\n",
            "53/53 [==============================] - 1s 11ms/step - loss: 0.0384 - accuracy: 0.9976 - val_loss: 2.3036 - val_accuracy: 0.4521\n",
            "Epoch 13/25\n",
            "53/53 [==============================] - 1s 10ms/step - loss: 0.0129 - accuracy: 1.0000 - val_loss: 2.2964 - val_accuracy: 0.4497\n",
            "Epoch 14/25\n",
            "53/53 [==============================] - 1s 10ms/step - loss: 0.0075 - accuracy: 1.0000 - val_loss: 2.2992 - val_accuracy: 0.4436\n",
            "Epoch 15/25\n",
            "53/53 [==============================] - 1s 11ms/step - loss: 0.0056 - accuracy: 1.0000 - val_loss: 2.3176 - val_accuracy: 0.4448\n",
            "Epoch 16/25\n",
            "53/53 [==============================] - 1s 10ms/step - loss: 0.0047 - accuracy: 1.0000 - val_loss: 2.3442 - val_accuracy: 0.4424\n",
            "Epoch 17/25\n",
            "53/53 [==============================] - 1s 11ms/step - loss: 0.0041 - accuracy: 1.0000 - val_loss: 2.3679 - val_accuracy: 0.4436\n",
            "Epoch 18/25\n",
            "53/53 [==============================] - 1s 10ms/step - loss: 0.0035 - accuracy: 1.0000 - val_loss: 2.3749 - val_accuracy: 0.4424\n",
            "Epoch 19/25\n",
            "53/53 [==============================] - 1s 11ms/step - loss: 0.0031 - accuracy: 1.0000 - val_loss: 2.3934 - val_accuracy: 0.4461\n",
            "Epoch 20/25\n",
            "53/53 [==============================] - 1s 11ms/step - loss: 0.0028 - accuracy: 1.0000 - val_loss: 2.4084 - val_accuracy: 0.4436\n",
            "Epoch 21/25\n",
            "53/53 [==============================] - 1s 11ms/step - loss: 0.0025 - accuracy: 1.0000 - val_loss: 2.4236 - val_accuracy: 0.4436\n",
            "Epoch 22/25\n",
            "53/53 [==============================] - 1s 11ms/step - loss: 0.0023 - accuracy: 1.0000 - val_loss: 2.4319 - val_accuracy: 0.4424\n",
            "Epoch 23/25\n",
            "53/53 [==============================] - 1s 11ms/step - loss: 0.0021 - accuracy: 1.0000 - val_loss: 2.4541 - val_accuracy: 0.4461\n",
            "Epoch 24/25\n",
            "53/53 [==============================] - 1s 10ms/step - loss: 0.0019 - accuracy: 1.0000 - val_loss: 2.4577 - val_accuracy: 0.4412\n",
            "Epoch 25/25\n",
            "53/53 [==============================] - 1s 11ms/step - loss: 0.0018 - accuracy: 1.0000 - val_loss: 2.4797 - val_accuracy: 0.4461\n",
            "Epoch 1/25\n",
            "53/53 [==============================] - 1s 14ms/step - loss: 2.1181 - accuracy: 0.2543 - val_loss: 1.8896 - val_accuracy: 0.2788\n",
            "Epoch 2/25\n",
            "53/53 [==============================] - 1s 11ms/step - loss: 1.7593 - accuracy: 0.3600 - val_loss: 1.7897 - val_accuracy: 0.3382\n",
            "Epoch 3/25\n",
            "53/53 [==============================] - 1s 11ms/step - loss: 1.5079 - accuracy: 0.4549 - val_loss: 1.7337 - val_accuracy: 0.3830\n",
            "Epoch 4/25\n",
            "53/53 [==============================] - 1s 10ms/step - loss: 1.2719 - accuracy: 0.5546 - val_loss: 1.8893 - val_accuracy: 0.3648\n",
            "Epoch 5/25\n",
            "53/53 [==============================] - 1s 10ms/step - loss: 1.0726 - accuracy: 0.6322 - val_loss: 1.7381 - val_accuracy: 0.4182\n",
            "Epoch 6/25\n",
            "53/53 [==============================] - 1s 11ms/step - loss: 0.8853 - accuracy: 0.6848 - val_loss: 1.8632 - val_accuracy: 0.4230\n",
            "Epoch 7/25\n",
            "53/53 [==============================] - 1s 11ms/step - loss: 0.5945 - accuracy: 0.8048 - val_loss: 1.8046 - val_accuracy: 0.4255\n",
            "Epoch 8/25\n",
            "53/53 [==============================] - 1s 10ms/step - loss: 0.3802 - accuracy: 0.8925 - val_loss: 1.9813 - val_accuracy: 0.4206\n",
            "Epoch 9/25\n",
            "53/53 [==============================] - 1s 10ms/step - loss: 0.2049 - accuracy: 0.9558 - val_loss: 2.0703 - val_accuracy: 0.4255\n",
            "Epoch 10/25\n",
            "53/53 [==============================] - 1s 10ms/step - loss: 0.1166 - accuracy: 0.9815 - val_loss: 2.1576 - val_accuracy: 0.4291\n",
            "Epoch 11/25\n",
            "53/53 [==============================] - 1s 11ms/step - loss: 0.0590 - accuracy: 0.9952 - val_loss: 2.2242 - val_accuracy: 0.4364\n",
            "Epoch 12/25\n",
            "53/53 [==============================] - 1s 10ms/step - loss: 0.0363 - accuracy: 0.9976 - val_loss: 2.2476 - val_accuracy: 0.4461\n",
            "Epoch 13/25\n",
            "53/53 [==============================] - 1s 11ms/step - loss: 0.0152 - accuracy: 1.0000 - val_loss: 2.3049 - val_accuracy: 0.4497\n",
            "Epoch 14/25\n",
            "53/53 [==============================] - 1s 11ms/step - loss: 0.0088 - accuracy: 1.0000 - val_loss: 2.3221 - val_accuracy: 0.4497\n",
            "Epoch 15/25\n",
            "53/53 [==============================] - 1s 11ms/step - loss: 0.0066 - accuracy: 1.0000 - val_loss: 2.3472 - val_accuracy: 0.4497\n",
            "Epoch 16/25\n",
            "53/53 [==============================] - 1s 12ms/step - loss: 0.0055 - accuracy: 1.0000 - val_loss: 2.3743 - val_accuracy: 0.4497\n",
            "Epoch 17/25\n",
            "53/53 [==============================] - 1s 11ms/step - loss: 0.0046 - accuracy: 1.0000 - val_loss: 2.3964 - val_accuracy: 0.4497\n",
            "Epoch 18/25\n",
            "53/53 [==============================] - 1s 10ms/step - loss: 0.0039 - accuracy: 1.0000 - val_loss: 2.4129 - val_accuracy: 0.4570\n",
            "Epoch 19/25\n",
            "53/53 [==============================] - 1s 10ms/step - loss: 0.0035 - accuracy: 1.0000 - val_loss: 2.4295 - val_accuracy: 0.4485\n",
            "Epoch 20/25\n",
            "53/53 [==============================] - 1s 11ms/step - loss: 0.0031 - accuracy: 1.0000 - val_loss: 2.4607 - val_accuracy: 0.4497\n",
            "Epoch 21/25\n",
            "53/53 [==============================] - 1s 12ms/step - loss: 0.0028 - accuracy: 1.0000 - val_loss: 2.4704 - val_accuracy: 0.4485\n",
            "Epoch 22/25\n",
            "53/53 [==============================] - 1s 10ms/step - loss: 0.0025 - accuracy: 1.0000 - val_loss: 2.4828 - val_accuracy: 0.4461\n",
            "Epoch 23/25\n",
            "53/53 [==============================] - 1s 11ms/step - loss: 0.0023 - accuracy: 1.0000 - val_loss: 2.5019 - val_accuracy: 0.4570\n",
            "Epoch 24/25\n",
            "53/53 [==============================] - 1s 10ms/step - loss: 0.0021 - accuracy: 1.0000 - val_loss: 2.5133 - val_accuracy: 0.4545\n",
            "Epoch 25/25\n",
            "53/53 [==============================] - 1s 10ms/step - loss: 0.0019 - accuracy: 1.0000 - val_loss: 2.5256 - val_accuracy: 0.4582\n",
            "Epoch 1/25\n",
            "53/53 [==============================] - 1s 13ms/step - loss: 2.1627 - accuracy: 0.2424 - val_loss: 1.7830 - val_accuracy: 0.3297\n",
            "Epoch 2/25\n",
            "53/53 [==============================] - 1s 11ms/step - loss: 1.7585 - accuracy: 0.3666 - val_loss: 1.7680 - val_accuracy: 0.3273\n",
            "Epoch 3/25\n",
            "53/53 [==============================] - 1s 10ms/step - loss: 1.6341 - accuracy: 0.4096 - val_loss: 1.7989 - val_accuracy: 0.3782\n",
            "Epoch 4/25\n",
            "53/53 [==============================] - 1s 10ms/step - loss: 1.5311 - accuracy: 0.4507 - val_loss: 1.6809 - val_accuracy: 0.3903\n",
            "Epoch 5/25\n",
            "53/53 [==============================] - 1s 11ms/step - loss: 1.3410 - accuracy: 0.5325 - val_loss: 1.7361 - val_accuracy: 0.4097\n",
            "Epoch 6/25\n",
            "53/53 [==============================] - 1s 11ms/step - loss: 1.2154 - accuracy: 0.5719 - val_loss: 1.7129 - val_accuracy: 0.4012\n",
            "Epoch 7/25\n",
            "53/53 [==============================] - 1s 11ms/step - loss: 0.9990 - accuracy: 0.6591 - val_loss: 1.7728 - val_accuracy: 0.4024\n",
            "Epoch 8/25\n",
            "53/53 [==============================] - 1s 11ms/step - loss: 0.8007 - accuracy: 0.7296 - val_loss: 1.8023 - val_accuracy: 0.4061\n",
            "Epoch 9/25\n",
            "53/53 [==============================] - 1s 10ms/step - loss: 0.7481 - accuracy: 0.7552 - val_loss: 1.9091 - val_accuracy: 0.3867\n",
            "Epoch 10/25\n",
            "53/53 [==============================] - 1s 10ms/step - loss: 0.5918 - accuracy: 0.7970 - val_loss: 2.0349 - val_accuracy: 0.4048\n",
            "Epoch 11/25\n",
            "53/53 [==============================] - 1s 11ms/step - loss: 0.4137 - accuracy: 0.8657 - val_loss: 2.0199 - val_accuracy: 0.4097\n",
            "Epoch 12/25\n",
            "53/53 [==============================] - 1s 11ms/step - loss: 0.3099 - accuracy: 0.9027 - val_loss: 2.0753 - val_accuracy: 0.4218\n",
            "Epoch 13/25\n",
            "53/53 [==============================] - 1s 11ms/step - loss: 0.1336 - accuracy: 0.9707 - val_loss: 2.2563 - val_accuracy: 0.3988\n",
            "Epoch 14/25\n",
            "53/53 [==============================] - 1s 10ms/step - loss: 0.0908 - accuracy: 0.9857 - val_loss: 2.2939 - val_accuracy: 0.4145\n",
            "Epoch 15/25\n",
            "53/53 [==============================] - 1s 10ms/step - loss: 0.0556 - accuracy: 0.9928 - val_loss: 2.2934 - val_accuracy: 0.4291\n",
            "Epoch 16/25\n",
            "53/53 [==============================] - 1s 11ms/step - loss: 0.0220 - accuracy: 0.9994 - val_loss: 2.2989 - val_accuracy: 0.4436\n",
            "Epoch 17/25\n",
            "53/53 [==============================] - 1s 12ms/step - loss: 0.0085 - accuracy: 1.0000 - val_loss: 2.3045 - val_accuracy: 0.4388\n",
            "Epoch 18/25\n",
            "53/53 [==============================] - 1s 11ms/step - loss: 0.0062 - accuracy: 1.0000 - val_loss: 2.3246 - val_accuracy: 0.4436\n",
            "Epoch 19/25\n",
            "53/53 [==============================] - 1s 11ms/step - loss: 0.0047 - accuracy: 1.0000 - val_loss: 2.3436 - val_accuracy: 0.4412\n",
            "Epoch 20/25\n",
            "53/53 [==============================] - 1s 11ms/step - loss: 0.0041 - accuracy: 1.0000 - val_loss: 2.3542 - val_accuracy: 0.4436\n",
            "Epoch 21/25\n",
            "53/53 [==============================] - 1s 11ms/step - loss: 0.0036 - accuracy: 1.0000 - val_loss: 2.3733 - val_accuracy: 0.4400\n",
            "Epoch 22/25\n",
            "53/53 [==============================] - 1s 10ms/step - loss: 0.0032 - accuracy: 1.0000 - val_loss: 2.3903 - val_accuracy: 0.4436\n",
            "Epoch 23/25\n",
            "53/53 [==============================] - 1s 11ms/step - loss: 0.0029 - accuracy: 1.0000 - val_loss: 2.4024 - val_accuracy: 0.4436\n",
            "Epoch 24/25\n",
            "53/53 [==============================] - 1s 11ms/step - loss: 0.0026 - accuracy: 1.0000 - val_loss: 2.4173 - val_accuracy: 0.4436\n",
            "Epoch 25/25\n",
            "53/53 [==============================] - 1s 10ms/step - loss: 0.0024 - accuracy: 1.0000 - val_loss: 2.4235 - val_accuracy: 0.4473\n",
            "Epoch 1/25\n",
            "53/53 [==============================] - 2s 17ms/step - loss: 2.1527 - accuracy: 0.2531 - val_loss: 1.8770 - val_accuracy: 0.3127\n",
            "Epoch 2/25\n",
            "53/53 [==============================] - 1s 13ms/step - loss: 1.6771 - accuracy: 0.3970 - val_loss: 1.8388 - val_accuracy: 0.3685\n",
            "Epoch 3/25\n",
            "53/53 [==============================] - 1s 12ms/step - loss: 1.4929 - accuracy: 0.4597 - val_loss: 1.7351 - val_accuracy: 0.3636\n",
            "Epoch 4/25\n",
            "53/53 [==============================] - 1s 13ms/step - loss: 1.2811 - accuracy: 0.5427 - val_loss: 1.8643 - val_accuracy: 0.3939\n",
            "Epoch 5/25\n",
            "53/53 [==============================] - 1s 13ms/step - loss: 1.1448 - accuracy: 0.5988 - val_loss: 1.7550 - val_accuracy: 0.4000\n",
            "Epoch 6/25\n",
            "53/53 [==============================] - 1s 18ms/step - loss: 0.9646 - accuracy: 0.6693 - val_loss: 1.8913 - val_accuracy: 0.3745\n",
            "Epoch 7/25\n",
            "53/53 [==============================] - 1s 17ms/step - loss: 0.7189 - accuracy: 0.7600 - val_loss: 1.9416 - val_accuracy: 0.3745\n",
            "Epoch 8/25\n",
            "53/53 [==============================] - 1s 12ms/step - loss: 0.6270 - accuracy: 0.7809 - val_loss: 1.8352 - val_accuracy: 0.4145\n",
            "Epoch 9/25\n",
            "53/53 [==============================] - 1s 13ms/step - loss: 0.3595 - accuracy: 0.9009 - val_loss: 2.0044 - val_accuracy: 0.4206\n",
            "Epoch 10/25\n",
            "53/53 [==============================] - 1s 13ms/step - loss: 0.2879 - accuracy: 0.9212 - val_loss: 2.0363 - val_accuracy: 0.4097\n",
            "Epoch 11/25\n",
            "53/53 [==============================] - 1s 12ms/step - loss: 0.1582 - accuracy: 0.9630 - val_loss: 2.1272 - val_accuracy: 0.4376\n",
            "Epoch 12/25\n",
            "53/53 [==============================] - 1s 13ms/step - loss: 0.1164 - accuracy: 0.9767 - val_loss: 2.1841 - val_accuracy: 0.4194\n",
            "Epoch 13/25\n",
            "53/53 [==============================] - 1s 12ms/step - loss: 0.0871 - accuracy: 0.9869 - val_loss: 2.2854 - val_accuracy: 0.4376\n",
            "Epoch 14/25\n",
            "53/53 [==============================] - 1s 12ms/step - loss: 0.0232 - accuracy: 1.0000 - val_loss: 2.2873 - val_accuracy: 0.4315\n",
            "Epoch 15/25\n",
            "53/53 [==============================] - 1s 12ms/step - loss: 0.0112 - accuracy: 1.0000 - val_loss: 2.3009 - val_accuracy: 0.4521\n",
            "Epoch 16/25\n",
            "53/53 [==============================] - 1s 13ms/step - loss: 0.0060 - accuracy: 1.0000 - val_loss: 2.2937 - val_accuracy: 0.4521\n",
            "Epoch 17/25\n",
            "53/53 [==============================] - 1s 13ms/step - loss: 0.0046 - accuracy: 1.0000 - val_loss: 2.3099 - val_accuracy: 0.4461\n",
            "Epoch 18/25\n",
            "53/53 [==============================] - 1s 13ms/step - loss: 0.0038 - accuracy: 1.0000 - val_loss: 2.3343 - val_accuracy: 0.4461\n",
            "Epoch 19/25\n",
            "53/53 [==============================] - 1s 13ms/step - loss: 0.0033 - accuracy: 1.0000 - val_loss: 2.3401 - val_accuracy: 0.4521\n",
            "Epoch 20/25\n",
            "53/53 [==============================] - 1s 13ms/step - loss: 0.0029 - accuracy: 1.0000 - val_loss: 2.3502 - val_accuracy: 0.4533\n",
            "Epoch 21/25\n",
            "53/53 [==============================] - 1s 13ms/step - loss: 0.0026 - accuracy: 1.0000 - val_loss: 2.3771 - val_accuracy: 0.4497\n",
            "Epoch 22/25\n",
            "53/53 [==============================] - 1s 14ms/step - loss: 0.0024 - accuracy: 1.0000 - val_loss: 2.3832 - val_accuracy: 0.4558\n",
            "Epoch 23/25\n",
            "53/53 [==============================] - 1s 14ms/step - loss: 0.0022 - accuracy: 1.0000 - val_loss: 2.4017 - val_accuracy: 0.4533\n",
            "Epoch 24/25\n",
            "53/53 [==============================] - 1s 14ms/step - loss: 0.0020 - accuracy: 1.0000 - val_loss: 2.4161 - val_accuracy: 0.4545\n",
            "Epoch 25/25\n",
            "53/53 [==============================] - 1s 15ms/step - loss: 0.0018 - accuracy: 1.0000 - val_loss: 2.4228 - val_accuracy: 0.4582\n",
            "Epoch 1/25\n",
            "53/53 [==============================] - 4s 56ms/step - loss: 2.1584 - accuracy: 0.2394 - val_loss: 1.8890 - val_accuracy: 0.3297\n",
            "Epoch 2/25\n",
            "53/53 [==============================] - 1s 13ms/step - loss: 1.7231 - accuracy: 0.3785 - val_loss: 1.6993 - val_accuracy: 0.3830\n",
            "Epoch 3/25\n",
            "53/53 [==============================] - 1s 12ms/step - loss: 1.5258 - accuracy: 0.4496 - val_loss: 1.7037 - val_accuracy: 0.3867\n",
            "Epoch 4/25\n",
            "53/53 [==============================] - 1s 12ms/step - loss: 1.3583 - accuracy: 0.5206 - val_loss: 1.6466 - val_accuracy: 0.4121\n",
            "Epoch 5/25\n",
            "53/53 [==============================] - 1s 13ms/step - loss: 1.0812 - accuracy: 0.6263 - val_loss: 1.7563 - val_accuracy: 0.3988\n",
            "Epoch 6/25\n",
            "53/53 [==============================] - 1s 14ms/step - loss: 0.9335 - accuracy: 0.6704 - val_loss: 1.6555 - val_accuracy: 0.4436\n",
            "Epoch 7/25\n",
            "53/53 [==============================] - 1s 13ms/step - loss: 0.6502 - accuracy: 0.7982 - val_loss: 1.8184 - val_accuracy: 0.4097\n",
            "Epoch 8/25\n",
            "53/53 [==============================] - 1s 14ms/step - loss: 0.4498 - accuracy: 0.8693 - val_loss: 1.9029 - val_accuracy: 0.4400\n",
            "Epoch 9/25\n",
            "53/53 [==============================] - 1s 13ms/step - loss: 0.2596 - accuracy: 0.9272 - val_loss: 1.9608 - val_accuracy: 0.4327\n",
            "Epoch 10/25\n",
            "53/53 [==============================] - 1s 13ms/step - loss: 0.1814 - accuracy: 0.9642 - val_loss: 2.0129 - val_accuracy: 0.4194\n",
            "Epoch 11/25\n",
            "53/53 [==============================] - 1s 12ms/step - loss: 0.0728 - accuracy: 0.9916 - val_loss: 2.0754 - val_accuracy: 0.4315\n",
            "Epoch 12/25\n",
            "53/53 [==============================] - 1s 12ms/step - loss: 0.0272 - accuracy: 1.0000 - val_loss: 2.0879 - val_accuracy: 0.4448\n",
            "Epoch 13/25\n",
            "53/53 [==============================] - 1s 12ms/step - loss: 0.0129 - accuracy: 1.0000 - val_loss: 2.1286 - val_accuracy: 0.4364\n",
            "Epoch 14/25\n",
            "53/53 [==============================] - 1s 13ms/step - loss: 0.0084 - accuracy: 1.0000 - val_loss: 2.1448 - val_accuracy: 0.4364\n",
            "Epoch 15/25\n",
            "53/53 [==============================] - 1s 12ms/step - loss: 0.0067 - accuracy: 1.0000 - val_loss: 2.1631 - val_accuracy: 0.4485\n",
            "Epoch 16/25\n",
            "53/53 [==============================] - 1s 13ms/step - loss: 0.0057 - accuracy: 1.0000 - val_loss: 2.1909 - val_accuracy: 0.4436\n",
            "Epoch 17/25\n",
            "53/53 [==============================] - 1s 13ms/step - loss: 0.0049 - accuracy: 1.0000 - val_loss: 2.2123 - val_accuracy: 0.4485\n",
            "Epoch 18/25\n",
            "53/53 [==============================] - 1s 14ms/step - loss: 0.0042 - accuracy: 1.0000 - val_loss: 2.2386 - val_accuracy: 0.4424\n",
            "Epoch 19/25\n",
            "53/53 [==============================] - 1s 15ms/step - loss: 0.0038 - accuracy: 1.0000 - val_loss: 2.2437 - val_accuracy: 0.4436\n",
            "Epoch 20/25\n",
            "53/53 [==============================] - 1s 14ms/step - loss: 0.0033 - accuracy: 1.0000 - val_loss: 2.2728 - val_accuracy: 0.4424\n",
            "Epoch 21/25\n",
            "53/53 [==============================] - 1s 14ms/step - loss: 0.0030 - accuracy: 1.0000 - val_loss: 2.2886 - val_accuracy: 0.4436\n",
            "Epoch 22/25\n",
            "53/53 [==============================] - 1s 13ms/step - loss: 0.0027 - accuracy: 1.0000 - val_loss: 2.2926 - val_accuracy: 0.4473\n",
            "Epoch 23/25\n",
            "53/53 [==============================] - 1s 13ms/step - loss: 0.0024 - accuracy: 1.0000 - val_loss: 2.3192 - val_accuracy: 0.4400\n",
            "Epoch 24/25\n",
            "53/53 [==============================] - 1s 13ms/step - loss: 0.0022 - accuracy: 1.0000 - val_loss: 2.3298 - val_accuracy: 0.4376\n",
            "Epoch 25/25\n",
            "53/53 [==============================] - 1s 14ms/step - loss: 0.0020 - accuracy: 1.0000 - val_loss: 2.3464 - val_accuracy: 0.4424\n"
          ]
        }
      ],
      "source": [
        "# train the shadow models\n",
        "shadow_models = create_shadows(D_shadows)"
      ]
    },
    {
      "cell_type": "markdown",
      "metadata": {
        "id": "RJQxvjrfrfnW"
      },
      "source": [
        "## Attack Model\n",
        "\n",
        "### Attack Model Architecture\n",
        "The attack model is consisted of 1 swallow layer of 10 neurons just as proposed in Shokri et al. and in the relative label only attack paper.\n",
        "\n",
        "\n",
        "### Attack Dataset\n",
        "The attack dataset will be consisted of vectors $x_i$, s.t. $x_i$ contains:\n",
        "- real label\n",
        "- predicted label\n",
        "- bitstring of length $n'$, where $x_{ij+2}, \\; j \\in \\{1, ..., n'\\} $ will be 1 if perturbed label is same as predicted, otherwise it'll be zero.\n",
        "\n",
        "\n",
        "### Perturbed Queries for feature extraction and Attack Dataset\n",
        "\n",
        "In order to construct the actual attack dataset we have 2 perturbation functions:\n",
        "- Translate\n",
        "- Rotate\n",
        "\n",
        "that can apply the necessary augmentations in order to acquire the feature vector for a query.\n",
        "\n",
        "This works by applying all augmentations to the input X and querying the target model in order to return a binary vector $x_{attack}$ where $$x_{attack_p} = 1 \\; if \\;y_p == y_{true} \\; else \\; 0, \\forall p \\in Perturbations(X)$$\n",
        "\n",
        "where $y_p$ is the label for pertubation $p$ of input $X$."
      ]
    },
    {
      "cell_type": "code",
      "execution_count": null,
      "metadata": {
        "id": "SrhUttNV1jR6"
      },
      "outputs": [],
      "source": [
        "r = 2 # rotate range => creating 2*r+1 rotations \n",
        "d = 1 # translate range =? creating 4*d + 1 translates"
      ]
    },
    {
      "cell_type": "code",
      "execution_count": null,
      "metadata": {
        "id": "gnhE29HBBYGy"
      },
      "outputs": [],
      "source": [
        "def f_attack():\n",
        "  global r\n",
        "  global d\n",
        "  \n",
        "  model = models.Sequential(name='label-only attack_model')\n",
        "  # input dims = 2*r(# of rotates - neutral)  + 4*d(# of translates - neutral) + 2 (y_pred, y_true)\n",
        "  model.add(layers.Dense(10, input_shape=(2*r+4*d+2, )))\n",
        "  model.add(layers.LeakyReLU(0.3))\n",
        "  model.add(layers.Dense(1, activation='sigmoid'))\n",
        "        \n",
        "  model.compile(optimizer='adam',\n",
        "                    loss='binary_crossentropy',\n",
        "                    metrics=['accuracy'])\n",
        "  \n",
        "  print(model.summary())\n",
        "  return model \n",
        "\n",
        "attack_model = LabelOnlyAttackModel(shadow_models, 10, f_attack_builder=f_attack)"
      ]
    },
    {
      "cell_type": "code",
      "execution_count": null,
      "metadata": {
        "colab": {
          "base_uri": "https://localhost:8080/"
        },
        "id": "7bdgsVbiFk3B",
        "outputId": "d4c118da-4c3d-4b65-ea2c-eeba4974806e"
      },
      "outputs": [
        {
          "name": "stdout",
          "output_type": "stream",
          "text": [
            "Preparing shadow batch of size 1650\n",
            "Done!\n",
            "Preparing shadow batch of size 1650\n",
            "Done!\n",
            "Preparing shadow batch of size 1650\n",
            "Done!\n",
            "Preparing shadow batch of size 1650\n",
            "Done!\n",
            "Preparing shadow batch of size 1650\n",
            "Done!\n",
            "Epoch 1/50\n",
            "181/181 [==============================] - 2s 6ms/step - loss: 0.6833 - accuracy: 0.5758 - val_loss: 0.6582 - val_accuracy: 0.6210\n",
            "Epoch 2/50\n",
            "181/181 [==============================] - 1s 6ms/step - loss: 0.6512 - accuracy: 0.6118 - val_loss: 0.6376 - val_accuracy: 0.6453\n",
            "Epoch 3/50\n",
            "181/181 [==============================] - 1s 5ms/step - loss: 0.6235 - accuracy: 0.6620 - val_loss: 0.6059 - val_accuracy: 0.7002\n",
            "Epoch 4/50\n",
            "181/181 [==============================] - 1s 5ms/step - loss: 0.5980 - accuracy: 0.6940 - val_loss: 0.5897 - val_accuracy: 0.7139\n",
            "Epoch 5/50\n",
            "181/181 [==============================] - 1s 5ms/step - loss: 0.5787 - accuracy: 0.7202 - val_loss: 0.5729 - val_accuracy: 0.7301\n",
            "Epoch 6/50\n",
            "181/181 [==============================] - 1s 5ms/step - loss: 0.5611 - accuracy: 0.7351 - val_loss: 0.5519 - val_accuracy: 0.7495\n",
            "Epoch 7/50\n",
            "181/181 [==============================] - 1s 6ms/step - loss: 0.5457 - accuracy: 0.7513 - val_loss: 0.5380 - val_accuracy: 0.7543\n",
            "Epoch 8/50\n",
            "181/181 [==============================] - 1s 5ms/step - loss: 0.5322 - accuracy: 0.7605 - val_loss: 0.5261 - val_accuracy: 0.7592\n",
            "Epoch 9/50\n",
            "181/181 [==============================] - 1s 5ms/step - loss: 0.5191 - accuracy: 0.7707 - val_loss: 0.5131 - val_accuracy: 0.7758\n",
            "Epoch 10/50\n",
            "181/181 [==============================] - 1s 6ms/step - loss: 0.5079 - accuracy: 0.7778 - val_loss: 0.5024 - val_accuracy: 0.7778\n",
            "Epoch 11/50\n",
            "181/181 [==============================] - 1s 6ms/step - loss: 0.4992 - accuracy: 0.7861 - val_loss: 0.4943 - val_accuracy: 0.7859\n",
            "Epoch 12/50\n",
            "181/181 [==============================] - 1s 6ms/step - loss: 0.4913 - accuracy: 0.7915 - val_loss: 0.4869 - val_accuracy: 0.7952\n",
            "Epoch 13/50\n",
            "181/181 [==============================] - 1s 5ms/step - loss: 0.4846 - accuracy: 0.7995 - val_loss: 0.4809 - val_accuracy: 0.7984\n",
            "Epoch 14/50\n",
            "181/181 [==============================] - 1s 5ms/step - loss: 0.4793 - accuracy: 0.8012 - val_loss: 0.4758 - val_accuracy: 0.8032\n",
            "Epoch 15/50\n",
            "181/181 [==============================] - 1s 5ms/step - loss: 0.4740 - accuracy: 0.8045 - val_loss: 0.4706 - val_accuracy: 0.8020\n",
            "Epoch 16/50\n",
            "181/181 [==============================] - 1s 6ms/step - loss: 0.4669 - accuracy: 0.8047 - val_loss: 0.4674 - val_accuracy: 0.8069\n",
            "Epoch 17/50\n",
            "181/181 [==============================] - 1s 5ms/step - loss: 0.4635 - accuracy: 0.8081 - val_loss: 0.4617 - val_accuracy: 0.8028\n",
            "Epoch 18/50\n",
            "181/181 [==============================] - 1s 5ms/step - loss: 0.4591 - accuracy: 0.8087 - val_loss: 0.4577 - val_accuracy: 0.8061\n",
            "Epoch 19/50\n",
            "181/181 [==============================] - 1s 5ms/step - loss: 0.4557 - accuracy: 0.8087 - val_loss: 0.4549 - val_accuracy: 0.8113\n",
            "Epoch 20/50\n",
            "181/181 [==============================] - 1s 6ms/step - loss: 0.4522 - accuracy: 0.8104 - val_loss: 0.4588 - val_accuracy: 0.7972\n",
            "Epoch 21/50\n",
            "181/181 [==============================] - 1s 5ms/step - loss: 0.4485 - accuracy: 0.8111 - val_loss: 0.4493 - val_accuracy: 0.8012\n",
            "Epoch 22/50\n",
            "181/181 [==============================] - 1s 5ms/step - loss: 0.4464 - accuracy: 0.8118 - val_loss: 0.4460 - val_accuracy: 0.8093\n",
            "Epoch 23/50\n",
            "181/181 [==============================] - 1s 5ms/step - loss: 0.4429 - accuracy: 0.8133 - val_loss: 0.4449 - val_accuracy: 0.8012\n",
            "Epoch 24/50\n",
            "181/181 [==============================] - 1s 5ms/step - loss: 0.4424 - accuracy: 0.8137 - val_loss: 0.4406 - val_accuracy: 0.8113\n",
            "Epoch 25/50\n",
            "181/181 [==============================] - 1s 5ms/step - loss: 0.4392 - accuracy: 0.8154 - val_loss: 0.4378 - val_accuracy: 0.8149\n",
            "Epoch 26/50\n",
            "181/181 [==============================] - 1s 5ms/step - loss: 0.4349 - accuracy: 0.8173 - val_loss: 0.4355 - val_accuracy: 0.8154\n",
            "Epoch 27/50\n",
            "181/181 [==============================] - 1s 5ms/step - loss: 0.4357 - accuracy: 0.8142 - val_loss: 0.4337 - val_accuracy: 0.8158\n",
            "Epoch 28/50\n",
            "181/181 [==============================] - 1s 5ms/step - loss: 0.4319 - accuracy: 0.8185 - val_loss: 0.4330 - val_accuracy: 0.8137\n",
            "Epoch 29/50\n",
            "181/181 [==============================] - 1s 5ms/step - loss: 0.4300 - accuracy: 0.8194 - val_loss: 0.4300 - val_accuracy: 0.8182\n",
            "Epoch 30/50\n",
            "181/181 [==============================] - 1s 6ms/step - loss: 0.4288 - accuracy: 0.8190 - val_loss: 0.4406 - val_accuracy: 0.8012\n",
            "Epoch 31/50\n",
            "181/181 [==============================] - 1s 5ms/step - loss: 0.4269 - accuracy: 0.8201 - val_loss: 0.4270 - val_accuracy: 0.8166\n",
            "Epoch 32/50\n",
            "181/181 [==============================] - 1s 5ms/step - loss: 0.4247 - accuracy: 0.8187 - val_loss: 0.4278 - val_accuracy: 0.8214\n",
            "Epoch 33/50\n",
            "181/181 [==============================] - 1s 5ms/step - loss: 0.4232 - accuracy: 0.8206 - val_loss: 0.4235 - val_accuracy: 0.8210\n",
            "Epoch 34/50\n",
            "181/181 [==============================] - 1s 5ms/step - loss: 0.4224 - accuracy: 0.8225 - val_loss: 0.4280 - val_accuracy: 0.8214\n",
            "Epoch 35/50\n",
            "181/181 [==============================] - 1s 5ms/step - loss: 0.4219 - accuracy: 0.8227 - val_loss: 0.4225 - val_accuracy: 0.8178\n",
            "Epoch 36/50\n",
            "181/181 [==============================] - 1s 6ms/step - loss: 0.4211 - accuracy: 0.8223 - val_loss: 0.4229 - val_accuracy: 0.8178\n",
            "Epoch 37/50\n",
            "181/181 [==============================] - 1s 5ms/step - loss: 0.4180 - accuracy: 0.8248 - val_loss: 0.4215 - val_accuracy: 0.8190\n",
            "Epoch 38/50\n",
            "181/181 [==============================] - 1s 6ms/step - loss: 0.4185 - accuracy: 0.8225 - val_loss: 0.4181 - val_accuracy: 0.8210\n",
            "Epoch 39/50\n",
            "181/181 [==============================] - 1s 5ms/step - loss: 0.4162 - accuracy: 0.8242 - val_loss: 0.4203 - val_accuracy: 0.8214\n",
            "Epoch 40/50\n",
            "181/181 [==============================] - 1s 6ms/step - loss: 0.4150 - accuracy: 0.8246 - val_loss: 0.4157 - val_accuracy: 0.8214\n",
            "Epoch 41/50\n",
            "181/181 [==============================] - 1s 5ms/step - loss: 0.4148 - accuracy: 0.8255 - val_loss: 0.4151 - val_accuracy: 0.8214\n",
            "Epoch 42/50\n",
            "181/181 [==============================] - 1s 5ms/step - loss: 0.4135 - accuracy: 0.8249 - val_loss: 0.4150 - val_accuracy: 0.8214\n",
            "Epoch 43/50\n",
            "181/181 [==============================] - 1s 5ms/step - loss: 0.4124 - accuracy: 0.8246 - val_loss: 0.4174 - val_accuracy: 0.8214\n",
            "Epoch 44/50\n",
            "181/181 [==============================] - 1s 5ms/step - loss: 0.4124 - accuracy: 0.8253 - val_loss: 0.4127 - val_accuracy: 0.8214\n",
            "Epoch 45/50\n",
            "181/181 [==============================] - 1s 5ms/step - loss: 0.4117 - accuracy: 0.8253 - val_loss: 0.4165 - val_accuracy: 0.8210\n",
            "Epoch 46/50\n",
            "181/181 [==============================] - 1s 5ms/step - loss: 0.4105 - accuracy: 0.8255 - val_loss: 0.4137 - val_accuracy: 0.8214\n",
            "Epoch 47/50\n",
            "181/181 [==============================] - 1s 6ms/step - loss: 0.4105 - accuracy: 0.8255 - val_loss: 0.4162 - val_accuracy: 0.8210\n",
            "Epoch 48/50\n",
            "181/181 [==============================] - 1s 5ms/step - loss: 0.4081 - accuracy: 0.8256 - val_loss: 0.4223 - val_accuracy: 0.8214\n",
            "Epoch 49/50\n",
            "181/181 [==============================] - 1s 5ms/step - loss: 0.4092 - accuracy: 0.8255 - val_loss: 0.4090 - val_accuracy: 0.8214\n",
            "Epoch 50/50\n",
            "181/181 [==============================] - 1s 5ms/step - loss: 0.4064 - accuracy: 0.8255 - val_loss: 0.4079 - val_accuracy: 0.8214\n"
          ]
        }
      ],
      "source": [
        "# provide the model with the perturbation parameters and use @prepare_batch to apply them and \n",
        "# return attack input instance from a picture that the model will recognise\n",
        "attack_model.fit(r, d, epochs=50)"
      ]
    },
    {
      "cell_type": "markdown",
      "metadata": {
        "id": "pTAveNFNrvrX"
      },
      "source": [
        "## Attack Evaluation\n",
        "\n",
        "Use prepare batch to transform the evaluation dataset and give it to the model.\n",
        "\n",
        "If previously fitted prepare batch will already have a value for $r$ and $d$ of pertubations, otherwise the user might set them with the following snippet."
      ]
    },
    {
      "cell_type": "code",
      "execution_count": null,
      "metadata": {
        "id": "yHeNGGZ8yzpi"
      },
      "outputs": [],
      "source": [
        "attack_model.r = 2\n",
        "attack_model.d = 1"
      ]
    },
    {
      "cell_type": "code",
      "execution_count": null,
      "metadata": {
        "id": "g9GxZE5Yntpw"
      },
      "outputs": [],
      "source": [
        "D_in = attack_model.prepare_batch(target_model, train_images[:500], train_labels[:500], True)"
      ]
    },
    {
      "cell_type": "code",
      "execution_count": null,
      "metadata": {
        "id": "GCPLb3aXIu2V"
      },
      "outputs": [],
      "source": [
        "D_out = attack_model.prepare_batch(target_model, attacker_images[:500], attacker_labels[:500], False)"
      ]
    },
    {
      "cell_type": "code",
      "execution_count": null,
      "metadata": {
        "colab": {
          "base_uri": "https://localhost:8080/",
          "height": 612
        },
        "id": "8wDNdLqnnyVp",
        "outputId": "508ff424-a343-4b09-ae3b-5eab3d7b37fe"
      },
      "outputs": [
        {
          "name": "stdout",
          "output_type": "stream",
          "text": [
            "class-1 acc: 0.8037382960319519\n",
            "class-2 acc: 0.7765957713127136\n",
            "class-3 acc: 0.8666666746139526\n",
            "class-4 acc: 0.8865979313850403\n",
            "class-5 acc: 0.8584905862808228\n",
            "class-6 acc: 0.8928571343421936\n",
            "class-7 acc: 0.8429751992225647\n",
            "class-8 acc: 0.8351648449897766\n",
            "class-9 acc: 0.6907216310501099\n",
            "class-10 acc: 0.8265306353569031\n",
            "              precision    recall  f1-score   support\n",
            "\n",
            "         0.0       0.95      0.69      0.80       500\n",
            "         1.0       0.76      0.96      0.85       500\n",
            "\n",
            "    accuracy                           0.83      1000\n",
            "   macro avg       0.85      0.83      0.82      1000\n",
            "weighted avg       0.85      0.83      0.82      1000\n",
            "\n",
            "AUC: 0.847054\n"
          ]
        },
        {
          "data": {
            "image/png": "[encoded data removed]",
            "text/plain": [
              "<Figure size 432x288 with 1 Axes>"
            ]
          },
          "metadata": {
            "needs_background": "light"
          },
          "output_type": "display_data"
        }
      ],
      "source": [
        "attack_model.evaluate(np.concatenate((D_out[:, :-1], D_in[:, :-1])),  np.concatenate((D_out[:, -1], D_in[:, -1])), 10)"
      ]
    },
    {
      "cell_type": "markdown",
      "metadata": {
        "id": "8grjprA4PmE7"
      },
      "source": [
        "# Extras"
      ]
    },
    {
      "cell_type": "markdown",
      "metadata": {
        "id": "w9g2jus3rP1j"
      },
      "source": [
        "## Check target model's behaviour in perturbed images"
      ]
    },
    {
      "cell_type": "code",
      "execution_count": null,
      "metadata": {
        "id": "sD5YbfusfCob"
      },
      "outputs": [],
      "source": [
        "def study_perturbations(model, X, y, rs, ts):\n",
        "  diffs = []\n",
        "  y_pred = target_predict(model, X)    \n",
        "  for c in range(10):\n",
        "    #  given class acquire the changes in perturbed input instances given the model\n",
        "    idx = y_pred[:, 0] == c\n",
        "    X_c = X[idx]\n",
        "    y_pred_c = y_pred[idx]\n",
        "    perturbed_labels = augmented_queries(model, X_c, y_pred_c, rs, ts)\n",
        "    # Now we have to count how many labels diverge from the predicted label\n",
        "    diff = len(perturbed_labels.reshape(-1)) - sum(perturbed_labels.reshape(-1)) # the labels are binary where 1 == y_pred = y_perturbed, otherwise 0\n",
        "    diffs.append(int(100 * diff/len(perturbed_labels.reshape(-1)))) # append the percentage of changes in the class sample\n",
        "    \n",
        "  return diffs "
      ]
    },
    {
      "cell_type": "code",
      "execution_count": null,
      "metadata": {
        "id": "w-0sJVhfbfQ3"
      },
      "outputs": [],
      "source": [
        "N_SAMPLES = 100\n",
        "train_idx = np.random.choice(range(train_images.shape[0]), N_SAMPLES, replace=False)\n",
        "test_idx = np.random.choice(range(attacker_images.shape[0]), N_SAMPLES, replace=False)"
      ]
    },
    {
      "cell_type": "code",
      "execution_count": null,
      "metadata": {
        "colab": {
          "base_uri": "https://localhost:8080/",
          "height": 1000
        },
        "id": "dpYCPdS0EA-p",
        "outputId": "23c1ae63-e9ec-4a77-db9d-8003e7696182"
      },
      "outputs": [
        {
          "data": {
            "text/plain": [
              "[<matplotlib.axis.XTick at 0x7fd540457690>,\n",
              " <matplotlib.axis.XTick at 0x7fd53ff9fad0>,\n",
              " <matplotlib.axis.XTick at 0x7fd53ff9f250>,\n",
              " <matplotlib.axis.XTick at 0x7fd541126a90>,\n",
              " <matplotlib.axis.XTick at 0x7fd540ff2910>,\n",
              " <matplotlib.axis.XTick at 0x7fd540d2f3d0>,\n",
              " <matplotlib.axis.XTick at 0x7fd540f71f10>,\n",
              " <matplotlib.axis.XTick at 0x7fd540f71290>,\n",
              " <matplotlib.axis.XTick at 0x7fd5410ed390>,\n",
              " <matplotlib.axis.XTick at 0x7fd54108b310>,\n",
              " <matplotlib.axis.XTick at 0x7fd54108b350>,\n",
              " Text(0, 0, '0%'),\n",
              " Text(0, 0, '10%'),\n",
              " Text(0, 0, '20%'),\n",
              " Text(0, 0, '30%'),\n",
              " Text(0, 0, '40%'),\n",
              " Text(0, 0, '50%'),\n",
              " Text(0, 0, '60%'),\n",
              " Text(0, 0, '70%'),\n",
              " Text(0, 0, '80%'),\n",
              " Text(0, 0, '90%'),\n",
              " Text(0, 0, '100%'),\n",
              " <matplotlib.axis.XTick at 0x7fd5497ec490>,\n",
              " <matplotlib.axis.XTick at 0x7fd5497ec3d0>,\n",
              " <matplotlib.axis.XTick at 0x7fd5497ec7d0>,\n",
              " <matplotlib.axis.XTick at 0x7fd540d209d0>,\n",
              " <matplotlib.axis.XTick at 0x7fd540d200d0>,\n",
              " <matplotlib.axis.XTick at 0x7fd54108b710>,\n",
              " <matplotlib.axis.XTick at 0x7fd541126f10>,\n",
              " <matplotlib.axis.XTick at 0x7fd540d94e90>,\n",
              " <matplotlib.axis.XTick at 0x7fd540d94f90>,\n",
              " <matplotlib.axis.XTick at 0x7fd540d941d0>,\n",
              " <matplotlib.axis.XTick at 0x7fd540e85090>,\n",
              " Text(0, 0, '0%'),\n",
              " Text(0, 0, '10%'),\n",
              " Text(0, 0, '20%'),\n",
              " Text(0, 0, '30%'),\n",
              " Text(0, 0, '40%'),\n",
              " Text(0, 0, '50%'),\n",
              " Text(0, 0, '60%'),\n",
              " Text(0, 0, '70%'),\n",
              " Text(0, 0, '80%'),\n",
              " Text(0, 0, '90%'),\n",
              " Text(0, 0, '100%'),\n",
              " <matplotlib.axis.XTick at 0x7fd541372c50>,\n",
              " <matplotlib.axis.XTick at 0x7fd5413725d0>,\n",
              " <matplotlib.axis.XTick at 0x7fd541372150>,\n",
              " <matplotlib.axis.XTick at 0x7fd54119a290>,\n",
              " <matplotlib.axis.XTick at 0x7fd54119ad90>,\n",
              " <matplotlib.axis.XTick at 0x7fd540e85e90>,\n",
              " <matplotlib.axis.XTick at 0x7fd54108bb10>,\n",
              " <matplotlib.axis.XTick at 0x7fd54119a3d0>,\n",
              " <matplotlib.axis.XTick at 0x7fd54119a310>,\n",
              " <matplotlib.axis.XTick at 0x7fd540ec1510>,\n",
              " <matplotlib.axis.XTick at 0x7fd540ec1310>,\n",
              " Text(0, 0, '0%'),\n",
              " Text(0, 0, '10%'),\n",
              " Text(0, 0, '20%'),\n",
              " Text(0, 0, '30%'),\n",
              " Text(0, 0, '40%'),\n",
              " Text(0, 0, '50%'),\n",
              " Text(0, 0, '60%'),\n",
              " Text(0, 0, '70%'),\n",
              " Text(0, 0, '80%'),\n",
              " Text(0, 0, '90%'),\n",
              " Text(0, 0, '100%')]"
            ]
          },
          "execution_count": 155,
          "metadata": {},
          "output_type": "execute_result"
        },
        {
          "data": {
            "image/png": "[encoded data removed]",
            "text/plain": [
              "<Figure size 1080x360 with 3 Axes>"
            ]
          },
          "metadata": {
            "needs_background": "light"
          },
          "output_type": "display_data"
        }
      ],
      "source": [
        "fig, axes = plt.subplots(1, 3, figsize=(15, 5))\n",
        "\n",
        "# tests in D_in\n",
        "diffs_per_class_D_in = study_perturbations(target_model, train_images[train_idx], train_labels[train_idx], r, d) \n",
        "total_diffs_in = sum(diffs_per_class_D_in)/10\n",
        "axes[0].set_title('D_in predicted label divergence');\n",
        "axes[0].barh(list(range(10)), diffs_per_class_D_in, tick_label=[f'Class-{i}' for i in range(10)])\n",
        "\n",
        "# tests in D_out  \n",
        "diffs_per_class_D_out= study_perturbations(target_model,attacker_images[test_idx],attacker_labels[test_idx], r, d)\n",
        "total_diffs_out = sum(diffs_per_class_D_out)/10\n",
        "axes[1].set_title('D_out predicted label divergence');\n",
        "axes[1].barh(list(range(10)), diffs_per_class_D_out, tick_label=[f'Class-{i}' for i in range(10)])\n",
        "\n",
        "axes[2].set_title('Total predicted label divergence percentage');\n",
        "axes[2].barh([1, 0], [total_diffs_in, total_diffs_out], tick_label=['In', 'Out'])\n",
        "\n",
        "plt.setp(axes, xticks=range(0, 101, 10), xticklabels=[f'{i}%' for i in range(0, 101, 10)])"
      ]
    },
    {
      "cell_type": "markdown",
      "metadata": {
        "id": "WZOpEdcmCMXX"
      },
      "source": [
        "## Attack a perturbation trained model\n",
        "\n",
        "- We will apply augmentations to the dataset and re-train the target model.\n",
        "- The attacker **does not** know our augmentation settings, so he will train with a normal dataset of zero augmentations\n",
        "- We want to measure the quality of the attack when the target tries to defend MIAs by adding perturbed images of data samples "
      ]
    },
    {
      "cell_type": "code",
      "execution_count": null,
      "metadata": {
        "id": "4Cl0sR-1I_sG"
      },
      "outputs": [],
      "source": [
        "# We will defend against the same rotations and translations that the attack models uses (worst case for the attacker)\n",
        "rotates = create_rotates(r)\n",
        "translates = create_translates(d)\n",
        "\n",
        "X_train_aug = train_images\n",
        "X_eval_aug = eval_images\n",
        "y_train_aug = np.concatenate(tuple([train_labels] + [train_labels for rot in rotates] + [train_labels for tra in translates]))\n",
        "y_eval_aug = np.concatenate(tuple([eval_labels] + [eval_labels for rot in rotates] + [eval_labels for tra in translates]))\n",
        "\n",
        "\n",
        "\n",
        "for rot in rotates:\n",
        "  aug_x = apply_augment(train_images, rot, 'r')\n",
        "  X_train_aug = np.concatenate((X_train_aug,aug_x))\n",
        "  aug_x = apply_augment(eval_images, rot, 'r')\n",
        "  X_eval_aug = np.concatenate((X_eval_aug,aug_x))\n",
        "\n",
        "for tra in translates:\n",
        "  aug_x = apply_augment(train_images, tra, 'd')\n",
        "  X_train_aug = np.concatenate((X_train_aug,aug_x))\n",
        "  aug_x = apply_augment(eval_images, tra, 'd')\n",
        "  X_eval_aug = np.concatenate((X_eval_aug ,aug_x))\n"
      ]
    },
    {
      "cell_type": "code",
      "execution_count": null,
      "metadata": {
        "colab": {
          "base_uri": "https://localhost:8080/"
        },
        "id": "JaNvyxztuwED",
        "outputId": "c18b8543-2c2f-46e9-a61e-b05d8afeaf8e"
      },
      "outputs": [
        {
          "name": "stdout",
          "output_type": "stream",
          "text": [
            "Epoch 1/10\n",
            "1375/1375 [==============================] - 19s 13ms/step - loss: 1.4369 - accuracy: 0.4849 - val_loss: 1.7567 - val_accuracy: 0.4453\n",
            "Epoch 2/10\n",
            "1375/1375 [==============================] - 18s 13ms/step - loss: 0.6120 - accuracy: 0.7916 - val_loss: 2.3232 - val_accuracy: 0.4479\n",
            "Epoch 3/10\n",
            "1375/1375 [==============================] - 18s 13ms/step - loss: 0.3004 - accuracy: 0.9025 - val_loss: 2.7799 - val_accuracy: 0.4576\n",
            "Epoch 4/10\n",
            "1375/1375 [==============================] - 18s 13ms/step - loss: 0.2099 - accuracy: 0.9358 - val_loss: 2.8301 - val_accuracy: 0.4597\n",
            "Epoch 5/10\n",
            "1375/1375 [==============================] - 17s 12ms/step - loss: 0.1913 - accuracy: 0.9427 - val_loss: 2.9066 - val_accuracy: 0.4625\n",
            "Epoch 6/10\n",
            "1375/1375 [==============================] - 18s 13ms/step - loss: 0.1556 - accuracy: 0.9532 - val_loss: 3.1514 - val_accuracy: 0.4544\n",
            "Epoch 7/10\n",
            "1375/1375 [==============================] - 17s 12ms/step - loss: 0.1516 - accuracy: 0.9562 - val_loss: 3.7347 - val_accuracy: 0.4517\n",
            "Epoch 8/10\n",
            "1375/1375 [==============================] - 17s 12ms/step - loss: 0.1487 - accuracy: 0.9572 - val_loss: 3.4636 - val_accuracy: 0.4518\n",
            "Epoch 9/10\n",
            "1375/1375 [==============================] - 18s 13ms/step - loss: 0.1311 - accuracy: 0.9639 - val_loss: 4.0093 - val_accuracy: 0.4675\n",
            "Epoch 10/10\n",
            "1375/1375 [==============================] - 18s 13ms/step - loss: 0.1283 - accuracy: 0.9642 - val_loss: 3.5604 - val_accuracy: 0.4278\n"
          ]
        }
      ],
      "source": [
        "\n",
        "with tf.device('/gpu:0'):\n",
        "  X_train_aug = tf.convert_to_tensor(X_train_aug)\n",
        "  y_train_aug = tf.convert_to_tensor(y_train_aug)\n",
        "  X_eval_aug = tf.convert_to_tensor(X_eval_aug)\n",
        "  y_eval_aug = tf.convert_to_tensor(y_eval_aug)\n",
        "  target_model = f_target(X_train_aug, y_train_aug, X_eval_aug, y_eval_aug, epochs=10) "
      ]
    },
    {
      "cell_type": "markdown",
      "metadata": {
        "id": "bsRYuPrCUBWl"
      },
      "source": [
        "The model is quite overfitted so now all that is left is to evaluate the attack model we created before on the newly trained and \"defended\" target model with perturbations in the train dataset."
      ]
    },
    {
      "cell_type": "code",
      "execution_count": null,
      "metadata": {
        "colab": {
          "base_uri": "https://localhost:8080/",
          "height": 612
        },
        "id": "zyt1sD06SBFa",
        "outputId": "9343bfbd-deb3-449a-cc4f-9eec022fcd39"
      },
      "outputs": [
        {
          "name": "stdout",
          "output_type": "stream",
          "text": [
            "class-1 acc: 0.738095223903656\n",
            "class-2 acc: 0.7446808218955994\n",
            "class-3 acc: 0.8965517282485962\n",
            "class-4 acc: 0.9019607901573181\n",
            "class-5 acc: 0.8356807231903076\n",
            "class-6 acc: 0.816216230392456\n",
            "class-7 acc: 0.7710280418395996\n",
            "class-8 acc: 0.7864583134651184\n",
            "class-9 acc: 0.7464115023612976\n",
            "class-10 acc: 0.7802197933197021\n",
            "              precision    recall  f1-score   support\n",
            "\n",
            "         0.0       0.95      0.64      0.76      1000\n",
            "         1.0       0.73      0.97      0.83      1000\n",
            "\n",
            "    accuracy                           0.80      2000\n",
            "   macro avg       0.84      0.80      0.80      2000\n",
            "weighted avg       0.84      0.80      0.80      2000\n",
            "\n",
            "AUC: 0.8526244999999999\n"
          ]
        },
        {
          "data": {
            "image/png": "[encoded data removed]",
            "text/plain": [
              "<Figure size 432x288 with 1 Axes>"
            ]
          },
          "metadata": {
            "needs_background": "light"
          },
          "output_type": "display_data"
        }
      ],
      "source": [
        "D_in = attack_model.prepare_batch(target_model, train_images[:1000], train_labels[:1000], True)\n",
        "\n",
        "D_out = attack_model.prepare_batch(target_model, attacker_images[:1000], attacker_labels[:1000], False)\n",
        "\n",
        "attack_model.evaluate(np.concatenate((D_out[:, :-1], D_in[:, :-1])),  np.concatenate((D_out[:, -1], D_in[:, -1])), 10)"
      ]
    },
    {
      "cell_type": "markdown",
      "metadata": {
        "id": "fW_JINmBUgd_"
      },
      "source": [
        "### Conclusion\n",
        "\n",
        "To conclude if the model is more vulnerable, we must meassure the label divergence percentage in the adjusted-to-augmentations model."
      ]
    },
    {
      "cell_type": "code",
      "execution_count": null,
      "metadata": {
        "colab": {
          "base_uri": "https://localhost:8080/",
          "height": 1000
        },
        "id": "OWDU6N1uSCnA",
        "outputId": "7d1b5ebf-a3dd-4b4e-ce4d-8590948c712f"
      },
      "outputs": [
        {
          "data": {
            "text/plain": [
              "[<matplotlib.axis.XTick at 0x7fd54961edd0>,\n",
              " <matplotlib.axis.XTick at 0x7fd54961e750>,\n",
              " <matplotlib.axis.XTick at 0x7fd547ee7f90>,\n",
              " <matplotlib.axis.XTick at 0x7fd5c0cdddd0>,\n",
              " <matplotlib.axis.XTick at 0x7fd5c12a4d50>,\n",
              " <matplotlib.axis.XTick at 0x7fd53feeb7d0>,\n",
              " <matplotlib.axis.XTick at 0x7fd53feeb910>,\n",
              " <matplotlib.axis.XTick at 0x7fd53feeb9d0>,\n",
              " <matplotlib.axis.XTick at 0x7fd54144df50>,\n",
              " <matplotlib.axis.XTick at 0x7fd53feeb6d0>,\n",
              " <matplotlib.axis.XTick at 0x7fd54547a050>,\n",
              " Text(0, 0, '0%'),\n",
              " Text(0, 0, '10%'),\n",
              " Text(0, 0, '20%'),\n",
              " Text(0, 0, '30%'),\n",
              " Text(0, 0, '40%'),\n",
              " Text(0, 0, '50%'),\n",
              " Text(0, 0, '60%'),\n",
              " Text(0, 0, '70%'),\n",
              " Text(0, 0, '80%'),\n",
              " Text(0, 0, '90%'),\n",
              " Text(0, 0, '100%'),\n",
              " <matplotlib.axis.XTick at 0x7fd63007ae10>,\n",
              " <matplotlib.axis.XTick at 0x7fd63007ae90>,\n",
              " <matplotlib.axis.XTick at 0x7fd63007a690>,\n",
              " <matplotlib.axis.XTick at 0x7fd547ed3310>,\n",
              " <matplotlib.axis.XTick at 0x7fd547ed3850>,\n",
              " <matplotlib.axis.XTick at 0x7fd54966d1d0>,\n",
              " <matplotlib.axis.XTick at 0x7fd54966de50>,\n",
              " <matplotlib.axis.XTick at 0x7fd53acebd10>,\n",
              " <matplotlib.axis.XTick at 0x7fd54039d6d0>,\n",
              " <matplotlib.axis.XTick at 0x7fd54039d910>,\n",
              " <matplotlib.axis.XTick at 0x7fd54039ded0>,\n",
              " Text(0, 0, '0%'),\n",
              " Text(0, 0, '10%'),\n",
              " Text(0, 0, '20%'),\n",
              " Text(0, 0, '30%'),\n",
              " Text(0, 0, '40%'),\n",
              " Text(0, 0, '50%'),\n",
              " Text(0, 0, '60%'),\n",
              " Text(0, 0, '70%'),\n",
              " Text(0, 0, '80%'),\n",
              " Text(0, 0, '90%'),\n",
              " Text(0, 0, '100%'),\n",
              " <matplotlib.axis.XTick at 0x7fd5c1030490>,\n",
              " <matplotlib.axis.XTick at 0x7fd5c1030950>,\n",
              " <matplotlib.axis.XTick at 0x7fd5c10301d0>,\n",
              " <matplotlib.axis.XTick at 0x7fd54144d8d0>,\n",
              " <matplotlib.axis.XTick at 0x7fd53b4787d0>,\n",
              " <matplotlib.axis.XTick at 0x7fd5400453d0>,\n",
              " <matplotlib.axis.XTick at 0x7fd540045fd0>,\n",
              " <matplotlib.axis.XTick at 0x7fd54bd1f850>,\n",
              " <matplotlib.axis.XTick at 0x7fd54bd1f4d0>,\n",
              " <matplotlib.axis.XTick at 0x7fd54bd1f890>,\n",
              " <matplotlib.axis.XTick at 0x7fd54bd1f6d0>,\n",
              " Text(0, 0, '0%'),\n",
              " Text(0, 0, '10%'),\n",
              " Text(0, 0, '20%'),\n",
              " Text(0, 0, '30%'),\n",
              " Text(0, 0, '40%'),\n",
              " Text(0, 0, '50%'),\n",
              " Text(0, 0, '60%'),\n",
              " Text(0, 0, '70%'),\n",
              " Text(0, 0, '80%'),\n",
              " Text(0, 0, '90%'),\n",
              " Text(0, 0, '100%')]"
            ]
          },
          "execution_count": 159,
          "metadata": {},
          "output_type": "execute_result"
        },
        {
          "data": {
            "image/png": "[encoded data removed]",
            "text/plain": [
              "<Figure size 1080x360 with 3 Axes>"
            ]
          },
          "metadata": {
            "needs_background": "light"
          },
          "output_type": "display_data"
        }
      ],
      "source": [
        "# test it onthe same data as we tested the non-adjusted to augmentation model\n",
        "fig, axes = plt.subplots(1, 3, figsize=(15, 5))\n",
        "\n",
        "# tests in D_in\n",
        "diffs_per_class_D_in = study_perturbations(target_model, train_images[train_idx], train_labels[train_idx], r, d) \n",
        "total_diffs_in = sum(diffs_per_class_D_in)/10\n",
        "axes[0].set_title('D_in predicted label divergence');\n",
        "axes[0].barh(list(range(10)), diffs_per_class_D_in, tick_label=[f'Class-{i}' for i in range(10)])\n",
        "\n",
        "# tests in D_out  \n",
        "diffs_per_class_D_out= study_perturbations(target_model,attacker_images[test_idx],attacker_labels[test_idx], r, d)\n",
        "total_diffs_out = sum(diffs_per_class_D_out)/10\n",
        "axes[1].set_title('D_out predicted label divergence');\n",
        "axes[1].barh(list(range(10)), diffs_per_class_D_out, tick_label=[f'Class-{i}' for i in range(10)])\n",
        "\n",
        "axes[2].set_title('Total predicted label divergence percentage');\n",
        "axes[2].barh([1, 0], [total_diffs_in, total_diffs_out], tick_label=['In', 'Out'])\n",
        "\n",
        "plt.setp(axes, xticks=range(0, 101, 10), xticklabels=[f'{i}%' for i in range(0, 101, 10)])"
      ]
    },
    {
      "cell_type": "markdown",
      "metadata": {
        "id": "VVyVo6yukPGH"
      },
      "source": [
        "We can see that the general percentage of predicted label divergence has fallen, **but** the confidence of the ML algorithm in predicting the label of perturbed instances of instances in $D_{in}$ is better that before and that is realized by the increase of the AUC value (~0.852 when before ~0.847). This means that the adjusted model is even more vulnerable and our attack predicts membership with high sensitivity to the predicted label changes."
      ]
    }
  ],
  "metadata": {
    "accelerator": "GPU",
    "colab": {
      "collapsed_sections": [],
      "name": "cifar_10_labels_only_mia-v2.ipynb",
      "provenance": []
    },
    "kernelspec": {
      "display_name": "Python 3",
      "name": "python3"
    },
    "language_info": {
      "codemirror_mode": {
        "name": "ipython",
        "version": 3
      },
      "file_extension": ".py",
      "mimetype": "text/x-python",
      "name": "python",
      "nbconvert_exporter": "python",
      "pygments_lexer": "ipython3",
      "version": "3.8.10"
    }
  },
  "nbformat": 4,
  "nbformat_minor": 0
}
