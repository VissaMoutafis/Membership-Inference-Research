{
  "cells": [
    {
      "cell_type": "markdown",
      "metadata": {
        "id": "2vzAuc5Xo3j2"
      },
      "source": [
        "# Label Only Membership Inference (Revisited on points)\n",
        "\n",
        "### Threat Model:\n",
        "\n",
        "- **Black Box** access to an overfitted classifier with no access to actual $D_{train}$\n",
        "- Predict API returns **only labels instead of confidence vectors**\n",
        "- We have some insight on the training data distribution, $D_{out}$ , **but** $D_{train} \\cap D_{out} = \\varnothing$\n",
        "\n",
        "\n",
        "### Attack Target: \n",
        "- Use a shadow model to attack local shadow models and extract membership leakage features\n",
        "- Use data perturbations in order to exploit test/training data approximation relevancies to the classification boundaries.\n",
        "- Perfom the boundary-based attack on the actual model\n",
        "\n",
        "### Evaluation Target\n",
        "- Score over $50\\%$ accuracy\n",
        "- Train attack model based on this assumption and compare with conf-vector attack\n",
        "\n",
        "Implemented based on [this paper](https://arxiv.org/abs/2007.14321)."
      ]
    },
    {
      "cell_type": "code",
      "execution_count": 1,
      "metadata": {
        "colab": {
          "base_uri": "https://localhost:8080/"
        },
        "id": "tg_WQJ7j5n3B",
        "outputId": "fd93c52a-1ac6-4106-e636-8230da20c0cf"
      },
      "outputs": [
        {
          "output_type": "stream",
          "name": "stdout",
          "text": [
            "Num GPUs Available:  1\n"
          ]
        }
      ],
      "source": [
        "import numpy as np\n",
        "import matplotlib.pyplot as plt\n",
        "\n",
        "import math\n",
        "import tensorflow as tf\n",
        "from tensorflow.keras import datasets, layers, models\n",
        "from sklearn.model_selection import train_test_split\n",
        "from tensorflow import keras\n",
        "from tensorflow.keras import regularizers\n",
        "\n",
        "# for image interpolation\n",
        "import scipy.ndimage.interpolation as interpolation\n",
        "\n",
        "from sklearn.metrics import roc_auc_score, roc_curve\n",
        "from sklearn.metrics import classification_report\n",
        "\n",
        "from mia.attack_model import *\n",
        "from mia.label_only import *\n",
        "from mia.shadow_models import *\n",
        "from mia.utilities import *\n",
        "\n",
        "\n",
        "from tqdm import tqdm\n",
        "import sys\n",
        "print(\"Num GPUs Available: \", len(tf.config.list_physical_devices('GPU')))\n"
      ]
    },
    {
      "cell_type": "markdown",
      "metadata": {
        "id": "5Kv7Qon0qRTk"
      },
      "source": [
        "## Target Model\n",
        "\n",
        "### Model Architecture\n",
        "- 2 layers of 32 $3\\times 3$ Conv2D filters with Max Pooling\n",
        "- 2 layers of 64 $3\\times 3$ Conv2D filters with MaxPooling\n",
        "- Dense Layer of 512 neurons\n",
        "- Dense Output layer of 10 neurons\n",
        "- Each layer has ReLU activation\n"
      ]
    },
    {
      "cell_type": "code",
      "execution_count": 6,
      "metadata": {
        "id": "zacp4ArauIET"
      },
      "outputs": [],
      "source": [
        "D_TARGET_SIZE = 2500"
      ]
    },
    {
      "cell_type": "code",
      "execution_count": 10,
      "metadata": {
        "id": "1qg7LkXX0zOF"
      },
      "outputs": [],
      "source": [
        "def f_target(X_train, y_train, X_test=None, y_test=None, epochs=100):\n",
        "  \"\"\"\n",
        "  Returns a trained target model, if test data are specified we will evaluate the model and print its accuracy\n",
        "  \"\"\"\n",
        "  model = models.Sequential()\n",
        "  model.add(layers.Conv2D(32, (3, 3), activation='relu', input_shape=X_train.shape[1:]))\n",
        "  model.add(layers.MaxPooling2D((2, 2)))\n",
        "  model.add(layers.Conv2D(64, (3, 3), activation='relu'))\n",
        "\n",
        "  model.add(layers.Flatten())\n",
        "  model.add(layers.Dense(32, activation='relu'))\n",
        "\n",
        "  model.add(layers.Dense(10))\n",
        "  \n",
        "  optimizer = keras.optimizers.Adam(learning_rate=0.001)\n",
        "  model.compile(optimizer=optimizer,\n",
        "              loss=tf.keras.losses.SparseCategoricalCrossentropy(from_logits=True),\n",
        "              metrics=['accuracy'])\n",
        "  if X_test is None or y_test is None:\n",
        "    history = model.fit(X_train, y_train, epochs=epochs, \n",
        "                    validation_split=0.2)\n",
        "  else:\n",
        "    history = model.fit(X_train, y_train, epochs=epochs, \n",
        "                    validation_data=(X_test, y_test))\n",
        "  return model"
      ]
    },
    {
      "cell_type": "code",
      "execution_count": 11,
      "metadata": {
        "id": "oy2NLipP75sX"
      },
      "outputs": [],
      "source": [
        "(train_images, train_labels), (test_images, test_labels) = datasets.mnist.load_data()\n",
        "train_images = train_images.reshape((-1, 28, 28, 1))\n",
        "test_images=test_images.reshape((-1, 28, 28, 1))\n",
        "\n",
        "#shuffle the datasets\n",
        "sample_i = np.random.choice(range(train_images.shape[0]), train_images.shape[0], replace=False)\n",
        "train_images = train_images[sample_i]\n",
        "train_labels = train_labels[sample_i]\n",
        "sample_i = np.random.choice(range(test_images.shape[0]), test_images.shape[0], replace=False)\n",
        "test_images = test_images[sample_i]\n",
        "test_labels = test_labels[sample_i] \n",
        "\n",
        "# define the target's training dataset and the attacker's retrieved dataset\n",
        "attacker_labels = np.concatenate((train_labels[D_TARGET_SIZE:], test_labels))\n",
        "attacker_images = np.concatenate((train_images[D_TARGET_SIZE:], test_images))\n",
        "target_images = train_images[:D_TARGET_SIZE]\n",
        "target_labels = train_labels[:D_TARGET_SIZE]"
      ]
    },
    {
      "cell_type": "code",
      "execution_count": 12,
      "metadata": {
        "colab": {
          "base_uri": "https://localhost:8080/"
        },
        "id": "Ap02yKRT76RJ",
        "outputId": "f8cbf511-06ca-4d6e-e452-198a117ede9d"
      },
      "outputs": [
        {
          "output_type": "stream",
          "name": "stdout",
          "text": [
            "Epoch 1/25\n",
            "63/63 [==============================] - 2s 16ms/step - loss: 5.9607 - accuracy: 0.5740 - val_loss: 0.6591 - val_accuracy: 0.8220\n",
            "Epoch 2/25\n",
            "63/63 [==============================] - 1s 10ms/step - loss: 0.3382 - accuracy: 0.9000 - val_loss: 0.3604 - val_accuracy: 0.9020\n",
            "Epoch 3/25\n",
            "63/63 [==============================] - 1s 11ms/step - loss: 0.1106 - accuracy: 0.9680 - val_loss: 0.3344 - val_accuracy: 0.8940\n",
            "Epoch 4/25\n",
            "63/63 [==============================] - 1s 10ms/step - loss: 0.0407 - accuracy: 0.9905 - val_loss: 0.3497 - val_accuracy: 0.9020\n",
            "Epoch 5/25\n",
            "63/63 [==============================] - 1s 11ms/step - loss: 0.0201 - accuracy: 0.9960 - val_loss: 0.2844 - val_accuracy: 0.9280\n",
            "Epoch 6/25\n",
            "63/63 [==============================] - 1s 14ms/step - loss: 0.0123 - accuracy: 0.9975 - val_loss: 0.2929 - val_accuracy: 0.9280\n",
            "Epoch 7/25\n",
            "63/63 [==============================] - 1s 9ms/step - loss: 0.0056 - accuracy: 1.0000 - val_loss: 0.2875 - val_accuracy: 0.9340\n",
            "Epoch 8/25\n",
            "63/63 [==============================] - 0s 7ms/step - loss: 0.0017 - accuracy: 1.0000 - val_loss: 0.2791 - val_accuracy: 0.9320\n",
            "Epoch 9/25\n",
            "63/63 [==============================] - 0s 7ms/step - loss: 9.6240e-04 - accuracy: 1.0000 - val_loss: 0.2877 - val_accuracy: 0.9300\n",
            "Epoch 10/25\n",
            "63/63 [==============================] - 0s 7ms/step - loss: 6.9150e-04 - accuracy: 1.0000 - val_loss: 0.2986 - val_accuracy: 0.9320\n",
            "Epoch 11/25\n",
            "63/63 [==============================] - 0s 7ms/step - loss: 5.2446e-04 - accuracy: 1.0000 - val_loss: 0.3016 - val_accuracy: 0.9340\n",
            "Epoch 12/25\n",
            "63/63 [==============================] - 0s 7ms/step - loss: 4.1367e-04 - accuracy: 1.0000 - val_loss: 0.3007 - val_accuracy: 0.9380\n",
            "Epoch 13/25\n",
            "63/63 [==============================] - 0s 7ms/step - loss: 3.4744e-04 - accuracy: 1.0000 - val_loss: 0.3044 - val_accuracy: 0.9380\n",
            "Epoch 14/25\n",
            "63/63 [==============================] - 0s 7ms/step - loss: 2.9840e-04 - accuracy: 1.0000 - val_loss: 0.3064 - val_accuracy: 0.9380\n",
            "Epoch 15/25\n",
            "63/63 [==============================] - 0s 7ms/step - loss: 2.6105e-04 - accuracy: 1.0000 - val_loss: 0.3072 - val_accuracy: 0.9340\n",
            "Epoch 16/25\n",
            "63/63 [==============================] - 0s 7ms/step - loss: 2.2993e-04 - accuracy: 1.0000 - val_loss: 0.3096 - val_accuracy: 0.9340\n",
            "Epoch 17/25\n",
            "63/63 [==============================] - 0s 7ms/step - loss: 2.0501e-04 - accuracy: 1.0000 - val_loss: 0.3120 - val_accuracy: 0.9320\n",
            "Epoch 18/25\n",
            "63/63 [==============================] - 0s 7ms/step - loss: 1.8389e-04 - accuracy: 1.0000 - val_loss: 0.3138 - val_accuracy: 0.9320\n",
            "Epoch 19/25\n",
            "63/63 [==============================] - 0s 7ms/step - loss: 1.6570e-04 - accuracy: 1.0000 - val_loss: 0.3146 - val_accuracy: 0.9320\n",
            "Epoch 20/25\n",
            "63/63 [==============================] - 0s 7ms/step - loss: 1.4849e-04 - accuracy: 1.0000 - val_loss: 0.3167 - val_accuracy: 0.9320\n",
            "Epoch 21/25\n",
            "63/63 [==============================] - 0s 7ms/step - loss: 1.3351e-04 - accuracy: 1.0000 - val_loss: 0.3157 - val_accuracy: 0.9320\n",
            "Epoch 22/25\n",
            "63/63 [==============================] - 0s 7ms/step - loss: 1.2101e-04 - accuracy: 1.0000 - val_loss: 0.3176 - val_accuracy: 0.9320\n",
            "Epoch 23/25\n",
            "63/63 [==============================] - 0s 7ms/step - loss: 1.0888e-04 - accuracy: 1.0000 - val_loss: 0.3160 - val_accuracy: 0.9340\n",
            "Epoch 24/25\n",
            "63/63 [==============================] - 0s 7ms/step - loss: 9.8018e-05 - accuracy: 1.0000 - val_loss: 0.3171 - val_accuracy: 0.9340\n",
            "Epoch 25/25\n",
            "63/63 [==============================] - 0s 7ms/step - loss: 8.8026e-05 - accuracy: 1.0000 - val_loss: 0.3179 - val_accuracy: 0.9340\n"
          ]
        }
      ],
      "source": [
        "train_images, eval_images, train_labels, eval_labels = train_test_split(target_images, target_labels, test_size=0.2, shuffle=True)\n",
        "target_model = f_target(train_images, train_labels, eval_images, eval_labels, epochs=25) "
      ]
    },
    {
      "cell_type": "markdown",
      "metadata": {
        "id": "l--0MCg-elRq"
      },
      "source": [
        "### Perturbed Instance Behaviour\n",
        "\n",
        "Following we will apply some perturbations to data instances from in and out of $D_{target}$ and we will count how the predicted label change in respect to this perturbations, according to each class."
      ]
    },
    {
      "cell_type": "markdown",
      "metadata": {
        "id": "-H0PYHLFrWJ1"
      },
      "source": [
        "\n",
        "\n",
        "## Shadow Models\n",
        "Following we define our own shadow models\n",
        "\n",
        "### Shadow Model Architecture\n",
        "- 3 CNN layers of $32, 64, 128$ filters of size $3 \\times 3$ with MaxPooling and ReLU activation\n",
        "- Dense Layer of 128 nodes\n",
        "- Dense Layer of 10 nodes as Output layer\n",
        "\n",
        "All output logits pass through Softmax Unit as in the target model to acquire probability vectors\n",
        "\n",
        "\n",
        "\n",
        "### Shadow Dataset Composition\n",
        "\n",
        "We just divide the CIFAR-10 dataset to $D_{out}$ and $D_{train}$ such as $D_{train} \\cap D_{out} = \\varnothing$ and use $D_{out}$ in order to train/test shadow models and attack model."
      ]
    },
    {
      "cell_type": "code",
      "execution_count": 14,
      "metadata": {
        "id": "2GWyCXmmwIiJ"
      },
      "outputs": [],
      "source": [
        "N_SHADOWS = 5\n",
        "D_SHADOW_SIZE = 1000"
      ]
    },
    {
      "cell_type": "code",
      "execution_count": 16,
      "metadata": {
        "id": "2rwhySHfVQjV"
      },
      "outputs": [],
      "source": [
        "def f_shadow():\n",
        "  model = models.Sequential()\n",
        "  model.add(layers.Conv2D(32, (3, 3), activation='tanh', input_shape=(28, 28, 1)))\n",
        "  model.add(layers.MaxPooling2D((2, 2)))\n",
        "  \n",
        "  model.add(layers.Flatten())\n",
        "  model.add(layers.Dense(32, activation='tanh'))\n",
        "\n",
        "  model.add(layers.Dense(10))\n",
        "  \n",
        "  optimizer = keras.optimizers.Adam()\n",
        "  model.compile(optimizer=optimizer,\n",
        "              loss=tf.keras.losses.SparseCategoricalCrossentropy(from_logits=True),\n",
        "              metrics=['accuracy'])\n",
        "  return model"
      ]
    },
    {
      "cell_type": "code",
      "execution_count": 17,
      "metadata": {
        "id": "sliyw7xO2PTg"
      },
      "outputs": [],
      "source": [
        "def create_shadows(D_shadows):\n",
        "  shadow_models_batch = ShadowModelBatch(len(D_shadows), f_shadow) # shadow model list\n",
        "  shadow_models_batch.fit_all(D_shadows, epochs=25)\n",
        "  return shadow_models_batch # return a list where every item is (model, acc), train-data, test-data"
      ]
    },
    {
      "cell_type": "code",
      "execution_count": 18,
      "metadata": {
        "id": "q3ziH9LP3CY5"
      },
      "outputs": [],
      "source": [
        "# generate shadow datasets\n",
        "D_shadows = generate_shadow_dataset(target_model, N_SHADOWS, D_SHADOW_SIZE, 10, attacker_images, attacker_labels)"
      ]
    },
    {
      "cell_type": "code",
      "execution_count": 19,
      "metadata": {
        "colab": {
          "base_uri": "https://localhost:8080/"
        },
        "id": "8dc8morl-NRP",
        "outputId": "ccf7b216-bdc5-4077-db1b-382175534982"
      },
      "outputs": [
        {
          "output_type": "stream",
          "name": "stdout",
          "text": [
            "Epoch 1/25\n",
            "21/21 [==============================] - 1s 17ms/step - loss: 1.2430 - accuracy: 0.6045 - val_loss: 0.8319 - val_accuracy: 0.7788\n",
            "Epoch 2/25\n",
            "21/21 [==============================] - 0s 9ms/step - loss: 0.4951 - accuracy: 0.8851 - val_loss: 0.6166 - val_accuracy: 0.8424\n",
            "Epoch 3/25\n",
            "21/21 [==============================] - 0s 10ms/step - loss: 0.2731 - accuracy: 0.9657 - val_loss: 0.5697 - val_accuracy: 0.8545\n",
            "Epoch 4/25\n",
            "21/21 [==============================] - 0s 9ms/step - loss: 0.1735 - accuracy: 0.9851 - val_loss: 0.4936 - val_accuracy: 0.8727\n",
            "Epoch 5/25\n",
            "21/21 [==============================] - 0s 9ms/step - loss: 0.1197 - accuracy: 0.9955 - val_loss: 0.4680 - val_accuracy: 0.8848\n",
            "Epoch 6/25\n",
            "21/21 [==============================] - 0s 7ms/step - loss: 0.0890 - accuracy: 0.9985 - val_loss: 0.4638 - val_accuracy: 0.8818\n",
            "Epoch 7/25\n",
            "21/21 [==============================] - 0s 9ms/step - loss: 0.0693 - accuracy: 0.9985 - val_loss: 0.4537 - val_accuracy: 0.8848\n",
            "Epoch 8/25\n",
            "21/21 [==============================] - 0s 7ms/step - loss: 0.0561 - accuracy: 1.0000 - val_loss: 0.4505 - val_accuracy: 0.8788\n",
            "Epoch 9/25\n",
            "21/21 [==============================] - 0s 9ms/step - loss: 0.0467 - accuracy: 1.0000 - val_loss: 0.4409 - val_accuracy: 0.8818\n",
            "Epoch 10/25\n",
            "21/21 [==============================] - 0s 8ms/step - loss: 0.0395 - accuracy: 1.0000 - val_loss: 0.4350 - val_accuracy: 0.8758\n",
            "Epoch 11/25\n",
            "21/21 [==============================] - 0s 8ms/step - loss: 0.0342 - accuracy: 1.0000 - val_loss: 0.4381 - val_accuracy: 0.8788\n",
            "Epoch 12/25\n",
            "21/21 [==============================] - 0s 7ms/step - loss: 0.0295 - accuracy: 1.0000 - val_loss: 0.4319 - val_accuracy: 0.8818\n",
            "Epoch 13/25\n",
            "21/21 [==============================] - 0s 7ms/step - loss: 0.0260 - accuracy: 1.0000 - val_loss: 0.4276 - val_accuracy: 0.8788\n",
            "Epoch 14/25\n",
            "21/21 [==============================] - 0s 9ms/step - loss: 0.0232 - accuracy: 1.0000 - val_loss: 0.4299 - val_accuracy: 0.8758\n",
            "Epoch 15/25\n",
            "21/21 [==============================] - 0s 9ms/step - loss: 0.0210 - accuracy: 1.0000 - val_loss: 0.4245 - val_accuracy: 0.8758\n",
            "Epoch 16/25\n",
            "21/21 [==============================] - 0s 9ms/step - loss: 0.0191 - accuracy: 1.0000 - val_loss: 0.4315 - val_accuracy: 0.8758\n",
            "Epoch 17/25\n",
            "21/21 [==============================] - 0s 8ms/step - loss: 0.0175 - accuracy: 1.0000 - val_loss: 0.4290 - val_accuracy: 0.8727\n",
            "Epoch 18/25\n",
            "21/21 [==============================] - 0s 9ms/step - loss: 0.0162 - accuracy: 1.0000 - val_loss: 0.4292 - val_accuracy: 0.8697\n",
            "Epoch 19/25\n",
            "21/21 [==============================] - 0s 9ms/step - loss: 0.0149 - accuracy: 1.0000 - val_loss: 0.4291 - val_accuracy: 0.8667\n",
            "Epoch 20/25\n",
            "21/21 [==============================] - 0s 9ms/step - loss: 0.0138 - accuracy: 1.0000 - val_loss: 0.4290 - val_accuracy: 0.8697\n",
            "Epoch 21/25\n",
            "21/21 [==============================] - 0s 9ms/step - loss: 0.0129 - accuracy: 1.0000 - val_loss: 0.4289 - val_accuracy: 0.8667\n",
            "Epoch 22/25\n",
            "21/21 [==============================] - 0s 10ms/step - loss: 0.0120 - accuracy: 1.0000 - val_loss: 0.4317 - val_accuracy: 0.8667\n",
            "Epoch 23/25\n",
            "21/21 [==============================] - 0s 9ms/step - loss: 0.0113 - accuracy: 1.0000 - val_loss: 0.4306 - val_accuracy: 0.8667\n",
            "Epoch 24/25\n",
            "21/21 [==============================] - 0s 8ms/step - loss: 0.0106 - accuracy: 1.0000 - val_loss: 0.4325 - val_accuracy: 0.8667\n",
            "Epoch 25/25\n",
            "21/21 [==============================] - 0s 7ms/step - loss: 0.0100 - accuracy: 1.0000 - val_loss: 0.4338 - val_accuracy: 0.8667\n",
            "Epoch 1/25\n",
            "21/21 [==============================] - 1s 14ms/step - loss: 1.2391 - accuracy: 0.6179 - val_loss: 0.6843 - val_accuracy: 0.8424\n",
            "Epoch 2/25\n",
            "21/21 [==============================] - 0s 7ms/step - loss: 0.4755 - accuracy: 0.9015 - val_loss: 0.5392 - val_accuracy: 0.8485\n",
            "Epoch 3/25\n",
            "21/21 [==============================] - 0s 8ms/step - loss: 0.2873 - accuracy: 0.9507 - val_loss: 0.4163 - val_accuracy: 0.9000\n",
            "Epoch 4/25\n",
            "21/21 [==============================] - 0s 7ms/step - loss: 0.1854 - accuracy: 0.9806 - val_loss: 0.3965 - val_accuracy: 0.8909\n",
            "Epoch 5/25\n",
            "21/21 [==============================] - 0s 9ms/step - loss: 0.1329 - accuracy: 0.9881 - val_loss: 0.3715 - val_accuracy: 0.9061\n",
            "Epoch 6/25\n",
            "21/21 [==============================] - 0s 7ms/step - loss: 0.0992 - accuracy: 0.9955 - val_loss: 0.3723 - val_accuracy: 0.9091\n",
            "Epoch 7/25\n",
            "21/21 [==============================] - 0s 7ms/step - loss: 0.0784 - accuracy: 0.9955 - val_loss: 0.3494 - val_accuracy: 0.9061\n",
            "Epoch 8/25\n",
            "21/21 [==============================] - 0s 9ms/step - loss: 0.0633 - accuracy: 1.0000 - val_loss: 0.3462 - val_accuracy: 0.9030\n",
            "Epoch 9/25\n",
            "21/21 [==============================] - 0s 9ms/step - loss: 0.0530 - accuracy: 1.0000 - val_loss: 0.3409 - val_accuracy: 0.9030\n",
            "Epoch 10/25\n",
            "21/21 [==============================] - 0s 7ms/step - loss: 0.0454 - accuracy: 1.0000 - val_loss: 0.3283 - val_accuracy: 0.9061\n",
            "Epoch 11/25\n",
            "21/21 [==============================] - 0s 8ms/step - loss: 0.0396 - accuracy: 1.0000 - val_loss: 0.3271 - val_accuracy: 0.9061\n",
            "Epoch 12/25\n",
            "21/21 [==============================] - 0s 7ms/step - loss: 0.0351 - accuracy: 1.0000 - val_loss: 0.3287 - val_accuracy: 0.9061\n",
            "Epoch 13/25\n",
            "21/21 [==============================] - 0s 8ms/step - loss: 0.0314 - accuracy: 1.0000 - val_loss: 0.3226 - val_accuracy: 0.9030\n",
            "Epoch 14/25\n",
            "21/21 [==============================] - 0s 9ms/step - loss: 0.0280 - accuracy: 1.0000 - val_loss: 0.3222 - val_accuracy: 0.9061\n",
            "Epoch 15/25\n",
            "21/21 [==============================] - 0s 9ms/step - loss: 0.0254 - accuracy: 1.0000 - val_loss: 0.3210 - val_accuracy: 0.9000\n",
            "Epoch 16/25\n",
            "21/21 [==============================] - 0s 7ms/step - loss: 0.0232 - accuracy: 1.0000 - val_loss: 0.3202 - val_accuracy: 0.9061\n",
            "Epoch 17/25\n",
            "21/21 [==============================] - 0s 9ms/step - loss: 0.0212 - accuracy: 1.0000 - val_loss: 0.3211 - val_accuracy: 0.9030\n",
            "Epoch 18/25\n",
            "21/21 [==============================] - 0s 7ms/step - loss: 0.0195 - accuracy: 1.0000 - val_loss: 0.3189 - val_accuracy: 0.9030\n",
            "Epoch 19/25\n",
            "21/21 [==============================] - 0s 9ms/step - loss: 0.0178 - accuracy: 1.0000 - val_loss: 0.3193 - val_accuracy: 0.9000\n",
            "Epoch 20/25\n",
            "21/21 [==============================] - 0s 7ms/step - loss: 0.0164 - accuracy: 1.0000 - val_loss: 0.3172 - val_accuracy: 0.9000\n",
            "Epoch 21/25\n",
            "21/21 [==============================] - 0s 9ms/step - loss: 0.0151 - accuracy: 1.0000 - val_loss: 0.3168 - val_accuracy: 0.9000\n",
            "Epoch 22/25\n",
            "21/21 [==============================] - 0s 9ms/step - loss: 0.0139 - accuracy: 1.0000 - val_loss: 0.3170 - val_accuracy: 0.9030\n",
            "Epoch 23/25\n",
            "21/21 [==============================] - 0s 9ms/step - loss: 0.0129 - accuracy: 1.0000 - val_loss: 0.3169 - val_accuracy: 0.9000\n",
            "Epoch 24/25\n",
            "21/21 [==============================] - 0s 9ms/step - loss: 0.0121 - accuracy: 1.0000 - val_loss: 0.3172 - val_accuracy: 0.9030\n",
            "Epoch 25/25\n",
            "21/21 [==============================] - 0s 9ms/step - loss: 0.0114 - accuracy: 1.0000 - val_loss: 0.3181 - val_accuracy: 0.9030\n",
            "Epoch 1/25\n",
            "21/21 [==============================] - 1s 14ms/step - loss: 1.1697 - accuracy: 0.6269 - val_loss: 0.6695 - val_accuracy: 0.8303\n",
            "Epoch 2/25\n",
            "21/21 [==============================] - 0s 8ms/step - loss: 0.4045 - accuracy: 0.9000 - val_loss: 0.5737 - val_accuracy: 0.8242\n",
            "Epoch 3/25\n",
            "21/21 [==============================] - 0s 9ms/step - loss: 0.2240 - accuracy: 0.9642 - val_loss: 0.5070 - val_accuracy: 0.8515\n",
            "Epoch 4/25\n",
            "21/21 [==============================] - 0s 10ms/step - loss: 0.1354 - accuracy: 0.9925 - val_loss: 0.4876 - val_accuracy: 0.8485\n",
            "Epoch 5/25\n",
            "21/21 [==============================] - 0s 7ms/step - loss: 0.0937 - accuracy: 0.9985 - val_loss: 0.4694 - val_accuracy: 0.8576\n",
            "Epoch 6/25\n",
            "21/21 [==============================] - 0s 8ms/step - loss: 0.0707 - accuracy: 1.0000 - val_loss: 0.4605 - val_accuracy: 0.8667\n",
            "Epoch 7/25\n",
            "21/21 [==============================] - 0s 9ms/step - loss: 0.0542 - accuracy: 1.0000 - val_loss: 0.4578 - val_accuracy: 0.8667\n",
            "Epoch 8/25\n",
            "21/21 [==============================] - 0s 9ms/step - loss: 0.0445 - accuracy: 1.0000 - val_loss: 0.4531 - val_accuracy: 0.8727\n",
            "Epoch 9/25\n",
            "21/21 [==============================] - 0s 7ms/step - loss: 0.0378 - accuracy: 1.0000 - val_loss: 0.4550 - val_accuracy: 0.8758\n",
            "Epoch 10/25\n",
            "21/21 [==============================] - 0s 10ms/step - loss: 0.0330 - accuracy: 1.0000 - val_loss: 0.4477 - val_accuracy: 0.8848\n",
            "Epoch 11/25\n",
            "21/21 [==============================] - 0s 8ms/step - loss: 0.0289 - accuracy: 1.0000 - val_loss: 0.4490 - val_accuracy: 0.8818\n",
            "Epoch 12/25\n",
            "21/21 [==============================] - 0s 7ms/step - loss: 0.0255 - accuracy: 1.0000 - val_loss: 0.4465 - val_accuracy: 0.8727\n",
            "Epoch 13/25\n",
            "21/21 [==============================] - 0s 7ms/step - loss: 0.0226 - accuracy: 1.0000 - val_loss: 0.4440 - val_accuracy: 0.8758\n",
            "Epoch 14/25\n",
            "21/21 [==============================] - 0s 9ms/step - loss: 0.0203 - accuracy: 1.0000 - val_loss: 0.4447 - val_accuracy: 0.8727\n",
            "Epoch 15/25\n",
            "21/21 [==============================] - 0s 9ms/step - loss: 0.0184 - accuracy: 1.0000 - val_loss: 0.4443 - val_accuracy: 0.8697\n",
            "Epoch 16/25\n",
            "21/21 [==============================] - 0s 9ms/step - loss: 0.0166 - accuracy: 1.0000 - val_loss: 0.4449 - val_accuracy: 0.8758\n",
            "Epoch 17/25\n",
            "21/21 [==============================] - 0s 8ms/step - loss: 0.0152 - accuracy: 1.0000 - val_loss: 0.4418 - val_accuracy: 0.8818\n",
            "Epoch 18/25\n",
            "21/21 [==============================] - 0s 8ms/step - loss: 0.0140 - accuracy: 1.0000 - val_loss: 0.4427 - val_accuracy: 0.8727\n",
            "Epoch 19/25\n",
            "21/21 [==============================] - 0s 8ms/step - loss: 0.0129 - accuracy: 1.0000 - val_loss: 0.4426 - val_accuracy: 0.8727\n",
            "Epoch 20/25\n",
            "21/21 [==============================] - 0s 9ms/step - loss: 0.0119 - accuracy: 1.0000 - val_loss: 0.4433 - val_accuracy: 0.8697\n",
            "Epoch 21/25\n",
            "21/21 [==============================] - 0s 10ms/step - loss: 0.0111 - accuracy: 1.0000 - val_loss: 0.4430 - val_accuracy: 0.8727\n",
            "Epoch 22/25\n",
            "21/21 [==============================] - 0s 7ms/step - loss: 0.0103 - accuracy: 1.0000 - val_loss: 0.4433 - val_accuracy: 0.8727\n",
            "Epoch 23/25\n",
            "21/21 [==============================] - 0s 7ms/step - loss: 0.0096 - accuracy: 1.0000 - val_loss: 0.4427 - val_accuracy: 0.8788\n",
            "Epoch 24/25\n",
            "21/21 [==============================] - 0s 9ms/step - loss: 0.0089 - accuracy: 1.0000 - val_loss: 0.4433 - val_accuracy: 0.8758\n",
            "Epoch 25/25\n",
            "21/21 [==============================] - 0s 9ms/step - loss: 0.0084 - accuracy: 1.0000 - val_loss: 0.4447 - val_accuracy: 0.8788\n",
            "Epoch 1/25\n",
            "21/21 [==============================] - 1s 15ms/step - loss: 1.2494 - accuracy: 0.5910 - val_loss: 0.7890 - val_accuracy: 0.7515\n",
            "Epoch 2/25\n",
            "21/21 [==============================] - 0s 10ms/step - loss: 0.4786 - accuracy: 0.8925 - val_loss: 0.6033 - val_accuracy: 0.8545\n",
            "Epoch 3/25\n",
            "21/21 [==============================] - 0s 9ms/step - loss: 0.2869 - accuracy: 0.9672 - val_loss: 0.4761 - val_accuracy: 0.8939\n",
            "Epoch 4/25\n",
            "21/21 [==============================] - 0s 9ms/step - loss: 0.1848 - accuracy: 0.9955 - val_loss: 0.4426 - val_accuracy: 0.8970\n",
            "Epoch 5/25\n",
            "21/21 [==============================] - 0s 7ms/step - loss: 0.1301 - accuracy: 0.9985 - val_loss: 0.4046 - val_accuracy: 0.9000\n",
            "Epoch 6/25\n",
            "21/21 [==============================] - 0s 7ms/step - loss: 0.0986 - accuracy: 1.0000 - val_loss: 0.3855 - val_accuracy: 0.9091\n",
            "Epoch 7/25\n",
            "21/21 [==============================] - 0s 7ms/step - loss: 0.0774 - accuracy: 1.0000 - val_loss: 0.3636 - val_accuracy: 0.9091\n",
            "Epoch 8/25\n",
            "21/21 [==============================] - 0s 9ms/step - loss: 0.0633 - accuracy: 1.0000 - val_loss: 0.3540 - val_accuracy: 0.9061\n",
            "Epoch 9/25\n",
            "21/21 [==============================] - 0s 10ms/step - loss: 0.0530 - accuracy: 1.0000 - val_loss: 0.3499 - val_accuracy: 0.9121\n",
            "Epoch 10/25\n",
            "21/21 [==============================] - 0s 9ms/step - loss: 0.0448 - accuracy: 1.0000 - val_loss: 0.3395 - val_accuracy: 0.9000\n",
            "Epoch 11/25\n",
            "21/21 [==============================] - 0s 7ms/step - loss: 0.0383 - accuracy: 1.0000 - val_loss: 0.3323 - val_accuracy: 0.9061\n",
            "Epoch 12/25\n",
            "21/21 [==============================] - 0s 8ms/step - loss: 0.0334 - accuracy: 1.0000 - val_loss: 0.3293 - val_accuracy: 0.9091\n",
            "Epoch 13/25\n",
            "21/21 [==============================] - 0s 9ms/step - loss: 0.0297 - accuracy: 1.0000 - val_loss: 0.3252 - val_accuracy: 0.9121\n",
            "Epoch 14/25\n",
            "21/21 [==============================] - 0s 9ms/step - loss: 0.0264 - accuracy: 1.0000 - val_loss: 0.3193 - val_accuracy: 0.9061\n",
            "Epoch 15/25\n",
            "21/21 [==============================] - 0s 9ms/step - loss: 0.0234 - accuracy: 1.0000 - val_loss: 0.3153 - val_accuracy: 0.9030\n",
            "Epoch 16/25\n",
            "21/21 [==============================] - 0s 9ms/step - loss: 0.0210 - accuracy: 1.0000 - val_loss: 0.3134 - val_accuracy: 0.9061\n",
            "Epoch 17/25\n",
            "21/21 [==============================] - 0s 9ms/step - loss: 0.0192 - accuracy: 1.0000 - val_loss: 0.3100 - val_accuracy: 0.9030\n",
            "Epoch 18/25\n",
            "21/21 [==============================] - 0s 21ms/step - loss: 0.0175 - accuracy: 1.0000 - val_loss: 0.3078 - val_accuracy: 0.9091\n",
            "Epoch 19/25\n",
            "21/21 [==============================] - 0s 17ms/step - loss: 0.0161 - accuracy: 1.0000 - val_loss: 0.3069 - val_accuracy: 0.9000\n",
            "Epoch 20/25\n",
            "21/21 [==============================] - 0s 11ms/step - loss: 0.0149 - accuracy: 1.0000 - val_loss: 0.3043 - val_accuracy: 0.9030\n",
            "Epoch 21/25\n",
            "21/21 [==============================] - 0s 9ms/step - loss: 0.0138 - accuracy: 1.0000 - val_loss: 0.3035 - val_accuracy: 0.9000\n",
            "Epoch 22/25\n",
            "21/21 [==============================] - 0s 8ms/step - loss: 0.0128 - accuracy: 1.0000 - val_loss: 0.3017 - val_accuracy: 0.9030\n",
            "Epoch 23/25\n",
            "21/21 [==============================] - 0s 8ms/step - loss: 0.0119 - accuracy: 1.0000 - val_loss: 0.3000 - val_accuracy: 0.9030\n",
            "Epoch 24/25\n",
            "21/21 [==============================] - 0s 9ms/step - loss: 0.0112 - accuracy: 1.0000 - val_loss: 0.2998 - val_accuracy: 0.8970\n",
            "Epoch 25/25\n",
            "21/21 [==============================] - 0s 8ms/step - loss: 0.0104 - accuracy: 1.0000 - val_loss: 0.2978 - val_accuracy: 0.9000\n",
            "Epoch 1/25\n",
            "21/21 [==============================] - 1s 17ms/step - loss: 1.4162 - accuracy: 0.5791 - val_loss: 0.8679 - val_accuracy: 0.7758\n",
            "Epoch 2/25\n",
            "21/21 [==============================] - 0s 8ms/step - loss: 0.5716 - accuracy: 0.8731 - val_loss: 0.6491 - val_accuracy: 0.8273\n",
            "Epoch 3/25\n",
            "21/21 [==============================] - 0s 9ms/step - loss: 0.3488 - accuracy: 0.9403 - val_loss: 0.5532 - val_accuracy: 0.8424\n",
            "Epoch 4/25\n",
            "21/21 [==============================] - 0s 7ms/step - loss: 0.2242 - accuracy: 0.9821 - val_loss: 0.5147 - val_accuracy: 0.8697\n",
            "Epoch 5/25\n",
            "21/21 [==============================] - 0s 9ms/step - loss: 0.1514 - accuracy: 0.9896 - val_loss: 0.4794 - val_accuracy: 0.8545\n",
            "Epoch 6/25\n",
            "21/21 [==============================] - 0s 7ms/step - loss: 0.1101 - accuracy: 0.9955 - val_loss: 0.4590 - val_accuracy: 0.8818\n",
            "Epoch 7/25\n",
            "21/21 [==============================] - 0s 7ms/step - loss: 0.0846 - accuracy: 0.9985 - val_loss: 0.4337 - val_accuracy: 0.8788\n",
            "Epoch 8/25\n",
            "21/21 [==============================] - 0s 10ms/step - loss: 0.0676 - accuracy: 1.0000 - val_loss: 0.4409 - val_accuracy: 0.8697\n",
            "Epoch 9/25\n",
            "21/21 [==============================] - 0s 10ms/step - loss: 0.0558 - accuracy: 1.0000 - val_loss: 0.4243 - val_accuracy: 0.8818\n",
            "Epoch 10/25\n",
            "21/21 [==============================] - 0s 7ms/step - loss: 0.0474 - accuracy: 1.0000 - val_loss: 0.4296 - val_accuracy: 0.8697\n",
            "Epoch 11/25\n",
            "21/21 [==============================] - 0s 7ms/step - loss: 0.0412 - accuracy: 1.0000 - val_loss: 0.4205 - val_accuracy: 0.8788\n",
            "Epoch 12/25\n",
            "21/21 [==============================] - 0s 7ms/step - loss: 0.0362 - accuracy: 1.0000 - val_loss: 0.4221 - val_accuracy: 0.8727\n",
            "Epoch 13/25\n",
            "21/21 [==============================] - 0s 9ms/step - loss: 0.0320 - accuracy: 1.0000 - val_loss: 0.4157 - val_accuracy: 0.8758\n",
            "Epoch 14/25\n",
            "21/21 [==============================] - 0s 7ms/step - loss: 0.0288 - accuracy: 1.0000 - val_loss: 0.4147 - val_accuracy: 0.8727\n",
            "Epoch 15/25\n",
            "21/21 [==============================] - 0s 9ms/step - loss: 0.0261 - accuracy: 1.0000 - val_loss: 0.4139 - val_accuracy: 0.8727\n",
            "Epoch 16/25\n",
            "21/21 [==============================] - 0s 9ms/step - loss: 0.0238 - accuracy: 1.0000 - val_loss: 0.4143 - val_accuracy: 0.8697\n",
            "Epoch 17/25\n",
            "21/21 [==============================] - 0s 8ms/step - loss: 0.0218 - accuracy: 1.0000 - val_loss: 0.4170 - val_accuracy: 0.8697\n",
            "Epoch 18/25\n",
            "21/21 [==============================] - 0s 9ms/step - loss: 0.0200 - accuracy: 1.0000 - val_loss: 0.4148 - val_accuracy: 0.8758\n",
            "Epoch 19/25\n",
            "21/21 [==============================] - 0s 8ms/step - loss: 0.0185 - accuracy: 1.0000 - val_loss: 0.4144 - val_accuracy: 0.8727\n",
            "Epoch 20/25\n",
            "21/21 [==============================] - 0s 9ms/step - loss: 0.0172 - accuracy: 1.0000 - val_loss: 0.4103 - val_accuracy: 0.8758\n",
            "Epoch 21/25\n",
            "21/21 [==============================] - 0s 8ms/step - loss: 0.0160 - accuracy: 1.0000 - val_loss: 0.4124 - val_accuracy: 0.8758\n",
            "Epoch 22/25\n",
            "21/21 [==============================] - 0s 7ms/step - loss: 0.0149 - accuracy: 1.0000 - val_loss: 0.4125 - val_accuracy: 0.8758\n",
            "Epoch 23/25\n",
            "21/21 [==============================] - 0s 10ms/step - loss: 0.0139 - accuracy: 1.0000 - val_loss: 0.4121 - val_accuracy: 0.8758\n",
            "Epoch 24/25\n",
            "21/21 [==============================] - 0s 9ms/step - loss: 0.0131 - accuracy: 1.0000 - val_loss: 0.4135 - val_accuracy: 0.8758\n",
            "Epoch 25/25\n",
            "21/21 [==============================] - 0s 9ms/step - loss: 0.0122 - accuracy: 1.0000 - val_loss: 0.4145 - val_accuracy: 0.8727\n"
          ]
        }
      ],
      "source": [
        "# train the shadow models\n",
        "shadow_models = create_shadows(D_shadows)"
      ]
    },
    {
      "cell_type": "markdown",
      "metadata": {
        "id": "RJQxvjrfrfnW"
      },
      "source": [
        "## Attack Model\n",
        "\n",
        "### Attack Model Architecture\n",
        "The attack model is consisted of 1 swallow layer of 10 neurons just as proposed in Shokri et al. and in the relative label only attack paper.\n",
        "\n",
        "\n",
        "### Attack Dataset\n",
        "The attack dataset will be consisted of vectors $x_i$, s.t. $x_i$ contains:\n",
        "- real label\n",
        "- predicted label\n",
        "- bitstring of length $n'$, where $x_{ij+2}, \\; j \\in \\{1, ..., n'\\} $ will be 1 if perturbed label is same as predicted, otherwise it'll be zero.\n",
        "\n",
        "\n",
        "### Perturbed Queries for feature extraction and Attack Dataset\n",
        "\n",
        "In order to construct the actual attack dataset we have 2 perturbation functions:\n",
        "- Translate\n",
        "- Rotate\n",
        "\n",
        "that can apply the necessary augmentations in order to acquire the feature vector for a query.\n",
        "\n",
        "This works by applying all augmentations to the input X and querying the target model in order to return a binary vector $x_{attack}$ where $$x_{attack_p} = 1 \\; if \\;y_p == y_{true} \\; else \\; 0, \\forall p \\in Perturbations(X)$$\n",
        "\n",
        "where $y_p$ is the label for pertubation $p$ of input $X$."
      ]
    },
    {
      "cell_type": "code",
      "execution_count": 30,
      "metadata": {
        "id": "SrhUttNV1jR6"
      },
      "outputs": [],
      "source": [
        "r = 3 # rotate range => creating 2*r+1 rotations \n",
        "d = 1 # translate range =? creating 4*d + 1 translates"
      ]
    },
    {
      "cell_type": "code",
      "execution_count": 31,
      "metadata": {
        "id": "gnhE29HBBYGy"
      },
      "outputs": [],
      "source": [
        "# input dims = 2*r(# of rotates - neutral)  + 4*d(# of translates - neutral) + 2 (y_pred, y_true)\n",
        "attack_model = LabelOnlyAttackModel(shadow_models, 10, (2*r+4*d+2,), 'adam')"
      ]
    },
    {
      "cell_type": "code",
      "source": [
        "# provide the model with the perturbation parameters and use @prepare_batch to apply them and \n",
        "# return attack input instance from a picture that the model will recognise\n",
        "attack_model.fit(r, d, epochs=50)"
      ],
      "metadata": {
        "colab": {
          "base_uri": "https://localhost:8080/"
        },
        "id": "7bdgsVbiFk3B",
        "outputId": "1d25ff2e-3b04-4d77-b652-5d1ed09b0cae"
      },
      "execution_count": 32,
      "outputs": [
        {
          "output_type": "stream",
          "name": "stdout",
          "text": [
            "Preparing shadow batch of size 660\n",
            "Done!\n",
            "Preparing shadow batch of size 660\n",
            "Done!\n",
            "Preparing shadow batch of size 660\n",
            "Done!\n",
            "Preparing shadow batch of size 660\n",
            "Done!\n",
            "Preparing shadow batch of size 660\n",
            "Done!\n",
            "Epoch 1/50\n",
            "73/73 [==============================] - 1s 7ms/step - loss: 0.7551 - accuracy: 0.5035 - val_loss: 0.7236 - val_accuracy: 0.4636\n",
            "Epoch 2/50\n",
            "73/73 [==============================] - 0s 5ms/step - loss: 0.7360 - accuracy: 0.5087 - val_loss: 0.7161 - val_accuracy: 0.5374\n",
            "Epoch 3/50\n",
            "73/73 [==============================] - 0s 5ms/step - loss: 0.7262 - accuracy: 0.5411 - val_loss: 0.7093 - val_accuracy: 0.4909\n",
            "Epoch 4/50\n",
            "73/73 [==============================] - 0s 5ms/step - loss: 0.7237 - accuracy: 0.5100 - val_loss: 0.7049 - val_accuracy: 0.5273\n",
            "Epoch 5/50\n",
            "73/73 [==============================] - 0s 5ms/step - loss: 0.7162 - accuracy: 0.5221 - val_loss: 0.7064 - val_accuracy: 0.5394\n",
            "Epoch 6/50\n",
            "73/73 [==============================] - 0s 5ms/step - loss: 0.7100 - accuracy: 0.5281 - val_loss: 0.6994 - val_accuracy: 0.5495\n",
            "Epoch 7/50\n",
            "73/73 [==============================] - 0s 5ms/step - loss: 0.7060 - accuracy: 0.5407 - val_loss: 0.6982 - val_accuracy: 0.5455\n",
            "Epoch 8/50\n",
            "73/73 [==============================] - 0s 5ms/step - loss: 0.7025 - accuracy: 0.5450 - val_loss: 0.6940 - val_accuracy: 0.5162\n",
            "Epoch 9/50\n",
            "73/73 [==============================] - 0s 5ms/step - loss: 0.7022 - accuracy: 0.5260 - val_loss: 0.6923 - val_accuracy: 0.5303\n",
            "Epoch 10/50\n",
            "73/73 [==============================] - 0s 5ms/step - loss: 0.6991 - accuracy: 0.5203 - val_loss: 0.6920 - val_accuracy: 0.5576\n",
            "Epoch 11/50\n",
            "73/73 [==============================] - 0s 5ms/step - loss: 0.6970 - accuracy: 0.5346 - val_loss: 0.6906 - val_accuracy: 0.5576\n",
            "Epoch 12/50\n",
            "73/73 [==============================] - 0s 6ms/step - loss: 0.6945 - accuracy: 0.5437 - val_loss: 0.6893 - val_accuracy: 0.5121\n",
            "Epoch 13/50\n",
            "73/73 [==============================] - 0s 5ms/step - loss: 0.6952 - accuracy: 0.5225 - val_loss: 0.6869 - val_accuracy: 0.5515\n",
            "Epoch 14/50\n",
            "73/73 [==============================] - 0s 5ms/step - loss: 0.6923 - accuracy: 0.5372 - val_loss: 0.6874 - val_accuracy: 0.5556\n",
            "Epoch 15/50\n",
            "73/73 [==============================] - 0s 5ms/step - loss: 0.6915 - accuracy: 0.5372 - val_loss: 0.6879 - val_accuracy: 0.5495\n",
            "Epoch 16/50\n",
            "73/73 [==============================] - 0s 5ms/step - loss: 0.6916 - accuracy: 0.5342 - val_loss: 0.6845 - val_accuracy: 0.5525\n",
            "Epoch 17/50\n",
            "73/73 [==============================] - 0s 5ms/step - loss: 0.6900 - accuracy: 0.5437 - val_loss: 0.6838 - val_accuracy: 0.5566\n",
            "Epoch 18/50\n",
            "73/73 [==============================] - 0s 5ms/step - loss: 0.6882 - accuracy: 0.5398 - val_loss: 0.6856 - val_accuracy: 0.5566\n",
            "Epoch 19/50\n",
            "73/73 [==============================] - 0s 5ms/step - loss: 0.6863 - accuracy: 0.5593 - val_loss: 0.6829 - val_accuracy: 0.5485\n",
            "Epoch 20/50\n",
            "73/73 [==============================] - 0s 5ms/step - loss: 0.6859 - accuracy: 0.5442 - val_loss: 0.6839 - val_accuracy: 0.5626\n",
            "Epoch 21/50\n",
            "73/73 [==============================] - 0s 5ms/step - loss: 0.6867 - accuracy: 0.5481 - val_loss: 0.6843 - val_accuracy: 0.5586\n",
            "Epoch 22/50\n",
            "73/73 [==============================] - 0s 5ms/step - loss: 0.6843 - accuracy: 0.5459 - val_loss: 0.6942 - val_accuracy: 0.5343\n",
            "Epoch 23/50\n",
            "73/73 [==============================] - 0s 5ms/step - loss: 0.6847 - accuracy: 0.5550 - val_loss: 0.6802 - val_accuracy: 0.5556\n",
            "Epoch 24/50\n",
            "73/73 [==============================] - 0s 5ms/step - loss: 0.6852 - accuracy: 0.5468 - val_loss: 0.6798 - val_accuracy: 0.5768\n",
            "Epoch 25/50\n",
            "73/73 [==============================] - 0s 5ms/step - loss: 0.6835 - accuracy: 0.5498 - val_loss: 0.6825 - val_accuracy: 0.5606\n",
            "Epoch 26/50\n",
            "73/73 [==============================] - 0s 5ms/step - loss: 0.6836 - accuracy: 0.5420 - val_loss: 0.6816 - val_accuracy: 0.5616\n",
            "Epoch 27/50\n",
            "73/73 [==============================] - 0s 5ms/step - loss: 0.6826 - accuracy: 0.5524 - val_loss: 0.6788 - val_accuracy: 0.5707\n",
            "Epoch 28/50\n",
            "73/73 [==============================] - 0s 5ms/step - loss: 0.6819 - accuracy: 0.5437 - val_loss: 0.6781 - val_accuracy: 0.5808\n",
            "Epoch 29/50\n",
            "73/73 [==============================] - 0s 5ms/step - loss: 0.6807 - accuracy: 0.5580 - val_loss: 0.6788 - val_accuracy: 0.5697\n",
            "Epoch 30/50\n",
            "73/73 [==============================] - 0s 6ms/step - loss: 0.6804 - accuracy: 0.5537 - val_loss: 0.6769 - val_accuracy: 0.5747\n",
            "Epoch 31/50\n",
            "73/73 [==============================] - 0s 5ms/step - loss: 0.6822 - accuracy: 0.5524 - val_loss: 0.6794 - val_accuracy: 0.5667\n",
            "Epoch 32/50\n",
            "73/73 [==============================] - 0s 5ms/step - loss: 0.6803 - accuracy: 0.5545 - val_loss: 0.6761 - val_accuracy: 0.5737\n",
            "Epoch 33/50\n",
            "73/73 [==============================] - 0s 5ms/step - loss: 0.6795 - accuracy: 0.5619 - val_loss: 0.6757 - val_accuracy: 0.5657\n",
            "Epoch 34/50\n",
            "73/73 [==============================] - 0s 5ms/step - loss: 0.6785 - accuracy: 0.5658 - val_loss: 0.6755 - val_accuracy: 0.5677\n",
            "Epoch 35/50\n",
            "73/73 [==============================] - 0s 6ms/step - loss: 0.6788 - accuracy: 0.5597 - val_loss: 0.6797 - val_accuracy: 0.5667\n",
            "Epoch 36/50\n",
            "73/73 [==============================] - 0s 5ms/step - loss: 0.6783 - accuracy: 0.5576 - val_loss: 0.6767 - val_accuracy: 0.5697\n",
            "Epoch 37/50\n",
            "73/73 [==============================] - 0s 5ms/step - loss: 0.6783 - accuracy: 0.5532 - val_loss: 0.6744 - val_accuracy: 0.5687\n",
            "Epoch 38/50\n",
            "73/73 [==============================] - 0s 5ms/step - loss: 0.6798 - accuracy: 0.5463 - val_loss: 0.6762 - val_accuracy: 0.5707\n",
            "Epoch 39/50\n",
            "73/73 [==============================] - 0s 5ms/step - loss: 0.6772 - accuracy: 0.5649 - val_loss: 0.6748 - val_accuracy: 0.5798\n",
            "Epoch 40/50\n",
            "73/73 [==============================] - 0s 5ms/step - loss: 0.6761 - accuracy: 0.5667 - val_loss: 0.6751 - val_accuracy: 0.5697\n",
            "Epoch 41/50\n",
            "73/73 [==============================] - 0s 6ms/step - loss: 0.6759 - accuracy: 0.5610 - val_loss: 0.6735 - val_accuracy: 0.5768\n",
            "Epoch 42/50\n",
            "73/73 [==============================] - 0s 5ms/step - loss: 0.6757 - accuracy: 0.5645 - val_loss: 0.6725 - val_accuracy: 0.5667\n",
            "Epoch 43/50\n",
            "73/73 [==============================] - 0s 5ms/step - loss: 0.6751 - accuracy: 0.5623 - val_loss: 0.6788 - val_accuracy: 0.5616\n",
            "Epoch 44/50\n",
            "73/73 [==============================] - 0s 5ms/step - loss: 0.6764 - accuracy: 0.5662 - val_loss: 0.6719 - val_accuracy: 0.5717\n",
            "Epoch 45/50\n",
            "73/73 [==============================] - 0s 5ms/step - loss: 0.6746 - accuracy: 0.5671 - val_loss: 0.6715 - val_accuracy: 0.5747\n",
            "Epoch 46/50\n",
            "73/73 [==============================] - 0s 5ms/step - loss: 0.6746 - accuracy: 0.5597 - val_loss: 0.6716 - val_accuracy: 0.5778\n",
            "Epoch 47/50\n",
            "73/73 [==============================] - 0s 5ms/step - loss: 0.6736 - accuracy: 0.5680 - val_loss: 0.6761 - val_accuracy: 0.5687\n",
            "Epoch 48/50\n",
            "73/73 [==============================] - 0s 5ms/step - loss: 0.6742 - accuracy: 0.5636 - val_loss: 0.6727 - val_accuracy: 0.5717\n",
            "Epoch 49/50\n",
            "73/73 [==============================] - 0s 5ms/step - loss: 0.6728 - accuracy: 0.5671 - val_loss: 0.6705 - val_accuracy: 0.5657\n",
            "Epoch 50/50\n",
            "73/73 [==============================] - 0s 6ms/step - loss: 0.6734 - accuracy: 0.5602 - val_loss: 0.6701 - val_accuracy: 0.5768\n"
          ]
        }
      ]
    },
    {
      "cell_type": "markdown",
      "metadata": {
        "id": "pTAveNFNrvrX"
      },
      "source": [
        "## Attack Evaluation\n",
        "\n",
        "Use prepare batch to transform the evaluation dataset and give it to the model.\n",
        "\n",
        "If previously fitted prepare batch will already have a value for $r$ and $d$ of pertubations, otherwise the user might set them with the following snippet."
      ]
    },
    {
      "cell_type": "code",
      "source": [
        "# attack_model.r = 2\n",
        "# attack_model.d = 1"
      ],
      "metadata": {
        "id": "yHeNGGZ8yzpi"
      },
      "execution_count": 33,
      "outputs": []
    },
    {
      "cell_type": "code",
      "execution_count": 34,
      "metadata": {
        "id": "g9GxZE5Yntpw"
      },
      "outputs": [],
      "source": [
        "D_in = attack_model.prepare_batch(target_model, train_images[:500], train_labels[:500], True)"
      ]
    },
    {
      "cell_type": "code",
      "source": [
        "D_out = attack_model.prepare_batch(target_model, attacker_images[:500], attacker_labels[:500], False)"
      ],
      "metadata": {
        "id": "GCPLb3aXIu2V"
      },
      "execution_count": 35,
      "outputs": []
    },
    {
      "cell_type": "code",
      "execution_count": 36,
      "metadata": {
        "id": "8wDNdLqnnyVp",
        "colab": {
          "base_uri": "https://localhost:8080/",
          "height": 612
        },
        "outputId": "b41ab6ca-7475-4e36-960e-28f20f8e63d5"
      },
      "outputs": [
        {
          "output_type": "stream",
          "name": "stdout",
          "text": [
            "class-1 acc: 0.5208333134651184\n",
            "class-2 acc: 0.4909090995788574\n",
            "class-3 acc: 0.6145833134651184\n",
            "class-4 acc: 0.4545454680919647\n",
            "class-5 acc: 0.5098039507865906\n",
            "class-6 acc: 0.5\n",
            "class-7 acc: 0.48695650696754456\n",
            "class-8 acc: 0.5744680762290955\n",
            "class-9 acc: 0.5473684072494507\n",
            "class-10 acc: 0.5567010045051575\n",
            "              precision    recall  f1-score   support\n",
            "\n",
            "         0.0       0.58      0.18      0.27       500\n",
            "         1.0       0.51      0.87      0.65       500\n",
            "\n",
            "    accuracy                           0.52      1000\n",
            "   macro avg       0.55      0.52      0.46      1000\n",
            "weighted avg       0.55      0.52      0.46      1000\n",
            "\n",
            "AUC: 0.5144040000000001\n"
          ]
        },
        {
          "output_type": "display_data",
          "data": {
            "image/png": "[encoded data removed]",
            "text/plain": [
              "<Figure size 432x288 with 1 Axes>"
            ]
          },
          "metadata": {
            "needs_background": "light"
          }
        }
      ],
      "source": [
        "attack_model.evaluate(np.concatenate((D_out[:, :-1], D_in[:, :-1])),  np.concatenate((D_out[:, -1], D_in[:, -1])), 10)"
      ]
    },
    {
      "cell_type": "markdown",
      "metadata": {
        "id": "8grjprA4PmE7"
      },
      "source": [
        "# Extras"
      ]
    },
    {
      "cell_type": "markdown",
      "metadata": {
        "id": "w9g2jus3rP1j"
      },
      "source": [
        "## Check target model's behaviour in perturbed images"
      ]
    },
    {
      "cell_type": "code",
      "execution_count": 37,
      "metadata": {
        "id": "sD5YbfusfCob"
      },
      "outputs": [],
      "source": [
        "def study_perturbations(model, X, y, rs, ts):\n",
        "  diffs = []\n",
        "  y_pred = target_predict(model, X)    \n",
        "  for c in range(10):\n",
        "    #  given class acquire the changes in perturbed input instances given the model\n",
        "    idx = y_pred[:, 0] == c\n",
        "    X_c = X[idx]\n",
        "    y_pred_c = y_pred[idx]\n",
        "    perturbed_labels = augmented_queries(model, X_c, y_pred_c, rs, ts)\n",
        "    # Now we have to count how many labels diverge from the predicted label\n",
        "    diff = len(perturbed_labels.reshape(-1)) - sum(perturbed_labels.reshape(-1)) # the labels are binary where 1 == y_pred = y_perturbed, otherwise 0\n",
        "    diffs.append(int(100 * diff/len(perturbed_labels.reshape(-1)))) # append the percentage of changes in the class sample\n",
        "    \n",
        "  return diffs "
      ]
    },
    {
      "cell_type": "code",
      "execution_count": 38,
      "metadata": {
        "id": "w-0sJVhfbfQ3"
      },
      "outputs": [],
      "source": [
        "N_SAMPLES = 100\n",
        "train_idx = np.random.choice(range(train_images.shape[0]), N_SAMPLES, replace=False)\n",
        "test_idx = np.random.choice(range(attacker_images.shape[0]), N_SAMPLES, replace=False)"
      ]
    },
    {
      "cell_type": "code",
      "execution_count": 39,
      "metadata": {
        "id": "dpYCPdS0EA-p",
        "colab": {
          "base_uri": "https://localhost:8080/",
          "height": 1000
        },
        "outputId": "f5d33f36-634b-4ba0-c9d2-7e3b4fd1b139"
      },
      "outputs": [
        {
          "output_type": "execute_result",
          "data": {
            "text/plain": [
              "[<matplotlib.axis.XTick at 0x7f6caca12b50>,\n",
              " <matplotlib.axis.XTick at 0x7f6caca12ad0>,\n",
              " <matplotlib.axis.XTick at 0x7f6cacc155d0>,\n",
              " <matplotlib.axis.XTick at 0x7f6cb56d7650>,\n",
              " <matplotlib.axis.XTick at 0x7f6cb56d76d0>,\n",
              " <matplotlib.axis.XTick at 0x7f6cacbd5710>,\n",
              " <matplotlib.axis.XTick at 0x7f6cacca1910>,\n",
              " <matplotlib.axis.XTick at 0x7f6cb92487d0>,\n",
              " <matplotlib.axis.XTick at 0x7f6cac9f4990>,\n",
              " <matplotlib.axis.XTick at 0x7f6cb93641d0>,\n",
              " <matplotlib.axis.XTick at 0x7f6caca0dbd0>,\n",
              " Text(0, 0, '0%'),\n",
              " Text(0, 0, '10%'),\n",
              " Text(0, 0, '20%'),\n",
              " Text(0, 0, '30%'),\n",
              " Text(0, 0, '40%'),\n",
              " Text(0, 0, '50%'),\n",
              " Text(0, 0, '60%'),\n",
              " Text(0, 0, '70%'),\n",
              " Text(0, 0, '80%'),\n",
              " Text(0, 0, '90%'),\n",
              " Text(0, 0, '100%'),\n",
              " <matplotlib.axis.XTick at 0x7f6caccf68d0>,\n",
              " <matplotlib.axis.XTick at 0x7f6caccf6c50>,\n",
              " <matplotlib.axis.XTick at 0x7f6cacc10710>,\n",
              " <matplotlib.axis.XTick at 0x7f6cb9253b90>,\n",
              " <matplotlib.axis.XTick at 0x7f6cb505f4d0>,\n",
              " <matplotlib.axis.XTick at 0x7f6cb9250750>,\n",
              " <matplotlib.axis.XTick at 0x7f6cb54be050>,\n",
              " <matplotlib.axis.XTick at 0x7f6cb54be110>,\n",
              " <matplotlib.axis.XTick at 0x7f6cb54be490>,\n",
              " <matplotlib.axis.XTick at 0x7f6cb54be310>,\n",
              " <matplotlib.axis.XTick at 0x7f6cb93de2d0>,\n",
              " Text(0, 0, '0%'),\n",
              " Text(0, 0, '10%'),\n",
              " Text(0, 0, '20%'),\n",
              " Text(0, 0, '30%'),\n",
              " Text(0, 0, '40%'),\n",
              " Text(0, 0, '50%'),\n",
              " Text(0, 0, '60%'),\n",
              " Text(0, 0, '70%'),\n",
              " Text(0, 0, '80%'),\n",
              " Text(0, 0, '90%'),\n",
              " Text(0, 0, '100%'),\n",
              " <matplotlib.axis.XTick at 0x7f6cac7951d0>,\n",
              " <matplotlib.axis.XTick at 0x7f6cac795d50>,\n",
              " <matplotlib.axis.XTick at 0x7f6cac795810>,\n",
              " <matplotlib.axis.XTick at 0x7f6cb9253410>,\n",
              " <matplotlib.axis.XTick at 0x7f6cac849990>,\n",
              " <matplotlib.axis.XTick at 0x7f6cacc02850>,\n",
              " <matplotlib.axis.XTick at 0x7f6cacc02890>,\n",
              " <matplotlib.axis.XTick at 0x7f6cacc02a90>,\n",
              " <matplotlib.axis.XTick at 0x7f6cb92ff810>,\n",
              " <matplotlib.axis.XTick at 0x7f6cb92ffdd0>,\n",
              " <matplotlib.axis.XTick at 0x7f6cb55dd090>,\n",
              " Text(0, 0, '0%'),\n",
              " Text(0, 0, '10%'),\n",
              " Text(0, 0, '20%'),\n",
              " Text(0, 0, '30%'),\n",
              " Text(0, 0, '40%'),\n",
              " Text(0, 0, '50%'),\n",
              " Text(0, 0, '60%'),\n",
              " Text(0, 0, '70%'),\n",
              " Text(0, 0, '80%'),\n",
              " Text(0, 0, '90%'),\n",
              " Text(0, 0, '100%')]"
            ]
          },
          "metadata": {},
          "execution_count": 39
        },
        {
          "output_type": "display_data",
          "data": {
            "image/png": "[encoded data removed]",
            "text/plain": [
              "<Figure size 1080x360 with 3 Axes>"
            ]
          },
          "metadata": {
            "needs_background": "light"
          }
        }
      ],
      "source": [
        "fig, axes = plt.subplots(1, 3, figsize=(15, 5))\n",
        "\n",
        "# tests in D_in\n",
        "diffs_per_class_D_in = study_perturbations(target_model, train_images[train_idx], train_labels[train_idx], r, d) \n",
        "total_diffs_in = sum(diffs_per_class_D_in)/10\n",
        "axes[0].set_title('D_in predicted label divergence');\n",
        "axes[0].barh(list(range(10)), diffs_per_class_D_in, tick_label=[f'Class-{i}' for i in range(10)])\n",
        "\n",
        "# tests in D_out  \n",
        "diffs_per_class_D_out= study_perturbations(target_model,attacker_images[test_idx],attacker_labels[test_idx], r, d)\n",
        "total_diffs_out = sum(diffs_per_class_D_out)/10\n",
        "axes[1].set_title('D_out predicted label divergence');\n",
        "axes[1].barh(list(range(10)), diffs_per_class_D_out, tick_label=[f'Class-{i}' for i in range(10)])\n",
        "\n",
        "axes[2].set_title('Total predicted label divergence percentage');\n",
        "axes[2].barh([1, 0], [total_diffs_in, total_diffs_out], tick_label=['In', 'Out'])\n",
        "\n",
        "plt.setp(axes, xticks=range(0, 101, 10), xticklabels=[f'{i}%' for i in range(0, 101, 10)])"
      ]
    },
    {
      "cell_type": "markdown",
      "source": [
        "We can conclude that $x \\in D_{target}$ are more robust to perturbations, than any other instance not in target's training dataset. Nevertheless, whether the model is overfitted or not plays an important role to this training feature, meaning that the more overfit the model is the easier it gets to infer membership of tested instances. "
      ],
      "metadata": {
        "id": "nfA8cQ8mAioZ"
      }
    },
    {
      "cell_type": "markdown",
      "metadata": {
        "id": "WZOpEdcmCMXX"
      },
      "source": [
        "## Attack a perturbation trained model\n",
        "\n",
        "- We will apply augmentations to the dataset and re-train the target model.\n",
        "- The attacker **does not** know our augmentation settings, so he will train with a normal dataset of zero augmentations\n",
        "- We want to measure the quality of the attack when the target tries to defend MIAs by adding perturbed images of data samples "
      ]
    },
    {
      "cell_type": "code",
      "execution_count": 40,
      "metadata": {
        "id": "4Cl0sR-1I_sG"
      },
      "outputs": [],
      "source": [
        "# We will defend against the same rotations and translations that the attack models uses (worst case for the attacker)\n",
        "rotates = create_rotates(r)\n",
        "translates = create_translates(d)\n",
        "\n",
        "X_train_aug = train_images\n",
        "X_eval_aug = eval_images\n",
        "y_train_aug = np.concatenate(tuple([train_labels] + [train_labels for rot in rotates] + [train_labels for tra in translates]))\n",
        "y_eval_aug = np.concatenate(tuple([eval_labels] + [eval_labels for rot in rotates] + [eval_labels for tra in translates]))\n",
        "\n",
        "\n",
        "\n",
        "for rot in rotates:\n",
        "  aug_x = apply_augment(train_images, rot, 'r')\n",
        "  X_train_aug = np.concatenate((X_train_aug,aug_x))\n",
        "  aug_x = apply_augment(eval_images, rot, 'r')\n",
        "  X_eval_aug = np.concatenate((X_eval_aug,aug_x))\n",
        "\n",
        "for tra in translates:\n",
        "  aug_x = apply_augment(train_images, tra, 'd')\n",
        "  X_train_aug = np.concatenate((X_train_aug,aug_x))\n",
        "  aug_x = apply_augment(eval_images, tra, 'd')\n",
        "  X_eval_aug = np.concatenate((X_eval_aug ,aug_x))\n"
      ]
    },
    {
      "cell_type": "code",
      "execution_count": 41,
      "metadata": {
        "id": "JaNvyxztuwED",
        "colab": {
          "base_uri": "https://localhost:8080/"
        },
        "outputId": "3e3cd9d5-f654-4f50-b8ef-686a5438156f"
      },
      "outputs": [
        {
          "output_type": "stream",
          "name": "stdout",
          "text": [
            "Epoch 1/10\n",
            "813/813 [==============================] - 7s 8ms/step - loss: 0.5658 - accuracy: 0.8776 - val_loss: 0.3183 - val_accuracy: 0.9285\n",
            "Epoch 2/10\n",
            "813/813 [==============================] - 7s 8ms/step - loss: 0.0431 - accuracy: 0.9873 - val_loss: 0.2774 - val_accuracy: 0.9457\n",
            "Epoch 3/10\n",
            "813/813 [==============================] - 6s 8ms/step - loss: 0.0287 - accuracy: 0.9914 - val_loss: 0.4475 - val_accuracy: 0.9345\n",
            "Epoch 4/10\n",
            "813/813 [==============================] - 6s 8ms/step - loss: 0.0219 - accuracy: 0.9942 - val_loss: 0.2932 - val_accuracy: 0.9551\n",
            "Epoch 5/10\n",
            "813/813 [==============================] - 5s 7ms/step - loss: 0.0214 - accuracy: 0.9942 - val_loss: 0.4889 - val_accuracy: 0.9414\n",
            "Epoch 6/10\n",
            "813/813 [==============================] - 5s 7ms/step - loss: 0.0195 - accuracy: 0.9943 - val_loss: 0.4097 - val_accuracy: 0.9483\n",
            "Epoch 7/10\n",
            "813/813 [==============================] - 6s 7ms/step - loss: 0.0164 - accuracy: 0.9961 - val_loss: 0.4123 - val_accuracy: 0.9522\n",
            "Epoch 8/10\n",
            "813/813 [==============================] - 6s 7ms/step - loss: 0.0171 - accuracy: 0.9956 - val_loss: 0.4981 - val_accuracy: 0.9554\n",
            "Epoch 9/10\n",
            "813/813 [==============================] - 5s 7ms/step - loss: 0.0111 - accuracy: 0.9977 - val_loss: 0.3957 - val_accuracy: 0.9618\n",
            "Epoch 10/10\n",
            "813/813 [==============================] - 6s 8ms/step - loss: 0.0144 - accuracy: 0.9968 - val_loss: 0.6234 - val_accuracy: 0.9437\n"
          ]
        }
      ],
      "source": [
        "\n",
        "with tf.device('/gpu:0'):\n",
        "  X_train_aug = tf.convert_to_tensor(X_train_aug)\n",
        "  y_train_aug = tf.convert_to_tensor(y_train_aug)\n",
        "  X_eval_aug = tf.convert_to_tensor(X_eval_aug)\n",
        "  y_eval_aug = tf.convert_to_tensor(y_eval_aug)\n",
        "  target_model = f_target(X_train_aug, y_train_aug, X_eval_aug, y_eval_aug, epochs=10) "
      ]
    },
    {
      "cell_type": "markdown",
      "metadata": {
        "id": "bsRYuPrCUBWl"
      },
      "source": [
        "The model is quite overfitted so now all that is left is to evaluate the attack model we created before on the newly trained and \"defended\" target model with perturbations in the train dataset."
      ]
    },
    {
      "cell_type": "code",
      "execution_count": 42,
      "metadata": {
        "id": "zyt1sD06SBFa",
        "colab": {
          "base_uri": "https://localhost:8080/",
          "height": 612
        },
        "outputId": "bae5c7d1-5e6e-417a-fb30-57acbc5af48e"
      },
      "outputs": [
        {
          "output_type": "stream",
          "name": "stdout",
          "text": [
            "class-1 acc: 0.5206185579299927\n",
            "class-2 acc: 0.467980295419693\n",
            "class-3 acc: 0.5550239086151123\n",
            "class-4 acc: 0.5291262269020081\n",
            "class-5 acc: 0.521276593208313\n",
            "class-6 acc: 0.5485714077949524\n",
            "class-7 acc: 0.5069124698638916\n",
            "class-8 acc: 0.5906976461410522\n",
            "class-9 acc: 0.621052622795105\n",
            "class-10 acc: 0.5812807679176331\n",
            "              precision    recall  f1-score   support\n",
            "\n",
            "         0.0       0.83      0.11      0.19      1000\n",
            "         1.0       0.52      0.98      0.68      1000\n",
            "\n",
            "    accuracy                           0.54      2000\n",
            "   macro avg       0.68      0.54      0.44      2000\n",
            "weighted avg       0.68      0.54      0.44      2000\n",
            "\n",
            "AUC: 0.5257385\n"
          ]
        },
        {
          "output_type": "display_data",
          "data": {
            "image/png": "[encoded data removed]",
            "text/plain": [
              "<Figure size 432x288 with 1 Axes>"
            ]
          },
          "metadata": {
            "needs_background": "light"
          }
        }
      ],
      "source": [
        "D_in = attack_model.prepare_batch(target_model, train_images[:1000], train_labels[:1000], True)\n",
        "\n",
        "D_out = attack_model.prepare_batch(target_model, attacker_images[:1000], attacker_labels[:1000], False)\n",
        "\n",
        "attack_model.evaluate(np.concatenate((D_out[:, :-1], D_in[:, :-1])),  np.concatenate((D_out[:, -1], D_in[:, -1])), 10)"
      ]
    },
    {
      "cell_type": "markdown",
      "metadata": {
        "id": "fW_JINmBUgd_"
      },
      "source": [
        "### Conclusion\n",
        "\n",
        "To conclude if the model is more vulnerable, we must meassure the label divergence percentage in the adjusted-to-augmentations model."
      ]
    },
    {
      "cell_type": "code",
      "execution_count": 43,
      "metadata": {
        "id": "OWDU6N1uSCnA",
        "colab": {
          "base_uri": "https://localhost:8080/",
          "height": 1000
        },
        "outputId": "0133d3f7-f927-45eb-cdc1-dc3a532a1724"
      },
      "outputs": [
        {
          "output_type": "execute_result",
          "data": {
            "text/plain": [
              "[<matplotlib.axis.XTick at 0x7f6caaed52d0>,\n",
              " <matplotlib.axis.XTick at 0x7f6caaed5050>,\n",
              " <matplotlib.axis.XTick at 0x7f6cb5511210>,\n",
              " <matplotlib.axis.XTick at 0x7f6caadd40d0>,\n",
              " <matplotlib.axis.XTick at 0x7f6caadd3b10>,\n",
              " <matplotlib.axis.XTick at 0x7f6cb56cab50>,\n",
              " <matplotlib.axis.XTick at 0x7f6cb56ca050>,\n",
              " <matplotlib.axis.XTick at 0x7f6cb56ca290>,\n",
              " <matplotlib.axis.XTick at 0x7f6cb5486c50>,\n",
              " <matplotlib.axis.XTick at 0x7f6cb54862d0>,\n",
              " <matplotlib.axis.XTick at 0x7f6cacc03690>,\n",
              " Text(0, 0, '0%'),\n",
              " Text(0, 0, '10%'),\n",
              " Text(0, 0, '20%'),\n",
              " Text(0, 0, '30%'),\n",
              " Text(0, 0, '40%'),\n",
              " Text(0, 0, '50%'),\n",
              " Text(0, 0, '60%'),\n",
              " Text(0, 0, '70%'),\n",
              " Text(0, 0, '80%'),\n",
              " Text(0, 0, '90%'),\n",
              " Text(0, 0, '100%'),\n",
              " <matplotlib.axis.XTick at 0x7f6caadd4ad0>,\n",
              " <matplotlib.axis.XTick at 0x7f6caadd4b10>,\n",
              " <matplotlib.axis.XTick at 0x7f6caadd4c90>,\n",
              " <matplotlib.axis.XTick at 0x7f6cacc8c490>,\n",
              " <matplotlib.axis.XTick at 0x7f6cb55a8450>,\n",
              " <matplotlib.axis.XTick at 0x7f6cb5f82ad0>,\n",
              " <matplotlib.axis.XTick at 0x7f6cb5058450>,\n",
              " <matplotlib.axis.XTick at 0x7f6cb54b5c10>,\n",
              " <matplotlib.axis.XTick at 0x7f6cb54b5050>,\n",
              " <matplotlib.axis.XTick at 0x7f6cac92bb50>,\n",
              " <matplotlib.axis.XTick at 0x7f6cac92bd50>,\n",
              " Text(0, 0, '0%'),\n",
              " Text(0, 0, '10%'),\n",
              " Text(0, 0, '20%'),\n",
              " Text(0, 0, '30%'),\n",
              " Text(0, 0, '40%'),\n",
              " Text(0, 0, '50%'),\n",
              " Text(0, 0, '60%'),\n",
              " Text(0, 0, '70%'),\n",
              " Text(0, 0, '80%'),\n",
              " Text(0, 0, '90%'),\n",
              " Text(0, 0, '100%'),\n",
              " <matplotlib.axis.XTick at 0x7f6caaef8810>,\n",
              " <matplotlib.axis.XTick at 0x7f6caaef8110>,\n",
              " <matplotlib.axis.XTick at 0x7f6cb54b5410>,\n",
              " <matplotlib.axis.XTick at 0x7f6cb5592fd0>,\n",
              " <matplotlib.axis.XTick at 0x7f6cac9e5ed0>,\n",
              " <matplotlib.axis.XTick at 0x7f6cac9e5790>,\n",
              " <matplotlib.axis.XTick at 0x7f6cb567cd90>,\n",
              " <matplotlib.axis.XTick at 0x7f6cac9e5e90>,\n",
              " <matplotlib.axis.XTick at 0x7f6cacc157d0>,\n",
              " <matplotlib.axis.XTick at 0x7f6cacc15550>,\n",
              " <matplotlib.axis.XTick at 0x7f6cb93239d0>,\n",
              " Text(0, 0, '0%'),\n",
              " Text(0, 0, '10%'),\n",
              " Text(0, 0, '20%'),\n",
              " Text(0, 0, '30%'),\n",
              " Text(0, 0, '40%'),\n",
              " Text(0, 0, '50%'),\n",
              " Text(0, 0, '60%'),\n",
              " Text(0, 0, '70%'),\n",
              " Text(0, 0, '80%'),\n",
              " Text(0, 0, '90%'),\n",
              " Text(0, 0, '100%')]"
            ]
          },
          "metadata": {},
          "execution_count": 43
        },
        {
          "output_type": "display_data",
          "data": {
            "image/png": "[encoded data removed]",
            "text/plain": [
              "<Figure size 1080x360 with 3 Axes>"
            ]
          },
          "metadata": {
            "needs_background": "light"
          }
        }
      ],
      "source": [
        "# test it onthe same data as we tested the non-adjusted to augmentation model\n",
        "fig, axes = plt.subplots(1, 3, figsize=(15, 5))\n",
        "\n",
        "# tests in D_in\n",
        "diffs_per_class_D_in = study_perturbations(target_model, train_images[train_idx], train_labels[train_idx], r, d) \n",
        "total_diffs_in = sum(diffs_per_class_D_in)/10\n",
        "axes[0].set_title('D_in predicted label divergence');\n",
        "axes[0].barh(list(range(10)), diffs_per_class_D_in, tick_label=[f'Class-{i}' for i in range(10)])\n",
        "\n",
        "# tests in D_out  \n",
        "diffs_per_class_D_out= study_perturbations(target_model,attacker_images[test_idx],attacker_labels[test_idx], r, d)\n",
        "total_diffs_out = sum(diffs_per_class_D_out)/10\n",
        "axes[1].set_title('D_out predicted label divergence');\n",
        "axes[1].barh(list(range(10)), diffs_per_class_D_out, tick_label=[f'Class-{i}' for i in range(10)])\n",
        "\n",
        "axes[2].set_title('Total predicted label divergence percentage');\n",
        "axes[2].barh([1, 0], [total_diffs_in, total_diffs_out], tick_label=['In', 'Out'])\n",
        "\n",
        "plt.setp(axes, xticks=range(0, 101, 10), xticklabels=[f'{i}%' for i in range(0, 101, 10)])"
      ]
    },
    {
      "cell_type": "markdown",
      "metadata": {
        "id": "VVyVo6yukPGH"
      },
      "source": [
        "We can see that the general percentage of predicted label divergence has fallen, **but** the confidence of the ML algorithm in predicting the label of perturbed instances of instances in $D_{target}$ is better that before and that is realized by the increase of the AUC value (~0.52 when before ~0.51). This means that the adjusted model is even more vulnerable and our attack predicts membership with high sensitivity to the predicted label changes. Next step is to run all with some defences on."
      ]
    },
    {
      "cell_type": "code",
      "source": [
        ""
      ],
      "metadata": {
        "id": "229vDaGl1kKq"
      },
      "execution_count": 43,
      "outputs": []
    }
  ],
  "metadata": {
    "accelerator": "GPU",
    "colab": {
      "collapsed_sections": [],
      "name": "cifar_10_labels_only_mia-v2.ipynb",
      "provenance": []
    },
    "kernelspec": {
      "display_name": "Python 3",
      "name": "python3"
    },
    "language_info": {
      "codemirror_mode": {
        "name": "ipython",
        "version": 3
      },
      "file_extension": ".py",
      "mimetype": "text/x-python",
      "name": "python",
      "nbconvert_exporter": "python",
      "pygments_lexer": "ipython3",
      "version": "3.8.10"
    }
  },
  "nbformat": 4,
  "nbformat_minor": 0
}